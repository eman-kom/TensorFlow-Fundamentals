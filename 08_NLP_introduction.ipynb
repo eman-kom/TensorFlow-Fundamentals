{
  "nbformat": 4,
  "nbformat_minor": 0,
  "metadata": {
    "colab": {
      "name": "08_NLP_introduction.ipynb",
      "provenance": [],
      "collapsed_sections": [],
      "authorship_tag": "ABX9TyN73l+X42ZtxxQEh+EgVTYI",
      "include_colab_link": true
    },
    "kernelspec": {
      "name": "python3",
      "display_name": "Python 3"
    },
    "language_info": {
      "name": "python"
    },
    "accelerator": "GPU",
    "gpuClass": "standard"
  },
  "cells": [
    {
      "cell_type": "markdown",
      "metadata": {
        "id": "view-in-github",
        "colab_type": "text"
      },
      "source": [
        "<a href=\"https://colab.research.google.com/github/eman-kom/tensorflow-fundamentals/blob/main/08_NLP_introduction.ipynb\" target=\"_parent\"><img src=\"https://colab.research.google.com/assets/colab-badge.svg\" alt=\"Open In Colab\"/></a>"
      ]
    },
    {
      "cell_type": "code",
      "execution_count": 1,
      "metadata": {
        "colab": {
          "base_uri": "https://localhost:8080/"
        },
        "id": "tpZT3jVCPpJW",
        "outputId": "c663c3f4-4b76-44e9-da44-2d637ea9c5c4"
      },
      "outputs": [
        {
          "output_type": "stream",
          "name": "stdout",
          "text": [
            "GPU 0: Tesla T4 (UUID: GPU-b753c893-e0db-5c03-a6e0-5d65d3e7efcf)\n"
          ]
        }
      ],
      "source": [
        "!nvidia-smi -L"
      ]
    },
    {
      "cell_type": "code",
      "source": [
        "!wget https://raw.githubusercontent.com/mrdbourke/tensorflow-deep-learning/main/extras/helper_functions.py"
      ],
      "metadata": {
        "colab": {
          "base_uri": "https://localhost:8080/"
        },
        "id": "aupYUIY7QAYD",
        "outputId": "70067d1d-1ea5-419f-e220-be9ab026a2ca"
      },
      "execution_count": 2,
      "outputs": [
        {
          "output_type": "stream",
          "name": "stdout",
          "text": [
            "--2022-07-10 02:33:21--  https://raw.githubusercontent.com/mrdbourke/tensorflow-deep-learning/main/extras/helper_functions.py\n",
            "Resolving raw.githubusercontent.com (raw.githubusercontent.com)... 185.199.108.133, 185.199.109.133, 185.199.110.133, ...\n",
            "Connecting to raw.githubusercontent.com (raw.githubusercontent.com)|185.199.108.133|:443... connected.\n",
            "HTTP request sent, awaiting response... 200 OK\n",
            "Length: 10246 (10K) [text/plain]\n",
            "Saving to: ‘helper_functions.py’\n",
            "\n",
            "helper_functions.py 100%[===================>]  10.01K  --.-KB/s    in 0s      \n",
            "\n",
            "2022-07-10 02:33:21 (99.9 MB/s) - ‘helper_functions.py’ saved [10246/10246]\n",
            "\n"
          ]
        }
      ]
    },
    {
      "cell_type": "code",
      "source": [
        "from helper_functions import unzip_data, create_tensorboard_callback, plot_loss_curves, compare_historys"
      ],
      "metadata": {
        "id": "9BoasXQDQUCE"
      },
      "execution_count": 3,
      "outputs": []
    },
    {
      "cell_type": "code",
      "source": [
        "!wget https://storage.googleapis.com/ztm_tf_course/nlp_getting_started.zip\n",
        "\n",
        "unzip_data(\"nlp_getting_started.zip\")"
      ],
      "metadata": {
        "colab": {
          "base_uri": "https://localhost:8080/"
        },
        "id": "g3DP5xPCQerB",
        "outputId": "bb390ef8-2d2e-4dc4-c36e-3a753c5807c7"
      },
      "execution_count": 4,
      "outputs": [
        {
          "output_type": "stream",
          "name": "stdout",
          "text": [
            "--2022-07-10 02:33:24--  https://storage.googleapis.com/ztm_tf_course/nlp_getting_started.zip\n",
            "Resolving storage.googleapis.com (storage.googleapis.com)... 74.125.200.128, 74.125.68.128, 172.253.118.128, ...\n",
            "Connecting to storage.googleapis.com (storage.googleapis.com)|74.125.200.128|:443... connected.\n",
            "HTTP request sent, awaiting response... 200 OK\n",
            "Length: 607343 (593K) [application/zip]\n",
            "Saving to: ‘nlp_getting_started.zip’\n",
            "\n",
            "nlp_getting_started 100%[===================>] 593.11K  --.-KB/s    in 0.004s  \n",
            "\n",
            "2022-07-10 02:33:24 (129 MB/s) - ‘nlp_getting_started.zip’ saved [607343/607343]\n",
            "\n"
          ]
        }
      ]
    },
    {
      "cell_type": "code",
      "source": [
        "import pandas as pd\n",
        "\n",
        "train_df = pd.read_csv(\"train.csv\")\n",
        "test_df = pd.read_csv(\"test.csv\")\n",
        "\n",
        "train_df.head()"
      ],
      "metadata": {
        "colab": {
          "base_uri": "https://localhost:8080/",
          "height": 206
        },
        "id": "9XBs9MiTQzzM",
        "outputId": "e59093e8-e491-47cc-f364-f247fb9f6263"
      },
      "execution_count": 5,
      "outputs": [
        {
          "output_type": "execute_result",
          "data": {
            "text/plain": [
              "   id keyword location                                               text  \\\n",
              "0   1     NaN      NaN  Our Deeds are the Reason of this #earthquake M...   \n",
              "1   4     NaN      NaN             Forest fire near La Ronge Sask. Canada   \n",
              "2   5     NaN      NaN  All residents asked to 'shelter in place' are ...   \n",
              "3   6     NaN      NaN  13,000 people receive #wildfires evacuation or...   \n",
              "4   7     NaN      NaN  Just got sent this photo from Ruby #Alaska as ...   \n",
              "\n",
              "   target  \n",
              "0       1  \n",
              "1       1  \n",
              "2       1  \n",
              "3       1  \n",
              "4       1  "
            ],
            "text/html": [
              "\n",
              "  <div id=\"df-7cf0f338-8088-41e0-9890-c1c6e6d43f11\">\n",
              "    <div class=\"colab-df-container\">\n",
              "      <div>\n",
              "<style scoped>\n",
              "    .dataframe tbody tr th:only-of-type {\n",
              "        vertical-align: middle;\n",
              "    }\n",
              "\n",
              "    .dataframe tbody tr th {\n",
              "        vertical-align: top;\n",
              "    }\n",
              "\n",
              "    .dataframe thead th {\n",
              "        text-align: right;\n",
              "    }\n",
              "</style>\n",
              "<table border=\"1\" class=\"dataframe\">\n",
              "  <thead>\n",
              "    <tr style=\"text-align: right;\">\n",
              "      <th></th>\n",
              "      <th>id</th>\n",
              "      <th>keyword</th>\n",
              "      <th>location</th>\n",
              "      <th>text</th>\n",
              "      <th>target</th>\n",
              "    </tr>\n",
              "  </thead>\n",
              "  <tbody>\n",
              "    <tr>\n",
              "      <th>0</th>\n",
              "      <td>1</td>\n",
              "      <td>NaN</td>\n",
              "      <td>NaN</td>\n",
              "      <td>Our Deeds are the Reason of this #earthquake M...</td>\n",
              "      <td>1</td>\n",
              "    </tr>\n",
              "    <tr>\n",
              "      <th>1</th>\n",
              "      <td>4</td>\n",
              "      <td>NaN</td>\n",
              "      <td>NaN</td>\n",
              "      <td>Forest fire near La Ronge Sask. Canada</td>\n",
              "      <td>1</td>\n",
              "    </tr>\n",
              "    <tr>\n",
              "      <th>2</th>\n",
              "      <td>5</td>\n",
              "      <td>NaN</td>\n",
              "      <td>NaN</td>\n",
              "      <td>All residents asked to 'shelter in place' are ...</td>\n",
              "      <td>1</td>\n",
              "    </tr>\n",
              "    <tr>\n",
              "      <th>3</th>\n",
              "      <td>6</td>\n",
              "      <td>NaN</td>\n",
              "      <td>NaN</td>\n",
              "      <td>13,000 people receive #wildfires evacuation or...</td>\n",
              "      <td>1</td>\n",
              "    </tr>\n",
              "    <tr>\n",
              "      <th>4</th>\n",
              "      <td>7</td>\n",
              "      <td>NaN</td>\n",
              "      <td>NaN</td>\n",
              "      <td>Just got sent this photo from Ruby #Alaska as ...</td>\n",
              "      <td>1</td>\n",
              "    </tr>\n",
              "  </tbody>\n",
              "</table>\n",
              "</div>\n",
              "      <button class=\"colab-df-convert\" onclick=\"convertToInteractive('df-7cf0f338-8088-41e0-9890-c1c6e6d43f11')\"\n",
              "              title=\"Convert this dataframe to an interactive table.\"\n",
              "              style=\"display:none;\">\n",
              "        \n",
              "  <svg xmlns=\"http://www.w3.org/2000/svg\" height=\"24px\"viewBox=\"0 0 24 24\"\n",
              "       width=\"24px\">\n",
              "    <path d=\"M0 0h24v24H0V0z\" fill=\"none\"/>\n",
              "    <path d=\"M18.56 5.44l.94 2.06.94-2.06 2.06-.94-2.06-.94-.94-2.06-.94 2.06-2.06.94zm-11 1L8.5 8.5l.94-2.06 2.06-.94-2.06-.94L8.5 2.5l-.94 2.06-2.06.94zm10 10l.94 2.06.94-2.06 2.06-.94-2.06-.94-.94-2.06-.94 2.06-2.06.94z\"/><path d=\"M17.41 7.96l-1.37-1.37c-.4-.4-.92-.59-1.43-.59-.52 0-1.04.2-1.43.59L10.3 9.45l-7.72 7.72c-.78.78-.78 2.05 0 2.83L4 21.41c.39.39.9.59 1.41.59.51 0 1.02-.2 1.41-.59l7.78-7.78 2.81-2.81c.8-.78.8-2.07 0-2.86zM5.41 20L4 18.59l7.72-7.72 1.47 1.35L5.41 20z\"/>\n",
              "  </svg>\n",
              "      </button>\n",
              "      \n",
              "  <style>\n",
              "    .colab-df-container {\n",
              "      display:flex;\n",
              "      flex-wrap:wrap;\n",
              "      gap: 12px;\n",
              "    }\n",
              "\n",
              "    .colab-df-convert {\n",
              "      background-color: #E8F0FE;\n",
              "      border: none;\n",
              "      border-radius: 50%;\n",
              "      cursor: pointer;\n",
              "      display: none;\n",
              "      fill: #1967D2;\n",
              "      height: 32px;\n",
              "      padding: 0 0 0 0;\n",
              "      width: 32px;\n",
              "    }\n",
              "\n",
              "    .colab-df-convert:hover {\n",
              "      background-color: #E2EBFA;\n",
              "      box-shadow: 0px 1px 2px rgba(60, 64, 67, 0.3), 0px 1px 3px 1px rgba(60, 64, 67, 0.15);\n",
              "      fill: #174EA6;\n",
              "    }\n",
              "\n",
              "    [theme=dark] .colab-df-convert {\n",
              "      background-color: #3B4455;\n",
              "      fill: #D2E3FC;\n",
              "    }\n",
              "\n",
              "    [theme=dark] .colab-df-convert:hover {\n",
              "      background-color: #434B5C;\n",
              "      box-shadow: 0px 1px 3px 1px rgba(0, 0, 0, 0.15);\n",
              "      filter: drop-shadow(0px 1px 2px rgba(0, 0, 0, 0.3));\n",
              "      fill: #FFFFFF;\n",
              "    }\n",
              "  </style>\n",
              "\n",
              "      <script>\n",
              "        const buttonEl =\n",
              "          document.querySelector('#df-7cf0f338-8088-41e0-9890-c1c6e6d43f11 button.colab-df-convert');\n",
              "        buttonEl.style.display =\n",
              "          google.colab.kernel.accessAllowed ? 'block' : 'none';\n",
              "\n",
              "        async function convertToInteractive(key) {\n",
              "          const element = document.querySelector('#df-7cf0f338-8088-41e0-9890-c1c6e6d43f11');\n",
              "          const dataTable =\n",
              "            await google.colab.kernel.invokeFunction('convertToInteractive',\n",
              "                                                     [key], {});\n",
              "          if (!dataTable) return;\n",
              "\n",
              "          const docLinkHtml = 'Like what you see? Visit the ' +\n",
              "            '<a target=\"_blank\" href=https://colab.research.google.com/notebooks/data_table.ipynb>data table notebook</a>'\n",
              "            + ' to learn more about interactive tables.';\n",
              "          element.innerHTML = '';\n",
              "          dataTable['output_type'] = 'display_data';\n",
              "          await google.colab.output.renderOutput(dataTable, element);\n",
              "          const docLink = document.createElement('div');\n",
              "          docLink.innerHTML = docLinkHtml;\n",
              "          element.appendChild(docLink);\n",
              "        }\n",
              "      </script>\n",
              "    </div>\n",
              "  </div>\n",
              "  "
            ]
          },
          "metadata": {},
          "execution_count": 5
        }
      ]
    },
    {
      "cell_type": "code",
      "source": [
        "train_df_shuffled = train_df.sample(frac=1, random_state=42)\n",
        "train_df_shuffled.head()"
      ],
      "metadata": {
        "colab": {
          "base_uri": "https://localhost:8080/",
          "height": 206
        },
        "id": "Wb-sB9b7VOSj",
        "outputId": "a385e582-7f4b-4312-ed33-127e62afb156"
      },
      "execution_count": 6,
      "outputs": [
        {
          "output_type": "execute_result",
          "data": {
            "text/plain": [
              "        id      keyword               location  \\\n",
              "2644  3796  destruction                    NaN   \n",
              "2227  3185       deluge                    NaN   \n",
              "5448  7769       police                     UK   \n",
              "132    191   aftershock                    NaN   \n",
              "6845  9810       trauma  Montgomery County, MD   \n",
              "\n",
              "                                                   text  target  \n",
              "2644  So you have a new weapon that can cause un-ima...       1  \n",
              "2227  The f$&amp;@ing things I do for #GISHWHES Just...       0  \n",
              "5448  DT @georgegalloway: RT @Galloway4Mayor: ÛÏThe...       1  \n",
              "132   Aftershock back to school kick off was great. ...       0  \n",
              "6845  in response to trauma Children of Addicts deve...       0  "
            ],
            "text/html": [
              "\n",
              "  <div id=\"df-c881cf99-a36c-480e-ae8a-cfc18d6e78e7\">\n",
              "    <div class=\"colab-df-container\">\n",
              "      <div>\n",
              "<style scoped>\n",
              "    .dataframe tbody tr th:only-of-type {\n",
              "        vertical-align: middle;\n",
              "    }\n",
              "\n",
              "    .dataframe tbody tr th {\n",
              "        vertical-align: top;\n",
              "    }\n",
              "\n",
              "    .dataframe thead th {\n",
              "        text-align: right;\n",
              "    }\n",
              "</style>\n",
              "<table border=\"1\" class=\"dataframe\">\n",
              "  <thead>\n",
              "    <tr style=\"text-align: right;\">\n",
              "      <th></th>\n",
              "      <th>id</th>\n",
              "      <th>keyword</th>\n",
              "      <th>location</th>\n",
              "      <th>text</th>\n",
              "      <th>target</th>\n",
              "    </tr>\n",
              "  </thead>\n",
              "  <tbody>\n",
              "    <tr>\n",
              "      <th>2644</th>\n",
              "      <td>3796</td>\n",
              "      <td>destruction</td>\n",
              "      <td>NaN</td>\n",
              "      <td>So you have a new weapon that can cause un-ima...</td>\n",
              "      <td>1</td>\n",
              "    </tr>\n",
              "    <tr>\n",
              "      <th>2227</th>\n",
              "      <td>3185</td>\n",
              "      <td>deluge</td>\n",
              "      <td>NaN</td>\n",
              "      <td>The f$&amp;amp;@ing things I do for #GISHWHES Just...</td>\n",
              "      <td>0</td>\n",
              "    </tr>\n",
              "    <tr>\n",
              "      <th>5448</th>\n",
              "      <td>7769</td>\n",
              "      <td>police</td>\n",
              "      <td>UK</td>\n",
              "      <td>DT @georgegalloway: RT @Galloway4Mayor: ÛÏThe...</td>\n",
              "      <td>1</td>\n",
              "    </tr>\n",
              "    <tr>\n",
              "      <th>132</th>\n",
              "      <td>191</td>\n",
              "      <td>aftershock</td>\n",
              "      <td>NaN</td>\n",
              "      <td>Aftershock back to school kick off was great. ...</td>\n",
              "      <td>0</td>\n",
              "    </tr>\n",
              "    <tr>\n",
              "      <th>6845</th>\n",
              "      <td>9810</td>\n",
              "      <td>trauma</td>\n",
              "      <td>Montgomery County, MD</td>\n",
              "      <td>in response to trauma Children of Addicts deve...</td>\n",
              "      <td>0</td>\n",
              "    </tr>\n",
              "  </tbody>\n",
              "</table>\n",
              "</div>\n",
              "      <button class=\"colab-df-convert\" onclick=\"convertToInteractive('df-c881cf99-a36c-480e-ae8a-cfc18d6e78e7')\"\n",
              "              title=\"Convert this dataframe to an interactive table.\"\n",
              "              style=\"display:none;\">\n",
              "        \n",
              "  <svg xmlns=\"http://www.w3.org/2000/svg\" height=\"24px\"viewBox=\"0 0 24 24\"\n",
              "       width=\"24px\">\n",
              "    <path d=\"M0 0h24v24H0V0z\" fill=\"none\"/>\n",
              "    <path d=\"M18.56 5.44l.94 2.06.94-2.06 2.06-.94-2.06-.94-.94-2.06-.94 2.06-2.06.94zm-11 1L8.5 8.5l.94-2.06 2.06-.94-2.06-.94L8.5 2.5l-.94 2.06-2.06.94zm10 10l.94 2.06.94-2.06 2.06-.94-2.06-.94-.94-2.06-.94 2.06-2.06.94z\"/><path d=\"M17.41 7.96l-1.37-1.37c-.4-.4-.92-.59-1.43-.59-.52 0-1.04.2-1.43.59L10.3 9.45l-7.72 7.72c-.78.78-.78 2.05 0 2.83L4 21.41c.39.39.9.59 1.41.59.51 0 1.02-.2 1.41-.59l7.78-7.78 2.81-2.81c.8-.78.8-2.07 0-2.86zM5.41 20L4 18.59l7.72-7.72 1.47 1.35L5.41 20z\"/>\n",
              "  </svg>\n",
              "      </button>\n",
              "      \n",
              "  <style>\n",
              "    .colab-df-container {\n",
              "      display:flex;\n",
              "      flex-wrap:wrap;\n",
              "      gap: 12px;\n",
              "    }\n",
              "\n",
              "    .colab-df-convert {\n",
              "      background-color: #E8F0FE;\n",
              "      border: none;\n",
              "      border-radius: 50%;\n",
              "      cursor: pointer;\n",
              "      display: none;\n",
              "      fill: #1967D2;\n",
              "      height: 32px;\n",
              "      padding: 0 0 0 0;\n",
              "      width: 32px;\n",
              "    }\n",
              "\n",
              "    .colab-df-convert:hover {\n",
              "      background-color: #E2EBFA;\n",
              "      box-shadow: 0px 1px 2px rgba(60, 64, 67, 0.3), 0px 1px 3px 1px rgba(60, 64, 67, 0.15);\n",
              "      fill: #174EA6;\n",
              "    }\n",
              "\n",
              "    [theme=dark] .colab-df-convert {\n",
              "      background-color: #3B4455;\n",
              "      fill: #D2E3FC;\n",
              "    }\n",
              "\n",
              "    [theme=dark] .colab-df-convert:hover {\n",
              "      background-color: #434B5C;\n",
              "      box-shadow: 0px 1px 3px 1px rgba(0, 0, 0, 0.15);\n",
              "      filter: drop-shadow(0px 1px 2px rgba(0, 0, 0, 0.3));\n",
              "      fill: #FFFFFF;\n",
              "    }\n",
              "  </style>\n",
              "\n",
              "      <script>\n",
              "        const buttonEl =\n",
              "          document.querySelector('#df-c881cf99-a36c-480e-ae8a-cfc18d6e78e7 button.colab-df-convert');\n",
              "        buttonEl.style.display =\n",
              "          google.colab.kernel.accessAllowed ? 'block' : 'none';\n",
              "\n",
              "        async function convertToInteractive(key) {\n",
              "          const element = document.querySelector('#df-c881cf99-a36c-480e-ae8a-cfc18d6e78e7');\n",
              "          const dataTable =\n",
              "            await google.colab.kernel.invokeFunction('convertToInteractive',\n",
              "                                                     [key], {});\n",
              "          if (!dataTable) return;\n",
              "\n",
              "          const docLinkHtml = 'Like what you see? Visit the ' +\n",
              "            '<a target=\"_blank\" href=https://colab.research.google.com/notebooks/data_table.ipynb>data table notebook</a>'\n",
              "            + ' to learn more about interactive tables.';\n",
              "          element.innerHTML = '';\n",
              "          dataTable['output_type'] = 'display_data';\n",
              "          await google.colab.output.renderOutput(dataTable, element);\n",
              "          const docLink = document.createElement('div');\n",
              "          docLink.innerHTML = docLinkHtml;\n",
              "          element.appendChild(docLink);\n",
              "        }\n",
              "      </script>\n",
              "    </div>\n",
              "  </div>\n",
              "  "
            ]
          },
          "metadata": {},
          "execution_count": 6
        }
      ]
    },
    {
      "cell_type": "code",
      "source": [
        "train_df.target.value_counts()"
      ],
      "metadata": {
        "colab": {
          "base_uri": "https://localhost:8080/"
        },
        "id": "gHJVx2hiVa4t",
        "outputId": "55383150-0595-4b41-d33e-67489c3d47ee"
      },
      "execution_count": 7,
      "outputs": [
        {
          "output_type": "execute_result",
          "data": {
            "text/plain": [
              "0    4342\n",
              "1    3271\n",
              "Name: target, dtype: int64"
            ]
          },
          "metadata": {},
          "execution_count": 7
        }
      ]
    },
    {
      "cell_type": "code",
      "source": [
        "len(train_df), len(test_df)"
      ],
      "metadata": {
        "colab": {
          "base_uri": "https://localhost:8080/"
        },
        "id": "wn8f3s9XVqJL",
        "outputId": "7d18ad15-a7a3-44be-87f2-701d5aaf0c63"
      },
      "execution_count": 8,
      "outputs": [
        {
          "output_type": "execute_result",
          "data": {
            "text/plain": [
              "(7613, 3263)"
            ]
          },
          "metadata": {},
          "execution_count": 8
        }
      ]
    },
    {
      "cell_type": "code",
      "source": [
        "import random\n",
        "random_index = random.randint(0, len(train_df)-5)\n",
        "\n",
        "for row in train_df_shuffled[[\"text\", \"target\"]][random_index:random_index+5].itertuples():\n",
        "  _, text, target = row\n",
        "  print(f\"Target: {target}\", \"<real disaster>\" if target > 0 else \"<not a real disaster>\")\n",
        "  print(f\"Text\\n{text}\\n\")\n",
        "  print(\"---\\n\")"
      ],
      "metadata": {
        "colab": {
          "base_uri": "https://localhost:8080/"
        },
        "id": "5voqlVAIVvBC",
        "outputId": "7c52fd16-622e-4e33-cee0-f857b12c7509"
      },
      "execution_count": 9,
      "outputs": [
        {
          "output_type": "stream",
          "name": "stdout",
          "text": [
            "Target: 1 <real disaster>\n",
            "Text\n",
            "Refugio oil spill may have been costlier bigger than projected: A Plains All American Pipeline oil spill off ... http://t.co/yhmrEgAuxZ\n",
            "\n",
            "---\n",
            "\n",
            "Target: 0 <not a real disaster>\n",
            "Text\n",
            "@DatTomm the funniest part about that twitter is the feminists that try to attack it 4Head\n",
            "\n",
            "---\n",
            "\n",
            "Target: 0 <not a real disaster>\n",
            "Text\n",
            "We're #hiring! Read about our latest #job opening here: RN Nurse Shift Manager Emergency Services - Full time... - http://t.co/sNuBZA6KSC\n",
            "\n",
            "---\n",
            "\n",
            "Target: 0 <not a real disaster>\n",
            "Text\n",
            "'Left hand side of a diamond is a graveyard shift have to attack and defend'\n",
            "The right handside no have to do that too you fucking idiot?\n",
            "\n",
            "---\n",
            "\n",
            "Target: 1 <real disaster>\n",
            "Text\n",
            "Must Read Forecast! Longest Streak of Triple-Digit Heat Since 2013 What happens next? http://t.co/xXOuPfy8nQ http://t.co/A3BJabHQhe\n",
            "\n",
            "---\n",
            "\n"
          ]
        }
      ]
    },
    {
      "cell_type": "code",
      "source": [
        "from sklearn.model_selection import train_test_split\n",
        "\n",
        "train_sentences, val_sentences, train_labels, val_labels = train_test_split(\n",
        "    train_df_shuffled[\"text\"].to_numpy(),\n",
        "    train_df_shuffled[\"target\"].to_numpy(),\n",
        "    test_size=0.1,\n",
        "    random_state=42\n",
        ")"
      ],
      "metadata": {
        "id": "gucF_w9Z7JRV"
      },
      "execution_count": 10,
      "outputs": []
    },
    {
      "cell_type": "code",
      "source": [
        "train_sentences[:10], train_labels[:10]"
      ],
      "metadata": {
        "colab": {
          "base_uri": "https://localhost:8080/"
        },
        "id": "oIuX-ExX72Dc",
        "outputId": "f0a89ab9-8643-4e53-ef0a-cde45d30af8f"
      },
      "execution_count": 11,
      "outputs": [
        {
          "output_type": "execute_result",
          "data": {
            "text/plain": [
              "(array(['@mogacola @zamtriossu i screamed after hitting tweet',\n",
              "        'Imagine getting flattened by Kurt Zouma',\n",
              "        '@Gurmeetramrahim #MSGDoing111WelfareWorks Green S welfare force ke appx 65000 members har time disaster victim ki help ke liye tyar hai....',\n",
              "        \"@shakjn @C7 @Magnums im shaking in fear he's gonna hack the planet\",\n",
              "        'Somehow find you and I collide http://t.co/Ee8RpOahPk',\n",
              "        '@EvaHanderek @MarleyKnysh great times until the bus driver held us hostage in the mall parking lot lmfao',\n",
              "        'destroy the free fandom honestly',\n",
              "        'Weapons stolen from National Guard Armory in New Albany still missing #Gunsense http://t.co/lKNU8902JE',\n",
              "        '@wfaaweather Pete when will the heat wave pass? Is it really going to be mid month? Frisco Boy Scouts have a canoe trip in Okla.',\n",
              "        'Patient-reported outcomes in long-term survivors of metastatic colorectal cancer - British Journal of Surgery http://t.co/5Yl4DC1Tqt'],\n",
              "       dtype=object), array([0, 0, 1, 0, 0, 1, 1, 0, 1, 1]))"
            ]
          },
          "metadata": {},
          "execution_count": 11
        }
      ]
    },
    {
      "cell_type": "code",
      "source": [
        "round(sum([len(i.split()) for i in train_sentences])/len(train_sentences))"
      ],
      "metadata": {
        "colab": {
          "base_uri": "https://localhost:8080/"
        },
        "id": "dpBIKpNTD3Y5",
        "outputId": "d25c9512-11b9-48d3-d465-58d77589e943"
      },
      "execution_count": 12,
      "outputs": [
        {
          "output_type": "execute_result",
          "data": {
            "text/plain": [
              "15"
            ]
          },
          "metadata": {},
          "execution_count": 12
        }
      ]
    },
    {
      "cell_type": "code",
      "source": [
        "import tensorflow as tf\n",
        "from tensorflow.keras.layers import TextVectorization\n",
        "\n",
        "text_vectorizer = TextVectorization(\n",
        "    max_tokens=10000,\n",
        "    output_mode=\"int\",\n",
        "    output_sequence_length=15,\n",
        ")"
      ],
      "metadata": {
        "id": "KvPf-l76-g_y"
      },
      "execution_count": 13,
      "outputs": []
    },
    {
      "cell_type": "code",
      "source": [
        "text_vectorizer.adapt(train_sentences)"
      ],
      "metadata": {
        "id": "Dh8wGCG1E4Jv"
      },
      "execution_count": 14,
      "outputs": []
    },
    {
      "cell_type": "code",
      "source": [
        "text_vectorizer([\"There's a flood in my street!\"])"
      ],
      "metadata": {
        "colab": {
          "base_uri": "https://localhost:8080/"
        },
        "id": "pOIu_eDBFDIb",
        "outputId": "b9924d79-3527-4280-a960-4ed70fd16e7d"
      },
      "execution_count": 15,
      "outputs": [
        {
          "output_type": "execute_result",
          "data": {
            "text/plain": [
              "<tf.Tensor: shape=(1, 15), dtype=int64, numpy=\n",
              "array([[264,   3, 232,   4,  13, 698,   0,   0,   0,   0,   0,   0,   0,\n",
              "          0,   0]])>"
            ]
          },
          "metadata": {},
          "execution_count": 15
        }
      ]
    },
    {
      "cell_type": "code",
      "source": [
        "random_sent = random.choice(train_sentences)\n",
        "print(f\"Before: {random_sent}\")\n",
        "text_vectorizer([random_sent])"
      ],
      "metadata": {
        "colab": {
          "base_uri": "https://localhost:8080/"
        },
        "id": "o7KU2NDnFkpl",
        "outputId": "d9b40ce9-d3a4-4bfe-8cc2-8be6baad9212"
      },
      "execution_count": 16,
      "outputs": [
        {
          "output_type": "stream",
          "name": "stdout",
          "text": [
            "Before: http://t.co/X5YEUYLT1X Twelve feared killed in Pakistani air ambulance helicopter crash http://t.co/2UgrMd1z1n\n"
          ]
        },
        {
          "output_type": "execute_result",
          "data": {
            "text/plain": [
              "<tf.Tensor: shape=(1, 15), dtype=int64, numpy=\n",
              "array([[   1, 1053,  778,  111,    4,  934,  307,  324,  624,   85,    1,\n",
              "           0,    0,    0,    0]])>"
            ]
          },
          "metadata": {},
          "execution_count": 16
        }
      ]
    },
    {
      "cell_type": "code",
      "source": [
        "words_in_vocab = text_vectorizer.get_vocabulary()\n",
        "top_5_words = words_in_vocab[:5]\n",
        "bottom_5_words = words_in_vocab[-5:]\n",
        "len(words_in_vocab), top_5_words, bottom_5_words"
      ],
      "metadata": {
        "colab": {
          "base_uri": "https://localhost:8080/"
        },
        "id": "OIfRWRlJF5-x",
        "outputId": "c5e8a978-7064-4228-a0bf-9d0f91e180ce"
      },
      "execution_count": 17,
      "outputs": [
        {
          "output_type": "execute_result",
          "data": {
            "text/plain": [
              "(10000,\n",
              " ['', '[UNK]', 'the', 'a', 'in'],\n",
              " ['pages', 'paeds', 'pads', 'padres', 'paddytomlinson1'])"
            ]
          },
          "metadata": {},
          "execution_count": 17
        }
      ]
    },
    {
      "cell_type": "code",
      "source": [
        "from tensorflow.keras import layers\n",
        "\n",
        "embedding = layers.Embedding(\n",
        "    input_dim=10000,\n",
        "    output_dim=128,\n",
        "    input_length=15\n",
        ")\n",
        "\n",
        "embedding"
      ],
      "metadata": {
        "colab": {
          "base_uri": "https://localhost:8080/"
        },
        "id": "MCDQAP3AGNjH",
        "outputId": "ce88e069-1a27-44f8-d2ec-0c7034fcb6c3"
      },
      "execution_count": 18,
      "outputs": [
        {
          "output_type": "execute_result",
          "data": {
            "text/plain": [
              "<keras.layers.embeddings.Embedding at 0x7fbfd45c4b10>"
            ]
          },
          "metadata": {},
          "execution_count": 18
        }
      ]
    },
    {
      "cell_type": "code",
      "source": [
        "sample_embed = embedding(text_vectorizer([random.choice(train_sentences)]))\n",
        "sample_embed"
      ],
      "metadata": {
        "colab": {
          "base_uri": "https://localhost:8080/"
        },
        "id": "htpdho_mPRL4",
        "outputId": "6c08815d-d3c1-4c54-a28b-b1fa90b969c9"
      },
      "execution_count": 19,
      "outputs": [
        {
          "output_type": "execute_result",
          "data": {
            "text/plain": [
              "<tf.Tensor: shape=(1, 15, 128), dtype=float32, numpy=\n",
              "array([[[ 0.04507717, -0.00224005,  0.04609852, ..., -0.0021066 ,\n",
              "         -0.01035818,  0.00527591],\n",
              "        [-0.00208781, -0.03749556, -0.00345282, ...,  0.0138194 ,\n",
              "         -0.01691492, -0.04872792],\n",
              "        [ 0.01519727,  0.03431578,  0.0308956 , ...,  0.03083606,\n",
              "          0.02290509, -0.00700116],\n",
              "        ...,\n",
              "        [-0.03869274, -0.0020623 , -0.03526413, ..., -0.01614936,\n",
              "         -0.0064258 ,  0.00880568],\n",
              "        [ 0.00941544, -0.0287483 , -0.02082083, ...,  0.01440796,\n",
              "         -0.0215555 , -0.03201125],\n",
              "        [-0.00199705,  0.02612723, -0.04475057, ..., -0.03546182,\n",
              "         -0.04071484,  0.01890669]]], dtype=float32)>"
            ]
          },
          "metadata": {},
          "execution_count": 19
        }
      ]
    },
    {
      "cell_type": "markdown",
      "source": [
        "# Model 0: Baseline Model -> Sklearn Multinomial Naive Bayes using TF-IDF"
      ],
      "metadata": {
        "id": "URe3kjjjWrSn"
      }
    },
    {
      "cell_type": "code",
      "source": [
        "from sklearn.feature_extraction.text import TfidfVectorizer\n",
        "from sklearn.naive_bayes import MultinomialNB\n",
        "from sklearn.pipeline import Pipeline\n",
        "\n",
        "model_0 = Pipeline([\n",
        "    (\"tfidf\", TfidfVectorizer()),\n",
        "    (\"clf\", MultinomialNB())\n",
        "])\n",
        "\n",
        "model_0.fit(train_sentences, train_labels)"
      ],
      "metadata": {
        "colab": {
          "base_uri": "https://localhost:8080/"
        },
        "id": "gpdx2X8fWxUN",
        "outputId": "6180c659-386c-4cb4-c323-ab596e64c3db"
      },
      "execution_count": 20,
      "outputs": [
        {
          "output_type": "execute_result",
          "data": {
            "text/plain": [
              "Pipeline(steps=[('tfidf', TfidfVectorizer()), ('clf', MultinomialNB())])"
            ]
          },
          "metadata": {},
          "execution_count": 20
        }
      ]
    },
    {
      "cell_type": "code",
      "source": [
        "baseline_score = model_0.score(val_sentences, val_labels)\n",
        "print(f\"Baseline Score: {baseline_score*100:.2f}%\")"
      ],
      "metadata": {
        "colab": {
          "base_uri": "https://localhost:8080/"
        },
        "id": "XvBxq30aXi1H",
        "outputId": "2aaf28f0-712e-49bf-8f72-ba85d07d9d99"
      },
      "execution_count": 21,
      "outputs": [
        {
          "output_type": "stream",
          "name": "stdout",
          "text": [
            "Baseline Score: 79.27%\n"
          ]
        }
      ]
    },
    {
      "cell_type": "code",
      "source": [
        "from sklearn.metrics import accuracy_score, precision_recall_fscore_support\n",
        "\n",
        "def calculate_results(y_true, y_pred):\n",
        "  model_accuracy = accuracy_score(y_true, y_pred) * 100\n",
        "  model_precision, model_recall, model_f1, _ = precision_recall_fscore_support(y_true, y_pred, average=\"weighted\")\n",
        "  model_results = {\n",
        "      \"accuracy\": model_accuracy,\n",
        "      \"precision\": model_precision,\n",
        "      \"recall\": model_recall,\n",
        "      \"f1\": model_f1\n",
        "  }\n",
        "\n",
        "  return model_results"
      ],
      "metadata": {
        "id": "Qba-nKj83Lf1"
      },
      "execution_count": 22,
      "outputs": []
    },
    {
      "cell_type": "code",
      "source": [
        "baseline_preds = model_0.predict(val_sentences)\n",
        "baseline_preds[:5]"
      ],
      "metadata": {
        "colab": {
          "base_uri": "https://localhost:8080/"
        },
        "id": "E6DsaL1YkRZJ",
        "outputId": "ea14ced2-527e-46ff-e583-b1398bae81d3"
      },
      "execution_count": 23,
      "outputs": [
        {
          "output_type": "execute_result",
          "data": {
            "text/plain": [
              "array([1, 1, 1, 0, 0])"
            ]
          },
          "metadata": {},
          "execution_count": 23
        }
      ]
    },
    {
      "cell_type": "code",
      "source": [
        "baseline_results = calculate_results(val_labels, baseline_preds)\n",
        "baseline_results"
      ],
      "metadata": {
        "colab": {
          "base_uri": "https://localhost:8080/"
        },
        "id": "5NsMzZWH6N5l",
        "outputId": "29c17aa3-b2e3-46ee-8d76-ac9032a4c2b8"
      },
      "execution_count": 24,
      "outputs": [
        {
          "output_type": "execute_result",
          "data": {
            "text/plain": [
              "{'accuracy': 79.26509186351706,\n",
              " 'f1': 0.7862189758049549,\n",
              " 'precision': 0.8111390004213173,\n",
              " 'recall': 0.7926509186351706}"
            ]
          },
          "metadata": {},
          "execution_count": 24
        }
      ]
    },
    {
      "cell_type": "code",
      "source": [
        "from helper_functions import create_tensorboard_callback\n",
        "\n",
        "SAVE_DIR = \"model_logs\""
      ],
      "metadata": {
        "id": "QQ1NZEN2j5RX"
      },
      "execution_count": 25,
      "outputs": []
    },
    {
      "cell_type": "markdown",
      "source": [
        "# Model 1: Simple Dense Model"
      ],
      "metadata": {
        "id": "QvAyRNWwoA0f"
      }
    },
    {
      "cell_type": "code",
      "source": [
        "from tensorflow.keras import layers\n",
        "\n",
        "inputs = layers.Input(shape=(1,), dtype=tf.string)\n",
        "x = text_vectorizer(inputs)\n",
        "x = embedding(x)\n",
        "x = layers.GlobalAveragePooling1D()(x)\n",
        "outputs = layers.Dense(1, activation=\"sigmoid\")(x)\n",
        "\n",
        "model_1 = tf.keras.Model(inputs, outputs, name=\"model_1_dense\")\n",
        "model_1.summary()"
      ],
      "metadata": {
        "colab": {
          "base_uri": "https://localhost:8080/"
        },
        "id": "ra5RD2EkkAIh",
        "outputId": "3470367d-3e6f-4f38-bbb8-d0ac088c5104"
      },
      "execution_count": 26,
      "outputs": [
        {
          "output_type": "stream",
          "name": "stdout",
          "text": [
            "Model: \"model_1_dense\"\n",
            "_________________________________________________________________\n",
            " Layer (type)                Output Shape              Param #   \n",
            "=================================================================\n",
            " input_1 (InputLayer)        [(None, 1)]               0         \n",
            "                                                                 \n",
            " text_vectorization (TextVec  (None, 15)               0         \n",
            " torization)                                                     \n",
            "                                                                 \n",
            " embedding (Embedding)       (None, 15, 128)           1280000   \n",
            "                                                                 \n",
            " global_average_pooling1d (G  (None, 128)              0         \n",
            " lobalAveragePooling1D)                                          \n",
            "                                                                 \n",
            " dense (Dense)               (None, 1)                 129       \n",
            "                                                                 \n",
            "=================================================================\n",
            "Total params: 1,280,129\n",
            "Trainable params: 1,280,129\n",
            "Non-trainable params: 0\n",
            "_________________________________________________________________\n"
          ]
        }
      ]
    },
    {
      "cell_type": "code",
      "source": [
        "model_1.compile(\n",
        "    loss=\"binary_crossentropy\",\n",
        "    optimizer=tf.keras.optimizers.Adam(),\n",
        "    metrics=[\"accuracy\"]\n",
        ")"
      ],
      "metadata": {
        "id": "qV5dSJkLlGfI"
      },
      "execution_count": 27,
      "outputs": []
    },
    {
      "cell_type": "code",
      "source": [
        "model_1_history = model_1.fit(\n",
        "    x=train_sentences,\n",
        "    y=train_labels,\n",
        "    epochs=5,\n",
        "    validation_data=(val_sentences, val_labels),\n",
        "    callbacks=[create_tensorboard_callback(dir_name=SAVE_DIR, experiment_name=\"model_1_dense\")]\n",
        ")"
      ],
      "metadata": {
        "colab": {
          "base_uri": "https://localhost:8080/"
        },
        "id": "MmKDTJRJlTEY",
        "outputId": "f618ea32-fb1f-417a-9fad-8705e52676db"
      },
      "execution_count": 28,
      "outputs": [
        {
          "output_type": "stream",
          "name": "stdout",
          "text": [
            "Saving TensorBoard log files to: model_logs/model_1_dense/20220710-023331\n",
            "Epoch 1/5\n",
            "215/215 [==============================] - 9s 10ms/step - loss: 0.6139 - accuracy: 0.6871 - val_loss: 0.5447 - val_accuracy: 0.7402\n",
            "Epoch 2/5\n",
            "215/215 [==============================] - 2s 8ms/step - loss: 0.4438 - accuracy: 0.8167 - val_loss: 0.4756 - val_accuracy: 0.7835\n",
            "Epoch 3/5\n",
            "215/215 [==============================] - 2s 7ms/step - loss: 0.3484 - accuracy: 0.8583 - val_loss: 0.4612 - val_accuracy: 0.7927\n",
            "Epoch 4/5\n",
            "215/215 [==============================] - 2s 8ms/step - loss: 0.2846 - accuracy: 0.8892 - val_loss: 0.4619 - val_accuracy: 0.7874\n",
            "Epoch 5/5\n",
            "215/215 [==============================] - 2s 7ms/step - loss: 0.2383 - accuracy: 0.9133 - val_loss: 0.4773 - val_accuracy: 0.7861\n"
          ]
        }
      ]
    },
    {
      "cell_type": "code",
      "source": [
        "model_1.evaluate(val_sentences, val_labels)"
      ],
      "metadata": {
        "colab": {
          "base_uri": "https://localhost:8080/"
        },
        "id": "hpYcDvMll-Fh",
        "outputId": "558bf1e5-773a-420d-9cdf-0ca524bbd249"
      },
      "execution_count": 29,
      "outputs": [
        {
          "output_type": "stream",
          "name": "stdout",
          "text": [
            "24/24 [==============================] - 0s 7ms/step - loss: 0.4773 - accuracy: 0.7861\n"
          ]
        },
        {
          "output_type": "execute_result",
          "data": {
            "text/plain": [
              "[0.47732028365135193, 0.7860892415046692]"
            ]
          },
          "metadata": {},
          "execution_count": 29
        }
      ]
    },
    {
      "cell_type": "code",
      "source": [
        "model_1_pred_probs = model_1.predict(val_sentences)\n",
        "model_1_pred_probs"
      ],
      "metadata": {
        "colab": {
          "base_uri": "https://localhost:8080/"
        },
        "id": "Xs-8aiJSnQ9A",
        "outputId": "bb61d4a9-5aea-4def-d773-27df0b7a2e7a"
      },
      "execution_count": 30,
      "outputs": [
        {
          "output_type": "execute_result",
          "data": {
            "text/plain": [
              "array([[3.92267168e-01],\n",
              "       [7.66281784e-01],\n",
              "       [9.97199655e-01],\n",
              "       [1.20908521e-01],\n",
              "       [1.19712032e-01],\n",
              "       [9.32403624e-01],\n",
              "       [9.15031791e-01],\n",
              "       [9.93441701e-01],\n",
              "       [9.66001928e-01],\n",
              "       [2.65195787e-01],\n",
              "       [1.44744545e-01],\n",
              "       [6.64626300e-01],\n",
              "       [5.26842140e-02],\n",
              "       [2.33492851e-01],\n",
              "       [4.73433267e-03],\n",
              "       [1.36542633e-01],\n",
              "       [2.54899226e-02],\n",
              "       [1.11467250e-01],\n",
              "       [2.24613160e-01],\n",
              "       [5.44249594e-01],\n",
              "       [9.11829889e-01],\n",
              "       [3.77721153e-02],\n",
              "       [4.45430219e-01],\n",
              "       [7.28433505e-02],\n",
              "       [9.60463107e-01],\n",
              "       [9.98732626e-01],\n",
              "       [3.35952565e-02],\n",
              "       [6.52277842e-02],\n",
              "       [2.67753415e-02],\n",
              "       [2.20202699e-01],\n",
              "       [5.45319438e-01],\n",
              "       [2.58246005e-01],\n",
              "       [4.95796561e-01],\n",
              "       [1.98807135e-01],\n",
              "       [4.86732066e-01],\n",
              "       [6.14924692e-02],\n",
              "       [9.93698180e-01],\n",
              "       [1.39636755e-01],\n",
              "       [3.35295610e-02],\n",
              "       [9.98640001e-01],\n",
              "       [1.71390980e-01],\n",
              "       [1.90172847e-02],\n",
              "       [3.39753091e-01],\n",
              "       [6.23073876e-02],\n",
              "       [6.34711087e-01],\n",
              "       [9.83805895e-01],\n",
              "       [2.84609675e-01],\n",
              "       [9.30607140e-01],\n",
              "       [1.71043754e-01],\n",
              "       [6.58493340e-01],\n",
              "       [4.95682694e-02],\n",
              "       [4.76709306e-01],\n",
              "       [4.47934151e-01],\n",
              "       [2.90805884e-02],\n",
              "       [1.24280095e-01],\n",
              "       [3.25775705e-02],\n",
              "       [2.15858802e-01],\n",
              "       [9.64518666e-01],\n",
              "       [1.12201266e-01],\n",
              "       [2.63252272e-03],\n",
              "       [1.31656483e-01],\n",
              "       [9.59819555e-01],\n",
              "       [9.24939573e-01],\n",
              "       [1.81233704e-01],\n",
              "       [9.33621943e-01],\n",
              "       [9.80123103e-01],\n",
              "       [7.42260516e-01],\n",
              "       [3.99141997e-01],\n",
              "       [1.25549182e-01],\n",
              "       [1.40869588e-01],\n",
              "       [8.37748721e-02],\n",
              "       [3.60499658e-02],\n",
              "       [9.38297629e-01],\n",
              "       [1.08630419e-01],\n",
              "       [1.27928302e-01],\n",
              "       [4.34172839e-01],\n",
              "       [3.61496001e-01],\n",
              "       [8.50160778e-01],\n",
              "       [2.29151353e-01],\n",
              "       [5.97496152e-01],\n",
              "       [4.30157483e-01],\n",
              "       [2.66584992e-01],\n",
              "       [9.96234834e-01],\n",
              "       [1.11882307e-01],\n",
              "       [1.47579417e-01],\n",
              "       [8.82963091e-02],\n",
              "       [1.68463197e-02],\n",
              "       [1.05548106e-01],\n",
              "       [6.18526459e-01],\n",
              "       [9.02381122e-01],\n",
              "       [9.88815129e-01],\n",
              "       [1.24078710e-02],\n",
              "       [5.66517651e-01],\n",
              "       [3.08941435e-02],\n",
              "       [9.84418929e-01],\n",
              "       [7.55929947e-01],\n",
              "       [8.45741332e-01],\n",
              "       [9.80633795e-01],\n",
              "       [8.75573158e-01],\n",
              "       [9.62014973e-01],\n",
              "       [9.99282658e-01],\n",
              "       [1.73799336e-01],\n",
              "       [1.31184803e-02],\n",
              "       [9.11192954e-01],\n",
              "       [8.80961418e-01],\n",
              "       [7.46458545e-02],\n",
              "       [8.80822122e-01],\n",
              "       [9.79023814e-01],\n",
              "       [7.09274933e-02],\n",
              "       [4.51629788e-01],\n",
              "       [7.30209947e-01],\n",
              "       [4.31420580e-02],\n",
              "       [2.43982941e-01],\n",
              "       [1.63220078e-01],\n",
              "       [1.41856119e-01],\n",
              "       [4.65394884e-01],\n",
              "       [4.86570239e-01],\n",
              "       [7.48054326e-01],\n",
              "       [7.36500382e-01],\n",
              "       [8.00249130e-02],\n",
              "       [9.99741614e-01],\n",
              "       [8.15644488e-02],\n",
              "       [1.27667174e-01],\n",
              "       [8.20023477e-01],\n",
              "       [4.32768941e-01],\n",
              "       [2.55286664e-01],\n",
              "       [8.10341537e-01],\n",
              "       [1.14238793e-02],\n",
              "       [7.10318461e-02],\n",
              "       [7.65219867e-01],\n",
              "       [9.28899422e-02],\n",
              "       [9.99741614e-01],\n",
              "       [9.99864221e-01],\n",
              "       [9.98732626e-01],\n",
              "       [9.84544992e-01],\n",
              "       [8.22300836e-02],\n",
              "       [9.70421076e-01],\n",
              "       [1.84291571e-01],\n",
              "       [3.05645615e-01],\n",
              "       [9.29115191e-02],\n",
              "       [9.96750474e-01],\n",
              "       [2.86446035e-01],\n",
              "       [2.33492851e-01],\n",
              "       [9.61112499e-01],\n",
              "       [2.19532564e-01],\n",
              "       [6.10110462e-01],\n",
              "       [4.29182239e-02],\n",
              "       [9.72148683e-03],\n",
              "       [2.48202562e-01],\n",
              "       [9.81701851e-01],\n",
              "       [2.91916132e-01],\n",
              "       [6.05230294e-02],\n",
              "       [4.16698098e-01],\n",
              "       [1.90770313e-01],\n",
              "       [2.88678616e-01],\n",
              "       [9.92295146e-01],\n",
              "       [7.94935763e-01],\n",
              "       [4.86559063e-01],\n",
              "       [9.87466037e-01],\n",
              "       [1.88274570e-02],\n",
              "       [9.74176109e-01],\n",
              "       [6.59922063e-02],\n",
              "       [2.86311120e-01],\n",
              "       [9.94433463e-01],\n",
              "       [2.15317369e-01],\n",
              "       [7.41913244e-02],\n",
              "       [9.98676598e-01],\n",
              "       [2.97498375e-01],\n",
              "       [9.81988907e-01],\n",
              "       [2.12603852e-01],\n",
              "       [9.93354321e-01],\n",
              "       [8.55713904e-01],\n",
              "       [8.24372232e-01],\n",
              "       [3.20101231e-02],\n",
              "       [9.97990608e-01],\n",
              "       [5.39710447e-02],\n",
              "       [3.65474641e-01],\n",
              "       [4.70938563e-01],\n",
              "       [7.45327950e-01],\n",
              "       [9.93310332e-01],\n",
              "       [1.50217321e-02],\n",
              "       [8.50624263e-01],\n",
              "       [8.20366204e-01],\n",
              "       [9.71756577e-01],\n",
              "       [9.77917194e-01],\n",
              "       [4.06884402e-01],\n",
              "       [9.23171788e-02],\n",
              "       [9.99616623e-01],\n",
              "       [1.39905242e-02],\n",
              "       [3.24088819e-02],\n",
              "       [1.21008426e-01],\n",
              "       [9.19304132e-01],\n",
              "       [1.04958609e-01],\n",
              "       [2.64940441e-01],\n",
              "       [1.70219243e-02],\n",
              "       [1.00502864e-01],\n",
              "       [3.97981480e-02],\n",
              "       [2.19922915e-01],\n",
              "       [7.33886719e-01],\n",
              "       [7.63687417e-02],\n",
              "       [2.68673718e-01],\n",
              "       [8.99484634e-01],\n",
              "       [9.73642409e-01],\n",
              "       [3.79542023e-01],\n",
              "       [1.11254409e-01],\n",
              "       [9.99867201e-01],\n",
              "       [5.49194992e-01],\n",
              "       [9.36601877e-01],\n",
              "       [6.71687365e-01],\n",
              "       [8.52342904e-01],\n",
              "       [3.18293631e-01],\n",
              "       [9.82025146e-01],\n",
              "       [2.22559758e-02],\n",
              "       [2.00216934e-01],\n",
              "       [5.85321756e-03],\n",
              "       [4.46713483e-03],\n",
              "       [9.50834394e-01],\n",
              "       [8.02329123e-01],\n",
              "       [8.84334803e-01],\n",
              "       [1.56259105e-01],\n",
              "       [7.07756281e-01],\n",
              "       [8.79344121e-02],\n",
              "       [2.66438127e-02],\n",
              "       [1.80462390e-01],\n",
              "       [9.79930162e-01],\n",
              "       [1.97632238e-01],\n",
              "       [5.49220502e-01],\n",
              "       [9.95728910e-01],\n",
              "       [5.71654558e-01],\n",
              "       [6.09354734e-01],\n",
              "       [9.42398757e-02],\n",
              "       [2.39643902e-01],\n",
              "       [8.13574493e-01],\n",
              "       [2.42353246e-01],\n",
              "       [4.92591292e-01],\n",
              "       [1.47349149e-01],\n",
              "       [6.23472691e-01],\n",
              "       [3.32618952e-01],\n",
              "       [1.64000034e-01],\n",
              "       [7.67062604e-02],\n",
              "       [4.21627462e-01],\n",
              "       [2.58571774e-01],\n",
              "       [9.99808967e-01],\n",
              "       [9.86702502e-01],\n",
              "       [8.51223394e-02],\n",
              "       [2.39990111e-02],\n",
              "       [8.67641270e-01],\n",
              "       [8.99412036e-02],\n",
              "       [8.47294107e-02],\n",
              "       [4.90366191e-01],\n",
              "       [3.83541547e-02],\n",
              "       [5.93238890e-01],\n",
              "       [7.38771691e-04],\n",
              "       [4.11634445e-01],\n",
              "       [9.18065548e-01],\n",
              "       [1.87337175e-01],\n",
              "       [9.74671066e-01],\n",
              "       [9.98725355e-01],\n",
              "       [3.00572008e-01],\n",
              "       [1.51298776e-01],\n",
              "       [3.91182899e-01],\n",
              "       [3.16839479e-02],\n",
              "       [4.77591390e-03],\n",
              "       [9.86002564e-01],\n",
              "       [9.70921457e-01],\n",
              "       [7.14518666e-01],\n",
              "       [9.52948868e-01],\n",
              "       [5.98171391e-02],\n",
              "       [1.71907201e-01],\n",
              "       [8.97633377e-03],\n",
              "       [1.67588353e-01],\n",
              "       [4.06462736e-02],\n",
              "       [9.59225118e-01],\n",
              "       [9.00590718e-02],\n",
              "       [7.70747988e-03],\n",
              "       [9.72716868e-01],\n",
              "       [1.33433081e-02],\n",
              "       [1.02323018e-01],\n",
              "       [9.82012391e-01],\n",
              "       [5.16467765e-02],\n",
              "       [7.98161179e-02],\n",
              "       [6.19036378e-03],\n",
              "       [9.70264077e-01],\n",
              "       [5.33318877e-01],\n",
              "       [7.45490015e-01],\n",
              "       [7.20873654e-01],\n",
              "       [5.64619958e-01],\n",
              "       [7.27678016e-02],\n",
              "       [9.36638236e-01],\n",
              "       [4.58727442e-02],\n",
              "       [7.73061991e-01],\n",
              "       [4.33719903e-01],\n",
              "       [3.54739100e-01],\n",
              "       [4.14006829e-01],\n",
              "       [2.09801048e-01],\n",
              "       [7.40842819e-01],\n",
              "       [2.49577641e-01],\n",
              "       [6.59520984e-01],\n",
              "       [1.73394248e-01],\n",
              "       [7.92429745e-01],\n",
              "       [4.65149581e-02],\n",
              "       [8.33801329e-02],\n",
              "       [2.42114201e-01],\n",
              "       [9.83986020e-01],\n",
              "       [1.85583681e-01],\n",
              "       [9.22322795e-02],\n",
              "       [2.87199527e-01],\n",
              "       [1.83436856e-01],\n",
              "       [1.18673310e-01],\n",
              "       [2.73180921e-02],\n",
              "       [2.62484308e-02],\n",
              "       [9.82044935e-01],\n",
              "       [3.33019912e-01],\n",
              "       [2.42430300e-01],\n",
              "       [9.99821126e-01],\n",
              "       [4.81743701e-02],\n",
              "       [6.27261877e-01],\n",
              "       [2.24270254e-01],\n",
              "       [5.09120673e-02],\n",
              "       [1.37713566e-01],\n",
              "       [1.72750756e-01],\n",
              "       [9.36987400e-02],\n",
              "       [9.20795918e-01],\n",
              "       [2.77112186e-01],\n",
              "       [9.83553171e-01],\n",
              "       [1.09681420e-01],\n",
              "       [1.95723996e-02],\n",
              "       [9.94895518e-01],\n",
              "       [2.26384886e-02],\n",
              "       [9.96875167e-01],\n",
              "       [1.60838485e-01],\n",
              "       [4.16164324e-02],\n",
              "       [9.63794470e-01],\n",
              "       [4.21864949e-02],\n",
              "       [3.57168131e-02],\n",
              "       [9.82504666e-01],\n",
              "       [5.76036377e-03],\n",
              "       [1.74440742e-01],\n",
              "       [7.74011195e-01],\n",
              "       [9.20652390e-01],\n",
              "       [4.76439344e-03],\n",
              "       [1.84137464e-01],\n",
              "       [9.81330335e-01],\n",
              "       [9.62724447e-01],\n",
              "       [7.32611239e-01],\n",
              "       [4.17774588e-01],\n",
              "       [5.67035556e-01],\n",
              "       [4.25628573e-01],\n",
              "       [4.88473326e-02],\n",
              "       [9.45967212e-02],\n",
              "       [8.86188224e-02],\n",
              "       [7.46926188e-01],\n",
              "       [3.28643657e-02],\n",
              "       [4.06552374e-01],\n",
              "       [4.28301990e-01],\n",
              "       [1.27001302e-02],\n",
              "       [9.62211967e-01],\n",
              "       [9.98732626e-01],\n",
              "       [9.92313564e-01],\n",
              "       [2.89973225e-02],\n",
              "       [3.23624820e-01],\n",
              "       [1.57963932e-01],\n",
              "       [4.28957552e-01],\n",
              "       [8.06019843e-01],\n",
              "       [1.83242321e-01],\n",
              "       [2.52262410e-02],\n",
              "       [6.37814179e-02],\n",
              "       [3.48088443e-02],\n",
              "       [5.71820796e-01],\n",
              "       [1.11402934e-02],\n",
              "       [2.41836756e-01],\n",
              "       [4.25077826e-02],\n",
              "       [3.76717687e-01],\n",
              "       [4.51782972e-01],\n",
              "       [3.19540828e-01],\n",
              "       [1.57027930e-01],\n",
              "       [4.96482253e-02],\n",
              "       [3.77359211e-01],\n",
              "       [8.79589319e-02],\n",
              "       [9.97236192e-01],\n",
              "       [9.03842747e-01],\n",
              "       [3.70722353e-01],\n",
              "       [6.08229339e-01],\n",
              "       [1.96666159e-02],\n",
              "       [5.13769269e-01],\n",
              "       [9.90165293e-01],\n",
              "       [7.35246480e-01],\n",
              "       [1.80885807e-01],\n",
              "       [9.80640888e-01],\n",
              "       [1.79242283e-01],\n",
              "       [9.47429299e-01],\n",
              "       [2.75604844e-01],\n",
              "       [2.81883907e-02],\n",
              "       [5.47259152e-01],\n",
              "       [4.41700041e-01],\n",
              "       [9.96152699e-01],\n",
              "       [1.07215308e-01],\n",
              "       [5.31428531e-02],\n",
              "       [7.21380636e-02],\n",
              "       [1.83242321e-01],\n",
              "       [9.99147534e-01],\n",
              "       [3.05887219e-02],\n",
              "       [5.87576747e-01],\n",
              "       [9.73196208e-01],\n",
              "       [9.08861384e-02],\n",
              "       [9.99741614e-01],\n",
              "       [3.58951949e-02],\n",
              "       [3.35086346e-01],\n",
              "       [6.23035952e-02],\n",
              "       [7.84396708e-01],\n",
              "       [9.07460034e-01],\n",
              "       [6.06870726e-02],\n",
              "       [1.75648625e-03],\n",
              "       [2.53027618e-01],\n",
              "       [9.90454376e-01],\n",
              "       [8.68580222e-01],\n",
              "       [1.21114843e-01],\n",
              "       [4.64990139e-01],\n",
              "       [7.61873364e-01],\n",
              "       [2.24079210e-02],\n",
              "       [9.89690185e-01],\n",
              "       [5.05282938e-01],\n",
              "       [9.98854399e-01],\n",
              "       [9.31872070e-01],\n",
              "       [1.11688368e-01],\n",
              "       [3.79430324e-01],\n",
              "       [1.29052803e-01],\n",
              "       [9.29545105e-01],\n",
              "       [7.19730675e-01],\n",
              "       [3.73185664e-01],\n",
              "       [3.04429214e-02],\n",
              "       [3.14939857e-01],\n",
              "       [4.75688353e-02],\n",
              "       [7.05902800e-02],\n",
              "       [1.18644103e-01],\n",
              "       [4.41960990e-01],\n",
              "       [4.74564224e-01],\n",
              "       [1.38533860e-01],\n",
              "       [9.99144554e-01],\n",
              "       [9.85317767e-01],\n",
              "       [2.55590349e-01],\n",
              "       [7.66281784e-01],\n",
              "       [1.97756290e-01],\n",
              "       [4.51551378e-02],\n",
              "       [2.85255313e-01],\n",
              "       [6.95665717e-01],\n",
              "       [8.50313529e-02],\n",
              "       [1.89464584e-01],\n",
              "       [1.81709081e-02],\n",
              "       [4.58931565e-01],\n",
              "       [2.11061444e-03],\n",
              "       [9.55036938e-01],\n",
              "       [9.81147587e-01],\n",
              "       [9.93404806e-01],\n",
              "       [9.71996844e-01],\n",
              "       [7.88190424e-01],\n",
              "       [1.51905119e-01],\n",
              "       [5.94758838e-02],\n",
              "       [6.58354819e-01],\n",
              "       [9.14906740e-01],\n",
              "       [9.98340487e-01],\n",
              "       [3.98938777e-03],\n",
              "       [1.18869647e-01],\n",
              "       [1.48847863e-01],\n",
              "       [9.98848200e-01],\n",
              "       [9.99363244e-01],\n",
              "       [2.62478232e-01],\n",
              "       [1.37681291e-01],\n",
              "       [9.96850669e-01],\n",
              "       [5.57580702e-02],\n",
              "       [3.53207141e-01],\n",
              "       [9.85530615e-01],\n",
              "       [1.12123683e-01],\n",
              "       [3.84499878e-02],\n",
              "       [9.36232448e-01],\n",
              "       [2.80341417e-01],\n",
              "       [3.78875315e-01],\n",
              "       [9.71365988e-01],\n",
              "       [2.18303744e-02],\n",
              "       [5.04124388e-02],\n",
              "       [1.20486123e-02],\n",
              "       [1.82895530e-02],\n",
              "       [1.30068913e-01],\n",
              "       [9.75381315e-01],\n",
              "       [2.12210808e-02],\n",
              "       [3.60272199e-01],\n",
              "       [4.79685634e-01],\n",
              "       [5.88940270e-02],\n",
              "       [2.43614957e-01],\n",
              "       [7.49324858e-02],\n",
              "       [3.88673246e-01],\n",
              "       [9.97948825e-01],\n",
              "       [5.91343641e-01],\n",
              "       [1.38986155e-01],\n",
              "       [1.39013276e-01],\n",
              "       [1.37695879e-01],\n",
              "       [5.15868776e-02],\n",
              "       [6.64913595e-01],\n",
              "       [2.20273547e-02],\n",
              "       [9.02143180e-01],\n",
              "       [7.85368681e-01],\n",
              "       [5.77346325e-01],\n",
              "       [6.40646577e-01],\n",
              "       [7.98482895e-01],\n",
              "       [8.52153152e-02],\n",
              "       [2.72673905e-01],\n",
              "       [4.23647732e-01],\n",
              "       [9.25795078e-01],\n",
              "       [2.46999472e-01],\n",
              "       [1.97088242e-01],\n",
              "       [3.83752108e-01],\n",
              "       [1.45543963e-02],\n",
              "       [1.03102557e-01],\n",
              "       [3.92309725e-01],\n",
              "       [7.92745948e-01],\n",
              "       [1.02523200e-01],\n",
              "       [9.93130147e-01],\n",
              "       [8.99082243e-01],\n",
              "       [7.55929947e-01],\n",
              "       [9.83247876e-01],\n",
              "       [1.30079150e-01],\n",
              "       [6.04000352e-02],\n",
              "       [9.08272207e-01],\n",
              "       [2.04597041e-01],\n",
              "       [2.62962859e-02],\n",
              "       [8.17315057e-02],\n",
              "       [1.11032151e-01],\n",
              "       [1.15623942e-03],\n",
              "       [8.77395093e-01],\n",
              "       [7.87028491e-01],\n",
              "       [8.06142688e-01],\n",
              "       [9.41475093e-01],\n",
              "       [1.08818792e-01],\n",
              "       [1.07733183e-01],\n",
              "       [6.83267057e-01],\n",
              "       [1.57400724e-02],\n",
              "       [2.54980862e-01],\n",
              "       [1.17012642e-01],\n",
              "       [6.27970576e-01],\n",
              "       [5.96358240e-01],\n",
              "       [5.08966669e-02],\n",
              "       [6.44631907e-02],\n",
              "       [4.57452685e-01],\n",
              "       [1.26315221e-01],\n",
              "       [1.24026313e-01],\n",
              "       [1.70490921e-01],\n",
              "       [1.90039724e-01],\n",
              "       [9.99079943e-01],\n",
              "       [9.80510414e-01],\n",
              "       [3.73142630e-01],\n",
              "       [8.66869688e-01],\n",
              "       [9.91947949e-01],\n",
              "       [1.57853926e-03],\n",
              "       [9.61511612e-01],\n",
              "       [2.26949275e-01],\n",
              "       [4.69403565e-01],\n",
              "       [2.22962335e-01],\n",
              "       [9.18286294e-02],\n",
              "       [1.30442798e-01],\n",
              "       [2.50936206e-02],\n",
              "       [9.79937911e-02],\n",
              "       [8.64283890e-02],\n",
              "       [7.56867111e-01],\n",
              "       [2.55374938e-01],\n",
              "       [9.92801189e-01],\n",
              "       [3.94802876e-02],\n",
              "       [6.94638073e-01],\n",
              "       [5.40183961e-01],\n",
              "       [1.81580000e-02],\n",
              "       [5.70851006e-02],\n",
              "       [9.72407997e-01],\n",
              "       [7.05118895e-01],\n",
              "       [9.60159898e-01],\n",
              "       [3.44449818e-01],\n",
              "       [8.63704979e-02],\n",
              "       [4.56558466e-01],\n",
              "       [3.38881195e-01],\n",
              "       [2.90178657e-01],\n",
              "       [9.91947949e-01],\n",
              "       [1.06145199e-02],\n",
              "       [4.02159132e-02],\n",
              "       [1.42604634e-01],\n",
              "       [9.96954679e-01],\n",
              "       [2.03197524e-01],\n",
              "       [5.46518862e-02],\n",
              "       [7.97262132e-01],\n",
              "       [6.66215643e-02],\n",
              "       [3.32100019e-02],\n",
              "       [1.68447763e-01],\n",
              "       [2.06544206e-01],\n",
              "       [1.08920552e-01],\n",
              "       [3.65367323e-01],\n",
              "       [3.96981955e-01],\n",
              "       [2.11667106e-01],\n",
              "       [9.69465673e-02],\n",
              "       [3.31943542e-01],\n",
              "       [1.98183674e-02],\n",
              "       [9.40710902e-01],\n",
              "       [7.88286984e-01],\n",
              "       [4.31637108e-01],\n",
              "       [3.12048923e-02],\n",
              "       [2.48837788e-02],\n",
              "       [9.85537469e-01],\n",
              "       [7.13401198e-01],\n",
              "       [9.99574959e-01],\n",
              "       [2.58519351e-01],\n",
              "       [8.82883847e-01],\n",
              "       [9.63617861e-02],\n",
              "       [6.20505691e-01],\n",
              "       [6.91821575e-01],\n",
              "       [1.84009299e-02],\n",
              "       [9.81008291e-01],\n",
              "       [8.89456496e-02],\n",
              "       [5.58067083e-01],\n",
              "       [9.98177052e-01],\n",
              "       [1.37411773e-01],\n",
              "       [3.06144096e-02],\n",
              "       [2.77685672e-01],\n",
              "       [1.13521097e-02],\n",
              "       [4.81604367e-01],\n",
              "       [9.99867201e-01],\n",
              "       [2.76148230e-01],\n",
              "       [9.43517268e-01],\n",
              "       [2.25840241e-01],\n",
              "       [7.61952996e-01],\n",
              "       [2.15991139e-01],\n",
              "       [2.64234930e-01],\n",
              "       [1.58302672e-02],\n",
              "       [6.38770640e-01],\n",
              "       [1.31900869e-02],\n",
              "       [1.95583597e-01],\n",
              "       [9.48215663e-01],\n",
              "       [9.22448993e-01],\n",
              "       [9.95566547e-01],\n",
              "       [7.70523369e-01],\n",
              "       [4.78176586e-02],\n",
              "       [2.97338516e-01],\n",
              "       [1.78587567e-02],\n",
              "       [4.78459150e-01],\n",
              "       [3.26944649e-01],\n",
              "       [8.81624162e-01],\n",
              "       [4.27589342e-02],\n",
              "       [7.72069752e-01],\n",
              "       [8.30578744e-01],\n",
              "       [2.55256295e-01],\n",
              "       [1.77444339e-01],\n",
              "       [1.97088242e-01],\n",
              "       [1.85645089e-01],\n",
              "       [3.66330504e-01],\n",
              "       [6.27037287e-01],\n",
              "       [9.98694003e-01],\n",
              "       [5.47286384e-02],\n",
              "       [6.38125744e-03],\n",
              "       [1.83156654e-02],\n",
              "       [2.11468607e-01],\n",
              "       [2.22115725e-01],\n",
              "       [2.24507060e-02],\n",
              "       [8.46945047e-01],\n",
              "       [1.06201708e-01],\n",
              "       [1.95938781e-01],\n",
              "       [2.22279862e-01],\n",
              "       [2.07724079e-01],\n",
              "       [9.27615821e-01],\n",
              "       [1.84651792e-01],\n",
              "       [5.19726455e-01],\n",
              "       [3.23116660e-01],\n",
              "       [1.49163296e-02],\n",
              "       [9.92611870e-02],\n",
              "       [9.99729931e-01],\n",
              "       [8.01804543e-01],\n",
              "       [4.75628348e-03],\n",
              "       [3.78862560e-01],\n",
              "       [1.58221602e-01],\n",
              "       [8.02639872e-02],\n",
              "       [8.84673059e-01],\n",
              "       [4.88777131e-01],\n",
              "       [5.81612766e-01],\n",
              "       [3.80683929e-01],\n",
              "       [1.92584172e-01],\n",
              "       [6.28206372e-01],\n",
              "       [1.33214787e-01],\n",
              "       [5.13471328e-02],\n",
              "       [9.01571393e-01],\n",
              "       [1.50490165e-01],\n",
              "       [3.39137852e-01],\n",
              "       [9.76503789e-01],\n",
              "       [2.65685290e-01],\n",
              "       [3.50979388e-01],\n",
              "       [1.15623942e-03],\n",
              "       [2.45325208e-01],\n",
              "       [8.35434020e-01],\n",
              "       [9.99741614e-01],\n",
              "       [6.79160237e-01],\n",
              "       [3.97966430e-02],\n",
              "       [9.90784168e-01],\n",
              "       [3.33864629e-01],\n",
              "       [8.85316849e-01],\n",
              "       [3.33864629e-01],\n",
              "       [9.92361546e-01],\n",
              "       [8.75184312e-03],\n",
              "       [4.19673145e-01],\n",
              "       [9.87245739e-02],\n",
              "       [9.75006163e-01],\n",
              "       [2.52753258e-01],\n",
              "       [4.97793436e-01],\n",
              "       [6.31134063e-02],\n",
              "       [3.11498910e-01],\n",
              "       [1.06576756e-01],\n",
              "       [2.07954273e-02],\n",
              "       [2.31918424e-01],\n",
              "       [6.79862872e-02],\n",
              "       [7.22489506e-02],\n",
              "       [8.48797143e-01],\n",
              "       [2.58129444e-02],\n",
              "       [9.62739214e-02],\n",
              "       [3.30072306e-02],\n",
              "       [1.23761119e-02],\n",
              "       [1.11338742e-01],\n",
              "       [6.49288297e-01],\n",
              "       [7.65144601e-02],\n",
              "       [6.05348468e-01],\n",
              "       [1.52503073e-01],\n",
              "       [2.01218694e-01],\n",
              "       [8.75070870e-01],\n",
              "       [1.34076044e-01],\n",
              "       [5.33852279e-02],\n",
              "       [6.70775697e-02],\n",
              "       [5.69769973e-03],\n",
              "       [9.89284456e-01],\n",
              "       [1.23761119e-02],\n",
              "       [3.48655909e-01],\n",
              "       [9.94353652e-01],\n",
              "       [9.92830336e-01],\n",
              "       [9.97679889e-01],\n",
              "       [9.99895930e-01],\n",
              "       [9.99542952e-01],\n",
              "       [2.10123509e-01],\n",
              "       [8.84234682e-02],\n",
              "       [2.29013383e-01],\n",
              "       [5.17156065e-01],\n",
              "       [9.96623397e-01],\n",
              "       [5.40531993e-01],\n",
              "       [2.81657428e-01],\n",
              "       [5.40890992e-01],\n",
              "       [7.21679509e-01],\n",
              "       [3.52476127e-02],\n",
              "       [6.20884914e-03],\n",
              "       [8.21420178e-02],\n",
              "       [3.62825602e-01],\n",
              "       [6.03658566e-03],\n",
              "       [5.36386296e-02],\n",
              "       [4.02581245e-01],\n",
              "       [9.90667760e-01],\n",
              "       [2.35106349e-02],\n",
              "       [9.15483952e-01],\n",
              "       [7.21504450e-01],\n",
              "       [7.65067339e-02],\n",
              "       [2.65316546e-01],\n",
              "       [1.24562077e-01],\n",
              "       [7.80448020e-01],\n",
              "       [4.09404933e-01],\n",
              "       [8.79258383e-03]], dtype=float32)"
            ]
          },
          "metadata": {},
          "execution_count": 30
        }
      ]
    },
    {
      "cell_type": "code",
      "source": [
        "model_1_preds = tf.squeeze(tf.round(model_1_pred_probs))\n",
        "model_1_preds"
      ],
      "metadata": {
        "colab": {
          "base_uri": "https://localhost:8080/"
        },
        "id": "MrX5CYTInWn1",
        "outputId": "57fec4bc-29f0-486d-f406-d0b91e3b87a3"
      },
      "execution_count": 31,
      "outputs": [
        {
          "output_type": "execute_result",
          "data": {
            "text/plain": [
              "<tf.Tensor: shape=(762,), dtype=float32, numpy=\n",
              "array([0., 1., 1., 0., 0., 1., 1., 1., 1., 0., 0., 1., 0., 0., 0., 0., 0.,\n",
              "       0., 0., 1., 1., 0., 0., 0., 1., 1., 0., 0., 0., 0., 1., 0., 0., 0.,\n",
              "       0., 0., 1., 0., 0., 1., 0., 0., 0., 0., 1., 1., 0., 1., 0., 1., 0.,\n",
              "       0., 0., 0., 0., 0., 0., 1., 0., 0., 0., 1., 1., 0., 1., 1., 1., 0.,\n",
              "       0., 0., 0., 0., 1., 0., 0., 0., 0., 1., 0., 1., 0., 0., 1., 0., 0.,\n",
              "       0., 0., 0., 1., 1., 1., 0., 1., 0., 1., 1., 1., 1., 1., 1., 1., 0.,\n",
              "       0., 1., 1., 0., 1., 1., 0., 0., 1., 0., 0., 0., 0., 0., 0., 1., 1.,\n",
              "       0., 1., 0., 0., 1., 0., 0., 1., 0., 0., 1., 0., 1., 1., 1., 1., 0.,\n",
              "       1., 0., 0., 0., 1., 0., 0., 1., 0., 1., 0., 0., 0., 1., 0., 0., 0.,\n",
              "       0., 0., 1., 1., 0., 1., 0., 1., 0., 0., 1., 0., 0., 1., 0., 1., 0.,\n",
              "       1., 1., 1., 0., 1., 0., 0., 0., 1., 1., 0., 1., 1., 1., 1., 0., 0.,\n",
              "       1., 0., 0., 0., 1., 0., 0., 0., 0., 0., 0., 1., 0., 0., 1., 1., 0.,\n",
              "       0., 1., 1., 1., 1., 1., 0., 1., 0., 0., 0., 0., 1., 1., 1., 0., 1.,\n",
              "       0., 0., 0., 1., 0., 1., 1., 1., 1., 0., 0., 1., 0., 0., 0., 1., 0.,\n",
              "       0., 0., 0., 0., 1., 1., 0., 0., 1., 0., 0., 0., 0., 1., 0., 0., 1.,\n",
              "       0., 1., 1., 0., 0., 0., 0., 0., 1., 1., 1., 1., 0., 0., 0., 0., 0.,\n",
              "       1., 0., 0., 1., 0., 0., 1., 0., 0., 0., 1., 1., 1., 1., 1., 0., 1.,\n",
              "       0., 1., 0., 0., 0., 0., 1., 0., 1., 0., 1., 0., 0., 0., 1., 0., 0.,\n",
              "       0., 0., 0., 0., 0., 1., 0., 0., 1., 0., 1., 0., 0., 0., 0., 0., 1.,\n",
              "       0., 1., 0., 0., 1., 0., 1., 0., 0., 1., 0., 0., 1., 0., 0., 1., 1.,\n",
              "       0., 0., 1., 1., 1., 0., 1., 0., 0., 0., 0., 1., 0., 0., 0., 0., 1.,\n",
              "       1., 1., 0., 0., 0., 0., 1., 0., 0., 0., 0., 1., 0., 0., 0., 0., 0.,\n",
              "       0., 0., 0., 0., 0., 1., 1., 0., 1., 0., 1., 1., 1., 0., 1., 0., 1.,\n",
              "       0., 0., 1., 0., 1., 0., 0., 0., 0., 1., 0., 1., 1., 0., 1., 0., 0.,\n",
              "       0., 1., 1., 0., 0., 0., 1., 1., 0., 0., 1., 0., 1., 1., 1., 1., 0.,\n",
              "       0., 0., 1., 1., 0., 0., 0., 0., 0., 0., 0., 0., 0., 1., 1., 0., 1.,\n",
              "       0., 0., 0., 1., 0., 0., 0., 0., 0., 1., 1., 1., 1., 1., 0., 0., 1.,\n",
              "       1., 1., 0., 0., 0., 1., 1., 0., 0., 1., 0., 0., 1., 0., 0., 1., 0.,\n",
              "       0., 1., 0., 0., 0., 0., 0., 1., 0., 0., 0., 0., 0., 0., 0., 1., 1.,\n",
              "       0., 0., 0., 0., 1., 0., 1., 1., 1., 1., 1., 0., 0., 0., 1., 0., 0.,\n",
              "       0., 0., 0., 0., 1., 0., 1., 1., 1., 1., 0., 0., 1., 0., 0., 0., 0.,\n",
              "       0., 1., 1., 1., 1., 0., 0., 1., 0., 0., 0., 1., 1., 0., 0., 0., 0.,\n",
              "       0., 0., 0., 1., 1., 0., 1., 1., 0., 1., 0., 0., 0., 0., 0., 0., 0.,\n",
              "       0., 1., 0., 1., 0., 1., 1., 0., 0., 1., 1., 1., 0., 0., 0., 0., 0.,\n",
              "       1., 0., 0., 0., 1., 0., 0., 1., 0., 0., 0., 0., 0., 0., 0., 0., 0.,\n",
              "       0., 0., 1., 1., 0., 0., 0., 1., 1., 1., 0., 1., 0., 1., 1., 0., 1.,\n",
              "       0., 1., 1., 0., 0., 0., 0., 0., 1., 0., 1., 0., 1., 0., 0., 0., 1.,\n",
              "       0., 0., 1., 1., 1., 1., 0., 0., 0., 0., 0., 1., 0., 1., 1., 0., 0.,\n",
              "       0., 0., 0., 1., 1., 0., 0., 0., 0., 0., 0., 1., 0., 0., 0., 0., 1.,\n",
              "       0., 1., 0., 0., 0., 1., 1., 0., 0., 0., 0., 1., 0., 1., 0., 0., 1.,\n",
              "       0., 0., 1., 0., 0., 1., 0., 0., 0., 0., 1., 1., 1., 0., 1., 0., 1.,\n",
              "       0., 1., 0., 0., 0., 1., 0., 0., 0., 0., 0., 0., 0., 0., 0., 1., 0.,\n",
              "       0., 0., 0., 0., 1., 0., 1., 0., 0., 1., 0., 0., 0., 0., 1., 0., 0.,\n",
              "       1., 1., 1., 1., 1., 0., 0., 0., 1., 1., 1., 0., 1., 1., 0., 0., 0.,\n",
              "       0., 0., 0., 0., 1., 0., 1., 1., 0., 0., 0., 1., 0., 0.],\n",
              "      dtype=float32)>"
            ]
          },
          "metadata": {},
          "execution_count": 31
        }
      ]
    },
    {
      "cell_type": "code",
      "source": [
        "model_1_results = calculate_results(val_labels, model_1_preds)\n",
        "model_1_results, baseline_results"
      ],
      "metadata": {
        "colab": {
          "base_uri": "https://localhost:8080/"
        },
        "id": "YSrVraEgngI_",
        "outputId": "40b6aa19-80a8-437f-bc94-0b45db8b7801"
      },
      "execution_count": 32,
      "outputs": [
        {
          "output_type": "execute_result",
          "data": {
            "text/plain": [
              "({'accuracy': 78.60892388451444,\n",
              "  'f1': 0.7830068921982195,\n",
              "  'precision': 0.7911704681403405,\n",
              "  'recall': 0.7860892388451444},\n",
              " {'accuracy': 79.26509186351706,\n",
              "  'f1': 0.7862189758049549,\n",
              "  'precision': 0.8111390004213173,\n",
              "  'recall': 0.7926509186351706})"
            ]
          },
          "metadata": {},
          "execution_count": 32
        }
      ]
    },
    {
      "cell_type": "code",
      "source": [
        "embed_weights = model_1.get_layer(\"embedding\").get_weights()[0]\n",
        "embed_weights.shape"
      ],
      "metadata": {
        "colab": {
          "base_uri": "https://localhost:8080/"
        },
        "id": "nMDqa0bjodTZ",
        "outputId": "2d4d3b5d-de87-4534-d40b-d8874216fbe4"
      },
      "execution_count": 33,
      "outputs": [
        {
          "output_type": "execute_result",
          "data": {
            "text/plain": [
              "(10000, 128)"
            ]
          },
          "metadata": {},
          "execution_count": 33
        }
      ]
    },
    {
      "cell_type": "markdown",
      "source": [
        "# Model 2: LSTM Model"
      ],
      "metadata": {
        "id": "SD23njEklQqb"
      }
    },
    {
      "cell_type": "code",
      "source": [
        "from tensorflow.keras import layers\n",
        "\n",
        "inputs = layers.Input(shape=(1,), dtype=\"string\")\n",
        "x = text_vectorizer(inputs)\n",
        "x = embedding(x)\n",
        "x = layers.LSTM(64, return_sequences=True)(x)\n",
        "x = layers.LSTM(64)(x)\n",
        "x = layers.Dense(64, activation=\"relu\")(x)\n",
        "outputs = layers.Dense(1, activation=\"sigmoid\")(x)\n",
        "model_2 = tf.keras.Model(inputs, outputs, name=\"model_2_LSTM\")"
      ],
      "metadata": {
        "id": "VMHu_qPfqah-"
      },
      "execution_count": 34,
      "outputs": []
    },
    {
      "cell_type": "code",
      "source": [
        "model_2.compile(\n",
        "    loss=\"binary_crossentropy\",\n",
        "    optimizer=tf.keras.optimizers.Adam(),\n",
        "    metrics=[\"accuracy\"]\n",
        ")"
      ],
      "metadata": {
        "id": "Ne5OLLd2nOBt"
      },
      "execution_count": 35,
      "outputs": []
    },
    {
      "cell_type": "code",
      "source": [
        "model_2_history = model_2.fit(\n",
        "    train_sentences,\n",
        "    train_labels,\n",
        "    epochs=5,\n",
        "    validation_data=(val_sentences, val_labels),\n",
        "    callbacks=[create_tensorboard_callback(SAVE_DIR, \"model_2_LSTM\")]\n",
        ")"
      ],
      "metadata": {
        "colab": {
          "base_uri": "https://localhost:8080/"
        },
        "id": "7IiH_6RxnV0x",
        "outputId": "dfecc5d2-2c7a-4f5d-9f77-3e366dde30e9"
      },
      "execution_count": 36,
      "outputs": [
        {
          "output_type": "stream",
          "name": "stdout",
          "text": [
            "Saving TensorBoard log files to: model_logs/model_2_LSTM/20220710-023349\n",
            "Epoch 1/5\n",
            "215/215 [==============================] - 9s 11ms/step - loss: 0.2250 - accuracy: 0.9237 - val_loss: 0.5034 - val_accuracy: 0.7861\n",
            "Epoch 2/5\n",
            "215/215 [==============================] - 2s 8ms/step - loss: 0.1606 - accuracy: 0.9412 - val_loss: 0.6924 - val_accuracy: 0.7756\n",
            "Epoch 3/5\n",
            "215/215 [==============================] - 2s 8ms/step - loss: 0.1326 - accuracy: 0.9502 - val_loss: 0.7258 - val_accuracy: 0.7848\n",
            "Epoch 4/5\n",
            "215/215 [==============================] - 2s 8ms/step - loss: 0.1080 - accuracy: 0.9577 - val_loss: 0.7744 - val_accuracy: 0.7730\n",
            "Epoch 5/5\n",
            "215/215 [==============================] - 2s 8ms/step - loss: 0.0876 - accuracy: 0.9666 - val_loss: 0.8440 - val_accuracy: 0.7717\n"
          ]
        }
      ]
    },
    {
      "cell_type": "code",
      "source": [
        "model_2_pred_probs = model_2.predict(val_sentences)\n",
        "model_2_pred_probs[:10]"
      ],
      "metadata": {
        "colab": {
          "base_uri": "https://localhost:8080/"
        },
        "id": "QsysZL4Xnt1Y",
        "outputId": "d8829279-dfbc-438b-ccbe-328d53d7be2e"
      },
      "execution_count": 37,
      "outputs": [
        {
          "output_type": "execute_result",
          "data": {
            "text/plain": [
              "array([[5.7971990e-01],\n",
              "       [8.1903154e-01],\n",
              "       [9.9990642e-01],\n",
              "       [1.6937876e-01],\n",
              "       [4.0205705e-04],\n",
              "       [9.9737418e-01],\n",
              "       [9.6084231e-01],\n",
              "       [9.9993551e-01],\n",
              "       [9.9987161e-01],\n",
              "       [7.9127127e-01]], dtype=float32)"
            ]
          },
          "metadata": {},
          "execution_count": 37
        }
      ]
    },
    {
      "cell_type": "code",
      "source": [
        "model_2_preds = tf.squeeze(tf.round(model_2_pred_probs))\n",
        "model_2_preds[:10]"
      ],
      "metadata": {
        "colab": {
          "base_uri": "https://localhost:8080/"
        },
        "id": "Q2txykyan5yv",
        "outputId": "3e7f11c7-ad68-4ce6-a80a-76b6c8330a27"
      },
      "execution_count": 38,
      "outputs": [
        {
          "output_type": "execute_result",
          "data": {
            "text/plain": [
              "<tf.Tensor: shape=(10,), dtype=float32, numpy=array([1., 1., 1., 0., 0., 1., 1., 1., 1., 1.], dtype=float32)>"
            ]
          },
          "metadata": {},
          "execution_count": 38
        }
      ]
    },
    {
      "cell_type": "code",
      "source": [
        "model_2_results = calculate_results(y_true=val_labels, y_pred=model_2_preds)\n",
        "model_2_results"
      ],
      "metadata": {
        "colab": {
          "base_uri": "https://localhost:8080/"
        },
        "id": "RBkiUvDToFKY",
        "outputId": "76dd352a-0597-4b4a-dcf9-7c9f41946257"
      },
      "execution_count": 39,
      "outputs": [
        {
          "output_type": "execute_result",
          "data": {
            "text/plain": [
              "{'accuracy': 77.16535433070865,\n",
              " 'f1': 0.7715424922012581,\n",
              " 'precision': 0.7714741503256236,\n",
              " 'recall': 0.7716535433070866}"
            ]
          },
          "metadata": {},
          "execution_count": 39
        }
      ]
    },
    {
      "cell_type": "markdown",
      "source": [
        "# Model 3: GRU Model"
      ],
      "metadata": {
        "id": "Flvco2JPoiCJ"
      }
    },
    {
      "cell_type": "code",
      "source": [
        "from tensorflow.keras import layers\n",
        "\n",
        "inputs = layers.Input(shape=(1,), dtype=\"string\")\n",
        "x = text_vectorizer(inputs)\n",
        "x = embedding(x)\n",
        "#x = layers.GRU(64, return_sequences=True)(x)\n",
        "#x = layers.LSTM(64, return_sequences=True)(x)\n",
        "x = layers.GRU(64)(x)\n",
        "x = layers.Dense(64, activation=\"relu\")(x)\n",
        "outputs = layers.Dense(1, activation=\"sigmoid\")(x)\n",
        "\n",
        "model_3 = tf.keras.Model(inputs, outputs, name=\"model_3_GRU\")"
      ],
      "metadata": {
        "id": "mGmAJLvOokz8"
      },
      "execution_count": 40,
      "outputs": []
    },
    {
      "cell_type": "code",
      "source": [
        "model_3.compile(\n",
        "    loss=\"binary_crossentropy\",\n",
        "    optimizer=tf.keras.optimizers.Adam(),\n",
        "    metrics=[\"accuracy\"]\n",
        ")"
      ],
      "metadata": {
        "id": "GesF39RKp2d_"
      },
      "execution_count": 41,
      "outputs": []
    },
    {
      "cell_type": "code",
      "source": [
        "model_3_history = model_3.fit(\n",
        "    train_sentences,\n",
        "    train_labels,\n",
        "    epochs=5,\n",
        "    validation_data=(val_sentences, val_labels),\n",
        "    callbacks=[create_tensorboard_callback(SAVE_DIR, \"model_2_GRU\")]\n",
        ")"
      ],
      "metadata": {
        "colab": {
          "base_uri": "https://localhost:8080/"
        },
        "id": "v7FE10mmqFLD",
        "outputId": "f66e7277-f43f-45a8-99ea-351c731f344c"
      },
      "execution_count": 42,
      "outputs": [
        {
          "output_type": "stream",
          "name": "stdout",
          "text": [
            "Saving TensorBoard log files to: model_logs/model_2_GRU/20220710-023406\n",
            "Epoch 1/5\n",
            "215/215 [==============================] - 3s 8ms/step - loss: 0.1627 - accuracy: 0.9362 - val_loss: 0.7079 - val_accuracy: 0.7795\n",
            "Epoch 2/5\n",
            "215/215 [==============================] - 1s 6ms/step - loss: 0.0855 - accuracy: 0.9675 - val_loss: 0.7287 - val_accuracy: 0.7664\n",
            "Epoch 3/5\n",
            "215/215 [==============================] - 1s 6ms/step - loss: 0.0671 - accuracy: 0.9737 - val_loss: 1.0799 - val_accuracy: 0.7743\n",
            "Epoch 4/5\n",
            "215/215 [==============================] - 1s 6ms/step - loss: 0.0560 - accuracy: 0.9742 - val_loss: 1.1787 - val_accuracy: 0.7743\n",
            "Epoch 5/5\n",
            "215/215 [==============================] - 1s 6ms/step - loss: 0.0517 - accuracy: 0.9768 - val_loss: 1.3392 - val_accuracy: 0.7717\n"
          ]
        }
      ]
    },
    {
      "cell_type": "code",
      "source": [
        "model_3_pred_probs = model_3.predict(val_sentences)\n",
        "model_3_pred_probs[:10]"
      ],
      "metadata": {
        "colab": {
          "base_uri": "https://localhost:8080/"
        },
        "id": "7Z6AoDwcqN0t",
        "outputId": "f5d39348-4e70-4b93-b72c-717666bc9d66"
      },
      "execution_count": 43,
      "outputs": [
        {
          "output_type": "execute_result",
          "data": {
            "text/plain": [
              "array([[7.3564490e-03],\n",
              "       [7.2834033e-01],\n",
              "       [9.9997258e-01],\n",
              "       [7.9212770e-02],\n",
              "       [7.6463848e-06],\n",
              "       [9.9959654e-01],\n",
              "       [8.8300991e-01],\n",
              "       [9.9998546e-01],\n",
              "       [9.9998009e-01],\n",
              "       [8.2490814e-01]], dtype=float32)"
            ]
          },
          "metadata": {},
          "execution_count": 43
        }
      ]
    },
    {
      "cell_type": "code",
      "source": [
        "model_3_preds = tf.squeeze(tf.round(model_3_pred_probs))\n",
        "model_3_preds[:10]"
      ],
      "metadata": {
        "colab": {
          "base_uri": "https://localhost:8080/"
        },
        "id": "ZjGJeWhdqTes",
        "outputId": "27621a17-609f-4809-c718-0a375df9011b"
      },
      "execution_count": 44,
      "outputs": [
        {
          "output_type": "execute_result",
          "data": {
            "text/plain": [
              "<tf.Tensor: shape=(10,), dtype=float32, numpy=array([0., 1., 1., 0., 0., 1., 1., 1., 1., 1.], dtype=float32)>"
            ]
          },
          "metadata": {},
          "execution_count": 44
        }
      ]
    },
    {
      "cell_type": "code",
      "source": [
        "model_3_results = calculate_results(y_true=val_labels, y_pred=model_3_preds)\n",
        "model_3_results"
      ],
      "metadata": {
        "colab": {
          "base_uri": "https://localhost:8080/"
        },
        "id": "ztNOVBWmqbDp",
        "outputId": "00cff460-9859-47d2-9f72-4afb613ac6af"
      },
      "execution_count": 45,
      "outputs": [
        {
          "output_type": "execute_result",
          "data": {
            "text/plain": [
              "{'accuracy': 77.16535433070865,\n",
              " 'f1': 0.7682834985355502,\n",
              " 'precision': 0.7762974910710267,\n",
              " 'recall': 0.7716535433070866}"
            ]
          },
          "metadata": {},
          "execution_count": 45
        }
      ]
    },
    {
      "cell_type": "code",
      "source": [
        "baseline_results"
      ],
      "metadata": {
        "id": "mlxNie1kqhDl",
        "outputId": "9771ff38-15f7-4e93-e735-1fdcd7a56257",
        "colab": {
          "base_uri": "https://localhost:8080/"
        }
      },
      "execution_count": 46,
      "outputs": [
        {
          "output_type": "execute_result",
          "data": {
            "text/plain": [
              "{'accuracy': 79.26509186351706,\n",
              " 'f1': 0.7862189758049549,\n",
              " 'precision': 0.8111390004213173,\n",
              " 'recall': 0.7926509186351706}"
            ]
          },
          "metadata": {},
          "execution_count": 46
        }
      ]
    },
    {
      "cell_type": "markdown",
      "source": [
        "# Model 4: Bi-Directional RNN Model"
      ],
      "metadata": {
        "id": "xJHigSRY3w51"
      }
    },
    {
      "cell_type": "code",
      "source": [
        "from tensorflow.keras import layers\n",
        "\n",
        "inputs = layers.Input(shape=(1,), dtype=\"string\")\n",
        "x = text_vectorizer(inputs)\n",
        "x = embedding(x)\n",
        "# x = layers.Bidirectional(layers.LSTM(64, return_sequences=True))(x)\n",
        "x = layers.Bidirectional(layers.LSTM(64))(x)\n",
        "x = layers.Dense(64, activation=\"relu\")(x)\n",
        "outputs = layers.Dense(1, activation=\"sigmoid\")(x)\n",
        "\n",
        "model_4 = tf.keras.Model(inputs, outputs, name=\"model_4_Bidirectional\")"
      ],
      "metadata": {
        "id": "jVJFkx7m3v5o"
      },
      "execution_count": 47,
      "outputs": []
    },
    {
      "cell_type": "code",
      "source": [
        "model_4.compile(\n",
        "    loss=\"binary_crossentropy\",\n",
        "    optimizer=tf.keras.optimizers.Adam(),\n",
        "    metrics=[\"accuracy\"]\n",
        ")"
      ],
      "metadata": {
        "id": "5WDzIGim5QC3"
      },
      "execution_count": 48,
      "outputs": []
    },
    {
      "cell_type": "code",
      "source": [
        "model_4_history = model_4.fit(\n",
        "    train_sentences,\n",
        "    train_labels,\n",
        "    epochs=5,\n",
        "    validation_data=(val_sentences, val_labels),\n",
        "    callbacks=[create_tensorboard_callback(SAVE_DIR, \"model_4_GRU\")]\n",
        ")"
      ],
      "metadata": {
        "colab": {
          "base_uri": "https://localhost:8080/"
        },
        "id": "N8WORMtg5dFU",
        "outputId": "4280812d-c247-4e48-ea7e-25b906323cab"
      },
      "execution_count": 49,
      "outputs": [
        {
          "output_type": "stream",
          "name": "stdout",
          "text": [
            "Saving TensorBoard log files to: model_logs/model_4_GRU/20220710-023419\n",
            "Epoch 1/5\n",
            "215/215 [==============================] - 5s 12ms/step - loss: 0.1060 - accuracy: 0.9682 - val_loss: 1.3324 - val_accuracy: 0.7730\n",
            "Epoch 2/5\n",
            "215/215 [==============================] - 2s 8ms/step - loss: 0.0516 - accuracy: 0.9777 - val_loss: 1.2652 - val_accuracy: 0.7690\n",
            "Epoch 3/5\n",
            "215/215 [==============================] - 2s 10ms/step - loss: 0.0506 - accuracy: 0.9772 - val_loss: 1.3932 - val_accuracy: 0.7690\n",
            "Epoch 4/5\n",
            "215/215 [==============================] - 2s 10ms/step - loss: 0.0408 - accuracy: 0.9796 - val_loss: 1.6697 - val_accuracy: 0.7730\n",
            "Epoch 5/5\n",
            "215/215 [==============================] - 2s 8ms/step - loss: 0.0414 - accuracy: 0.9803 - val_loss: 1.8700 - val_accuracy: 0.7677\n"
          ]
        }
      ]
    },
    {
      "cell_type": "code",
      "source": [
        "model_4_pred_probs = model_4.predict(val_sentences)\n",
        "model_4_pred_probs[:10]"
      ],
      "metadata": {
        "colab": {
          "base_uri": "https://localhost:8080/"
        },
        "id": "KCBZJ0PR5qfl",
        "outputId": "a2151785-cb04-44e3-87c6-3fa1fb2004b3"
      },
      "execution_count": 50,
      "outputs": [
        {
          "output_type": "execute_result",
          "data": {
            "text/plain": [
              "array([[9.9437898e-01],\n",
              "       [9.4117332e-01],\n",
              "       [9.9999928e-01],\n",
              "       [2.8882724e-01],\n",
              "       [8.0536302e-07],\n",
              "       [9.9999869e-01],\n",
              "       [9.9984157e-01],\n",
              "       [1.0000000e+00],\n",
              "       [9.9999976e-01],\n",
              "       [9.9986887e-01]], dtype=float32)"
            ]
          },
          "metadata": {},
          "execution_count": 50
        }
      ]
    },
    {
      "cell_type": "code",
      "source": [
        "model_4_preds = tf.squeeze(tf.round(model_4_pred_probs))\n",
        "model_4_preds[:10]"
      ],
      "metadata": {
        "colab": {
          "base_uri": "https://localhost:8080/"
        },
        "id": "QDTootHu5nGk",
        "outputId": "d94716f1-2f6b-44e6-e2f5-c73786652892"
      },
      "execution_count": 51,
      "outputs": [
        {
          "output_type": "execute_result",
          "data": {
            "text/plain": [
              "<tf.Tensor: shape=(10,), dtype=float32, numpy=array([1., 1., 1., 0., 0., 1., 1., 1., 1., 1.], dtype=float32)>"
            ]
          },
          "metadata": {},
          "execution_count": 51
        }
      ]
    },
    {
      "cell_type": "code",
      "source": [
        "model_4_results = calculate_results(y_true=val_labels, y_pred=model_4_preds)\n",
        "model_4_results"
      ],
      "metadata": {
        "colab": {
          "base_uri": "https://localhost:8080/"
        },
        "id": "ExKLYRK05uZ1",
        "outputId": "f40f2f05-6c18-48db-fc9e-8a107cffacf3"
      },
      "execution_count": 52,
      "outputs": [
        {
          "output_type": "execute_result",
          "data": {
            "text/plain": [
              "{'accuracy': 76.77165354330708,\n",
              " 'f1': 0.766597011860758,\n",
              " 'precision': 0.7677367335034279,\n",
              " 'recall': 0.7677165354330708}"
            ]
          },
          "metadata": {},
          "execution_count": 52
        }
      ]
    },
    {
      "cell_type": "markdown",
      "source": [
        "# Model 5: Conv1D Model"
      ],
      "metadata": {
        "id": "LDqVb_NHncUq"
      }
    },
    {
      "cell_type": "code",
      "source": [
        "import tensorflow as tf\n",
        "from tensorflow.keras import layers\n",
        "\n",
        "inputs = layers.Input(shape=(1,), dtype=\"string\")\n",
        "\n",
        "x = text_vectorizer(inputs)\n",
        "x = embedding(x)\n",
        "x = layers.Conv1D(filters=64, kernel_size=5, strides=1, activation=\"relu\", padding=\"valid\")(x)\n",
        "x = layers.GlobalMaxPool1D()(x)\n",
        "\n",
        "outputs = layers.Dense(1, activation=\"sigmoid\")(x)\n",
        "\n",
        "model_5 = tf.keras.Model(inputs, outputs, name=\"model_5_Conv1D\")"
      ],
      "metadata": {
        "id": "wGWnxNpmng89"
      },
      "execution_count": 53,
      "outputs": []
    },
    {
      "cell_type": "code",
      "source": [
        "model_5.compile(\n",
        "    loss=\"binary_crossentropy\",\n",
        "    optimizer=tf.keras.optimizers.Adam(),\n",
        "    metrics=[\"accuracy\"]\n",
        ")\n",
        "\n",
        "model_5.summary()"
      ],
      "metadata": {
        "colab": {
          "base_uri": "https://localhost:8080/"
        },
        "id": "URlWCScvq5JT",
        "outputId": "325d74ab-7db2-4c23-b938-fef6752baef9"
      },
      "execution_count": 54,
      "outputs": [
        {
          "output_type": "stream",
          "name": "stdout",
          "text": [
            "Model: \"model_5_Conv1D\"\n",
            "_________________________________________________________________\n",
            " Layer (type)                Output Shape              Param #   \n",
            "=================================================================\n",
            " input_5 (InputLayer)        [(None, 1)]               0         \n",
            "                                                                 \n",
            " text_vectorization (TextVec  (None, 15)               0         \n",
            " torization)                                                     \n",
            "                                                                 \n",
            " embedding (Embedding)       (None, 15, 128)           1280000   \n",
            "                                                                 \n",
            " conv1d (Conv1D)             (None, 11, 64)            41024     \n",
            "                                                                 \n",
            " global_max_pooling1d (Globa  (None, 64)               0         \n",
            " lMaxPooling1D)                                                  \n",
            "                                                                 \n",
            " dense_7 (Dense)             (None, 1)                 65        \n",
            "                                                                 \n",
            "=================================================================\n",
            "Total params: 1,321,089\n",
            "Trainable params: 1,321,089\n",
            "Non-trainable params: 0\n",
            "_________________________________________________________________\n"
          ]
        }
      ]
    },
    {
      "cell_type": "code",
      "source": [
        "model_5_history = model_5.fit(\n",
        "    train_sentences,\n",
        "    train_labels,\n",
        "    epochs=10,\n",
        "    validation_data=(val_sentences, val_labels),\n",
        "    callbacks=[create_tensorboard_callback(SAVE_DIR, \"Conv1D\")]\n",
        ")"
      ],
      "metadata": {
        "colab": {
          "base_uri": "https://localhost:8080/"
        },
        "id": "k_7CkdFgrFNW",
        "outputId": "69a2c10e-dd3f-4d3e-c184-a6573daf73b0"
      },
      "execution_count": 55,
      "outputs": [
        {
          "output_type": "stream",
          "name": "stdout",
          "text": [
            "Saving TensorBoard log files to: model_logs/Conv1D/20220710-023433\n",
            "Epoch 1/10\n",
            "215/215 [==============================] - 9s 6ms/step - loss: 0.1254 - accuracy: 0.9584 - val_loss: 0.9001 - val_accuracy: 0.7717\n",
            "Epoch 2/10\n",
            "215/215 [==============================] - 1s 5ms/step - loss: 0.0779 - accuracy: 0.9712 - val_loss: 1.0302 - val_accuracy: 0.7703\n",
            "Epoch 3/10\n",
            "215/215 [==============================] - 1s 5ms/step - loss: 0.0621 - accuracy: 0.9756 - val_loss: 1.1520 - val_accuracy: 0.7572\n",
            "Epoch 4/10\n",
            "215/215 [==============================] - 1s 5ms/step - loss: 0.0568 - accuracy: 0.9766 - val_loss: 1.1758 - val_accuracy: 0.7664\n",
            "Epoch 5/10\n",
            "215/215 [==============================] - 1s 5ms/step - loss: 0.0506 - accuracy: 0.9788 - val_loss: 1.2466 - val_accuracy: 0.7625\n",
            "Epoch 6/10\n",
            "215/215 [==============================] - 1s 5ms/step - loss: 0.0515 - accuracy: 0.9781 - val_loss: 1.2610 - val_accuracy: 0.7585\n",
            "Epoch 7/10\n",
            "215/215 [==============================] - 1s 5ms/step - loss: 0.0493 - accuracy: 0.9801 - val_loss: 1.2597 - val_accuracy: 0.7572\n",
            "Epoch 8/10\n",
            "215/215 [==============================] - 1s 5ms/step - loss: 0.0457 - accuracy: 0.9803 - val_loss: 1.2823 - val_accuracy: 0.7690\n",
            "Epoch 9/10\n",
            "215/215 [==============================] - 1s 5ms/step - loss: 0.0433 - accuracy: 0.9815 - val_loss: 1.2602 - val_accuracy: 0.7612\n",
            "Epoch 10/10\n",
            "215/215 [==============================] - 1s 5ms/step - loss: 0.0435 - accuracy: 0.9813 - val_loss: 1.2760 - val_accuracy: 0.7598\n"
          ]
        }
      ]
    },
    {
      "cell_type": "code",
      "source": [
        "model_5_pred_probs = model_5.predict(val_sentences)\n",
        "model_5_pred_probs[:10]"
      ],
      "metadata": {
        "colab": {
          "base_uri": "https://localhost:8080/"
        },
        "id": "cvFXV1JxrGJG",
        "outputId": "fcd503de-9f89-430e-8079-118c650c3e28"
      },
      "execution_count": 56,
      "outputs": [
        {
          "output_type": "execute_result",
          "data": {
            "text/plain": [
              "array([[4.4066703e-01],\n",
              "       [9.5935845e-01],\n",
              "       [9.9996948e-01],\n",
              "       [3.3706084e-02],\n",
              "       [8.6167404e-07],\n",
              "       [9.9659133e-01],\n",
              "       [9.2171019e-01],\n",
              "       [9.9999332e-01],\n",
              "       [9.9999905e-01],\n",
              "       [8.5726804e-01]], dtype=float32)"
            ]
          },
          "metadata": {},
          "execution_count": 56
        }
      ]
    },
    {
      "cell_type": "code",
      "source": [
        "model_5_preds = tf.squeeze(tf.round(model_5_pred_probs))\n",
        "model_5_preds[:10]"
      ],
      "metadata": {
        "colab": {
          "base_uri": "https://localhost:8080/"
        },
        "id": "_fa4gvKVrlxR",
        "outputId": "3a03097b-2824-4113-bba6-04f0c1bc92b0"
      },
      "execution_count": 57,
      "outputs": [
        {
          "output_type": "execute_result",
          "data": {
            "text/plain": [
              "<tf.Tensor: shape=(10,), dtype=float32, numpy=array([0., 1., 1., 0., 0., 1., 1., 1., 1., 1.], dtype=float32)>"
            ]
          },
          "metadata": {},
          "execution_count": 57
        }
      ]
    },
    {
      "cell_type": "code",
      "source": [
        "model_5_results = calculate_results(y_true=val_labels, y_pred=model_5_preds)\n",
        "model_5_results"
      ],
      "metadata": {
        "colab": {
          "base_uri": "https://localhost:8080/"
        },
        "id": "HBaxl0Ijrprh",
        "outputId": "f7936f81-aa87-4553-fe95-495b0aa1b9e1"
      },
      "execution_count": 58,
      "outputs": [
        {
          "output_type": "execute_result",
          "data": {
            "text/plain": [
              "{'accuracy': 75.98425196850394,\n",
              " 'f1': 0.758116023760764,\n",
              " 'precision': 0.7604578907479682,\n",
              " 'recall': 0.7598425196850394}"
            ]
          },
          "metadata": {},
          "execution_count": 58
        }
      ]
    },
    {
      "cell_type": "markdown",
      "source": [
        "# Model 6: Transfer Learning -> Universal Sentence Encoder"
      ],
      "metadata": {
        "id": "zlXr0F9q2Tu1"
      }
    },
    {
      "cell_type": "code",
      "source": [
        "import tensorflow as tf\n",
        "import tensorflow_hub as hub\n",
        "from tensorflow.keras import layers\n",
        "\n",
        "sentence_encoder_layer = hub.KerasLayer(\"https://tfhub.dev/google/universal-sentence-encoder/4\", input_shape=[], dtype=tf.string, name=\"USE\")\n",
        "\n",
        "model_6 = tf.keras.Sequential([\n",
        "    sentence_encoder_layer,\n",
        "    layers.Dense(64, activation=\"relu\"),\n",
        "    layers.Dense(1, activation=\"relu\")\n",
        "], name=\"model_6_USE\")\n",
        "\n",
        "model_6.compile(\n",
        "    loss=\"binary_crossentropy\",\n",
        "    optimizer=tf.keras.optimizers.Adam(),\n",
        "    metrics=[\"accuracy\"]\n",
        ")\n",
        "\n",
        "model_6_history = model_6.fit(\n",
        "    train_sentences,\n",
        "    train_labels,\n",
        "    epochs=5,\n",
        "    validation_data=(val_sentences, val_labels),\n",
        "    callbacks=[create_tensorboard_callback(SAVE_DIR, \"model_6_USE\")]\n",
        ")\n",
        "\n",
        "model_6.summary()"
      ],
      "metadata": {
        "colab": {
          "base_uri": "https://localhost:8080/"
        },
        "id": "2q0MOO5J2c86",
        "outputId": "f1ac7486-9581-48c1-a027-9bb80ff37c6c"
      },
      "execution_count": 59,
      "outputs": [
        {
          "output_type": "stream",
          "name": "stdout",
          "text": [
            "Saving TensorBoard log files to: model_logs/model_6_USE/20220710-023514\n",
            "Epoch 1/5\n",
            "215/215 [==============================] - 6s 13ms/step - loss: 0.5797 - accuracy: 0.7348 - val_loss: 0.5124 - val_accuracy: 0.7992\n",
            "Epoch 2/5\n",
            "215/215 [==============================] - 2s 11ms/step - loss: 0.4597 - accuracy: 0.8121 - val_loss: 0.5002 - val_accuracy: 0.8045\n",
            "Epoch 3/5\n",
            "215/215 [==============================] - 2s 11ms/step - loss: 0.4428 - accuracy: 0.8095 - val_loss: 0.4742 - val_accuracy: 0.7979\n",
            "Epoch 4/5\n",
            "215/215 [==============================] - 2s 11ms/step - loss: 0.6213 - accuracy: 0.7269 - val_loss: 0.5177 - val_accuracy: 0.7690\n",
            "Epoch 5/5\n",
            "215/215 [==============================] - 2s 11ms/step - loss: 0.4543 - accuracy: 0.8025 - val_loss: 0.5205 - val_accuracy: 0.7940\n",
            "Model: \"model_6_USE\"\n",
            "_________________________________________________________________\n",
            " Layer (type)                Output Shape              Param #   \n",
            "=================================================================\n",
            " USE (KerasLayer)            (None, 512)               256797824 \n",
            "                                                                 \n",
            " dense_8 (Dense)             (None, 64)                32832     \n",
            "                                                                 \n",
            " dense_9 (Dense)             (None, 1)                 65        \n",
            "                                                                 \n",
            "=================================================================\n",
            "Total params: 256,830,721\n",
            "Trainable params: 32,897\n",
            "Non-trainable params: 256,797,824\n",
            "_________________________________________________________________\n"
          ]
        }
      ]
    },
    {
      "cell_type": "code",
      "source": [
        "model_6_pred_probs = model_6.predict(val_sentences)\n",
        "model_6_pred_probs[:10]"
      ],
      "metadata": {
        "colab": {
          "base_uri": "https://localhost:8080/"
        },
        "id": "awzrIB4JpRwe",
        "outputId": "e8d0a39b-64f0-473c-e078-2de9f9293d37"
      },
      "execution_count": 60,
      "outputs": [
        {
          "output_type": "execute_result",
          "data": {
            "text/plain": [
              "array([[0.29445696],\n",
              "       [0.767015  ],\n",
              "       [1.0076684 ],\n",
              "       [0.2106513 ],\n",
              "       [0.61790484],\n",
              "       [0.7452192 ],\n",
              "       [1.0460303 ],\n",
              "       [1.1675125 ],\n",
              "       [0.6497609 ],\n",
              "       [0.11287041]], dtype=float32)"
            ]
          },
          "metadata": {},
          "execution_count": 60
        }
      ]
    },
    {
      "cell_type": "code",
      "source": [
        "model_6_preds = tf.squeeze(tf.round(model_6_pred_probs))\n",
        "model_6_preds[:10]"
      ],
      "metadata": {
        "colab": {
          "base_uri": "https://localhost:8080/"
        },
        "id": "VazttO4tphXz",
        "outputId": "e9347c74-4ef2-4f5d-8aa8-a6e2ebf156e4"
      },
      "execution_count": 61,
      "outputs": [
        {
          "output_type": "execute_result",
          "data": {
            "text/plain": [
              "<tf.Tensor: shape=(10,), dtype=float32, numpy=array([0., 1., 1., 0., 1., 1., 1., 1., 1., 0.], dtype=float32)>"
            ]
          },
          "metadata": {},
          "execution_count": 61
        }
      ]
    },
    {
      "cell_type": "code",
      "source": [
        "model_6_results = calculate_results(y_true=val_labels, y_pred=model_6_preds)\n",
        "model_6_results"
      ],
      "metadata": {
        "colab": {
          "base_uri": "https://localhost:8080/"
        },
        "id": "41CP5qw1pj7J",
        "outputId": "9077db4d-a759-4167-d2ce-75fdd9be68b2"
      },
      "execution_count": 62,
      "outputs": [
        {
          "output_type": "stream",
          "name": "stderr",
          "text": [
            "/usr/local/lib/python3.7/dist-packages/sklearn/metrics/_classification.py:1318: UndefinedMetricWarning: Recall and F-score are ill-defined and being set to 0.0 in labels with no true samples. Use `zero_division` parameter to control this behavior.\n",
            "  _warn_prf(average, modifier, msg_start, len(result))\n"
          ]
        },
        {
          "output_type": "execute_result",
          "data": {
            "text/plain": [
              "{'accuracy': 79.26509186351706,\n",
              " 'f1': 0.791619512726746,\n",
              " 'precision': 0.7949799848167683,\n",
              " 'recall': 0.7926509186351706}"
            ]
          },
          "metadata": {},
          "execution_count": 62
        }
      ]
    },
    {
      "cell_type": "markdown",
      "source": [
        "# Model 7: Transfer Learning with 10% of the dataset"
      ],
      "metadata": {
        "id": "DxwfHTu0DRwd"
      }
    },
    {
      "cell_type": "code",
      "source": [
        "## THIS CELL IS WRONG\n",
        "# data leakage happens here because train_test_split overlaps with this line\n",
        "train_10_percent = train_df_shuffled[[\"text\", \"target\"]].sample(frac=0.1, random_state=42)\n",
        "train_sentences_10_percent = train_10_percent[\"text\"].to_list()\n",
        "train_labels_10_percent = train_10_percent[\"target\"].to_list()\n",
        "len(train_sentences_10_percent), len(train_labels_10_percent)"
      ],
      "metadata": {
        "id": "ycweSI2aDk9Y",
        "colab": {
          "base_uri": "https://localhost:8080/"
        },
        "outputId": "ded02e1d-3a6c-4e57-f686-a643d173a6d0"
      },
      "execution_count": 63,
      "outputs": [
        {
          "output_type": "execute_result",
          "data": {
            "text/plain": [
              "(761, 761)"
            ]
          },
          "metadata": {},
          "execution_count": 63
        }
      ]
    },
    {
      "cell_type": "code",
      "source": [
        "# THIS CELL TAKES FROM THE TRAIN_SENTENCES SO NO \"DOUBLE DIPPING\" OCCURS\n",
        "train_sentences_10_percent = train_sentences[:int(0.1 * len(train_sentences))]\n",
        "train_labels_10_percent = train_labels[:int(0.1 * len(train_sentences))]"
      ],
      "metadata": {
        "id": "eVFYNnifbprI"
      },
      "execution_count": 64,
      "outputs": []
    },
    {
      "cell_type": "code",
      "source": [
        "train_10_percent[\"target\"].value_counts()"
      ],
      "metadata": {
        "colab": {
          "base_uri": "https://localhost:8080/"
        },
        "id": "gAJnJ6bCXxy2",
        "outputId": "8049b3dc-d4ba-4c63-ab83-025ce7c46b70"
      },
      "execution_count": 65,
      "outputs": [
        {
          "output_type": "execute_result",
          "data": {
            "text/plain": [
              "0    413\n",
              "1    348\n",
              "Name: target, dtype: int64"
            ]
          },
          "metadata": {},
          "execution_count": 65
        }
      ]
    },
    {
      "cell_type": "code",
      "source": [
        "train_df_shuffled[\"target\"].value_counts()"
      ],
      "metadata": {
        "colab": {
          "base_uri": "https://localhost:8080/"
        },
        "id": "20GngCAuX8a-",
        "outputId": "5034e4d8-e911-4064-9c6f-0d3b57690ffe"
      },
      "execution_count": 66,
      "outputs": [
        {
          "output_type": "execute_result",
          "data": {
            "text/plain": [
              "0    4342\n",
              "1    3271\n",
              "Name: target, dtype: int64"
            ]
          },
          "metadata": {},
          "execution_count": 66
        }
      ]
    },
    {
      "cell_type": "code",
      "source": [
        "model_7 = tf.keras.models.clone_model(model_6)\n",
        "\n",
        "model_7.compile(\n",
        "    loss=\"binary_crossentropy\",\n",
        "    optimizer=tf.keras.optimizers.Adam(),\n",
        "    metrics=[\"accuracy\"]\n",
        ")\n",
        "\n",
        "model_7_history = model_7.fit(\n",
        "    train_sentences_10_percent,\n",
        "    train_labels_10_percent,\n",
        "    epochs=5,\n",
        "    validation_data=(val_sentences, val_labels),\n",
        "    callbacks=[create_tensorboard_callback(SAVE_DIR, \"10_percent_of_the_data\")]\n",
        ")"
      ],
      "metadata": {
        "colab": {
          "base_uri": "https://localhost:8080/"
        },
        "id": "_a9O3A7TYAKc",
        "outputId": "82dccd34-281d-48f2-ab46-2f73fe9a9bde"
      },
      "execution_count": 67,
      "outputs": [
        {
          "output_type": "stream",
          "name": "stdout",
          "text": [
            "Saving TensorBoard log files to: model_logs/10_percent_of_the_data/20220710-023541\n",
            "Epoch 1/5\n",
            "22/22 [==============================] - 3s 44ms/step - loss: 1.0919 - accuracy: 0.5942 - val_loss: 0.6525 - val_accuracy: 0.5748\n",
            "Epoch 2/5\n",
            "22/22 [==============================] - 1s 26ms/step - loss: 0.5464 - accuracy: 0.7387 - val_loss: 0.5522 - val_accuracy: 0.7585\n",
            "Epoch 3/5\n",
            "22/22 [==============================] - 0s 20ms/step - loss: 0.4821 - accuracy: 0.8234 - val_loss: 0.5094 - val_accuracy: 0.7730\n",
            "Epoch 4/5\n",
            "22/22 [==============================] - 0s 21ms/step - loss: 0.4335 - accuracy: 0.8336 - val_loss: 0.4952 - val_accuracy: 0.7795\n",
            "Epoch 5/5\n",
            "22/22 [==============================] - 0s 20ms/step - loss: 0.3953 - accuracy: 0.8453 - val_loss: 0.5788 - val_accuracy: 0.7808\n"
          ]
        }
      ]
    },
    {
      "cell_type": "code",
      "source": [
        "model_7_pred_probs = model_7.predict(val_sentences)\n",
        "model_7_pred_probs[:10]"
      ],
      "metadata": {
        "colab": {
          "base_uri": "https://localhost:8080/"
        },
        "id": "8davek61aaTq",
        "outputId": "72f1c8f3-63db-45c4-94dc-43b6a4e0480a"
      },
      "execution_count": 68,
      "outputs": [
        {
          "output_type": "execute_result",
          "data": {
            "text/plain": [
              "array([[0.27473193],\n",
              "       [0.59915656],\n",
              "       [1.0273225 ],\n",
              "       [0.06112904],\n",
              "       [0.53526443],\n",
              "       [0.65454745],\n",
              "       [0.9887165 ],\n",
              "       [0.82311845],\n",
              "       [0.9321787 ],\n",
              "       [0.10010032]], dtype=float32)"
            ]
          },
          "metadata": {},
          "execution_count": 68
        }
      ]
    },
    {
      "cell_type": "code",
      "source": [
        "model_7_preds = tf.squeeze(tf.round(model_7_pred_probs))\n",
        "model_7_preds[:10]"
      ],
      "metadata": {
        "colab": {
          "base_uri": "https://localhost:8080/"
        },
        "id": "KyXIjmxNarD0",
        "outputId": "d78a2626-0ccd-49c9-b2dc-64babe728089"
      },
      "execution_count": 69,
      "outputs": [
        {
          "output_type": "execute_result",
          "data": {
            "text/plain": [
              "<tf.Tensor: shape=(10,), dtype=float32, numpy=array([0., 1., 1., 0., 1., 1., 1., 1., 1., 0.], dtype=float32)>"
            ]
          },
          "metadata": {},
          "execution_count": 69
        }
      ]
    },
    {
      "cell_type": "code",
      "source": [
        "model_7_results = calculate_results(y_true=val_labels, y_pred=model_7_preds)\n",
        "model_7_results"
      ],
      "metadata": {
        "colab": {
          "base_uri": "https://localhost:8080/"
        },
        "id": "pMXJdprHauEO",
        "outputId": "08196bed-04a0-487f-befd-64656b709473"
      },
      "execution_count": 70,
      "outputs": [
        {
          "output_type": "execute_result",
          "data": {
            "text/plain": [
              "{'accuracy': 78.08398950131233,\n",
              " 'f1': 0.778533312750939,\n",
              " 'precision': 0.7834583238190046,\n",
              " 'recall': 0.7808398950131233}"
            ]
          },
          "metadata": {},
          "execution_count": 70
        }
      ]
    },
    {
      "cell_type": "markdown",
      "source": [
        "# Comparing Models"
      ],
      "metadata": {
        "id": "esy_mYL2ekxv"
      }
    },
    {
      "cell_type": "code",
      "source": [
        "all_model_results = pd.DataFrame({\n",
        "    \"0_baseline\": baseline_results,\n",
        "    \"1_dense\": model_1_results,\n",
        "    \"2_LSTM\": model_2_results,\n",
        "    \"3_GRU\": model_3_results,\n",
        "    \"4_Bi-directional\": model_4_results,\n",
        "    \"5_conv1d\": model_5_results,\n",
        "    \"6_USE\": model_6_results,\n",
        "    \"7_USE_10_percent\": model_7_results,\n",
        "})\n",
        "\n",
        "all_model_results = all_model_results.transpose()\n",
        "all_model_results"
      ],
      "metadata": {
        "colab": {
          "base_uri": "https://localhost:8080/",
          "height": 300
        },
        "id": "dR3u0IKEekHL",
        "outputId": "e2637c79-eec4-4969-e26b-d66fd431da66"
      },
      "execution_count": 71,
      "outputs": [
        {
          "output_type": "execute_result",
          "data": {
            "text/plain": [
              "                   accuracy  precision    recall        f1\n",
              "0_baseline        79.265092   0.811139  0.792651  0.786219\n",
              "1_dense           78.608924   0.791170  0.786089  0.783007\n",
              "2_LSTM            77.165354   0.771474  0.771654  0.771542\n",
              "3_GRU             77.165354   0.776297  0.771654  0.768283\n",
              "4_Bi-directional  76.771654   0.767737  0.767717  0.766597\n",
              "5_conv1d          75.984252   0.760458  0.759843  0.758116\n",
              "6_USE             79.265092   0.794980  0.792651  0.791620\n",
              "7_USE_10_percent  78.083990   0.783458  0.780840  0.778533"
            ],
            "text/html": [
              "\n",
              "  <div id=\"df-a468b99a-0ccb-4fd0-a181-418d81972dbe\">\n",
              "    <div class=\"colab-df-container\">\n",
              "      <div>\n",
              "<style scoped>\n",
              "    .dataframe tbody tr th:only-of-type {\n",
              "        vertical-align: middle;\n",
              "    }\n",
              "\n",
              "    .dataframe tbody tr th {\n",
              "        vertical-align: top;\n",
              "    }\n",
              "\n",
              "    .dataframe thead th {\n",
              "        text-align: right;\n",
              "    }\n",
              "</style>\n",
              "<table border=\"1\" class=\"dataframe\">\n",
              "  <thead>\n",
              "    <tr style=\"text-align: right;\">\n",
              "      <th></th>\n",
              "      <th>accuracy</th>\n",
              "      <th>precision</th>\n",
              "      <th>recall</th>\n",
              "      <th>f1</th>\n",
              "    </tr>\n",
              "  </thead>\n",
              "  <tbody>\n",
              "    <tr>\n",
              "      <th>0_baseline</th>\n",
              "      <td>79.265092</td>\n",
              "      <td>0.811139</td>\n",
              "      <td>0.792651</td>\n",
              "      <td>0.786219</td>\n",
              "    </tr>\n",
              "    <tr>\n",
              "      <th>1_dense</th>\n",
              "      <td>78.608924</td>\n",
              "      <td>0.791170</td>\n",
              "      <td>0.786089</td>\n",
              "      <td>0.783007</td>\n",
              "    </tr>\n",
              "    <tr>\n",
              "      <th>2_LSTM</th>\n",
              "      <td>77.165354</td>\n",
              "      <td>0.771474</td>\n",
              "      <td>0.771654</td>\n",
              "      <td>0.771542</td>\n",
              "    </tr>\n",
              "    <tr>\n",
              "      <th>3_GRU</th>\n",
              "      <td>77.165354</td>\n",
              "      <td>0.776297</td>\n",
              "      <td>0.771654</td>\n",
              "      <td>0.768283</td>\n",
              "    </tr>\n",
              "    <tr>\n",
              "      <th>4_Bi-directional</th>\n",
              "      <td>76.771654</td>\n",
              "      <td>0.767737</td>\n",
              "      <td>0.767717</td>\n",
              "      <td>0.766597</td>\n",
              "    </tr>\n",
              "    <tr>\n",
              "      <th>5_conv1d</th>\n",
              "      <td>75.984252</td>\n",
              "      <td>0.760458</td>\n",
              "      <td>0.759843</td>\n",
              "      <td>0.758116</td>\n",
              "    </tr>\n",
              "    <tr>\n",
              "      <th>6_USE</th>\n",
              "      <td>79.265092</td>\n",
              "      <td>0.794980</td>\n",
              "      <td>0.792651</td>\n",
              "      <td>0.791620</td>\n",
              "    </tr>\n",
              "    <tr>\n",
              "      <th>7_USE_10_percent</th>\n",
              "      <td>78.083990</td>\n",
              "      <td>0.783458</td>\n",
              "      <td>0.780840</td>\n",
              "      <td>0.778533</td>\n",
              "    </tr>\n",
              "  </tbody>\n",
              "</table>\n",
              "</div>\n",
              "      <button class=\"colab-df-convert\" onclick=\"convertToInteractive('df-a468b99a-0ccb-4fd0-a181-418d81972dbe')\"\n",
              "              title=\"Convert this dataframe to an interactive table.\"\n",
              "              style=\"display:none;\">\n",
              "        \n",
              "  <svg xmlns=\"http://www.w3.org/2000/svg\" height=\"24px\"viewBox=\"0 0 24 24\"\n",
              "       width=\"24px\">\n",
              "    <path d=\"M0 0h24v24H0V0z\" fill=\"none\"/>\n",
              "    <path d=\"M18.56 5.44l.94 2.06.94-2.06 2.06-.94-2.06-.94-.94-2.06-.94 2.06-2.06.94zm-11 1L8.5 8.5l.94-2.06 2.06-.94-2.06-.94L8.5 2.5l-.94 2.06-2.06.94zm10 10l.94 2.06.94-2.06 2.06-.94-2.06-.94-.94-2.06-.94 2.06-2.06.94z\"/><path d=\"M17.41 7.96l-1.37-1.37c-.4-.4-.92-.59-1.43-.59-.52 0-1.04.2-1.43.59L10.3 9.45l-7.72 7.72c-.78.78-.78 2.05 0 2.83L4 21.41c.39.39.9.59 1.41.59.51 0 1.02-.2 1.41-.59l7.78-7.78 2.81-2.81c.8-.78.8-2.07 0-2.86zM5.41 20L4 18.59l7.72-7.72 1.47 1.35L5.41 20z\"/>\n",
              "  </svg>\n",
              "      </button>\n",
              "      \n",
              "  <style>\n",
              "    .colab-df-container {\n",
              "      display:flex;\n",
              "      flex-wrap:wrap;\n",
              "      gap: 12px;\n",
              "    }\n",
              "\n",
              "    .colab-df-convert {\n",
              "      background-color: #E8F0FE;\n",
              "      border: none;\n",
              "      border-radius: 50%;\n",
              "      cursor: pointer;\n",
              "      display: none;\n",
              "      fill: #1967D2;\n",
              "      height: 32px;\n",
              "      padding: 0 0 0 0;\n",
              "      width: 32px;\n",
              "    }\n",
              "\n",
              "    .colab-df-convert:hover {\n",
              "      background-color: #E2EBFA;\n",
              "      box-shadow: 0px 1px 2px rgba(60, 64, 67, 0.3), 0px 1px 3px 1px rgba(60, 64, 67, 0.15);\n",
              "      fill: #174EA6;\n",
              "    }\n",
              "\n",
              "    [theme=dark] .colab-df-convert {\n",
              "      background-color: #3B4455;\n",
              "      fill: #D2E3FC;\n",
              "    }\n",
              "\n",
              "    [theme=dark] .colab-df-convert:hover {\n",
              "      background-color: #434B5C;\n",
              "      box-shadow: 0px 1px 3px 1px rgba(0, 0, 0, 0.15);\n",
              "      filter: drop-shadow(0px 1px 2px rgba(0, 0, 0, 0.3));\n",
              "      fill: #FFFFFF;\n",
              "    }\n",
              "  </style>\n",
              "\n",
              "      <script>\n",
              "        const buttonEl =\n",
              "          document.querySelector('#df-a468b99a-0ccb-4fd0-a181-418d81972dbe button.colab-df-convert');\n",
              "        buttonEl.style.display =\n",
              "          google.colab.kernel.accessAllowed ? 'block' : 'none';\n",
              "\n",
              "        async function convertToInteractive(key) {\n",
              "          const element = document.querySelector('#df-a468b99a-0ccb-4fd0-a181-418d81972dbe');\n",
              "          const dataTable =\n",
              "            await google.colab.kernel.invokeFunction('convertToInteractive',\n",
              "                                                     [key], {});\n",
              "          if (!dataTable) return;\n",
              "\n",
              "          const docLinkHtml = 'Like what you see? Visit the ' +\n",
              "            '<a target=\"_blank\" href=https://colab.research.google.com/notebooks/data_table.ipynb>data table notebook</a>'\n",
              "            + ' to learn more about interactive tables.';\n",
              "          element.innerHTML = '';\n",
              "          dataTable['output_type'] = 'display_data';\n",
              "          await google.colab.output.renderOutput(dataTable, element);\n",
              "          const docLink = document.createElement('div');\n",
              "          docLink.innerHTML = docLinkHtml;\n",
              "          element.appendChild(docLink);\n",
              "        }\n",
              "      </script>\n",
              "    </div>\n",
              "  </div>\n",
              "  "
            ]
          },
          "metadata": {},
          "execution_count": 71
        }
      ]
    },
    {
      "cell_type": "code",
      "source": [
        "all_model_results[\"accuracy\"] = all_model_results[\"accuracy\"] / 100\n",
        "all_model_results"
      ],
      "metadata": {
        "colab": {
          "base_uri": "https://localhost:8080/",
          "height": 300
        },
        "id": "Cuwk64LLfG9X",
        "outputId": "081f79bb-b6ed-4928-ea7a-85ab5c5d665a"
      },
      "execution_count": 72,
      "outputs": [
        {
          "output_type": "execute_result",
          "data": {
            "text/plain": [
              "                  accuracy  precision    recall        f1\n",
              "0_baseline        0.792651   0.811139  0.792651  0.786219\n",
              "1_dense           0.786089   0.791170  0.786089  0.783007\n",
              "2_LSTM            0.771654   0.771474  0.771654  0.771542\n",
              "3_GRU             0.771654   0.776297  0.771654  0.768283\n",
              "4_Bi-directional  0.767717   0.767737  0.767717  0.766597\n",
              "5_conv1d          0.759843   0.760458  0.759843  0.758116\n",
              "6_USE             0.792651   0.794980  0.792651  0.791620\n",
              "7_USE_10_percent  0.780840   0.783458  0.780840  0.778533"
            ],
            "text/html": [
              "\n",
              "  <div id=\"df-3f4815d8-c57b-42e4-acd3-afaccf6f3dd3\">\n",
              "    <div class=\"colab-df-container\">\n",
              "      <div>\n",
              "<style scoped>\n",
              "    .dataframe tbody tr th:only-of-type {\n",
              "        vertical-align: middle;\n",
              "    }\n",
              "\n",
              "    .dataframe tbody tr th {\n",
              "        vertical-align: top;\n",
              "    }\n",
              "\n",
              "    .dataframe thead th {\n",
              "        text-align: right;\n",
              "    }\n",
              "</style>\n",
              "<table border=\"1\" class=\"dataframe\">\n",
              "  <thead>\n",
              "    <tr style=\"text-align: right;\">\n",
              "      <th></th>\n",
              "      <th>accuracy</th>\n",
              "      <th>precision</th>\n",
              "      <th>recall</th>\n",
              "      <th>f1</th>\n",
              "    </tr>\n",
              "  </thead>\n",
              "  <tbody>\n",
              "    <tr>\n",
              "      <th>0_baseline</th>\n",
              "      <td>0.792651</td>\n",
              "      <td>0.811139</td>\n",
              "      <td>0.792651</td>\n",
              "      <td>0.786219</td>\n",
              "    </tr>\n",
              "    <tr>\n",
              "      <th>1_dense</th>\n",
              "      <td>0.786089</td>\n",
              "      <td>0.791170</td>\n",
              "      <td>0.786089</td>\n",
              "      <td>0.783007</td>\n",
              "    </tr>\n",
              "    <tr>\n",
              "      <th>2_LSTM</th>\n",
              "      <td>0.771654</td>\n",
              "      <td>0.771474</td>\n",
              "      <td>0.771654</td>\n",
              "      <td>0.771542</td>\n",
              "    </tr>\n",
              "    <tr>\n",
              "      <th>3_GRU</th>\n",
              "      <td>0.771654</td>\n",
              "      <td>0.776297</td>\n",
              "      <td>0.771654</td>\n",
              "      <td>0.768283</td>\n",
              "    </tr>\n",
              "    <tr>\n",
              "      <th>4_Bi-directional</th>\n",
              "      <td>0.767717</td>\n",
              "      <td>0.767737</td>\n",
              "      <td>0.767717</td>\n",
              "      <td>0.766597</td>\n",
              "    </tr>\n",
              "    <tr>\n",
              "      <th>5_conv1d</th>\n",
              "      <td>0.759843</td>\n",
              "      <td>0.760458</td>\n",
              "      <td>0.759843</td>\n",
              "      <td>0.758116</td>\n",
              "    </tr>\n",
              "    <tr>\n",
              "      <th>6_USE</th>\n",
              "      <td>0.792651</td>\n",
              "      <td>0.794980</td>\n",
              "      <td>0.792651</td>\n",
              "      <td>0.791620</td>\n",
              "    </tr>\n",
              "    <tr>\n",
              "      <th>7_USE_10_percent</th>\n",
              "      <td>0.780840</td>\n",
              "      <td>0.783458</td>\n",
              "      <td>0.780840</td>\n",
              "      <td>0.778533</td>\n",
              "    </tr>\n",
              "  </tbody>\n",
              "</table>\n",
              "</div>\n",
              "      <button class=\"colab-df-convert\" onclick=\"convertToInteractive('df-3f4815d8-c57b-42e4-acd3-afaccf6f3dd3')\"\n",
              "              title=\"Convert this dataframe to an interactive table.\"\n",
              "              style=\"display:none;\">\n",
              "        \n",
              "  <svg xmlns=\"http://www.w3.org/2000/svg\" height=\"24px\"viewBox=\"0 0 24 24\"\n",
              "       width=\"24px\">\n",
              "    <path d=\"M0 0h24v24H0V0z\" fill=\"none\"/>\n",
              "    <path d=\"M18.56 5.44l.94 2.06.94-2.06 2.06-.94-2.06-.94-.94-2.06-.94 2.06-2.06.94zm-11 1L8.5 8.5l.94-2.06 2.06-.94-2.06-.94L8.5 2.5l-.94 2.06-2.06.94zm10 10l.94 2.06.94-2.06 2.06-.94-2.06-.94-.94-2.06-.94 2.06-2.06.94z\"/><path d=\"M17.41 7.96l-1.37-1.37c-.4-.4-.92-.59-1.43-.59-.52 0-1.04.2-1.43.59L10.3 9.45l-7.72 7.72c-.78.78-.78 2.05 0 2.83L4 21.41c.39.39.9.59 1.41.59.51 0 1.02-.2 1.41-.59l7.78-7.78 2.81-2.81c.8-.78.8-2.07 0-2.86zM5.41 20L4 18.59l7.72-7.72 1.47 1.35L5.41 20z\"/>\n",
              "  </svg>\n",
              "      </button>\n",
              "      \n",
              "  <style>\n",
              "    .colab-df-container {\n",
              "      display:flex;\n",
              "      flex-wrap:wrap;\n",
              "      gap: 12px;\n",
              "    }\n",
              "\n",
              "    .colab-df-convert {\n",
              "      background-color: #E8F0FE;\n",
              "      border: none;\n",
              "      border-radius: 50%;\n",
              "      cursor: pointer;\n",
              "      display: none;\n",
              "      fill: #1967D2;\n",
              "      height: 32px;\n",
              "      padding: 0 0 0 0;\n",
              "      width: 32px;\n",
              "    }\n",
              "\n",
              "    .colab-df-convert:hover {\n",
              "      background-color: #E2EBFA;\n",
              "      box-shadow: 0px 1px 2px rgba(60, 64, 67, 0.3), 0px 1px 3px 1px rgba(60, 64, 67, 0.15);\n",
              "      fill: #174EA6;\n",
              "    }\n",
              "\n",
              "    [theme=dark] .colab-df-convert {\n",
              "      background-color: #3B4455;\n",
              "      fill: #D2E3FC;\n",
              "    }\n",
              "\n",
              "    [theme=dark] .colab-df-convert:hover {\n",
              "      background-color: #434B5C;\n",
              "      box-shadow: 0px 1px 3px 1px rgba(0, 0, 0, 0.15);\n",
              "      filter: drop-shadow(0px 1px 2px rgba(0, 0, 0, 0.3));\n",
              "      fill: #FFFFFF;\n",
              "    }\n",
              "  </style>\n",
              "\n",
              "      <script>\n",
              "        const buttonEl =\n",
              "          document.querySelector('#df-3f4815d8-c57b-42e4-acd3-afaccf6f3dd3 button.colab-df-convert');\n",
              "        buttonEl.style.display =\n",
              "          google.colab.kernel.accessAllowed ? 'block' : 'none';\n",
              "\n",
              "        async function convertToInteractive(key) {\n",
              "          const element = document.querySelector('#df-3f4815d8-c57b-42e4-acd3-afaccf6f3dd3');\n",
              "          const dataTable =\n",
              "            await google.colab.kernel.invokeFunction('convertToInteractive',\n",
              "                                                     [key], {});\n",
              "          if (!dataTable) return;\n",
              "\n",
              "          const docLinkHtml = 'Like what you see? Visit the ' +\n",
              "            '<a target=\"_blank\" href=https://colab.research.google.com/notebooks/data_table.ipynb>data table notebook</a>'\n",
              "            + ' to learn more about interactive tables.';\n",
              "          element.innerHTML = '';\n",
              "          dataTable['output_type'] = 'display_data';\n",
              "          await google.colab.output.renderOutput(dataTable, element);\n",
              "          const docLink = document.createElement('div');\n",
              "          docLink.innerHTML = docLinkHtml;\n",
              "          element.appendChild(docLink);\n",
              "        }\n",
              "      </script>\n",
              "    </div>\n",
              "  </div>\n",
              "  "
            ]
          },
          "metadata": {},
          "execution_count": 72
        }
      ]
    },
    {
      "cell_type": "code",
      "source": [
        "all_model_results.sort_values(\"f1\", ascending=False)[\"f1\"].plot(kind=\"bar\", figsize=(10, 7))"
      ],
      "metadata": {
        "colab": {
          "base_uri": "https://localhost:8080/",
          "height": 527
        },
        "id": "robtUA2qfSxC",
        "outputId": "7480b587-8eec-428f-d28b-e055ed31fccb"
      },
      "execution_count": 73,
      "outputs": [
        {
          "output_type": "execute_result",
          "data": {
            "text/plain": [
              "<matplotlib.axes._subplots.AxesSubplot at 0x7fbefa1ac450>"
            ]
          },
          "metadata": {},
          "execution_count": 73
        },
        {
          "output_type": "display_data",
          "data": {
            "text/plain": [
              "<Figure size 720x504 with 1 Axes>"
            ],
            "image/png": "[encoded data removed]"
          },
          "metadata": {
            "needs_background": "light"
          }
        }
      ]
    },
    {
      "cell_type": "markdown",
      "source": [
        "# Saving & Loading a Model"
      ],
      "metadata": {
        "id": "v2txRyYI7eOQ"
      }
    },
    {
      "cell_type": "code",
      "source": [
        "# save as h5 format\n",
        "model_6.save(\"model_6.h5\")"
      ],
      "metadata": {
        "id": "IsTQ_CbO7iEv"
      },
      "execution_count": 74,
      "outputs": []
    },
    {
      "cell_type": "code",
      "source": [
        "loaded_model_6 = tf.keras.models.load_model(\n",
        "    \"model_6.h5\",\n",
        "    custom_objects={\"KerasLayer\": hub.KerasLayer}\n",
        ")"
      ],
      "metadata": {
        "id": "aYVkLebj9I31"
      },
      "execution_count": 75,
      "outputs": []
    },
    {
      "cell_type": "code",
      "source": [
        "# save as default format (SavedModel)\n",
        "model_6.save(\"model_6_SavedModel_format\")"
      ],
      "metadata": {
        "colab": {
          "base_uri": "https://localhost:8080/"
        },
        "id": "FzvT727q-35m",
        "outputId": "19e59c4d-bb0f-400f-f658-57083c02e951"
      },
      "execution_count": 76,
      "outputs": [
        {
          "output_type": "stream",
          "name": "stderr",
          "text": [
            "WARNING:absl:Function `_wrapped_model` contains input name(s) USE_input with unsupported characters which will be renamed to use_input in the SavedModel.\n"
          ]
        },
        {
          "output_type": "stream",
          "name": "stdout",
          "text": [
            "INFO:tensorflow:Assets written to: model_6_SavedModel_format/assets\n"
          ]
        },
        {
          "output_type": "stream",
          "name": "stderr",
          "text": [
            "INFO:tensorflow:Assets written to: model_6_SavedModel_format/assets\n"
          ]
        }
      ]
    },
    {
      "cell_type": "code",
      "source": [
        "loaded_model_6 = tf.keras.models.load_model(\"model_6_SavedModel_format\")\n",
        "loaded_model_6"
      ],
      "metadata": {
        "colab": {
          "base_uri": "https://localhost:8080/"
        },
        "id": "hC8VH82N_Anf",
        "outputId": "e9db17b2-6192-4a4d-f7cd-e717b7d8f59a"
      },
      "execution_count": 77,
      "outputs": [
        {
          "output_type": "execute_result",
          "data": {
            "text/plain": [
              "<keras.engine.sequential.Sequential at 0x7fc058c21250>"
            ]
          },
          "metadata": {},
          "execution_count": 77
        }
      ]
    },
    {
      "cell_type": "markdown",
      "source": [
        "# Finding the most wrong examples\n"
      ],
      "metadata": {
        "id": "fEKCRkIuAwoY"
      }
    },
    {
      "cell_type": "code",
      "source": [
        "!wget https://storage.googleapis.com/ztm_tf_course/08_model_6_USE_feature_extractor.zip\n",
        "!unzip 08_model_6_USE_feature_extractor.zip"
      ],
      "metadata": {
        "colab": {
          "base_uri": "https://localhost:8080/"
        },
        "id": "B7gDnqKyArI4",
        "outputId": "cc6a9782-37e4-4827-f247-bb57ecc52d36"
      },
      "execution_count": 78,
      "outputs": [
        {
          "output_type": "stream",
          "name": "stdout",
          "text": [
            "--2022-07-10 02:36:11--  https://storage.googleapis.com/ztm_tf_course/08_model_6_USE_feature_extractor.zip\n",
            "Resolving storage.googleapis.com (storage.googleapis.com)... 74.125.200.128, 74.125.68.128, 74.125.24.128, ...\n",
            "Connecting to storage.googleapis.com (storage.googleapis.com)|74.125.200.128|:443... connected.\n",
            "HTTP request sent, awaiting response... 200 OK\n",
            "Length: 960779165 (916M) [application/zip]\n",
            "Saving to: ‘08_model_6_USE_feature_extractor.zip’\n",
            "\n",
            "08_model_6_USE_feat 100%[===================>] 916.27M  58.0MB/s    in 13s     \n",
            "\n",
            "2022-07-10 02:36:25 (67.9 MB/s) - ‘08_model_6_USE_feature_extractor.zip’ saved [960779165/960779165]\n",
            "\n",
            "Archive:  08_model_6_USE_feature_extractor.zip\n",
            "   creating: 08_model_6_USE_feature_extractor/\n",
            "   creating: 08_model_6_USE_feature_extractor/assets/\n",
            "   creating: 08_model_6_USE_feature_extractor/variables/\n",
            "  inflating: 08_model_6_USE_feature_extractor/variables/variables.data-00000-of-00001  \n",
            "  inflating: 08_model_6_USE_feature_extractor/variables/variables.index  \n",
            "  inflating: 08_model_6_USE_feature_extractor/saved_model.pb  \n"
          ]
        }
      ]
    },
    {
      "cell_type": "code",
      "source": [
        "model_6_pretrained = tf.keras.models.load_model(\"08_model_6_USE_feature_extractor\")\n",
        "model_6_pretrained.evaluate(val_sentences, val_labels)"
      ],
      "metadata": {
        "colab": {
          "base_uri": "https://localhost:8080/"
        },
        "id": "QW3nWbKVBFLP",
        "outputId": "52d1564c-8d82-41e1-e5e7-b2f0d8114ae5"
      },
      "execution_count": 79,
      "outputs": [
        {
          "output_type": "stream",
          "name": "stdout",
          "text": [
            "WARNING:tensorflow:SavedModel saved prior to TF 2.5 detected when loading Keras model. Please ensure that you are saving the model with model.save() or tf.keras.models.save_model(), *NOT* tf.saved_model.save(). To confirm, there should be a file named \"keras_metadata.pb\" in the SavedModel directory.\n"
          ]
        },
        {
          "output_type": "stream",
          "name": "stderr",
          "text": [
            "WARNING:tensorflow:SavedModel saved prior to TF 2.5 detected when loading Keras model. Please ensure that you are saving the model with model.save() or tf.keras.models.save_model(), *NOT* tf.saved_model.save(). To confirm, there should be a file named \"keras_metadata.pb\" in the SavedModel directory.\n"
          ]
        },
        {
          "output_type": "stream",
          "name": "stdout",
          "text": [
            "24/24 [==============================] - 1s 10ms/step - loss: 0.4272 - accuracy: 0.8163\n"
          ]
        },
        {
          "output_type": "execute_result",
          "data": {
            "text/plain": [
              "[0.42723122239112854, 0.8162729740142822]"
            ]
          },
          "metadata": {},
          "execution_count": 79
        }
      ]
    },
    {
      "cell_type": "code",
      "source": [
        "model_6_pretrained_pred_probs = model_6_pretrained.predict(val_sentences)\n",
        "model_6_pretrained_preds = tf.squeeze(tf.round(model_6_pretrained_pred_probs))\n",
        "model_6_pretrained_preds[:10]"
      ],
      "metadata": {
        "colab": {
          "base_uri": "https://localhost:8080/"
        },
        "id": "jjbNbYtDBQZV",
        "outputId": "eeec8c7c-6d0b-4023-d4dc-b591f403d487"
      },
      "execution_count": 80,
      "outputs": [
        {
          "output_type": "execute_result",
          "data": {
            "text/plain": [
              "<tf.Tensor: shape=(10,), dtype=float32, numpy=array([0., 1., 1., 0., 1., 1., 1., 1., 1., 0.], dtype=float32)>"
            ]
          },
          "metadata": {},
          "execution_count": 80
        }
      ]
    },
    {
      "cell_type": "code",
      "source": [
        "val_df = pd.DataFrame({\n",
        "    \"text\": val_sentences,\n",
        "    \"target\": val_labels,\n",
        "    \"pred\": model_6_pretrained_preds,\n",
        "    \"pred_prob\": tf.squeeze(model_6_pretrained_pred_probs)\n",
        "})\n",
        "\n",
        "val_df.head()"
      ],
      "metadata": {
        "colab": {
          "base_uri": "https://localhost:8080/",
          "height": 206
        },
        "id": "1_Fh7Uh5BpJW",
        "outputId": "b45a805a-d758-4813-e9fe-4499dda54a11"
      },
      "execution_count": 81,
      "outputs": [
        {
          "output_type": "execute_result",
          "data": {
            "text/plain": [
              "                                                text  target  pred  pred_prob\n",
              "0  DFR EP016 Monthly Meltdown - On Dnbheaven 2015...       0   0.0   0.159757\n",
              "1  FedEx no longer to transport bioterror germs i...       0   1.0   0.747162\n",
              "2  Gunmen kill four in El Salvador bus attack: Su...       1   1.0   0.988749\n",
              "3  @camilacabello97 Internally and externally scr...       1   0.0   0.196229\n",
              "4  Radiation emergency #preparedness starts with ...       1   1.0   0.707808"
            ],
            "text/html": [
              "\n",
              "  <div id=\"df-17d0f682-cebc-4785-893d-f3a50dd0c0ff\">\n",
              "    <div class=\"colab-df-container\">\n",
              "      <div>\n",
              "<style scoped>\n",
              "    .dataframe tbody tr th:only-of-type {\n",
              "        vertical-align: middle;\n",
              "    }\n",
              "\n",
              "    .dataframe tbody tr th {\n",
              "        vertical-align: top;\n",
              "    }\n",
              "\n",
              "    .dataframe thead th {\n",
              "        text-align: right;\n",
              "    }\n",
              "</style>\n",
              "<table border=\"1\" class=\"dataframe\">\n",
              "  <thead>\n",
              "    <tr style=\"text-align: right;\">\n",
              "      <th></th>\n",
              "      <th>text</th>\n",
              "      <th>target</th>\n",
              "      <th>pred</th>\n",
              "      <th>pred_prob</th>\n",
              "    </tr>\n",
              "  </thead>\n",
              "  <tbody>\n",
              "    <tr>\n",
              "      <th>0</th>\n",
              "      <td>DFR EP016 Monthly Meltdown - On Dnbheaven 2015...</td>\n",
              "      <td>0</td>\n",
              "      <td>0.0</td>\n",
              "      <td>0.159757</td>\n",
              "    </tr>\n",
              "    <tr>\n",
              "      <th>1</th>\n",
              "      <td>FedEx no longer to transport bioterror germs i...</td>\n",
              "      <td>0</td>\n",
              "      <td>1.0</td>\n",
              "      <td>0.747162</td>\n",
              "    </tr>\n",
              "    <tr>\n",
              "      <th>2</th>\n",
              "      <td>Gunmen kill four in El Salvador bus attack: Su...</td>\n",
              "      <td>1</td>\n",
              "      <td>1.0</td>\n",
              "      <td>0.988749</td>\n",
              "    </tr>\n",
              "    <tr>\n",
              "      <th>3</th>\n",
              "      <td>@camilacabello97 Internally and externally scr...</td>\n",
              "      <td>1</td>\n",
              "      <td>0.0</td>\n",
              "      <td>0.196229</td>\n",
              "    </tr>\n",
              "    <tr>\n",
              "      <th>4</th>\n",
              "      <td>Radiation emergency #preparedness starts with ...</td>\n",
              "      <td>1</td>\n",
              "      <td>1.0</td>\n",
              "      <td>0.707808</td>\n",
              "    </tr>\n",
              "  </tbody>\n",
              "</table>\n",
              "</div>\n",
              "      <button class=\"colab-df-convert\" onclick=\"convertToInteractive('df-17d0f682-cebc-4785-893d-f3a50dd0c0ff')\"\n",
              "              title=\"Convert this dataframe to an interactive table.\"\n",
              "              style=\"display:none;\">\n",
              "        \n",
              "  <svg xmlns=\"http://www.w3.org/2000/svg\" height=\"24px\"viewBox=\"0 0 24 24\"\n",
              "       width=\"24px\">\n",
              "    <path d=\"M0 0h24v24H0V0z\" fill=\"none\"/>\n",
              "    <path d=\"M18.56 5.44l.94 2.06.94-2.06 2.06-.94-2.06-.94-.94-2.06-.94 2.06-2.06.94zm-11 1L8.5 8.5l.94-2.06 2.06-.94-2.06-.94L8.5 2.5l-.94 2.06-2.06.94zm10 10l.94 2.06.94-2.06 2.06-.94-2.06-.94-.94-2.06-.94 2.06-2.06.94z\"/><path d=\"M17.41 7.96l-1.37-1.37c-.4-.4-.92-.59-1.43-.59-.52 0-1.04.2-1.43.59L10.3 9.45l-7.72 7.72c-.78.78-.78 2.05 0 2.83L4 21.41c.39.39.9.59 1.41.59.51 0 1.02-.2 1.41-.59l7.78-7.78 2.81-2.81c.8-.78.8-2.07 0-2.86zM5.41 20L4 18.59l7.72-7.72 1.47 1.35L5.41 20z\"/>\n",
              "  </svg>\n",
              "      </button>\n",
              "      \n",
              "  <style>\n",
              "    .colab-df-container {\n",
              "      display:flex;\n",
              "      flex-wrap:wrap;\n",
              "      gap: 12px;\n",
              "    }\n",
              "\n",
              "    .colab-df-convert {\n",
              "      background-color: #E8F0FE;\n",
              "      border: none;\n",
              "      border-radius: 50%;\n",
              "      cursor: pointer;\n",
              "      display: none;\n",
              "      fill: #1967D2;\n",
              "      height: 32px;\n",
              "      padding: 0 0 0 0;\n",
              "      width: 32px;\n",
              "    }\n",
              "\n",
              "    .colab-df-convert:hover {\n",
              "      background-color: #E2EBFA;\n",
              "      box-shadow: 0px 1px 2px rgba(60, 64, 67, 0.3), 0px 1px 3px 1px rgba(60, 64, 67, 0.15);\n",
              "      fill: #174EA6;\n",
              "    }\n",
              "\n",
              "    [theme=dark] .colab-df-convert {\n",
              "      background-color: #3B4455;\n",
              "      fill: #D2E3FC;\n",
              "    }\n",
              "\n",
              "    [theme=dark] .colab-df-convert:hover {\n",
              "      background-color: #434B5C;\n",
              "      box-shadow: 0px 1px 3px 1px rgba(0, 0, 0, 0.15);\n",
              "      filter: drop-shadow(0px 1px 2px rgba(0, 0, 0, 0.3));\n",
              "      fill: #FFFFFF;\n",
              "    }\n",
              "  </style>\n",
              "\n",
              "      <script>\n",
              "        const buttonEl =\n",
              "          document.querySelector('#df-17d0f682-cebc-4785-893d-f3a50dd0c0ff button.colab-df-convert');\n",
              "        buttonEl.style.display =\n",
              "          google.colab.kernel.accessAllowed ? 'block' : 'none';\n",
              "\n",
              "        async function convertToInteractive(key) {\n",
              "          const element = document.querySelector('#df-17d0f682-cebc-4785-893d-f3a50dd0c0ff');\n",
              "          const dataTable =\n",
              "            await google.colab.kernel.invokeFunction('convertToInteractive',\n",
              "                                                     [key], {});\n",
              "          if (!dataTable) return;\n",
              "\n",
              "          const docLinkHtml = 'Like what you see? Visit the ' +\n",
              "            '<a target=\"_blank\" href=https://colab.research.google.com/notebooks/data_table.ipynb>data table notebook</a>'\n",
              "            + ' to learn more about interactive tables.';\n",
              "          element.innerHTML = '';\n",
              "          dataTable['output_type'] = 'display_data';\n",
              "          await google.colab.output.renderOutput(dataTable, element);\n",
              "          const docLink = document.createElement('div');\n",
              "          docLink.innerHTML = docLinkHtml;\n",
              "          element.appendChild(docLink);\n",
              "        }\n",
              "      </script>\n",
              "    </div>\n",
              "  </div>\n",
              "  "
            ]
          },
          "metadata": {},
          "execution_count": 81
        }
      ]
    },
    {
      "cell_type": "code",
      "source": [
        "most_wrong = val_df[val_df[\"target\"] != val_df[\"pred\"]].sort_values(\"pred_prob\", ascending=False)"
      ],
      "metadata": {
        "id": "TTswvVAHB-4x"
      },
      "execution_count": 82,
      "outputs": []
    },
    {
      "cell_type": "code",
      "source": [
        "most_wrong.head()"
      ],
      "metadata": {
        "colab": {
          "base_uri": "https://localhost:8080/",
          "height": 206
        },
        "id": "9SGV5mIECeTv",
        "outputId": "89619482-0dfe-4465-a6c0-c6b0c851b91f"
      },
      "execution_count": 83,
      "outputs": [
        {
          "output_type": "execute_result",
          "data": {
            "text/plain": [
              "                                                  text  target  pred  \\\n",
              "31   ? High Skies - Burning Buildings ? http://t.co...       0   1.0   \n",
              "759  FedEx will no longer transport bioterror patho...       0   1.0   \n",
              "628  @noah_anyname That's where the concentration c...       0   1.0   \n",
              "209  Ashes 2015: AustraliaÛªs collapse at Trent Br...       0   1.0   \n",
              "251  @AshGhebranious civil rights continued in the ...       0   1.0   \n",
              "\n",
              "     pred_prob  \n",
              "31    0.910196  \n",
              "759   0.876982  \n",
              "628   0.852300  \n",
              "209   0.835454  \n",
              "251   0.827213  "
            ],
            "text/html": [
              "\n",
              "  <div id=\"df-6d58317d-f20d-4854-8003-38d5c1befdd6\">\n",
              "    <div class=\"colab-df-container\">\n",
              "      <div>\n",
              "<style scoped>\n",
              "    .dataframe tbody tr th:only-of-type {\n",
              "        vertical-align: middle;\n",
              "    }\n",
              "\n",
              "    .dataframe tbody tr th {\n",
              "        vertical-align: top;\n",
              "    }\n",
              "\n",
              "    .dataframe thead th {\n",
              "        text-align: right;\n",
              "    }\n",
              "</style>\n",
              "<table border=\"1\" class=\"dataframe\">\n",
              "  <thead>\n",
              "    <tr style=\"text-align: right;\">\n",
              "      <th></th>\n",
              "      <th>text</th>\n",
              "      <th>target</th>\n",
              "      <th>pred</th>\n",
              "      <th>pred_prob</th>\n",
              "    </tr>\n",
              "  </thead>\n",
              "  <tbody>\n",
              "    <tr>\n",
              "      <th>31</th>\n",
              "      <td>? High Skies - Burning Buildings ? http://t.co...</td>\n",
              "      <td>0</td>\n",
              "      <td>1.0</td>\n",
              "      <td>0.910196</td>\n",
              "    </tr>\n",
              "    <tr>\n",
              "      <th>759</th>\n",
              "      <td>FedEx will no longer transport bioterror patho...</td>\n",
              "      <td>0</td>\n",
              "      <td>1.0</td>\n",
              "      <td>0.876982</td>\n",
              "    </tr>\n",
              "    <tr>\n",
              "      <th>628</th>\n",
              "      <td>@noah_anyname That's where the concentration c...</td>\n",
              "      <td>0</td>\n",
              "      <td>1.0</td>\n",
              "      <td>0.852300</td>\n",
              "    </tr>\n",
              "    <tr>\n",
              "      <th>209</th>\n",
              "      <td>Ashes 2015: AustraliaÛªs collapse at Trent Br...</td>\n",
              "      <td>0</td>\n",
              "      <td>1.0</td>\n",
              "      <td>0.835454</td>\n",
              "    </tr>\n",
              "    <tr>\n",
              "      <th>251</th>\n",
              "      <td>@AshGhebranious civil rights continued in the ...</td>\n",
              "      <td>0</td>\n",
              "      <td>1.0</td>\n",
              "      <td>0.827213</td>\n",
              "    </tr>\n",
              "  </tbody>\n",
              "</table>\n",
              "</div>\n",
              "      <button class=\"colab-df-convert\" onclick=\"convertToInteractive('df-6d58317d-f20d-4854-8003-38d5c1befdd6')\"\n",
              "              title=\"Convert this dataframe to an interactive table.\"\n",
              "              style=\"display:none;\">\n",
              "        \n",
              "  <svg xmlns=\"http://www.w3.org/2000/svg\" height=\"24px\"viewBox=\"0 0 24 24\"\n",
              "       width=\"24px\">\n",
              "    <path d=\"M0 0h24v24H0V0z\" fill=\"none\"/>\n",
              "    <path d=\"M18.56 5.44l.94 2.06.94-2.06 2.06-.94-2.06-.94-.94-2.06-.94 2.06-2.06.94zm-11 1L8.5 8.5l.94-2.06 2.06-.94-2.06-.94L8.5 2.5l-.94 2.06-2.06.94zm10 10l.94 2.06.94-2.06 2.06-.94-2.06-.94-.94-2.06-.94 2.06-2.06.94z\"/><path d=\"M17.41 7.96l-1.37-1.37c-.4-.4-.92-.59-1.43-.59-.52 0-1.04.2-1.43.59L10.3 9.45l-7.72 7.72c-.78.78-.78 2.05 0 2.83L4 21.41c.39.39.9.59 1.41.59.51 0 1.02-.2 1.41-.59l7.78-7.78 2.81-2.81c.8-.78.8-2.07 0-2.86zM5.41 20L4 18.59l7.72-7.72 1.47 1.35L5.41 20z\"/>\n",
              "  </svg>\n",
              "      </button>\n",
              "      \n",
              "  <style>\n",
              "    .colab-df-container {\n",
              "      display:flex;\n",
              "      flex-wrap:wrap;\n",
              "      gap: 12px;\n",
              "    }\n",
              "\n",
              "    .colab-df-convert {\n",
              "      background-color: #E8F0FE;\n",
              "      border: none;\n",
              "      border-radius: 50%;\n",
              "      cursor: pointer;\n",
              "      display: none;\n",
              "      fill: #1967D2;\n",
              "      height: 32px;\n",
              "      padding: 0 0 0 0;\n",
              "      width: 32px;\n",
              "    }\n",
              "\n",
              "    .colab-df-convert:hover {\n",
              "      background-color: #E2EBFA;\n",
              "      box-shadow: 0px 1px 2px rgba(60, 64, 67, 0.3), 0px 1px 3px 1px rgba(60, 64, 67, 0.15);\n",
              "      fill: #174EA6;\n",
              "    }\n",
              "\n",
              "    [theme=dark] .colab-df-convert {\n",
              "      background-color: #3B4455;\n",
              "      fill: #D2E3FC;\n",
              "    }\n",
              "\n",
              "    [theme=dark] .colab-df-convert:hover {\n",
              "      background-color: #434B5C;\n",
              "      box-shadow: 0px 1px 3px 1px rgba(0, 0, 0, 0.15);\n",
              "      filter: drop-shadow(0px 1px 2px rgba(0, 0, 0, 0.3));\n",
              "      fill: #FFFFFF;\n",
              "    }\n",
              "  </style>\n",
              "\n",
              "      <script>\n",
              "        const buttonEl =\n",
              "          document.querySelector('#df-6d58317d-f20d-4854-8003-38d5c1befdd6 button.colab-df-convert');\n",
              "        buttonEl.style.display =\n",
              "          google.colab.kernel.accessAllowed ? 'block' : 'none';\n",
              "\n",
              "        async function convertToInteractive(key) {\n",
              "          const element = document.querySelector('#df-6d58317d-f20d-4854-8003-38d5c1befdd6');\n",
              "          const dataTable =\n",
              "            await google.colab.kernel.invokeFunction('convertToInteractive',\n",
              "                                                     [key], {});\n",
              "          if (!dataTable) return;\n",
              "\n",
              "          const docLinkHtml = 'Like what you see? Visit the ' +\n",
              "            '<a target=\"_blank\" href=https://colab.research.google.com/notebooks/data_table.ipynb>data table notebook</a>'\n",
              "            + ' to learn more about interactive tables.';\n",
              "          element.innerHTML = '';\n",
              "          dataTable['output_type'] = 'display_data';\n",
              "          await google.colab.output.renderOutput(dataTable, element);\n",
              "          const docLink = document.createElement('div');\n",
              "          docLink.innerHTML = docLinkHtml;\n",
              "          element.appendChild(docLink);\n",
              "        }\n",
              "      </script>\n",
              "    </div>\n",
              "  </div>\n",
              "  "
            ]
          },
          "metadata": {},
          "execution_count": 83
        }
      ]
    },
    {
      "cell_type": "code",
      "source": [
        "most_wrong.tail()"
      ],
      "metadata": {
        "colab": {
          "base_uri": "https://localhost:8080/",
          "height": 206
        },
        "id": "9i2VBE17Cgro",
        "outputId": "81fc128a-ef43-442d-d08e-13bdf8275392"
      },
      "execution_count": 84,
      "outputs": [
        {
          "output_type": "execute_result",
          "data": {
            "text/plain": [
              "                                                  text  target  pred  \\\n",
              "411  @SoonerMagic_ I mean I'm a fan but I don't nee...       1   0.0   \n",
              "233                    I get to smoke my shit in peace       1   0.0   \n",
              "38   Why are you deluged with low self-image? Take ...       1   0.0   \n",
              "244  Reddit Will Now QuarantineÛ_ http://t.co/pkUA...       1   0.0   \n",
              "23   Ron &amp; Fez - Dave's High School Crush https...       1   0.0   \n",
              "\n",
              "     pred_prob  \n",
              "411   0.043918  \n",
              "233   0.042087  \n",
              "38    0.038998  \n",
              "244   0.038949  \n",
              "23    0.037186  "
            ],
            "text/html": [
              "\n",
              "  <div id=\"df-ccf3d295-96e8-46b9-b0da-07437d40747c\">\n",
              "    <div class=\"colab-df-container\">\n",
              "      <div>\n",
              "<style scoped>\n",
              "    .dataframe tbody tr th:only-of-type {\n",
              "        vertical-align: middle;\n",
              "    }\n",
              "\n",
              "    .dataframe tbody tr th {\n",
              "        vertical-align: top;\n",
              "    }\n",
              "\n",
              "    .dataframe thead th {\n",
              "        text-align: right;\n",
              "    }\n",
              "</style>\n",
              "<table border=\"1\" class=\"dataframe\">\n",
              "  <thead>\n",
              "    <tr style=\"text-align: right;\">\n",
              "      <th></th>\n",
              "      <th>text</th>\n",
              "      <th>target</th>\n",
              "      <th>pred</th>\n",
              "      <th>pred_prob</th>\n",
              "    </tr>\n",
              "  </thead>\n",
              "  <tbody>\n",
              "    <tr>\n",
              "      <th>411</th>\n",
              "      <td>@SoonerMagic_ I mean I'm a fan but I don't nee...</td>\n",
              "      <td>1</td>\n",
              "      <td>0.0</td>\n",
              "      <td>0.043918</td>\n",
              "    </tr>\n",
              "    <tr>\n",
              "      <th>233</th>\n",
              "      <td>I get to smoke my shit in peace</td>\n",
              "      <td>1</td>\n",
              "      <td>0.0</td>\n",
              "      <td>0.042087</td>\n",
              "    </tr>\n",
              "    <tr>\n",
              "      <th>38</th>\n",
              "      <td>Why are you deluged with low self-image? Take ...</td>\n",
              "      <td>1</td>\n",
              "      <td>0.0</td>\n",
              "      <td>0.038998</td>\n",
              "    </tr>\n",
              "    <tr>\n",
              "      <th>244</th>\n",
              "      <td>Reddit Will Now QuarantineÛ_ http://t.co/pkUA...</td>\n",
              "      <td>1</td>\n",
              "      <td>0.0</td>\n",
              "      <td>0.038949</td>\n",
              "    </tr>\n",
              "    <tr>\n",
              "      <th>23</th>\n",
              "      <td>Ron &amp;amp; Fez - Dave's High School Crush https...</td>\n",
              "      <td>1</td>\n",
              "      <td>0.0</td>\n",
              "      <td>0.037186</td>\n",
              "    </tr>\n",
              "  </tbody>\n",
              "</table>\n",
              "</div>\n",
              "      <button class=\"colab-df-convert\" onclick=\"convertToInteractive('df-ccf3d295-96e8-46b9-b0da-07437d40747c')\"\n",
              "              title=\"Convert this dataframe to an interactive table.\"\n",
              "              style=\"display:none;\">\n",
              "        \n",
              "  <svg xmlns=\"http://www.w3.org/2000/svg\" height=\"24px\"viewBox=\"0 0 24 24\"\n",
              "       width=\"24px\">\n",
              "    <path d=\"M0 0h24v24H0V0z\" fill=\"none\"/>\n",
              "    <path d=\"M18.56 5.44l.94 2.06.94-2.06 2.06-.94-2.06-.94-.94-2.06-.94 2.06-2.06.94zm-11 1L8.5 8.5l.94-2.06 2.06-.94-2.06-.94L8.5 2.5l-.94 2.06-2.06.94zm10 10l.94 2.06.94-2.06 2.06-.94-2.06-.94-.94-2.06-.94 2.06-2.06.94z\"/><path d=\"M17.41 7.96l-1.37-1.37c-.4-.4-.92-.59-1.43-.59-.52 0-1.04.2-1.43.59L10.3 9.45l-7.72 7.72c-.78.78-.78 2.05 0 2.83L4 21.41c.39.39.9.59 1.41.59.51 0 1.02-.2 1.41-.59l7.78-7.78 2.81-2.81c.8-.78.8-2.07 0-2.86zM5.41 20L4 18.59l7.72-7.72 1.47 1.35L5.41 20z\"/>\n",
              "  </svg>\n",
              "      </button>\n",
              "      \n",
              "  <style>\n",
              "    .colab-df-container {\n",
              "      display:flex;\n",
              "      flex-wrap:wrap;\n",
              "      gap: 12px;\n",
              "    }\n",
              "\n",
              "    .colab-df-convert {\n",
              "      background-color: #E8F0FE;\n",
              "      border: none;\n",
              "      border-radius: 50%;\n",
              "      cursor: pointer;\n",
              "      display: none;\n",
              "      fill: #1967D2;\n",
              "      height: 32px;\n",
              "      padding: 0 0 0 0;\n",
              "      width: 32px;\n",
              "    }\n",
              "\n",
              "    .colab-df-convert:hover {\n",
              "      background-color: #E2EBFA;\n",
              "      box-shadow: 0px 1px 2px rgba(60, 64, 67, 0.3), 0px 1px 3px 1px rgba(60, 64, 67, 0.15);\n",
              "      fill: #174EA6;\n",
              "    }\n",
              "\n",
              "    [theme=dark] .colab-df-convert {\n",
              "      background-color: #3B4455;\n",
              "      fill: #D2E3FC;\n",
              "    }\n",
              "\n",
              "    [theme=dark] .colab-df-convert:hover {\n",
              "      background-color: #434B5C;\n",
              "      box-shadow: 0px 1px 3px 1px rgba(0, 0, 0, 0.15);\n",
              "      filter: drop-shadow(0px 1px 2px rgba(0, 0, 0, 0.3));\n",
              "      fill: #FFFFFF;\n",
              "    }\n",
              "  </style>\n",
              "\n",
              "      <script>\n",
              "        const buttonEl =\n",
              "          document.querySelector('#df-ccf3d295-96e8-46b9-b0da-07437d40747c button.colab-df-convert');\n",
              "        buttonEl.style.display =\n",
              "          google.colab.kernel.accessAllowed ? 'block' : 'none';\n",
              "\n",
              "        async function convertToInteractive(key) {\n",
              "          const element = document.querySelector('#df-ccf3d295-96e8-46b9-b0da-07437d40747c');\n",
              "          const dataTable =\n",
              "            await google.colab.kernel.invokeFunction('convertToInteractive',\n",
              "                                                     [key], {});\n",
              "          if (!dataTable) return;\n",
              "\n",
              "          const docLinkHtml = 'Like what you see? Visit the ' +\n",
              "            '<a target=\"_blank\" href=https://colab.research.google.com/notebooks/data_table.ipynb>data table notebook</a>'\n",
              "            + ' to learn more about interactive tables.';\n",
              "          element.innerHTML = '';\n",
              "          dataTable['output_type'] = 'display_data';\n",
              "          await google.colab.output.renderOutput(dataTable, element);\n",
              "          const docLink = document.createElement('div');\n",
              "          docLink.innerHTML = docLinkHtml;\n",
              "          element.appendChild(docLink);\n",
              "        }\n",
              "      </script>\n",
              "    </div>\n",
              "  </div>\n",
              "  "
            ]
          },
          "metadata": {},
          "execution_count": 84
        }
      ]
    },
    {
      "cell_type": "code",
      "source": [
        "for row in most_wrong[:10].itertuples():\n",
        "  _, text, target, pred, pred_prob = row\n",
        "  print(f\"Target: {target}, Pred: {pred}, Pred Prob: {pred_prob}\")\n",
        "  print(f\"Text:\\n{text}\\n\")\n",
        "  print(\"---\\n\")"
      ],
      "metadata": {
        "colab": {
          "base_uri": "https://localhost:8080/"
        },
        "id": "YIPD_tufC-AK",
        "outputId": "7e655f9f-f333-41ea-b972-7cd6b146edd9"
      },
      "execution_count": 85,
      "outputs": [
        {
          "output_type": "stream",
          "name": "stdout",
          "text": [
            "Target: 0, Pred: 1.0, Pred Prob: 0.9101957678794861\n",
            "Text:\n",
            "? High Skies - Burning Buildings ? http://t.co/uVq41i3Kx2 #nowplaying\n",
            "\n",
            "---\n",
            "\n",
            "Target: 0, Pred: 1.0, Pred Prob: 0.8769821524620056\n",
            "Text:\n",
            "FedEx will no longer transport bioterror pathogens in wake of anthrax lab mishaps http://t.co/lHpgxc4b8J\n",
            "\n",
            "---\n",
            "\n",
            "Target: 0, Pred: 1.0, Pred Prob: 0.8523000478744507\n",
            "Text:\n",
            "@noah_anyname That's where the concentration camps and mass murder come in. \n",
            " \n",
            "EVERY. FUCKING. TIME.\n",
            "\n",
            "---\n",
            "\n",
            "Target: 0, Pred: 1.0, Pred Prob: 0.8354544639587402\n",
            "Text:\n",
            "Ashes 2015: AustraliaÛªs collapse at Trent Bridge among worst in history: England bundled out Australia for 60 ... http://t.co/t5TrhjUAU0\n",
            "\n",
            "---\n",
            "\n",
            "Target: 0, Pred: 1.0, Pred Prob: 0.8272132873535156\n",
            "Text:\n",
            "@AshGhebranious civil rights continued in the 60s. And what about trans-generational trauma? if anything we should listen to the Americans.\n",
            "\n",
            "---\n",
            "\n",
            "Target: 0, Pred: 1.0, Pred Prob: 0.814815878868103\n",
            "Text:\n",
            "@SonofLiberty357 all illuminated by the brightly burning buildings all around the town!\n",
            "\n",
            "---\n",
            "\n",
            "Target: 0, Pred: 1.0, Pred Prob: 0.8108396530151367\n",
            "Text:\n",
            "[55436] 1950 LIONEL TRAINS SMOKE LOCOMOTIVES WITH MAGNE-TRACTION INSTRUCTIONS http://t.co/xEZBs3sq0y http://t.co/C2x0QoKGlY\n",
            "\n",
            "---\n",
            "\n",
            "Target: 0, Pred: 1.0, Pred Prob: 0.8031217455863953\n",
            "Text:\n",
            "@madonnamking RSPCA site multiple 7 story high rise buildings next to low density character residential in an area that floods\n",
            "\n",
            "---\n",
            "\n",
            "Target: 0, Pred: 1.0, Pred Prob: 0.766900897026062\n",
            "Text:\n",
            "@freefromwolves GodsLove &amp; #thankU brother Danny for RT of NEW VIDEO http://t.co/cybKsXHF7d The Coming Apocalyptic US Earthquake &amp; Tsunami\n",
            "\n",
            "---\n",
            "\n",
            "Target: 0, Pred: 1.0, Pred Prob: 0.7666252851486206\n",
            "Text:\n",
            "Air Group is here to the rescue! We have 24/7 Emergency Service! Learn more about it here - http://t.co/9lyx7zMtHE http://t.co/5PbC96rTMJ\n",
            "\n",
            "---\n",
            "\n"
          ]
        }
      ]
    },
    {
      "cell_type": "markdown",
      "source": [
        "# Predicting the test dataset"
      ],
      "metadata": {
        "id": "-5fpEpXpDlHY"
      }
    },
    {
      "cell_type": "code",
      "source": [
        "test_sentences = test_df[\"text\"].to_list()\n",
        "test_samples = random.sample(test_sentences, 10)\n",
        "\n",
        "for test_sample in test_samples:\n",
        "  pred_prob = tf.squeeze(model_6_pretrained.predict([test_sample]))\n",
        "  pred = tf.round(pred_prob)\n",
        "  print(f\"Pred: {int(pred)}, Prob: {pred_prob}\")\n",
        "  print(f\"Text:\\n{test_sample}\\n\")\n",
        "  print(\"---\\n\")\n"
      ],
      "metadata": {
        "colab": {
          "base_uri": "https://localhost:8080/"
        },
        "id": "ykfbZLFlDdB1",
        "outputId": "fd087777-af08-4c95-9ee8-04d78330934c"
      },
      "execution_count": 86,
      "outputs": [
        {
          "output_type": "stream",
          "name": "stdout",
          "text": [
            "Pred: 0, Prob: 0.08122701197862625\n",
            "Text:\n",
            "@Siren_Six @B30wu1f2 \n",
            "Well then we see things differently.\n",
            "\n",
            "---\n",
            "\n",
            "Pred: 0, Prob: 0.17135672271251678\n",
            "Text:\n",
            "We The Free Hailstorm Maxi http://t.co/Cnn1nXXNwc\n",
            "\n",
            "---\n",
            "\n",
            "Pred: 1, Prob: 0.8956476449966431\n",
            "Text:\n",
            "We dont really talk about the murder of the bombing campaigns in WWII because we won but murder it is. https://t.co/jsGwnY6kdJ\n",
            "\n",
            "---\n",
            "\n",
            "Pred: 0, Prob: 0.4963698089122772\n",
            "Text:\n",
            "San Patricio ÛÓ Windstorm insurance reform key for coastal homeowners: PORTLAND ÛÒ State Rep. J.M. Lozano spoke ... http://t.co/GQySVKrAGi\n",
            "\n",
            "---\n",
            "\n",
            "Pred: 0, Prob: 0.06454399973154068\n",
            "Text:\n",
            "Drunk #BBMeg! ??????\n",
            "\n",
            "---\n",
            "\n",
            "Pred: 0, Prob: 0.22477395832538605\n",
            "Text:\n",
            "Bucket list checked 3 hours of sleep in 2 days with 3 presentations on the second day and survived ??\n",
            "\n",
            "---\n",
            "\n",
            "Pred: 1, Prob: 0.9370320439338684\n",
            "Text:\n",
            "@TheRealPBarry How much CO2 does an erupting volcano and bush fires raging put into the atmosphere? None of the believers mention this.\n",
            "\n",
            "---\n",
            "\n",
            "Pred: 0, Prob: 0.19616228342056274\n",
            "Text:\n",
            "AND I'M DROWNING IN THE DÌäJÌÛ VUUUUU WE'VE SEEN IT ALL BEFOOOOOOOORE\n",
            "\n",
            "---\n",
            "\n",
            "Pred: 0, Prob: 0.08097384870052338\n",
            "Text:\n",
            "@AnnaEsterly dude you were only out 4 mins past curfew give your self a break.\n",
            "\n",
            "---\n",
            "\n",
            "Pred: 0, Prob: 0.36391904950141907\n",
            "Text:\n",
            "I used to have a good time from June to about July 10th then my summer just collapsed smh\n",
            "\n",
            "---\n",
            "\n"
          ]
        }
      ]
    }
  ]
}