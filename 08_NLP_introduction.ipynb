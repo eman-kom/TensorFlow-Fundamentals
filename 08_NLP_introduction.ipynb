{
  "nbformat": 4,
  "nbformat_minor": 0,
  "metadata": {
    "colab": {
      "name": "08_NLP_introduction.ipynb",
      "provenance": [],
      "collapsed_sections": [],
      "authorship_tag": "ABX9TyMyQwieYTUfHd1zibiuNNaF",
      "include_colab_link": true
    },
    "kernelspec": {
      "name": "python3",
      "display_name": "Python 3"
    },
    "language_info": {
      "name": "python"
    },
    "accelerator": "GPU",
    "gpuClass": "standard"
  },
  "cells": [
    {
      "cell_type": "markdown",
      "metadata": {
        "id": "view-in-github",
        "colab_type": "text"
      },
      "source": [
        "<a href=\"https://colab.research.google.com/github/eman-kom/tensorflow-fundamentals/blob/main/08_NLP_introduction.ipynb\" target=\"_parent\"><img src=\"https://colab.research.google.com/assets/colab-badge.svg\" alt=\"Open In Colab\"/></a>"
      ]
    },
    {
      "cell_type": "code",
      "execution_count": 1,
      "metadata": {
        "colab": {
          "base_uri": "https://localhost:8080/"
        },
        "id": "tpZT3jVCPpJW",
        "outputId": "d7bb92c8-6a3a-4c37-894a-0921068ffdb0"
      },
      "outputs": [
        {
          "output_type": "stream",
          "name": "stdout",
          "text": [
            "GPU 0: Tesla T4 (UUID: GPU-d39c8846-f976-e6f1-4ee5-af2d22270eaa)\n"
          ]
        }
      ],
      "source": [
        "!nvidia-smi -L"
      ]
    },
    {
      "cell_type": "code",
      "source": [
        "!wget https://raw.githubusercontent.com/mrdbourke/tensorflow-deep-learning/main/extras/helper_functions.py"
      ],
      "metadata": {
        "colab": {
          "base_uri": "https://localhost:8080/"
        },
        "id": "aupYUIY7QAYD",
        "outputId": "9c6ea651-6187-4c33-f627-ab4a5b5f8189"
      },
      "execution_count": 2,
      "outputs": [
        {
          "output_type": "stream",
          "name": "stdout",
          "text": [
            "--2022-07-03 11:43:17--  https://raw.githubusercontent.com/mrdbourke/tensorflow-deep-learning/main/extras/helper_functions.py\n",
            "Resolving raw.githubusercontent.com (raw.githubusercontent.com)... 185.199.108.133, 185.199.110.133, 185.199.109.133, ...\n",
            "Connecting to raw.githubusercontent.com (raw.githubusercontent.com)|185.199.108.133|:443... connected.\n",
            "HTTP request sent, awaiting response... 200 OK\n",
            "Length: 10246 (10K) [text/plain]\n",
            "Saving to: ‘helper_functions.py’\n",
            "\n",
            "helper_functions.py 100%[===================>]  10.01K  --.-KB/s    in 0s      \n",
            "\n",
            "2022-07-03 11:43:18 (95.1 MB/s) - ‘helper_functions.py’ saved [10246/10246]\n",
            "\n"
          ]
        }
      ]
    },
    {
      "cell_type": "code",
      "source": [
        "from helper_functions import unzip_data, create_tensorboard_callback, plot_loss_curves, compare_historys"
      ],
      "metadata": {
        "id": "9BoasXQDQUCE"
      },
      "execution_count": 3,
      "outputs": []
    },
    {
      "cell_type": "code",
      "source": [
        "!wget https://storage.googleapis.com/ztm_tf_course/nlp_getting_started.zip\n",
        "\n",
        "unzip_data(\"nlp_getting_started.zip\")"
      ],
      "metadata": {
        "colab": {
          "base_uri": "https://localhost:8080/"
        },
        "id": "g3DP5xPCQerB",
        "outputId": "b15e49d5-4263-47cc-d0fb-952654e22bfd"
      },
      "execution_count": 4,
      "outputs": [
        {
          "output_type": "stream",
          "name": "stdout",
          "text": [
            "--2022-07-03 11:43:20--  https://storage.googleapis.com/ztm_tf_course/nlp_getting_started.zip\n",
            "Resolving storage.googleapis.com (storage.googleapis.com)... 172.253.118.128, 74.125.24.128, 142.251.10.128, ...\n",
            "Connecting to storage.googleapis.com (storage.googleapis.com)|172.253.118.128|:443... connected.\n",
            "HTTP request sent, awaiting response... 200 OK\n",
            "Length: 607343 (593K) [application/zip]\n",
            "Saving to: ‘nlp_getting_started.zip’\n",
            "\n",
            "\rnlp_getting_started   0%[                    ]       0  --.-KB/s               \rnlp_getting_started 100%[===================>] 593.11K  --.-KB/s    in 0.004s  \n",
            "\n",
            "2022-07-03 11:43:20 (152 MB/s) - ‘nlp_getting_started.zip’ saved [607343/607343]\n",
            "\n"
          ]
        }
      ]
    },
    {
      "cell_type": "code",
      "source": [
        "import pandas as pd\n",
        "\n",
        "train_df = pd.read_csv(\"train.csv\")\n",
        "test_df = pd.read_csv(\"test.csv\")\n",
        "\n",
        "train_df.head()"
      ],
      "metadata": {
        "colab": {
          "base_uri": "https://localhost:8080/",
          "height": 206
        },
        "id": "9XBs9MiTQzzM",
        "outputId": "e730a1e6-dd32-437c-d8e4-c5f208762b30"
      },
      "execution_count": 5,
      "outputs": [
        {
          "output_type": "execute_result",
          "data": {
            "text/plain": [
              "   id keyword location                                               text  \\\n",
              "0   1     NaN      NaN  Our Deeds are the Reason of this #earthquake M...   \n",
              "1   4     NaN      NaN             Forest fire near La Ronge Sask. Canada   \n",
              "2   5     NaN      NaN  All residents asked to 'shelter in place' are ...   \n",
              "3   6     NaN      NaN  13,000 people receive #wildfires evacuation or...   \n",
              "4   7     NaN      NaN  Just got sent this photo from Ruby #Alaska as ...   \n",
              "\n",
              "   target  \n",
              "0       1  \n",
              "1       1  \n",
              "2       1  \n",
              "3       1  \n",
              "4       1  "
            ],
            "text/html": [
              "\n",
              "  <div id=\"df-2c86c526-ecde-4336-9477-e43a54f50d18\">\n",
              "    <div class=\"colab-df-container\">\n",
              "      <div>\n",
              "<style scoped>\n",
              "    .dataframe tbody tr th:only-of-type {\n",
              "        vertical-align: middle;\n",
              "    }\n",
              "\n",
              "    .dataframe tbody tr th {\n",
              "        vertical-align: top;\n",
              "    }\n",
              "\n",
              "    .dataframe thead th {\n",
              "        text-align: right;\n",
              "    }\n",
              "</style>\n",
              "<table border=\"1\" class=\"dataframe\">\n",
              "  <thead>\n",
              "    <tr style=\"text-align: right;\">\n",
              "      <th></th>\n",
              "      <th>id</th>\n",
              "      <th>keyword</th>\n",
              "      <th>location</th>\n",
              "      <th>text</th>\n",
              "      <th>target</th>\n",
              "    </tr>\n",
              "  </thead>\n",
              "  <tbody>\n",
              "    <tr>\n",
              "      <th>0</th>\n",
              "      <td>1</td>\n",
              "      <td>NaN</td>\n",
              "      <td>NaN</td>\n",
              "      <td>Our Deeds are the Reason of this #earthquake M...</td>\n",
              "      <td>1</td>\n",
              "    </tr>\n",
              "    <tr>\n",
              "      <th>1</th>\n",
              "      <td>4</td>\n",
              "      <td>NaN</td>\n",
              "      <td>NaN</td>\n",
              "      <td>Forest fire near La Ronge Sask. Canada</td>\n",
              "      <td>1</td>\n",
              "    </tr>\n",
              "    <tr>\n",
              "      <th>2</th>\n",
              "      <td>5</td>\n",
              "      <td>NaN</td>\n",
              "      <td>NaN</td>\n",
              "      <td>All residents asked to 'shelter in place' are ...</td>\n",
              "      <td>1</td>\n",
              "    </tr>\n",
              "    <tr>\n",
              "      <th>3</th>\n",
              "      <td>6</td>\n",
              "      <td>NaN</td>\n",
              "      <td>NaN</td>\n",
              "      <td>13,000 people receive #wildfires evacuation or...</td>\n",
              "      <td>1</td>\n",
              "    </tr>\n",
              "    <tr>\n",
              "      <th>4</th>\n",
              "      <td>7</td>\n",
              "      <td>NaN</td>\n",
              "      <td>NaN</td>\n",
              "      <td>Just got sent this photo from Ruby #Alaska as ...</td>\n",
              "      <td>1</td>\n",
              "    </tr>\n",
              "  </tbody>\n",
              "</table>\n",
              "</div>\n",
              "      <button class=\"colab-df-convert\" onclick=\"convertToInteractive('df-2c86c526-ecde-4336-9477-e43a54f50d18')\"\n",
              "              title=\"Convert this dataframe to an interactive table.\"\n",
              "              style=\"display:none;\">\n",
              "        \n",
              "  <svg xmlns=\"http://www.w3.org/2000/svg\" height=\"24px\"viewBox=\"0 0 24 24\"\n",
              "       width=\"24px\">\n",
              "    <path d=\"M0 0h24v24H0V0z\" fill=\"none\"/>\n",
              "    <path d=\"M18.56 5.44l.94 2.06.94-2.06 2.06-.94-2.06-.94-.94-2.06-.94 2.06-2.06.94zm-11 1L8.5 8.5l.94-2.06 2.06-.94-2.06-.94L8.5 2.5l-.94 2.06-2.06.94zm10 10l.94 2.06.94-2.06 2.06-.94-2.06-.94-.94-2.06-.94 2.06-2.06.94z\"/><path d=\"M17.41 7.96l-1.37-1.37c-.4-.4-.92-.59-1.43-.59-.52 0-1.04.2-1.43.59L10.3 9.45l-7.72 7.72c-.78.78-.78 2.05 0 2.83L4 21.41c.39.39.9.59 1.41.59.51 0 1.02-.2 1.41-.59l7.78-7.78 2.81-2.81c.8-.78.8-2.07 0-2.86zM5.41 20L4 18.59l7.72-7.72 1.47 1.35L5.41 20z\"/>\n",
              "  </svg>\n",
              "      </button>\n",
              "      \n",
              "  <style>\n",
              "    .colab-df-container {\n",
              "      display:flex;\n",
              "      flex-wrap:wrap;\n",
              "      gap: 12px;\n",
              "    }\n",
              "\n",
              "    .colab-df-convert {\n",
              "      background-color: #E8F0FE;\n",
              "      border: none;\n",
              "      border-radius: 50%;\n",
              "      cursor: pointer;\n",
              "      display: none;\n",
              "      fill: #1967D2;\n",
              "      height: 32px;\n",
              "      padding: 0 0 0 0;\n",
              "      width: 32px;\n",
              "    }\n",
              "\n",
              "    .colab-df-convert:hover {\n",
              "      background-color: #E2EBFA;\n",
              "      box-shadow: 0px 1px 2px rgba(60, 64, 67, 0.3), 0px 1px 3px 1px rgba(60, 64, 67, 0.15);\n",
              "      fill: #174EA6;\n",
              "    }\n",
              "\n",
              "    [theme=dark] .colab-df-convert {\n",
              "      background-color: #3B4455;\n",
              "      fill: #D2E3FC;\n",
              "    }\n",
              "\n",
              "    [theme=dark] .colab-df-convert:hover {\n",
              "      background-color: #434B5C;\n",
              "      box-shadow: 0px 1px 3px 1px rgba(0, 0, 0, 0.15);\n",
              "      filter: drop-shadow(0px 1px 2px rgba(0, 0, 0, 0.3));\n",
              "      fill: #FFFFFF;\n",
              "    }\n",
              "  </style>\n",
              "\n",
              "      <script>\n",
              "        const buttonEl =\n",
              "          document.querySelector('#df-2c86c526-ecde-4336-9477-e43a54f50d18 button.colab-df-convert');\n",
              "        buttonEl.style.display =\n",
              "          google.colab.kernel.accessAllowed ? 'block' : 'none';\n",
              "\n",
              "        async function convertToInteractive(key) {\n",
              "          const element = document.querySelector('#df-2c86c526-ecde-4336-9477-e43a54f50d18');\n",
              "          const dataTable =\n",
              "            await google.colab.kernel.invokeFunction('convertToInteractive',\n",
              "                                                     [key], {});\n",
              "          if (!dataTable) return;\n",
              "\n",
              "          const docLinkHtml = 'Like what you see? Visit the ' +\n",
              "            '<a target=\"_blank\" href=https://colab.research.google.com/notebooks/data_table.ipynb>data table notebook</a>'\n",
              "            + ' to learn more about interactive tables.';\n",
              "          element.innerHTML = '';\n",
              "          dataTable['output_type'] = 'display_data';\n",
              "          await google.colab.output.renderOutput(dataTable, element);\n",
              "          const docLink = document.createElement('div');\n",
              "          docLink.innerHTML = docLinkHtml;\n",
              "          element.appendChild(docLink);\n",
              "        }\n",
              "      </script>\n",
              "    </div>\n",
              "  </div>\n",
              "  "
            ]
          },
          "metadata": {},
          "execution_count": 5
        }
      ]
    },
    {
      "cell_type": "code",
      "source": [
        "train_df_shuffled = train_df.sample(frac=1, random_state=42)\n",
        "train_df_shuffled.head()"
      ],
      "metadata": {
        "colab": {
          "base_uri": "https://localhost:8080/",
          "height": 206
        },
        "id": "Wb-sB9b7VOSj",
        "outputId": "93f0b1d3-3be0-4fee-9277-ec634d67f0d0"
      },
      "execution_count": 6,
      "outputs": [
        {
          "output_type": "execute_result",
          "data": {
            "text/plain": [
              "        id      keyword               location  \\\n",
              "2644  3796  destruction                    NaN   \n",
              "2227  3185       deluge                    NaN   \n",
              "5448  7769       police                     UK   \n",
              "132    191   aftershock                    NaN   \n",
              "6845  9810       trauma  Montgomery County, MD   \n",
              "\n",
              "                                                   text  target  \n",
              "2644  So you have a new weapon that can cause un-ima...       1  \n",
              "2227  The f$&amp;@ing things I do for #GISHWHES Just...       0  \n",
              "5448  DT @georgegalloway: RT @Galloway4Mayor: ÛÏThe...       1  \n",
              "132   Aftershock back to school kick off was great. ...       0  \n",
              "6845  in response to trauma Children of Addicts deve...       0  "
            ],
            "text/html": [
              "\n",
              "  <div id=\"df-011bfbf2-2d1e-4b1a-a2dd-65ef8b0cf0ab\">\n",
              "    <div class=\"colab-df-container\">\n",
              "      <div>\n",
              "<style scoped>\n",
              "    .dataframe tbody tr th:only-of-type {\n",
              "        vertical-align: middle;\n",
              "    }\n",
              "\n",
              "    .dataframe tbody tr th {\n",
              "        vertical-align: top;\n",
              "    }\n",
              "\n",
              "    .dataframe thead th {\n",
              "        text-align: right;\n",
              "    }\n",
              "</style>\n",
              "<table border=\"1\" class=\"dataframe\">\n",
              "  <thead>\n",
              "    <tr style=\"text-align: right;\">\n",
              "      <th></th>\n",
              "      <th>id</th>\n",
              "      <th>keyword</th>\n",
              "      <th>location</th>\n",
              "      <th>text</th>\n",
              "      <th>target</th>\n",
              "    </tr>\n",
              "  </thead>\n",
              "  <tbody>\n",
              "    <tr>\n",
              "      <th>2644</th>\n",
              "      <td>3796</td>\n",
              "      <td>destruction</td>\n",
              "      <td>NaN</td>\n",
              "      <td>So you have a new weapon that can cause un-ima...</td>\n",
              "      <td>1</td>\n",
              "    </tr>\n",
              "    <tr>\n",
              "      <th>2227</th>\n",
              "      <td>3185</td>\n",
              "      <td>deluge</td>\n",
              "      <td>NaN</td>\n",
              "      <td>The f$&amp;amp;@ing things I do for #GISHWHES Just...</td>\n",
              "      <td>0</td>\n",
              "    </tr>\n",
              "    <tr>\n",
              "      <th>5448</th>\n",
              "      <td>7769</td>\n",
              "      <td>police</td>\n",
              "      <td>UK</td>\n",
              "      <td>DT @georgegalloway: RT @Galloway4Mayor: ÛÏThe...</td>\n",
              "      <td>1</td>\n",
              "    </tr>\n",
              "    <tr>\n",
              "      <th>132</th>\n",
              "      <td>191</td>\n",
              "      <td>aftershock</td>\n",
              "      <td>NaN</td>\n",
              "      <td>Aftershock back to school kick off was great. ...</td>\n",
              "      <td>0</td>\n",
              "    </tr>\n",
              "    <tr>\n",
              "      <th>6845</th>\n",
              "      <td>9810</td>\n",
              "      <td>trauma</td>\n",
              "      <td>Montgomery County, MD</td>\n",
              "      <td>in response to trauma Children of Addicts deve...</td>\n",
              "      <td>0</td>\n",
              "    </tr>\n",
              "  </tbody>\n",
              "</table>\n",
              "</div>\n",
              "      <button class=\"colab-df-convert\" onclick=\"convertToInteractive('df-011bfbf2-2d1e-4b1a-a2dd-65ef8b0cf0ab')\"\n",
              "              title=\"Convert this dataframe to an interactive table.\"\n",
              "              style=\"display:none;\">\n",
              "        \n",
              "  <svg xmlns=\"http://www.w3.org/2000/svg\" height=\"24px\"viewBox=\"0 0 24 24\"\n",
              "       width=\"24px\">\n",
              "    <path d=\"M0 0h24v24H0V0z\" fill=\"none\"/>\n",
              "    <path d=\"M18.56 5.44l.94 2.06.94-2.06 2.06-.94-2.06-.94-.94-2.06-.94 2.06-2.06.94zm-11 1L8.5 8.5l.94-2.06 2.06-.94-2.06-.94L8.5 2.5l-.94 2.06-2.06.94zm10 10l.94 2.06.94-2.06 2.06-.94-2.06-.94-.94-2.06-.94 2.06-2.06.94z\"/><path d=\"M17.41 7.96l-1.37-1.37c-.4-.4-.92-.59-1.43-.59-.52 0-1.04.2-1.43.59L10.3 9.45l-7.72 7.72c-.78.78-.78 2.05 0 2.83L4 21.41c.39.39.9.59 1.41.59.51 0 1.02-.2 1.41-.59l7.78-7.78 2.81-2.81c.8-.78.8-2.07 0-2.86zM5.41 20L4 18.59l7.72-7.72 1.47 1.35L5.41 20z\"/>\n",
              "  </svg>\n",
              "      </button>\n",
              "      \n",
              "  <style>\n",
              "    .colab-df-container {\n",
              "      display:flex;\n",
              "      flex-wrap:wrap;\n",
              "      gap: 12px;\n",
              "    }\n",
              "\n",
              "    .colab-df-convert {\n",
              "      background-color: #E8F0FE;\n",
              "      border: none;\n",
              "      border-radius: 50%;\n",
              "      cursor: pointer;\n",
              "      display: none;\n",
              "      fill: #1967D2;\n",
              "      height: 32px;\n",
              "      padding: 0 0 0 0;\n",
              "      width: 32px;\n",
              "    }\n",
              "\n",
              "    .colab-df-convert:hover {\n",
              "      background-color: #E2EBFA;\n",
              "      box-shadow: 0px 1px 2px rgba(60, 64, 67, 0.3), 0px 1px 3px 1px rgba(60, 64, 67, 0.15);\n",
              "      fill: #174EA6;\n",
              "    }\n",
              "\n",
              "    [theme=dark] .colab-df-convert {\n",
              "      background-color: #3B4455;\n",
              "      fill: #D2E3FC;\n",
              "    }\n",
              "\n",
              "    [theme=dark] .colab-df-convert:hover {\n",
              "      background-color: #434B5C;\n",
              "      box-shadow: 0px 1px 3px 1px rgba(0, 0, 0, 0.15);\n",
              "      filter: drop-shadow(0px 1px 2px rgba(0, 0, 0, 0.3));\n",
              "      fill: #FFFFFF;\n",
              "    }\n",
              "  </style>\n",
              "\n",
              "      <script>\n",
              "        const buttonEl =\n",
              "          document.querySelector('#df-011bfbf2-2d1e-4b1a-a2dd-65ef8b0cf0ab button.colab-df-convert');\n",
              "        buttonEl.style.display =\n",
              "          google.colab.kernel.accessAllowed ? 'block' : 'none';\n",
              "\n",
              "        async function convertToInteractive(key) {\n",
              "          const element = document.querySelector('#df-011bfbf2-2d1e-4b1a-a2dd-65ef8b0cf0ab');\n",
              "          const dataTable =\n",
              "            await google.colab.kernel.invokeFunction('convertToInteractive',\n",
              "                                                     [key], {});\n",
              "          if (!dataTable) return;\n",
              "\n",
              "          const docLinkHtml = 'Like what you see? Visit the ' +\n",
              "            '<a target=\"_blank\" href=https://colab.research.google.com/notebooks/data_table.ipynb>data table notebook</a>'\n",
              "            + ' to learn more about interactive tables.';\n",
              "          element.innerHTML = '';\n",
              "          dataTable['output_type'] = 'display_data';\n",
              "          await google.colab.output.renderOutput(dataTable, element);\n",
              "          const docLink = document.createElement('div');\n",
              "          docLink.innerHTML = docLinkHtml;\n",
              "          element.appendChild(docLink);\n",
              "        }\n",
              "      </script>\n",
              "    </div>\n",
              "  </div>\n",
              "  "
            ]
          },
          "metadata": {},
          "execution_count": 6
        }
      ]
    },
    {
      "cell_type": "code",
      "source": [
        "train_df.target.value_counts()"
      ],
      "metadata": {
        "colab": {
          "base_uri": "https://localhost:8080/"
        },
        "id": "gHJVx2hiVa4t",
        "outputId": "b71953c1-457f-4f97-c443-df9bee3ee073"
      },
      "execution_count": 7,
      "outputs": [
        {
          "output_type": "execute_result",
          "data": {
            "text/plain": [
              "0    4342\n",
              "1    3271\n",
              "Name: target, dtype: int64"
            ]
          },
          "metadata": {},
          "execution_count": 7
        }
      ]
    },
    {
      "cell_type": "code",
      "source": [
        "len(train_df), len(test_df)"
      ],
      "metadata": {
        "colab": {
          "base_uri": "https://localhost:8080/"
        },
        "id": "wn8f3s9XVqJL",
        "outputId": "0b29b02d-db8e-4c2a-b400-aa608e569656"
      },
      "execution_count": 8,
      "outputs": [
        {
          "output_type": "execute_result",
          "data": {
            "text/plain": [
              "(7613, 3263)"
            ]
          },
          "metadata": {},
          "execution_count": 8
        }
      ]
    },
    {
      "cell_type": "code",
      "source": [
        "import random\n",
        "random_index = random.randint(0, len(train_df)-5)\n",
        "\n",
        "for row in train_df_shuffled[[\"text\", \"target\"]][random_index:random_index+5].itertuples():\n",
        "  _, text, target = row\n",
        "  print(f\"Target: {target}\", \"<real disaster>\" if target > 0 else \"<not a real disaster>\")\n",
        "  print(f\"Text\\n{text}\\n\")\n",
        "  print(\"---\\n\")"
      ],
      "metadata": {
        "colab": {
          "base_uri": "https://localhost:8080/"
        },
        "id": "5voqlVAIVvBC",
        "outputId": "ee2f0199-402c-4d70-cc4c-964fa345a565"
      },
      "execution_count": 9,
      "outputs": [
        {
          "output_type": "stream",
          "name": "stdout",
          "text": [
            "Target: 1 <real disaster>\n",
            "Text\n",
            "Heat Advisory is In Effect From 1 PM Through 7 PM Thursday. A Building Heat Wave and Increasing Humidity... #lawx http://t.co/u0SYkowVWV\n",
            "\n",
            "---\n",
            "\n",
            "Target: 1 <real disaster>\n",
            "Text\n",
            "Moderate #drought is spreading rapidly across central Ga. #Macon #WarnerRobins #Dublin #Milledgeville #gawx http://t.co/PHNEZ60cwe\n",
            "\n",
            "---\n",
            "\n",
            "Target: 0 <not a real disaster>\n",
            "Text\n",
            "fatal attraction\n",
            "\n",
            "---\n",
            "\n",
            "Target: 1 <real disaster>\n",
            "Text\n",
            "@HassanRouhani Wars doomed to destruction loss money must invest in Iran's inside that should not go outside\n",
            "\n",
            "---\n",
            "\n",
            "Target: 0 <not a real disaster>\n",
            "Text\n",
            "U.S National Park Services Tonto National Forest: Stop the Annihilation of the Salt River Wild Horse... https://t.co/MatIJwkzbh via @Change\n",
            "\n",
            "---\n",
            "\n"
          ]
        }
      ]
    },
    {
      "cell_type": "code",
      "source": [
        "from sklearn.model_selection import train_test_split\n",
        "\n",
        "train_sentences, val_sentences, train_labels, val_labels = train_test_split(\n",
        "    train_df_shuffled[\"text\"].to_numpy(),\n",
        "    train_df_shuffled[\"target\"].to_numpy(),\n",
        "    test_size=0.1,\n",
        "    random_state=42\n",
        ")"
      ],
      "metadata": {
        "id": "gucF_w9Z7JRV"
      },
      "execution_count": 10,
      "outputs": []
    },
    {
      "cell_type": "code",
      "source": [
        "train_sentences[:10], train_labels[:10]"
      ],
      "metadata": {
        "colab": {
          "base_uri": "https://localhost:8080/"
        },
        "id": "oIuX-ExX72Dc",
        "outputId": "5fcfe935-c261-4f33-9327-43435a9af31c"
      },
      "execution_count": 11,
      "outputs": [
        {
          "output_type": "execute_result",
          "data": {
            "text/plain": [
              "(array(['@mogacola @zamtriossu i screamed after hitting tweet',\n",
              "        'Imagine getting flattened by Kurt Zouma',\n",
              "        '@Gurmeetramrahim #MSGDoing111WelfareWorks Green S welfare force ke appx 65000 members har time disaster victim ki help ke liye tyar hai....',\n",
              "        \"@shakjn @C7 @Magnums im shaking in fear he's gonna hack the planet\",\n",
              "        'Somehow find you and I collide http://t.co/Ee8RpOahPk',\n",
              "        '@EvaHanderek @MarleyKnysh great times until the bus driver held us hostage in the mall parking lot lmfao',\n",
              "        'destroy the free fandom honestly',\n",
              "        'Weapons stolen from National Guard Armory in New Albany still missing #Gunsense http://t.co/lKNU8902JE',\n",
              "        '@wfaaweather Pete when will the heat wave pass? Is it really going to be mid month? Frisco Boy Scouts have a canoe trip in Okla.',\n",
              "        'Patient-reported outcomes in long-term survivors of metastatic colorectal cancer - British Journal of Surgery http://t.co/5Yl4DC1Tqt'],\n",
              "       dtype=object), array([0, 0, 1, 0, 0, 1, 1, 0, 1, 1]))"
            ]
          },
          "metadata": {},
          "execution_count": 11
        }
      ]
    },
    {
      "cell_type": "code",
      "source": [
        "round(sum([len(i.split()) for i in train_sentences])/len(train_sentences))"
      ],
      "metadata": {
        "colab": {
          "base_uri": "https://localhost:8080/"
        },
        "id": "dpBIKpNTD3Y5",
        "outputId": "acef2d2b-88d7-4957-ccc5-87937447e0c0"
      },
      "execution_count": 12,
      "outputs": [
        {
          "output_type": "execute_result",
          "data": {
            "text/plain": [
              "15"
            ]
          },
          "metadata": {},
          "execution_count": 12
        }
      ]
    },
    {
      "cell_type": "code",
      "source": [
        "import tensorflow as tf\n",
        "from tensorflow.keras.layers import TextVectorization\n",
        "\n",
        "text_vectorizer = TextVectorization(\n",
        "    max_tokens=10000,\n",
        "    output_mode=\"int\",\n",
        "    output_sequence_length=15,\n",
        ")"
      ],
      "metadata": {
        "id": "KvPf-l76-g_y"
      },
      "execution_count": 13,
      "outputs": []
    },
    {
      "cell_type": "code",
      "source": [
        "text_vectorizer.adapt(train_sentences)"
      ],
      "metadata": {
        "id": "Dh8wGCG1E4Jv"
      },
      "execution_count": 14,
      "outputs": []
    },
    {
      "cell_type": "code",
      "source": [
        "text_vectorizer([\"There's a flood in my street!\"])"
      ],
      "metadata": {
        "colab": {
          "base_uri": "https://localhost:8080/"
        },
        "id": "pOIu_eDBFDIb",
        "outputId": "563db92a-acad-4469-bc5a-1dd22f8eac27"
      },
      "execution_count": 15,
      "outputs": [
        {
          "output_type": "execute_result",
          "data": {
            "text/plain": [
              "<tf.Tensor: shape=(1, 15), dtype=int64, numpy=\n",
              "array([[264,   3, 232,   4,  13, 698,   0,   0,   0,   0,   0,   0,   0,\n",
              "          0,   0]])>"
            ]
          },
          "metadata": {},
          "execution_count": 15
        }
      ]
    },
    {
      "cell_type": "code",
      "source": [
        "random_sent = random.choice(train_sentences)\n",
        "print(f\"Before: {random_sent}\")\n",
        "text_vectorizer([random_sent])"
      ],
      "metadata": {
        "colab": {
          "base_uri": "https://localhost:8080/"
        },
        "id": "o7KU2NDnFkpl",
        "outputId": "880abdce-3394-4432-83cb-5b96a481f565"
      },
      "execution_count": 16,
      "outputs": [
        {
          "output_type": "stream",
          "name": "stdout",
          "text": [
            "Before: Alhaji Putin is far from being a good person sha. At least I had front row seat to his complete obliteration of Ibeto cement a competitor.\n"
          ]
        },
        {
          "output_type": "execute_result",
          "data": {
            "text/plain": [
              "<tf.Tensor: shape=(1, 15), dtype=int64, numpy=\n",
              "array([[   1, 2013,    9,  685,   20,  121,    3,  136,  674, 8617,   17,\n",
              "         506,    8,   94,  851]])>"
            ]
          },
          "metadata": {},
          "execution_count": 16
        }
      ]
    },
    {
      "cell_type": "code",
      "source": [
        "words_in_vocab = text_vectorizer.get_vocabulary()\n",
        "top_5_words = words_in_vocab[:5]\n",
        "bottom_5_words = words_in_vocab[-5:]\n",
        "len(words_in_vocab), top_5_words, bottom_5_words"
      ],
      "metadata": {
        "colab": {
          "base_uri": "https://localhost:8080/"
        },
        "id": "OIfRWRlJF5-x",
        "outputId": "58fc5c57-bf75-436a-9462-f76483a88be2"
      },
      "execution_count": 17,
      "outputs": [
        {
          "output_type": "execute_result",
          "data": {
            "text/plain": [
              "(10000,\n",
              " ['', '[UNK]', 'the', 'a', 'in'],\n",
              " ['pages', 'paeds', 'pads', 'padres', 'paddytomlinson1'])"
            ]
          },
          "metadata": {},
          "execution_count": 17
        }
      ]
    },
    {
      "cell_type": "code",
      "source": [
        "from tensorflow.keras import layers\n",
        "\n",
        "embedding = layers.Embedding(\n",
        "    input_dim=10000,\n",
        "    output_dim=128,\n",
        "    input_length=15\n",
        ")\n",
        "\n",
        "embedding"
      ],
      "metadata": {
        "colab": {
          "base_uri": "https://localhost:8080/"
        },
        "id": "MCDQAP3AGNjH",
        "outputId": "0025c587-9483-4390-c255-6dca8d4777d0"
      },
      "execution_count": 18,
      "outputs": [
        {
          "output_type": "execute_result",
          "data": {
            "text/plain": [
              "<keras.layers.embeddings.Embedding at 0x7f71c0174310>"
            ]
          },
          "metadata": {},
          "execution_count": 18
        }
      ]
    },
    {
      "cell_type": "code",
      "source": [
        "sample_embed = embedding(text_vectorizer([random.choice(train_sentences)]))\n",
        "sample_embed"
      ],
      "metadata": {
        "colab": {
          "base_uri": "https://localhost:8080/"
        },
        "id": "htpdho_mPRL4",
        "outputId": "d0fb0bac-68aa-44ec-d23f-1cb091d249e4"
      },
      "execution_count": 19,
      "outputs": [
        {
          "output_type": "execute_result",
          "data": {
            "text/plain": [
              "<tf.Tensor: shape=(1, 15, 128), dtype=float32, numpy=\n",
              "array([[[-0.03727751, -0.02689394,  0.0271987 , ...,  0.02943296,\n",
              "         -0.02965199, -0.04039682],\n",
              "        [-0.04010807, -0.03856973,  0.00970884, ...,  0.01869459,\n",
              "         -0.02255371, -0.0112872 ],\n",
              "        [ 0.02615496,  0.03963729,  0.02545469, ..., -0.0017709 ,\n",
              "         -0.01734551,  0.03003231],\n",
              "        ...,\n",
              "        [ 0.02722417,  0.00635195, -0.04712627, ...,  0.01524002,\n",
              "         -0.02061172,  0.0261586 ],\n",
              "        [ 0.02429641, -0.0047024 , -0.0088992 , ..., -0.03763117,\n",
              "         -0.00627802, -0.00820918],\n",
              "        [-0.029166  ,  0.03177846, -0.00140629, ..., -0.04731046,\n",
              "         -0.00186387, -0.02433319]]], dtype=float32)>"
            ]
          },
          "metadata": {},
          "execution_count": 19
        }
      ]
    },
    {
      "cell_type": "markdown",
      "source": [
        "Model 0: Baseline Model -> Sklearn Multinomial Naive Bayes using TF-IDF"
      ],
      "metadata": {
        "id": "URe3kjjjWrSn"
      }
    },
    {
      "cell_type": "code",
      "source": [
        "from sklearn.feature_extraction.text import TfidfVectorizer\n",
        "from sklearn.naive_bayes import MultinomialNB\n",
        "from sklearn.pipeline import Pipeline\n",
        "\n",
        "model_0 = Pipeline([\n",
        "    (\"tfidf\", TfidfVectorizer()),\n",
        "    (\"clf\", MultinomialNB())\n",
        "])\n",
        "\n",
        "model_0.fit(train_sentences, train_labels)"
      ],
      "metadata": {
        "colab": {
          "base_uri": "https://localhost:8080/"
        },
        "id": "gpdx2X8fWxUN",
        "outputId": "5b543360-f7b1-499e-cf63-426977977e2f"
      },
      "execution_count": 20,
      "outputs": [
        {
          "output_type": "execute_result",
          "data": {
            "text/plain": [
              "Pipeline(steps=[('tfidf', TfidfVectorizer()), ('clf', MultinomialNB())])"
            ]
          },
          "metadata": {},
          "execution_count": 20
        }
      ]
    },
    {
      "cell_type": "code",
      "source": [
        "baseline_score = model_0.score(val_sentences, val_labels)\n",
        "print(f\"Baseline Score: {baseline_score*100:.2f}%\")"
      ],
      "metadata": {
        "colab": {
          "base_uri": "https://localhost:8080/"
        },
        "id": "XvBxq30aXi1H",
        "outputId": "6fa993bf-fc7c-430c-aa32-6e4ea2373cb2"
      },
      "execution_count": 21,
      "outputs": [
        {
          "output_type": "stream",
          "name": "stdout",
          "text": [
            "Baseline Score: 79.27%\n"
          ]
        }
      ]
    },
    {
      "cell_type": "code",
      "source": [
        "from sklearn.metrics import accuracy_score, precision_recall_fscore_support\n",
        "\n",
        "def calculate_results(y_true, y_pred):\n",
        "  model_accuracy = accuracy_score(y_true, y_pred) * 100\n",
        "  model_precision, model_recall, model_f1, _ = precision_recall_fscore_support(y_true, y_pred, average=\"weighted\")\n",
        "  model_results = {\n",
        "      \"accuracy\": model_accuracy,\n",
        "      \"precision\": model_precision,\n",
        "      \"recall\": model_recall,\n",
        "      \"f1\": model_f1\n",
        "  }\n",
        "\n",
        "  return model_results"
      ],
      "metadata": {
        "id": "Qba-nKj83Lf1"
      },
      "execution_count": 22,
      "outputs": []
    },
    {
      "cell_type": "code",
      "source": [
        "baseline_preds = model_0.predict(val_sentences)\n",
        "baseline_preds[:5]"
      ],
      "metadata": {
        "colab": {
          "base_uri": "https://localhost:8080/"
        },
        "id": "E6DsaL1YkRZJ",
        "outputId": "3ecdf1c5-288b-4380-a0f0-ef4cc15aa7e0"
      },
      "execution_count": 23,
      "outputs": [
        {
          "output_type": "execute_result",
          "data": {
            "text/plain": [
              "array([1, 1, 1, 0, 0])"
            ]
          },
          "metadata": {},
          "execution_count": 23
        }
      ]
    },
    {
      "cell_type": "code",
      "source": [
        "baseline_results = calculate_results(val_labels, baseline_preds)\n",
        "baseline_results"
      ],
      "metadata": {
        "colab": {
          "base_uri": "https://localhost:8080/"
        },
        "id": "5NsMzZWH6N5l",
        "outputId": "7898dc64-53dd-4604-b572-b334ea4890ed"
      },
      "execution_count": 24,
      "outputs": [
        {
          "output_type": "execute_result",
          "data": {
            "text/plain": [
              "{'accuracy': 79.26509186351706,\n",
              " 'f1': 0.7862189758049549,\n",
              " 'precision': 0.8111390004213173,\n",
              " 'recall': 0.7926509186351706}"
            ]
          },
          "metadata": {},
          "execution_count": 24
        }
      ]
    },
    {
      "cell_type": "code",
      "source": [
        "from helper_functions import create_tensorboard_callback\n",
        "\n",
        "SAVE_DIR = \"model_logs\""
      ],
      "metadata": {
        "id": "QQ1NZEN2j5RX"
      },
      "execution_count": 25,
      "outputs": []
    },
    {
      "cell_type": "markdown",
      "source": [
        "Model 1: Simple Dense Model"
      ],
      "metadata": {
        "id": "QvAyRNWwoA0f"
      }
    },
    {
      "cell_type": "code",
      "source": [
        "from tensorflow.keras import layers\n",
        "\n",
        "inputs = layers.Input(shape=(1,), dtype=tf.string)\n",
        "x = text_vectorizer(inputs)\n",
        "x = embedding(x)\n",
        "x = layers.GlobalAveragePooling1D()(x)\n",
        "outputs = layers.Dense(1, activation=\"sigmoid\")(x)\n",
        "\n",
        "model_1 = tf.keras.Model(inputs, outputs, name=\"model_1_dense\")\n",
        "model_1.summary()"
      ],
      "metadata": {
        "colab": {
          "base_uri": "https://localhost:8080/"
        },
        "id": "ra5RD2EkkAIh",
        "outputId": "df1b0a9e-9021-48d7-9868-611506e6f7c0"
      },
      "execution_count": 26,
      "outputs": [
        {
          "output_type": "stream",
          "name": "stdout",
          "text": [
            "Model: \"model_1_dense\"\n",
            "_________________________________________________________________\n",
            " Layer (type)                Output Shape              Param #   \n",
            "=================================================================\n",
            " input_1 (InputLayer)        [(None, 1)]               0         \n",
            "                                                                 \n",
            " text_vectorization (TextVec  (None, 15)               0         \n",
            " torization)                                                     \n",
            "                                                                 \n",
            " embedding (Embedding)       (None, 15, 128)           1280000   \n",
            "                                                                 \n",
            " global_average_pooling1d (G  (None, 128)              0         \n",
            " lobalAveragePooling1D)                                          \n",
            "                                                                 \n",
            " dense (Dense)               (None, 1)                 129       \n",
            "                                                                 \n",
            "=================================================================\n",
            "Total params: 1,280,129\n",
            "Trainable params: 1,280,129\n",
            "Non-trainable params: 0\n",
            "_________________________________________________________________\n"
          ]
        }
      ]
    },
    {
      "cell_type": "code",
      "source": [
        "model_1.compile(\n",
        "    loss=\"binary_crossentropy\",\n",
        "    optimizer=tf.keras.optimizers.Adam(),\n",
        "    metrics=[\"accuracy\"]\n",
        ")"
      ],
      "metadata": {
        "id": "qV5dSJkLlGfI"
      },
      "execution_count": 27,
      "outputs": []
    },
    {
      "cell_type": "code",
      "source": [
        "model_1_history = model_1.fit(\n",
        "    x=train_sentences,\n",
        "    y=train_labels,\n",
        "    epochs=5,\n",
        "    validation_data=(val_sentences, val_labels),\n",
        "    callbacks=[create_tensorboard_callback(dir_name=SAVE_DIR, experiment_name=\"model_1_dense\")]\n",
        ")"
      ],
      "metadata": {
        "colab": {
          "base_uri": "https://localhost:8080/"
        },
        "id": "MmKDTJRJlTEY",
        "outputId": "f7ad6eb2-00d2-46b2-83cf-9a6aac0f4583"
      },
      "execution_count": 28,
      "outputs": [
        {
          "output_type": "stream",
          "name": "stdout",
          "text": [
            "Saving TensorBoard log files to: model_logs/model_1_dense/20220703-114326\n",
            "Epoch 1/5\n",
            "215/215 [==============================] - 7s 9ms/step - loss: 0.6112 - accuracy: 0.6948 - val_loss: 0.5379 - val_accuracy: 0.7441\n",
            "Epoch 2/5\n",
            "215/215 [==============================] - 1s 7ms/step - loss: 0.4406 - accuracy: 0.8171 - val_loss: 0.4708 - val_accuracy: 0.7848\n",
            "Epoch 3/5\n",
            "215/215 [==============================] - 1s 7ms/step - loss: 0.3468 - accuracy: 0.8612 - val_loss: 0.4581 - val_accuracy: 0.7874\n",
            "Epoch 4/5\n",
            "215/215 [==============================] - 2s 8ms/step - loss: 0.2839 - accuracy: 0.8914 - val_loss: 0.4642 - val_accuracy: 0.7874\n",
            "Epoch 5/5\n",
            "215/215 [==============================] - 2s 8ms/step - loss: 0.2369 - accuracy: 0.9140 - val_loss: 0.4813 - val_accuracy: 0.7795\n"
          ]
        }
      ]
    },
    {
      "cell_type": "code",
      "source": [
        "model_1.evaluate(val_sentences, val_labels)"
      ],
      "metadata": {
        "colab": {
          "base_uri": "https://localhost:8080/"
        },
        "id": "hpYcDvMll-Fh",
        "outputId": "9dc403dc-599b-4a84-d795-5da120c2bd13"
      },
      "execution_count": 29,
      "outputs": [
        {
          "output_type": "stream",
          "name": "stdout",
          "text": [
            "24/24 [==============================] - 0s 3ms/step - loss: 0.4813 - accuracy: 0.7795\n"
          ]
        },
        {
          "output_type": "execute_result",
          "data": {
            "text/plain": [
              "[0.48125478625297546, 0.7795275449752808]"
            ]
          },
          "metadata": {},
          "execution_count": 29
        }
      ]
    },
    {
      "cell_type": "code",
      "source": [
        "model_1_pred_probs = model_1.predict(val_sentences)\n",
        "model_1_pred_probs"
      ],
      "metadata": {
        "colab": {
          "base_uri": "https://localhost:8080/"
        },
        "id": "Xs-8aiJSnQ9A",
        "outputId": "b6519f47-db64-443c-980c-6bbff8b72dea"
      },
      "execution_count": 30,
      "outputs": [
        {
          "output_type": "execute_result",
          "data": {
            "text/plain": [
              "array([[4.45871383e-01],\n",
              "       [8.42670619e-01],\n",
              "       [9.97585535e-01],\n",
              "       [1.16522722e-01],\n",
              "       [1.24890082e-01],\n",
              "       [9.46157396e-01],\n",
              "       [9.22158778e-01],\n",
              "       [9.92941022e-01],\n",
              "       [9.72038090e-01],\n",
              "       [2.80785501e-01],\n",
              "       [1.23290546e-01],\n",
              "       [7.12918043e-01],\n",
              "       [6.85114861e-02],\n",
              "       [1.93636253e-01],\n",
              "       [5.17287385e-03],\n",
              "       [1.70805246e-01],\n",
              "       [3.17423008e-02],\n",
              "       [8.33095983e-02],\n",
              "       [2.79326290e-01],\n",
              "       [6.12702310e-01],\n",
              "       [9.21708167e-01],\n",
              "       [5.15849069e-02],\n",
              "       [4.70238239e-01],\n",
              "       [1.00295469e-01],\n",
              "       [9.63445365e-01],\n",
              "       [9.98654604e-01],\n",
              "       [3.34014632e-02],\n",
              "       [8.70407298e-02],\n",
              "       [3.79297063e-02],\n",
              "       [2.11682558e-01],\n",
              "       [6.01301670e-01],\n",
              "       [2.43534237e-01],\n",
              "       [4.99146312e-01],\n",
              "       [1.86873153e-01],\n",
              "       [5.21638811e-01],\n",
              "       [6.53013736e-02],\n",
              "       [9.94547606e-01],\n",
              "       [1.53341562e-01],\n",
              "       [3.58494595e-02],\n",
              "       [9.98688281e-01],\n",
              "       [1.94736093e-01],\n",
              "       [2.27679126e-02],\n",
              "       [3.15969855e-01],\n",
              "       [8.79769698e-02],\n",
              "       [6.73182786e-01],\n",
              "       [9.84802544e-01],\n",
              "       [2.97017157e-01],\n",
              "       [9.13989425e-01],\n",
              "       [1.94440335e-01],\n",
              "       [6.48308158e-01],\n",
              "       [7.82387480e-02],\n",
              "       [4.20670003e-01],\n",
              "       [4.82139498e-01],\n",
              "       [3.13910767e-02],\n",
              "       [1.35874510e-01],\n",
              "       [3.52918468e-02],\n",
              "       [2.59075195e-01],\n",
              "       [9.68837082e-01],\n",
              "       [1.37888297e-01],\n",
              "       [2.64656567e-03],\n",
              "       [1.33384943e-01],\n",
              "       [9.65453267e-01],\n",
              "       [9.31987941e-01],\n",
              "       [2.12602377e-01],\n",
              "       [9.38902795e-01],\n",
              "       [9.82563674e-01],\n",
              "       [7.90283203e-01],\n",
              "       [3.89020294e-01],\n",
              "       [1.30521581e-01],\n",
              "       [1.50986537e-01],\n",
              "       [7.53285289e-02],\n",
              "       [3.15627009e-02],\n",
              "       [9.42562044e-01],\n",
              "       [1.24964245e-01],\n",
              "       [1.52113393e-01],\n",
              "       [4.70313519e-01],\n",
              "       [3.77633303e-01],\n",
              "       [8.61408710e-01],\n",
              "       [2.59600639e-01],\n",
              "       [6.46513999e-01],\n",
              "       [4.91975188e-01],\n",
              "       [2.42447838e-01],\n",
              "       [9.96335506e-01],\n",
              "       [1.27026454e-01],\n",
              "       [1.73740521e-01],\n",
              "       [9.82881412e-02],\n",
              "       [1.88261829e-02],\n",
              "       [1.12822108e-01],\n",
              "       [6.79761648e-01],\n",
              "       [9.11047280e-01],\n",
              "       [9.92077768e-01],\n",
              "       [1.78003032e-02],\n",
              "       [5.83051503e-01],\n",
              "       [3.12005691e-02],\n",
              "       [9.84093726e-01],\n",
              "       [8.29342604e-01],\n",
              "       [8.63755167e-01],\n",
              "       [9.79154885e-01],\n",
              "       [8.71872246e-01],\n",
              "       [9.62252915e-01],\n",
              "       [9.99323845e-01],\n",
              "       [1.63249299e-01],\n",
              "       [1.28864255e-02],\n",
              "       [9.21633959e-01],\n",
              "       [9.16500390e-01],\n",
              "       [1.03402600e-01],\n",
              "       [8.98585677e-01],\n",
              "       [9.79304194e-01],\n",
              "       [6.46081716e-02],\n",
              "       [5.03858566e-01],\n",
              "       [7.87272513e-01],\n",
              "       [4.35823798e-02],\n",
              "       [2.80895382e-01],\n",
              "       [2.15153933e-01],\n",
              "       [1.43033504e-01],\n",
              "       [5.13202071e-01],\n",
              "       [5.49237907e-01],\n",
              "       [7.74466395e-01],\n",
              "       [7.49143243e-01],\n",
              "       [8.76255408e-02],\n",
              "       [9.99795139e-01],\n",
              "       [1.09861448e-01],\n",
              "       [1.19969770e-01],\n",
              "       [8.52579474e-01],\n",
              "       [4.95873690e-01],\n",
              "       [2.55474061e-01],\n",
              "       [8.46826911e-01],\n",
              "       [9.61242057e-03],\n",
              "       [7.00017735e-02],\n",
              "       [7.85799742e-01],\n",
              "       [9.25802439e-02],\n",
              "       [9.99795139e-01],\n",
              "       [9.99828935e-01],\n",
              "       [9.98654604e-01],\n",
              "       [9.88421082e-01],\n",
              "       [9.68795642e-02],\n",
              "       [9.76641953e-01],\n",
              "       [2.56621957e-01],\n",
              "       [3.43510360e-01],\n",
              "       [9.82677564e-02],\n",
              "       [9.96847808e-01],\n",
              "       [3.35700303e-01],\n",
              "       [1.93636253e-01],\n",
              "       [9.55849409e-01],\n",
              "       [2.24162668e-01],\n",
              "       [6.52244449e-01],\n",
              "       [5.55347539e-02],\n",
              "       [9.58764367e-03],\n",
              "       [2.82124847e-01],\n",
              "       [9.78992879e-01],\n",
              "       [3.02431703e-01],\n",
              "       [7.20800459e-02],\n",
              "       [4.69456315e-01],\n",
              "       [1.98735744e-01],\n",
              "       [2.59678781e-01],\n",
              "       [9.92619336e-01],\n",
              "       [8.32702577e-01],\n",
              "       [5.16325414e-01],\n",
              "       [9.90016520e-01],\n",
              "       [2.23928504e-02],\n",
              "       [9.74250197e-01],\n",
              "       [6.60641193e-02],\n",
              "       [2.59187281e-01],\n",
              "       [9.92796004e-01],\n",
              "       [2.18051940e-01],\n",
              "       [8.84021074e-02],\n",
              "       [9.98587012e-01],\n",
              "       [2.99010783e-01],\n",
              "       [9.79937136e-01],\n",
              "       [2.62381613e-01],\n",
              "       [9.93830502e-01],\n",
              "       [8.78913403e-01],\n",
              "       [8.23727429e-01],\n",
              "       [3.84022519e-02],\n",
              "       [9.97836173e-01],\n",
              "       [6.65571094e-02],\n",
              "       [4.07000691e-01],\n",
              "       [4.76051152e-01],\n",
              "       [7.34124541e-01],\n",
              "       [9.94610786e-01],\n",
              "       [2.09079459e-02],\n",
              "       [8.58130634e-01],\n",
              "       [8.45581412e-01],\n",
              "       [9.69005167e-01],\n",
              "       [9.79983628e-01],\n",
              "       [4.14366186e-01],\n",
              "       [1.01126850e-01],\n",
              "       [9.99679089e-01],\n",
              "       [1.39111280e-02],\n",
              "       [3.48475501e-02],\n",
              "       [1.45156339e-01],\n",
              "       [9.27266777e-01],\n",
              "       [1.04957759e-01],\n",
              "       [2.86529213e-01],\n",
              "       [2.13372726e-02],\n",
              "       [1.25479147e-01],\n",
              "       [4.54037525e-02],\n",
              "       [2.01806426e-01],\n",
              "       [7.94263363e-01],\n",
              "       [8.15890953e-02],\n",
              "       [3.02716672e-01],\n",
              "       [9.08872545e-01],\n",
              "       [9.80534494e-01],\n",
              "       [3.36048663e-01],\n",
              "       [1.58218265e-01],\n",
              "       [9.99891400e-01],\n",
              "       [5.62711000e-01],\n",
              "       [9.34657097e-01],\n",
              "       [6.42611563e-01],\n",
              "       [8.47935498e-01],\n",
              "       [3.59516025e-01],\n",
              "       [9.86249149e-01],\n",
              "       [2.09008921e-02],\n",
              "       [2.51662970e-01],\n",
              "       [8.80711991e-03],\n",
              "       [4.21629846e-03],\n",
              "       [9.58562016e-01],\n",
              "       [8.32950830e-01],\n",
              "       [9.21703994e-01],\n",
              "       [1.52064085e-01],\n",
              "       [6.72187507e-01],\n",
              "       [9.45966691e-02],\n",
              "       [2.21193470e-02],\n",
              "       [2.36271188e-01],\n",
              "       [9.80919659e-01],\n",
              "       [2.39352107e-01],\n",
              "       [5.66846430e-01],\n",
              "       [9.95028555e-01],\n",
              "       [6.37279987e-01],\n",
              "       [6.14295125e-01],\n",
              "       [1.03810206e-01],\n",
              "       [2.79123217e-01],\n",
              "       [8.20532084e-01],\n",
              "       [2.80480564e-01],\n",
              "       [4.87917066e-01],\n",
              "       [1.63196996e-01],\n",
              "       [6.20590210e-01],\n",
              "       [3.76346558e-01],\n",
              "       [1.86105028e-01],\n",
              "       [7.79038891e-02],\n",
              "       [4.18980509e-01],\n",
              "       [3.13385874e-01],\n",
              "       [9.99853015e-01],\n",
              "       [9.86837804e-01],\n",
              "       [9.27347094e-02],\n",
              "       [2.14228649e-02],\n",
              "       [8.79665375e-01],\n",
              "       [1.03578664e-01],\n",
              "       [8.48591328e-02],\n",
              "       [4.97699767e-01],\n",
              "       [4.43699546e-02],\n",
              "       [6.20911360e-01],\n",
              "       [8.50501179e-04],\n",
              "       [4.51896727e-01],\n",
              "       [9.23671603e-01],\n",
              "       [1.97169095e-01],\n",
              "       [9.76948798e-01],\n",
              "       [9.99055564e-01],\n",
              "       [2.67160594e-01],\n",
              "       [1.92514598e-01],\n",
              "       [3.42944413e-01],\n",
              "       [3.48624960e-02],\n",
              "       [4.31299815e-03],\n",
              "       [9.86011922e-01],\n",
              "       [9.66039300e-01],\n",
              "       [7.61305690e-01],\n",
              "       [9.59370077e-01],\n",
              "       [5.91901913e-02],\n",
              "       [1.68128014e-01],\n",
              "       [1.01955533e-02],\n",
              "       [1.86393276e-01],\n",
              "       [4.05539460e-02],\n",
              "       [9.64898229e-01],\n",
              "       [1.12806827e-01],\n",
              "       [9.56773758e-03],\n",
              "       [9.71409619e-01],\n",
              "       [1.58478525e-02],\n",
              "       [1.42906904e-01],\n",
              "       [9.82994437e-01],\n",
              "       [5.47755845e-02],\n",
              "       [8.94384980e-02],\n",
              "       [7.70680467e-03],\n",
              "       [9.68544364e-01],\n",
              "       [6.20807946e-01],\n",
              "       [8.14377844e-01],\n",
              "       [7.28855610e-01],\n",
              "       [6.33981884e-01],\n",
              "       [5.77238426e-02],\n",
              "       [9.39981043e-01],\n",
              "       [4.04661410e-02],\n",
              "       [7.71350801e-01],\n",
              "       [5.09387374e-01],\n",
              "       [4.11703110e-01],\n",
              "       [4.13652986e-01],\n",
              "       [2.15552628e-01],\n",
              "       [7.46815622e-01],\n",
              "       [2.36496776e-01],\n",
              "       [7.00687706e-01],\n",
              "       [1.38017520e-01],\n",
              "       [8.47105622e-01],\n",
              "       [4.41492721e-02],\n",
              "       [7.88835585e-02],\n",
              "       [2.86597788e-01],\n",
              "       [9.82441962e-01],\n",
              "       [1.74265370e-01],\n",
              "       [8.04096833e-02],\n",
              "       [3.48092824e-01],\n",
              "       [1.99633881e-01],\n",
              "       [1.44732073e-01],\n",
              "       [2.57014353e-02],\n",
              "       [3.25084962e-02],\n",
              "       [9.83763576e-01],\n",
              "       [3.56543124e-01],\n",
              "       [3.16880137e-01],\n",
              "       [9.99838114e-01],\n",
              "       [6.87686726e-02],\n",
              "       [6.51670396e-01],\n",
              "       [2.62913704e-01],\n",
              "       [5.19103594e-02],\n",
              "       [1.44801378e-01],\n",
              "       [2.13221893e-01],\n",
              "       [1.06034219e-01],\n",
              "       [9.33405757e-01],\n",
              "       [2.60130405e-01],\n",
              "       [9.86727059e-01],\n",
              "       [1.12527013e-01],\n",
              "       [2.04960816e-02],\n",
              "       [9.95225191e-01],\n",
              "       [2.51731835e-02],\n",
              "       [9.97169673e-01],\n",
              "       [1.65064335e-01],\n",
              "       [3.73255163e-02],\n",
              "       [9.67837334e-01],\n",
              "       [4.78318483e-02],\n",
              "       [3.71320918e-02],\n",
              "       [9.81794715e-01],\n",
              "       [5.76130580e-03],\n",
              "       [2.32605308e-01],\n",
              "       [7.79918015e-01],\n",
              "       [9.21359718e-01],\n",
              "       [4.57320223e-03],\n",
              "       [2.07713142e-01],\n",
              "       [9.81162548e-01],\n",
              "       [9.69170749e-01],\n",
              "       [7.66564012e-01],\n",
              "       [4.35579687e-01],\n",
              "       [6.10532999e-01],\n",
              "       [4.59151447e-01],\n",
              "       [5.63587807e-02],\n",
              "       [1.23397104e-01],\n",
              "       [9.26322117e-02],\n",
              "       [7.33374417e-01],\n",
              "       [4.47645262e-02],\n",
              "       [4.73610491e-01],\n",
              "       [4.18163031e-01],\n",
              "       [1.47742424e-02],\n",
              "       [9.62623715e-01],\n",
              "       [9.98654604e-01],\n",
              "       [9.94440198e-01],\n",
              "       [3.41027379e-02],\n",
              "       [3.02344292e-01],\n",
              "       [1.37706995e-01],\n",
              "       [4.02569979e-01],\n",
              "       [8.05296659e-01],\n",
              "       [2.83679694e-01],\n",
              "       [2.80389506e-02],\n",
              "       [7.58411661e-02],\n",
              "       [5.25078997e-02],\n",
              "       [6.14114106e-01],\n",
              "       [9.51360725e-03],\n",
              "       [2.39877760e-01],\n",
              "       [4.71851341e-02],\n",
              "       [4.48383331e-01],\n",
              "       [5.04427016e-01],\n",
              "       [3.39587688e-01],\n",
              "       [1.78083181e-01],\n",
              "       [5.73944971e-02],\n",
              "       [3.47346127e-01],\n",
              "       [8.64825025e-02],\n",
              "       [9.96689677e-01],\n",
              "       [9.18728650e-01],\n",
              "       [3.86422664e-01],\n",
              "       [6.06860280e-01],\n",
              "       [1.83992833e-02],\n",
              "       [5.25495172e-01],\n",
              "       [9.92022395e-01],\n",
              "       [6.63792193e-01],\n",
              "       [1.92154065e-01],\n",
              "       [9.84346271e-01],\n",
              "       [2.16836661e-01],\n",
              "       [9.50265586e-01],\n",
              "       [3.35598886e-01],\n",
              "       [3.50197069e-02],\n",
              "       [6.11368418e-01],\n",
              "       [4.49285805e-01],\n",
              "       [9.96292114e-01],\n",
              "       [1.14795014e-01],\n",
              "       [6.03837296e-02],\n",
              "       [7.62320235e-02],\n",
              "       [2.83679694e-01],\n",
              "       [9.98913169e-01],\n",
              "       [3.38950567e-02],\n",
              "       [5.88084400e-01],\n",
              "       [9.74783003e-01],\n",
              "       [1.01156905e-01],\n",
              "       [9.99795139e-01],\n",
              "       [3.92935053e-02],\n",
              "       [3.69806051e-01],\n",
              "       [5.63992262e-02],\n",
              "       [7.92456508e-01],\n",
              "       [9.22353327e-01],\n",
              "       [7.78161585e-02],\n",
              "       [2.01834808e-03],\n",
              "       [2.34901369e-01],\n",
              "       [9.91018295e-01],\n",
              "       [8.39150786e-01],\n",
              "       [1.08435385e-01],\n",
              "       [4.88614172e-01],\n",
              "       [7.55083442e-01],\n",
              "       [2.42188200e-02],\n",
              "       [9.93148267e-01],\n",
              "       [5.67079186e-01],\n",
              "       [9.99067605e-01],\n",
              "       [9.34601665e-01],\n",
              "       [8.96637216e-02],\n",
              "       [3.77981782e-01],\n",
              "       [1.16526522e-01],\n",
              "       [9.37812269e-01],\n",
              "       [7.44079888e-01],\n",
              "       [4.16417658e-01],\n",
              "       [3.04986909e-02],\n",
              "       [3.59067559e-01],\n",
              "       [3.80355269e-02],\n",
              "       [5.53020798e-02],\n",
              "       [1.45397872e-01],\n",
              "       [4.38107222e-01],\n",
              "       [4.90883946e-01],\n",
              "       [1.91584349e-01],\n",
              "       [9.99196589e-01],\n",
              "       [9.84271109e-01],\n",
              "       [3.02167743e-01],\n",
              "       [8.42670619e-01],\n",
              "       [2.61125773e-01],\n",
              "       [4.91644256e-02],\n",
              "       [3.04464310e-01],\n",
              "       [6.88319921e-01],\n",
              "       [9.51468796e-02],\n",
              "       [2.24231303e-01],\n",
              "       [1.71757415e-02],\n",
              "       [5.35261810e-01],\n",
              "       [2.21195375e-03],\n",
              "       [9.59756196e-01],\n",
              "       [9.81070518e-01],\n",
              "       [9.93677080e-01],\n",
              "       [9.76657510e-01],\n",
              "       [8.19075048e-01],\n",
              "       [2.00682580e-01],\n",
              "       [5.78557439e-02],\n",
              "       [6.49239600e-01],\n",
              "       [9.29916263e-01],\n",
              "       [9.98067796e-01],\n",
              "       [3.22302361e-03],\n",
              "       [1.55844271e-01],\n",
              "       [1.87012136e-01],\n",
              "       [9.98818457e-01],\n",
              "       [9.99561608e-01],\n",
              "       [2.53663570e-01],\n",
              "       [1.56501845e-01],\n",
              "       [9.97007906e-01],\n",
              "       [4.57572266e-02],\n",
              "       [3.32192123e-01],\n",
              "       [9.84721720e-01],\n",
              "       [1.47719041e-01],\n",
              "       [4.28588092e-02],\n",
              "       [9.14518952e-01],\n",
              "       [3.06509197e-01],\n",
              "       [4.26916063e-01],\n",
              "       [9.67515469e-01],\n",
              "       [3.39338258e-02],\n",
              "       [6.49316385e-02],\n",
              "       [1.07635073e-02],\n",
              "       [1.73225012e-02],\n",
              "       [1.38017818e-01],\n",
              "       [9.75533068e-01],\n",
              "       [2.09410787e-02],\n",
              "       [4.45864081e-01],\n",
              "       [4.61284101e-01],\n",
              "       [6.34203628e-02],\n",
              "       [2.59093374e-01],\n",
              "       [8.64174142e-02],\n",
              "       [4.11783904e-01],\n",
              "       [9.97501194e-01],\n",
              "       [5.57975709e-01],\n",
              "       [1.44823611e-01],\n",
              "       [1.14673391e-01],\n",
              "       [1.41928881e-01],\n",
              "       [6.43439069e-02],\n",
              "       [6.79888964e-01],\n",
              "       [2.34342627e-02],\n",
              "       [9.09710586e-01],\n",
              "       [7.97998250e-01],\n",
              "       [6.05928481e-01],\n",
              "       [6.62636638e-01],\n",
              "       [8.06218445e-01],\n",
              "       [8.72078389e-02],\n",
              "       [2.71661162e-01],\n",
              "       [4.60590273e-01],\n",
              "       [9.04861271e-01],\n",
              "       [2.48028576e-01],\n",
              "       [2.11975202e-01],\n",
              "       [4.14845645e-01],\n",
              "       [1.51350638e-02],\n",
              "       [1.13241598e-01],\n",
              "       [4.40149456e-01],\n",
              "       [8.12707841e-01],\n",
              "       [1.06206581e-01],\n",
              "       [9.93738770e-01],\n",
              "       [9.14345920e-01],\n",
              "       [8.29342604e-01],\n",
              "       [9.86983657e-01],\n",
              "       [1.53932512e-01],\n",
              "       [6.33179545e-02],\n",
              "       [9.04006302e-01],\n",
              "       [1.99173465e-01],\n",
              "       [2.72489097e-02],\n",
              "       [1.17364012e-01],\n",
              "       [1.87360093e-01],\n",
              "       [1.25908060e-03],\n",
              "       [8.61563623e-01],\n",
              "       [7.72981346e-01],\n",
              "       [8.03121567e-01],\n",
              "       [9.40544665e-01],\n",
              "       [9.41573009e-02],\n",
              "       [1.21889062e-01],\n",
              "       [7.29143918e-01],\n",
              "       [1.42946402e-02],\n",
              "       [2.72800446e-01],\n",
              "       [1.17768645e-01],\n",
              "       [6.27228141e-01],\n",
              "       [6.36321902e-01],\n",
              "       [5.84432520e-02],\n",
              "       [7.35303089e-02],\n",
              "       [4.63369191e-01],\n",
              "       [1.34990901e-01],\n",
              "       [1.17012978e-01],\n",
              "       [1.71154201e-01],\n",
              "       [1.77590534e-01],\n",
              "       [9.99214530e-01],\n",
              "       [9.80242074e-01],\n",
              "       [4.05605972e-01],\n",
              "       [8.78553867e-01],\n",
              "       [9.91900802e-01],\n",
              "       [1.73455640e-03],\n",
              "       [9.66402233e-01],\n",
              "       [2.59344757e-01],\n",
              "       [5.21502256e-01],\n",
              "       [2.29726568e-01],\n",
              "       [9.25350934e-02],\n",
              "       [1.53330818e-01],\n",
              "       [2.88354531e-02],\n",
              "       [1.00673988e-01],\n",
              "       [8.21526572e-02],\n",
              "       [7.73838103e-01],\n",
              "       [2.77126312e-01],\n",
              "       [9.92933869e-01],\n",
              "       [4.76419590e-02],\n",
              "       [7.28273869e-01],\n",
              "       [6.16959631e-01],\n",
              "       [1.91589389e-02],\n",
              "       [6.99114501e-02],\n",
              "       [9.73854005e-01],\n",
              "       [7.08173573e-01],\n",
              "       [9.70863044e-01],\n",
              "       [2.49297515e-01],\n",
              "       [9.23398361e-02],\n",
              "       [5.12304246e-01],\n",
              "       [3.74263674e-01],\n",
              "       [2.99539089e-01],\n",
              "       [9.91900802e-01],\n",
              "       [1.31424796e-02],\n",
              "       [4.23490480e-02],\n",
              "       [1.52767614e-01],\n",
              "       [9.97140408e-01],\n",
              "       [2.16862783e-01],\n",
              "       [4.57781591e-02],\n",
              "       [8.17007542e-01],\n",
              "       [8.30791071e-02],\n",
              "       [3.59851196e-02],\n",
              "       [1.74376145e-01],\n",
              "       [2.34087795e-01],\n",
              "       [1.27852947e-01],\n",
              "       [4.39319670e-01],\n",
              "       [4.55161035e-01],\n",
              "       [2.21504599e-01],\n",
              "       [8.05661678e-02],\n",
              "       [3.28909755e-01],\n",
              "       [2.07374096e-02],\n",
              "       [9.53624666e-01],\n",
              "       [8.31051767e-01],\n",
              "       [4.87265438e-01],\n",
              "       [3.84710170e-02],\n",
              "       [3.03173121e-02],\n",
              "       [9.83186960e-01],\n",
              "       [7.30327308e-01],\n",
              "       [9.99601901e-01],\n",
              "       [2.76537359e-01],\n",
              "       [8.84621561e-01],\n",
              "       [1.02878958e-01],\n",
              "       [6.17518485e-01],\n",
              "       [6.69247329e-01],\n",
              "       [2.12475993e-02],\n",
              "       [9.81873393e-01],\n",
              "       [8.76510888e-02],\n",
              "       [4.86187994e-01],\n",
              "       [9.98534560e-01],\n",
              "       [1.65840641e-01],\n",
              "       [2.99203768e-02],\n",
              "       [3.22453648e-01],\n",
              "       [1.15844477e-02],\n",
              "       [4.94953930e-01],\n",
              "       [9.99891400e-01],\n",
              "       [2.45849490e-01],\n",
              "       [9.48853314e-01],\n",
              "       [2.21056357e-01],\n",
              "       [7.63332546e-01],\n",
              "       [1.99013993e-01],\n",
              "       [3.20276767e-01],\n",
              "       [1.54523412e-02],\n",
              "       [6.70899808e-01],\n",
              "       [1.59298088e-02],\n",
              "       [2.44442627e-01],\n",
              "       [9.63795364e-01],\n",
              "       [9.41187680e-01],\n",
              "       [9.96316254e-01],\n",
              "       [7.59841621e-01],\n",
              "       [4.32697013e-02],\n",
              "       [3.58449012e-01],\n",
              "       [1.42440954e-02],\n",
              "       [4.70558524e-01],\n",
              "       [3.27877909e-01],\n",
              "       [8.95279706e-01],\n",
              "       [3.50395963e-02],\n",
              "       [7.83060074e-01],\n",
              "       [8.55830908e-01],\n",
              "       [2.65707910e-01],\n",
              "       [1.77740619e-01],\n",
              "       [2.11975202e-01],\n",
              "       [2.00598225e-01],\n",
              "       [3.62927526e-01],\n",
              "       [6.47993803e-01],\n",
              "       [9.98715639e-01],\n",
              "       [6.17241636e-02],\n",
              "       [6.73530716e-03],\n",
              "       [1.83855183e-02],\n",
              "       [2.23046720e-01],\n",
              "       [2.52413899e-01],\n",
              "       [2.30209511e-02],\n",
              "       [7.78193653e-01],\n",
              "       [1.16917476e-01],\n",
              "       [1.70710757e-01],\n",
              "       [2.70675302e-01],\n",
              "       [2.04475731e-01],\n",
              "       [9.35883462e-01],\n",
              "       [1.73588812e-01],\n",
              "       [5.86083293e-01],\n",
              "       [3.32926780e-01],\n",
              "       [1.61440391e-02],\n",
              "       [9.78891850e-02],\n",
              "       [9.99750555e-01],\n",
              "       [7.78174341e-01],\n",
              "       [6.08964358e-03],\n",
              "       [4.32106376e-01],\n",
              "       [1.57670856e-01],\n",
              "       [8.85827020e-02],\n",
              "       [8.96619499e-01],\n",
              "       [5.54303586e-01],\n",
              "       [6.41096115e-01],\n",
              "       [4.21198040e-01],\n",
              "       [2.01984450e-01],\n",
              "       [6.51114643e-01],\n",
              "       [1.36902601e-01],\n",
              "       [5.92753664e-02],\n",
              "       [9.21796083e-01],\n",
              "       [1.65606618e-01],\n",
              "       [3.62883806e-01],\n",
              "       [9.76980984e-01],\n",
              "       [3.79206866e-01],\n",
              "       [3.65675449e-01],\n",
              "       [1.25908060e-03],\n",
              "       [2.84198433e-01],\n",
              "       [8.57243180e-01],\n",
              "       [9.99795139e-01],\n",
              "       [7.28074431e-01],\n",
              "       [4.95039150e-02],\n",
              "       [9.92013514e-01],\n",
              "       [3.64925623e-01],\n",
              "       [9.00520742e-01],\n",
              "       [3.64925623e-01],\n",
              "       [9.93578553e-01],\n",
              "       [1.12668648e-02],\n",
              "       [4.52128708e-01],\n",
              "       [9.68518630e-02],\n",
              "       [9.81700480e-01],\n",
              "       [2.79476494e-01],\n",
              "       [4.87021416e-01],\n",
              "       [6.47431687e-02],\n",
              "       [3.15279245e-01],\n",
              "       [1.16712376e-01],\n",
              "       [2.20742989e-02],\n",
              "       [2.66512990e-01],\n",
              "       [6.68314621e-02],\n",
              "       [7.90723637e-02],\n",
              "       [8.41567636e-01],\n",
              "       [2.70801857e-02],\n",
              "       [9.88129675e-02],\n",
              "       [3.33601199e-02],\n",
              "       [1.28975799e-02],\n",
              "       [1.32565707e-01],\n",
              "       [6.66865110e-01],\n",
              "       [8.44049305e-02],\n",
              "       [6.67260408e-01],\n",
              "       [1.75406039e-01],\n",
              "       [2.47294426e-01],\n",
              "       [8.83715749e-01],\n",
              "       [1.68256670e-01],\n",
              "       [6.04880750e-02],\n",
              "       [8.10964331e-02],\n",
              "       [6.69844775e-03],\n",
              "       [9.89362299e-01],\n",
              "       [1.28975799e-02],\n",
              "       [3.77427816e-01],\n",
              "       [9.92880583e-01],\n",
              "       [9.93216693e-01],\n",
              "       [9.95760024e-01],\n",
              "       [9.99919176e-01],\n",
              "       [9.99523520e-01],\n",
              "       [2.47789785e-01],\n",
              "       [8.84089023e-02],\n",
              "       [2.72667229e-01],\n",
              "       [5.79781890e-01],\n",
              "       [9.97123301e-01],\n",
              "       [5.82495928e-01],\n",
              "       [2.50578254e-01],\n",
              "       [5.51186979e-01],\n",
              "       [7.27462947e-01],\n",
              "       [2.81696189e-02],\n",
              "       [5.86138340e-03],\n",
              "       [9.97656062e-02],\n",
              "       [4.20031965e-01],\n",
              "       [7.56128738e-03],\n",
              "       [6.59990385e-02],\n",
              "       [4.28203642e-01],\n",
              "       [9.91803348e-01],\n",
              "       [2.24757828e-02],\n",
              "       [9.26820815e-01],\n",
              "       [6.81632102e-01],\n",
              "       [7.23204762e-02],\n",
              "       [2.96152979e-01],\n",
              "       [1.28762737e-01],\n",
              "       [8.37299407e-01],\n",
              "       [5.07840991e-01],\n",
              "       [9.94789507e-03]], dtype=float32)"
            ]
          },
          "metadata": {},
          "execution_count": 30
        }
      ]
    },
    {
      "cell_type": "code",
      "source": [
        "model_1_preds = tf.squeeze(tf.round(model_1_pred_probs))\n",
        "model_1_preds"
      ],
      "metadata": {
        "colab": {
          "base_uri": "https://localhost:8080/"
        },
        "id": "MrX5CYTInWn1",
        "outputId": "9d24a8e8-2d65-497e-dcf6-fc162fd2ca19"
      },
      "execution_count": 31,
      "outputs": [
        {
          "output_type": "execute_result",
          "data": {
            "text/plain": [
              "<tf.Tensor: shape=(762,), dtype=float32, numpy=\n",
              "array([0., 1., 1., 0., 0., 1., 1., 1., 1., 0., 0., 1., 0., 0., 0., 0., 0.,\n",
              "       0., 0., 1., 1., 0., 0., 0., 1., 1., 0., 0., 0., 0., 1., 0., 0., 0.,\n",
              "       1., 0., 1., 0., 0., 1., 0., 0., 0., 0., 1., 1., 0., 1., 0., 1., 0.,\n",
              "       0., 0., 0., 0., 0., 0., 1., 0., 0., 0., 1., 1., 0., 1., 1., 1., 0.,\n",
              "       0., 0., 0., 0., 1., 0., 0., 0., 0., 1., 0., 1., 0., 0., 1., 0., 0.,\n",
              "       0., 0., 0., 1., 1., 1., 0., 1., 0., 1., 1., 1., 1., 1., 1., 1., 0.,\n",
              "       0., 1., 1., 0., 1., 1., 0., 1., 1., 0., 0., 0., 0., 1., 1., 1., 1.,\n",
              "       0., 1., 0., 0., 1., 0., 0., 1., 0., 0., 1., 0., 1., 1., 1., 1., 0.,\n",
              "       1., 0., 0., 0., 1., 0., 0., 1., 0., 1., 0., 0., 0., 1., 0., 0., 0.,\n",
              "       0., 0., 1., 1., 1., 1., 0., 1., 0., 0., 1., 0., 0., 1., 0., 1., 0.,\n",
              "       1., 1., 1., 0., 1., 0., 0., 0., 1., 1., 0., 1., 1., 1., 1., 0., 0.,\n",
              "       1., 0., 0., 0., 1., 0., 0., 0., 0., 0., 0., 1., 0., 0., 1., 1., 0.,\n",
              "       0., 1., 1., 1., 1., 1., 0., 1., 0., 0., 0., 0., 1., 1., 1., 0., 1.,\n",
              "       0., 0., 0., 1., 0., 1., 1., 1., 1., 0., 0., 1., 0., 0., 0., 1., 0.,\n",
              "       0., 0., 0., 0., 1., 1., 0., 0., 1., 0., 0., 0., 0., 1., 0., 0., 1.,\n",
              "       0., 1., 1., 0., 0., 0., 0., 0., 1., 1., 1., 1., 0., 0., 0., 0., 0.,\n",
              "       1., 0., 0., 1., 0., 0., 1., 0., 0., 0., 1., 1., 1., 1., 1., 0., 1.,\n",
              "       0., 1., 1., 0., 0., 0., 1., 0., 1., 0., 1., 0., 0., 0., 1., 0., 0.,\n",
              "       0., 0., 0., 0., 0., 1., 0., 0., 1., 0., 1., 0., 0., 0., 0., 0., 1.,\n",
              "       0., 1., 0., 0., 1., 0., 1., 0., 0., 1., 0., 0., 1., 0., 0., 1., 1.,\n",
              "       0., 0., 1., 1., 1., 0., 1., 0., 0., 0., 0., 1., 0., 0., 0., 0., 1.,\n",
              "       1., 1., 0., 0., 0., 0., 1., 0., 0., 0., 0., 1., 0., 0., 0., 0., 1.,\n",
              "       0., 0., 0., 0., 0., 1., 1., 0., 1., 0., 1., 1., 1., 0., 1., 0., 1.,\n",
              "       0., 0., 1., 0., 1., 0., 0., 0., 0., 1., 0., 1., 1., 0., 1., 0., 0.,\n",
              "       0., 1., 1., 0., 0., 0., 1., 1., 0., 0., 1., 0., 1., 1., 1., 1., 0.,\n",
              "       0., 0., 1., 1., 0., 0., 0., 0., 0., 0., 0., 0., 0., 1., 1., 0., 1.,\n",
              "       0., 0., 0., 1., 0., 0., 0., 1., 0., 1., 1., 1., 1., 1., 0., 0., 1.,\n",
              "       1., 1., 0., 0., 0., 1., 1., 0., 0., 1., 0., 0., 1., 0., 0., 1., 0.,\n",
              "       0., 1., 0., 0., 0., 0., 0., 1., 0., 0., 0., 0., 0., 0., 0., 1., 1.,\n",
              "       0., 0., 0., 0., 1., 0., 1., 1., 1., 1., 1., 0., 0., 0., 1., 0., 0.,\n",
              "       0., 0., 0., 0., 1., 0., 1., 1., 1., 1., 0., 0., 1., 0., 0., 0., 0.,\n",
              "       0., 1., 1., 1., 1., 0., 0., 1., 0., 0., 0., 1., 1., 0., 0., 0., 0.,\n",
              "       0., 0., 0., 1., 1., 0., 1., 1., 0., 1., 0., 1., 0., 0., 0., 0., 0.,\n",
              "       0., 1., 0., 1., 0., 1., 1., 0., 0., 1., 1., 1., 0., 0., 1., 0., 0.,\n",
              "       1., 0., 0., 0., 1., 0., 0., 1., 0., 0., 0., 0., 0., 0., 0., 0., 0.,\n",
              "       0., 0., 1., 1., 0., 0., 0., 1., 1., 1., 0., 1., 0., 1., 1., 0., 1.,\n",
              "       0., 0., 1., 0., 0., 0., 0., 0., 1., 0., 1., 0., 1., 0., 0., 0., 1.,\n",
              "       0., 0., 1., 1., 1., 1., 0., 0., 0., 0., 0., 1., 0., 1., 1., 0., 0.,\n",
              "       0., 0., 0., 1., 1., 0., 0., 0., 0., 0., 0., 1., 0., 0., 0., 0., 1.,\n",
              "       0., 1., 0., 0., 0., 1., 1., 0., 0., 0., 0., 1., 1., 1., 0., 0., 1.,\n",
              "       0., 0., 1., 0., 0., 1., 0., 0., 0., 0., 1., 1., 1., 0., 1., 0., 1.,\n",
              "       0., 1., 0., 0., 0., 1., 0., 0., 0., 0., 0., 0., 0., 0., 0., 1., 0.,\n",
              "       0., 0., 0., 0., 1., 0., 1., 0., 0., 1., 0., 0., 0., 0., 1., 0., 0.,\n",
              "       1., 1., 1., 1., 1., 0., 0., 0., 1., 1., 1., 0., 1., 1., 0., 0., 0.,\n",
              "       0., 0., 0., 0., 1., 0., 1., 1., 0., 0., 0., 1., 1., 0.],\n",
              "      dtype=float32)>"
            ]
          },
          "metadata": {},
          "execution_count": 31
        }
      ]
    },
    {
      "cell_type": "code",
      "source": [
        "model_1_results = calculate_results(val_labels, model_1_preds)\n",
        "model_1_results, baseline_results"
      ],
      "metadata": {
        "colab": {
          "base_uri": "https://localhost:8080/"
        },
        "id": "YSrVraEgngI_",
        "outputId": "f4928b67-0a41-4916-b909-94f6fdb7c527"
      },
      "execution_count": 32,
      "outputs": [
        {
          "output_type": "execute_result",
          "data": {
            "text/plain": [
              "({'accuracy': 77.95275590551181,\n",
              "  'f1': 0.7771404562571971,\n",
              "  'precision': 0.7822644211580037,\n",
              "  'recall': 0.7795275590551181},\n",
              " {'accuracy': 79.26509186351706,\n",
              "  'f1': 0.7862189758049549,\n",
              "  'precision': 0.8111390004213173,\n",
              "  'recall': 0.7926509186351706})"
            ]
          },
          "metadata": {},
          "execution_count": 32
        }
      ]
    },
    {
      "cell_type": "code",
      "source": [
        "embed_weights = model_1.get_layer(\"embedding\").get_weights()[0]\n",
        "embed_weights.shape"
      ],
      "metadata": {
        "colab": {
          "base_uri": "https://localhost:8080/"
        },
        "id": "nMDqa0bjodTZ",
        "outputId": "91a92721-50d6-4cea-eadd-58723474f552"
      },
      "execution_count": 33,
      "outputs": [
        {
          "output_type": "execute_result",
          "data": {
            "text/plain": [
              "(10000, 128)"
            ]
          },
          "metadata": {},
          "execution_count": 33
        }
      ]
    },
    {
      "cell_type": "markdown",
      "source": [
        "Model 2: LSTM Model"
      ],
      "metadata": {
        "id": "SD23njEklQqb"
      }
    },
    {
      "cell_type": "code",
      "source": [
        "from tensorflow.keras import layers\n",
        "\n",
        "inputs = layers.Input(shape=(1,), dtype=\"string\")\n",
        "x = text_vectorizer(inputs)\n",
        "x = embedding(x)\n",
        "x = layers.LSTM(64, return_sequences=True)(x)\n",
        "x = layers.LSTM(64)(x)\n",
        "x = layers.Dense(64, activation=\"relu\")(x)\n",
        "outputs = layers.Dense(1, activation=\"sigmoid\")(x)\n",
        "model_2 = tf.keras.Model(inputs, outputs, name=\"model_2_LSTM\")"
      ],
      "metadata": {
        "id": "VMHu_qPfqah-"
      },
      "execution_count": 34,
      "outputs": []
    },
    {
      "cell_type": "code",
      "source": [
        "model_2.compile(\n",
        "    loss=\"binary_crossentropy\",\n",
        "    optimizer=tf.keras.optimizers.Adam(),\n",
        "    metrics=[\"accuracy\"]\n",
        ")"
      ],
      "metadata": {
        "id": "Ne5OLLd2nOBt"
      },
      "execution_count": 35,
      "outputs": []
    },
    {
      "cell_type": "code",
      "source": [
        "model_2_history = model_2.fit(\n",
        "    train_sentences,\n",
        "    train_labels,\n",
        "    epochs=5,\n",
        "    validation_data=(val_sentences, val_labels),\n",
        "    callbacks=[create_tensorboard_callback(SAVE_DIR, \"model_2_LSTM\")]\n",
        ")"
      ],
      "metadata": {
        "colab": {
          "base_uri": "https://localhost:8080/"
        },
        "id": "7IiH_6RxnV0x",
        "outputId": "810ab1aa-e8c4-48bc-e41d-231a4298b96a"
      },
      "execution_count": 36,
      "outputs": [
        {
          "output_type": "stream",
          "name": "stdout",
          "text": [
            "Saving TensorBoard log files to: model_logs/model_2_LSTM/20220703-114349\n",
            "Epoch 1/5\n",
            "215/215 [==============================] - 8s 11ms/step - loss: 0.2233 - accuracy: 0.9245 - val_loss: 0.6062 - val_accuracy: 0.7782\n",
            "Epoch 2/5\n",
            "215/215 [==============================] - 2s 8ms/step - loss: 0.1598 - accuracy: 0.9403 - val_loss: 0.6380 - val_accuracy: 0.7769\n",
            "Epoch 3/5\n",
            "215/215 [==============================] - 2s 8ms/step - loss: 0.1286 - accuracy: 0.9510 - val_loss: 0.6874 - val_accuracy: 0.7677\n",
            "Epoch 4/5\n",
            "215/215 [==============================] - 2s 8ms/step - loss: 0.1056 - accuracy: 0.9616 - val_loss: 0.7113 - val_accuracy: 0.7782\n",
            "Epoch 5/5\n",
            "215/215 [==============================] - 2s 8ms/step - loss: 0.0855 - accuracy: 0.9660 - val_loss: 1.0618 - val_accuracy: 0.7677\n"
          ]
        }
      ]
    },
    {
      "cell_type": "code",
      "source": [
        "model_2_pred_probs = model_2.predict(val_sentences)\n",
        "model_2_pred_probs[:10]"
      ],
      "metadata": {
        "colab": {
          "base_uri": "https://localhost:8080/"
        },
        "id": "QsysZL4Xnt1Y",
        "outputId": "c7e3bda0-c1c2-4075-ff25-74d6085c5c07"
      },
      "execution_count": 37,
      "outputs": [
        {
          "output_type": "execute_result",
          "data": {
            "text/plain": [
              "array([[2.4585113e-02],\n",
              "       [6.4015108e-01],\n",
              "       [9.9996161e-01],\n",
              "       [8.8868812e-03],\n",
              "       [6.7528585e-05],\n",
              "       [9.9985290e-01],\n",
              "       [8.8372177e-01],\n",
              "       [9.9997890e-01],\n",
              "       [9.9996459e-01],\n",
              "       [2.8283694e-01]], dtype=float32)"
            ]
          },
          "metadata": {},
          "execution_count": 37
        }
      ]
    },
    {
      "cell_type": "code",
      "source": [
        "model_2_preds = tf.squeeze(tf.round(model_2_pred_probs))\n",
        "model_2_preds[:10]"
      ],
      "metadata": {
        "colab": {
          "base_uri": "https://localhost:8080/"
        },
        "id": "Q2txykyan5yv",
        "outputId": "f07a946b-c176-42d8-9d24-f072b873d4d0"
      },
      "execution_count": 38,
      "outputs": [
        {
          "output_type": "execute_result",
          "data": {
            "text/plain": [
              "<tf.Tensor: shape=(10,), dtype=float32, numpy=array([0., 1., 1., 0., 0., 1., 1., 1., 1., 0.], dtype=float32)>"
            ]
          },
          "metadata": {},
          "execution_count": 38
        }
      ]
    },
    {
      "cell_type": "code",
      "source": [
        "model_2_results = calculate_results(y_true=val_labels, y_pred=model_2_preds)\n",
        "model_2_results"
      ],
      "metadata": {
        "colab": {
          "base_uri": "https://localhost:8080/"
        },
        "id": "RBkiUvDToFKY",
        "outputId": "df00eb32-783b-41f9-d1cc-33118fdfc04c"
      },
      "execution_count": 39,
      "outputs": [
        {
          "output_type": "execute_result",
          "data": {
            "text/plain": [
              "{'accuracy': 76.77165354330708,\n",
              " 'f1': 0.7652718344725522,\n",
              " 'precision': 0.769927879249698,\n",
              " 'recall': 0.7677165354330708}"
            ]
          },
          "metadata": {},
          "execution_count": 39
        }
      ]
    },
    {
      "cell_type": "markdown",
      "source": [
        "Model 3: GRU Model"
      ],
      "metadata": {
        "id": "Flvco2JPoiCJ"
      }
    },
    {
      "cell_type": "code",
      "source": [
        "from tensorflow.keras import layers\n",
        "\n",
        "inputs = layers.Input(shape=(1,), dtype=\"string\")\n",
        "x = text_vectorizer(inputs)\n",
        "x = embedding(x)\n",
        "#x = layers.GRU(64, return_sequences=True)(x)\n",
        "#x = layers.LSTM(64, return_sequences=True)(x)\n",
        "x = layers.GRU(64)(x)\n",
        "x = layers.Dense(64, activation=\"relu\")(x)\n",
        "outputs = layers.Dense(1, activation=\"sigmoid\")(x)\n",
        "\n",
        "model_3 = tf.keras.Model(inputs, outputs, name=\"model_3_GRU\")"
      ],
      "metadata": {
        "id": "mGmAJLvOokz8"
      },
      "execution_count": 40,
      "outputs": []
    },
    {
      "cell_type": "code",
      "source": [
        "model_3.compile(\n",
        "    loss=\"binary_crossentropy\",\n",
        "    optimizer=tf.keras.optimizers.Adam(),\n",
        "    metrics=[\"accuracy\"]\n",
        ")"
      ],
      "metadata": {
        "id": "GesF39RKp2d_"
      },
      "execution_count": 41,
      "outputs": []
    },
    {
      "cell_type": "code",
      "source": [
        "model_3_history = model_3.fit(\n",
        "    train_sentences,\n",
        "    train_labels,\n",
        "    epochs=5,\n",
        "    validation_data=(val_sentences, val_labels),\n",
        "    callbacks=[create_tensorboard_callback(SAVE_DIR, \"model_2_GRU\")]\n",
        ")"
      ],
      "metadata": {
        "colab": {
          "base_uri": "https://localhost:8080/"
        },
        "id": "v7FE10mmqFLD",
        "outputId": "62af0b6d-cee4-4b0c-9071-2a45fc580669"
      },
      "execution_count": 42,
      "outputs": [
        {
          "output_type": "stream",
          "name": "stdout",
          "text": [
            "Saving TensorBoard log files to: model_logs/model_2_GRU/20220703-114404\n",
            "Epoch 1/5\n",
            "215/215 [==============================] - 3s 8ms/step - loss: 0.1567 - accuracy: 0.9406 - val_loss: 0.7696 - val_accuracy: 0.7730\n",
            "Epoch 2/5\n",
            "215/215 [==============================] - 1s 6ms/step - loss: 0.0854 - accuracy: 0.9704 - val_loss: 0.8460 - val_accuracy: 0.7664\n",
            "Epoch 3/5\n",
            "215/215 [==============================] - 1s 6ms/step - loss: 0.0701 - accuracy: 0.9721 - val_loss: 0.9926 - val_accuracy: 0.7756\n",
            "Epoch 4/5\n",
            "215/215 [==============================] - 1s 6ms/step - loss: 0.0585 - accuracy: 0.9750 - val_loss: 1.0867 - val_accuracy: 0.7717\n",
            "Epoch 5/5\n",
            "215/215 [==============================] - 1s 6ms/step - loss: 0.0524 - accuracy: 0.9769 - val_loss: 1.1515 - val_accuracy: 0.7717\n"
          ]
        }
      ]
    },
    {
      "cell_type": "code",
      "source": [
        "model_3_pred_probs = model_3.predict(val_sentences)\n",
        "model_3_pred_probs[:10]"
      ],
      "metadata": {
        "colab": {
          "base_uri": "https://localhost:8080/"
        },
        "id": "7Z6AoDwcqN0t",
        "outputId": "b890f076-588b-4055-a69d-a39b45d0f483"
      },
      "execution_count": 43,
      "outputs": [
        {
          "output_type": "execute_result",
          "data": {
            "text/plain": [
              "array([[1.3164801e-03],\n",
              "       [7.9019982e-01],\n",
              "       [9.9986756e-01],\n",
              "       [1.0751158e-01],\n",
              "       [1.4357111e-05],\n",
              "       [9.9933487e-01],\n",
              "       [6.5583456e-01],\n",
              "       [9.9993455e-01],\n",
              "       [9.9986339e-01],\n",
              "       [4.5286149e-01]], dtype=float32)"
            ]
          },
          "metadata": {},
          "execution_count": 43
        }
      ]
    },
    {
      "cell_type": "code",
      "source": [
        "model_3_preds = tf.squeeze(tf.round(model_3_pred_probs))\n",
        "model_3_preds[:10]"
      ],
      "metadata": {
        "colab": {
          "base_uri": "https://localhost:8080/"
        },
        "id": "ZjGJeWhdqTes",
        "outputId": "2aea3ba5-9c29-4ad3-e5d7-00ba7b473d56"
      },
      "execution_count": 44,
      "outputs": [
        {
          "output_type": "execute_result",
          "data": {
            "text/plain": [
              "<tf.Tensor: shape=(10,), dtype=float32, numpy=array([0., 1., 1., 0., 0., 1., 1., 1., 1., 0.], dtype=float32)>"
            ]
          },
          "metadata": {},
          "execution_count": 44
        }
      ]
    },
    {
      "cell_type": "code",
      "source": [
        "model_3_results = calculate_results(y_true=val_labels, y_pred=model_3_preds)\n",
        "model_3_results"
      ],
      "metadata": {
        "colab": {
          "base_uri": "https://localhost:8080/"
        },
        "id": "ztNOVBWmqbDp",
        "outputId": "7ed2020b-39e3-4be8-cf3f-89d957e37239"
      },
      "execution_count": 45,
      "outputs": [
        {
          "output_type": "execute_result",
          "data": {
            "text/plain": [
              "{'accuracy': 77.16535433070865,\n",
              " 'f1': 0.7684419786377588,\n",
              " 'precision': 0.7758922411539364,\n",
              " 'recall': 0.7716535433070866}"
            ]
          },
          "metadata": {},
          "execution_count": 45
        }
      ]
    },
    {
      "cell_type": "code",
      "source": [
        "baseline_results"
      ],
      "metadata": {
        "id": "mlxNie1kqhDl",
        "outputId": "a6abde5f-a7fd-455b-e6b6-447c9cc5416e",
        "colab": {
          "base_uri": "https://localhost:8080/"
        }
      },
      "execution_count": 46,
      "outputs": [
        {
          "output_type": "execute_result",
          "data": {
            "text/plain": [
              "{'accuracy': 79.26509186351706,\n",
              " 'f1': 0.7862189758049549,\n",
              " 'precision': 0.8111390004213173,\n",
              " 'recall': 0.7926509186351706}"
            ]
          },
          "metadata": {},
          "execution_count": 46
        }
      ]
    },
    {
      "cell_type": "markdown",
      "source": [
        "Model 4: Bi-Directional RNN Model"
      ],
      "metadata": {
        "id": "xJHigSRY3w51"
      }
    },
    {
      "cell_type": "code",
      "source": [
        "from tensorflow.keras import layers\n",
        "\n",
        "inputs = layers.Input(shape=(1,), dtype=\"string\")\n",
        "x = text_vectorizer(inputs)\n",
        "x = embedding(x)\n",
        "# x = layers.Bidirectional(layers.LSTM(64, return_sequences=True))(x)\n",
        "x = layers.Bidirectional(layers.LSTM(64))(x)\n",
        "x = layers.Dense(64, activation=\"relu\")(x)\n",
        "outputs = layers.Dense(1, activation=\"sigmoid\")(x)\n",
        "\n",
        "model_4 = tf.keras.Model(inputs, outputs, name=\"model_4_Bidirectional\")"
      ],
      "metadata": {
        "id": "jVJFkx7m3v5o"
      },
      "execution_count": 50,
      "outputs": []
    },
    {
      "cell_type": "code",
      "source": [
        "model_4.compile(\n",
        "    loss=\"binary_crossentropy\",\n",
        "    optimizer=tf.keras.optimizers.Adam(),\n",
        "    metrics=[\"accuracy\"]\n",
        ")"
      ],
      "metadata": {
        "id": "5WDzIGim5QC3"
      },
      "execution_count": 51,
      "outputs": []
    },
    {
      "cell_type": "code",
      "source": [
        "model_4_history = model_4.fit(\n",
        "    train_sentences,\n",
        "    train_labels,\n",
        "    epochs=5,\n",
        "    validation_data=(val_sentences, val_labels),\n",
        "    callbacks=[create_tensorboard_callback(SAVE_DIR, \"model_4_GRU\")]\n",
        ")"
      ],
      "metadata": {
        "colab": {
          "base_uri": "https://localhost:8080/"
        },
        "id": "N8WORMtg5dFU",
        "outputId": "4380629f-1516-4d07-dcfe-a574c9b66e50"
      },
      "execution_count": 53,
      "outputs": [
        {
          "output_type": "stream",
          "name": "stdout",
          "text": [
            "Saving TensorBoard log files to: model_logs/model_4_GRU/20220703-115103\n",
            "Epoch 1/5\n",
            "215/215 [==============================] - 3s 11ms/step - loss: 0.1056 - accuracy: 0.9698 - val_loss: 1.1664 - val_accuracy: 0.7638\n",
            "Epoch 2/5\n",
            "215/215 [==============================] - 2s 8ms/step - loss: 0.0473 - accuracy: 0.9788 - val_loss: 1.6049 - val_accuracy: 0.7572\n",
            "Epoch 3/5\n",
            "215/215 [==============================] - 2s 8ms/step - loss: 0.0448 - accuracy: 0.9794 - val_loss: 1.5765 - val_accuracy: 0.7703\n",
            "Epoch 4/5\n",
            "215/215 [==============================] - 2s 11ms/step - loss: 0.0418 - accuracy: 0.9801 - val_loss: 1.5602 - val_accuracy: 0.7638\n",
            "Epoch 5/5\n",
            "215/215 [==============================] - 3s 13ms/step - loss: 0.0384 - accuracy: 0.9793 - val_loss: 1.7113 - val_accuracy: 0.7717\n"
          ]
        }
      ]
    },
    {
      "cell_type": "code",
      "source": [
        "model_4_pred_probs = model_4.predict(val_sentences)\n",
        "model_4_pred_probs[:10]"
      ],
      "metadata": {
        "colab": {
          "base_uri": "https://localhost:8080/"
        },
        "id": "KCBZJ0PR5qfl",
        "outputId": "aef284d6-daae-41d2-8ee9-83c637fe7a6a"
      },
      "execution_count": 54,
      "outputs": [
        {
          "output_type": "execute_result",
          "data": {
            "text/plain": [
              "array([[2.0426762e-04],\n",
              "       [9.1666454e-01],\n",
              "       [9.9999976e-01],\n",
              "       [2.1038553e-01],\n",
              "       [2.7362200e-06],\n",
              "       [9.9999559e-01],\n",
              "       [9.9486226e-01],\n",
              "       [1.0000000e+00],\n",
              "       [9.9999976e-01],\n",
              "       [9.5442921e-01]], dtype=float32)"
            ]
          },
          "metadata": {},
          "execution_count": 54
        }
      ]
    },
    {
      "cell_type": "code",
      "source": [
        "model_4_preds = tf.squeeze(tf.round(model_4_pred_probs))\n",
        "model_4_preds[:10]"
      ],
      "metadata": {
        "colab": {
          "base_uri": "https://localhost:8080/"
        },
        "id": "QDTootHu5nGk",
        "outputId": "87383120-8ee4-45b0-e06b-8fdbcc5d1ee8"
      },
      "execution_count": 55,
      "outputs": [
        {
          "output_type": "execute_result",
          "data": {
            "text/plain": [
              "<tf.Tensor: shape=(10,), dtype=float32, numpy=array([0., 1., 1., 0., 0., 1., 1., 1., 1., 1.], dtype=float32)>"
            ]
          },
          "metadata": {},
          "execution_count": 55
        }
      ]
    },
    {
      "cell_type": "code",
      "source": [
        "model_4_results = calculate_results(y_true=val_labels, y_pred=model_4_preds)\n",
        "model_4_results"
      ],
      "metadata": {
        "colab": {
          "base_uri": "https://localhost:8080/"
        },
        "id": "ExKLYRK05uZ1",
        "outputId": "1f69bb35-0d94-4b8c-ce5d-1996e88bb8a8"
      },
      "execution_count": 56,
      "outputs": [
        {
          "output_type": "execute_result",
          "data": {
            "text/plain": [
              "{'accuracy': 77.16535433070865,\n",
              " 'f1': 0.7695827090439606,\n",
              " 'precision': 0.7732961359962456,\n",
              " 'recall': 0.7716535433070866}"
            ]
          },
          "metadata": {},
          "execution_count": 56
        }
      ]
    }
  ]
}