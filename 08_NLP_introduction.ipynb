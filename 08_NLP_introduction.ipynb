{
  "nbformat": 4,
  "nbformat_minor": 0,
  "metadata": {
    "colab": {
      "name": "08_NLP_introduction.ipynb",
      "provenance": [],
      "collapsed_sections": [],
      "authorship_tag": "ABX9TyM1pYjcuy2Br11zm0YvO4NU",
      "include_colab_link": true
    },
    "kernelspec": {
      "name": "python3",
      "display_name": "Python 3"
    },
    "language_info": {
      "name": "python"
    },
    "accelerator": "GPU",
    "gpuClass": "standard"
  },
  "cells": [
    {
      "cell_type": "markdown",
      "metadata": {
        "id": "view-in-github",
        "colab_type": "text"
      },
      "source": [
        "<a href=\"https://colab.research.google.com/github/eman-kom/tensorflow-fundamentals/blob/main/08_NLP_introduction.ipynb\" target=\"_parent\"><img src=\"https://colab.research.google.com/assets/colab-badge.svg\" alt=\"Open In Colab\"/></a>"
      ]
    },
    {
      "cell_type": "code",
      "execution_count": 50,
      "metadata": {
        "colab": {
          "base_uri": "https://localhost:8080/"
        },
        "id": "tpZT3jVCPpJW",
        "outputId": "6f9acace-e64e-4e6e-f490-87facd2736ae"
      },
      "outputs": [
        {
          "output_type": "stream",
          "name": "stdout",
          "text": [
            "GPU 0: Tesla T4 (UUID: GPU-001c0447-99b1-66bc-eab5-06e763b376c2)\n"
          ]
        }
      ],
      "source": [
        "!nvidia-smi -L"
      ]
    },
    {
      "cell_type": "code",
      "source": [
        "!wget https://raw.githubusercontent.com/mrdbourke/tensorflow-deep-learning/main/extras/helper_functions.py"
      ],
      "metadata": {
        "colab": {
          "base_uri": "https://localhost:8080/"
        },
        "id": "aupYUIY7QAYD",
        "outputId": "aa142100-af5c-4607-8138-580c2bc57cc1"
      },
      "execution_count": 51,
      "outputs": [
        {
          "output_type": "stream",
          "name": "stdout",
          "text": [
            "--2022-07-03 06:41:44--  https://raw.githubusercontent.com/mrdbourke/tensorflow-deep-learning/main/extras/helper_functions.py\n",
            "Resolving raw.githubusercontent.com (raw.githubusercontent.com)... 185.199.108.133, 185.199.109.133, 185.199.110.133, ...\n",
            "Connecting to raw.githubusercontent.com (raw.githubusercontent.com)|185.199.108.133|:443... connected.\n",
            "HTTP request sent, awaiting response... 200 OK\n",
            "Length: 10246 (10K) [text/plain]\n",
            "Saving to: ‘helper_functions.py.1’\n",
            "\n",
            "\rhelper_functions.py   0%[                    ]       0  --.-KB/s               \rhelper_functions.py 100%[===================>]  10.01K  --.-KB/s    in 0s      \n",
            "\n",
            "2022-07-03 06:41:44 (99.8 MB/s) - ‘helper_functions.py.1’ saved [10246/10246]\n",
            "\n"
          ]
        }
      ]
    },
    {
      "cell_type": "code",
      "source": [
        "from helper_functions import unzip_data, create_tensorboard_callback, plot_loss_curves, compare_historys"
      ],
      "metadata": {
        "id": "9BoasXQDQUCE"
      },
      "execution_count": 52,
      "outputs": []
    },
    {
      "cell_type": "code",
      "source": [
        "!wget https://storage.googleapis.com/ztm_tf_course/nlp_getting_started.zip\n",
        "\n",
        "unzip_data(\"nlp_getting_started.zip\")"
      ],
      "metadata": {
        "colab": {
          "base_uri": "https://localhost:8080/"
        },
        "id": "g3DP5xPCQerB",
        "outputId": "975a6d5b-2479-4ac2-da23-8b04d039be55"
      },
      "execution_count": 53,
      "outputs": [
        {
          "output_type": "stream",
          "name": "stdout",
          "text": [
            "--2022-07-03 06:41:44--  https://storage.googleapis.com/ztm_tf_course/nlp_getting_started.zip\n",
            "Resolving storage.googleapis.com (storage.googleapis.com)... 172.253.115.128, 172.253.122.128, 172.253.63.128, ...\n",
            "Connecting to storage.googleapis.com (storage.googleapis.com)|172.253.115.128|:443... connected.\n",
            "HTTP request sent, awaiting response... 200 OK\n",
            "Length: 607343 (593K) [application/zip]\n",
            "Saving to: ‘nlp_getting_started.zip.1’\n",
            "\n",
            "\r          nlp_getti   0%[                    ]       0  --.-KB/s               \rnlp_getting_started 100%[===================>] 593.11K  --.-KB/s    in 0.004s  \n",
            "\n",
            "2022-07-03 06:41:44 (131 MB/s) - ‘nlp_getting_started.zip.1’ saved [607343/607343]\n",
            "\n"
          ]
        }
      ]
    },
    {
      "cell_type": "code",
      "source": [
        "import pandas as pd\n",
        "\n",
        "train_df = pd.read_csv(\"train.csv\")\n",
        "test_df = pd.read_csv(\"test.csv\")\n",
        "\n",
        "train_df.head()"
      ],
      "metadata": {
        "colab": {
          "base_uri": "https://localhost:8080/",
          "height": 206
        },
        "id": "9XBs9MiTQzzM",
        "outputId": "b2a8db08-f1d4-4d1b-9c20-c776413e3662"
      },
      "execution_count": 54,
      "outputs": [
        {
          "output_type": "execute_result",
          "data": {
            "text/plain": [
              "   id keyword location                                               text  \\\n",
              "0   1     NaN      NaN  Our Deeds are the Reason of this #earthquake M...   \n",
              "1   4     NaN      NaN             Forest fire near La Ronge Sask. Canada   \n",
              "2   5     NaN      NaN  All residents asked to 'shelter in place' are ...   \n",
              "3   6     NaN      NaN  13,000 people receive #wildfires evacuation or...   \n",
              "4   7     NaN      NaN  Just got sent this photo from Ruby #Alaska as ...   \n",
              "\n",
              "   target  \n",
              "0       1  \n",
              "1       1  \n",
              "2       1  \n",
              "3       1  \n",
              "4       1  "
            ],
            "text/html": [
              "\n",
              "  <div id=\"df-edc383b6-0814-4798-a08f-4deb27840ca5\">\n",
              "    <div class=\"colab-df-container\">\n",
              "      <div>\n",
              "<style scoped>\n",
              "    .dataframe tbody tr th:only-of-type {\n",
              "        vertical-align: middle;\n",
              "    }\n",
              "\n",
              "    .dataframe tbody tr th {\n",
              "        vertical-align: top;\n",
              "    }\n",
              "\n",
              "    .dataframe thead th {\n",
              "        text-align: right;\n",
              "    }\n",
              "</style>\n",
              "<table border=\"1\" class=\"dataframe\">\n",
              "  <thead>\n",
              "    <tr style=\"text-align: right;\">\n",
              "      <th></th>\n",
              "      <th>id</th>\n",
              "      <th>keyword</th>\n",
              "      <th>location</th>\n",
              "      <th>text</th>\n",
              "      <th>target</th>\n",
              "    </tr>\n",
              "  </thead>\n",
              "  <tbody>\n",
              "    <tr>\n",
              "      <th>0</th>\n",
              "      <td>1</td>\n",
              "      <td>NaN</td>\n",
              "      <td>NaN</td>\n",
              "      <td>Our Deeds are the Reason of this #earthquake M...</td>\n",
              "      <td>1</td>\n",
              "    </tr>\n",
              "    <tr>\n",
              "      <th>1</th>\n",
              "      <td>4</td>\n",
              "      <td>NaN</td>\n",
              "      <td>NaN</td>\n",
              "      <td>Forest fire near La Ronge Sask. Canada</td>\n",
              "      <td>1</td>\n",
              "    </tr>\n",
              "    <tr>\n",
              "      <th>2</th>\n",
              "      <td>5</td>\n",
              "      <td>NaN</td>\n",
              "      <td>NaN</td>\n",
              "      <td>All residents asked to 'shelter in place' are ...</td>\n",
              "      <td>1</td>\n",
              "    </tr>\n",
              "    <tr>\n",
              "      <th>3</th>\n",
              "      <td>6</td>\n",
              "      <td>NaN</td>\n",
              "      <td>NaN</td>\n",
              "      <td>13,000 people receive #wildfires evacuation or...</td>\n",
              "      <td>1</td>\n",
              "    </tr>\n",
              "    <tr>\n",
              "      <th>4</th>\n",
              "      <td>7</td>\n",
              "      <td>NaN</td>\n",
              "      <td>NaN</td>\n",
              "      <td>Just got sent this photo from Ruby #Alaska as ...</td>\n",
              "      <td>1</td>\n",
              "    </tr>\n",
              "  </tbody>\n",
              "</table>\n",
              "</div>\n",
              "      <button class=\"colab-df-convert\" onclick=\"convertToInteractive('df-edc383b6-0814-4798-a08f-4deb27840ca5')\"\n",
              "              title=\"Convert this dataframe to an interactive table.\"\n",
              "              style=\"display:none;\">\n",
              "        \n",
              "  <svg xmlns=\"http://www.w3.org/2000/svg\" height=\"24px\"viewBox=\"0 0 24 24\"\n",
              "       width=\"24px\">\n",
              "    <path d=\"M0 0h24v24H0V0z\" fill=\"none\"/>\n",
              "    <path d=\"M18.56 5.44l.94 2.06.94-2.06 2.06-.94-2.06-.94-.94-2.06-.94 2.06-2.06.94zm-11 1L8.5 8.5l.94-2.06 2.06-.94-2.06-.94L8.5 2.5l-.94 2.06-2.06.94zm10 10l.94 2.06.94-2.06 2.06-.94-2.06-.94-.94-2.06-.94 2.06-2.06.94z\"/><path d=\"M17.41 7.96l-1.37-1.37c-.4-.4-.92-.59-1.43-.59-.52 0-1.04.2-1.43.59L10.3 9.45l-7.72 7.72c-.78.78-.78 2.05 0 2.83L4 21.41c.39.39.9.59 1.41.59.51 0 1.02-.2 1.41-.59l7.78-7.78 2.81-2.81c.8-.78.8-2.07 0-2.86zM5.41 20L4 18.59l7.72-7.72 1.47 1.35L5.41 20z\"/>\n",
              "  </svg>\n",
              "      </button>\n",
              "      \n",
              "  <style>\n",
              "    .colab-df-container {\n",
              "      display:flex;\n",
              "      flex-wrap:wrap;\n",
              "      gap: 12px;\n",
              "    }\n",
              "\n",
              "    .colab-df-convert {\n",
              "      background-color: #E8F0FE;\n",
              "      border: none;\n",
              "      border-radius: 50%;\n",
              "      cursor: pointer;\n",
              "      display: none;\n",
              "      fill: #1967D2;\n",
              "      height: 32px;\n",
              "      padding: 0 0 0 0;\n",
              "      width: 32px;\n",
              "    }\n",
              "\n",
              "    .colab-df-convert:hover {\n",
              "      background-color: #E2EBFA;\n",
              "      box-shadow: 0px 1px 2px rgba(60, 64, 67, 0.3), 0px 1px 3px 1px rgba(60, 64, 67, 0.15);\n",
              "      fill: #174EA6;\n",
              "    }\n",
              "\n",
              "    [theme=dark] .colab-df-convert {\n",
              "      background-color: #3B4455;\n",
              "      fill: #D2E3FC;\n",
              "    }\n",
              "\n",
              "    [theme=dark] .colab-df-convert:hover {\n",
              "      background-color: #434B5C;\n",
              "      box-shadow: 0px 1px 3px 1px rgba(0, 0, 0, 0.15);\n",
              "      filter: drop-shadow(0px 1px 2px rgba(0, 0, 0, 0.3));\n",
              "      fill: #FFFFFF;\n",
              "    }\n",
              "  </style>\n",
              "\n",
              "      <script>\n",
              "        const buttonEl =\n",
              "          document.querySelector('#df-edc383b6-0814-4798-a08f-4deb27840ca5 button.colab-df-convert');\n",
              "        buttonEl.style.display =\n",
              "          google.colab.kernel.accessAllowed ? 'block' : 'none';\n",
              "\n",
              "        async function convertToInteractive(key) {\n",
              "          const element = document.querySelector('#df-edc383b6-0814-4798-a08f-4deb27840ca5');\n",
              "          const dataTable =\n",
              "            await google.colab.kernel.invokeFunction('convertToInteractive',\n",
              "                                                     [key], {});\n",
              "          if (!dataTable) return;\n",
              "\n",
              "          const docLinkHtml = 'Like what you see? Visit the ' +\n",
              "            '<a target=\"_blank\" href=https://colab.research.google.com/notebooks/data_table.ipynb>data table notebook</a>'\n",
              "            + ' to learn more about interactive tables.';\n",
              "          element.innerHTML = '';\n",
              "          dataTable['output_type'] = 'display_data';\n",
              "          await google.colab.output.renderOutput(dataTable, element);\n",
              "          const docLink = document.createElement('div');\n",
              "          docLink.innerHTML = docLinkHtml;\n",
              "          element.appendChild(docLink);\n",
              "        }\n",
              "      </script>\n",
              "    </div>\n",
              "  </div>\n",
              "  "
            ]
          },
          "metadata": {},
          "execution_count": 54
        }
      ]
    },
    {
      "cell_type": "code",
      "source": [
        "train_df_shuffled = train_df.sample(frac=1, random_state=42)\n",
        "train_df_shuffled.head()"
      ],
      "metadata": {
        "colab": {
          "base_uri": "https://localhost:8080/",
          "height": 206
        },
        "id": "Wb-sB9b7VOSj",
        "outputId": "adc138e6-8d64-4dc4-9bc9-22a50f34b25b"
      },
      "execution_count": 55,
      "outputs": [
        {
          "output_type": "execute_result",
          "data": {
            "text/plain": [
              "        id      keyword               location  \\\n",
              "2644  3796  destruction                    NaN   \n",
              "2227  3185       deluge                    NaN   \n",
              "5448  7769       police                     UK   \n",
              "132    191   aftershock                    NaN   \n",
              "6845  9810       trauma  Montgomery County, MD   \n",
              "\n",
              "                                                   text  target  \n",
              "2644  So you have a new weapon that can cause un-ima...       1  \n",
              "2227  The f$&amp;@ing things I do for #GISHWHES Just...       0  \n",
              "5448  DT @georgegalloway: RT @Galloway4Mayor: ÛÏThe...       1  \n",
              "132   Aftershock back to school kick off was great. ...       0  \n",
              "6845  in response to trauma Children of Addicts deve...       0  "
            ],
            "text/html": [
              "\n",
              "  <div id=\"df-49de7e12-0628-4f0c-8320-a70dfa9171d5\">\n",
              "    <div class=\"colab-df-container\">\n",
              "      <div>\n",
              "<style scoped>\n",
              "    .dataframe tbody tr th:only-of-type {\n",
              "        vertical-align: middle;\n",
              "    }\n",
              "\n",
              "    .dataframe tbody tr th {\n",
              "        vertical-align: top;\n",
              "    }\n",
              "\n",
              "    .dataframe thead th {\n",
              "        text-align: right;\n",
              "    }\n",
              "</style>\n",
              "<table border=\"1\" class=\"dataframe\">\n",
              "  <thead>\n",
              "    <tr style=\"text-align: right;\">\n",
              "      <th></th>\n",
              "      <th>id</th>\n",
              "      <th>keyword</th>\n",
              "      <th>location</th>\n",
              "      <th>text</th>\n",
              "      <th>target</th>\n",
              "    </tr>\n",
              "  </thead>\n",
              "  <tbody>\n",
              "    <tr>\n",
              "      <th>2644</th>\n",
              "      <td>3796</td>\n",
              "      <td>destruction</td>\n",
              "      <td>NaN</td>\n",
              "      <td>So you have a new weapon that can cause un-ima...</td>\n",
              "      <td>1</td>\n",
              "    </tr>\n",
              "    <tr>\n",
              "      <th>2227</th>\n",
              "      <td>3185</td>\n",
              "      <td>deluge</td>\n",
              "      <td>NaN</td>\n",
              "      <td>The f$&amp;amp;@ing things I do for #GISHWHES Just...</td>\n",
              "      <td>0</td>\n",
              "    </tr>\n",
              "    <tr>\n",
              "      <th>5448</th>\n",
              "      <td>7769</td>\n",
              "      <td>police</td>\n",
              "      <td>UK</td>\n",
              "      <td>DT @georgegalloway: RT @Galloway4Mayor: ÛÏThe...</td>\n",
              "      <td>1</td>\n",
              "    </tr>\n",
              "    <tr>\n",
              "      <th>132</th>\n",
              "      <td>191</td>\n",
              "      <td>aftershock</td>\n",
              "      <td>NaN</td>\n",
              "      <td>Aftershock back to school kick off was great. ...</td>\n",
              "      <td>0</td>\n",
              "    </tr>\n",
              "    <tr>\n",
              "      <th>6845</th>\n",
              "      <td>9810</td>\n",
              "      <td>trauma</td>\n",
              "      <td>Montgomery County, MD</td>\n",
              "      <td>in response to trauma Children of Addicts deve...</td>\n",
              "      <td>0</td>\n",
              "    </tr>\n",
              "  </tbody>\n",
              "</table>\n",
              "</div>\n",
              "      <button class=\"colab-df-convert\" onclick=\"convertToInteractive('df-49de7e12-0628-4f0c-8320-a70dfa9171d5')\"\n",
              "              title=\"Convert this dataframe to an interactive table.\"\n",
              "              style=\"display:none;\">\n",
              "        \n",
              "  <svg xmlns=\"http://www.w3.org/2000/svg\" height=\"24px\"viewBox=\"0 0 24 24\"\n",
              "       width=\"24px\">\n",
              "    <path d=\"M0 0h24v24H0V0z\" fill=\"none\"/>\n",
              "    <path d=\"M18.56 5.44l.94 2.06.94-2.06 2.06-.94-2.06-.94-.94-2.06-.94 2.06-2.06.94zm-11 1L8.5 8.5l.94-2.06 2.06-.94-2.06-.94L8.5 2.5l-.94 2.06-2.06.94zm10 10l.94 2.06.94-2.06 2.06-.94-2.06-.94-.94-2.06-.94 2.06-2.06.94z\"/><path d=\"M17.41 7.96l-1.37-1.37c-.4-.4-.92-.59-1.43-.59-.52 0-1.04.2-1.43.59L10.3 9.45l-7.72 7.72c-.78.78-.78 2.05 0 2.83L4 21.41c.39.39.9.59 1.41.59.51 0 1.02-.2 1.41-.59l7.78-7.78 2.81-2.81c.8-.78.8-2.07 0-2.86zM5.41 20L4 18.59l7.72-7.72 1.47 1.35L5.41 20z\"/>\n",
              "  </svg>\n",
              "      </button>\n",
              "      \n",
              "  <style>\n",
              "    .colab-df-container {\n",
              "      display:flex;\n",
              "      flex-wrap:wrap;\n",
              "      gap: 12px;\n",
              "    }\n",
              "\n",
              "    .colab-df-convert {\n",
              "      background-color: #E8F0FE;\n",
              "      border: none;\n",
              "      border-radius: 50%;\n",
              "      cursor: pointer;\n",
              "      display: none;\n",
              "      fill: #1967D2;\n",
              "      height: 32px;\n",
              "      padding: 0 0 0 0;\n",
              "      width: 32px;\n",
              "    }\n",
              "\n",
              "    .colab-df-convert:hover {\n",
              "      background-color: #E2EBFA;\n",
              "      box-shadow: 0px 1px 2px rgba(60, 64, 67, 0.3), 0px 1px 3px 1px rgba(60, 64, 67, 0.15);\n",
              "      fill: #174EA6;\n",
              "    }\n",
              "\n",
              "    [theme=dark] .colab-df-convert {\n",
              "      background-color: #3B4455;\n",
              "      fill: #D2E3FC;\n",
              "    }\n",
              "\n",
              "    [theme=dark] .colab-df-convert:hover {\n",
              "      background-color: #434B5C;\n",
              "      box-shadow: 0px 1px 3px 1px rgba(0, 0, 0, 0.15);\n",
              "      filter: drop-shadow(0px 1px 2px rgba(0, 0, 0, 0.3));\n",
              "      fill: #FFFFFF;\n",
              "    }\n",
              "  </style>\n",
              "\n",
              "      <script>\n",
              "        const buttonEl =\n",
              "          document.querySelector('#df-49de7e12-0628-4f0c-8320-a70dfa9171d5 button.colab-df-convert');\n",
              "        buttonEl.style.display =\n",
              "          google.colab.kernel.accessAllowed ? 'block' : 'none';\n",
              "\n",
              "        async function convertToInteractive(key) {\n",
              "          const element = document.querySelector('#df-49de7e12-0628-4f0c-8320-a70dfa9171d5');\n",
              "          const dataTable =\n",
              "            await google.colab.kernel.invokeFunction('convertToInteractive',\n",
              "                                                     [key], {});\n",
              "          if (!dataTable) return;\n",
              "\n",
              "          const docLinkHtml = 'Like what you see? Visit the ' +\n",
              "            '<a target=\"_blank\" href=https://colab.research.google.com/notebooks/data_table.ipynb>data table notebook</a>'\n",
              "            + ' to learn more about interactive tables.';\n",
              "          element.innerHTML = '';\n",
              "          dataTable['output_type'] = 'display_data';\n",
              "          await google.colab.output.renderOutput(dataTable, element);\n",
              "          const docLink = document.createElement('div');\n",
              "          docLink.innerHTML = docLinkHtml;\n",
              "          element.appendChild(docLink);\n",
              "        }\n",
              "      </script>\n",
              "    </div>\n",
              "  </div>\n",
              "  "
            ]
          },
          "metadata": {},
          "execution_count": 55
        }
      ]
    },
    {
      "cell_type": "code",
      "source": [
        "train_df.target.value_counts()"
      ],
      "metadata": {
        "colab": {
          "base_uri": "https://localhost:8080/"
        },
        "id": "gHJVx2hiVa4t",
        "outputId": "cd5f5359-d85f-4f5e-f16f-d32023319707"
      },
      "execution_count": 56,
      "outputs": [
        {
          "output_type": "execute_result",
          "data": {
            "text/plain": [
              "0    4342\n",
              "1    3271\n",
              "Name: target, dtype: int64"
            ]
          },
          "metadata": {},
          "execution_count": 56
        }
      ]
    },
    {
      "cell_type": "code",
      "source": [
        "len(train_df), len(test_df)"
      ],
      "metadata": {
        "colab": {
          "base_uri": "https://localhost:8080/"
        },
        "id": "wn8f3s9XVqJL",
        "outputId": "b07b7a35-af30-41a6-f861-c163a2a365e5"
      },
      "execution_count": 57,
      "outputs": [
        {
          "output_type": "execute_result",
          "data": {
            "text/plain": [
              "(7613, 3263)"
            ]
          },
          "metadata": {},
          "execution_count": 57
        }
      ]
    },
    {
      "cell_type": "code",
      "source": [
        "import random\n",
        "random_index = random.randint(0, len(train_df)-5)\n",
        "\n",
        "for row in train_df_shuffled[[\"text\", \"target\"]][random_index:random_index+5].itertuples():\n",
        "  _, text, target = row\n",
        "  print(f\"Target: {target}\", \"<real disaster>\" if target > 0 else \"<not a real disaster>\")\n",
        "  print(f\"Text\\n{text}\\n\")\n",
        "  print(\"---\\n\")"
      ],
      "metadata": {
        "colab": {
          "base_uri": "https://localhost:8080/"
        },
        "id": "5voqlVAIVvBC",
        "outputId": "0aee5398-0346-471d-c615-9d3dc4372243"
      },
      "execution_count": 58,
      "outputs": [
        {
          "output_type": "stream",
          "name": "stdout",
          "text": [
            "Target: 1 <real disaster>\n",
            "Text\n",
            "[infowars]  Nashville Theater Attack: Will Gun Grabbers Now Demand ÛÏHatchet Control?Û http://t.co/n3yJb8TcPm #nwo\n",
            "\n",
            "---\n",
            "\n",
            "Target: 1 <real disaster>\n",
            "Text\n",
            "Cross-border terrorism: Pakistan caught red-handed again http://t.co/uDj50J3MV4\n",
            "\n",
            "---\n",
            "\n",
            "Target: 1 <real disaster>\n",
            "Text\n",
            "Damn...was wondering where my drone ended up after the freak windstorm...?? https://t.co/dHgGxo7Mcc\n",
            "\n",
            "---\n",
            "\n",
            "Target: 0 <not a real disaster>\n",
            "Text\n",
            "i just drove with both my parents in the car lmao that was a panic attack waiting to happen\n",
            "\n",
            "---\n",
            "\n",
            "Target: 0 <not a real disaster>\n",
            "Text\n",
            "Oh and fuck Bill Clinton for bombing us and fuck NATO.\n",
            "\n",
            "---\n",
            "\n"
          ]
        }
      ]
    },
    {
      "cell_type": "code",
      "source": [
        "from sklearn.model_selection import train_test_split\n",
        "\n",
        "train_sentences, val_sentences, train_labels, val_labels = train_test_split(\n",
        "    train_df_shuffled[\"text\"].to_numpy(),\n",
        "    train_df_shuffled[\"target\"].to_numpy(),\n",
        "    test_size=0.1,\n",
        "    random_state=42\n",
        ")"
      ],
      "metadata": {
        "id": "gucF_w9Z7JRV"
      },
      "execution_count": 59,
      "outputs": []
    },
    {
      "cell_type": "code",
      "source": [
        "train_sentences[:10], train_labels[:10]"
      ],
      "metadata": {
        "colab": {
          "base_uri": "https://localhost:8080/"
        },
        "id": "oIuX-ExX72Dc",
        "outputId": "4d5ce40b-01e6-45d4-ae72-bd94c3cb5a9e"
      },
      "execution_count": 60,
      "outputs": [
        {
          "output_type": "execute_result",
          "data": {
            "text/plain": [
              "(array(['@mogacola @zamtriossu i screamed after hitting tweet',\n",
              "        'Imagine getting flattened by Kurt Zouma',\n",
              "        '@Gurmeetramrahim #MSGDoing111WelfareWorks Green S welfare force ke appx 65000 members har time disaster victim ki help ke liye tyar hai....',\n",
              "        \"@shakjn @C7 @Magnums im shaking in fear he's gonna hack the planet\",\n",
              "        'Somehow find you and I collide http://t.co/Ee8RpOahPk',\n",
              "        '@EvaHanderek @MarleyKnysh great times until the bus driver held us hostage in the mall parking lot lmfao',\n",
              "        'destroy the free fandom honestly',\n",
              "        'Weapons stolen from National Guard Armory in New Albany still missing #Gunsense http://t.co/lKNU8902JE',\n",
              "        '@wfaaweather Pete when will the heat wave pass? Is it really going to be mid month? Frisco Boy Scouts have a canoe trip in Okla.',\n",
              "        'Patient-reported outcomes in long-term survivors of metastatic colorectal cancer - British Journal of Surgery http://t.co/5Yl4DC1Tqt'],\n",
              "       dtype=object), array([0, 0, 1, 0, 0, 1, 1, 0, 1, 1]))"
            ]
          },
          "metadata": {},
          "execution_count": 60
        }
      ]
    },
    {
      "cell_type": "code",
      "source": [
        "round(sum([len(i.split()) for i in train_sentences])/len(train_sentences))"
      ],
      "metadata": {
        "colab": {
          "base_uri": "https://localhost:8080/"
        },
        "id": "dpBIKpNTD3Y5",
        "outputId": "a598f0a9-c3ca-4db6-fe98-66f121009aa1"
      },
      "execution_count": 61,
      "outputs": [
        {
          "output_type": "execute_result",
          "data": {
            "text/plain": [
              "15"
            ]
          },
          "metadata": {},
          "execution_count": 61
        }
      ]
    },
    {
      "cell_type": "code",
      "source": [
        "import tensorflow as tf\n",
        "from tensorflow.keras.layers import TextVectorization\n",
        "\n",
        "text_vectorizer = TextVectorization(\n",
        "    max_tokens=10000,\n",
        "    output_mode=\"int\",\n",
        "    output_sequence_length=15,\n",
        ")"
      ],
      "metadata": {
        "id": "KvPf-l76-g_y"
      },
      "execution_count": 62,
      "outputs": []
    },
    {
      "cell_type": "code",
      "source": [
        "text_vectorizer.adapt(train_sentences)"
      ],
      "metadata": {
        "id": "Dh8wGCG1E4Jv"
      },
      "execution_count": 63,
      "outputs": []
    },
    {
      "cell_type": "code",
      "source": [
        "text_vectorizer([\"There's a flood in my street!\"])"
      ],
      "metadata": {
        "colab": {
          "base_uri": "https://localhost:8080/"
        },
        "id": "pOIu_eDBFDIb",
        "outputId": "f95cdaf5-f4fe-4c06-884a-373f7a0f7694"
      },
      "execution_count": 64,
      "outputs": [
        {
          "output_type": "execute_result",
          "data": {
            "text/plain": [
              "<tf.Tensor: shape=(1, 15), dtype=int64, numpy=\n",
              "array([[264,   3, 232,   4,  13, 698,   0,   0,   0,   0,   0,   0,   0,\n",
              "          0,   0]])>"
            ]
          },
          "metadata": {},
          "execution_count": 64
        }
      ]
    },
    {
      "cell_type": "code",
      "source": [
        "random_sent = random.choice(train_sentences)\n",
        "print(f\"Before: {random_sent}\")\n",
        "text_vectorizer([random_sent])"
      ],
      "metadata": {
        "colab": {
          "base_uri": "https://localhost:8080/"
        },
        "id": "o7KU2NDnFkpl",
        "outputId": "641ef4aa-3745-4ced-f0f8-8df8909aff41"
      },
      "execution_count": 65,
      "outputs": [
        {
          "output_type": "stream",
          "name": "stdout",
          "text": [
            "Before: Cuban leader extends sympathy to Vietnam over flooding at http://t.co/QcyXwr2rdv\n"
          ]
        },
        {
          "output_type": "execute_result",
          "data": {
            "text/plain": [
              "<tf.Tensor: shape=(1, 15), dtype=int64, numpy=\n",
              "array([[3956, 1648, 3867, 3360,    5, 1743,   60,  231,   17,    1,    0,\n",
              "           0,    0,    0,    0]])>"
            ]
          },
          "metadata": {},
          "execution_count": 65
        }
      ]
    },
    {
      "cell_type": "code",
      "source": [
        "words_in_vocab = text_vectorizer.get_vocabulary()\n",
        "top_5_words = words_in_vocab[:5]\n",
        "bottom_5_words = words_in_vocab[-5:]\n",
        "len(words_in_vocab), top_5_words, bottom_5_words"
      ],
      "metadata": {
        "colab": {
          "base_uri": "https://localhost:8080/"
        },
        "id": "OIfRWRlJF5-x",
        "outputId": "2ad771a0-2c40-4cc3-dd7d-40c200c6ef92"
      },
      "execution_count": 66,
      "outputs": [
        {
          "output_type": "execute_result",
          "data": {
            "text/plain": [
              "(10000,\n",
              " ['', '[UNK]', 'the', 'a', 'in'],\n",
              " ['pages', 'paeds', 'pads', 'padres', 'paddytomlinson1'])"
            ]
          },
          "metadata": {},
          "execution_count": 66
        }
      ]
    },
    {
      "cell_type": "code",
      "source": [
        "from tensorflow.keras import layers\n",
        "\n",
        "embedding = layers.Embedding(\n",
        "    input_dim=10000,\n",
        "    output_dim=128,\n",
        "    input_length=15\n",
        ")\n",
        "\n",
        "embedding"
      ],
      "metadata": {
        "colab": {
          "base_uri": "https://localhost:8080/"
        },
        "id": "MCDQAP3AGNjH",
        "outputId": "34d422d8-1a4e-4087-bf6f-38a465881764"
      },
      "execution_count": 67,
      "outputs": [
        {
          "output_type": "execute_result",
          "data": {
            "text/plain": [
              "<keras.layers.embeddings.Embedding at 0x7ff406005ed0>"
            ]
          },
          "metadata": {},
          "execution_count": 67
        }
      ]
    },
    {
      "cell_type": "code",
      "source": [
        "sample_embed = embedding(text_vectorizer([random.choice(train_sentences)]))\n",
        "sample_embed"
      ],
      "metadata": {
        "colab": {
          "base_uri": "https://localhost:8080/"
        },
        "id": "htpdho_mPRL4",
        "outputId": "1fa6e8ef-065f-4879-90f2-f5890d50946c"
      },
      "execution_count": 68,
      "outputs": [
        {
          "output_type": "execute_result",
          "data": {
            "text/plain": [
              "<tf.Tensor: shape=(1, 15, 128), dtype=float32, numpy=\n",
              "array([[[ 0.04206889,  0.04232413,  0.03249537, ..., -0.00448012,\n",
              "         -0.0168712 ,  0.03429223],\n",
              "        [ 0.0461624 , -0.04788089,  0.01327837, ...,  0.04680759,\n",
              "         -0.0349403 ,  0.04377338],\n",
              "        [ 0.02406976,  0.02649131,  0.01166637, ..., -0.02230825,\n",
              "          0.02356965, -0.03319588],\n",
              "        ...,\n",
              "        [-0.02151077,  0.02080262, -0.01359285, ..., -0.0292204 ,\n",
              "         -0.04757923, -0.00423776],\n",
              "        [-0.02151077,  0.02080262, -0.01359285, ..., -0.0292204 ,\n",
              "         -0.04757923, -0.00423776],\n",
              "        [-0.02151077,  0.02080262, -0.01359285, ..., -0.0292204 ,\n",
              "         -0.04757923, -0.00423776]]], dtype=float32)>"
            ]
          },
          "metadata": {},
          "execution_count": 68
        }
      ]
    },
    {
      "cell_type": "markdown",
      "source": [
        "Model 0: Baseline Model -> Sklearn Multinomial Naive Bayes using TF-IDF"
      ],
      "metadata": {
        "id": "URe3kjjjWrSn"
      }
    },
    {
      "cell_type": "code",
      "source": [
        "from sklearn.feature_extraction.text import TfidfVectorizer\n",
        "from sklearn.naive_bayes import MultinomialNB\n",
        "from sklearn.pipeline import Pipeline\n",
        "\n",
        "model_0 = Pipeline([\n",
        "    (\"tfidf\", TfidfVectorizer()),\n",
        "    (\"clf\", MultinomialNB())\n",
        "])\n",
        "\n",
        "model_0.fit(train_sentences, train_labels)"
      ],
      "metadata": {
        "colab": {
          "base_uri": "https://localhost:8080/"
        },
        "id": "gpdx2X8fWxUN",
        "outputId": "39b0be64-0fbe-4944-c90f-e0e29e595c80"
      },
      "execution_count": 69,
      "outputs": [
        {
          "output_type": "execute_result",
          "data": {
            "text/plain": [
              "Pipeline(steps=[('tfidf', TfidfVectorizer()), ('clf', MultinomialNB())])"
            ]
          },
          "metadata": {},
          "execution_count": 69
        }
      ]
    },
    {
      "cell_type": "code",
      "source": [
        "baseline_score = model_0.score(val_sentences, val_labels)\n",
        "print(f\"Baseline Score: {baseline_score*100:.2f}%\")"
      ],
      "metadata": {
        "colab": {
          "base_uri": "https://localhost:8080/"
        },
        "id": "XvBxq30aXi1H",
        "outputId": "88914104-1caf-44c1-9cc8-f4a13f14e811"
      },
      "execution_count": 70,
      "outputs": [
        {
          "output_type": "stream",
          "name": "stdout",
          "text": [
            "Baseline Score: 79.27%\n"
          ]
        }
      ]
    },
    {
      "cell_type": "code",
      "source": [
        "from sklearn.metrics import accuracy_score, precision_recall_fscore_support\n",
        "\n",
        "def calculate_results(y_true, y_pred):\n",
        "  model_accuracy = accuracy_score(y_true, y_pred) * 100\n",
        "  model_precision, model_recall, model_f1, _ = precision_recall_fscore_support(y_true, y_pred, average=\"weighted\")\n",
        "  model_results = {\n",
        "      \"accuracy\": model_accuracy,\n",
        "      \"precision\": model_precision,\n",
        "      \"recall\": model_recall,\n",
        "      \"f1\": model_f1\n",
        "  }\n",
        "\n",
        "  return model_results"
      ],
      "metadata": {
        "id": "Qba-nKj83Lf1"
      },
      "execution_count": 71,
      "outputs": []
    },
    {
      "cell_type": "code",
      "source": [
        "baseline_preds = model_0.predict(val_sentences)\n",
        "baseline_preds[:5]"
      ],
      "metadata": {
        "colab": {
          "base_uri": "https://localhost:8080/"
        },
        "id": "E6DsaL1YkRZJ",
        "outputId": "12efd3d7-742d-4c14-d409-9c4e25acc6cc"
      },
      "execution_count": 72,
      "outputs": [
        {
          "output_type": "execute_result",
          "data": {
            "text/plain": [
              "array([1, 1, 1, 0, 0])"
            ]
          },
          "metadata": {},
          "execution_count": 72
        }
      ]
    },
    {
      "cell_type": "code",
      "source": [
        "baseline_results = calculate_results(val_labels, baseline_preds)\n",
        "baseline_results"
      ],
      "metadata": {
        "colab": {
          "base_uri": "https://localhost:8080/"
        },
        "id": "5NsMzZWH6N5l",
        "outputId": "7cf9f746-15f0-4b79-e406-ad48eb4cd0e9"
      },
      "execution_count": 73,
      "outputs": [
        {
          "output_type": "execute_result",
          "data": {
            "text/plain": [
              "{'accuracy': 79.26509186351706,\n",
              " 'f1': 0.7862189758049549,\n",
              " 'precision': 0.8111390004213173,\n",
              " 'recall': 0.7926509186351706}"
            ]
          },
          "metadata": {},
          "execution_count": 73
        }
      ]
    },
    {
      "cell_type": "code",
      "source": [
        "from helper_functions import create_tensorboard_callback\n",
        "\n",
        "SAVE_DIR = \"model_logs\""
      ],
      "metadata": {
        "id": "QQ1NZEN2j5RX"
      },
      "execution_count": 74,
      "outputs": []
    },
    {
      "cell_type": "markdown",
      "source": [
        "Model 1: Simple Dense Model"
      ],
      "metadata": {
        "id": "QvAyRNWwoA0f"
      }
    },
    {
      "cell_type": "code",
      "source": [
        "from tensorflow.keras import layers\n",
        "\n",
        "inputs = layers.Input(shape=(1,), dtype=tf.string)\n",
        "x = text_vectorizer(inputs)\n",
        "x = embedding(x)\n",
        "x = layers.GlobalAveragePooling1D()(x)\n",
        "outputs = layers.Dense(1, activation=\"sigmoid\")(x)\n",
        "\n",
        "model_1 = tf.keras.Model(inputs, outputs, name=\"model_1_dense\")\n",
        "model_1.summary()"
      ],
      "metadata": {
        "colab": {
          "base_uri": "https://localhost:8080/"
        },
        "id": "ra5RD2EkkAIh",
        "outputId": "33153915-c883-4906-bd01-1c29c031b8a6"
      },
      "execution_count": 75,
      "outputs": [
        {
          "output_type": "stream",
          "name": "stdout",
          "text": [
            "Model: \"model_1_dense\"\n",
            "_________________________________________________________________\n",
            " Layer (type)                Output Shape              Param #   \n",
            "=================================================================\n",
            " input_4 (InputLayer)        [(None, 1)]               0         \n",
            "                                                                 \n",
            " text_vectorization_1 (TextV  (None, 15)               0         \n",
            " ectorization)                                                   \n",
            "                                                                 \n",
            " embedding_1 (Embedding)     (None, 15, 128)           1280000   \n",
            "                                                                 \n",
            " global_average_pooling1d_2   (None, 128)              0         \n",
            " (GlobalAveragePooling1D)                                        \n",
            "                                                                 \n",
            " dense_3 (Dense)             (None, 1)                 129       \n",
            "                                                                 \n",
            "=================================================================\n",
            "Total params: 1,280,129\n",
            "Trainable params: 1,280,129\n",
            "Non-trainable params: 0\n",
            "_________________________________________________________________\n"
          ]
        }
      ]
    },
    {
      "cell_type": "code",
      "source": [
        "model_1.compile(\n",
        "    loss=\"binary_crossentropy\",\n",
        "    optimizer=tf.keras.optimizers.Adam(),\n",
        "    metrics=[\"accuracy\"]\n",
        ")"
      ],
      "metadata": {
        "id": "qV5dSJkLlGfI"
      },
      "execution_count": 76,
      "outputs": []
    },
    {
      "cell_type": "code",
      "source": [
        "model_1_history = model_1.fit(\n",
        "    x=train_sentences,\n",
        "    y=train_labels,\n",
        "    epochs=5,\n",
        "    validation_data=(val_sentences, val_labels),\n",
        "    callbacks=[create_tensorboard_callback(dir_name=SAVE_DIR, experiment_name=\"model_1_dense\")]\n",
        ")"
      ],
      "metadata": {
        "colab": {
          "base_uri": "https://localhost:8080/"
        },
        "id": "MmKDTJRJlTEY",
        "outputId": "02864471-d4aa-4585-cccb-47ae6441e6dc"
      },
      "execution_count": 77,
      "outputs": [
        {
          "output_type": "stream",
          "name": "stdout",
          "text": [
            "Saving TensorBoard log files to: model_logs/model_1_dense/20220703-064146\n",
            "Epoch 1/5\n",
            "215/215 [==============================] - 2s 5ms/step - loss: 0.6102 - accuracy: 0.6971 - val_loss: 0.5335 - val_accuracy: 0.7690\n",
            "Epoch 2/5\n",
            "215/215 [==============================] - 1s 5ms/step - loss: 0.4404 - accuracy: 0.8186 - val_loss: 0.4703 - val_accuracy: 0.7848\n",
            "Epoch 3/5\n",
            "215/215 [==============================] - 1s 5ms/step - loss: 0.3462 - accuracy: 0.8597 - val_loss: 0.4623 - val_accuracy: 0.7887\n",
            "Epoch 4/5\n",
            "215/215 [==============================] - 1s 5ms/step - loss: 0.2842 - accuracy: 0.8905 - val_loss: 0.4631 - val_accuracy: 0.7861\n",
            "Epoch 5/5\n",
            "215/215 [==============================] - 1s 4ms/step - loss: 0.2374 - accuracy: 0.9104 - val_loss: 0.4759 - val_accuracy: 0.7795\n"
          ]
        }
      ]
    },
    {
      "cell_type": "code",
      "source": [
        "model_1.evaluate(val_sentences, val_labels)"
      ],
      "metadata": {
        "colab": {
          "base_uri": "https://localhost:8080/"
        },
        "id": "hpYcDvMll-Fh",
        "outputId": "b4cdddb6-df1f-4ae3-d8d8-326833eab9a5"
      },
      "execution_count": 78,
      "outputs": [
        {
          "output_type": "stream",
          "name": "stdout",
          "text": [
            "24/24 [==============================] - 0s 3ms/step - loss: 0.4759 - accuracy: 0.7795\n"
          ]
        },
        {
          "output_type": "execute_result",
          "data": {
            "text/plain": [
              "[0.47593948245048523, 0.7795275449752808]"
            ]
          },
          "metadata": {},
          "execution_count": 78
        }
      ]
    },
    {
      "cell_type": "code",
      "source": [
        "model_1_pred_probs = model_1.predict(val_sentences)\n",
        "model_1_pred_probs"
      ],
      "metadata": {
        "colab": {
          "base_uri": "https://localhost:8080/"
        },
        "id": "Xs-8aiJSnQ9A",
        "outputId": "eb5ba889-9c28-44b4-d8cb-2338bb5c6981"
      },
      "execution_count": 79,
      "outputs": [
        {
          "output_type": "execute_result",
          "data": {
            "text/plain": [
              "array([[4.22900140e-01],\n",
              "       [7.65965521e-01],\n",
              "       [9.97654676e-01],\n",
              "       [1.44564897e-01],\n",
              "       [1.19687535e-01],\n",
              "       [9.38139379e-01],\n",
              "       [9.20077443e-01],\n",
              "       [9.94916558e-01],\n",
              "       [9.73630190e-01],\n",
              "       [3.03095430e-01],\n",
              "       [1.30886123e-01],\n",
              "       [7.25487173e-01],\n",
              "       [5.40875979e-02],\n",
              "       [2.10359275e-01],\n",
              "       [4.68070479e-03],\n",
              "       [1.71248615e-01],\n",
              "       [2.35347468e-02],\n",
              "       [9.39325541e-02],\n",
              "       [2.89501548e-01],\n",
              "       [5.78399897e-01],\n",
              "       [9.07607734e-01],\n",
              "       [4.76164632e-02],\n",
              "       [4.70919609e-01],\n",
              "       [1.03937730e-01],\n",
              "       [9.67124999e-01],\n",
              "       [9.98988807e-01],\n",
              "       [4.11257558e-02],\n",
              "       [8.75935405e-02],\n",
              "       [3.45983952e-02],\n",
              "       [2.03646094e-01],\n",
              "       [6.02001607e-01],\n",
              "       [2.84807205e-01],\n",
              "       [4.91012007e-01],\n",
              "       [2.56407708e-01],\n",
              "       [5.17343998e-01],\n",
              "       [7.20154196e-02],\n",
              "       [9.95332539e-01],\n",
              "       [1.87184528e-01],\n",
              "       [4.21825610e-02],\n",
              "       [9.98569131e-01],\n",
              "       [2.11822733e-01],\n",
              "       [2.49284785e-02],\n",
              "       [3.73051792e-01],\n",
              "       [6.64882436e-02],\n",
              "       [6.37497306e-01],\n",
              "       [9.86769915e-01],\n",
              "       [3.37372124e-01],\n",
              "       [9.31311250e-01],\n",
              "       [2.23096177e-01],\n",
              "       [6.51242018e-01],\n",
              "       [5.67920469e-02],\n",
              "       [5.09602666e-01],\n",
              "       [4.69301999e-01],\n",
              "       [3.52955908e-02],\n",
              "       [1.37220189e-01],\n",
              "       [3.45227830e-02],\n",
              "       [2.16228306e-01],\n",
              "       [9.62017059e-01],\n",
              "       [1.27332672e-01],\n",
              "       [3.39138787e-03],\n",
              "       [1.77866563e-01],\n",
              "       [9.62493896e-01],\n",
              "       [9.20278609e-01],\n",
              "       [1.86700046e-01],\n",
              "       [9.21303272e-01],\n",
              "       [9.79703486e-01],\n",
              "       [7.84477234e-01],\n",
              "       [3.86483908e-01],\n",
              "       [1.24974556e-01],\n",
              "       [1.82851687e-01],\n",
              "       [6.64602369e-02],\n",
              "       [3.54147367e-02],\n",
              "       [9.33241367e-01],\n",
              "       [1.46203429e-01],\n",
              "       [1.52101398e-01],\n",
              "       [4.65265870e-01],\n",
              "       [4.41704035e-01],\n",
              "       [8.35675180e-01],\n",
              "       [2.96259433e-01],\n",
              "       [6.33182108e-01],\n",
              "       [4.88109559e-01],\n",
              "       [2.68267244e-01],\n",
              "       [9.96460974e-01],\n",
              "       [1.00838155e-01],\n",
              "       [1.60019845e-01],\n",
              "       [9.68105644e-02],\n",
              "       [2.56665796e-02],\n",
              "       [1.01571895e-01],\n",
              "       [6.43632114e-01],\n",
              "       [9.02270675e-01],\n",
              "       [9.92634356e-01],\n",
              "       [1.29424147e-02],\n",
              "       [6.22705340e-01],\n",
              "       [2.59447861e-02],\n",
              "       [9.83842373e-01],\n",
              "       [7.67479539e-01],\n",
              "       [8.53507876e-01],\n",
              "       [9.76779103e-01],\n",
              "       [8.82720351e-01],\n",
              "       [9.63010252e-01],\n",
              "       [9.99245167e-01],\n",
              "       [2.19325706e-01],\n",
              "       [1.47564700e-02],\n",
              "       [9.24125731e-01],\n",
              "       [9.03730512e-01],\n",
              "       [9.70942602e-02],\n",
              "       [8.80964398e-01],\n",
              "       [9.74866271e-01],\n",
              "       [7.16322511e-02],\n",
              "       [5.05541146e-01],\n",
              "       [7.46346414e-01],\n",
              "       [3.96725982e-02],\n",
              "       [2.35343546e-01],\n",
              "       [1.93566173e-01],\n",
              "       [1.46350533e-01],\n",
              "       [4.92922366e-01],\n",
              "       [5.47641218e-01],\n",
              "       [7.52385616e-01],\n",
              "       [7.49413371e-01],\n",
              "       [8.84984881e-02],\n",
              "       [9.99748051e-01],\n",
              "       [1.09405532e-01],\n",
              "       [1.45637468e-01],\n",
              "       [8.06412399e-01],\n",
              "       [4.57751721e-01],\n",
              "       [2.83406734e-01],\n",
              "       [8.58726203e-01],\n",
              "       [9.66957305e-03],\n",
              "       [9.07232910e-02],\n",
              "       [8.32453728e-01],\n",
              "       [1.03840284e-01],\n",
              "       [9.99748051e-01],\n",
              "       [9.99826849e-01],\n",
              "       [9.98988807e-01],\n",
              "       [9.88236487e-01],\n",
              "       [9.29060355e-02],\n",
              "       [9.77723420e-01],\n",
              "       [1.97932154e-01],\n",
              "       [3.32857639e-01],\n",
              "       [9.91379544e-02],\n",
              "       [9.96874452e-01],\n",
              "       [3.52735341e-01],\n",
              "       [2.10359275e-01],\n",
              "       [9.53846276e-01],\n",
              "       [3.01610738e-01],\n",
              "       [6.30065441e-01],\n",
              "       [4.38404195e-02],\n",
              "       [8.00386071e-03],\n",
              "       [2.14282125e-01],\n",
              "       [9.82510149e-01],\n",
              "       [3.06574464e-01],\n",
              "       [6.93081468e-02],\n",
              "       [4.92928863e-01],\n",
              "       [1.91116408e-01],\n",
              "       [2.64437824e-01],\n",
              "       [9.92617548e-01],\n",
              "       [8.27938795e-01],\n",
              "       [5.16699135e-01],\n",
              "       [9.89362419e-01],\n",
              "       [2.59317923e-02],\n",
              "       [9.71147954e-01],\n",
              "       [5.72974123e-02],\n",
              "       [2.59941965e-01],\n",
              "       [9.91907001e-01],\n",
              "       [2.69623190e-01],\n",
              "       [8.35523084e-02],\n",
              "       [9.98891056e-01],\n",
              "       [3.51257324e-01],\n",
              "       [9.84196603e-01],\n",
              "       [2.20373243e-01],\n",
              "       [9.94123280e-01],\n",
              "       [8.73638809e-01],\n",
              "       [8.37161362e-01],\n",
              "       [3.54018658e-02],\n",
              "       [9.97869730e-01],\n",
              "       [7.92238861e-02],\n",
              "       [4.19179648e-01],\n",
              "       [5.01529992e-01],\n",
              "       [7.32098639e-01],\n",
              "       [9.94431794e-01],\n",
              "       [1.70943290e-02],\n",
              "       [8.56527507e-01],\n",
              "       [8.35862041e-01],\n",
              "       [9.74603117e-01],\n",
              "       [9.81460214e-01],\n",
              "       [4.60724175e-01],\n",
              "       [1.06694840e-01],\n",
              "       [9.99648452e-01],\n",
              "       [1.47806508e-02],\n",
              "       [3.27732600e-02],\n",
              "       [1.38176158e-01],\n",
              "       [9.28199410e-01],\n",
              "       [1.20053075e-01],\n",
              "       [3.04539561e-01],\n",
              "       [1.75623558e-02],\n",
              "       [1.07685544e-01],\n",
              "       [4.87983711e-02],\n",
              "       [2.29633719e-01],\n",
              "       [8.04242969e-01],\n",
              "       [7.65730292e-02],\n",
              "       [2.76029259e-01],\n",
              "       [8.94665837e-01],\n",
              "       [9.75207150e-01],\n",
              "       [3.65589917e-01],\n",
              "       [1.35577843e-01],\n",
              "       [9.99827862e-01],\n",
              "       [5.60947835e-01],\n",
              "       [9.23042238e-01],\n",
              "       [6.81719005e-01],\n",
              "       [8.39922965e-01],\n",
              "       [3.56089056e-01],\n",
              "       [9.87206221e-01],\n",
              "       [1.84499994e-02],\n",
              "       [1.94013819e-01],\n",
              "       [7.60890776e-03],\n",
              "       [4.91926726e-03],\n",
              "       [9.49848831e-01],\n",
              "       [8.52804840e-01],\n",
              "       [9.17220235e-01],\n",
              "       [1.99499339e-01],\n",
              "       [7.30730057e-01],\n",
              "       [9.51204002e-02],\n",
              "       [2.79478636e-02],\n",
              "       [1.82157487e-01],\n",
              "       [9.82048154e-01],\n",
              "       [2.31085524e-01],\n",
              "       [5.54003000e-01],\n",
              "       [9.95011210e-01],\n",
              "       [6.48733079e-01],\n",
              "       [6.03457987e-01],\n",
              "       [1.22222342e-01],\n",
              "       [2.93552309e-01],\n",
              "       [8.34381521e-01],\n",
              "       [2.96622306e-01],\n",
              "       [5.62528193e-01],\n",
              "       [1.82811439e-01],\n",
              "       [6.10738873e-01],\n",
              "       [3.51789206e-01],\n",
              "       [1.74570814e-01],\n",
              "       [9.12539065e-02],\n",
              "       [4.35683042e-01],\n",
              "       [2.80983478e-01],\n",
              "       [9.99856234e-01],\n",
              "       [9.87630188e-01],\n",
              "       [1.15307756e-01],\n",
              "       [2.32324265e-02],\n",
              "       [8.87457252e-01],\n",
              "       [1.22768246e-01],\n",
              "       [8.70893970e-02],\n",
              "       [4.78608310e-01],\n",
              "       [5.17038107e-02],\n",
              "       [5.84458113e-01],\n",
              "       [9.51778144e-04],\n",
              "       [4.26185220e-01],\n",
              "       [9.29589868e-01],\n",
              "       [2.61044234e-01],\n",
              "       [9.72919047e-01],\n",
              "       [9.98892128e-01],\n",
              "       [3.31592917e-01],\n",
              "       [1.93916231e-01],\n",
              "       [2.79625893e-01],\n",
              "       [3.01798545e-02],\n",
              "       [4.85617761e-03],\n",
              "       [9.86130297e-01],\n",
              "       [9.68686819e-01],\n",
              "       [7.25706756e-01],\n",
              "       [9.63096797e-01],\n",
              "       [6.80233687e-02],\n",
              "       [1.81448966e-01],\n",
              "       [9.31291096e-03],\n",
              "       [1.89659446e-01],\n",
              "       [4.18660156e-02],\n",
              "       [9.67217088e-01],\n",
              "       [1.02660514e-01],\n",
              "       [1.14369877e-02],\n",
              "       [9.76241052e-01],\n",
              "       [1.58329252e-02],\n",
              "       [1.14967600e-01],\n",
              "       [9.86303747e-01],\n",
              "       [4.98898476e-02],\n",
              "       [9.93927419e-02],\n",
              "       [7.52319908e-03],\n",
              "       [9.72637653e-01],\n",
              "       [6.11306489e-01],\n",
              "       [7.93065071e-01],\n",
              "       [7.40951717e-01],\n",
              "       [5.78555584e-01],\n",
              "       [6.55991063e-02],\n",
              "       [9.30644512e-01],\n",
              "       [3.75398435e-02],\n",
              "       [7.51565278e-01],\n",
              "       [4.57955658e-01],\n",
              "       [4.29453909e-01],\n",
              "       [4.29310948e-01],\n",
              "       [2.24943176e-01],\n",
              "       [7.51725197e-01],\n",
              "       [2.30437785e-01],\n",
              "       [6.68546855e-01],\n",
              "       [1.40648440e-01],\n",
              "       [8.20303738e-01],\n",
              "       [5.47719486e-02],\n",
              "       [8.81280452e-02],\n",
              "       [2.73636818e-01],\n",
              "       [9.82690096e-01],\n",
              "       [1.94306165e-01],\n",
              "       [1.10528752e-01],\n",
              "       [3.32568169e-01],\n",
              "       [2.61386067e-01],\n",
              "       [1.29224032e-01],\n",
              "       [3.76289114e-02],\n",
              "       [3.41656804e-02],\n",
              "       [9.84399796e-01],\n",
              "       [4.11259025e-01],\n",
              "       [2.98547447e-01],\n",
              "       [9.99773443e-01],\n",
              "       [4.82908934e-02],\n",
              "       [6.76525533e-01],\n",
              "       [2.56254852e-01],\n",
              "       [5.18332943e-02],\n",
              "       [1.99157432e-01],\n",
              "       [1.91075608e-01],\n",
              "       [1.23893268e-01],\n",
              "       [9.27145243e-01],\n",
              "       [2.56229907e-01],\n",
              "       [9.88714993e-01],\n",
              "       [9.13264751e-02],\n",
              "       [2.35169306e-02],\n",
              "       [9.95164633e-01],\n",
              "       [2.58966461e-02],\n",
              "       [9.97397780e-01],\n",
              "       [1.57012150e-01],\n",
              "       [4.39059883e-02],\n",
              "       [9.68642533e-01],\n",
              "       [4.08526622e-02],\n",
              "       [4.15303111e-02],\n",
              "       [9.81839716e-01],\n",
              "       [6.87743630e-03],\n",
              "       [2.12384656e-01],\n",
              "       [7.84109592e-01],\n",
              "       [9.19583797e-01],\n",
              "       [5.19395620e-03],\n",
              "       [1.86019495e-01],\n",
              "       [9.86672521e-01],\n",
              "       [9.71173704e-01],\n",
              "       [7.07270145e-01],\n",
              "       [4.44014281e-01],\n",
              "       [5.67100704e-01],\n",
              "       [4.16366309e-01],\n",
              "       [6.68172389e-02],\n",
              "       [1.20909706e-01],\n",
              "       [1.28666475e-01],\n",
              "       [7.44370341e-01],\n",
              "       [3.99700254e-02],\n",
              "       [4.37034577e-01],\n",
              "       [3.80631804e-01],\n",
              "       [1.49276983e-02],\n",
              "       [9.69462633e-01],\n",
              "       [9.98988807e-01],\n",
              "       [9.94239569e-01],\n",
              "       [3.84887420e-02],\n",
              "       [5.11805117e-01],\n",
              "       [1.40257925e-01],\n",
              "       [4.36312914e-01],\n",
              "       [7.95198381e-01],\n",
              "       [1.46382853e-01],\n",
              "       [1.97056290e-02],\n",
              "       [9.07180235e-02],\n",
              "       [4.06686328e-02],\n",
              "       [6.10045373e-01],\n",
              "       [1.04739834e-02],\n",
              "       [2.25466058e-01],\n",
              "       [4.73292023e-02],\n",
              "       [4.34211314e-01],\n",
              "       [4.65009838e-01],\n",
              "       [3.93490404e-01],\n",
              "       [2.31445625e-01],\n",
              "       [5.84047064e-02],\n",
              "       [3.56036365e-01],\n",
              "       [7.98313171e-02],\n",
              "       [9.96851504e-01],\n",
              "       [9.23532367e-01],\n",
              "       [4.77667630e-01],\n",
              "       [6.45666301e-01],\n",
              "       [2.33997982e-02],\n",
              "       [5.52305162e-01],\n",
              "       [9.88971293e-01],\n",
              "       [6.43815756e-01],\n",
              "       [2.27354795e-01],\n",
              "       [9.84880209e-01],\n",
              "       [2.28690445e-01],\n",
              "       [9.51195598e-01],\n",
              "       [3.04851472e-01],\n",
              "       [2.92580705e-02],\n",
              "       [5.80065429e-01],\n",
              "       [4.63182539e-01],\n",
              "       [9.96594131e-01],\n",
              "       [1.19942695e-01],\n",
              "       [4.17026915e-02],\n",
              "       [7.47368634e-02],\n",
              "       [1.46382853e-01],\n",
              "       [9.98886645e-01],\n",
              "       [2.98274048e-02],\n",
              "       [6.96263313e-01],\n",
              "       [9.73392487e-01],\n",
              "       [9.99673158e-02],\n",
              "       [9.99748051e-01],\n",
              "       [3.81150804e-02],\n",
              "       [4.04256672e-01],\n",
              "       [6.27939925e-02],\n",
              "       [7.67966509e-01],\n",
              "       [9.29024458e-01],\n",
              "       [7.90046602e-02],\n",
              "       [1.96060329e-03],\n",
              "       [2.04443902e-01],\n",
              "       [9.90350306e-01],\n",
              "       [8.04798484e-01],\n",
              "       [1.79653272e-01],\n",
              "       [4.61135745e-01],\n",
              "       [7.36460149e-01],\n",
              "       [3.24235223e-02],\n",
              "       [9.93368089e-01],\n",
              "       [5.49762189e-01],\n",
              "       [9.98618603e-01],\n",
              "       [9.30603743e-01],\n",
              "       [1.04766220e-01],\n",
              "       [3.58603060e-01],\n",
              "       [1.10085011e-01],\n",
              "       [9.32339191e-01],\n",
              "       [7.39993930e-01],\n",
              "       [4.37777996e-01],\n",
              "       [4.32232879e-02],\n",
              "       [3.27324390e-01],\n",
              "       [4.07750085e-02],\n",
              "       [7.21349120e-02],\n",
              "       [1.42853841e-01],\n",
              "       [4.64908689e-01],\n",
              "       [5.27419150e-01],\n",
              "       [2.12558553e-01],\n",
              "       [9.99260008e-01],\n",
              "       [9.83746171e-01],\n",
              "       [2.53850669e-01],\n",
              "       [7.65965521e-01],\n",
              "       [2.63977945e-01],\n",
              "       [4.19895239e-02],\n",
              "       [3.60091627e-01],\n",
              "       [6.96964681e-01],\n",
              "       [1.00742929e-01],\n",
              "       [2.44177714e-01],\n",
              "       [1.77135263e-02],\n",
              "       [5.05078137e-01],\n",
              "       [2.45084683e-03],\n",
              "       [9.58781540e-01],\n",
              "       [9.74430919e-01],\n",
              "       [9.93569374e-01],\n",
              "       [9.74456429e-01],\n",
              "       [8.09584618e-01],\n",
              "       [1.74588218e-01],\n",
              "       [6.32650182e-02],\n",
              "       [6.64602518e-01],\n",
              "       [9.23154593e-01],\n",
              "       [9.98350501e-01],\n",
              "       [3.10537778e-03],\n",
              "       [1.55867428e-01],\n",
              "       [1.85028777e-01],\n",
              "       [9.98804927e-01],\n",
              "       [9.99365747e-01],\n",
              "       [2.46616989e-01],\n",
              "       [1.55065030e-01],\n",
              "       [9.96277153e-01],\n",
              "       [6.57892749e-02],\n",
              "       [3.85096490e-01],\n",
              "       [9.85396564e-01],\n",
              "       [1.77311093e-01],\n",
              "       [4.43924628e-02],\n",
              "       [9.33793187e-01],\n",
              "       [2.85682261e-01],\n",
              "       [4.67785805e-01],\n",
              "       [9.70257342e-01],\n",
              "       [2.43665762e-02],\n",
              "       [5.78862540e-02],\n",
              "       [1.06543209e-02],\n",
              "       [2.23726220e-02],\n",
              "       [1.28081039e-01],\n",
              "       [9.74852443e-01],\n",
              "       [2.60603707e-02],\n",
              "       [4.80022550e-01],\n",
              "       [5.32963216e-01],\n",
              "       [8.50458220e-02],\n",
              "       [3.02408755e-01],\n",
              "       [8.51034448e-02],\n",
              "       [3.72856110e-01],\n",
              "       [9.98013735e-01],\n",
              "       [6.27108872e-01],\n",
              "       [1.37318924e-01],\n",
              "       [1.58776179e-01],\n",
              "       [1.29868582e-01],\n",
              "       [8.22782665e-02],\n",
              "       [6.60746932e-01],\n",
              "       [2.16538236e-02],\n",
              "       [9.07889366e-01],\n",
              "       [8.13723922e-01],\n",
              "       [5.31776011e-01],\n",
              "       [7.02575266e-01],\n",
              "       [8.01521361e-01],\n",
              "       [9.55795944e-02],\n",
              "       [3.07852387e-01],\n",
              "       [4.24614608e-01],\n",
              "       [9.28476751e-01],\n",
              "       [2.78894305e-01],\n",
              "       [2.77476937e-01],\n",
              "       [4.08199996e-01],\n",
              "       [1.45616187e-02],\n",
              "       [1.38373643e-01],\n",
              "       [3.71375710e-01],\n",
              "       [7.70624757e-01],\n",
              "       [1.48786232e-01],\n",
              "       [9.92515862e-01],\n",
              "       [9.28828418e-01],\n",
              "       [7.67479539e-01],\n",
              "       [9.83864844e-01],\n",
              "       [1.73510283e-01],\n",
              "       [7.78856128e-02],\n",
              "       [9.26208794e-01],\n",
              "       [2.04852372e-01],\n",
              "       [2.22504418e-02],\n",
              "       [9.03097615e-02],\n",
              "       [1.38699353e-01],\n",
              "       [1.26080576e-03],\n",
              "       [8.77475858e-01],\n",
              "       [8.19263101e-01],\n",
              "       [8.20175648e-01],\n",
              "       [9.48014438e-01],\n",
              "       [8.75498578e-02],\n",
              "       [1.74959928e-01],\n",
              "       [7.09432602e-01],\n",
              "       [1.49955163e-02],\n",
              "       [3.03938985e-01],\n",
              "       [1.43484607e-01],\n",
              "       [6.22014225e-01],\n",
              "       [5.50344348e-01],\n",
              "       [5.99373989e-02],\n",
              "       [6.69814050e-02],\n",
              "       [5.37224770e-01],\n",
              "       [1.35203734e-01],\n",
              "       [1.51822835e-01],\n",
              "       [1.81167662e-01],\n",
              "       [1.92326665e-01],\n",
              "       [9.98867989e-01],\n",
              "       [9.81140733e-01],\n",
              "       [4.34358507e-01],\n",
              "       [8.58071804e-01],\n",
              "       [9.92355585e-01],\n",
              "       [1.44910230e-03],\n",
              "       [9.68313456e-01],\n",
              "       [2.73783445e-01],\n",
              "       [4.66555744e-01],\n",
              "       [2.89037853e-01],\n",
              "       [1.13230824e-01],\n",
              "       [1.64186835e-01],\n",
              "       [3.11931483e-02],\n",
              "       [9.71293375e-02],\n",
              "       [7.26688504e-02],\n",
              "       [7.67649114e-01],\n",
              "       [3.08653384e-01],\n",
              "       [9.93147194e-01],\n",
              "       [5.45100719e-02],\n",
              "       [6.96747005e-01],\n",
              "       [6.24313116e-01],\n",
              "       [1.76365040e-02],\n",
              "       [6.50130883e-02],\n",
              "       [9.70501661e-01],\n",
              "       [7.06842661e-01],\n",
              "       [9.61196423e-01],\n",
              "       [3.53818178e-01],\n",
              "       [7.65732527e-02],\n",
              "       [4.29027498e-01],\n",
              "       [4.03232783e-01],\n",
              "       [3.68143141e-01],\n",
              "       [9.92355585e-01],\n",
              "       [1.28275231e-02],\n",
              "       [3.92208807e-02],\n",
              "       [1.65864944e-01],\n",
              "       [9.96672750e-01],\n",
              "       [2.33288690e-01],\n",
              "       [5.37107028e-02],\n",
              "       [8.20623338e-01],\n",
              "       [8.03804919e-02],\n",
              "       [3.76271755e-02],\n",
              "       [1.93106353e-01],\n",
              "       [2.58662313e-01],\n",
              "       [1.46543473e-01],\n",
              "       [3.58278543e-01],\n",
              "       [4.34667319e-01],\n",
              "       [1.95578367e-01],\n",
              "       [9.52522755e-02],\n",
              "       [4.16476905e-01],\n",
              "       [2.03324538e-02],\n",
              "       [9.42279339e-01],\n",
              "       [8.21014106e-01],\n",
              "       [4.53599125e-01],\n",
              "       [3.62249799e-02],\n",
              "       [2.63261907e-02],\n",
              "       [9.88098443e-01],\n",
              "       [7.48641491e-01],\n",
              "       [9.99616027e-01],\n",
              "       [2.92221576e-01],\n",
              "       [8.96880150e-01],\n",
              "       [1.37692943e-01],\n",
              "       [5.66786528e-01],\n",
              "       [7.06786573e-01],\n",
              "       [2.24742889e-02],\n",
              "       [9.80406284e-01],\n",
              "       [1.29014701e-01],\n",
              "       [5.83249927e-01],\n",
              "       [9.98177528e-01],\n",
              "       [1.60541415e-01],\n",
              "       [3.15792598e-02],\n",
              "       [3.49965274e-01],\n",
              "       [1.51270339e-02],\n",
              "       [5.06170750e-01],\n",
              "       [9.99827862e-01],\n",
              "       [2.94760913e-01],\n",
              "       [9.48349893e-01],\n",
              "       [2.42291003e-01],\n",
              "       [8.09252858e-01],\n",
              "       [2.45997235e-01],\n",
              "       [3.62385988e-01],\n",
              "       [1.87404398e-02],\n",
              "       [6.71818197e-01],\n",
              "       [1.35288136e-02],\n",
              "       [2.06780121e-01],\n",
              "       [9.49855268e-01],\n",
              "       [9.48035657e-01],\n",
              "       [9.95762944e-01],\n",
              "       [7.90992022e-01],\n",
              "       [4.49692272e-02],\n",
              "       [3.34589064e-01],\n",
              "       [1.73272733e-02],\n",
              "       [5.06612003e-01],\n",
              "       [3.66823703e-01],\n",
              "       [9.03492033e-01],\n",
              "       [3.56296711e-02],\n",
              "       [7.82478034e-01],\n",
              "       [8.50079715e-01],\n",
              "       [3.14538538e-01],\n",
              "       [2.13449910e-01],\n",
              "       [2.77476937e-01],\n",
              "       [2.02248901e-01],\n",
              "       [4.43328738e-01],\n",
              "       [6.67023778e-01],\n",
              "       [9.98666286e-01],\n",
              "       [6.82562366e-02],\n",
              "       [7.39134150e-03],\n",
              "       [2.03300454e-02],\n",
              "       [2.60980010e-01],\n",
              "       [2.16025159e-01],\n",
              "       [2.89790127e-02],\n",
              "       [8.22512925e-01],\n",
              "       [1.14942566e-01],\n",
              "       [2.28089005e-01],\n",
              "       [2.53971845e-01],\n",
              "       [2.54690617e-01],\n",
              "       [9.43734825e-01],\n",
              "       [2.01039061e-01],\n",
              "       [5.71784675e-01],\n",
              "       [3.56045723e-01],\n",
              "       [1.31916925e-02],\n",
              "       [9.67162848e-02],\n",
              "       [9.99759614e-01],\n",
              "       [8.35233152e-01],\n",
              "       [5.17102936e-03],\n",
              "       [3.79624963e-01],\n",
              "       [1.77951187e-01],\n",
              "       [9.74520370e-02],\n",
              "       [9.00481939e-01],\n",
              "       [5.11999249e-01],\n",
              "       [6.52470767e-01],\n",
              "       [3.61933887e-01],\n",
              "       [2.04245463e-01],\n",
              "       [6.70998752e-01],\n",
              "       [1.74730733e-01],\n",
              "       [4.74911444e-02],\n",
              "       [8.99751067e-01],\n",
              "       [1.85001627e-01],\n",
              "       [3.80372941e-01],\n",
              "       [9.77745891e-01],\n",
              "       [2.87158787e-01],\n",
              "       [4.36967432e-01],\n",
              "       [1.26080576e-03],\n",
              "       [3.22990984e-01],\n",
              "       [8.37598979e-01],\n",
              "       [9.99748051e-01],\n",
              "       [7.09170640e-01],\n",
              "       [5.14338836e-02],\n",
              "       [9.91604805e-01],\n",
              "       [4.18850243e-01],\n",
              "       [8.88470113e-01],\n",
              "       [4.18850243e-01],\n",
              "       [9.91734982e-01],\n",
              "       [1.28138661e-02],\n",
              "       [4.27201927e-01],\n",
              "       [1.08074769e-01],\n",
              "       [9.76112902e-01],\n",
              "       [2.53394157e-01],\n",
              "       [4.75350440e-01],\n",
              "       [6.07702658e-02],\n",
              "       [3.41049284e-01],\n",
              "       [1.10960163e-01],\n",
              "       [1.91752408e-02],\n",
              "       [2.73904979e-01],\n",
              "       [7.07945973e-02],\n",
              "       [1.00389935e-01],\n",
              "       [8.37637663e-01],\n",
              "       [2.91654412e-02],\n",
              "       [1.31650627e-01],\n",
              "       [3.64889875e-02],\n",
              "       [1.60068031e-02],\n",
              "       [1.15714237e-01],\n",
              "       [6.76114619e-01],\n",
              "       [7.18093142e-02],\n",
              "       [6.36406720e-01],\n",
              "       [1.53236777e-01],\n",
              "       [2.45600849e-01],\n",
              "       [9.04716790e-01],\n",
              "       [1.68016091e-01],\n",
              "       [5.36733791e-02],\n",
              "       [6.39475882e-02],\n",
              "       [8.06866679e-03],\n",
              "       [9.91115808e-01],\n",
              "       [1.60068031e-02],\n",
              "       [3.81928504e-01],\n",
              "       [9.91454482e-01],\n",
              "       [9.94189262e-01],\n",
              "       [9.97510910e-01],\n",
              "       [9.99890089e-01],\n",
              "       [9.99413610e-01],\n",
              "       [2.57171750e-01],\n",
              "       [8.87970626e-02],\n",
              "       [2.81155914e-01],\n",
              "       [5.90649366e-01],\n",
              "       [9.96627212e-01],\n",
              "       [5.02392173e-01],\n",
              "       [2.57242322e-01],\n",
              "       [5.78386784e-01],\n",
              "       [7.77397990e-01],\n",
              "       [2.88204271e-02],\n",
              "       [7.11270096e-03],\n",
              "       [1.17524430e-01],\n",
              "       [3.88497323e-01],\n",
              "       [9.27642733e-03],\n",
              "       [7.12480545e-02],\n",
              "       [3.99839222e-01],\n",
              "       [9.86871481e-01],\n",
              "       [2.40254551e-02],\n",
              "       [9.12667811e-01],\n",
              "       [7.27258742e-01],\n",
              "       [8.10927525e-02],\n",
              "       [3.28360647e-01],\n",
              "       [1.38776645e-01],\n",
              "       [7.77756214e-01],\n",
              "       [4.58456218e-01],\n",
              "       [1.07081244e-02]], dtype=float32)"
            ]
          },
          "metadata": {},
          "execution_count": 79
        }
      ]
    },
    {
      "cell_type": "code",
      "source": [
        "model_1_preds = tf.squeeze(tf.round(model_1_pred_probs))\n",
        "model_1_preds"
      ],
      "metadata": {
        "colab": {
          "base_uri": "https://localhost:8080/"
        },
        "id": "MrX5CYTInWn1",
        "outputId": "7f9f7051-0a5f-46d3-aa78-54ce84c6001d"
      },
      "execution_count": 80,
      "outputs": [
        {
          "output_type": "execute_result",
          "data": {
            "text/plain": [
              "<tf.Tensor: shape=(762,), dtype=float32, numpy=\n",
              "array([0., 1., 1., 0., 0., 1., 1., 1., 1., 0., 0., 1., 0., 0., 0., 0., 0.,\n",
              "       0., 0., 1., 1., 0., 0., 0., 1., 1., 0., 0., 0., 0., 1., 0., 0., 0.,\n",
              "       1., 0., 1., 0., 0., 1., 0., 0., 0., 0., 1., 1., 0., 1., 0., 1., 0.,\n",
              "       1., 0., 0., 0., 0., 0., 1., 0., 0., 0., 1., 1., 0., 1., 1., 1., 0.,\n",
              "       0., 0., 0., 0., 1., 0., 0., 0., 0., 1., 0., 1., 0., 0., 1., 0., 0.,\n",
              "       0., 0., 0., 1., 1., 1., 0., 1., 0., 1., 1., 1., 1., 1., 1., 1., 0.,\n",
              "       0., 1., 1., 0., 1., 1., 0., 1., 1., 0., 0., 0., 0., 0., 1., 1., 1.,\n",
              "       0., 1., 0., 0., 1., 0., 0., 1., 0., 0., 1., 0., 1., 1., 1., 1., 0.,\n",
              "       1., 0., 0., 0., 1., 0., 0., 1., 0., 1., 0., 0., 0., 1., 0., 0., 0.,\n",
              "       0., 0., 1., 1., 1., 1., 0., 1., 0., 0., 1., 0., 0., 1., 0., 1., 0.,\n",
              "       1., 1., 1., 0., 1., 0., 0., 1., 1., 1., 0., 1., 1., 1., 1., 0., 0.,\n",
              "       1., 0., 0., 0., 1., 0., 0., 0., 0., 0., 0., 1., 0., 0., 1., 1., 0.,\n",
              "       0., 1., 1., 1., 1., 1., 0., 1., 0., 0., 0., 0., 1., 1., 1., 0., 1.,\n",
              "       0., 0., 0., 1., 0., 1., 1., 1., 1., 0., 0., 1., 0., 1., 0., 1., 0.,\n",
              "       0., 0., 0., 0., 1., 1., 0., 0., 1., 0., 0., 0., 0., 1., 0., 0., 1.,\n",
              "       0., 1., 1., 0., 0., 0., 0., 0., 1., 1., 1., 1., 0., 0., 0., 0., 0.,\n",
              "       1., 0., 0., 1., 0., 0., 1., 0., 0., 0., 1., 1., 1., 1., 1., 0., 1.,\n",
              "       0., 1., 0., 0., 0., 0., 1., 0., 1., 0., 1., 0., 0., 0., 1., 0., 0.,\n",
              "       0., 0., 0., 0., 0., 1., 0., 0., 1., 0., 1., 0., 0., 0., 0., 0., 1.,\n",
              "       0., 1., 0., 0., 1., 0., 1., 0., 0., 1., 0., 0., 1., 0., 0., 1., 1.,\n",
              "       0., 0., 1., 1., 1., 0., 1., 0., 0., 0., 0., 1., 0., 0., 0., 0., 1.,\n",
              "       1., 1., 0., 1., 0., 0., 1., 0., 0., 0., 0., 1., 0., 0., 0., 0., 0.,\n",
              "       0., 0., 0., 0., 0., 1., 1., 0., 1., 0., 1., 1., 1., 0., 1., 0., 1.,\n",
              "       0., 0., 1., 0., 1., 0., 0., 0., 0., 1., 0., 1., 1., 0., 1., 0., 0.,\n",
              "       0., 1., 1., 0., 0., 0., 1., 1., 0., 0., 1., 0., 1., 1., 1., 1., 0.,\n",
              "       0., 0., 1., 1., 0., 0., 0., 0., 0., 0., 0., 1., 0., 1., 1., 0., 1.,\n",
              "       0., 0., 0., 1., 0., 0., 0., 1., 0., 1., 1., 1., 1., 1., 0., 0., 1.,\n",
              "       1., 1., 0., 0., 0., 1., 1., 0., 0., 1., 0., 0., 1., 0., 0., 1., 0.,\n",
              "       0., 1., 0., 0., 0., 0., 0., 1., 0., 0., 1., 0., 0., 0., 0., 1., 1.,\n",
              "       0., 0., 0., 0., 1., 0., 1., 1., 1., 1., 1., 0., 0., 0., 1., 0., 0.,\n",
              "       0., 0., 0., 0., 1., 0., 1., 1., 1., 1., 0., 0., 1., 0., 0., 0., 0.,\n",
              "       0., 1., 1., 1., 1., 0., 0., 1., 0., 0., 0., 1., 1., 0., 0., 1., 0.,\n",
              "       0., 0., 0., 1., 1., 0., 1., 1., 0., 1., 0., 0., 0., 0., 0., 0., 0.,\n",
              "       0., 1., 0., 1., 0., 1., 1., 0., 0., 1., 1., 1., 0., 0., 0., 0., 0.,\n",
              "       1., 0., 0., 0., 1., 0., 0., 1., 0., 0., 0., 0., 0., 0., 0., 0., 0.,\n",
              "       0., 0., 1., 1., 0., 0., 0., 1., 1., 1., 0., 1., 0., 1., 1., 0., 1.,\n",
              "       0., 1., 1., 0., 0., 0., 0., 1., 1., 0., 1., 0., 1., 0., 0., 0., 1.,\n",
              "       0., 0., 1., 1., 1., 1., 0., 0., 0., 1., 0., 1., 0., 1., 1., 0., 0.,\n",
              "       0., 0., 0., 1., 1., 0., 0., 0., 0., 0., 0., 1., 0., 0., 0., 0., 1.,\n",
              "       0., 1., 0., 0., 0., 1., 1., 0., 0., 0., 0., 1., 1., 1., 0., 0., 1.,\n",
              "       0., 0., 1., 0., 0., 1., 0., 0., 0., 0., 1., 1., 1., 0., 1., 0., 1.,\n",
              "       0., 1., 0., 0., 0., 1., 0., 0., 0., 0., 0., 0., 0., 0., 0., 1., 0.,\n",
              "       0., 0., 0., 0., 1., 0., 1., 0., 0., 1., 0., 0., 0., 0., 1., 0., 0.,\n",
              "       1., 1., 1., 1., 1., 0., 0., 0., 1., 1., 1., 0., 1., 1., 0., 0., 0.,\n",
              "       0., 0., 0., 0., 1., 0., 1., 1., 0., 0., 0., 1., 0., 0.],\n",
              "      dtype=float32)>"
            ]
          },
          "metadata": {},
          "execution_count": 80
        }
      ]
    },
    {
      "cell_type": "code",
      "source": [
        "model_1_results = calculate_results(val_labels, model_1_preds)\n",
        "model_1_results, baseline_results"
      ],
      "metadata": {
        "colab": {
          "base_uri": "https://localhost:8080/"
        },
        "id": "YSrVraEgngI_",
        "outputId": "0ab09db0-efe1-4191-8b57-60b050a7456e"
      },
      "execution_count": 81,
      "outputs": [
        {
          "output_type": "execute_result",
          "data": {
            "text/plain": [
              "({'accuracy': 77.95275590551181,\n",
              "  'f1': 0.7774022539420016,\n",
              "  'precision': 0.7816545659065345,\n",
              "  'recall': 0.7795275590551181},\n",
              " {'accuracy': 79.26509186351706,\n",
              "  'f1': 0.7862189758049549,\n",
              "  'precision': 0.8111390004213173,\n",
              "  'recall': 0.7926509186351706})"
            ]
          },
          "metadata": {},
          "execution_count": 81
        }
      ]
    },
    {
      "cell_type": "code",
      "source": [
        "embed_weights = model_1.get_layer(\"embedding_1\").get_weights()[0]\n",
        "embed_weights.shape"
      ],
      "metadata": {
        "colab": {
          "base_uri": "https://localhost:8080/"
        },
        "id": "nMDqa0bjodTZ",
        "outputId": "18d5c0a3-a1ff-497a-dab6-bee3c95bb641"
      },
      "execution_count": 83,
      "outputs": [
        {
          "output_type": "execute_result",
          "data": {
            "text/plain": [
              "(10000, 128)"
            ]
          },
          "metadata": {},
          "execution_count": 83
        }
      ]
    },
    {
      "cell_type": "code",
      "source": [
        ""
      ],
      "metadata": {
        "id": "VMHu_qPfqah-"
      },
      "execution_count": null,
      "outputs": []
    }
  ]
}