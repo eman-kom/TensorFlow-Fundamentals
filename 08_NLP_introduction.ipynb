{
  "nbformat": 4,
  "nbformat_minor": 0,
  "metadata": {
    "colab": {
      "name": "08_NLP_introduction.ipynb",
      "provenance": [],
      "collapsed_sections": [],
      "authorship_tag": "ABX9TyPq6BzQHgsKrL6Zb/Zk8ZDB",
      "include_colab_link": true
    },
    "kernelspec": {
      "name": "python3",
      "display_name": "Python 3"
    },
    "language_info": {
      "name": "python"
    },
    "accelerator": "GPU",
    "gpuClass": "standard"
  },
  "cells": [
    {
      "cell_type": "markdown",
      "metadata": {
        "id": "view-in-github",
        "colab_type": "text"
      },
      "source": [
        "<a href=\"https://colab.research.google.com/github/eman-kom/tensorflow-fundamentals/blob/main/08_NLP_introduction.ipynb\" target=\"_parent\"><img src=\"https://colab.research.google.com/assets/colab-badge.svg\" alt=\"Open In Colab\"/></a>"
      ]
    },
    {
      "cell_type": "code",
      "execution_count": 1,
      "metadata": {
        "colab": {
          "base_uri": "https://localhost:8080/"
        },
        "id": "tpZT3jVCPpJW",
        "outputId": "14f37efe-a53a-45ed-efeb-7f67184cbec6"
      },
      "outputs": [
        {
          "output_type": "stream",
          "name": "stdout",
          "text": [
            "GPU 0: Tesla T4 (UUID: GPU-a75bec62-f416-2dd9-5323-99f6bf231ce7)\n"
          ]
        }
      ],
      "source": [
        "!nvidia-smi -L"
      ]
    },
    {
      "cell_type": "code",
      "source": [
        "!wget https://raw.githubusercontent.com/mrdbourke/tensorflow-deep-learning/main/extras/helper_functions.py"
      ],
      "metadata": {
        "colab": {
          "base_uri": "https://localhost:8080/"
        },
        "id": "aupYUIY7QAYD",
        "outputId": "f94f8b75-8726-4acc-d20c-4b418dece73c"
      },
      "execution_count": 2,
      "outputs": [
        {
          "output_type": "stream",
          "name": "stdout",
          "text": [
            "--2022-07-07 06:35:03--  https://raw.githubusercontent.com/mrdbourke/tensorflow-deep-learning/main/extras/helper_functions.py\n",
            "Resolving raw.githubusercontent.com (raw.githubusercontent.com)... 185.199.108.133, 185.199.109.133, 185.199.110.133, ...\n",
            "Connecting to raw.githubusercontent.com (raw.githubusercontent.com)|185.199.108.133|:443... connected.\n",
            "HTTP request sent, awaiting response... 200 OK\n",
            "Length: 10246 (10K) [text/plain]\n",
            "Saving to: ‘helper_functions.py’\n",
            "\n",
            "\rhelper_functions.py   0%[                    ]       0  --.-KB/s               \rhelper_functions.py 100%[===================>]  10.01K  --.-KB/s    in 0s      \n",
            "\n",
            "2022-07-07 06:35:03 (79.5 MB/s) - ‘helper_functions.py’ saved [10246/10246]\n",
            "\n"
          ]
        }
      ]
    },
    {
      "cell_type": "code",
      "source": [
        "from helper_functions import unzip_data, create_tensorboard_callback, plot_loss_curves, compare_historys"
      ],
      "metadata": {
        "id": "9BoasXQDQUCE"
      },
      "execution_count": 3,
      "outputs": []
    },
    {
      "cell_type": "code",
      "source": [
        "!wget https://storage.googleapis.com/ztm_tf_course/nlp_getting_started.zip\n",
        "\n",
        "unzip_data(\"nlp_getting_started.zip\")"
      ],
      "metadata": {
        "colab": {
          "base_uri": "https://localhost:8080/"
        },
        "id": "g3DP5xPCQerB",
        "outputId": "ffad8dda-82e3-4f58-84b1-465b99d68464"
      },
      "execution_count": 4,
      "outputs": [
        {
          "output_type": "stream",
          "name": "stdout",
          "text": [
            "--2022-07-07 06:35:06--  https://storage.googleapis.com/ztm_tf_course/nlp_getting_started.zip\n",
            "Resolving storage.googleapis.com (storage.googleapis.com)... 142.251.111.128, 142.251.16.128, 142.250.81.208, ...\n",
            "Connecting to storage.googleapis.com (storage.googleapis.com)|142.251.111.128|:443... connected.\n",
            "HTTP request sent, awaiting response... 200 OK\n",
            "Length: 607343 (593K) [application/zip]\n",
            "Saving to: ‘nlp_getting_started.zip’\n",
            "\n",
            "\rnlp_getting_started   0%[                    ]       0  --.-KB/s               \rnlp_getting_started 100%[===================>] 593.11K  --.-KB/s    in 0.004s  \n",
            "\n",
            "2022-07-07 06:35:06 (154 MB/s) - ‘nlp_getting_started.zip’ saved [607343/607343]\n",
            "\n"
          ]
        }
      ]
    },
    {
      "cell_type": "code",
      "source": [
        "import pandas as pd\n",
        "\n",
        "train_df = pd.read_csv(\"train.csv\")\n",
        "test_df = pd.read_csv(\"test.csv\")\n",
        "\n",
        "train_df.head()"
      ],
      "metadata": {
        "colab": {
          "base_uri": "https://localhost:8080/",
          "height": 206
        },
        "id": "9XBs9MiTQzzM",
        "outputId": "39c9b349-178a-4bce-c71f-a29d29adefd2"
      },
      "execution_count": 5,
      "outputs": [
        {
          "output_type": "execute_result",
          "data": {
            "text/plain": [
              "   id keyword location                                               text  \\\n",
              "0   1     NaN      NaN  Our Deeds are the Reason of this #earthquake M...   \n",
              "1   4     NaN      NaN             Forest fire near La Ronge Sask. Canada   \n",
              "2   5     NaN      NaN  All residents asked to 'shelter in place' are ...   \n",
              "3   6     NaN      NaN  13,000 people receive #wildfires evacuation or...   \n",
              "4   7     NaN      NaN  Just got sent this photo from Ruby #Alaska as ...   \n",
              "\n",
              "   target  \n",
              "0       1  \n",
              "1       1  \n",
              "2       1  \n",
              "3       1  \n",
              "4       1  "
            ],
            "text/html": [
              "\n",
              "  <div id=\"df-652b03fa-62d2-4119-a7a3-528f33448998\">\n",
              "    <div class=\"colab-df-container\">\n",
              "      <div>\n",
              "<style scoped>\n",
              "    .dataframe tbody tr th:only-of-type {\n",
              "        vertical-align: middle;\n",
              "    }\n",
              "\n",
              "    .dataframe tbody tr th {\n",
              "        vertical-align: top;\n",
              "    }\n",
              "\n",
              "    .dataframe thead th {\n",
              "        text-align: right;\n",
              "    }\n",
              "</style>\n",
              "<table border=\"1\" class=\"dataframe\">\n",
              "  <thead>\n",
              "    <tr style=\"text-align: right;\">\n",
              "      <th></th>\n",
              "      <th>id</th>\n",
              "      <th>keyword</th>\n",
              "      <th>location</th>\n",
              "      <th>text</th>\n",
              "      <th>target</th>\n",
              "    </tr>\n",
              "  </thead>\n",
              "  <tbody>\n",
              "    <tr>\n",
              "      <th>0</th>\n",
              "      <td>1</td>\n",
              "      <td>NaN</td>\n",
              "      <td>NaN</td>\n",
              "      <td>Our Deeds are the Reason of this #earthquake M...</td>\n",
              "      <td>1</td>\n",
              "    </tr>\n",
              "    <tr>\n",
              "      <th>1</th>\n",
              "      <td>4</td>\n",
              "      <td>NaN</td>\n",
              "      <td>NaN</td>\n",
              "      <td>Forest fire near La Ronge Sask. Canada</td>\n",
              "      <td>1</td>\n",
              "    </tr>\n",
              "    <tr>\n",
              "      <th>2</th>\n",
              "      <td>5</td>\n",
              "      <td>NaN</td>\n",
              "      <td>NaN</td>\n",
              "      <td>All residents asked to 'shelter in place' are ...</td>\n",
              "      <td>1</td>\n",
              "    </tr>\n",
              "    <tr>\n",
              "      <th>3</th>\n",
              "      <td>6</td>\n",
              "      <td>NaN</td>\n",
              "      <td>NaN</td>\n",
              "      <td>13,000 people receive #wildfires evacuation or...</td>\n",
              "      <td>1</td>\n",
              "    </tr>\n",
              "    <tr>\n",
              "      <th>4</th>\n",
              "      <td>7</td>\n",
              "      <td>NaN</td>\n",
              "      <td>NaN</td>\n",
              "      <td>Just got sent this photo from Ruby #Alaska as ...</td>\n",
              "      <td>1</td>\n",
              "    </tr>\n",
              "  </tbody>\n",
              "</table>\n",
              "</div>\n",
              "      <button class=\"colab-df-convert\" onclick=\"convertToInteractive('df-652b03fa-62d2-4119-a7a3-528f33448998')\"\n",
              "              title=\"Convert this dataframe to an interactive table.\"\n",
              "              style=\"display:none;\">\n",
              "        \n",
              "  <svg xmlns=\"http://www.w3.org/2000/svg\" height=\"24px\"viewBox=\"0 0 24 24\"\n",
              "       width=\"24px\">\n",
              "    <path d=\"M0 0h24v24H0V0z\" fill=\"none\"/>\n",
              "    <path d=\"M18.56 5.44l.94 2.06.94-2.06 2.06-.94-2.06-.94-.94-2.06-.94 2.06-2.06.94zm-11 1L8.5 8.5l.94-2.06 2.06-.94-2.06-.94L8.5 2.5l-.94 2.06-2.06.94zm10 10l.94 2.06.94-2.06 2.06-.94-2.06-.94-.94-2.06-.94 2.06-2.06.94z\"/><path d=\"M17.41 7.96l-1.37-1.37c-.4-.4-.92-.59-1.43-.59-.52 0-1.04.2-1.43.59L10.3 9.45l-7.72 7.72c-.78.78-.78 2.05 0 2.83L4 21.41c.39.39.9.59 1.41.59.51 0 1.02-.2 1.41-.59l7.78-7.78 2.81-2.81c.8-.78.8-2.07 0-2.86zM5.41 20L4 18.59l7.72-7.72 1.47 1.35L5.41 20z\"/>\n",
              "  </svg>\n",
              "      </button>\n",
              "      \n",
              "  <style>\n",
              "    .colab-df-container {\n",
              "      display:flex;\n",
              "      flex-wrap:wrap;\n",
              "      gap: 12px;\n",
              "    }\n",
              "\n",
              "    .colab-df-convert {\n",
              "      background-color: #E8F0FE;\n",
              "      border: none;\n",
              "      border-radius: 50%;\n",
              "      cursor: pointer;\n",
              "      display: none;\n",
              "      fill: #1967D2;\n",
              "      height: 32px;\n",
              "      padding: 0 0 0 0;\n",
              "      width: 32px;\n",
              "    }\n",
              "\n",
              "    .colab-df-convert:hover {\n",
              "      background-color: #E2EBFA;\n",
              "      box-shadow: 0px 1px 2px rgba(60, 64, 67, 0.3), 0px 1px 3px 1px rgba(60, 64, 67, 0.15);\n",
              "      fill: #174EA6;\n",
              "    }\n",
              "\n",
              "    [theme=dark] .colab-df-convert {\n",
              "      background-color: #3B4455;\n",
              "      fill: #D2E3FC;\n",
              "    }\n",
              "\n",
              "    [theme=dark] .colab-df-convert:hover {\n",
              "      background-color: #434B5C;\n",
              "      box-shadow: 0px 1px 3px 1px rgba(0, 0, 0, 0.15);\n",
              "      filter: drop-shadow(0px 1px 2px rgba(0, 0, 0, 0.3));\n",
              "      fill: #FFFFFF;\n",
              "    }\n",
              "  </style>\n",
              "\n",
              "      <script>\n",
              "        const buttonEl =\n",
              "          document.querySelector('#df-652b03fa-62d2-4119-a7a3-528f33448998 button.colab-df-convert');\n",
              "        buttonEl.style.display =\n",
              "          google.colab.kernel.accessAllowed ? 'block' : 'none';\n",
              "\n",
              "        async function convertToInteractive(key) {\n",
              "          const element = document.querySelector('#df-652b03fa-62d2-4119-a7a3-528f33448998');\n",
              "          const dataTable =\n",
              "            await google.colab.kernel.invokeFunction('convertToInteractive',\n",
              "                                                     [key], {});\n",
              "          if (!dataTable) return;\n",
              "\n",
              "          const docLinkHtml = 'Like what you see? Visit the ' +\n",
              "            '<a target=\"_blank\" href=https://colab.research.google.com/notebooks/data_table.ipynb>data table notebook</a>'\n",
              "            + ' to learn more about interactive tables.';\n",
              "          element.innerHTML = '';\n",
              "          dataTable['output_type'] = 'display_data';\n",
              "          await google.colab.output.renderOutput(dataTable, element);\n",
              "          const docLink = document.createElement('div');\n",
              "          docLink.innerHTML = docLinkHtml;\n",
              "          element.appendChild(docLink);\n",
              "        }\n",
              "      </script>\n",
              "    </div>\n",
              "  </div>\n",
              "  "
            ]
          },
          "metadata": {},
          "execution_count": 5
        }
      ]
    },
    {
      "cell_type": "code",
      "source": [
        "train_df_shuffled = train_df.sample(frac=1, random_state=42)\n",
        "train_df_shuffled.head()"
      ],
      "metadata": {
        "colab": {
          "base_uri": "https://localhost:8080/",
          "height": 206
        },
        "id": "Wb-sB9b7VOSj",
        "outputId": "85548663-6f96-4316-b1a2-984fb88cfac1"
      },
      "execution_count": 6,
      "outputs": [
        {
          "output_type": "execute_result",
          "data": {
            "text/plain": [
              "        id      keyword               location  \\\n",
              "2644  3796  destruction                    NaN   \n",
              "2227  3185       deluge                    NaN   \n",
              "5448  7769       police                     UK   \n",
              "132    191   aftershock                    NaN   \n",
              "6845  9810       trauma  Montgomery County, MD   \n",
              "\n",
              "                                                   text  target  \n",
              "2644  So you have a new weapon that can cause un-ima...       1  \n",
              "2227  The f$&amp;@ing things I do for #GISHWHES Just...       0  \n",
              "5448  DT @georgegalloway: RT @Galloway4Mayor: ÛÏThe...       1  \n",
              "132   Aftershock back to school kick off was great. ...       0  \n",
              "6845  in response to trauma Children of Addicts deve...       0  "
            ],
            "text/html": [
              "\n",
              "  <div id=\"df-c3ea6d45-5445-4e06-b3f1-77672d6cc901\">\n",
              "    <div class=\"colab-df-container\">\n",
              "      <div>\n",
              "<style scoped>\n",
              "    .dataframe tbody tr th:only-of-type {\n",
              "        vertical-align: middle;\n",
              "    }\n",
              "\n",
              "    .dataframe tbody tr th {\n",
              "        vertical-align: top;\n",
              "    }\n",
              "\n",
              "    .dataframe thead th {\n",
              "        text-align: right;\n",
              "    }\n",
              "</style>\n",
              "<table border=\"1\" class=\"dataframe\">\n",
              "  <thead>\n",
              "    <tr style=\"text-align: right;\">\n",
              "      <th></th>\n",
              "      <th>id</th>\n",
              "      <th>keyword</th>\n",
              "      <th>location</th>\n",
              "      <th>text</th>\n",
              "      <th>target</th>\n",
              "    </tr>\n",
              "  </thead>\n",
              "  <tbody>\n",
              "    <tr>\n",
              "      <th>2644</th>\n",
              "      <td>3796</td>\n",
              "      <td>destruction</td>\n",
              "      <td>NaN</td>\n",
              "      <td>So you have a new weapon that can cause un-ima...</td>\n",
              "      <td>1</td>\n",
              "    </tr>\n",
              "    <tr>\n",
              "      <th>2227</th>\n",
              "      <td>3185</td>\n",
              "      <td>deluge</td>\n",
              "      <td>NaN</td>\n",
              "      <td>The f$&amp;amp;@ing things I do for #GISHWHES Just...</td>\n",
              "      <td>0</td>\n",
              "    </tr>\n",
              "    <tr>\n",
              "      <th>5448</th>\n",
              "      <td>7769</td>\n",
              "      <td>police</td>\n",
              "      <td>UK</td>\n",
              "      <td>DT @georgegalloway: RT @Galloway4Mayor: ÛÏThe...</td>\n",
              "      <td>1</td>\n",
              "    </tr>\n",
              "    <tr>\n",
              "      <th>132</th>\n",
              "      <td>191</td>\n",
              "      <td>aftershock</td>\n",
              "      <td>NaN</td>\n",
              "      <td>Aftershock back to school kick off was great. ...</td>\n",
              "      <td>0</td>\n",
              "    </tr>\n",
              "    <tr>\n",
              "      <th>6845</th>\n",
              "      <td>9810</td>\n",
              "      <td>trauma</td>\n",
              "      <td>Montgomery County, MD</td>\n",
              "      <td>in response to trauma Children of Addicts deve...</td>\n",
              "      <td>0</td>\n",
              "    </tr>\n",
              "  </tbody>\n",
              "</table>\n",
              "</div>\n",
              "      <button class=\"colab-df-convert\" onclick=\"convertToInteractive('df-c3ea6d45-5445-4e06-b3f1-77672d6cc901')\"\n",
              "              title=\"Convert this dataframe to an interactive table.\"\n",
              "              style=\"display:none;\">\n",
              "        \n",
              "  <svg xmlns=\"http://www.w3.org/2000/svg\" height=\"24px\"viewBox=\"0 0 24 24\"\n",
              "       width=\"24px\">\n",
              "    <path d=\"M0 0h24v24H0V0z\" fill=\"none\"/>\n",
              "    <path d=\"M18.56 5.44l.94 2.06.94-2.06 2.06-.94-2.06-.94-.94-2.06-.94 2.06-2.06.94zm-11 1L8.5 8.5l.94-2.06 2.06-.94-2.06-.94L8.5 2.5l-.94 2.06-2.06.94zm10 10l.94 2.06.94-2.06 2.06-.94-2.06-.94-.94-2.06-.94 2.06-2.06.94z\"/><path d=\"M17.41 7.96l-1.37-1.37c-.4-.4-.92-.59-1.43-.59-.52 0-1.04.2-1.43.59L10.3 9.45l-7.72 7.72c-.78.78-.78 2.05 0 2.83L4 21.41c.39.39.9.59 1.41.59.51 0 1.02-.2 1.41-.59l7.78-7.78 2.81-2.81c.8-.78.8-2.07 0-2.86zM5.41 20L4 18.59l7.72-7.72 1.47 1.35L5.41 20z\"/>\n",
              "  </svg>\n",
              "      </button>\n",
              "      \n",
              "  <style>\n",
              "    .colab-df-container {\n",
              "      display:flex;\n",
              "      flex-wrap:wrap;\n",
              "      gap: 12px;\n",
              "    }\n",
              "\n",
              "    .colab-df-convert {\n",
              "      background-color: #E8F0FE;\n",
              "      border: none;\n",
              "      border-radius: 50%;\n",
              "      cursor: pointer;\n",
              "      display: none;\n",
              "      fill: #1967D2;\n",
              "      height: 32px;\n",
              "      padding: 0 0 0 0;\n",
              "      width: 32px;\n",
              "    }\n",
              "\n",
              "    .colab-df-convert:hover {\n",
              "      background-color: #E2EBFA;\n",
              "      box-shadow: 0px 1px 2px rgba(60, 64, 67, 0.3), 0px 1px 3px 1px rgba(60, 64, 67, 0.15);\n",
              "      fill: #174EA6;\n",
              "    }\n",
              "\n",
              "    [theme=dark] .colab-df-convert {\n",
              "      background-color: #3B4455;\n",
              "      fill: #D2E3FC;\n",
              "    }\n",
              "\n",
              "    [theme=dark] .colab-df-convert:hover {\n",
              "      background-color: #434B5C;\n",
              "      box-shadow: 0px 1px 3px 1px rgba(0, 0, 0, 0.15);\n",
              "      filter: drop-shadow(0px 1px 2px rgba(0, 0, 0, 0.3));\n",
              "      fill: #FFFFFF;\n",
              "    }\n",
              "  </style>\n",
              "\n",
              "      <script>\n",
              "        const buttonEl =\n",
              "          document.querySelector('#df-c3ea6d45-5445-4e06-b3f1-77672d6cc901 button.colab-df-convert');\n",
              "        buttonEl.style.display =\n",
              "          google.colab.kernel.accessAllowed ? 'block' : 'none';\n",
              "\n",
              "        async function convertToInteractive(key) {\n",
              "          const element = document.querySelector('#df-c3ea6d45-5445-4e06-b3f1-77672d6cc901');\n",
              "          const dataTable =\n",
              "            await google.colab.kernel.invokeFunction('convertToInteractive',\n",
              "                                                     [key], {});\n",
              "          if (!dataTable) return;\n",
              "\n",
              "          const docLinkHtml = 'Like what you see? Visit the ' +\n",
              "            '<a target=\"_blank\" href=https://colab.research.google.com/notebooks/data_table.ipynb>data table notebook</a>'\n",
              "            + ' to learn more about interactive tables.';\n",
              "          element.innerHTML = '';\n",
              "          dataTable['output_type'] = 'display_data';\n",
              "          await google.colab.output.renderOutput(dataTable, element);\n",
              "          const docLink = document.createElement('div');\n",
              "          docLink.innerHTML = docLinkHtml;\n",
              "          element.appendChild(docLink);\n",
              "        }\n",
              "      </script>\n",
              "    </div>\n",
              "  </div>\n",
              "  "
            ]
          },
          "metadata": {},
          "execution_count": 6
        }
      ]
    },
    {
      "cell_type": "code",
      "source": [
        "train_df.target.value_counts()"
      ],
      "metadata": {
        "colab": {
          "base_uri": "https://localhost:8080/"
        },
        "id": "gHJVx2hiVa4t",
        "outputId": "9b59150c-3414-4b24-adf8-857babe85858"
      },
      "execution_count": 7,
      "outputs": [
        {
          "output_type": "execute_result",
          "data": {
            "text/plain": [
              "0    4342\n",
              "1    3271\n",
              "Name: target, dtype: int64"
            ]
          },
          "metadata": {},
          "execution_count": 7
        }
      ]
    },
    {
      "cell_type": "code",
      "source": [
        "len(train_df), len(test_df)"
      ],
      "metadata": {
        "colab": {
          "base_uri": "https://localhost:8080/"
        },
        "id": "wn8f3s9XVqJL",
        "outputId": "d78c07b3-740c-4688-d8dc-fc25d2932da1"
      },
      "execution_count": 8,
      "outputs": [
        {
          "output_type": "execute_result",
          "data": {
            "text/plain": [
              "(7613, 3263)"
            ]
          },
          "metadata": {},
          "execution_count": 8
        }
      ]
    },
    {
      "cell_type": "code",
      "source": [
        "import random\n",
        "random_index = random.randint(0, len(train_df)-5)\n",
        "\n",
        "for row in train_df_shuffled[[\"text\", \"target\"]][random_index:random_index+5].itertuples():\n",
        "  _, text, target = row\n",
        "  print(f\"Target: {target}\", \"<real disaster>\" if target > 0 else \"<not a real disaster>\")\n",
        "  print(f\"Text\\n{text}\\n\")\n",
        "  print(\"---\\n\")"
      ],
      "metadata": {
        "colab": {
          "base_uri": "https://localhost:8080/"
        },
        "id": "5voqlVAIVvBC",
        "outputId": "58ec2747-5d6e-40b6-bef9-0e85a78f0a21"
      },
      "execution_count": 9,
      "outputs": [
        {
          "output_type": "stream",
          "name": "stdout",
          "text": [
            "Target: 0 <not a real disaster>\n",
            "Text\n",
            "CAMILA'S DOING A FOLLOW SPREE TONIGHT IM SCREAMING OF HAPPINESS\n",
            "\n",
            "---\n",
            "\n",
            "Target: 0 <not a real disaster>\n",
            "Text\n",
            "Pandemonium In Aba As Woman Delivers Baby Without Face (Photos) - http://t.co/Ykdsp0nRDQ\n",
            "\n",
            "---\n",
            "\n",
            "Target: 1 <real disaster>\n",
            "Text\n",
            "@rvfriedmann Hell is just a fraction of his belief of total annihilation destruction of USA @LodiSilverado @ritzy_jewels\n",
            "\n",
            "---\n",
            "\n",
            "Target: 1 <real disaster>\n",
            "Text\n",
            "Islamic State group in Egypt threatens to kill Croat hostage http://t.co/VdgfXYX3bw\n",
            "\n",
            "---\n",
            "\n",
            "Target: 0 <not a real disaster>\n",
            "Text\n",
            "@HomeworldGym @thisisperidot D: What? That's a tragedy. You have a wonderful nose\n",
            "\n",
            "---\n",
            "\n"
          ]
        }
      ]
    },
    {
      "cell_type": "code",
      "source": [
        "from sklearn.model_selection import train_test_split\n",
        "\n",
        "train_sentences, val_sentences, train_labels, val_labels = train_test_split(\n",
        "    train_df_shuffled[\"text\"].to_numpy(),\n",
        "    train_df_shuffled[\"target\"].to_numpy(),\n",
        "    test_size=0.1,\n",
        "    random_state=42\n",
        ")"
      ],
      "metadata": {
        "id": "gucF_w9Z7JRV"
      },
      "execution_count": 10,
      "outputs": []
    },
    {
      "cell_type": "code",
      "source": [
        "train_sentences[:10], train_labels[:10]"
      ],
      "metadata": {
        "colab": {
          "base_uri": "https://localhost:8080/"
        },
        "id": "oIuX-ExX72Dc",
        "outputId": "07130531-f3b9-4533-84f4-dad9abf2755d"
      },
      "execution_count": 11,
      "outputs": [
        {
          "output_type": "execute_result",
          "data": {
            "text/plain": [
              "(array(['@mogacola @zamtriossu i screamed after hitting tweet',\n",
              "        'Imagine getting flattened by Kurt Zouma',\n",
              "        '@Gurmeetramrahim #MSGDoing111WelfareWorks Green S welfare force ke appx 65000 members har time disaster victim ki help ke liye tyar hai....',\n",
              "        \"@shakjn @C7 @Magnums im shaking in fear he's gonna hack the planet\",\n",
              "        'Somehow find you and I collide http://t.co/Ee8RpOahPk',\n",
              "        '@EvaHanderek @MarleyKnysh great times until the bus driver held us hostage in the mall parking lot lmfao',\n",
              "        'destroy the free fandom honestly',\n",
              "        'Weapons stolen from National Guard Armory in New Albany still missing #Gunsense http://t.co/lKNU8902JE',\n",
              "        '@wfaaweather Pete when will the heat wave pass? Is it really going to be mid month? Frisco Boy Scouts have a canoe trip in Okla.',\n",
              "        'Patient-reported outcomes in long-term survivors of metastatic colorectal cancer - British Journal of Surgery http://t.co/5Yl4DC1Tqt'],\n",
              "       dtype=object), array([0, 0, 1, 0, 0, 1, 1, 0, 1, 1]))"
            ]
          },
          "metadata": {},
          "execution_count": 11
        }
      ]
    },
    {
      "cell_type": "code",
      "source": [
        "round(sum([len(i.split()) for i in train_sentences])/len(train_sentences))"
      ],
      "metadata": {
        "colab": {
          "base_uri": "https://localhost:8080/"
        },
        "id": "dpBIKpNTD3Y5",
        "outputId": "70a46add-016d-441a-de3b-70e729bf871d"
      },
      "execution_count": 12,
      "outputs": [
        {
          "output_type": "execute_result",
          "data": {
            "text/plain": [
              "15"
            ]
          },
          "metadata": {},
          "execution_count": 12
        }
      ]
    },
    {
      "cell_type": "code",
      "source": [
        "import tensorflow as tf\n",
        "from tensorflow.keras.layers import TextVectorization\n",
        "\n",
        "text_vectorizer = TextVectorization(\n",
        "    max_tokens=10000,\n",
        "    output_mode=\"int\",\n",
        "    output_sequence_length=15,\n",
        ")"
      ],
      "metadata": {
        "id": "KvPf-l76-g_y"
      },
      "execution_count": 13,
      "outputs": []
    },
    {
      "cell_type": "code",
      "source": [
        "text_vectorizer.adapt(train_sentences)"
      ],
      "metadata": {
        "id": "Dh8wGCG1E4Jv"
      },
      "execution_count": 14,
      "outputs": []
    },
    {
      "cell_type": "code",
      "source": [
        "text_vectorizer([\"There's a flood in my street!\"])"
      ],
      "metadata": {
        "colab": {
          "base_uri": "https://localhost:8080/"
        },
        "id": "pOIu_eDBFDIb",
        "outputId": "3618fedb-0f95-47b4-ce73-ea140b87fb5c"
      },
      "execution_count": 15,
      "outputs": [
        {
          "output_type": "execute_result",
          "data": {
            "text/plain": [
              "<tf.Tensor: shape=(1, 15), dtype=int64, numpy=\n",
              "array([[264,   3, 232,   4,  13, 698,   0,   0,   0,   0,   0,   0,   0,\n",
              "          0,   0]])>"
            ]
          },
          "metadata": {},
          "execution_count": 15
        }
      ]
    },
    {
      "cell_type": "code",
      "source": [
        "random_sent = random.choice(train_sentences)\n",
        "print(f\"Before: {random_sent}\")\n",
        "text_vectorizer([random_sent])"
      ],
      "metadata": {
        "colab": {
          "base_uri": "https://localhost:8080/"
        },
        "id": "o7KU2NDnFkpl",
        "outputId": "ac96b08d-60c4-4576-f487-7b4c5fe32db1"
      },
      "execution_count": 16,
      "outputs": [
        {
          "output_type": "stream",
          "name": "stdout",
          "text": [
            "Before: Hellfire! We donÛªt even want to think about it or mention it so letÛªs not do anything that leads to it!\n"
          ]
        },
        {
          "output_type": "execute_result",
          "data": {
            "text/plain": [
              "<tf.Tensor: shape=(1, 15), dtype=int64, numpy=\n",
              "array([[ 546,   46, 1029,  151,  138,    5,  125,   54,   15,   53, 1636,\n",
              "          15,   28, 2405,   34]])>"
            ]
          },
          "metadata": {},
          "execution_count": 16
        }
      ]
    },
    {
      "cell_type": "code",
      "source": [
        "words_in_vocab = text_vectorizer.get_vocabulary()\n",
        "top_5_words = words_in_vocab[:5]\n",
        "bottom_5_words = words_in_vocab[-5:]\n",
        "len(words_in_vocab), top_5_words, bottom_5_words"
      ],
      "metadata": {
        "colab": {
          "base_uri": "https://localhost:8080/"
        },
        "id": "OIfRWRlJF5-x",
        "outputId": "53139a85-6d17-48e7-f741-e727696a6c14"
      },
      "execution_count": 17,
      "outputs": [
        {
          "output_type": "execute_result",
          "data": {
            "text/plain": [
              "(10000,\n",
              " ['', '[UNK]', 'the', 'a', 'in'],\n",
              " ['pages', 'paeds', 'pads', 'padres', 'paddytomlinson1'])"
            ]
          },
          "metadata": {},
          "execution_count": 17
        }
      ]
    },
    {
      "cell_type": "code",
      "source": [
        "from tensorflow.keras import layers\n",
        "\n",
        "embedding = layers.Embedding(\n",
        "    input_dim=10000,\n",
        "    output_dim=128,\n",
        "    input_length=15\n",
        ")\n",
        "\n",
        "embedding"
      ],
      "metadata": {
        "colab": {
          "base_uri": "https://localhost:8080/"
        },
        "id": "MCDQAP3AGNjH",
        "outputId": "537f0e7a-f387-46a3-a93b-aef0f514cd87"
      },
      "execution_count": 18,
      "outputs": [
        {
          "output_type": "execute_result",
          "data": {
            "text/plain": [
              "<keras.layers.embeddings.Embedding at 0x7fa8b010cf50>"
            ]
          },
          "metadata": {},
          "execution_count": 18
        }
      ]
    },
    {
      "cell_type": "code",
      "source": [
        "sample_embed = embedding(text_vectorizer([random.choice(train_sentences)]))\n",
        "sample_embed"
      ],
      "metadata": {
        "colab": {
          "base_uri": "https://localhost:8080/"
        },
        "id": "htpdho_mPRL4",
        "outputId": "0fdf3a36-20ce-455e-c294-154a940dd5aa"
      },
      "execution_count": 19,
      "outputs": [
        {
          "output_type": "execute_result",
          "data": {
            "text/plain": [
              "<tf.Tensor: shape=(1, 15, 128), dtype=float32, numpy=\n",
              "array([[[-0.04727489,  0.00413039,  0.02918592, ...,  0.02587075,\n",
              "         -0.0399493 ,  0.00582303],\n",
              "        [ 0.00371378,  0.00729749,  0.02096326, ..., -0.00671252,\n",
              "         -0.01839857, -0.04495699],\n",
              "        [-0.01662181, -0.04094366,  0.02272885, ..., -0.01341771,\n",
              "          0.04950306,  0.04909046],\n",
              "        ...,\n",
              "        [-0.02197913,  0.03348363,  0.04861161, ..., -0.00827495,\n",
              "          0.01822697, -0.04882536],\n",
              "        [-0.02197913,  0.03348363,  0.04861161, ..., -0.00827495,\n",
              "          0.01822697, -0.04882536],\n",
              "        [-0.02197913,  0.03348363,  0.04861161, ..., -0.00827495,\n",
              "          0.01822697, -0.04882536]]], dtype=float32)>"
            ]
          },
          "metadata": {},
          "execution_count": 19
        }
      ]
    },
    {
      "cell_type": "markdown",
      "source": [
        "# Model 0: Baseline Model -> Sklearn Multinomial Naive Bayes using TF-IDF"
      ],
      "metadata": {
        "id": "URe3kjjjWrSn"
      }
    },
    {
      "cell_type": "code",
      "source": [
        "from sklearn.feature_extraction.text import TfidfVectorizer\n",
        "from sklearn.naive_bayes import MultinomialNB\n",
        "from sklearn.pipeline import Pipeline\n",
        "\n",
        "model_0 = Pipeline([\n",
        "    (\"tfidf\", TfidfVectorizer()),\n",
        "    (\"clf\", MultinomialNB())\n",
        "])\n",
        "\n",
        "model_0.fit(train_sentences, train_labels)"
      ],
      "metadata": {
        "colab": {
          "base_uri": "https://localhost:8080/"
        },
        "id": "gpdx2X8fWxUN",
        "outputId": "d8d41aa4-7983-4f67-930d-68ab25319642"
      },
      "execution_count": 20,
      "outputs": [
        {
          "output_type": "execute_result",
          "data": {
            "text/plain": [
              "Pipeline(steps=[('tfidf', TfidfVectorizer()), ('clf', MultinomialNB())])"
            ]
          },
          "metadata": {},
          "execution_count": 20
        }
      ]
    },
    {
      "cell_type": "code",
      "source": [
        "baseline_score = model_0.score(val_sentences, val_labels)\n",
        "print(f\"Baseline Score: {baseline_score*100:.2f}%\")"
      ],
      "metadata": {
        "colab": {
          "base_uri": "https://localhost:8080/"
        },
        "id": "XvBxq30aXi1H",
        "outputId": "dec47b71-3c4e-448b-bd52-ea3472d1ff86"
      },
      "execution_count": 21,
      "outputs": [
        {
          "output_type": "stream",
          "name": "stdout",
          "text": [
            "Baseline Score: 79.27%\n"
          ]
        }
      ]
    },
    {
      "cell_type": "code",
      "source": [
        "from sklearn.metrics import accuracy_score, precision_recall_fscore_support\n",
        "\n",
        "def calculate_results(y_true, y_pred):\n",
        "  model_accuracy = accuracy_score(y_true, y_pred) * 100\n",
        "  model_precision, model_recall, model_f1, _ = precision_recall_fscore_support(y_true, y_pred, average=\"weighted\")\n",
        "  model_results = {\n",
        "      \"accuracy\": model_accuracy,\n",
        "      \"precision\": model_precision,\n",
        "      \"recall\": model_recall,\n",
        "      \"f1\": model_f1\n",
        "  }\n",
        "\n",
        "  return model_results"
      ],
      "metadata": {
        "id": "Qba-nKj83Lf1"
      },
      "execution_count": 22,
      "outputs": []
    },
    {
      "cell_type": "code",
      "source": [
        "baseline_preds = model_0.predict(val_sentences)\n",
        "baseline_preds[:5]"
      ],
      "metadata": {
        "colab": {
          "base_uri": "https://localhost:8080/"
        },
        "id": "E6DsaL1YkRZJ",
        "outputId": "4f729d10-2fc2-44d9-b13e-2f3dabca4d03"
      },
      "execution_count": 23,
      "outputs": [
        {
          "output_type": "execute_result",
          "data": {
            "text/plain": [
              "array([1, 1, 1, 0, 0])"
            ]
          },
          "metadata": {},
          "execution_count": 23
        }
      ]
    },
    {
      "cell_type": "code",
      "source": [
        "baseline_results = calculate_results(val_labels, baseline_preds)\n",
        "baseline_results"
      ],
      "metadata": {
        "colab": {
          "base_uri": "https://localhost:8080/"
        },
        "id": "5NsMzZWH6N5l",
        "outputId": "2fef9116-d8a9-499a-fe45-2cbdd386cf12"
      },
      "execution_count": 24,
      "outputs": [
        {
          "output_type": "execute_result",
          "data": {
            "text/plain": [
              "{'accuracy': 79.26509186351706,\n",
              " 'f1': 0.7862189758049549,\n",
              " 'precision': 0.8111390004213173,\n",
              " 'recall': 0.7926509186351706}"
            ]
          },
          "metadata": {},
          "execution_count": 24
        }
      ]
    },
    {
      "cell_type": "code",
      "source": [
        "from helper_functions import create_tensorboard_callback\n",
        "\n",
        "SAVE_DIR = \"model_logs\""
      ],
      "metadata": {
        "id": "QQ1NZEN2j5RX"
      },
      "execution_count": 25,
      "outputs": []
    },
    {
      "cell_type": "markdown",
      "source": [
        "# Model 1: Simple Dense Model"
      ],
      "metadata": {
        "id": "QvAyRNWwoA0f"
      }
    },
    {
      "cell_type": "code",
      "source": [
        "from tensorflow.keras import layers\n",
        "\n",
        "inputs = layers.Input(shape=(1,), dtype=tf.string)\n",
        "x = text_vectorizer(inputs)\n",
        "x = embedding(x)\n",
        "x = layers.GlobalAveragePooling1D()(x)\n",
        "outputs = layers.Dense(1, activation=\"sigmoid\")(x)\n",
        "\n",
        "model_1 = tf.keras.Model(inputs, outputs, name=\"model_1_dense\")\n",
        "model_1.summary()"
      ],
      "metadata": {
        "colab": {
          "base_uri": "https://localhost:8080/"
        },
        "id": "ra5RD2EkkAIh",
        "outputId": "5801693e-f1c3-4705-f4d0-5becc4215a23"
      },
      "execution_count": 26,
      "outputs": [
        {
          "output_type": "stream",
          "name": "stdout",
          "text": [
            "Model: \"model_1_dense\"\n",
            "_________________________________________________________________\n",
            " Layer (type)                Output Shape              Param #   \n",
            "=================================================================\n",
            " input_1 (InputLayer)        [(None, 1)]               0         \n",
            "                                                                 \n",
            " text_vectorization (TextVec  (None, 15)               0         \n",
            " torization)                                                     \n",
            "                                                                 \n",
            " embedding (Embedding)       (None, 15, 128)           1280000   \n",
            "                                                                 \n",
            " global_average_pooling1d (G  (None, 128)              0         \n",
            " lobalAveragePooling1D)                                          \n",
            "                                                                 \n",
            " dense (Dense)               (None, 1)                 129       \n",
            "                                                                 \n",
            "=================================================================\n",
            "Total params: 1,280,129\n",
            "Trainable params: 1,280,129\n",
            "Non-trainable params: 0\n",
            "_________________________________________________________________\n"
          ]
        }
      ]
    },
    {
      "cell_type": "code",
      "source": [
        "model_1.compile(\n",
        "    loss=\"binary_crossentropy\",\n",
        "    optimizer=tf.keras.optimizers.Adam(),\n",
        "    metrics=[\"accuracy\"]\n",
        ")"
      ],
      "metadata": {
        "id": "qV5dSJkLlGfI"
      },
      "execution_count": 27,
      "outputs": []
    },
    {
      "cell_type": "code",
      "source": [
        "model_1_history = model_1.fit(\n",
        "    x=train_sentences,\n",
        "    y=train_labels,\n",
        "    epochs=5,\n",
        "    validation_data=(val_sentences, val_labels),\n",
        "    callbacks=[create_tensorboard_callback(dir_name=SAVE_DIR, experiment_name=\"model_1_dense\")]\n",
        ")"
      ],
      "metadata": {
        "colab": {
          "base_uri": "https://localhost:8080/"
        },
        "id": "MmKDTJRJlTEY",
        "outputId": "de1be50c-34b2-4cad-c93f-3fa82129c996"
      },
      "execution_count": 28,
      "outputs": [
        {
          "output_type": "stream",
          "name": "stdout",
          "text": [
            "Saving TensorBoard log files to: model_logs/model_1_dense/20220707-063511\n",
            "Epoch 1/5\n",
            "215/215 [==============================] - 7s 10ms/step - loss: 0.6123 - accuracy: 0.6938 - val_loss: 0.5375 - val_accuracy: 0.7559\n",
            "Epoch 2/5\n",
            "215/215 [==============================] - 2s 9ms/step - loss: 0.4435 - accuracy: 0.8161 - val_loss: 0.4746 - val_accuracy: 0.7822\n",
            "Epoch 3/5\n",
            "215/215 [==============================] - 2s 9ms/step - loss: 0.3480 - accuracy: 0.8608 - val_loss: 0.4637 - val_accuracy: 0.7913\n",
            "Epoch 4/5\n",
            "215/215 [==============================] - 2s 8ms/step - loss: 0.2860 - accuracy: 0.8892 - val_loss: 0.4622 - val_accuracy: 0.7861\n",
            "Epoch 5/5\n",
            "215/215 [==============================] - 2s 8ms/step - loss: 0.2390 - accuracy: 0.9102 - val_loss: 0.4798 - val_accuracy: 0.7808\n"
          ]
        }
      ]
    },
    {
      "cell_type": "code",
      "source": [
        "model_1.evaluate(val_sentences, val_labels)"
      ],
      "metadata": {
        "colab": {
          "base_uri": "https://localhost:8080/"
        },
        "id": "hpYcDvMll-Fh",
        "outputId": "a3721243-28a6-44e4-f53f-f8eb1385b494"
      },
      "execution_count": 29,
      "outputs": [
        {
          "output_type": "stream",
          "name": "stdout",
          "text": [
            "24/24 [==============================] - 0s 5ms/step - loss: 0.4798 - accuracy: 0.7808\n"
          ]
        },
        {
          "output_type": "execute_result",
          "data": {
            "text/plain": [
              "[0.4798296093940735, 0.7808399200439453]"
            ]
          },
          "metadata": {},
          "execution_count": 29
        }
      ]
    },
    {
      "cell_type": "code",
      "source": [
        "model_1_pred_probs = model_1.predict(val_sentences)\n",
        "model_1_pred_probs"
      ],
      "metadata": {
        "colab": {
          "base_uri": "https://localhost:8080/"
        },
        "id": "Xs-8aiJSnQ9A",
        "outputId": "e10788cb-d17f-44a1-a346-3d7e9f715b45"
      },
      "execution_count": 30,
      "outputs": [
        {
          "output_type": "execute_result",
          "data": {
            "text/plain": [
              "array([[0.3548926 ],\n",
              "       [0.81275797],\n",
              "       [0.99774384],\n",
              "       [0.1094776 ],\n",
              "       [0.1083597 ],\n",
              "       [0.94366467],\n",
              "       [0.9206508 ],\n",
              "       [0.9933888 ],\n",
              "       [0.96113694],\n",
              "       [0.29422197],\n",
              "       [0.11259472],\n",
              "       [0.7146368 ],\n",
              "       [0.05293193],\n",
              "       [0.18360744],\n",
              "       [0.00487619],\n",
              "       [0.12589787],\n",
              "       [0.03604896],\n",
              "       [0.07311025],\n",
              "       [0.23537305],\n",
              "       [0.523861  ],\n",
              "       [0.91697174],\n",
              "       [0.04538388],\n",
              "       [0.43450508],\n",
              "       [0.08238105],\n",
              "       [0.95837045],\n",
              "       [0.9991086 ],\n",
              "       [0.03773709],\n",
              "       [0.06168699],\n",
              "       [0.02680916],\n",
              "       [0.19293283],\n",
              "       [0.568274  ],\n",
              "       [0.24528621],\n",
              "       [0.46387312],\n",
              "       [0.20802572],\n",
              "       [0.49955717],\n",
              "       [0.06786716],\n",
              "       [0.9946108 ],\n",
              "       [0.15867817],\n",
              "       [0.03608301],\n",
              "       [0.9985348 ],\n",
              "       [0.19043502],\n",
              "       [0.01987883],\n",
              "       [0.34128717],\n",
              "       [0.05650873],\n",
              "       [0.68357784],\n",
              "       [0.9829779 ],\n",
              "       [0.29139122],\n",
              "       [0.9321524 ],\n",
              "       [0.21213455],\n",
              "       [0.61313593],\n",
              "       [0.0700985 ],\n",
              "       [0.49796975],\n",
              "       [0.44828063],\n",
              "       [0.0344638 ],\n",
              "       [0.16262707],\n",
              "       [0.03645907],\n",
              "       [0.25924873],\n",
              "       [0.954525  ],\n",
              "       [0.09601305],\n",
              "       [0.00309054],\n",
              "       [0.1429921 ],\n",
              "       [0.9611562 ],\n",
              "       [0.91123205],\n",
              "       [0.14098994],\n",
              "       [0.9289825 ],\n",
              "       [0.9841069 ],\n",
              "       [0.7844502 ],\n",
              "       [0.35857928],\n",
              "       [0.12381721],\n",
              "       [0.13990214],\n",
              "       [0.08821045],\n",
              "       [0.03838435],\n",
              "       [0.9335913 ],\n",
              "       [0.14349379],\n",
              "       [0.12101337],\n",
              "       [0.38570485],\n",
              "       [0.40141636],\n",
              "       [0.7982927 ],\n",
              "       [0.24780723],\n",
              "       [0.6164805 ],\n",
              "       [0.43631375],\n",
              "       [0.28742358],\n",
              "       [0.996179  ],\n",
              "       [0.11356846],\n",
              "       [0.19103196],\n",
              "       [0.1040038 ],\n",
              "       [0.02030691],\n",
              "       [0.11115593],\n",
              "       [0.6423533 ],\n",
              "       [0.891246  ],\n",
              "       [0.99282724],\n",
              "       [0.01048722],\n",
              "       [0.59328926],\n",
              "       [0.02909004],\n",
              "       [0.98278415],\n",
              "       [0.8054353 ],\n",
              "       [0.8367833 ],\n",
              "       [0.9746596 ],\n",
              "       [0.88176614],\n",
              "       [0.9690211 ],\n",
              "       [0.99935776],\n",
              "       [0.19763064],\n",
              "       [0.01399923],\n",
              "       [0.92700756],\n",
              "       [0.9002556 ],\n",
              "       [0.08260547],\n",
              "       [0.8718749 ],\n",
              "       [0.9783327 ],\n",
              "       [0.06413747],\n",
              "       [0.41494837],\n",
              "       [0.69597894],\n",
              "       [0.03817385],\n",
              "       [0.24042849],\n",
              "       [0.15858807],\n",
              "       [0.18668167],\n",
              "       [0.4570787 ],\n",
              "       [0.48107937],\n",
              "       [0.72047895],\n",
              "       [0.7059336 ],\n",
              "       [0.08006368],\n",
              "       [0.9997868 ],\n",
              "       [0.09679439],\n",
              "       [0.11165862],\n",
              "       [0.82410276],\n",
              "       [0.43464777],\n",
              "       [0.27333522],\n",
              "       [0.8321396 ],\n",
              "       [0.01000126],\n",
              "       [0.08573501],\n",
              "       [0.7866174 ],\n",
              "       [0.09796359],\n",
              "       [0.9997868 ],\n",
              "       [0.99981695],\n",
              "       [0.9991086 ],\n",
              "       [0.982832  ],\n",
              "       [0.09068643],\n",
              "       [0.97130597],\n",
              "       [0.21358854],\n",
              "       [0.28237787],\n",
              "       [0.09052826],\n",
              "       [0.99587643],\n",
              "       [0.29401597],\n",
              "       [0.18360744],\n",
              "       [0.9506562 ],\n",
              "       [0.2627019 ],\n",
              "       [0.603242  ],\n",
              "       [0.0491629 ],\n",
              "       [0.00848406],\n",
              "       [0.2304899 ],\n",
              "       [0.97808176],\n",
              "       [0.27272153],\n",
              "       [0.06023547],\n",
              "       [0.43374085],\n",
              "       [0.18357769],\n",
              "       [0.26813927],\n",
              "       [0.9926784 ],\n",
              "       [0.77016014],\n",
              "       [0.4198624 ],\n",
              "       [0.9899894 ],\n",
              "       [0.01853751],\n",
              "       [0.9748989 ],\n",
              "       [0.06884148],\n",
              "       [0.28090236],\n",
              "       [0.9924763 ],\n",
              "       [0.24630447],\n",
              "       [0.07447486],\n",
              "       [0.99889827],\n",
              "       [0.31287158],\n",
              "       [0.98201835],\n",
              "       [0.24017744],\n",
              "       [0.99489176],\n",
              "       [0.85576636],\n",
              "       [0.85049194],\n",
              "       [0.02786134],\n",
              "       [0.9982298 ],\n",
              "       [0.07172944],\n",
              "       [0.38070488],\n",
              "       [0.40547752],\n",
              "       [0.72905475],\n",
              "       [0.9948862 ],\n",
              "       [0.0181845 ],\n",
              "       [0.85474193],\n",
              "       [0.775057  ],\n",
              "       [0.96905667],\n",
              "       [0.96529526],\n",
              "       [0.452728  ],\n",
              "       [0.09675276],\n",
              "       [0.9995695 ],\n",
              "       [0.01704035],\n",
              "       [0.03746826],\n",
              "       [0.12266697],\n",
              "       [0.9280857 ],\n",
              "       [0.08849453],\n",
              "       [0.25189477],\n",
              "       [0.01846213],\n",
              "       [0.08374403],\n",
              "       [0.04612461],\n",
              "       [0.2285395 ],\n",
              "       [0.7819685 ],\n",
              "       [0.08924765],\n",
              "       [0.277712  ],\n",
              "       [0.8743054 ],\n",
              "       [0.97394794],\n",
              "       [0.33337936],\n",
              "       [0.12506096],\n",
              "       [0.99985254],\n",
              "       [0.5580113 ],\n",
              "       [0.9414177 ],\n",
              "       [0.6726483 ],\n",
              "       [0.8601887 ],\n",
              "       [0.3520591 ],\n",
              "       [0.98429203],\n",
              "       [0.02040422],\n",
              "       [0.20994587],\n",
              "       [0.00845301],\n",
              "       [0.00492778],\n",
              "       [0.95324093],\n",
              "       [0.8228719 ],\n",
              "       [0.90770495],\n",
              "       [0.2165563 ],\n",
              "       [0.7281908 ],\n",
              "       [0.09048675],\n",
              "       [0.03375833],\n",
              "       [0.15811725],\n",
              "       [0.9826748 ],\n",
              "       [0.21174097],\n",
              "       [0.5492251 ],\n",
              "       [0.9956665 ],\n",
              "       [0.623612  ],\n",
              "       [0.615896  ],\n",
              "       [0.10977687],\n",
              "       [0.19425829],\n",
              "       [0.8159164 ],\n",
              "       [0.2718502 ],\n",
              "       [0.5212351 ],\n",
              "       [0.16046706],\n",
              "       [0.6055593 ],\n",
              "       [0.37954956],\n",
              "       [0.16848148],\n",
              "       [0.08125044],\n",
              "       [0.43757725],\n",
              "       [0.2788767 ],\n",
              "       [0.9998363 ],\n",
              "       [0.9859643 ],\n",
              "       [0.08464602],\n",
              "       [0.02043908],\n",
              "       [0.86249036],\n",
              "       [0.10582421],\n",
              "       [0.0819504 ],\n",
              "       [0.40887442],\n",
              "       [0.04854945],\n",
              "       [0.58198696],\n",
              "       [0.00111032],\n",
              "       [0.47154668],\n",
              "       [0.9342354 ],\n",
              "       [0.23238876],\n",
              "       [0.97146666],\n",
              "       [0.9989115 ],\n",
              "       [0.3138033 ],\n",
              "       [0.15250587],\n",
              "       [0.36827475],\n",
              "       [0.03365702],\n",
              "       [0.00448401],\n",
              "       [0.98416036],\n",
              "       [0.9733878 ],\n",
              "       [0.683695  ],\n",
              "       [0.9547416 ],\n",
              "       [0.07410561],\n",
              "       [0.18819839],\n",
              "       [0.00794748],\n",
              "       [0.15073632],\n",
              "       [0.04975598],\n",
              "       [0.9674274 ],\n",
              "       [0.09381236],\n",
              "       [0.00827233],\n",
              "       [0.9736405 ],\n",
              "       [0.01490646],\n",
              "       [0.10743817],\n",
              "       [0.9866998 ],\n",
              "       [0.04030361],\n",
              "       [0.0921875 ],\n",
              "       [0.00721508],\n",
              "       [0.968151  ],\n",
              "       [0.60394084],\n",
              "       [0.79972446],\n",
              "       [0.69816536],\n",
              "       [0.5440649 ],\n",
              "       [0.08138575],\n",
              "       [0.9259851 ],\n",
              "       [0.0332173 ],\n",
              "       [0.74419075],\n",
              "       [0.37377718],\n",
              "       [0.36618426],\n",
              "       [0.3658507 ],\n",
              "       [0.19882995],\n",
              "       [0.7597246 ],\n",
              "       [0.2493747 ],\n",
              "       [0.6486696 ],\n",
              "       [0.15855514],\n",
              "       [0.8172336 ],\n",
              "       [0.04306528],\n",
              "       [0.07509694],\n",
              "       [0.21684578],\n",
              "       [0.9827921 ],\n",
              "       [0.16482972],\n",
              "       [0.10836768],\n",
              "       [0.36541787],\n",
              "       [0.21096538],\n",
              "       [0.10353056],\n",
              "       [0.02717119],\n",
              "       [0.03345961],\n",
              "       [0.9814446 ],\n",
              "       [0.33204567],\n",
              "       [0.30529886],\n",
              "       [0.99979097],\n",
              "       [0.05819245],\n",
              "       [0.6406294 ],\n",
              "       [0.2757455 ],\n",
              "       [0.07198232],\n",
              "       [0.16126053],\n",
              "       [0.19844958],\n",
              "       [0.11081574],\n",
              "       [0.9188202 ],\n",
              "       [0.24552143],\n",
              "       [0.98499066],\n",
              "       [0.06372442],\n",
              "       [0.01906396],\n",
              "       [0.9959156 ],\n",
              "       [0.02252636],\n",
              "       [0.99729055],\n",
              "       [0.17869854],\n",
              "       [0.04784707],\n",
              "       [0.96438295],\n",
              "       [0.05269967],\n",
              "       [0.03390989],\n",
              "       [0.9773613 ],\n",
              "       [0.00616762],\n",
              "       [0.18984024],\n",
              "       [0.77368456],\n",
              "       [0.92215604],\n",
              "       [0.00571863],\n",
              "       [0.17855188],\n",
              "       [0.9831722 ],\n",
              "       [0.9672417 ],\n",
              "       [0.74496347],\n",
              "       [0.4021285 ],\n",
              "       [0.5826068 ],\n",
              "       [0.44297644],\n",
              "       [0.05021819],\n",
              "       [0.09561573],\n",
              "       [0.09109618],\n",
              "       [0.68824154],\n",
              "       [0.03727651],\n",
              "       [0.42591313],\n",
              "       [0.45912793],\n",
              "       [0.01380664],\n",
              "       [0.9666595 ],\n",
              "       [0.9991086 ],\n",
              "       [0.9956934 ],\n",
              "       [0.03694195],\n",
              "       [0.30289352],\n",
              "       [0.16065009],\n",
              "       [0.4164758 ],\n",
              "       [0.7735894 ],\n",
              "       [0.15719496],\n",
              "       [0.01851947],\n",
              "       [0.06940186],\n",
              "       [0.05039446],\n",
              "       [0.5526133 ],\n",
              "       [0.01037835],\n",
              "       [0.22244981],\n",
              "       [0.03707691],\n",
              "       [0.38480917],\n",
              "       [0.26905262],\n",
              "       [0.36336923],\n",
              "       [0.18373883],\n",
              "       [0.05317986],\n",
              "       [0.31289595],\n",
              "       [0.10139669],\n",
              "       [0.9975846 ],\n",
              "       [0.91659355],\n",
              "       [0.42212057],\n",
              "       [0.6456493 ],\n",
              "       [0.02220829],\n",
              "       [0.48361078],\n",
              "       [0.9902289 ],\n",
              "       [0.65503013],\n",
              "       [0.18783213],\n",
              "       [0.9829404 ],\n",
              "       [0.19382419],\n",
              "       [0.94525856],\n",
              "       [0.3431362 ],\n",
              "       [0.02585111],\n",
              "       [0.5295827 ],\n",
              "       [0.47952813],\n",
              "       [0.99711215],\n",
              "       [0.13239226],\n",
              "       [0.04708985],\n",
              "       [0.07294802],\n",
              "       [0.15719496],\n",
              "       [0.99911445],\n",
              "       [0.0302696 ],\n",
              "       [0.63953245],\n",
              "       [0.9712332 ],\n",
              "       [0.0896951 ],\n",
              "       [0.9997868 ],\n",
              "       [0.04146557],\n",
              "       [0.35970587],\n",
              "       [0.04744921],\n",
              "       [0.77229416],\n",
              "       [0.92066723],\n",
              "       [0.07334135],\n",
              "       [0.00241616],\n",
              "       [0.28074983],\n",
              "       [0.98937327],\n",
              "       [0.796558  ],\n",
              "       [0.12120674],\n",
              "       [0.47084108],\n",
              "       [0.7237327 ],\n",
              "       [0.02509085],\n",
              "       [0.993565  ],\n",
              "       [0.4936006 ],\n",
              "       [0.998874  ],\n",
              "       [0.9191179 ],\n",
              "       [0.08680558],\n",
              "       [0.3246456 ],\n",
              "       [0.11408011],\n",
              "       [0.9245747 ],\n",
              "       [0.7469747 ],\n",
              "       [0.37888008],\n",
              "       [0.03533936],\n",
              "       [0.2961164 ],\n",
              "       [0.05242791],\n",
              "       [0.16557032],\n",
              "       [0.12208305],\n",
              "       [0.4225259 ],\n",
              "       [0.51046413],\n",
              "       [0.13578779],\n",
              "       [0.9992743 ],\n",
              "       [0.9836639 ],\n",
              "       [0.2738437 ],\n",
              "       [0.81275797],\n",
              "       [0.22723189],\n",
              "       [0.04656146],\n",
              "       [0.31924412],\n",
              "       [0.70019305],\n",
              "       [0.10777318],\n",
              "       [0.2003704 ],\n",
              "       [0.01749021],\n",
              "       [0.48815063],\n",
              "       [0.00234877],\n",
              "       [0.95931035],\n",
              "       [0.98024005],\n",
              "       [0.9943599 ],\n",
              "       [0.9722624 ],\n",
              "       [0.80090666],\n",
              "       [0.16049911],\n",
              "       [0.05665807],\n",
              "       [0.63093895],\n",
              "       [0.91118354],\n",
              "       [0.99834836],\n",
              "       [0.0038128 ],\n",
              "       [0.14142488],\n",
              "       [0.1608513 ],\n",
              "       [0.9989967 ],\n",
              "       [0.99948287],\n",
              "       [0.25095618],\n",
              "       [0.1151756 ],\n",
              "       [0.9966342 ],\n",
              "       [0.05318951],\n",
              "       [0.34383857],\n",
              "       [0.9858992 ],\n",
              "       [0.10733105],\n",
              "       [0.0431639 ],\n",
              "       [0.94224113],\n",
              "       [0.38584292],\n",
              "       [0.39762986],\n",
              "       [0.9591782 ],\n",
              "       [0.02160622],\n",
              "       [0.05178143],\n",
              "       [0.01088205],\n",
              "       [0.01583551],\n",
              "       [0.11437492],\n",
              "       [0.97062624],\n",
              "       [0.02080027],\n",
              "       [0.40775737],\n",
              "       [0.48842156],\n",
              "       [0.06238236],\n",
              "       [0.28159907],\n",
              "       [0.11122715],\n",
              "       [0.3563447 ],\n",
              "       [0.9972812 ],\n",
              "       [0.6052985 ],\n",
              "       [0.13671899],\n",
              "       [0.18195246],\n",
              "       [0.173155  ],\n",
              "       [0.05838298],\n",
              "       [0.67362857],\n",
              "       [0.02475771],\n",
              "       [0.9097047 ],\n",
              "       [0.78569293],\n",
              "       [0.57446045],\n",
              "       [0.644269  ],\n",
              "       [0.7850436 ],\n",
              "       [0.09658267],\n",
              "       [0.29826406],\n",
              "       [0.43905464],\n",
              "       [0.92622286],\n",
              "       [0.24350542],\n",
              "       [0.21647118],\n",
              "       [0.37556076],\n",
              "       [0.01327455],\n",
              "       [0.10349756],\n",
              "       [0.35907003],\n",
              "       [0.78756934],\n",
              "       [0.11586957],\n",
              "       [0.9918429 ],\n",
              "       [0.90653855],\n",
              "       [0.8054353 ],\n",
              "       [0.9844691 ],\n",
              "       [0.14237016],\n",
              "       [0.06973136],\n",
              "       [0.8958662 ],\n",
              "       [0.2108067 ],\n",
              "       [0.02272623],\n",
              "       [0.1065626 ],\n",
              "       [0.13978663],\n",
              "       [0.0013961 ],\n",
              "       [0.852573  ],\n",
              "       [0.7925599 ],\n",
              "       [0.8088283 ],\n",
              "       [0.9292891 ],\n",
              "       [0.08704105],\n",
              "       [0.13418506],\n",
              "       [0.6986197 ],\n",
              "       [0.0157823 ],\n",
              "       [0.3037843 ],\n",
              "       [0.13021924],\n",
              "       [0.58774686],\n",
              "       [0.5805687 ],\n",
              "       [0.06054101],\n",
              "       [0.06642158],\n",
              "       [0.4716121 ],\n",
              "       [0.12782961],\n",
              "       [0.12320215],\n",
              "       [0.14596017],\n",
              "       [0.23040582],\n",
              "       [0.9988738 ],\n",
              "       [0.9846704 ],\n",
              "       [0.36870095],\n",
              "       [0.84018433],\n",
              "       [0.9918492 ],\n",
              "       [0.00127057],\n",
              "       [0.96864563],\n",
              "       [0.2890048 ],\n",
              "       [0.44405288],\n",
              "       [0.23587069],\n",
              "       [0.09239499],\n",
              "       [0.12646197],\n",
              "       [0.02725666],\n",
              "       [0.08921159],\n",
              "       [0.08706804],\n",
              "       [0.74372864],\n",
              "       [0.24966416],\n",
              "       [0.9940554 ],\n",
              "       [0.04614092],\n",
              "       [0.68558574],\n",
              "       [0.5463734 ],\n",
              "       [0.01635357],\n",
              "       [0.0612508 ],\n",
              "       [0.9633337 ],\n",
              "       [0.7447333 ],\n",
              "       [0.95947164],\n",
              "       [0.18055223],\n",
              "       [0.08416265],\n",
              "       [0.4405064 ],\n",
              "       [0.29684308],\n",
              "       [0.31022114],\n",
              "       [0.9918492 ],\n",
              "       [0.01103095],\n",
              "       [0.04659972],\n",
              "       [0.15249436],\n",
              "       [0.9961455 ],\n",
              "       [0.1932033 ],\n",
              "       [0.05588375],\n",
              "       [0.7850118 ],\n",
              "       [0.05043488],\n",
              "       [0.03165026],\n",
              "       [0.16966023],\n",
              "       [0.20466146],\n",
              "       [0.13290012],\n",
              "       [0.35359088],\n",
              "       [0.33085808],\n",
              "       [0.19129455],\n",
              "       [0.08824575],\n",
              "       [0.35590494],\n",
              "       [0.02076082],\n",
              "       [0.9421879 ],\n",
              "       [0.84237486],\n",
              "       [0.4970883 ],\n",
              "       [0.03388501],\n",
              "       [0.02644826],\n",
              "       [0.9862831 ],\n",
              "       [0.43820715],\n",
              "       [0.99954224],\n",
              "       [0.27274528],\n",
              "       [0.85856205],\n",
              "       [0.10744159],\n",
              "       [0.6980957 ],\n",
              "       [0.6690231 ],\n",
              "       [0.02213152],\n",
              "       [0.9776799 ],\n",
              "       [0.0951127 ],\n",
              "       [0.57830495],\n",
              "       [0.99846715],\n",
              "       [0.13413127],\n",
              "       [0.03487103],\n",
              "       [0.26714066],\n",
              "       [0.01219073],\n",
              "       [0.41835096],\n",
              "       [0.99985254],\n",
              "       [0.21072881],\n",
              "       [0.9385639 ],\n",
              "       [0.22737928],\n",
              "       [0.78322774],\n",
              "       [0.21764901],\n",
              "       [0.2649134 ],\n",
              "       [0.0195751 ],\n",
              "       [0.6290641 ],\n",
              "       [0.01666724],\n",
              "       [0.18262178],\n",
              "       [0.9466612 ],\n",
              "       [0.93728364],\n",
              "       [0.99603575],\n",
              "       [0.7450395 ],\n",
              "       [0.04541356],\n",
              "       [0.30937037],\n",
              "       [0.01734869],\n",
              "       [0.46674967],\n",
              "       [0.35218322],\n",
              "       [0.888741  ],\n",
              "       [0.03821199],\n",
              "       [0.76953036],\n",
              "       [0.81469405],\n",
              "       [0.28250387],\n",
              "       [0.20584783],\n",
              "       [0.21647118],\n",
              "       [0.1617244 ],\n",
              "       [0.3802985 ],\n",
              "       [0.61868256],\n",
              "       [0.9987948 ],\n",
              "       [0.05970737],\n",
              "       [0.00766546],\n",
              "       [0.02225013],\n",
              "       [0.21970795],\n",
              "       [0.22339492],\n",
              "       [0.02675651],\n",
              "       [0.8786317 ],\n",
              "       [0.09710342],\n",
              "       [0.1923961 ],\n",
              "       [0.24019624],\n",
              "       [0.21951999],\n",
              "       [0.93649864],\n",
              "       [0.1662283 ],\n",
              "       [0.48546922],\n",
              "       [0.33741206],\n",
              "       [0.01555983],\n",
              "       [0.10512301],\n",
              "       [0.999686  ],\n",
              "       [0.7984765 ],\n",
              "       [0.00492002],\n",
              "       [0.32312986],\n",
              "       [0.14466476],\n",
              "       [0.05963003],\n",
              "       [0.86865515],\n",
              "       [0.5495362 ],\n",
              "       [0.5956087 ],\n",
              "       [0.36739156],\n",
              "       [0.19307429],\n",
              "       [0.6628881 ],\n",
              "       [0.13894853],\n",
              "       [0.06784253],\n",
              "       [0.9075669 ],\n",
              "       [0.15217538],\n",
              "       [0.3358696 ],\n",
              "       [0.98090774],\n",
              "       [0.31013027],\n",
              "       [0.36965925],\n",
              "       [0.0013961 ],\n",
              "       [0.28018728],\n",
              "       [0.83132374],\n",
              "       [0.9997868 ],\n",
              "       [0.6682289 ],\n",
              "       [0.04499138],\n",
              "       [0.9903949 ],\n",
              "       [0.41873214],\n",
              "       [0.8772739 ],\n",
              "       [0.41873214],\n",
              "       [0.9940355 ],\n",
              "       [0.00958706],\n",
              "       [0.4192591 ],\n",
              "       [0.11633568],\n",
              "       [0.9738733 ],\n",
              "       [0.25915262],\n",
              "       [0.48252255],\n",
              "       [0.06607819],\n",
              "       [0.35043535],\n",
              "       [0.10938478],\n",
              "       [0.01972318],\n",
              "       [0.21876293],\n",
              "       [0.07988551],\n",
              "       [0.08053737],\n",
              "       [0.82475054],\n",
              "       [0.02408969],\n",
              "       [0.11082342],\n",
              "       [0.03160959],\n",
              "       [0.0152311 ],\n",
              "       [0.15818839],\n",
              "       [0.6592593 ],\n",
              "       [0.06786553],\n",
              "       [0.619926  ],\n",
              "       [0.1427791 ],\n",
              "       [0.2512968 ],\n",
              "       [0.8750592 ],\n",
              "       [0.17548917],\n",
              "       [0.0520906 ],\n",
              "       [0.06673346],\n",
              "       [0.00693277],\n",
              "       [0.9908427 ],\n",
              "       [0.0152311 ],\n",
              "       [0.39106438],\n",
              "       [0.991608  ],\n",
              "       [0.9931813 ],\n",
              "       [0.9976284 ],\n",
              "       [0.99991643],\n",
              "       [0.9995807 ],\n",
              "       [0.19947653],\n",
              "       [0.10362565],\n",
              "       [0.25165778],\n",
              "       [0.5176162 ],\n",
              "       [0.99719846],\n",
              "       [0.53349143],\n",
              "       [0.23987374],\n",
              "       [0.52254117],\n",
              "       [0.7515717 ],\n",
              "       [0.03121797],\n",
              "       [0.00513761],\n",
              "       [0.09133306],\n",
              "       [0.32787153],\n",
              "       [0.00912178],\n",
              "       [0.06644457],\n",
              "       [0.42427975],\n",
              "       [0.98913854],\n",
              "       [0.02286743],\n",
              "       [0.91501653],\n",
              "       [0.69741255],\n",
              "       [0.06685159],\n",
              "       [0.30766055],\n",
              "       [0.13941845],\n",
              "       [0.8161934 ],\n",
              "       [0.52448475],\n",
              "       [0.0087426 ]], dtype=float32)"
            ]
          },
          "metadata": {},
          "execution_count": 30
        }
      ]
    },
    {
      "cell_type": "code",
      "source": [
        "model_1_preds = tf.squeeze(tf.round(model_1_pred_probs))\n",
        "model_1_preds"
      ],
      "metadata": {
        "colab": {
          "base_uri": "https://localhost:8080/"
        },
        "id": "MrX5CYTInWn1",
        "outputId": "b108d60f-b831-48b1-e568-dc6bba1d7727"
      },
      "execution_count": 31,
      "outputs": [
        {
          "output_type": "execute_result",
          "data": {
            "text/plain": [
              "<tf.Tensor: shape=(762,), dtype=float32, numpy=\n",
              "array([0., 1., 1., 0., 0., 1., 1., 1., 1., 0., 0., 1., 0., 0., 0., 0., 0.,\n",
              "       0., 0., 1., 1., 0., 0., 0., 1., 1., 0., 0., 0., 0., 1., 0., 0., 0.,\n",
              "       0., 0., 1., 0., 0., 1., 0., 0., 0., 0., 1., 1., 0., 1., 0., 1., 0.,\n",
              "       0., 0., 0., 0., 0., 0., 1., 0., 0., 0., 1., 1., 0., 1., 1., 1., 0.,\n",
              "       0., 0., 0., 0., 1., 0., 0., 0., 0., 1., 0., 1., 0., 0., 1., 0., 0.,\n",
              "       0., 0., 0., 1., 1., 1., 0., 1., 0., 1., 1., 1., 1., 1., 1., 1., 0.,\n",
              "       0., 1., 1., 0., 1., 1., 0., 0., 1., 0., 0., 0., 0., 0., 0., 1., 1.,\n",
              "       0., 1., 0., 0., 1., 0., 0., 1., 0., 0., 1., 0., 1., 1., 1., 1., 0.,\n",
              "       1., 0., 0., 0., 1., 0., 0., 1., 0., 1., 0., 0., 0., 1., 0., 0., 0.,\n",
              "       0., 0., 1., 1., 0., 1., 0., 1., 0., 0., 1., 0., 0., 1., 0., 1., 0.,\n",
              "       1., 1., 1., 0., 1., 0., 0., 0., 1., 1., 0., 1., 1., 1., 1., 0., 0.,\n",
              "       1., 0., 0., 0., 1., 0., 0., 0., 0., 0., 0., 1., 0., 0., 1., 1., 0.,\n",
              "       0., 1., 1., 1., 1., 1., 0., 1., 0., 0., 0., 0., 1., 1., 1., 0., 1.,\n",
              "       0., 0., 0., 1., 0., 1., 1., 1., 1., 0., 0., 1., 0., 1., 0., 1., 0.,\n",
              "       0., 0., 0., 0., 1., 1., 0., 0., 1., 0., 0., 0., 0., 1., 0., 0., 1.,\n",
              "       0., 1., 1., 0., 0., 0., 0., 0., 1., 1., 1., 1., 0., 0., 0., 0., 0.,\n",
              "       1., 0., 0., 1., 0., 0., 1., 0., 0., 0., 1., 1., 1., 1., 1., 0., 1.,\n",
              "       0., 1., 0., 0., 0., 0., 1., 0., 1., 0., 1., 0., 0., 0., 1., 0., 0.,\n",
              "       0., 0., 0., 0., 0., 1., 0., 0., 1., 0., 1., 0., 0., 0., 0., 0., 1.,\n",
              "       0., 1., 0., 0., 1., 0., 1., 0., 0., 1., 0., 0., 1., 0., 0., 1., 1.,\n",
              "       0., 0., 1., 1., 1., 0., 1., 0., 0., 0., 0., 1., 0., 0., 0., 0., 1.,\n",
              "       1., 1., 0., 0., 0., 0., 1., 0., 0., 0., 0., 1., 0., 0., 0., 0., 0.,\n",
              "       0., 0., 0., 0., 0., 1., 1., 0., 1., 0., 0., 1., 1., 0., 1., 0., 1.,\n",
              "       0., 0., 1., 0., 1., 0., 0., 0., 0., 1., 0., 1., 1., 0., 1., 0., 0.,\n",
              "       0., 1., 1., 0., 0., 0., 1., 1., 0., 0., 1., 0., 1., 0., 1., 1., 0.,\n",
              "       0., 0., 1., 1., 0., 0., 0., 0., 0., 0., 0., 1., 0., 1., 1., 0., 1.,\n",
              "       0., 0., 0., 1., 0., 0., 0., 0., 0., 1., 1., 1., 1., 1., 0., 0., 1.,\n",
              "       1., 1., 0., 0., 0., 1., 1., 0., 0., 1., 0., 0., 1., 0., 0., 1., 0.,\n",
              "       0., 1., 0., 0., 0., 0., 0., 1., 0., 0., 0., 0., 0., 0., 0., 1., 1.,\n",
              "       0., 0., 0., 0., 1., 0., 1., 1., 1., 1., 1., 0., 0., 0., 1., 0., 0.,\n",
              "       0., 0., 0., 0., 1., 0., 1., 1., 1., 1., 0., 0., 1., 0., 0., 0., 0.,\n",
              "       0., 1., 1., 1., 1., 0., 0., 1., 0., 0., 0., 1., 1., 0., 0., 0., 0.,\n",
              "       0., 0., 0., 1., 1., 0., 1., 1., 0., 1., 0., 0., 0., 0., 0., 0., 0.,\n",
              "       0., 1., 0., 1., 0., 1., 1., 0., 0., 1., 1., 1., 0., 0., 0., 0., 0.,\n",
              "       1., 0., 0., 0., 1., 0., 0., 1., 0., 0., 0., 0., 0., 0., 0., 0., 0.,\n",
              "       0., 0., 1., 1., 0., 0., 0., 1., 0., 1., 0., 1., 0., 1., 1., 0., 1.,\n",
              "       0., 1., 1., 0., 0., 0., 0., 0., 1., 0., 1., 0., 1., 0., 0., 0., 1.,\n",
              "       0., 0., 1., 1., 1., 1., 0., 0., 0., 0., 0., 1., 0., 1., 1., 0., 0.,\n",
              "       0., 0., 0., 1., 1., 0., 0., 0., 0., 0., 0., 1., 0., 0., 0., 0., 1.,\n",
              "       0., 0., 0., 0., 0., 1., 1., 0., 0., 0., 0., 1., 1., 1., 0., 0., 1.,\n",
              "       0., 0., 1., 0., 0., 1., 0., 0., 0., 0., 1., 1., 1., 0., 1., 0., 1.,\n",
              "       0., 1., 0., 0., 0., 1., 0., 0., 0., 0., 0., 0., 0., 0., 0., 1., 0.,\n",
              "       0., 0., 0., 0., 1., 0., 1., 0., 0., 1., 0., 0., 0., 0., 1., 0., 0.,\n",
              "       1., 1., 1., 1., 1., 0., 0., 0., 1., 1., 1., 0., 1., 1., 0., 0., 0.,\n",
              "       0., 0., 0., 0., 1., 0., 1., 1., 0., 0., 0., 1., 1., 0.],\n",
              "      dtype=float32)>"
            ]
          },
          "metadata": {},
          "execution_count": 31
        }
      ]
    },
    {
      "cell_type": "code",
      "source": [
        "model_1_results = calculate_results(val_labels, model_1_preds)\n",
        "model_1_results, baseline_results"
      ],
      "metadata": {
        "colab": {
          "base_uri": "https://localhost:8080/"
        },
        "id": "YSrVraEgngI_",
        "outputId": "f800c301-c272-4399-9cf8-546f6b5d7b73"
      },
      "execution_count": 32,
      "outputs": [
        {
          "output_type": "execute_result",
          "data": {
            "text/plain": [
              "({'accuracy': 78.08398950131233,\n",
              "  'f1': 0.777681907957685,\n",
              "  'precision': 0.7856875884556138,\n",
              "  'recall': 0.7808398950131233},\n",
              " {'accuracy': 79.26509186351706,\n",
              "  'f1': 0.7862189758049549,\n",
              "  'precision': 0.8111390004213173,\n",
              "  'recall': 0.7926509186351706})"
            ]
          },
          "metadata": {},
          "execution_count": 32
        }
      ]
    },
    {
      "cell_type": "code",
      "source": [
        "embed_weights = model_1.get_layer(\"embedding\").get_weights()[0]\n",
        "embed_weights.shape"
      ],
      "metadata": {
        "colab": {
          "base_uri": "https://localhost:8080/"
        },
        "id": "nMDqa0bjodTZ",
        "outputId": "576cd49b-4c68-4a3e-c03f-75fe991d11e1"
      },
      "execution_count": 33,
      "outputs": [
        {
          "output_type": "execute_result",
          "data": {
            "text/plain": [
              "(10000, 128)"
            ]
          },
          "metadata": {},
          "execution_count": 33
        }
      ]
    },
    {
      "cell_type": "markdown",
      "source": [
        "# Model 2: LSTM Model"
      ],
      "metadata": {
        "id": "SD23njEklQqb"
      }
    },
    {
      "cell_type": "code",
      "source": [
        "from tensorflow.keras import layers\n",
        "\n",
        "inputs = layers.Input(shape=(1,), dtype=\"string\")\n",
        "x = text_vectorizer(inputs)\n",
        "x = embedding(x)\n",
        "x = layers.LSTM(64, return_sequences=True)(x)\n",
        "x = layers.LSTM(64)(x)\n",
        "x = layers.Dense(64, activation=\"relu\")(x)\n",
        "outputs = layers.Dense(1, activation=\"sigmoid\")(x)\n",
        "model_2 = tf.keras.Model(inputs, outputs, name=\"model_2_LSTM\")"
      ],
      "metadata": {
        "id": "VMHu_qPfqah-"
      },
      "execution_count": 34,
      "outputs": []
    },
    {
      "cell_type": "code",
      "source": [
        "model_2.compile(\n",
        "    loss=\"binary_crossentropy\",\n",
        "    optimizer=tf.keras.optimizers.Adam(),\n",
        "    metrics=[\"accuracy\"]\n",
        ")"
      ],
      "metadata": {
        "id": "Ne5OLLd2nOBt"
      },
      "execution_count": 35,
      "outputs": []
    },
    {
      "cell_type": "code",
      "source": [
        "model_2_history = model_2.fit(\n",
        "    train_sentences,\n",
        "    train_labels,\n",
        "    epochs=5,\n",
        "    validation_data=(val_sentences, val_labels),\n",
        "    callbacks=[create_tensorboard_callback(SAVE_DIR, \"model_2_LSTM\")]\n",
        ")"
      ],
      "metadata": {
        "colab": {
          "base_uri": "https://localhost:8080/"
        },
        "id": "7IiH_6RxnV0x",
        "outputId": "616ea4d5-2cd8-4fc0-938a-48388eb0505f"
      },
      "execution_count": 36,
      "outputs": [
        {
          "output_type": "stream",
          "name": "stdout",
          "text": [
            "Saving TensorBoard log files to: model_logs/model_2_LSTM/20220707-063536\n",
            "Epoch 1/5\n",
            "215/215 [==============================] - 16s 21ms/step - loss: 0.2223 - accuracy: 0.9229 - val_loss: 0.6159 - val_accuracy: 0.7795\n",
            "Epoch 2/5\n",
            "215/215 [==============================] - 2s 11ms/step - loss: 0.1594 - accuracy: 0.9400 - val_loss: 0.6595 - val_accuracy: 0.7822\n",
            "Epoch 3/5\n",
            "215/215 [==============================] - 2s 8ms/step - loss: 0.1311 - accuracy: 0.9520 - val_loss: 0.6208 - val_accuracy: 0.7717\n",
            "Epoch 4/5\n",
            "215/215 [==============================] - 2s 8ms/step - loss: 0.1090 - accuracy: 0.9566 - val_loss: 0.7517 - val_accuracy: 0.7743\n",
            "Epoch 5/5\n",
            "215/215 [==============================] - 2s 8ms/step - loss: 0.0802 - accuracy: 0.9672 - val_loss: 1.1320 - val_accuracy: 0.7717\n"
          ]
        }
      ]
    },
    {
      "cell_type": "code",
      "source": [
        "model_2_pred_probs = model_2.predict(val_sentences)\n",
        "model_2_pred_probs[:10]"
      ],
      "metadata": {
        "colab": {
          "base_uri": "https://localhost:8080/"
        },
        "id": "QsysZL4Xnt1Y",
        "outputId": "d0956c3a-c7e1-4eb3-e993-4916813ea4f6"
      },
      "execution_count": 37,
      "outputs": [
        {
          "output_type": "execute_result",
          "data": {
            "text/plain": [
              "array([[2.2254833e-03],\n",
              "       [7.8139675e-01],\n",
              "       [9.9996424e-01],\n",
              "       [1.2614611e-02],\n",
              "       [5.4340591e-05],\n",
              "       [9.9969566e-01],\n",
              "       [9.6614230e-01],\n",
              "       [9.9997699e-01],\n",
              "       [9.9996305e-01],\n",
              "       [4.2008683e-01]], dtype=float32)"
            ]
          },
          "metadata": {},
          "execution_count": 37
        }
      ]
    },
    {
      "cell_type": "code",
      "source": [
        "model_2_preds = tf.squeeze(tf.round(model_2_pred_probs))\n",
        "model_2_preds[:10]"
      ],
      "metadata": {
        "colab": {
          "base_uri": "https://localhost:8080/"
        },
        "id": "Q2txykyan5yv",
        "outputId": "47b4fa6c-bf54-46e4-8115-a7822fb86b0b"
      },
      "execution_count": 38,
      "outputs": [
        {
          "output_type": "execute_result",
          "data": {
            "text/plain": [
              "<tf.Tensor: shape=(10,), dtype=float32, numpy=array([0., 1., 1., 0., 0., 1., 1., 1., 1., 0.], dtype=float32)>"
            ]
          },
          "metadata": {},
          "execution_count": 38
        }
      ]
    },
    {
      "cell_type": "code",
      "source": [
        "model_2_results = calculate_results(y_true=val_labels, y_pred=model_2_preds)\n",
        "model_2_results"
      ],
      "metadata": {
        "colab": {
          "base_uri": "https://localhost:8080/"
        },
        "id": "RBkiUvDToFKY",
        "outputId": "9d6637a5-e5c3-4760-ccd5-6854909513bb"
      },
      "execution_count": 39,
      "outputs": [
        {
          "output_type": "execute_result",
          "data": {
            "text/plain": [
              "{'accuracy': 77.16535433070865,\n",
              " 'f1': 0.7688960790251899,\n",
              " 'precision': 0.7747861668850706,\n",
              " 'recall': 0.7716535433070866}"
            ]
          },
          "metadata": {},
          "execution_count": 39
        }
      ]
    },
    {
      "cell_type": "markdown",
      "source": [
        "# Model 3: GRU Model"
      ],
      "metadata": {
        "id": "Flvco2JPoiCJ"
      }
    },
    {
      "cell_type": "code",
      "source": [
        "from tensorflow.keras import layers\n",
        "\n",
        "inputs = layers.Input(shape=(1,), dtype=\"string\")\n",
        "x = text_vectorizer(inputs)\n",
        "x = embedding(x)\n",
        "#x = layers.GRU(64, return_sequences=True)(x)\n",
        "#x = layers.LSTM(64, return_sequences=True)(x)\n",
        "x = layers.GRU(64)(x)\n",
        "x = layers.Dense(64, activation=\"relu\")(x)\n",
        "outputs = layers.Dense(1, activation=\"sigmoid\")(x)\n",
        "\n",
        "model_3 = tf.keras.Model(inputs, outputs, name=\"model_3_GRU\")"
      ],
      "metadata": {
        "id": "mGmAJLvOokz8"
      },
      "execution_count": 40,
      "outputs": []
    },
    {
      "cell_type": "code",
      "source": [
        "model_3.compile(\n",
        "    loss=\"binary_crossentropy\",\n",
        "    optimizer=tf.keras.optimizers.Adam(),\n",
        "    metrics=[\"accuracy\"]\n",
        ")"
      ],
      "metadata": {
        "id": "GesF39RKp2d_"
      },
      "execution_count": 41,
      "outputs": []
    },
    {
      "cell_type": "code",
      "source": [
        "model_3_history = model_3.fit(\n",
        "    train_sentences,\n",
        "    train_labels,\n",
        "    epochs=5,\n",
        "    validation_data=(val_sentences, val_labels),\n",
        "    callbacks=[create_tensorboard_callback(SAVE_DIR, \"model_2_GRU\")]\n",
        ")"
      ],
      "metadata": {
        "colab": {
          "base_uri": "https://localhost:8080/"
        },
        "id": "v7FE10mmqFLD",
        "outputId": "ceaa9e84-a0b0-42b4-9cc2-a43461eaed7b"
      },
      "execution_count": 42,
      "outputs": [
        {
          "output_type": "stream",
          "name": "stdout",
          "text": [
            "Saving TensorBoard log files to: model_logs/model_2_GRU/20220707-063605\n",
            "Epoch 1/5\n",
            "215/215 [==============================] - 3s 8ms/step - loss: 0.1592 - accuracy: 0.9390 - val_loss: 0.6300 - val_accuracy: 0.7782\n",
            "Epoch 2/5\n",
            "215/215 [==============================] - 1s 6ms/step - loss: 0.0818 - accuracy: 0.9704 - val_loss: 0.8333 - val_accuracy: 0.7717\n",
            "Epoch 3/5\n",
            "215/215 [==============================] - 1s 6ms/step - loss: 0.0694 - accuracy: 0.9715 - val_loss: 0.9520 - val_accuracy: 0.7730\n",
            "Epoch 4/5\n",
            "215/215 [==============================] - 2s 8ms/step - loss: 0.0552 - accuracy: 0.9774 - val_loss: 1.4104 - val_accuracy: 0.7769\n",
            "Epoch 5/5\n",
            "215/215 [==============================] - 2s 8ms/step - loss: 0.0517 - accuracy: 0.9771 - val_loss: 1.2938 - val_accuracy: 0.7677\n"
          ]
        }
      ]
    },
    {
      "cell_type": "code",
      "source": [
        "model_3_pred_probs = model_3.predict(val_sentences)\n",
        "model_3_pred_probs[:10]"
      ],
      "metadata": {
        "colab": {
          "base_uri": "https://localhost:8080/"
        },
        "id": "7Z6AoDwcqN0t",
        "outputId": "fddeeb3d-3b10-4a8c-deb8-9e4ca2738eb3"
      },
      "execution_count": 43,
      "outputs": [
        {
          "output_type": "execute_result",
          "data": {
            "text/plain": [
              "array([[1.3237021e-02],\n",
              "       [8.2805437e-01],\n",
              "       [9.9999547e-01],\n",
              "       [3.9076250e-02],\n",
              "       [1.2887521e-05],\n",
              "       [9.9997807e-01],\n",
              "       [9.8104340e-01],\n",
              "       [9.9999845e-01],\n",
              "       [9.9999738e-01],\n",
              "       [6.8230408e-01]], dtype=float32)"
            ]
          },
          "metadata": {},
          "execution_count": 43
        }
      ]
    },
    {
      "cell_type": "code",
      "source": [
        "model_3_preds = tf.squeeze(tf.round(model_3_pred_probs))\n",
        "model_3_preds[:10]"
      ],
      "metadata": {
        "colab": {
          "base_uri": "https://localhost:8080/"
        },
        "id": "ZjGJeWhdqTes",
        "outputId": "7f7b1aa2-1423-4176-ae56-52eda05e0629"
      },
      "execution_count": 44,
      "outputs": [
        {
          "output_type": "execute_result",
          "data": {
            "text/plain": [
              "<tf.Tensor: shape=(10,), dtype=float32, numpy=array([0., 1., 1., 0., 0., 1., 1., 1., 1., 1.], dtype=float32)>"
            ]
          },
          "metadata": {},
          "execution_count": 44
        }
      ]
    },
    {
      "cell_type": "code",
      "source": [
        "model_3_results = calculate_results(y_true=val_labels, y_pred=model_3_preds)\n",
        "model_3_results"
      ],
      "metadata": {
        "colab": {
          "base_uri": "https://localhost:8080/"
        },
        "id": "ztNOVBWmqbDp",
        "outputId": "72e2205d-3df9-4ae3-f36e-ae94662e725d"
      },
      "execution_count": 45,
      "outputs": [
        {
          "output_type": "execute_result",
          "data": {
            "text/plain": [
              "{'accuracy': 76.77165354330708,\n",
              " 'f1': 0.7656749923220023,\n",
              " 'precision': 0.7691343474319641,\n",
              " 'recall': 0.7677165354330708}"
            ]
          },
          "metadata": {},
          "execution_count": 45
        }
      ]
    },
    {
      "cell_type": "code",
      "source": [
        "baseline_results"
      ],
      "metadata": {
        "id": "mlxNie1kqhDl",
        "outputId": "895c6b3e-e53d-4e18-d4b7-ac4286252f79",
        "colab": {
          "base_uri": "https://localhost:8080/"
        }
      },
      "execution_count": 46,
      "outputs": [
        {
          "output_type": "execute_result",
          "data": {
            "text/plain": [
              "{'accuracy': 79.26509186351706,\n",
              " 'f1': 0.7862189758049549,\n",
              " 'precision': 0.8111390004213173,\n",
              " 'recall': 0.7926509186351706}"
            ]
          },
          "metadata": {},
          "execution_count": 46
        }
      ]
    },
    {
      "cell_type": "markdown",
      "source": [
        "# Model 4: Bi-Directional RNN Model"
      ],
      "metadata": {
        "id": "xJHigSRY3w51"
      }
    },
    {
      "cell_type": "code",
      "source": [
        "from tensorflow.keras import layers\n",
        "\n",
        "inputs = layers.Input(shape=(1,), dtype=\"string\")\n",
        "x = text_vectorizer(inputs)\n",
        "x = embedding(x)\n",
        "# x = layers.Bidirectional(layers.LSTM(64, return_sequences=True))(x)\n",
        "x = layers.Bidirectional(layers.LSTM(64))(x)\n",
        "x = layers.Dense(64, activation=\"relu\")(x)\n",
        "outputs = layers.Dense(1, activation=\"sigmoid\")(x)\n",
        "\n",
        "model_4 = tf.keras.Model(inputs, outputs, name=\"model_4_Bidirectional\")"
      ],
      "metadata": {
        "id": "jVJFkx7m3v5o"
      },
      "execution_count": 47,
      "outputs": []
    },
    {
      "cell_type": "code",
      "source": [
        "model_4.compile(\n",
        "    loss=\"binary_crossentropy\",\n",
        "    optimizer=tf.keras.optimizers.Adam(),\n",
        "    metrics=[\"accuracy\"]\n",
        ")"
      ],
      "metadata": {
        "id": "5WDzIGim5QC3"
      },
      "execution_count": 48,
      "outputs": []
    },
    {
      "cell_type": "code",
      "source": [
        "model_4_history = model_4.fit(\n",
        "    train_sentences,\n",
        "    train_labels,\n",
        "    epochs=5,\n",
        "    validation_data=(val_sentences, val_labels),\n",
        "    callbacks=[create_tensorboard_callback(SAVE_DIR, \"model_4_GRU\")]\n",
        ")"
      ],
      "metadata": {
        "colab": {
          "base_uri": "https://localhost:8080/"
        },
        "id": "N8WORMtg5dFU",
        "outputId": "c0bd478f-f81c-4568-d17c-552ab5edfff4"
      },
      "execution_count": 49,
      "outputs": [
        {
          "output_type": "stream",
          "name": "stdout",
          "text": [
            "Saving TensorBoard log files to: model_logs/model_4_GRU/20220707-063620\n",
            "Epoch 1/5\n",
            "215/215 [==============================] - 10s 18ms/step - loss: 0.1058 - accuracy: 0.9672 - val_loss: 1.1832 - val_accuracy: 0.7717\n",
            "Epoch 2/5\n",
            "215/215 [==============================] - 3s 12ms/step - loss: 0.0513 - accuracy: 0.9768 - val_loss: 1.0909 - val_accuracy: 0.7703\n",
            "Epoch 3/5\n",
            "215/215 [==============================] - 3s 13ms/step - loss: 0.0493 - accuracy: 0.9766 - val_loss: 1.0699 - val_accuracy: 0.7638\n",
            "Epoch 4/5\n",
            "215/215 [==============================] - 3s 12ms/step - loss: 0.0426 - accuracy: 0.9793 - val_loss: 1.7034 - val_accuracy: 0.7651\n",
            "Epoch 5/5\n",
            "215/215 [==============================] - 2s 9ms/step - loss: 0.0399 - accuracy: 0.9797 - val_loss: 1.5510 - val_accuracy: 0.7730\n"
          ]
        }
      ]
    },
    {
      "cell_type": "code",
      "source": [
        "model_4_pred_probs = model_4.predict(val_sentences)\n",
        "model_4_pred_probs[:10]"
      ],
      "metadata": {
        "colab": {
          "base_uri": "https://localhost:8080/"
        },
        "id": "KCBZJ0PR5qfl",
        "outputId": "d5800a26-cfb8-40c2-a3ca-f9aa1a8fec1b"
      },
      "execution_count": 50,
      "outputs": [
        {
          "output_type": "execute_result",
          "data": {
            "text/plain": [
              "array([[2.6807063e-03],\n",
              "       [7.8552288e-01],\n",
              "       [9.9998736e-01],\n",
              "       [2.6989686e-01],\n",
              "       [8.0103437e-06],\n",
              "       [9.9986851e-01],\n",
              "       [8.3538300e-01],\n",
              "       [9.9999928e-01],\n",
              "       [9.9999619e-01],\n",
              "       [9.9012589e-01]], dtype=float32)"
            ]
          },
          "metadata": {},
          "execution_count": 50
        }
      ]
    },
    {
      "cell_type": "code",
      "source": [
        "model_4_preds = tf.squeeze(tf.round(model_4_pred_probs))\n",
        "model_4_preds[:10]"
      ],
      "metadata": {
        "colab": {
          "base_uri": "https://localhost:8080/"
        },
        "id": "QDTootHu5nGk",
        "outputId": "6375a1e7-cc4d-4177-bf0a-707dc639dd59"
      },
      "execution_count": 51,
      "outputs": [
        {
          "output_type": "execute_result",
          "data": {
            "text/plain": [
              "<tf.Tensor: shape=(10,), dtype=float32, numpy=array([0., 1., 1., 0., 0., 1., 1., 1., 1., 1.], dtype=float32)>"
            ]
          },
          "metadata": {},
          "execution_count": 51
        }
      ]
    },
    {
      "cell_type": "code",
      "source": [
        "model_4_results = calculate_results(y_true=val_labels, y_pred=model_4_preds)\n",
        "model_4_results"
      ],
      "metadata": {
        "colab": {
          "base_uri": "https://localhost:8080/"
        },
        "id": "ExKLYRK05uZ1",
        "outputId": "e7b81065-3841-45ab-ebd9-e318259f456b"
      },
      "execution_count": 52,
      "outputs": [
        {
          "output_type": "execute_result",
          "data": {
            "text/plain": [
              "{'accuracy': 77.29658792650919,\n",
              " 'f1': 0.7704381702262061,\n",
              " 'precision': 0.775649278370019,\n",
              " 'recall': 0.7729658792650919}"
            ]
          },
          "metadata": {},
          "execution_count": 52
        }
      ]
    },
    {
      "cell_type": "markdown",
      "source": [
        "# Model 5: Conv1D Model"
      ],
      "metadata": {
        "id": "LDqVb_NHncUq"
      }
    },
    {
      "cell_type": "code",
      "source": [
        "import tensorflow as tf\n",
        "from tensorflow.keras import layers\n",
        "\n",
        "inputs = layers.Input(shape=(1,), dtype=\"string\")\n",
        "\n",
        "x = text_vectorizer(inputs)\n",
        "x = embedding(x)\n",
        "x = layers.Conv1D(filters=64, kernel_size=5, strides=1, activation=\"relu\", padding=\"valid\")(x)\n",
        "x = layers.GlobalMaxPool1D()(x)\n",
        "\n",
        "outputs = layers.Dense(1, activation=\"sigmoid\")(x)\n",
        "\n",
        "model_5 = tf.keras.Model(inputs, outputs, name=\"model_5_Conv1D\")"
      ],
      "metadata": {
        "id": "wGWnxNpmng89"
      },
      "execution_count": 53,
      "outputs": []
    },
    {
      "cell_type": "code",
      "source": [
        "model_5.compile(\n",
        "    loss=\"binary_crossentropy\",\n",
        "    optimizer=tf.keras.optimizers.Adam(),\n",
        "    metrics=[\"accuracy\"]\n",
        ")\n",
        "\n",
        "model_5.summary()"
      ],
      "metadata": {
        "colab": {
          "base_uri": "https://localhost:8080/"
        },
        "id": "URlWCScvq5JT",
        "outputId": "f816aa39-0991-45ef-f145-d35f30015107"
      },
      "execution_count": 54,
      "outputs": [
        {
          "output_type": "stream",
          "name": "stdout",
          "text": [
            "Model: \"model_5_Conv1D\"\n",
            "_________________________________________________________________\n",
            " Layer (type)                Output Shape              Param #   \n",
            "=================================================================\n",
            " input_5 (InputLayer)        [(None, 1)]               0         \n",
            "                                                                 \n",
            " text_vectorization (TextVec  (None, 15)               0         \n",
            " torization)                                                     \n",
            "                                                                 \n",
            " embedding (Embedding)       (None, 15, 128)           1280000   \n",
            "                                                                 \n",
            " conv1d (Conv1D)             (None, 11, 64)            41024     \n",
            "                                                                 \n",
            " global_max_pooling1d (Globa  (None, 64)               0         \n",
            " lMaxPooling1D)                                                  \n",
            "                                                                 \n",
            " dense_7 (Dense)             (None, 1)                 65        \n",
            "                                                                 \n",
            "=================================================================\n",
            "Total params: 1,321,089\n",
            "Trainable params: 1,321,089\n",
            "Non-trainable params: 0\n",
            "_________________________________________________________________\n"
          ]
        }
      ]
    },
    {
      "cell_type": "code",
      "source": [
        "model_5_history = model_5.fit(\n",
        "    train_sentences,\n",
        "    train_labels,\n",
        "    epochs=10,\n",
        "    validation_data=(val_sentences, val_labels),\n",
        "    callbacks=[create_tensorboard_callback(SAVE_DIR, \"Conv1D\")]\n",
        ")"
      ],
      "metadata": {
        "colab": {
          "base_uri": "https://localhost:8080/"
        },
        "id": "k_7CkdFgrFNW",
        "outputId": "99f51a38-4592-4086-8516-8ee8dc496e2d"
      },
      "execution_count": 55,
      "outputs": [
        {
          "output_type": "stream",
          "name": "stdout",
          "text": [
            "Saving TensorBoard log files to: model_logs/Conv1D/20220707-063640\n",
            "Epoch 1/10\n",
            "215/215 [==============================] - 9s 6ms/step - loss: 0.1249 - accuracy: 0.9607 - val_loss: 0.9010 - val_accuracy: 0.7703\n",
            "Epoch 2/10\n",
            "215/215 [==============================] - 1s 5ms/step - loss: 0.0761 - accuracy: 0.9727 - val_loss: 1.0352 - val_accuracy: 0.7612\n",
            "Epoch 3/10\n",
            "215/215 [==============================] - 1s 5ms/step - loss: 0.0633 - accuracy: 0.9749 - val_loss: 1.1485 - val_accuracy: 0.7638\n",
            "Epoch 4/10\n",
            "215/215 [==============================] - 1s 5ms/step - loss: 0.0550 - accuracy: 0.9784 - val_loss: 1.1314 - val_accuracy: 0.7585\n",
            "Epoch 5/10\n",
            "215/215 [==============================] - 1s 5ms/step - loss: 0.0511 - accuracy: 0.9777 - val_loss: 1.2094 - val_accuracy: 0.7507\n",
            "Epoch 6/10\n",
            "215/215 [==============================] - 1s 5ms/step - loss: 0.0465 - accuracy: 0.9812 - val_loss: 1.2862 - val_accuracy: 0.7493\n",
            "Epoch 7/10\n",
            "215/215 [==============================] - 1s 5ms/step - loss: 0.0479 - accuracy: 0.9790 - val_loss: 1.2101 - val_accuracy: 0.7585\n",
            "Epoch 8/10\n",
            "215/215 [==============================] - 1s 5ms/step - loss: 0.0452 - accuracy: 0.9804 - val_loss: 1.3090 - val_accuracy: 0.7480\n",
            "Epoch 9/10\n",
            "215/215 [==============================] - 1s 5ms/step - loss: 0.0434 - accuracy: 0.9809 - val_loss: 1.2587 - val_accuracy: 0.7585\n",
            "Epoch 10/10\n",
            "215/215 [==============================] - 1s 5ms/step - loss: 0.0419 - accuracy: 0.9816 - val_loss: 1.3964 - val_accuracy: 0.7480\n"
          ]
        }
      ]
    },
    {
      "cell_type": "code",
      "source": [
        "model_5_pred_probs = model_5.predict(val_sentences)\n",
        "model_5_pred_probs[:10]"
      ],
      "metadata": {
        "colab": {
          "base_uri": "https://localhost:8080/"
        },
        "id": "cvFXV1JxrGJG",
        "outputId": "e5e20594-adec-429c-9ce7-85cb3f0af368"
      },
      "execution_count": 56,
      "outputs": [
        {
          "output_type": "execute_result",
          "data": {
            "text/plain": [
              "array([[3.3885188e-02],\n",
              "       [8.5330218e-01],\n",
              "       [9.9974757e-01],\n",
              "       [1.8715961e-02],\n",
              "       [2.3789521e-07],\n",
              "       [9.7739226e-01],\n",
              "       [8.4594804e-01],\n",
              "       [9.9677163e-01],\n",
              "       [9.9999917e-01],\n",
              "       [8.4055495e-01]], dtype=float32)"
            ]
          },
          "metadata": {},
          "execution_count": 56
        }
      ]
    },
    {
      "cell_type": "code",
      "source": [
        "model_5_preds = tf.squeeze(tf.round(model_5_pred_probs))\n",
        "model_5_preds[:10]"
      ],
      "metadata": {
        "colab": {
          "base_uri": "https://localhost:8080/"
        },
        "id": "_fa4gvKVrlxR",
        "outputId": "d035883b-9a9e-46d5-8f1f-b851c3ef6659"
      },
      "execution_count": 57,
      "outputs": [
        {
          "output_type": "execute_result",
          "data": {
            "text/plain": [
              "<tf.Tensor: shape=(10,), dtype=float32, numpy=array([0., 1., 1., 0., 0., 1., 1., 1., 1., 1.], dtype=float32)>"
            ]
          },
          "metadata": {},
          "execution_count": 57
        }
      ]
    },
    {
      "cell_type": "code",
      "source": [
        "model_5_results = calculate_results(y_true=val_labels, y_pred=model_5_preds)\n",
        "model_5_results"
      ],
      "metadata": {
        "colab": {
          "base_uri": "https://localhost:8080/"
        },
        "id": "HBaxl0Ijrprh",
        "outputId": "0f663820-69ce-4409-9baf-b38a125bd07a"
      },
      "execution_count": 58,
      "outputs": [
        {
          "output_type": "execute_result",
          "data": {
            "text/plain": [
              "{'accuracy': 74.80314960629921,\n",
              " 'f1': 0.7443128259702623,\n",
              " 'precision': 0.7515951969849605,\n",
              " 'recall': 0.7480314960629921}"
            ]
          },
          "metadata": {},
          "execution_count": 58
        }
      ]
    },
    {
      "cell_type": "markdown",
      "source": [
        "# Model 6: Transfer Learning -> Universal Sentence Encoder"
      ],
      "metadata": {
        "id": "zlXr0F9q2Tu1"
      }
    },
    {
      "cell_type": "code",
      "source": [
        "import tensorflow as tf\n",
        "import tensorflow_hub as hub\n",
        "from tensorflow.keras import layers\n",
        "\n",
        "sentence_encoder_layer = hub.KerasLayer(\"https://tfhub.dev/google/universal-sentence-encoder/4\", input_shape=[], dtype=tf.string, name=\"USE\")\n",
        "\n",
        "model_6 = tf.keras.Sequential([\n",
        "    sentence_encoder_layer,\n",
        "    layers.Dense(64, activation=\"relu\"),\n",
        "    layers.Dense(1, activation=\"relu\")\n",
        "], name=\"model_6_USE\")\n",
        "\n",
        "model_6.compile(\n",
        "    loss=\"binary_crossentropy\",\n",
        "    optimizer=tf.keras.optimizers.Adam(),\n",
        "    metrics=[\"accuracy\"]\n",
        ")\n",
        "\n",
        "model_6_history = model_6.fit(\n",
        "    train_sentences,\n",
        "    train_labels,\n",
        "    epochs=5,\n",
        "    validation_data=(val_sentences, val_labels),\n",
        "    callbacks=[create_tensorboard_callback(SAVE_DIR, \"model_6_USE\")]\n",
        ")\n",
        "\n",
        "model_6.summary()"
      ],
      "metadata": {
        "colab": {
          "base_uri": "https://localhost:8080/"
        },
        "id": "2q0MOO5J2c86",
        "outputId": "b5b9f89e-d945-48d6-a750-26bd0b398c44"
      },
      "execution_count": 59,
      "outputs": [
        {
          "output_type": "stream",
          "name": "stdout",
          "text": [
            "Saving TensorBoard log files to: model_logs/model_6_USE/20220707-063713\n",
            "Epoch 1/5\n",
            "215/215 [==============================] - 6s 15ms/step - loss: 1.9746 - accuracy: 0.7145 - val_loss: 0.5190 - val_accuracy: 0.7887\n",
            "Epoch 2/5\n",
            "215/215 [==============================] - 2s 11ms/step - loss: 0.4728 - accuracy: 0.7980 - val_loss: 0.5829 - val_accuracy: 0.7913\n",
            "Epoch 3/5\n",
            "215/215 [==============================] - 2s 11ms/step - loss: 0.4316 - accuracy: 0.8148 - val_loss: 0.5352 - val_accuracy: 0.7992\n",
            "Epoch 4/5\n",
            "215/215 [==============================] - 3s 12ms/step - loss: 0.4089 - accuracy: 0.8181 - val_loss: 0.4857 - val_accuracy: 0.7992\n",
            "Epoch 5/5\n",
            "215/215 [==============================] - 2s 11ms/step - loss: 0.4021 - accuracy: 0.8174 - val_loss: 0.5985 - val_accuracy: 0.8097\n",
            "Model: \"model_6_USE\"\n",
            "_________________________________________________________________\n",
            " Layer (type)                Output Shape              Param #   \n",
            "=================================================================\n",
            " USE (KerasLayer)            (None, 512)               256797824 \n",
            "                                                                 \n",
            " dense_8 (Dense)             (None, 64)                32832     \n",
            "                                                                 \n",
            " dense_9 (Dense)             (None, 1)                 65        \n",
            "                                                                 \n",
            "=================================================================\n",
            "Total params: 256,830,721\n",
            "Trainable params: 32,897\n",
            "Non-trainable params: 256,797,824\n",
            "_________________________________________________________________\n"
          ]
        }
      ]
    },
    {
      "cell_type": "code",
      "source": [
        "model_6_pred_probs = model_6.predict(val_sentences)\n",
        "model_6_pred_probs[:10]"
      ],
      "metadata": {
        "colab": {
          "base_uri": "https://localhost:8080/"
        },
        "id": "awzrIB4JpRwe",
        "outputId": "dfba9368-8f47-4eaa-d410-9942172ecf95"
      },
      "execution_count": 60,
      "outputs": [
        {
          "output_type": "execute_result",
          "data": {
            "text/plain": [
              "array([[0.17786452],\n",
              "       [0.79318625],\n",
              "       [1.1768295 ],\n",
              "       [0.08865446],\n",
              "       [0.67727447],\n",
              "       [0.51766527],\n",
              "       [1.2486702 ],\n",
              "       [1.0060555 ],\n",
              "       [1.0640864 ],\n",
              "       [0.0799831 ]], dtype=float32)"
            ]
          },
          "metadata": {},
          "execution_count": 60
        }
      ]
    },
    {
      "cell_type": "code",
      "source": [
        "model_6_preds = tf.squeeze(tf.round(model_6_pred_probs))\n",
        "model_6_preds[:10]"
      ],
      "metadata": {
        "colab": {
          "base_uri": "https://localhost:8080/"
        },
        "id": "VazttO4tphXz",
        "outputId": "81d3cd45-026e-48c8-fd3c-8f56f71ab330"
      },
      "execution_count": 61,
      "outputs": [
        {
          "output_type": "execute_result",
          "data": {
            "text/plain": [
              "<tf.Tensor: shape=(10,), dtype=float32, numpy=array([0., 1., 1., 0., 1., 1., 1., 1., 1., 0.], dtype=float32)>"
            ]
          },
          "metadata": {},
          "execution_count": 61
        }
      ]
    },
    {
      "cell_type": "code",
      "source": [
        "model_6_results = calculate_results(y_true=val_labels, y_pred=model_6_preds)\n",
        "model_6_results"
      ],
      "metadata": {
        "colab": {
          "base_uri": "https://localhost:8080/"
        },
        "id": "41CP5qw1pj7J",
        "outputId": "f7aab135-57ea-43d1-fb50-f6e1649cd6e0"
      },
      "execution_count": 62,
      "outputs": [
        {
          "output_type": "execute_result",
          "data": {
            "text/plain": [
              "{'accuracy': 80.97112860892388,\n",
              " 'f1': 0.8070998999140856,\n",
              " 'precision': 0.8153550382582151,\n",
              " 'recall': 0.8097112860892388}"
            ]
          },
          "metadata": {},
          "execution_count": 62
        }
      ]
    },
    {
      "cell_type": "markdown",
      "source": [
        "# Model 7: Transfer Learning with 10% of the dataset"
      ],
      "metadata": {
        "id": "DxwfHTu0DRwd"
      }
    },
    {
      "cell_type": "code",
      "source": [
        "## THIS CELL IS WRONG\n",
        "# data leakage happens here because train_test_split overlaps with this line\n",
        "train_10_percent = train_df_shuffled[[\"text\", \"target\"]].sample(frac=0.1, random_state=42)\n",
        "train_sentences_10_percent = train_10_percent[\"text\"].to_list()\n",
        "train_labels_10_percent = train_10_percent[\"target\"].to_list()\n",
        "len(train_sentences_10_percent), len(train_labels_10_percent)"
      ],
      "metadata": {
        "id": "ycweSI2aDk9Y",
        "colab": {
          "base_uri": "https://localhost:8080/"
        },
        "outputId": "9573a346-49a0-47ee-a526-fead4ef4d386"
      },
      "execution_count": 77,
      "outputs": [
        {
          "output_type": "execute_result",
          "data": {
            "text/plain": [
              "(761, 761)"
            ]
          },
          "metadata": {},
          "execution_count": 77
        }
      ]
    },
    {
      "cell_type": "code",
      "source": [
        "# THIS CELL TAKES FROM THE TRAIN_SENTENCES SO NO \"DOUBLE DIPPING\" OCCURS\n",
        "train_sentences_10_percent = train_sentences[:int(0.1 * len(train_sentences))]\n",
        "train_labels_10_percent = train_labels[:int(0.1 * len(train_sentences))]"
      ],
      "metadata": {
        "id": "eVFYNnifbprI"
      },
      "execution_count": 78,
      "outputs": []
    },
    {
      "cell_type": "code",
      "source": [
        "train_10_percent[\"target\"].value_counts()"
      ],
      "metadata": {
        "colab": {
          "base_uri": "https://localhost:8080/"
        },
        "id": "gAJnJ6bCXxy2",
        "outputId": "e8437e4a-05c0-44df-c005-9b9b6a289d18"
      },
      "execution_count": 79,
      "outputs": [
        {
          "output_type": "execute_result",
          "data": {
            "text/plain": [
              "0    413\n",
              "1    348\n",
              "Name: target, dtype: int64"
            ]
          },
          "metadata": {},
          "execution_count": 79
        }
      ]
    },
    {
      "cell_type": "code",
      "source": [
        "train_df_shuffled[\"target\"].value_counts()"
      ],
      "metadata": {
        "colab": {
          "base_uri": "https://localhost:8080/"
        },
        "id": "20GngCAuX8a-",
        "outputId": "50fb244c-701b-469f-c637-feedab486f5f"
      },
      "execution_count": 80,
      "outputs": [
        {
          "output_type": "execute_result",
          "data": {
            "text/plain": [
              "0    4342\n",
              "1    3271\n",
              "Name: target, dtype: int64"
            ]
          },
          "metadata": {},
          "execution_count": 80
        }
      ]
    },
    {
      "cell_type": "code",
      "source": [
        "model_7 = tf.keras.models.clone_model(model_6)\n",
        "\n",
        "model_7.compile(\n",
        "    loss=\"binary_crossentropy\",\n",
        "    optimizer=tf.keras.optimizers.Adam(),\n",
        "    metrics=[\"accuracy\"]\n",
        ")\n",
        "\n",
        "model_7_history = model_7.fit(\n",
        "    train_sentences_10_percent,\n",
        "    train_labels_10_percent,\n",
        "    epochs=5,\n",
        "    validation_data=(val_sentences, val_labels),\n",
        "    callbacks=[create_tensorboard_callback(SAVE_DIR, \"10_percent_of_the_data\")]\n",
        ")"
      ],
      "metadata": {
        "colab": {
          "base_uri": "https://localhost:8080/"
        },
        "id": "_a9O3A7TYAKc",
        "outputId": "bdd4e3fc-5494-456e-93bc-4b468289683c"
      },
      "execution_count": 81,
      "outputs": [
        {
          "output_type": "stream",
          "name": "stdout",
          "text": [
            "Saving TensorBoard log files to: model_logs/10_percent_of_the_data/20220707-065506\n",
            "Epoch 1/5\n",
            "22/22 [==============================] - 3s 43ms/step - loss: 1.1455 - accuracy: 0.5927 - val_loss: 0.6613 - val_accuracy: 0.5591\n",
            "Epoch 2/5\n",
            "22/22 [==============================] - 1s 25ms/step - loss: 0.5652 - accuracy: 0.7139 - val_loss: 0.5491 - val_accuracy: 0.7638\n",
            "Epoch 3/5\n",
            "22/22 [==============================] - 1s 26ms/step - loss: 0.4917 - accuracy: 0.8117 - val_loss: 0.5075 - val_accuracy: 0.7690\n",
            "Epoch 4/5\n",
            "22/22 [==============================] - 0s 21ms/step - loss: 0.4443 - accuracy: 0.8307 - val_loss: 0.5002 - val_accuracy: 0.7808\n",
            "Epoch 5/5\n",
            "22/22 [==============================] - 1s 26ms/step - loss: 0.4053 - accuracy: 0.8394 - val_loss: 0.4871 - val_accuracy: 0.7861\n"
          ]
        }
      ]
    },
    {
      "cell_type": "code",
      "source": [
        "model_7_pred_probs = model_7.predict(val_sentences)\n",
        "model_7_pred_probs[:10]"
      ],
      "metadata": {
        "colab": {
          "base_uri": "https://localhost:8080/"
        },
        "id": "8davek61aaTq",
        "outputId": "a88ecf3b-dcfc-4dfa-fd7b-8330e34f4c8c"
      },
      "execution_count": 82,
      "outputs": [
        {
          "output_type": "execute_result",
          "data": {
            "text/plain": [
              "array([[0.28710306],\n",
              "       [0.59187686],\n",
              "       [1.088603  ],\n",
              "       [0.15764093],\n",
              "       [0.5667564 ],\n",
              "       [0.6619388 ],\n",
              "       [1.0024534 ],\n",
              "       [0.92925084],\n",
              "       [0.94888556],\n",
              "       [0.18250988]], dtype=float32)"
            ]
          },
          "metadata": {},
          "execution_count": 82
        }
      ]
    },
    {
      "cell_type": "code",
      "source": [
        "model_7_preds = tf.squeeze(tf.round(model_7_pred_probs))\n",
        "model_7_preds[:10]"
      ],
      "metadata": {
        "colab": {
          "base_uri": "https://localhost:8080/"
        },
        "id": "KyXIjmxNarD0",
        "outputId": "45b02f5b-94e8-42de-edc6-414145d5880b"
      },
      "execution_count": 83,
      "outputs": [
        {
          "output_type": "execute_result",
          "data": {
            "text/plain": [
              "<tf.Tensor: shape=(10,), dtype=float32, numpy=array([0., 1., 1., 0., 1., 1., 1., 1., 1., 0.], dtype=float32)>"
            ]
          },
          "metadata": {},
          "execution_count": 83
        }
      ]
    },
    {
      "cell_type": "code",
      "source": [
        "model_7_results = calculate_results(y_true=val_labels, y_pred=model_7_preds)\n",
        "model_7_results"
      ],
      "metadata": {
        "colab": {
          "base_uri": "https://localhost:8080/"
        },
        "id": "pMXJdprHauEO",
        "outputId": "58925c6d-8fe9-40da-996f-36aff8305682"
      },
      "execution_count": 84,
      "outputs": [
        {
          "output_type": "execute_result",
          "data": {
            "text/plain": [
              "{'accuracy': 78.60892388451444,\n",
              " 'f1': 0.7846591268156005,\n",
              " 'precision': 0.7870194413148897,\n",
              " 'recall': 0.7860892388451444}"
            ]
          },
          "metadata": {},
          "execution_count": 84
        }
      ]
    }
  ]
}