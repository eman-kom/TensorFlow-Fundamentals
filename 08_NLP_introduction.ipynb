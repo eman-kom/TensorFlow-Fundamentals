{
  "nbformat": 4,
  "nbformat_minor": 0,
  "metadata": {
    "colab": {
      "name": "08_NLP_introduction.ipynb",
      "provenance": [],
      "collapsed_sections": [],
      "authorship_tag": "ABX9TyPHnjwUviBspc2XsZ4TRq9U",
      "include_colab_link": true
    },
    "kernelspec": {
      "name": "python3",
      "display_name": "Python 3"
    },
    "language_info": {
      "name": "python"
    },
    "accelerator": "GPU",
    "gpuClass": "standard"
  },
  "cells": [
    {
      "cell_type": "markdown",
      "metadata": {
        "id": "view-in-github",
        "colab_type": "text"
      },
      "source": [
        "<a href=\"https://colab.research.google.com/github/eman-kom/tensorflow-fundamentals/blob/main/08_NLP_introduction.ipynb\" target=\"_parent\"><img src=\"https://colab.research.google.com/assets/colab-badge.svg\" alt=\"Open In Colab\"/></a>"
      ]
    },
    {
      "cell_type": "code",
      "execution_count": 1,
      "metadata": {
        "colab": {
          "base_uri": "https://localhost:8080/"
        },
        "id": "tpZT3jVCPpJW",
        "outputId": "05fcbe2d-d47b-43a7-f5f5-afe3c69a92eb"
      },
      "outputs": [
        {
          "output_type": "stream",
          "name": "stdout",
          "text": [
            "GPU 0: Tesla T4 (UUID: GPU-6f537a20-6d28-889a-55dd-4f72c9276d13)\n"
          ]
        }
      ],
      "source": [
        "!nvidia-smi -L"
      ]
    },
    {
      "cell_type": "code",
      "source": [
        "!wget https://raw.githubusercontent.com/mrdbourke/tensorflow-deep-learning/main/extras/helper_functions.py"
      ],
      "metadata": {
        "colab": {
          "base_uri": "https://localhost:8080/"
        },
        "id": "aupYUIY7QAYD",
        "outputId": "37728157-f9e3-481c-f182-453faa6427fe"
      },
      "execution_count": 2,
      "outputs": [
        {
          "output_type": "stream",
          "name": "stdout",
          "text": [
            "--2022-07-04 09:49:57--  https://raw.githubusercontent.com/mrdbourke/tensorflow-deep-learning/main/extras/helper_functions.py\n",
            "Resolving raw.githubusercontent.com (raw.githubusercontent.com)... 185.199.109.133, 185.199.108.133, 185.199.111.133, ...\n",
            "Connecting to raw.githubusercontent.com (raw.githubusercontent.com)|185.199.109.133|:443... connected.\n",
            "HTTP request sent, awaiting response... 200 OK\n",
            "Length: 10246 (10K) [text/plain]\n",
            "Saving to: ‘helper_functions.py’\n",
            "\n",
            "helper_functions.py 100%[===================>]  10.01K  --.-KB/s    in 0s      \n",
            "\n",
            "2022-07-04 09:49:57 (117 MB/s) - ‘helper_functions.py’ saved [10246/10246]\n",
            "\n"
          ]
        }
      ]
    },
    {
      "cell_type": "code",
      "source": [
        "from helper_functions import unzip_data, create_tensorboard_callback, plot_loss_curves, compare_historys"
      ],
      "metadata": {
        "id": "9BoasXQDQUCE"
      },
      "execution_count": 3,
      "outputs": []
    },
    {
      "cell_type": "code",
      "source": [
        "!wget https://storage.googleapis.com/ztm_tf_course/nlp_getting_started.zip\n",
        "\n",
        "unzip_data(\"nlp_getting_started.zip\")"
      ],
      "metadata": {
        "colab": {
          "base_uri": "https://localhost:8080/"
        },
        "id": "g3DP5xPCQerB",
        "outputId": "1bd1a012-e57d-4ad7-96fd-58ab991462bb"
      },
      "execution_count": 4,
      "outputs": [
        {
          "output_type": "stream",
          "name": "stdout",
          "text": [
            "--2022-07-04 09:50:00--  https://storage.googleapis.com/ztm_tf_course/nlp_getting_started.zip\n",
            "Resolving storage.googleapis.com (storage.googleapis.com)... 142.250.148.128, 74.125.124.128, 172.253.119.128, ...\n",
            "Connecting to storage.googleapis.com (storage.googleapis.com)|142.250.148.128|:443... connected.\n",
            "HTTP request sent, awaiting response... 200 OK\n",
            "Length: 607343 (593K) [application/zip]\n",
            "Saving to: ‘nlp_getting_started.zip’\n",
            "\n",
            "\rnlp_getting_started   0%[                    ]       0  --.-KB/s               \rnlp_getting_started 100%[===================>] 593.11K  --.-KB/s    in 0.003s  \n",
            "\n",
            "2022-07-04 09:50:00 (166 MB/s) - ‘nlp_getting_started.zip’ saved [607343/607343]\n",
            "\n"
          ]
        }
      ]
    },
    {
      "cell_type": "code",
      "source": [
        "import pandas as pd\n",
        "\n",
        "train_df = pd.read_csv(\"train.csv\")\n",
        "test_df = pd.read_csv(\"test.csv\")\n",
        "\n",
        "train_df.head()"
      ],
      "metadata": {
        "colab": {
          "base_uri": "https://localhost:8080/",
          "height": 206
        },
        "id": "9XBs9MiTQzzM",
        "outputId": "2c4b36ac-2543-4209-d7c8-5e46a10952fc"
      },
      "execution_count": 5,
      "outputs": [
        {
          "output_type": "execute_result",
          "data": {
            "text/plain": [
              "   id keyword location                                               text  \\\n",
              "0   1     NaN      NaN  Our Deeds are the Reason of this #earthquake M...   \n",
              "1   4     NaN      NaN             Forest fire near La Ronge Sask. Canada   \n",
              "2   5     NaN      NaN  All residents asked to 'shelter in place' are ...   \n",
              "3   6     NaN      NaN  13,000 people receive #wildfires evacuation or...   \n",
              "4   7     NaN      NaN  Just got sent this photo from Ruby #Alaska as ...   \n",
              "\n",
              "   target  \n",
              "0       1  \n",
              "1       1  \n",
              "2       1  \n",
              "3       1  \n",
              "4       1  "
            ],
            "text/html": [
              "\n",
              "  <div id=\"df-7c316975-b090-4dfb-8bc2-2267bfb23542\">\n",
              "    <div class=\"colab-df-container\">\n",
              "      <div>\n",
              "<style scoped>\n",
              "    .dataframe tbody tr th:only-of-type {\n",
              "        vertical-align: middle;\n",
              "    }\n",
              "\n",
              "    .dataframe tbody tr th {\n",
              "        vertical-align: top;\n",
              "    }\n",
              "\n",
              "    .dataframe thead th {\n",
              "        text-align: right;\n",
              "    }\n",
              "</style>\n",
              "<table border=\"1\" class=\"dataframe\">\n",
              "  <thead>\n",
              "    <tr style=\"text-align: right;\">\n",
              "      <th></th>\n",
              "      <th>id</th>\n",
              "      <th>keyword</th>\n",
              "      <th>location</th>\n",
              "      <th>text</th>\n",
              "      <th>target</th>\n",
              "    </tr>\n",
              "  </thead>\n",
              "  <tbody>\n",
              "    <tr>\n",
              "      <th>0</th>\n",
              "      <td>1</td>\n",
              "      <td>NaN</td>\n",
              "      <td>NaN</td>\n",
              "      <td>Our Deeds are the Reason of this #earthquake M...</td>\n",
              "      <td>1</td>\n",
              "    </tr>\n",
              "    <tr>\n",
              "      <th>1</th>\n",
              "      <td>4</td>\n",
              "      <td>NaN</td>\n",
              "      <td>NaN</td>\n",
              "      <td>Forest fire near La Ronge Sask. Canada</td>\n",
              "      <td>1</td>\n",
              "    </tr>\n",
              "    <tr>\n",
              "      <th>2</th>\n",
              "      <td>5</td>\n",
              "      <td>NaN</td>\n",
              "      <td>NaN</td>\n",
              "      <td>All residents asked to 'shelter in place' are ...</td>\n",
              "      <td>1</td>\n",
              "    </tr>\n",
              "    <tr>\n",
              "      <th>3</th>\n",
              "      <td>6</td>\n",
              "      <td>NaN</td>\n",
              "      <td>NaN</td>\n",
              "      <td>13,000 people receive #wildfires evacuation or...</td>\n",
              "      <td>1</td>\n",
              "    </tr>\n",
              "    <tr>\n",
              "      <th>4</th>\n",
              "      <td>7</td>\n",
              "      <td>NaN</td>\n",
              "      <td>NaN</td>\n",
              "      <td>Just got sent this photo from Ruby #Alaska as ...</td>\n",
              "      <td>1</td>\n",
              "    </tr>\n",
              "  </tbody>\n",
              "</table>\n",
              "</div>\n",
              "      <button class=\"colab-df-convert\" onclick=\"convertToInteractive('df-7c316975-b090-4dfb-8bc2-2267bfb23542')\"\n",
              "              title=\"Convert this dataframe to an interactive table.\"\n",
              "              style=\"display:none;\">\n",
              "        \n",
              "  <svg xmlns=\"http://www.w3.org/2000/svg\" height=\"24px\"viewBox=\"0 0 24 24\"\n",
              "       width=\"24px\">\n",
              "    <path d=\"M0 0h24v24H0V0z\" fill=\"none\"/>\n",
              "    <path d=\"M18.56 5.44l.94 2.06.94-2.06 2.06-.94-2.06-.94-.94-2.06-.94 2.06-2.06.94zm-11 1L8.5 8.5l.94-2.06 2.06-.94-2.06-.94L8.5 2.5l-.94 2.06-2.06.94zm10 10l.94 2.06.94-2.06 2.06-.94-2.06-.94-.94-2.06-.94 2.06-2.06.94z\"/><path d=\"M17.41 7.96l-1.37-1.37c-.4-.4-.92-.59-1.43-.59-.52 0-1.04.2-1.43.59L10.3 9.45l-7.72 7.72c-.78.78-.78 2.05 0 2.83L4 21.41c.39.39.9.59 1.41.59.51 0 1.02-.2 1.41-.59l7.78-7.78 2.81-2.81c.8-.78.8-2.07 0-2.86zM5.41 20L4 18.59l7.72-7.72 1.47 1.35L5.41 20z\"/>\n",
              "  </svg>\n",
              "      </button>\n",
              "      \n",
              "  <style>\n",
              "    .colab-df-container {\n",
              "      display:flex;\n",
              "      flex-wrap:wrap;\n",
              "      gap: 12px;\n",
              "    }\n",
              "\n",
              "    .colab-df-convert {\n",
              "      background-color: #E8F0FE;\n",
              "      border: none;\n",
              "      border-radius: 50%;\n",
              "      cursor: pointer;\n",
              "      display: none;\n",
              "      fill: #1967D2;\n",
              "      height: 32px;\n",
              "      padding: 0 0 0 0;\n",
              "      width: 32px;\n",
              "    }\n",
              "\n",
              "    .colab-df-convert:hover {\n",
              "      background-color: #E2EBFA;\n",
              "      box-shadow: 0px 1px 2px rgba(60, 64, 67, 0.3), 0px 1px 3px 1px rgba(60, 64, 67, 0.15);\n",
              "      fill: #174EA6;\n",
              "    }\n",
              "\n",
              "    [theme=dark] .colab-df-convert {\n",
              "      background-color: #3B4455;\n",
              "      fill: #D2E3FC;\n",
              "    }\n",
              "\n",
              "    [theme=dark] .colab-df-convert:hover {\n",
              "      background-color: #434B5C;\n",
              "      box-shadow: 0px 1px 3px 1px rgba(0, 0, 0, 0.15);\n",
              "      filter: drop-shadow(0px 1px 2px rgba(0, 0, 0, 0.3));\n",
              "      fill: #FFFFFF;\n",
              "    }\n",
              "  </style>\n",
              "\n",
              "      <script>\n",
              "        const buttonEl =\n",
              "          document.querySelector('#df-7c316975-b090-4dfb-8bc2-2267bfb23542 button.colab-df-convert');\n",
              "        buttonEl.style.display =\n",
              "          google.colab.kernel.accessAllowed ? 'block' : 'none';\n",
              "\n",
              "        async function convertToInteractive(key) {\n",
              "          const element = document.querySelector('#df-7c316975-b090-4dfb-8bc2-2267bfb23542');\n",
              "          const dataTable =\n",
              "            await google.colab.kernel.invokeFunction('convertToInteractive',\n",
              "                                                     [key], {});\n",
              "          if (!dataTable) return;\n",
              "\n",
              "          const docLinkHtml = 'Like what you see? Visit the ' +\n",
              "            '<a target=\"_blank\" href=https://colab.research.google.com/notebooks/data_table.ipynb>data table notebook</a>'\n",
              "            + ' to learn more about interactive tables.';\n",
              "          element.innerHTML = '';\n",
              "          dataTable['output_type'] = 'display_data';\n",
              "          await google.colab.output.renderOutput(dataTable, element);\n",
              "          const docLink = document.createElement('div');\n",
              "          docLink.innerHTML = docLinkHtml;\n",
              "          element.appendChild(docLink);\n",
              "        }\n",
              "      </script>\n",
              "    </div>\n",
              "  </div>\n",
              "  "
            ]
          },
          "metadata": {},
          "execution_count": 5
        }
      ]
    },
    {
      "cell_type": "code",
      "source": [
        "train_df_shuffled = train_df.sample(frac=1, random_state=42)\n",
        "train_df_shuffled.head()"
      ],
      "metadata": {
        "colab": {
          "base_uri": "https://localhost:8080/",
          "height": 206
        },
        "id": "Wb-sB9b7VOSj",
        "outputId": "75c509c2-c44c-4c15-f379-490f0a84d893"
      },
      "execution_count": 6,
      "outputs": [
        {
          "output_type": "execute_result",
          "data": {
            "text/plain": [
              "        id      keyword               location  \\\n",
              "2644  3796  destruction                    NaN   \n",
              "2227  3185       deluge                    NaN   \n",
              "5448  7769       police                     UK   \n",
              "132    191   aftershock                    NaN   \n",
              "6845  9810       trauma  Montgomery County, MD   \n",
              "\n",
              "                                                   text  target  \n",
              "2644  So you have a new weapon that can cause un-ima...       1  \n",
              "2227  The f$&amp;@ing things I do for #GISHWHES Just...       0  \n",
              "5448  DT @georgegalloway: RT @Galloway4Mayor: ÛÏThe...       1  \n",
              "132   Aftershock back to school kick off was great. ...       0  \n",
              "6845  in response to trauma Children of Addicts deve...       0  "
            ],
            "text/html": [
              "\n",
              "  <div id=\"df-48ed54f6-344b-44a6-ab2c-b8155d95a475\">\n",
              "    <div class=\"colab-df-container\">\n",
              "      <div>\n",
              "<style scoped>\n",
              "    .dataframe tbody tr th:only-of-type {\n",
              "        vertical-align: middle;\n",
              "    }\n",
              "\n",
              "    .dataframe tbody tr th {\n",
              "        vertical-align: top;\n",
              "    }\n",
              "\n",
              "    .dataframe thead th {\n",
              "        text-align: right;\n",
              "    }\n",
              "</style>\n",
              "<table border=\"1\" class=\"dataframe\">\n",
              "  <thead>\n",
              "    <tr style=\"text-align: right;\">\n",
              "      <th></th>\n",
              "      <th>id</th>\n",
              "      <th>keyword</th>\n",
              "      <th>location</th>\n",
              "      <th>text</th>\n",
              "      <th>target</th>\n",
              "    </tr>\n",
              "  </thead>\n",
              "  <tbody>\n",
              "    <tr>\n",
              "      <th>2644</th>\n",
              "      <td>3796</td>\n",
              "      <td>destruction</td>\n",
              "      <td>NaN</td>\n",
              "      <td>So you have a new weapon that can cause un-ima...</td>\n",
              "      <td>1</td>\n",
              "    </tr>\n",
              "    <tr>\n",
              "      <th>2227</th>\n",
              "      <td>3185</td>\n",
              "      <td>deluge</td>\n",
              "      <td>NaN</td>\n",
              "      <td>The f$&amp;amp;@ing things I do for #GISHWHES Just...</td>\n",
              "      <td>0</td>\n",
              "    </tr>\n",
              "    <tr>\n",
              "      <th>5448</th>\n",
              "      <td>7769</td>\n",
              "      <td>police</td>\n",
              "      <td>UK</td>\n",
              "      <td>DT @georgegalloway: RT @Galloway4Mayor: ÛÏThe...</td>\n",
              "      <td>1</td>\n",
              "    </tr>\n",
              "    <tr>\n",
              "      <th>132</th>\n",
              "      <td>191</td>\n",
              "      <td>aftershock</td>\n",
              "      <td>NaN</td>\n",
              "      <td>Aftershock back to school kick off was great. ...</td>\n",
              "      <td>0</td>\n",
              "    </tr>\n",
              "    <tr>\n",
              "      <th>6845</th>\n",
              "      <td>9810</td>\n",
              "      <td>trauma</td>\n",
              "      <td>Montgomery County, MD</td>\n",
              "      <td>in response to trauma Children of Addicts deve...</td>\n",
              "      <td>0</td>\n",
              "    </tr>\n",
              "  </tbody>\n",
              "</table>\n",
              "</div>\n",
              "      <button class=\"colab-df-convert\" onclick=\"convertToInteractive('df-48ed54f6-344b-44a6-ab2c-b8155d95a475')\"\n",
              "              title=\"Convert this dataframe to an interactive table.\"\n",
              "              style=\"display:none;\">\n",
              "        \n",
              "  <svg xmlns=\"http://www.w3.org/2000/svg\" height=\"24px\"viewBox=\"0 0 24 24\"\n",
              "       width=\"24px\">\n",
              "    <path d=\"M0 0h24v24H0V0z\" fill=\"none\"/>\n",
              "    <path d=\"M18.56 5.44l.94 2.06.94-2.06 2.06-.94-2.06-.94-.94-2.06-.94 2.06-2.06.94zm-11 1L8.5 8.5l.94-2.06 2.06-.94-2.06-.94L8.5 2.5l-.94 2.06-2.06.94zm10 10l.94 2.06.94-2.06 2.06-.94-2.06-.94-.94-2.06-.94 2.06-2.06.94z\"/><path d=\"M17.41 7.96l-1.37-1.37c-.4-.4-.92-.59-1.43-.59-.52 0-1.04.2-1.43.59L10.3 9.45l-7.72 7.72c-.78.78-.78 2.05 0 2.83L4 21.41c.39.39.9.59 1.41.59.51 0 1.02-.2 1.41-.59l7.78-7.78 2.81-2.81c.8-.78.8-2.07 0-2.86zM5.41 20L4 18.59l7.72-7.72 1.47 1.35L5.41 20z\"/>\n",
              "  </svg>\n",
              "      </button>\n",
              "      \n",
              "  <style>\n",
              "    .colab-df-container {\n",
              "      display:flex;\n",
              "      flex-wrap:wrap;\n",
              "      gap: 12px;\n",
              "    }\n",
              "\n",
              "    .colab-df-convert {\n",
              "      background-color: #E8F0FE;\n",
              "      border: none;\n",
              "      border-radius: 50%;\n",
              "      cursor: pointer;\n",
              "      display: none;\n",
              "      fill: #1967D2;\n",
              "      height: 32px;\n",
              "      padding: 0 0 0 0;\n",
              "      width: 32px;\n",
              "    }\n",
              "\n",
              "    .colab-df-convert:hover {\n",
              "      background-color: #E2EBFA;\n",
              "      box-shadow: 0px 1px 2px rgba(60, 64, 67, 0.3), 0px 1px 3px 1px rgba(60, 64, 67, 0.15);\n",
              "      fill: #174EA6;\n",
              "    }\n",
              "\n",
              "    [theme=dark] .colab-df-convert {\n",
              "      background-color: #3B4455;\n",
              "      fill: #D2E3FC;\n",
              "    }\n",
              "\n",
              "    [theme=dark] .colab-df-convert:hover {\n",
              "      background-color: #434B5C;\n",
              "      box-shadow: 0px 1px 3px 1px rgba(0, 0, 0, 0.15);\n",
              "      filter: drop-shadow(0px 1px 2px rgba(0, 0, 0, 0.3));\n",
              "      fill: #FFFFFF;\n",
              "    }\n",
              "  </style>\n",
              "\n",
              "      <script>\n",
              "        const buttonEl =\n",
              "          document.querySelector('#df-48ed54f6-344b-44a6-ab2c-b8155d95a475 button.colab-df-convert');\n",
              "        buttonEl.style.display =\n",
              "          google.colab.kernel.accessAllowed ? 'block' : 'none';\n",
              "\n",
              "        async function convertToInteractive(key) {\n",
              "          const element = document.querySelector('#df-48ed54f6-344b-44a6-ab2c-b8155d95a475');\n",
              "          const dataTable =\n",
              "            await google.colab.kernel.invokeFunction('convertToInteractive',\n",
              "                                                     [key], {});\n",
              "          if (!dataTable) return;\n",
              "\n",
              "          const docLinkHtml = 'Like what you see? Visit the ' +\n",
              "            '<a target=\"_blank\" href=https://colab.research.google.com/notebooks/data_table.ipynb>data table notebook</a>'\n",
              "            + ' to learn more about interactive tables.';\n",
              "          element.innerHTML = '';\n",
              "          dataTable['output_type'] = 'display_data';\n",
              "          await google.colab.output.renderOutput(dataTable, element);\n",
              "          const docLink = document.createElement('div');\n",
              "          docLink.innerHTML = docLinkHtml;\n",
              "          element.appendChild(docLink);\n",
              "        }\n",
              "      </script>\n",
              "    </div>\n",
              "  </div>\n",
              "  "
            ]
          },
          "metadata": {},
          "execution_count": 6
        }
      ]
    },
    {
      "cell_type": "code",
      "source": [
        "train_df.target.value_counts()"
      ],
      "metadata": {
        "colab": {
          "base_uri": "https://localhost:8080/"
        },
        "id": "gHJVx2hiVa4t",
        "outputId": "9e5e0a68-17a7-4132-f078-a0e04f2930dd"
      },
      "execution_count": 7,
      "outputs": [
        {
          "output_type": "execute_result",
          "data": {
            "text/plain": [
              "0    4342\n",
              "1    3271\n",
              "Name: target, dtype: int64"
            ]
          },
          "metadata": {},
          "execution_count": 7
        }
      ]
    },
    {
      "cell_type": "code",
      "source": [
        "len(train_df), len(test_df)"
      ],
      "metadata": {
        "colab": {
          "base_uri": "https://localhost:8080/"
        },
        "id": "wn8f3s9XVqJL",
        "outputId": "d373d59e-f3a2-4e0c-a39e-70b938842286"
      },
      "execution_count": 8,
      "outputs": [
        {
          "output_type": "execute_result",
          "data": {
            "text/plain": [
              "(7613, 3263)"
            ]
          },
          "metadata": {},
          "execution_count": 8
        }
      ]
    },
    {
      "cell_type": "code",
      "source": [
        "import random\n",
        "random_index = random.randint(0, len(train_df)-5)\n",
        "\n",
        "for row in train_df_shuffled[[\"text\", \"target\"]][random_index:random_index+5].itertuples():\n",
        "  _, text, target = row\n",
        "  print(f\"Target: {target}\", \"<real disaster>\" if target > 0 else \"<not a real disaster>\")\n",
        "  print(f\"Text\\n{text}\\n\")\n",
        "  print(\"---\\n\")"
      ],
      "metadata": {
        "colab": {
          "base_uri": "https://localhost:8080/"
        },
        "id": "5voqlVAIVvBC",
        "outputId": "6bc58e2b-01d2-4a6c-f81b-ccb5264fd6f8"
      },
      "execution_count": 9,
      "outputs": [
        {
          "output_type": "stream",
          "name": "stdout",
          "text": [
            "Target: 0 <not a real disaster>\n",
            "Text\n",
            "@MaatMHI Slightly diff catastrophe &amp; Barry was running solo but generally the same thing.\n",
            "\n",
            "---\n",
            "\n",
            "Target: 1 <real disaster>\n",
            "Text\n",
            "Strong Thunderstorm 4 Miles East of Pickens Moving NE At 20 MPH. Pea Size Hail and Wind Gusts Up to 40 MPH... #scwx http://t.co/TsaLetFtkt\n",
            "\n",
            "---\n",
            "\n",
            "Target: 0 <not a real disaster>\n",
            "Text\n",
            "Edwin wow. Crushed.\n",
            "\n",
            "---\n",
            "\n",
            "Target: 1 <real disaster>\n",
            "Text\n",
            "Chick masturbates a guy until she gets exploded on her face &gt; http://t.co/5QhoeHE9hf\n",
            "\n",
            "---\n",
            "\n",
            "Target: 0 <not a real disaster>\n",
            "Text\n",
            "i lava you! ????\n",
            "\n",
            "---\n",
            "\n"
          ]
        }
      ]
    },
    {
      "cell_type": "code",
      "source": [
        "from sklearn.model_selection import train_test_split\n",
        "\n",
        "train_sentences, val_sentences, train_labels, val_labels = train_test_split(\n",
        "    train_df_shuffled[\"text\"].to_numpy(),\n",
        "    train_df_shuffled[\"target\"].to_numpy(),\n",
        "    test_size=0.1,\n",
        "    random_state=42\n",
        ")"
      ],
      "metadata": {
        "id": "gucF_w9Z7JRV"
      },
      "execution_count": 10,
      "outputs": []
    },
    {
      "cell_type": "code",
      "source": [
        "train_sentences[:10], train_labels[:10]"
      ],
      "metadata": {
        "colab": {
          "base_uri": "https://localhost:8080/"
        },
        "id": "oIuX-ExX72Dc",
        "outputId": "860e74bf-8fbf-47a0-a5e6-af96419d5a76"
      },
      "execution_count": 11,
      "outputs": [
        {
          "output_type": "execute_result",
          "data": {
            "text/plain": [
              "(array(['@mogacola @zamtriossu i screamed after hitting tweet',\n",
              "        'Imagine getting flattened by Kurt Zouma',\n",
              "        '@Gurmeetramrahim #MSGDoing111WelfareWorks Green S welfare force ke appx 65000 members har time disaster victim ki help ke liye tyar hai....',\n",
              "        \"@shakjn @C7 @Magnums im shaking in fear he's gonna hack the planet\",\n",
              "        'Somehow find you and I collide http://t.co/Ee8RpOahPk',\n",
              "        '@EvaHanderek @MarleyKnysh great times until the bus driver held us hostage in the mall parking lot lmfao',\n",
              "        'destroy the free fandom honestly',\n",
              "        'Weapons stolen from National Guard Armory in New Albany still missing #Gunsense http://t.co/lKNU8902JE',\n",
              "        '@wfaaweather Pete when will the heat wave pass? Is it really going to be mid month? Frisco Boy Scouts have a canoe trip in Okla.',\n",
              "        'Patient-reported outcomes in long-term survivors of metastatic colorectal cancer - British Journal of Surgery http://t.co/5Yl4DC1Tqt'],\n",
              "       dtype=object), array([0, 0, 1, 0, 0, 1, 1, 0, 1, 1]))"
            ]
          },
          "metadata": {},
          "execution_count": 11
        }
      ]
    },
    {
      "cell_type": "code",
      "source": [
        "round(sum([len(i.split()) for i in train_sentences])/len(train_sentences))"
      ],
      "metadata": {
        "colab": {
          "base_uri": "https://localhost:8080/"
        },
        "id": "dpBIKpNTD3Y5",
        "outputId": "f528f34a-b993-458f-a011-9f8760839303"
      },
      "execution_count": 12,
      "outputs": [
        {
          "output_type": "execute_result",
          "data": {
            "text/plain": [
              "15"
            ]
          },
          "metadata": {},
          "execution_count": 12
        }
      ]
    },
    {
      "cell_type": "code",
      "source": [
        "import tensorflow as tf\n",
        "from tensorflow.keras.layers import TextVectorization\n",
        "\n",
        "text_vectorizer = TextVectorization(\n",
        "    max_tokens=10000,\n",
        "    output_mode=\"int\",\n",
        "    output_sequence_length=15,\n",
        ")"
      ],
      "metadata": {
        "id": "KvPf-l76-g_y"
      },
      "execution_count": 13,
      "outputs": []
    },
    {
      "cell_type": "code",
      "source": [
        "text_vectorizer.adapt(train_sentences)"
      ],
      "metadata": {
        "id": "Dh8wGCG1E4Jv"
      },
      "execution_count": 14,
      "outputs": []
    },
    {
      "cell_type": "code",
      "source": [
        "text_vectorizer([\"There's a flood in my street!\"])"
      ],
      "metadata": {
        "colab": {
          "base_uri": "https://localhost:8080/"
        },
        "id": "pOIu_eDBFDIb",
        "outputId": "f8383824-92fa-4be0-f22b-a500b8aa6e34"
      },
      "execution_count": 15,
      "outputs": [
        {
          "output_type": "execute_result",
          "data": {
            "text/plain": [
              "<tf.Tensor: shape=(1, 15), dtype=int64, numpy=\n",
              "array([[264,   3, 232,   4,  13, 698,   0,   0,   0,   0,   0,   0,   0,\n",
              "          0,   0]])>"
            ]
          },
          "metadata": {},
          "execution_count": 15
        }
      ]
    },
    {
      "cell_type": "code",
      "source": [
        "random_sent = random.choice(train_sentences)\n",
        "print(f\"Before: {random_sent}\")\n",
        "text_vectorizer([random_sent])"
      ],
      "metadata": {
        "colab": {
          "base_uri": "https://localhost:8080/"
        },
        "id": "o7KU2NDnFkpl",
        "outputId": "cd775975-0da2-4cf5-c375-c1dd742877b2"
      },
      "execution_count": 16,
      "outputs": [
        {
          "output_type": "stream",
          "name": "stdout",
          "text": [
            "Before: Rly tragedy in MP: Some live to recount horror: ÛÏWhen I saw coaches of my train plunging into water I called ... http://t.co/21hsrrqZOu\n"
          ]
        },
        {
          "output_type": "execute_result",
          "data": {
            "text/plain": [
              "<tf.Tensor: shape=(1, 15), dtype=int64, numpy=\n",
              "array([[ 922,  360,    4,  599,   82,  199,    5, 1063,  650, 1158,    8,\n",
              "         414,  860,    6,   13]])>"
            ]
          },
          "metadata": {},
          "execution_count": 16
        }
      ]
    },
    {
      "cell_type": "code",
      "source": [
        "words_in_vocab = text_vectorizer.get_vocabulary()\n",
        "top_5_words = words_in_vocab[:5]\n",
        "bottom_5_words = words_in_vocab[-5:]\n",
        "len(words_in_vocab), top_5_words, bottom_5_words"
      ],
      "metadata": {
        "colab": {
          "base_uri": "https://localhost:8080/"
        },
        "id": "OIfRWRlJF5-x",
        "outputId": "35f0b395-23dc-41e7-f592-f4bca3a60df9"
      },
      "execution_count": 17,
      "outputs": [
        {
          "output_type": "execute_result",
          "data": {
            "text/plain": [
              "(10000,\n",
              " ['', '[UNK]', 'the', 'a', 'in'],\n",
              " ['pages', 'paeds', 'pads', 'padres', 'paddytomlinson1'])"
            ]
          },
          "metadata": {},
          "execution_count": 17
        }
      ]
    },
    {
      "cell_type": "code",
      "source": [
        "from tensorflow.keras import layers\n",
        "\n",
        "embedding = layers.Embedding(\n",
        "    input_dim=10000,\n",
        "    output_dim=128,\n",
        "    input_length=15\n",
        ")\n",
        "\n",
        "embedding"
      ],
      "metadata": {
        "colab": {
          "base_uri": "https://localhost:8080/"
        },
        "id": "MCDQAP3AGNjH",
        "outputId": "c0b7498b-197c-4093-b54f-6939080fb633"
      },
      "execution_count": 18,
      "outputs": [
        {
          "output_type": "execute_result",
          "data": {
            "text/plain": [
              "<keras.layers.embeddings.Embedding at 0x7f86601e6d50>"
            ]
          },
          "metadata": {},
          "execution_count": 18
        }
      ]
    },
    {
      "cell_type": "code",
      "source": [
        "sample_embed = embedding(text_vectorizer([random.choice(train_sentences)]))\n",
        "sample_embed"
      ],
      "metadata": {
        "colab": {
          "base_uri": "https://localhost:8080/"
        },
        "id": "htpdho_mPRL4",
        "outputId": "c6fe16a3-4aa2-4658-d839-da3dd982b3e9"
      },
      "execution_count": 19,
      "outputs": [
        {
          "output_type": "execute_result",
          "data": {
            "text/plain": [
              "<tf.Tensor: shape=(1, 15, 128), dtype=float32, numpy=\n",
              "array([[[-0.01963902,  0.03132067, -0.02268289, ...,  0.0041335 ,\n",
              "         -0.012157  , -0.03662957],\n",
              "        [ 0.02445105,  0.02771156, -0.04110926, ...,  0.0351442 ,\n",
              "          0.0241346 , -0.00152315],\n",
              "        [ 0.01952514,  0.00574758, -0.02844809, ...,  0.01583779,\n",
              "          0.00789567,  0.01370254],\n",
              "        ...,\n",
              "        [ 0.01878253,  0.00147899, -0.02684787, ...,  0.01670672,\n",
              "          0.00772765,  0.02174525],\n",
              "        [ 0.01952514,  0.00574758, -0.02844809, ...,  0.01583779,\n",
              "          0.00789567,  0.01370254],\n",
              "        [ 0.01966728, -0.01331524,  0.03681232, ...,  0.02472403,\n",
              "         -0.01517858,  0.02176131]]], dtype=float32)>"
            ]
          },
          "metadata": {},
          "execution_count": 19
        }
      ]
    },
    {
      "cell_type": "markdown",
      "source": [
        "# Model 0: Baseline Model -> Sklearn Multinomial Naive Bayes using TF-IDF"
      ],
      "metadata": {
        "id": "URe3kjjjWrSn"
      }
    },
    {
      "cell_type": "code",
      "source": [
        "from sklearn.feature_extraction.text import TfidfVectorizer\n",
        "from sklearn.naive_bayes import MultinomialNB\n",
        "from sklearn.pipeline import Pipeline\n",
        "\n",
        "model_0 = Pipeline([\n",
        "    (\"tfidf\", TfidfVectorizer()),\n",
        "    (\"clf\", MultinomialNB())\n",
        "])\n",
        "\n",
        "model_0.fit(train_sentences, train_labels)"
      ],
      "metadata": {
        "colab": {
          "base_uri": "https://localhost:8080/"
        },
        "id": "gpdx2X8fWxUN",
        "outputId": "2d39a8e4-5877-407d-8e0b-be29a4fc8498"
      },
      "execution_count": 20,
      "outputs": [
        {
          "output_type": "execute_result",
          "data": {
            "text/plain": [
              "Pipeline(steps=[('tfidf', TfidfVectorizer()), ('clf', MultinomialNB())])"
            ]
          },
          "metadata": {},
          "execution_count": 20
        }
      ]
    },
    {
      "cell_type": "code",
      "source": [
        "baseline_score = model_0.score(val_sentences, val_labels)\n",
        "print(f\"Baseline Score: {baseline_score*100:.2f}%\")"
      ],
      "metadata": {
        "colab": {
          "base_uri": "https://localhost:8080/"
        },
        "id": "XvBxq30aXi1H",
        "outputId": "10000709-c913-4072-9bf7-0f3956227f8f"
      },
      "execution_count": 21,
      "outputs": [
        {
          "output_type": "stream",
          "name": "stdout",
          "text": [
            "Baseline Score: 79.27%\n"
          ]
        }
      ]
    },
    {
      "cell_type": "code",
      "source": [
        "from sklearn.metrics import accuracy_score, precision_recall_fscore_support\n",
        "\n",
        "def calculate_results(y_true, y_pred):\n",
        "  model_accuracy = accuracy_score(y_true, y_pred) * 100\n",
        "  model_precision, model_recall, model_f1, _ = precision_recall_fscore_support(y_true, y_pred, average=\"weighted\")\n",
        "  model_results = {\n",
        "      \"accuracy\": model_accuracy,\n",
        "      \"precision\": model_precision,\n",
        "      \"recall\": model_recall,\n",
        "      \"f1\": model_f1\n",
        "  }\n",
        "\n",
        "  return model_results"
      ],
      "metadata": {
        "id": "Qba-nKj83Lf1"
      },
      "execution_count": 22,
      "outputs": []
    },
    {
      "cell_type": "code",
      "source": [
        "baseline_preds = model_0.predict(val_sentences)\n",
        "baseline_preds[:5]"
      ],
      "metadata": {
        "colab": {
          "base_uri": "https://localhost:8080/"
        },
        "id": "E6DsaL1YkRZJ",
        "outputId": "6feef0aa-ea8f-45c8-9401-4046c1838cad"
      },
      "execution_count": 23,
      "outputs": [
        {
          "output_type": "execute_result",
          "data": {
            "text/plain": [
              "array([1, 1, 1, 0, 0])"
            ]
          },
          "metadata": {},
          "execution_count": 23
        }
      ]
    },
    {
      "cell_type": "code",
      "source": [
        "baseline_results = calculate_results(val_labels, baseline_preds)\n",
        "baseline_results"
      ],
      "metadata": {
        "colab": {
          "base_uri": "https://localhost:8080/"
        },
        "id": "5NsMzZWH6N5l",
        "outputId": "a998ad75-5821-4154-e620-692d74439dab"
      },
      "execution_count": 24,
      "outputs": [
        {
          "output_type": "execute_result",
          "data": {
            "text/plain": [
              "{'accuracy': 79.26509186351706,\n",
              " 'f1': 0.7862189758049549,\n",
              " 'precision': 0.8111390004213173,\n",
              " 'recall': 0.7926509186351706}"
            ]
          },
          "metadata": {},
          "execution_count": 24
        }
      ]
    },
    {
      "cell_type": "code",
      "source": [
        "from helper_functions import create_tensorboard_callback\n",
        "\n",
        "SAVE_DIR = \"model_logs\""
      ],
      "metadata": {
        "id": "QQ1NZEN2j5RX"
      },
      "execution_count": 25,
      "outputs": []
    },
    {
      "cell_type": "markdown",
      "source": [
        "# Model 1: Simple Dense Model"
      ],
      "metadata": {
        "id": "QvAyRNWwoA0f"
      }
    },
    {
      "cell_type": "code",
      "source": [
        "from tensorflow.keras import layers\n",
        "\n",
        "inputs = layers.Input(shape=(1,), dtype=tf.string)\n",
        "x = text_vectorizer(inputs)\n",
        "x = embedding(x)\n",
        "x = layers.GlobalAveragePooling1D()(x)\n",
        "outputs = layers.Dense(1, activation=\"sigmoid\")(x)\n",
        "\n",
        "model_1 = tf.keras.Model(inputs, outputs, name=\"model_1_dense\")\n",
        "model_1.summary()"
      ],
      "metadata": {
        "colab": {
          "base_uri": "https://localhost:8080/"
        },
        "id": "ra5RD2EkkAIh",
        "outputId": "4dce239e-3c22-4896-d379-616dc753efaf"
      },
      "execution_count": 26,
      "outputs": [
        {
          "output_type": "stream",
          "name": "stdout",
          "text": [
            "Model: \"model_1_dense\"\n",
            "_________________________________________________________________\n",
            " Layer (type)                Output Shape              Param #   \n",
            "=================================================================\n",
            " input_1 (InputLayer)        [(None, 1)]               0         \n",
            "                                                                 \n",
            " text_vectorization (TextVec  (None, 15)               0         \n",
            " torization)                                                     \n",
            "                                                                 \n",
            " embedding (Embedding)       (None, 15, 128)           1280000   \n",
            "                                                                 \n",
            " global_average_pooling1d (G  (None, 128)              0         \n",
            " lobalAveragePooling1D)                                          \n",
            "                                                                 \n",
            " dense (Dense)               (None, 1)                 129       \n",
            "                                                                 \n",
            "=================================================================\n",
            "Total params: 1,280,129\n",
            "Trainable params: 1,280,129\n",
            "Non-trainable params: 0\n",
            "_________________________________________________________________\n"
          ]
        }
      ]
    },
    {
      "cell_type": "code",
      "source": [
        "model_1.compile(\n",
        "    loss=\"binary_crossentropy\",\n",
        "    optimizer=tf.keras.optimizers.Adam(),\n",
        "    metrics=[\"accuracy\"]\n",
        ")"
      ],
      "metadata": {
        "id": "qV5dSJkLlGfI"
      },
      "execution_count": 27,
      "outputs": []
    },
    {
      "cell_type": "code",
      "source": [
        "model_1_history = model_1.fit(\n",
        "    x=train_sentences,\n",
        "    y=train_labels,\n",
        "    epochs=5,\n",
        "    validation_data=(val_sentences, val_labels),\n",
        "    callbacks=[create_tensorboard_callback(dir_name=SAVE_DIR, experiment_name=\"model_1_dense\")]\n",
        ")"
      ],
      "metadata": {
        "colab": {
          "base_uri": "https://localhost:8080/"
        },
        "id": "MmKDTJRJlTEY",
        "outputId": "6ee2a925-3575-4d53-8088-d21aeee7d614"
      },
      "execution_count": 28,
      "outputs": [
        {
          "output_type": "stream",
          "name": "stdout",
          "text": [
            "Saving TensorBoard log files to: model_logs/model_1_dense/20220704-095007\n",
            "Epoch 1/5\n",
            "215/215 [==============================] - 8s 10ms/step - loss: 0.6111 - accuracy: 0.6878 - val_loss: 0.5334 - val_accuracy: 0.7703\n",
            "Epoch 2/5\n",
            "215/215 [==============================] - 2s 8ms/step - loss: 0.4429 - accuracy: 0.8186 - val_loss: 0.4685 - val_accuracy: 0.7835\n",
            "Epoch 3/5\n",
            "215/215 [==============================] - 2s 8ms/step - loss: 0.3481 - accuracy: 0.8597 - val_loss: 0.4574 - val_accuracy: 0.7953\n",
            "Epoch 4/5\n",
            "215/215 [==============================] - 1s 7ms/step - loss: 0.2849 - accuracy: 0.8908 - val_loss: 0.4635 - val_accuracy: 0.7887\n",
            "Epoch 5/5\n",
            "215/215 [==============================] - 1s 6ms/step - loss: 0.2374 - accuracy: 0.9111 - val_loss: 0.4813 - val_accuracy: 0.7900\n"
          ]
        }
      ]
    },
    {
      "cell_type": "code",
      "source": [
        "model_1.evaluate(val_sentences, val_labels)"
      ],
      "metadata": {
        "colab": {
          "base_uri": "https://localhost:8080/"
        },
        "id": "hpYcDvMll-Fh",
        "outputId": "6fbe28be-24a0-4de2-ec92-04460b4de4f4"
      },
      "execution_count": 29,
      "outputs": [
        {
          "output_type": "stream",
          "name": "stdout",
          "text": [
            "24/24 [==============================] - 0s 3ms/step - loss: 0.4813 - accuracy: 0.7900\n"
          ]
        },
        {
          "output_type": "execute_result",
          "data": {
            "text/plain": [
              "[0.48129788041114807, 0.7900262475013733]"
            ]
          },
          "metadata": {},
          "execution_count": 29
        }
      ]
    },
    {
      "cell_type": "code",
      "source": [
        "model_1_pred_probs = model_1.predict(val_sentences)\n",
        "model_1_pred_probs"
      ],
      "metadata": {
        "colab": {
          "base_uri": "https://localhost:8080/"
        },
        "id": "Xs-8aiJSnQ9A",
        "outputId": "3461f3c0-3189-4896-8e4a-ca0567341cac"
      },
      "execution_count": 30,
      "outputs": [
        {
          "output_type": "execute_result",
          "data": {
            "text/plain": [
              "array([[3.63508672e-01],\n",
              "       [6.98214769e-01],\n",
              "       [9.97214615e-01],\n",
              "       [8.57766941e-02],\n",
              "       [1.26392856e-01],\n",
              "       [9.44538593e-01],\n",
              "       [9.14806604e-01],\n",
              "       [9.92478371e-01],\n",
              "       [9.65327024e-01],\n",
              "       [2.05557674e-01],\n",
              "       [1.00252040e-01],\n",
              "       [6.29545987e-01],\n",
              "       [5.40799983e-02],\n",
              "       [2.07237959e-01],\n",
              "       [3.64532368e-03],\n",
              "       [1.22955188e-01],\n",
              "       [2.20040493e-02],\n",
              "       [8.52999911e-02],\n",
              "       [2.08593398e-01],\n",
              "       [4.80998933e-01],\n",
              "       [9.10491347e-01],\n",
              "       [3.28270309e-02],\n",
              "       [3.65864694e-01],\n",
              "       [7.52383694e-02],\n",
              "       [9.52058554e-01],\n",
              "       [9.98812675e-01],\n",
              "       [2.75654700e-02],\n",
              "       [6.50133342e-02],\n",
              "       [2.51512341e-02],\n",
              "       [1.68594435e-01],\n",
              "       [5.08424640e-01],\n",
              "       [2.00960979e-01],\n",
              "       [4.67826903e-01],\n",
              "       [1.87610477e-01],\n",
              "       [5.07441401e-01],\n",
              "       [4.98532504e-02],\n",
              "       [9.92858648e-01],\n",
              "       [1.17087886e-01],\n",
              "       [3.12726796e-02],\n",
              "       [9.98651087e-01],\n",
              "       [1.69693321e-01],\n",
              "       [1.79030523e-02],\n",
              "       [3.47228140e-01],\n",
              "       [6.92648441e-02],\n",
              "       [6.22467101e-01],\n",
              "       [9.79428113e-01],\n",
              "       [2.66505808e-01],\n",
              "       [9.00010705e-01],\n",
              "       [1.66164100e-01],\n",
              "       [6.42095506e-01],\n",
              "       [4.82042059e-02],\n",
              "       [4.75104958e-01],\n",
              "       [4.19028133e-01],\n",
              "       [2.66387928e-02],\n",
              "       [9.95357484e-02],\n",
              "       [3.09133939e-02],\n",
              "       [1.93103522e-01],\n",
              "       [9.57511842e-01],\n",
              "       [1.19556651e-01],\n",
              "       [2.81087891e-03],\n",
              "       [1.13097869e-01],\n",
              "       [9.54211831e-01],\n",
              "       [9.27521467e-01],\n",
              "       [1.52767763e-01],\n",
              "       [9.37980592e-01],\n",
              "       [9.80377495e-01],\n",
              "       [6.98251605e-01],\n",
              "       [4.38472062e-01],\n",
              "       [1.16887107e-01],\n",
              "       [1.20327972e-01],\n",
              "       [7.20399842e-02],\n",
              "       [2.51190998e-02],\n",
              "       [9.40049708e-01],\n",
              "       [9.77464467e-02],\n",
              "       [1.27779141e-01],\n",
              "       [4.00791496e-01],\n",
              "       [2.94727266e-01],\n",
              "       [8.27320695e-01],\n",
              "       [2.05522776e-01],\n",
              "       [5.35280168e-01],\n",
              "       [4.17742640e-01],\n",
              "       [2.09263980e-01],\n",
              "       [9.95128155e-01],\n",
              "       [8.18917453e-02],\n",
              "       [1.35171652e-01],\n",
              "       [8.75719935e-02],\n",
              "       [1.74720846e-02],\n",
              "       [1.04552492e-01],\n",
              "       [6.19333267e-01],\n",
              "       [8.88150871e-01],\n",
              "       [9.88014758e-01],\n",
              "       [1.05357599e-02],\n",
              "       [5.44002950e-01],\n",
              "       [3.05582248e-02],\n",
              "       [9.81398165e-01],\n",
              "       [6.90329194e-01],\n",
              "       [8.74466479e-01],\n",
              "       [9.72570896e-01],\n",
              "       [8.52989554e-01],\n",
              "       [9.62735951e-01],\n",
              "       [9.99127090e-01],\n",
              "       [1.78082988e-01],\n",
              "       [1.07446108e-02],\n",
              "       [9.09520447e-01],\n",
              "       [8.59597802e-01],\n",
              "       [7.45842233e-02],\n",
              "       [8.33530068e-01],\n",
              "       [9.73285675e-01],\n",
              "       [5.54294176e-02],\n",
              "       [4.42521423e-01],\n",
              "       [7.41912425e-01],\n",
              "       [3.51184830e-02],\n",
              "       [1.82114288e-01],\n",
              "       [1.46349207e-01],\n",
              "       [1.44927189e-01],\n",
              "       [4.45245564e-01],\n",
              "       [4.85032380e-01],\n",
              "       [7.09458649e-01],\n",
              "       [7.31508553e-01],\n",
              "       [7.73552507e-02],\n",
              "       [9.99713957e-01],\n",
              "       [1.03929646e-01],\n",
              "       [1.19716585e-01],\n",
              "       [8.13031673e-01],\n",
              "       [4.18487132e-01],\n",
              "       [2.19470307e-01],\n",
              "       [8.31914663e-01],\n",
              "       [8.21069442e-03],\n",
              "       [4.97238562e-02],\n",
              "       [6.70368850e-01],\n",
              "       [6.82929233e-02],\n",
              "       [9.99713957e-01],\n",
              "       [9.99807656e-01],\n",
              "       [9.98812675e-01],\n",
              "       [9.83283162e-01],\n",
              "       [8.27208608e-02],\n",
              "       [9.65988219e-01],\n",
              "       [2.05000430e-01],\n",
              "       [2.36418396e-01],\n",
              "       [8.57085139e-02],\n",
              "       [9.96623039e-01],\n",
              "       [2.58008689e-01],\n",
              "       [2.07237959e-01],\n",
              "       [9.51569796e-01],\n",
              "       [1.72837198e-01],\n",
              "       [5.89488268e-01],\n",
              "       [3.82011980e-02],\n",
              "       [7.63953803e-03],\n",
              "       [2.00675324e-01],\n",
              "       [9.80070412e-01],\n",
              "       [2.30699748e-01],\n",
              "       [4.89511080e-02],\n",
              "       [3.92472923e-01],\n",
              "       [1.60877243e-01],\n",
              "       [2.47916803e-01],\n",
              "       [9.92270708e-01],\n",
              "       [7.60837018e-01],\n",
              "       [5.18302917e-01],\n",
              "       [9.87472534e-01],\n",
              "       [1.60321184e-02],\n",
              "       [9.74196494e-01],\n",
              "       [5.92492819e-02],\n",
              "       [2.48902276e-01],\n",
              "       [9.92768288e-01],\n",
              "       [1.94070324e-01],\n",
              "       [7.31885508e-02],\n",
              "       [9.98318970e-01],\n",
              "       [2.44009003e-01],\n",
              "       [9.76781249e-01],\n",
              "       [1.77232012e-01],\n",
              "       [9.94095445e-01],\n",
              "       [8.74948859e-01],\n",
              "       [8.09256971e-01],\n",
              "       [2.82500330e-02],\n",
              "       [9.98247504e-01],\n",
              "       [4.68371473e-02],\n",
              "       [3.72211039e-01],\n",
              "       [4.26842332e-01],\n",
              "       [6.98036551e-01],\n",
              "       [9.94156122e-01],\n",
              "       [1.39501207e-02],\n",
              "       [8.50169957e-01],\n",
              "       [8.12924862e-01],\n",
              "       [9.71187413e-01],\n",
              "       [9.77154434e-01],\n",
              "       [4.36252922e-01],\n",
              "       [7.51956180e-02],\n",
              "       [9.99520063e-01],\n",
              "       [1.26340762e-02],\n",
              "       [2.79364139e-02],\n",
              "       [9.68139395e-02],\n",
              "       [9.08767462e-01],\n",
              "       [9.20691490e-02],\n",
              "       [2.13087723e-01],\n",
              "       [1.45408884e-02],\n",
              "       [9.15133134e-02],\n",
              "       [3.00581623e-02],\n",
              "       [2.15702459e-01],\n",
              "       [7.47422993e-01],\n",
              "       [6.37265742e-02],\n",
              "       [2.14841798e-01],\n",
              "       [8.88134897e-01],\n",
              "       [9.77643132e-01],\n",
              "       [3.54305774e-01],\n",
              "       [1.14191875e-01],\n",
              "       [9.99805629e-01],\n",
              "       [5.00876725e-01],\n",
              "       [9.18274343e-01],\n",
              "       [6.52098656e-01],\n",
              "       [8.43135476e-01],\n",
              "       [2.86005229e-01],\n",
              "       [9.82111275e-01],\n",
              "       [2.07478404e-02],\n",
              "       [1.61941946e-01],\n",
              "       [5.55756502e-03],\n",
              "       [4.52030730e-03],\n",
              "       [9.44926441e-01],\n",
              "       [8.04424226e-01],\n",
              "       [8.71837974e-01],\n",
              "       [1.18163228e-01],\n",
              "       [7.28264391e-01],\n",
              "       [7.82938823e-02],\n",
              "       [2.39768159e-02],\n",
              "       [1.79889888e-01],\n",
              "       [9.78569508e-01],\n",
              "       [1.99823022e-01],\n",
              "       [5.13254583e-01],\n",
              "       [9.94628370e-01],\n",
              "       [5.44376493e-01],\n",
              "       [5.87523937e-01],\n",
              "       [8.64931643e-02],\n",
              "       [2.11867824e-01],\n",
              "       [7.80813098e-01],\n",
              "       [1.97403610e-01],\n",
              "       [3.94861042e-01],\n",
              "       [1.31009415e-01],\n",
              "       [6.02008522e-01],\n",
              "       [3.46879065e-01],\n",
              "       [1.60540953e-01],\n",
              "       [6.37275651e-02],\n",
              "       [4.18793589e-01],\n",
              "       [2.07064092e-01],\n",
              "       [9.99820888e-01],\n",
              "       [9.86530304e-01],\n",
              "       [8.14660564e-02],\n",
              "       [2.31814068e-02],\n",
              "       [8.45654547e-01],\n",
              "       [1.01572186e-01],\n",
              "       [6.99240714e-02],\n",
              "       [4.61158931e-01],\n",
              "       [3.30338925e-02],\n",
              "       [5.82383692e-01],\n",
              "       [7.52082851e-04],\n",
              "       [3.85101110e-01],\n",
              "       [9.15101469e-01],\n",
              "       [1.58526987e-01],\n",
              "       [9.66995776e-01],\n",
              "       [9.98864055e-01],\n",
              "       [2.55897194e-01],\n",
              "       [1.55012712e-01],\n",
              "       [3.29934597e-01],\n",
              "       [3.40906754e-02],\n",
              "       [5.34859579e-03],\n",
              "       [9.83336627e-01],\n",
              "       [9.64524686e-01],\n",
              "       [7.18689322e-01],\n",
              "       [9.31810141e-01],\n",
              "       [5.58940805e-02],\n",
              "       [1.45105764e-01],\n",
              "       [7.90435541e-03],\n",
              "       [1.50822371e-01],\n",
              "       [3.61393765e-02],\n",
              "       [9.54430819e-01],\n",
              "       [9.16180238e-02],\n",
              "       [9.43701621e-03],\n",
              "       [9.65269387e-01],\n",
              "       [1.40694538e-02],\n",
              "       [1.15499772e-01],\n",
              "       [9.76678193e-01],\n",
              "       [3.38856652e-02],\n",
              "       [6.65062815e-02],\n",
              "       [5.46820322e-03],\n",
              "       [9.65741456e-01],\n",
              "       [6.03410959e-01],\n",
              "       [7.64324069e-01],\n",
              "       [6.76507473e-01],\n",
              "       [5.84072649e-01],\n",
              "       [6.43029213e-02],\n",
              "       [9.41458702e-01],\n",
              "       [3.88499722e-02],\n",
              "       [7.08445072e-01],\n",
              "       [4.07739758e-01],\n",
              "       [3.27693343e-01],\n",
              "       [3.52125913e-01],\n",
              "       [1.88496262e-01],\n",
              "       [7.02359974e-01],\n",
              "       [2.54081815e-01],\n",
              "       [6.61346376e-01],\n",
              "       [1.35570630e-01],\n",
              "       [7.91090310e-01],\n",
              "       [4.37762588e-02],\n",
              "       [6.98002651e-02],\n",
              "       [2.21589610e-01],\n",
              "       [9.81713116e-01],\n",
              "       [1.72938988e-01],\n",
              "       [7.21663311e-02],\n",
              "       [3.03190202e-01],\n",
              "       [1.49033457e-01],\n",
              "       [1.05909877e-01],\n",
              "       [2.31159050e-02],\n",
              "       [3.01778987e-02],\n",
              "       [9.81124759e-01],\n",
              "       [2.89350390e-01],\n",
              "       [2.25166216e-01],\n",
              "       [9.99837399e-01],\n",
              "       [5.17477281e-02],\n",
              "       [6.07350707e-01],\n",
              "       [1.99231893e-01],\n",
              "       [4.14952002e-02],\n",
              "       [1.11642435e-01],\n",
              "       [1.67565420e-01],\n",
              "       [6.97583705e-02],\n",
              "       [9.09198761e-01],\n",
              "       [2.39675000e-01],\n",
              "       [9.84273434e-01],\n",
              "       [9.06869695e-02],\n",
              "       [1.68931615e-02],\n",
              "       [9.94933903e-01],\n",
              "       [2.59397626e-02],\n",
              "       [9.95986760e-01],\n",
              "       [1.28696367e-01],\n",
              "       [3.11754048e-02],\n",
              "       [9.54384804e-01],\n",
              "       [3.65603901e-02],\n",
              "       [3.66385020e-02],\n",
              "       [9.81126845e-01],\n",
              "       [3.91137181e-03],\n",
              "       [1.93977281e-01],\n",
              "       [7.20796824e-01],\n",
              "       [9.03539717e-01],\n",
              "       [4.04495467e-03],\n",
              "       [1.41131476e-01],\n",
              "       [9.78364170e-01],\n",
              "       [9.66027737e-01],\n",
              "       [6.83589280e-01],\n",
              "       [3.51305723e-01],\n",
              "       [5.60893476e-01],\n",
              "       [3.99447143e-01],\n",
              "       [3.77455801e-02],\n",
              "       [8.91902596e-02],\n",
              "       [6.77839145e-02],\n",
              "       [6.68995261e-01],\n",
              "       [3.15769687e-02],\n",
              "       [3.71232212e-01],\n",
              "       [4.07059759e-01],\n",
              "       [1.17716445e-02],\n",
              "       [9.49636579e-01],\n",
              "       [9.98812675e-01],\n",
              "       [9.93249655e-01],\n",
              "       [3.11375074e-02],\n",
              "       [2.62564749e-01],\n",
              "       [1.71614304e-01],\n",
              "       [4.43992168e-01],\n",
              "       [7.78485537e-01],\n",
              "       [1.61879569e-01],\n",
              "       [1.75269227e-02],\n",
              "       [5.37600815e-02],\n",
              "       [4.47146036e-02],\n",
              "       [5.66773057e-01],\n",
              "       [1.00282300e-02],\n",
              "       [2.16500774e-01],\n",
              "       [4.35062386e-02],\n",
              "       [3.85762155e-01],\n",
              "       [3.80210459e-01],\n",
              "       [2.68248469e-01],\n",
              "       [1.37520775e-01],\n",
              "       [4.90695201e-02],\n",
              "       [2.80298144e-01],\n",
              "       [8.23503956e-02],\n",
              "       [9.96551752e-01],\n",
              "       [8.93063009e-01],\n",
              "       [3.33030641e-01],\n",
              "       [5.52119792e-01],\n",
              "       [1.78177357e-02],\n",
              "       [4.61802632e-01],\n",
              "       [9.88821030e-01],\n",
              "       [6.35742009e-01],\n",
              "       [1.66973174e-01],\n",
              "       [9.76910353e-01],\n",
              "       [1.72830015e-01],\n",
              "       [9.45857942e-01],\n",
              "       [2.50951022e-01],\n",
              "       [2.56922916e-02],\n",
              "       [5.56331456e-01],\n",
              "       [4.10040349e-01],\n",
              "       [9.95554268e-01],\n",
              "       [8.33562762e-02],\n",
              "       [4.83157001e-02],\n",
              "       [7.05909058e-02],\n",
              "       [1.61879569e-01],\n",
              "       [9.98866081e-01],\n",
              "       [2.21576188e-02],\n",
              "       [5.17738521e-01],\n",
              "       [9.71174061e-01],\n",
              "       [9.09453854e-02],\n",
              "       [9.99713957e-01],\n",
              "       [3.39078568e-02],\n",
              "       [3.21042240e-01],\n",
              "       [6.34984076e-02],\n",
              "       [7.79088914e-01],\n",
              "       [9.12999034e-01],\n",
              "       [5.72821386e-02],\n",
              "       [1.54027238e-03],\n",
              "       [2.23436579e-01],\n",
              "       [9.88664627e-01],\n",
              "       [8.37740004e-01],\n",
              "       [9.66741219e-02],\n",
              "       [4.60502416e-01],\n",
              "       [7.22425044e-01],\n",
              "       [1.82686821e-02],\n",
              "       [9.91977692e-01],\n",
              "       [5.41053653e-01],\n",
              "       [9.98798728e-01],\n",
              "       [9.14040327e-01],\n",
              "       [1.07131653e-01],\n",
              "       [4.01177853e-01],\n",
              "       [1.35866672e-01],\n",
              "       [9.15813267e-01],\n",
              "       [7.03453183e-01],\n",
              "       [3.27894509e-01],\n",
              "       [2.30300967e-02],\n",
              "       [2.97362745e-01],\n",
              "       [4.34700213e-02],\n",
              "       [9.04397070e-02],\n",
              "       [1.10180750e-01],\n",
              "       [3.58392358e-01],\n",
              "       [4.58587646e-01],\n",
              "       [1.73241869e-01],\n",
              "       [9.99201000e-01],\n",
              "       [9.83704031e-01],\n",
              "       [2.20250711e-01],\n",
              "       [6.98214769e-01],\n",
              "       [2.17080116e-01],\n",
              "       [3.70076895e-02],\n",
              "       [2.31141567e-01],\n",
              "       [6.90518260e-01],\n",
              "       [7.00475127e-02],\n",
              "       [1.61082670e-01],\n",
              "       [1.37147838e-02],\n",
              "       [4.22946900e-01],\n",
              "       [2.48170295e-03],\n",
              "       [9.54113424e-01],\n",
              "       [9.74460840e-01],\n",
              "       [9.93518174e-01],\n",
              "       [9.66518581e-01],\n",
              "       [7.60134876e-01],\n",
              "       [1.78344086e-01],\n",
              "       [4.62592579e-02],\n",
              "       [5.96594155e-01],\n",
              "       [9.07755554e-01],\n",
              "       [9.97770071e-01],\n",
              "       [2.75093480e-03],\n",
              "       [1.24923900e-01],\n",
              "       [1.45169005e-01],\n",
              "       [9.98654842e-01],\n",
              "       [9.99409199e-01],\n",
              "       [2.79706717e-01],\n",
              "       [1.23541512e-01],\n",
              "       [9.96443331e-01],\n",
              "       [4.19424959e-02],\n",
              "       [3.10798734e-01],\n",
              "       [9.84478474e-01],\n",
              "       [1.25371918e-01],\n",
              "       [2.94928346e-02],\n",
              "       [9.12556291e-01],\n",
              "       [2.78648823e-01],\n",
              "       [3.38687718e-01],\n",
              "       [9.70030546e-01],\n",
              "       [2.29429584e-02],\n",
              "       [4.68798019e-02],\n",
              "       [9.99269821e-03],\n",
              "       [1.46982754e-02],\n",
              "       [1.13048851e-01],\n",
              "       [9.67335284e-01],\n",
              "       [1.68225020e-02],\n",
              "       [2.95306504e-01],\n",
              "       [4.60213214e-01],\n",
              "       [5.16048670e-02],\n",
              "       [2.21776441e-01],\n",
              "       [7.07007274e-02],\n",
              "       [3.73492688e-01],\n",
              "       [9.98399436e-01],\n",
              "       [5.51196814e-01],\n",
              "       [1.49865091e-01],\n",
              "       [1.20418690e-01],\n",
              "       [1.33142784e-01],\n",
              "       [5.17141223e-02],\n",
              "       [6.14259005e-01],\n",
              "       [1.53976930e-02],\n",
              "       [8.74342144e-01],\n",
              "       [7.51678586e-01],\n",
              "       [5.79724610e-01],\n",
              "       [6.02686405e-01],\n",
              "       [7.60544002e-01],\n",
              "       [6.77531287e-02],\n",
              "       [2.05270484e-01],\n",
              "       [3.86604518e-01],\n",
              "       [8.84813130e-01],\n",
              "       [2.51082182e-01],\n",
              "       [1.55161932e-01],\n",
              "       [3.21133822e-01],\n",
              "       [1.39180254e-02],\n",
              "       [8.20252001e-02],\n",
              "       [3.23088676e-01],\n",
              "       [8.08582306e-01],\n",
              "       [7.81848356e-02],\n",
              "       [9.92731512e-01],\n",
              "       [8.79205048e-01],\n",
              "       [6.90329194e-01],\n",
              "       [9.83439267e-01],\n",
              "       [1.15588389e-01],\n",
              "       [4.59159575e-02],\n",
              "       [8.72520030e-01],\n",
              "       [2.09902182e-01],\n",
              "       [1.99285280e-02],\n",
              "       [8.76661837e-02],\n",
              "       [1.49416998e-01],\n",
              "       [1.24912814e-03],\n",
              "       [8.31145048e-01],\n",
              "       [7.51232624e-01],\n",
              "       [8.15204799e-01],\n",
              "       [9.25925195e-01],\n",
              "       [1.16255417e-01],\n",
              "       [8.82681012e-02],\n",
              "       [6.30714118e-01],\n",
              "       [1.35450577e-02],\n",
              "       [2.25650266e-01],\n",
              "       [1.02221891e-01],\n",
              "       [5.33339143e-01],\n",
              "       [5.67774951e-01],\n",
              "       [5.28026335e-02],\n",
              "       [5.49653918e-02],\n",
              "       [3.59232336e-01],\n",
              "       [1.00124419e-01],\n",
              "       [8.72773901e-02],\n",
              "       [1.39124587e-01],\n",
              "       [2.23663911e-01],\n",
              "       [9.98783290e-01],\n",
              "       [9.80345190e-01],\n",
              "       [3.23467106e-01],\n",
              "       [8.29586923e-01],\n",
              "       [9.91489768e-01],\n",
              "       [1.23502722e-03],\n",
              "       [9.60409462e-01],\n",
              "       [2.17492804e-01],\n",
              "       [4.15755779e-01],\n",
              "       [1.74413159e-01],\n",
              "       [7.61056542e-02],\n",
              "       [1.19561866e-01],\n",
              "       [2.27933526e-02],\n",
              "       [8.17103013e-02],\n",
              "       [7.94416964e-02],\n",
              "       [7.30098069e-01],\n",
              "       [2.88594127e-01],\n",
              "       [9.92717385e-01],\n",
              "       [3.19449939e-02],\n",
              "       [6.71908915e-01],\n",
              "       [5.48513770e-01],\n",
              "       [1.76752191e-02],\n",
              "       [5.87596744e-02],\n",
              "       [9.65228856e-01],\n",
              "       [6.83659852e-01],\n",
              "       [9.55686510e-01],\n",
              "       [1.72257558e-01],\n",
              "       [7.83609897e-02],\n",
              "       [3.64843905e-01],\n",
              "       [2.83982337e-01],\n",
              "       [2.39228323e-01],\n",
              "       [9.91489768e-01],\n",
              "       [1.03506744e-02],\n",
              "       [4.16581929e-02],\n",
              "       [1.19926155e-01],\n",
              "       [9.96223092e-01],\n",
              "       [2.01537326e-01],\n",
              "       [4.67604287e-02],\n",
              "       [8.18776190e-01],\n",
              "       [6.28748015e-02],\n",
              "       [2.96646338e-02],\n",
              "       [1.30890936e-01],\n",
              "       [1.73110902e-01],\n",
              "       [9.04942304e-02],\n",
              "       [4.35454696e-01],\n",
              "       [3.79429847e-01],\n",
              "       [1.54517457e-01],\n",
              "       [8.75662938e-02],\n",
              "       [2.74589062e-01],\n",
              "       [1.65309366e-02],\n",
              "       [9.39011753e-01],\n",
              "       [7.99640715e-01],\n",
              "       [3.99643123e-01],\n",
              "       [2.99411714e-02],\n",
              "       [1.91943608e-02],\n",
              "       [9.84905303e-01],\n",
              "       [6.56041920e-01],\n",
              "       [9.99480426e-01],\n",
              "       [2.02663362e-01],\n",
              "       [8.77476275e-01],\n",
              "       [7.82598630e-02],\n",
              "       [5.90627432e-01],\n",
              "       [6.10727549e-01],\n",
              "       [1.89303160e-02],\n",
              "       [9.75436330e-01],\n",
              "       [6.74633682e-02],\n",
              "       [5.18534362e-01],\n",
              "       [9.98152912e-01],\n",
              "       [1.20027572e-01],\n",
              "       [2.73366366e-02],\n",
              "       [2.44442165e-01],\n",
              "       [9.34986863e-03],\n",
              "       [4.10310030e-01],\n",
              "       [9.99805629e-01],\n",
              "       [2.67070740e-01],\n",
              "       [9.30876255e-01],\n",
              "       [2.11164087e-01],\n",
              "       [7.38475561e-01],\n",
              "       [1.69585541e-01],\n",
              "       [2.54074097e-01],\n",
              "       [1.39725646e-02],\n",
              "       [5.78802109e-01],\n",
              "       [1.59191303e-02],\n",
              "       [1.52795598e-01],\n",
              "       [9.56995904e-01],\n",
              "       [9.32878733e-01],\n",
              "       [9.95023727e-01],\n",
              "       [7.21353710e-01],\n",
              "       [3.97829711e-02],\n",
              "       [2.50367612e-01],\n",
              "       [1.67436749e-02],\n",
              "       [3.77685100e-01],\n",
              "       [3.46932411e-01],\n",
              "       [8.51689816e-01],\n",
              "       [3.57491709e-02],\n",
              "       [7.08151639e-01],\n",
              "       [8.05221081e-01],\n",
              "       [2.18828872e-01],\n",
              "       [1.55343115e-01],\n",
              "       [1.55161932e-01],\n",
              "       [1.77279696e-01],\n",
              "       [2.89767385e-01],\n",
              "       [6.27684414e-01],\n",
              "       [9.98482645e-01],\n",
              "       [4.23027501e-02],\n",
              "       [7.31504243e-03],\n",
              "       [1.33380881e-02],\n",
              "       [1.94911838e-01],\n",
              "       [2.05170050e-01],\n",
              "       [1.83221623e-02],\n",
              "       [7.65849233e-01],\n",
              "       [1.05784357e-01],\n",
              "       [1.51201293e-01],\n",
              "       [2.21974969e-01],\n",
              "       [1.55298159e-01],\n",
              "       [9.14587557e-01],\n",
              "       [1.64626554e-01],\n",
              "       [5.10213792e-01],\n",
              "       [2.69322336e-01],\n",
              "       [1.52118048e-02],\n",
              "       [9.15008858e-02],\n",
              "       [9.99666333e-01],\n",
              "       [7.55720913e-01],\n",
              "       [4.11174493e-03],\n",
              "       [3.18978339e-01],\n",
              "       [1.09115809e-01],\n",
              "       [7.83046186e-02],\n",
              "       [8.60969126e-01],\n",
              "       [5.37650466e-01],\n",
              "       [5.57060003e-01],\n",
              "       [3.87618393e-01],\n",
              "       [1.63327545e-01],\n",
              "       [6.24669671e-01],\n",
              "       [1.06769785e-01],\n",
              "       [4.26615439e-02],\n",
              "       [8.99934232e-01],\n",
              "       [1.22675575e-01],\n",
              "       [3.15627903e-01],\n",
              "       [9.75632727e-01],\n",
              "       [2.79544264e-01],\n",
              "       [3.21602315e-01],\n",
              "       [1.24912814e-03],\n",
              "       [1.80124357e-01],\n",
              "       [8.32760274e-01],\n",
              "       [9.99713957e-01],\n",
              "       [6.58281028e-01],\n",
              "       [4.19415981e-02],\n",
              "       [9.88176644e-01],\n",
              "       [3.62025648e-01],\n",
              "       [8.63340735e-01],\n",
              "       [3.62025648e-01],\n",
              "       [9.88850653e-01],\n",
              "       [9.06118285e-03],\n",
              "       [3.49326432e-01],\n",
              "       [7.09588826e-02],\n",
              "       [9.79366839e-01],\n",
              "       [2.31025174e-01],\n",
              "       [4.50228989e-01],\n",
              "       [4.87844273e-02],\n",
              "       [2.85440505e-01],\n",
              "       [1.12053640e-01],\n",
              "       [2.53666192e-02],\n",
              "       [2.05730885e-01],\n",
              "       [6.38233870e-02],\n",
              "       [6.96172342e-02],\n",
              "       [8.20971608e-01],\n",
              "       [1.80440098e-02],\n",
              "       [7.79510736e-02],\n",
              "       [3.05218436e-02],\n",
              "       [1.45186288e-02],\n",
              "       [1.05824180e-01],\n",
              "       [6.10576868e-01],\n",
              "       [6.77031204e-02],\n",
              "       [5.94385445e-01],\n",
              "       [1.57924414e-01],\n",
              "       [1.95944265e-01],\n",
              "       [8.65071237e-01],\n",
              "       [1.63364679e-01],\n",
              "       [4.44985591e-02],\n",
              "       [6.39379621e-02],\n",
              "       [4.62170644e-03],\n",
              "       [9.88441706e-01],\n",
              "       [1.45186288e-02],\n",
              "       [3.79512936e-01],\n",
              "       [9.92962658e-01],\n",
              "       [9.92799640e-01],\n",
              "       [9.97184575e-01],\n",
              "       [9.99906421e-01],\n",
              "       [9.99468267e-01],\n",
              "       [2.00917795e-01],\n",
              "       [6.41467497e-02],\n",
              "       [1.98986322e-01],\n",
              "       [5.11306167e-01],\n",
              "       [9.96816814e-01],\n",
              "       [4.98474270e-01],\n",
              "       [2.04103693e-01],\n",
              "       [4.81129378e-01],\n",
              "       [6.83720708e-01],\n",
              "       [2.72452831e-02],\n",
              "       [4.63484321e-03],\n",
              "       [7.65038580e-02],\n",
              "       [3.32268924e-01],\n",
              "       [7.68756308e-03],\n",
              "       [4.41209003e-02],\n",
              "       [3.46433967e-01],\n",
              "       [9.88393486e-01],\n",
              "       [1.84113104e-02],\n",
              "       [9.19894874e-01],\n",
              "       [6.76698387e-01],\n",
              "       [6.20910190e-02],\n",
              "       [2.11626485e-01],\n",
              "       [1.26639590e-01],\n",
              "       [7.23132610e-01],\n",
              "       [3.99771482e-01],\n",
              "       [8.05123709e-03]], dtype=float32)"
            ]
          },
          "metadata": {},
          "execution_count": 30
        }
      ]
    },
    {
      "cell_type": "code",
      "source": [
        "model_1_preds = tf.squeeze(tf.round(model_1_pred_probs))\n",
        "model_1_preds"
      ],
      "metadata": {
        "colab": {
          "base_uri": "https://localhost:8080/"
        },
        "id": "MrX5CYTInWn1",
        "outputId": "6e77f22d-a5c1-49d4-d38d-46a1f6e23a9d"
      },
      "execution_count": 31,
      "outputs": [
        {
          "output_type": "execute_result",
          "data": {
            "text/plain": [
              "<tf.Tensor: shape=(762,), dtype=float32, numpy=\n",
              "array([0., 1., 1., 0., 0., 1., 1., 1., 1., 0., 0., 1., 0., 0., 0., 0., 0.,\n",
              "       0., 0., 0., 1., 0., 0., 0., 1., 1., 0., 0., 0., 0., 1., 0., 0., 0.,\n",
              "       1., 0., 1., 0., 0., 1., 0., 0., 0., 0., 1., 1., 0., 1., 0., 1., 0.,\n",
              "       0., 0., 0., 0., 0., 0., 1., 0., 0., 0., 1., 1., 0., 1., 1., 1., 0.,\n",
              "       0., 0., 0., 0., 1., 0., 0., 0., 0., 1., 0., 1., 0., 0., 1., 0., 0.,\n",
              "       0., 0., 0., 1., 1., 1., 0., 1., 0., 1., 1., 1., 1., 1., 1., 1., 0.,\n",
              "       0., 1., 1., 0., 1., 1., 0., 0., 1., 0., 0., 0., 0., 0., 0., 1., 1.,\n",
              "       0., 1., 0., 0., 1., 0., 0., 1., 0., 0., 1., 0., 1., 1., 1., 1., 0.,\n",
              "       1., 0., 0., 0., 1., 0., 0., 1., 0., 1., 0., 0., 0., 1., 0., 0., 0.,\n",
              "       0., 0., 1., 1., 1., 1., 0., 1., 0., 0., 1., 0., 0., 1., 0., 1., 0.,\n",
              "       1., 1., 1., 0., 1., 0., 0., 0., 1., 1., 0., 1., 1., 1., 1., 0., 0.,\n",
              "       1., 0., 0., 0., 1., 0., 0., 0., 0., 0., 0., 1., 0., 0., 1., 1., 0.,\n",
              "       0., 1., 1., 1., 1., 1., 0., 1., 0., 0., 0., 0., 1., 1., 1., 0., 1.,\n",
              "       0., 0., 0., 1., 0., 1., 1., 1., 1., 0., 0., 1., 0., 0., 0., 1., 0.,\n",
              "       0., 0., 0., 0., 1., 1., 0., 0., 1., 0., 0., 0., 0., 1., 0., 0., 1.,\n",
              "       0., 1., 1., 0., 0., 0., 0., 0., 1., 1., 1., 1., 0., 0., 0., 0., 0.,\n",
              "       1., 0., 0., 1., 0., 0., 1., 0., 0., 0., 1., 1., 1., 1., 1., 0., 1.,\n",
              "       0., 1., 0., 0., 0., 0., 1., 0., 1., 0., 1., 0., 0., 0., 1., 0., 0.,\n",
              "       0., 0., 0., 0., 0., 1., 0., 0., 1., 0., 1., 0., 0., 0., 0., 0., 1.,\n",
              "       0., 1., 0., 0., 1., 0., 1., 0., 0., 1., 0., 0., 1., 0., 0., 1., 1.,\n",
              "       0., 0., 1., 1., 1., 0., 1., 0., 0., 0., 0., 1., 0., 0., 0., 0., 1.,\n",
              "       1., 1., 0., 0., 0., 0., 1., 0., 0., 0., 0., 1., 0., 0., 0., 0., 0.,\n",
              "       0., 0., 0., 0., 0., 1., 1., 0., 1., 0., 0., 1., 1., 0., 1., 0., 1.,\n",
              "       0., 0., 1., 0., 1., 0., 0., 0., 0., 1., 0., 1., 1., 0., 1., 0., 0.,\n",
              "       0., 1., 1., 0., 0., 0., 1., 1., 0., 0., 1., 0., 1., 1., 1., 1., 0.,\n",
              "       0., 0., 1., 1., 0., 0., 0., 0., 0., 0., 0., 0., 0., 1., 1., 0., 1.,\n",
              "       0., 0., 0., 1., 0., 0., 0., 0., 0., 1., 1., 1., 1., 1., 0., 0., 1.,\n",
              "       1., 1., 0., 0., 0., 1., 1., 0., 0., 1., 0., 0., 1., 0., 0., 1., 0.,\n",
              "       0., 1., 0., 0., 0., 0., 0., 1., 0., 0., 0., 0., 0., 0., 0., 1., 1.,\n",
              "       0., 0., 0., 0., 1., 0., 1., 1., 1., 1., 1., 0., 0., 0., 1., 0., 0.,\n",
              "       0., 0., 0., 0., 1., 0., 1., 1., 1., 1., 0., 0., 1., 0., 0., 0., 0.,\n",
              "       0., 1., 1., 1., 1., 0., 0., 1., 0., 0., 0., 1., 1., 0., 0., 0., 0.,\n",
              "       0., 0., 0., 1., 1., 0., 1., 1., 0., 1., 0., 0., 0., 0., 0., 0., 0.,\n",
              "       0., 1., 0., 1., 0., 1., 1., 0., 0., 1., 1., 1., 0., 0., 0., 0., 0.,\n",
              "       1., 0., 0., 0., 1., 0., 0., 1., 0., 0., 0., 0., 0., 0., 0., 0., 0.,\n",
              "       0., 0., 1., 1., 0., 0., 0., 1., 1., 1., 0., 1., 0., 1., 1., 0., 1.,\n",
              "       0., 1., 1., 0., 0., 0., 0., 0., 1., 0., 1., 0., 1., 0., 0., 0., 1.,\n",
              "       0., 0., 1., 1., 1., 1., 0., 0., 0., 0., 0., 1., 0., 1., 1., 0., 0.,\n",
              "       0., 0., 0., 1., 1., 0., 0., 0., 0., 0., 0., 1., 0., 0., 0., 0., 1.,\n",
              "       0., 1., 0., 0., 0., 1., 1., 0., 0., 0., 0., 1., 1., 1., 0., 0., 1.,\n",
              "       0., 0., 1., 0., 0., 1., 0., 0., 0., 0., 1., 1., 1., 0., 1., 0., 1.,\n",
              "       0., 1., 0., 0., 0., 1., 0., 0., 0., 0., 0., 0., 0., 0., 0., 1., 0.,\n",
              "       0., 0., 0., 0., 1., 0., 1., 0., 0., 1., 0., 0., 0., 0., 1., 0., 0.,\n",
              "       1., 1., 1., 1., 1., 0., 0., 0., 1., 1., 0., 0., 0., 1., 0., 0., 0.,\n",
              "       0., 0., 0., 0., 1., 0., 1., 1., 0., 0., 0., 1., 0., 0.],\n",
              "      dtype=float32)>"
            ]
          },
          "metadata": {},
          "execution_count": 31
        }
      ]
    },
    {
      "cell_type": "code",
      "source": [
        "model_1_results = calculate_results(val_labels, model_1_preds)\n",
        "model_1_results, baseline_results"
      ],
      "metadata": {
        "colab": {
          "base_uri": "https://localhost:8080/"
        },
        "id": "YSrVraEgngI_",
        "outputId": "4ea5457c-279b-4b80-e963-bae99c73f512"
      },
      "execution_count": 32,
      "outputs": [
        {
          "output_type": "execute_result",
          "data": {
            "text/plain": [
              "({'accuracy': 79.00262467191601,\n",
              "  'f1': 0.7869273549752186,\n",
              "  'precision': 0.7955103864713003,\n",
              "  'recall': 0.7900262467191601},\n",
              " {'accuracy': 79.26509186351706,\n",
              "  'f1': 0.7862189758049549,\n",
              "  'precision': 0.8111390004213173,\n",
              "  'recall': 0.7926509186351706})"
            ]
          },
          "metadata": {},
          "execution_count": 32
        }
      ]
    },
    {
      "cell_type": "code",
      "source": [
        "embed_weights = model_1.get_layer(\"embedding\").get_weights()[0]\n",
        "embed_weights.shape"
      ],
      "metadata": {
        "colab": {
          "base_uri": "https://localhost:8080/"
        },
        "id": "nMDqa0bjodTZ",
        "outputId": "e1bc2ee6-6e8e-42b8-fb78-4419e6076583"
      },
      "execution_count": 33,
      "outputs": [
        {
          "output_type": "execute_result",
          "data": {
            "text/plain": [
              "(10000, 128)"
            ]
          },
          "metadata": {},
          "execution_count": 33
        }
      ]
    },
    {
      "cell_type": "markdown",
      "source": [
        "# Model 2: LSTM Model"
      ],
      "metadata": {
        "id": "SD23njEklQqb"
      }
    },
    {
      "cell_type": "code",
      "source": [
        "from tensorflow.keras import layers\n",
        "\n",
        "inputs = layers.Input(shape=(1,), dtype=\"string\")\n",
        "x = text_vectorizer(inputs)\n",
        "x = embedding(x)\n",
        "x = layers.LSTM(64, return_sequences=True)(x)\n",
        "x = layers.LSTM(64)(x)\n",
        "x = layers.Dense(64, activation=\"relu\")(x)\n",
        "outputs = layers.Dense(1, activation=\"sigmoid\")(x)\n",
        "model_2 = tf.keras.Model(inputs, outputs, name=\"model_2_LSTM\")"
      ],
      "metadata": {
        "id": "VMHu_qPfqah-"
      },
      "execution_count": 34,
      "outputs": []
    },
    {
      "cell_type": "code",
      "source": [
        "model_2.compile(\n",
        "    loss=\"binary_crossentropy\",\n",
        "    optimizer=tf.keras.optimizers.Adam(),\n",
        "    metrics=[\"accuracy\"]\n",
        ")"
      ],
      "metadata": {
        "id": "Ne5OLLd2nOBt"
      },
      "execution_count": 35,
      "outputs": []
    },
    {
      "cell_type": "code",
      "source": [
        "model_2_history = model_2.fit(\n",
        "    train_sentences,\n",
        "    train_labels,\n",
        "    epochs=5,\n",
        "    validation_data=(val_sentences, val_labels),\n",
        "    callbacks=[create_tensorboard_callback(SAVE_DIR, \"model_2_LSTM\")]\n",
        ")"
      ],
      "metadata": {
        "colab": {
          "base_uri": "https://localhost:8080/"
        },
        "id": "7IiH_6RxnV0x",
        "outputId": "ac550594-63bd-4a30-865e-468f5114444e"
      },
      "execution_count": 36,
      "outputs": [
        {
          "output_type": "stream",
          "name": "stdout",
          "text": [
            "Saving TensorBoard log files to: model_logs/model_2_LSTM/20220704-095030\n",
            "Epoch 1/5\n",
            "215/215 [==============================] - 13s 19ms/step - loss: 0.2260 - accuracy: 0.9237 - val_loss: 0.5569 - val_accuracy: 0.7822\n",
            "Epoch 2/5\n",
            "215/215 [==============================] - 2s 8ms/step - loss: 0.1601 - accuracy: 0.9403 - val_loss: 0.6185 - val_accuracy: 0.7861\n",
            "Epoch 3/5\n",
            "215/215 [==============================] - 2s 8ms/step - loss: 0.1278 - accuracy: 0.9514 - val_loss: 0.7210 - val_accuracy: 0.7808\n",
            "Epoch 4/5\n",
            "215/215 [==============================] - 2s 8ms/step - loss: 0.1078 - accuracy: 0.9587 - val_loss: 0.8361 - val_accuracy: 0.7795\n",
            "Epoch 5/5\n",
            "215/215 [==============================] - 2s 9ms/step - loss: 0.0826 - accuracy: 0.9661 - val_loss: 1.0495 - val_accuracy: 0.7677\n"
          ]
        }
      ]
    },
    {
      "cell_type": "code",
      "source": [
        "model_2_pred_probs = model_2.predict(val_sentences)\n",
        "model_2_pred_probs[:10]"
      ],
      "metadata": {
        "colab": {
          "base_uri": "https://localhost:8080/"
        },
        "id": "QsysZL4Xnt1Y",
        "outputId": "ae91a4ec-e413-4675-abc6-1bc137294a86"
      },
      "execution_count": 37,
      "outputs": [
        {
          "output_type": "execute_result",
          "data": {
            "text/plain": [
              "array([[3.0720353e-02],\n",
              "       [9.5613015e-01],\n",
              "       [9.9997926e-01],\n",
              "       [1.3120647e-01],\n",
              "       [1.6340890e-04],\n",
              "       [9.9995673e-01],\n",
              "       [9.8629308e-01],\n",
              "       [9.9999416e-01],\n",
              "       [9.9999011e-01],\n",
              "       [3.3258006e-01]], dtype=float32)"
            ]
          },
          "metadata": {},
          "execution_count": 37
        }
      ]
    },
    {
      "cell_type": "code",
      "source": [
        "model_2_preds = tf.squeeze(tf.round(model_2_pred_probs))\n",
        "model_2_preds[:10]"
      ],
      "metadata": {
        "colab": {
          "base_uri": "https://localhost:8080/"
        },
        "id": "Q2txykyan5yv",
        "outputId": "8bf57094-4d27-4262-fe3d-6713c416ef08"
      },
      "execution_count": 38,
      "outputs": [
        {
          "output_type": "execute_result",
          "data": {
            "text/plain": [
              "<tf.Tensor: shape=(10,), dtype=float32, numpy=array([0., 1., 1., 0., 0., 1., 1., 1., 1., 0.], dtype=float32)>"
            ]
          },
          "metadata": {},
          "execution_count": 38
        }
      ]
    },
    {
      "cell_type": "code",
      "source": [
        "model_2_results = calculate_results(y_true=val_labels, y_pred=model_2_preds)\n",
        "model_2_results"
      ],
      "metadata": {
        "colab": {
          "base_uri": "https://localhost:8080/"
        },
        "id": "RBkiUvDToFKY",
        "outputId": "fced3c70-e203-40b4-c118-52c7e820b404"
      },
      "execution_count": 39,
      "outputs": [
        {
          "output_type": "execute_result",
          "data": {
            "text/plain": [
              "{'accuracy': 76.77165354330708,\n",
              " 'f1': 0.766597011860758,\n",
              " 'precision': 0.7677367335034279,\n",
              " 'recall': 0.7677165354330708}"
            ]
          },
          "metadata": {},
          "execution_count": 39
        }
      ]
    },
    {
      "cell_type": "markdown",
      "source": [
        "# Model 3: GRU Model"
      ],
      "metadata": {
        "id": "Flvco2JPoiCJ"
      }
    },
    {
      "cell_type": "code",
      "source": [
        "from tensorflow.keras import layers\n",
        "\n",
        "inputs = layers.Input(shape=(1,), dtype=\"string\")\n",
        "x = text_vectorizer(inputs)\n",
        "x = embedding(x)\n",
        "#x = layers.GRU(64, return_sequences=True)(x)\n",
        "#x = layers.LSTM(64, return_sequences=True)(x)\n",
        "x = layers.GRU(64)(x)\n",
        "x = layers.Dense(64, activation=\"relu\")(x)\n",
        "outputs = layers.Dense(1, activation=\"sigmoid\")(x)\n",
        "\n",
        "model_3 = tf.keras.Model(inputs, outputs, name=\"model_3_GRU\")"
      ],
      "metadata": {
        "id": "mGmAJLvOokz8"
      },
      "execution_count": 40,
      "outputs": []
    },
    {
      "cell_type": "code",
      "source": [
        "model_3.compile(\n",
        "    loss=\"binary_crossentropy\",\n",
        "    optimizer=tf.keras.optimizers.Adam(),\n",
        "    metrics=[\"accuracy\"]\n",
        ")"
      ],
      "metadata": {
        "id": "GesF39RKp2d_"
      },
      "execution_count": 41,
      "outputs": []
    },
    {
      "cell_type": "code",
      "source": [
        "model_3_history = model_3.fit(\n",
        "    train_sentences,\n",
        "    train_labels,\n",
        "    epochs=5,\n",
        "    validation_data=(val_sentences, val_labels),\n",
        "    callbacks=[create_tensorboard_callback(SAVE_DIR, \"model_2_GRU\")]\n",
        ")"
      ],
      "metadata": {
        "colab": {
          "base_uri": "https://localhost:8080/"
        },
        "id": "v7FE10mmqFLD",
        "outputId": "e6c8c779-a6d0-4aa1-d546-5656e2766491"
      },
      "execution_count": 42,
      "outputs": [
        {
          "output_type": "stream",
          "name": "stdout",
          "text": [
            "Saving TensorBoard log files to: model_logs/model_2_GRU/20220704-095056\n",
            "Epoch 1/5\n",
            "215/215 [==============================] - 4s 8ms/step - loss: 0.1583 - accuracy: 0.9402 - val_loss: 0.7340 - val_accuracy: 0.7756\n",
            "Epoch 2/5\n",
            "215/215 [==============================] - 1s 6ms/step - loss: 0.0842 - accuracy: 0.9672 - val_loss: 1.0315 - val_accuracy: 0.7743\n",
            "Epoch 3/5\n",
            "215/215 [==============================] - 1s 7ms/step - loss: 0.0617 - accuracy: 0.9746 - val_loss: 0.9795 - val_accuracy: 0.7730\n",
            "Epoch 4/5\n",
            "215/215 [==============================] - 1s 7ms/step - loss: 0.0557 - accuracy: 0.9762 - val_loss: 1.5324 - val_accuracy: 0.7638\n",
            "Epoch 5/5\n",
            "215/215 [==============================] - 1s 7ms/step - loss: 0.0507 - accuracy: 0.9772 - val_loss: 1.2313 - val_accuracy: 0.7598\n"
          ]
        }
      ]
    },
    {
      "cell_type": "code",
      "source": [
        "model_3_pred_probs = model_3.predict(val_sentences)\n",
        "model_3_pred_probs[:10]"
      ],
      "metadata": {
        "colab": {
          "base_uri": "https://localhost:8080/"
        },
        "id": "7Z6AoDwcqN0t",
        "outputId": "d99985a0-0ebb-4ff8-fec7-324938bc6562"
      },
      "execution_count": 43,
      "outputs": [
        {
          "output_type": "execute_result",
          "data": {
            "text/plain": [
              "array([[5.2854151e-01],\n",
              "       [8.5362434e-01],\n",
              "       [9.9998379e-01],\n",
              "       [1.9301133e-01],\n",
              "       [1.3022892e-05],\n",
              "       [9.9982673e-01],\n",
              "       [9.6794879e-01],\n",
              "       [9.9998569e-01],\n",
              "       [9.9998367e-01],\n",
              "       [4.8223981e-01]], dtype=float32)"
            ]
          },
          "metadata": {},
          "execution_count": 43
        }
      ]
    },
    {
      "cell_type": "code",
      "source": [
        "model_3_preds = tf.squeeze(tf.round(model_3_pred_probs))\n",
        "model_3_preds[:10]"
      ],
      "metadata": {
        "colab": {
          "base_uri": "https://localhost:8080/"
        },
        "id": "ZjGJeWhdqTes",
        "outputId": "a5ec2e62-8f38-4e51-aa9b-cdc7e2afd2fd"
      },
      "execution_count": 44,
      "outputs": [
        {
          "output_type": "execute_result",
          "data": {
            "text/plain": [
              "<tf.Tensor: shape=(10,), dtype=float32, numpy=array([1., 1., 1., 0., 0., 1., 1., 1., 1., 0.], dtype=float32)>"
            ]
          },
          "metadata": {},
          "execution_count": 44
        }
      ]
    },
    {
      "cell_type": "code",
      "source": [
        "model_3_results = calculate_results(y_true=val_labels, y_pred=model_3_preds)\n",
        "model_3_results"
      ],
      "metadata": {
        "colab": {
          "base_uri": "https://localhost:8080/"
        },
        "id": "ztNOVBWmqbDp",
        "outputId": "57469138-6f0b-4f2a-dc0c-763158e7ae18"
      },
      "execution_count": 45,
      "outputs": [
        {
          "output_type": "execute_result",
          "data": {
            "text/plain": [
              "{'accuracy': 75.98425196850394,\n",
              " 'f1': 0.7590768821741806,\n",
              " 'precision': 0.7594780880165999,\n",
              " 'recall': 0.7598425196850394}"
            ]
          },
          "metadata": {},
          "execution_count": 45
        }
      ]
    },
    {
      "cell_type": "code",
      "source": [
        "baseline_results"
      ],
      "metadata": {
        "id": "mlxNie1kqhDl",
        "outputId": "985f129b-8063-4dd8-950c-70e9fb9e3d5b",
        "colab": {
          "base_uri": "https://localhost:8080/"
        }
      },
      "execution_count": 46,
      "outputs": [
        {
          "output_type": "execute_result",
          "data": {
            "text/plain": [
              "{'accuracy': 79.26509186351706,\n",
              " 'f1': 0.7862189758049549,\n",
              " 'precision': 0.8111390004213173,\n",
              " 'recall': 0.7926509186351706}"
            ]
          },
          "metadata": {},
          "execution_count": 46
        }
      ]
    },
    {
      "cell_type": "markdown",
      "source": [
        "# Model 4: Bi-Directional RNN Model"
      ],
      "metadata": {
        "id": "xJHigSRY3w51"
      }
    },
    {
      "cell_type": "code",
      "source": [
        "from tensorflow.keras import layers\n",
        "\n",
        "inputs = layers.Input(shape=(1,), dtype=\"string\")\n",
        "x = text_vectorizer(inputs)\n",
        "x = embedding(x)\n",
        "# x = layers.Bidirectional(layers.LSTM(64, return_sequences=True))(x)\n",
        "x = layers.Bidirectional(layers.LSTM(64))(x)\n",
        "x = layers.Dense(64, activation=\"relu\")(x)\n",
        "outputs = layers.Dense(1, activation=\"sigmoid\")(x)\n",
        "\n",
        "model_4 = tf.keras.Model(inputs, outputs, name=\"model_4_Bidirectional\")"
      ],
      "metadata": {
        "id": "jVJFkx7m3v5o"
      },
      "execution_count": 47,
      "outputs": []
    },
    {
      "cell_type": "code",
      "source": [
        "model_4.compile(\n",
        "    loss=\"binary_crossentropy\",\n",
        "    optimizer=tf.keras.optimizers.Adam(),\n",
        "    metrics=[\"accuracy\"]\n",
        ")"
      ],
      "metadata": {
        "id": "5WDzIGim5QC3"
      },
      "execution_count": 48,
      "outputs": []
    },
    {
      "cell_type": "code",
      "source": [
        "model_4_history = model_4.fit(\n",
        "    train_sentences,\n",
        "    train_labels,\n",
        "    epochs=5,\n",
        "    validation_data=(val_sentences, val_labels),\n",
        "    callbacks=[create_tensorboard_callback(SAVE_DIR, \"model_4_GRU\")]\n",
        ")"
      ],
      "metadata": {
        "colab": {
          "base_uri": "https://localhost:8080/"
        },
        "id": "N8WORMtg5dFU",
        "outputId": "a22a7c07-b009-4236-f104-a0f580d9a37a"
      },
      "execution_count": 49,
      "outputs": [
        {
          "output_type": "stream",
          "name": "stdout",
          "text": [
            "Saving TensorBoard log files to: model_logs/model_4_GRU/20220704-095107\n",
            "Epoch 1/5\n",
            "215/215 [==============================] - 6s 12ms/step - loss: 0.1025 - accuracy: 0.9672 - val_loss: 1.3786 - val_accuracy: 0.7559\n",
            "Epoch 2/5\n",
            "215/215 [==============================] - 2s 9ms/step - loss: 0.0524 - accuracy: 0.9766 - val_loss: 1.4869 - val_accuracy: 0.7743\n",
            "Epoch 3/5\n",
            "215/215 [==============================] - 2s 9ms/step - loss: 0.0430 - accuracy: 0.9794 - val_loss: 1.5265 - val_accuracy: 0.7690\n",
            "Epoch 4/5\n",
            "215/215 [==============================] - 2s 9ms/step - loss: 0.0398 - accuracy: 0.9794 - val_loss: 1.6599 - val_accuracy: 0.7743\n",
            "Epoch 5/5\n",
            "215/215 [==============================] - 2s 9ms/step - loss: 0.0404 - accuracy: 0.9800 - val_loss: 1.4017 - val_accuracy: 0.7664\n"
          ]
        }
      ]
    },
    {
      "cell_type": "code",
      "source": [
        "model_4_pred_probs = model_4.predict(val_sentences)\n",
        "model_4_pred_probs[:10]"
      ],
      "metadata": {
        "colab": {
          "base_uri": "https://localhost:8080/"
        },
        "id": "KCBZJ0PR5qfl",
        "outputId": "2b599b2d-9470-43eb-af4a-9b2a60551942"
      },
      "execution_count": 50,
      "outputs": [
        {
          "output_type": "execute_result",
          "data": {
            "text/plain": [
              "array([[5.4259808e-03],\n",
              "       [4.8201060e-01],\n",
              "       [9.9989271e-01],\n",
              "       [3.3470914e-01],\n",
              "       [5.7599764e-06],\n",
              "       [9.9998355e-01],\n",
              "       [7.6947665e-01],\n",
              "       [9.9999845e-01],\n",
              "       [9.9998951e-01],\n",
              "       [9.9375463e-01]], dtype=float32)"
            ]
          },
          "metadata": {},
          "execution_count": 50
        }
      ]
    },
    {
      "cell_type": "code",
      "source": [
        "model_4_preds = tf.squeeze(tf.round(model_4_pred_probs))\n",
        "model_4_preds[:10]"
      ],
      "metadata": {
        "colab": {
          "base_uri": "https://localhost:8080/"
        },
        "id": "QDTootHu5nGk",
        "outputId": "c7138372-06ce-4452-82a1-9fa766c7e5c6"
      },
      "execution_count": 51,
      "outputs": [
        {
          "output_type": "execute_result",
          "data": {
            "text/plain": [
              "<tf.Tensor: shape=(10,), dtype=float32, numpy=array([0., 0., 1., 0., 0., 1., 1., 1., 1., 1.], dtype=float32)>"
            ]
          },
          "metadata": {},
          "execution_count": 51
        }
      ]
    },
    {
      "cell_type": "code",
      "source": [
        "model_4_results = calculate_results(y_true=val_labels, y_pred=model_4_preds)\n",
        "model_4_results"
      ],
      "metadata": {
        "colab": {
          "base_uri": "https://localhost:8080/"
        },
        "id": "ExKLYRK05uZ1",
        "outputId": "3c990a20-8974-4d6e-d092-a050ea0ff2a1"
      },
      "execution_count": 52,
      "outputs": [
        {
          "output_type": "execute_result",
          "data": {
            "text/plain": [
              "{'accuracy': 76.64041994750657,\n",
              " 'f1': 0.7642857598265804,\n",
              " 'precision': 0.7679094748917975,\n",
              " 'recall': 0.7664041994750657}"
            ]
          },
          "metadata": {},
          "execution_count": 52
        }
      ]
    },
    {
      "cell_type": "markdown",
      "source": [
        "# Model 5: Conv1D Model"
      ],
      "metadata": {
        "id": "LDqVb_NHncUq"
      }
    },
    {
      "cell_type": "code",
      "source": [
        "import tensorflow as tf\n",
        "from tensorflow.keras import layers\n",
        "\n",
        "inputs = layers.Input(shape=(1,), dtype=\"string\")\n",
        "\n",
        "x = text_vectorizer(inputs)\n",
        "x = embedding(x)\n",
        "x = layers.Conv1D(filters=64, kernel_size=5, strides=1, activation=\"relu\", padding=\"valid\")(x)\n",
        "x = layers.GlobalMaxPool1D()(x)\n",
        "\n",
        "outputs = layers.Dense(1, activation=\"sigmoid\")(x)\n",
        "\n",
        "model_5 = tf.keras.Model(inputs, outputs, name=\"model_5_Conv1D\")"
      ],
      "metadata": {
        "id": "wGWnxNpmng89"
      },
      "execution_count": 56,
      "outputs": []
    },
    {
      "cell_type": "code",
      "source": [
        "model_5.compile(\n",
        "    loss=\"binary_crossentropy\",\n",
        "    optimizer=tf.keras.optimizers.Adam(),\n",
        "    metrics=[\"accuracy\"]\n",
        ")\n",
        "\n",
        "model_5.summary()"
      ],
      "metadata": {
        "colab": {
          "base_uri": "https://localhost:8080/"
        },
        "id": "URlWCScvq5JT",
        "outputId": "6cd05d63-a675-45ec-a828-0e5e5c169d7d"
      },
      "execution_count": 57,
      "outputs": [
        {
          "output_type": "stream",
          "name": "stdout",
          "text": [
            "Model: \"model_5_Conv1D\"\n",
            "_________________________________________________________________\n",
            " Layer (type)                Output Shape              Param #   \n",
            "=================================================================\n",
            " input_7 (InputLayer)        [(None, 1)]               0         \n",
            "                                                                 \n",
            " text_vectorization (TextVec  (None, 15)               0         \n",
            " torization)                                                     \n",
            "                                                                 \n",
            " embedding (Embedding)       (None, 15, 128)           1280000   \n",
            "                                                                 \n",
            " conv1d_1 (Conv1D)           (None, 11, 64)            41024     \n",
            "                                                                 \n",
            " global_max_pooling1d (Globa  (None, 64)               0         \n",
            " lMaxPooling1D)                                                  \n",
            "                                                                 \n",
            " dense_7 (Dense)             (None, 1)                 65        \n",
            "                                                                 \n",
            "=================================================================\n",
            "Total params: 1,321,089\n",
            "Trainable params: 1,321,089\n",
            "Non-trainable params: 0\n",
            "_________________________________________________________________\n"
          ]
        }
      ]
    },
    {
      "cell_type": "code",
      "source": [
        "model_5_history = model_5.fit(\n",
        "    train_sentences,\n",
        "    train_labels,\n",
        "    epochs=10,\n",
        "    validation_data=(val_sentences, val_labels),\n",
        "    callbacks=[create_tensorboard_callback(SAVE_DIR, \"Conv1D\")]\n",
        ")"
      ],
      "metadata": {
        "colab": {
          "base_uri": "https://localhost:8080/"
        },
        "id": "k_7CkdFgrFNW",
        "outputId": "182a9bdf-22e5-4555-a1e2-1eb6830a919d"
      },
      "execution_count": 71,
      "outputs": [
        {
          "output_type": "stream",
          "name": "stdout",
          "text": [
            "Saving TensorBoard log files to: model_logs/Conv1D/20220704-100959\n",
            "Epoch 1/10\n",
            "215/215 [==============================] - 2s 10ms/step - loss: 0.0336 - accuracy: 0.9822 - val_loss: 1.2349 - val_accuracy: 0.7441\n",
            "Epoch 2/10\n",
            "215/215 [==============================] - 1s 6ms/step - loss: 0.0335 - accuracy: 0.9828 - val_loss: 1.2153 - val_accuracy: 0.7428\n",
            "Epoch 3/10\n",
            "215/215 [==============================] - 1s 5ms/step - loss: 0.0327 - accuracy: 0.9829 - val_loss: 1.2355 - val_accuracy: 0.7493\n",
            "Epoch 4/10\n",
            "215/215 [==============================] - 1s 5ms/step - loss: 0.0313 - accuracy: 0.9844 - val_loss: 1.2231 - val_accuracy: 0.7428\n",
            "Epoch 5/10\n",
            "215/215 [==============================] - 1s 5ms/step - loss: 0.0324 - accuracy: 0.9829 - val_loss: 1.2238 - val_accuracy: 0.7467\n",
            "Epoch 6/10\n",
            "215/215 [==============================] - 1s 5ms/step - loss: 0.0321 - accuracy: 0.9818 - val_loss: 1.1795 - val_accuracy: 0.7546\n",
            "Epoch 7/10\n",
            "215/215 [==============================] - 1s 5ms/step - loss: 0.0306 - accuracy: 0.9832 - val_loss: 1.1926 - val_accuracy: 0.7559\n",
            "Epoch 8/10\n",
            "215/215 [==============================] - 1s 6ms/step - loss: 0.0310 - accuracy: 0.9826 - val_loss: 1.1840 - val_accuracy: 0.7467\n",
            "Epoch 9/10\n",
            "215/215 [==============================] - 1s 5ms/step - loss: 0.0309 - accuracy: 0.9842 - val_loss: 1.1998 - val_accuracy: 0.7480\n",
            "Epoch 10/10\n",
            "215/215 [==============================] - 1s 5ms/step - loss: 0.0302 - accuracy: 0.9839 - val_loss: 1.2120 - val_accuracy: 0.7493\n"
          ]
        }
      ]
    },
    {
      "cell_type": "code",
      "source": [
        "model_5_pred_probs = model_5.predict(val_sentences)\n",
        "model_5_pred_probs[:10]"
      ],
      "metadata": {
        "colab": {
          "base_uri": "https://localhost:8080/"
        },
        "id": "cvFXV1JxrGJG",
        "outputId": "31b1a273-673c-46c5-ee7a-520c30baac24"
      },
      "execution_count": 72,
      "outputs": [
        {
          "output_type": "execute_result",
          "data": {
            "text/plain": [
              "array([[3.5176195e-02],\n",
              "       [9.8928589e-01],\n",
              "       [9.9998474e-01],\n",
              "       [2.0209480e-02],\n",
              "       [2.1215921e-05],\n",
              "       [9.9984980e-01],\n",
              "       [9.5722198e-01],\n",
              "       [9.9999666e-01],\n",
              "       [9.9992955e-01],\n",
              "       [1.0709109e-01]], dtype=float32)"
            ]
          },
          "metadata": {},
          "execution_count": 72
        }
      ]
    },
    {
      "cell_type": "code",
      "source": [
        "model_5_preds = tf.squeeze(tf.round(model_5_pred_probs))\n",
        "model_5_preds[:10]"
      ],
      "metadata": {
        "colab": {
          "base_uri": "https://localhost:8080/"
        },
        "id": "_fa4gvKVrlxR",
        "outputId": "418ddb79-9392-42dc-ecba-1cb14f58af19"
      },
      "execution_count": 73,
      "outputs": [
        {
          "output_type": "execute_result",
          "data": {
            "text/plain": [
              "<tf.Tensor: shape=(10,), dtype=float32, numpy=array([0., 1., 1., 0., 0., 1., 1., 1., 1., 0.], dtype=float32)>"
            ]
          },
          "metadata": {},
          "execution_count": 73
        }
      ]
    },
    {
      "cell_type": "code",
      "source": [
        "model_5_results = calculate_results(y_true=val_labels, y_pred=model_5_preds)\n",
        "model_5_results"
      ],
      "metadata": {
        "colab": {
          "base_uri": "https://localhost:8080/"
        },
        "id": "HBaxl0Ijrprh",
        "outputId": "e5fb8019-5a99-4d75-dd7f-2fc0b51a2bc8"
      },
      "execution_count": 74,
      "outputs": [
        {
          "output_type": "execute_result",
          "data": {
            "text/plain": [
              "{'accuracy': 74.93438320209974,\n",
              " 'f1': 0.7487274088908836,\n",
              " 'precision': 0.7488632680071313,\n",
              " 'recall': 0.7493438320209974}"
            ]
          },
          "metadata": {},
          "execution_count": 74
        }
      ]
    }
  ]
}