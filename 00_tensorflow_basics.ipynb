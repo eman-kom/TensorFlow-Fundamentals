{
  "nbformat": 4,
  "nbformat_minor": 0,
  "metadata": {
    "colab": {
      "name": "00_tensorflow_basics.ipynb",
      "provenance": [],
      "authorship_tag": "ABX9TyPHCRQ8B7VRvAstD8NId/In",
      "include_colab_link": true
    },
    "kernelspec": {
      "name": "python3",
      "display_name": "Python 3"
    },
    "language_info": {
      "name": "python"
    },
    "accelerator": "GPU"
  },
  "cells": [
    {
      "cell_type": "markdown",
      "metadata": {
        "id": "view-in-github",
        "colab_type": "text"
      },
      "source": [
        "<a href=\"https://colab.research.google.com/github/eman-kom/tensorflow-fundamentals/blob/main/00_tensorflow_basics.ipynb\" target=\"_parent\"><img src=\"https://colab.research.google.com/assets/colab-badge.svg\" alt=\"Open In Colab\"/></a>"
      ]
    },
    {
      "cell_type": "code",
      "execution_count": 34,
      "metadata": {
        "colab": {
          "base_uri": "https://localhost:8080/",
          "height": 35
        },
        "id": "dQyyIAk24wo2",
        "outputId": "1c3bcf46-3a54-462d-de67-b93514440039"
      },
      "outputs": [
        {
          "output_type": "execute_result",
          "data": {
            "text/plain": [
              "'2.8.0'"
            ],
            "application/vnd.google.colaboratory.intrinsic+json": {
              "type": "string"
            }
          },
          "metadata": {},
          "execution_count": 34
        }
      ],
      "source": [
        "import tensorflow as tf\n",
        "tf.__version__"
      ]
    },
    {
      "cell_type": "code",
      "source": [
        "scalar = tf.constant(200)\n",
        "scalar, scalar.ndim"
      ],
      "metadata": {
        "colab": {
          "base_uri": "https://localhost:8080/"
        },
        "id": "_XdRMjvV77Vx",
        "outputId": "f52866e0-1287-479d-c9a9-68642fc66835"
      },
      "execution_count": 35,
      "outputs": [
        {
          "output_type": "execute_result",
          "data": {
            "text/plain": [
              "(<tf.Tensor: shape=(), dtype=int32, numpy=200>, 0)"
            ]
          },
          "metadata": {},
          "execution_count": 35
        }
      ]
    },
    {
      "cell_type": "code",
      "source": [
        "vector = tf.constant([200,500])\n",
        "vector, vector.ndim"
      ],
      "metadata": {
        "colab": {
          "base_uri": "https://localhost:8080/"
        },
        "id": "23XqD-Rx8C4G",
        "outputId": "42dbaf40-ea18-4d79-ae4f-bad0993a03bc"
      },
      "execution_count": 36,
      "outputs": [
        {
          "output_type": "execute_result",
          "data": {
            "text/plain": [
              "(<tf.Tensor: shape=(2,), dtype=int32, numpy=array([200, 500], dtype=int32)>, 1)"
            ]
          },
          "metadata": {},
          "execution_count": 36
        }
      ]
    },
    {
      "cell_type": "code",
      "source": [
        "matrix = tf.constant([\n",
        "    [10, 7],\n",
        "    [7, 10]\n",
        "])\n",
        "\n",
        "matrix, matrix.ndim"
      ],
      "metadata": {
        "colab": {
          "base_uri": "https://localhost:8080/"
        },
        "id": "QDNkpSDO8JEU",
        "outputId": "485e7d57-12f2-473b-9e2d-19892ddfb7a1"
      },
      "execution_count": 37,
      "outputs": [
        {
          "output_type": "execute_result",
          "data": {
            "text/plain": [
              "(<tf.Tensor: shape=(2, 2), dtype=int32, numpy=\n",
              " array([[10,  7],\n",
              "        [ 7, 10]], dtype=int32)>, 2)"
            ]
          },
          "metadata": {},
          "execution_count": 37
        }
      ]
    },
    {
      "cell_type": "code",
      "source": [
        "tensor = tf.constant([\n",
        "    [[1, 2, 3],\n",
        "     [4, 5, 6],\n",
        "     [7, 8, 9]],\n",
        "    [[9, 8, 7],\n",
        "     [6, 5, 4],\n",
        "     [3, 2, 1]]\n",
        "])\n",
        "\n",
        "tensor, tensor.shape, tensor.ndim"
      ],
      "metadata": {
        "colab": {
          "base_uri": "https://localhost:8080/"
        },
        "id": "7PVH2l-k8XE-",
        "outputId": "bc8b78c1-1a04-4859-9c3c-2d7d99afbba9"
      },
      "execution_count": 38,
      "outputs": [
        {
          "output_type": "execute_result",
          "data": {
            "text/plain": [
              "(<tf.Tensor: shape=(2, 3, 3), dtype=int32, numpy=\n",
              " array([[[1, 2, 3],\n",
              "         [4, 5, 6],\n",
              "         [7, 8, 9]],\n",
              " \n",
              "        [[9, 8, 7],\n",
              "         [6, 5, 4],\n",
              "         [3, 2, 1]]], dtype=int32)>, TensorShape([2, 3, 3]), 3)"
            ]
          },
          "metadata": {},
          "execution_count": 38
        }
      ]
    },
    {
      "cell_type": "code",
      "source": [
        "unchangeable_tensor = tf.constant([10, 7])\n",
        "changeable_tensor = tf.Variable([10, 7])\n",
        "changeable_tensor, unchangeable_tensor"
      ],
      "metadata": {
        "colab": {
          "base_uri": "https://localhost:8080/"
        },
        "id": "mRUwD3hHCLAt",
        "outputId": "2e83f4e0-b1ea-4a30-e4fe-a35403f85de5"
      },
      "execution_count": 39,
      "outputs": [
        {
          "output_type": "execute_result",
          "data": {
            "text/plain": [
              "(<tf.Variable 'Variable:0' shape=(2,) dtype=int32, numpy=array([10,  7], dtype=int32)>,\n",
              " <tf.Tensor: shape=(2,), dtype=int32, numpy=array([10,  7], dtype=int32)>)"
            ]
          },
          "metadata": {},
          "execution_count": 39
        }
      ]
    },
    {
      "cell_type": "code",
      "source": [
        "changeable_tensor[0].assign(7)\n",
        "changeable_tensor"
      ],
      "metadata": {
        "colab": {
          "base_uri": "https://localhost:8080/"
        },
        "id": "Nvqnn7aoCdbz",
        "outputId": "ab377422-630a-4821-e991-f8103de3461d"
      },
      "execution_count": 40,
      "outputs": [
        {
          "output_type": "execute_result",
          "data": {
            "text/plain": [
              "<tf.Variable 'Variable:0' shape=(2,) dtype=int32, numpy=array([7, 7], dtype=int32)>"
            ]
          },
          "metadata": {},
          "execution_count": 40
        }
      ]
    },
    {
      "cell_type": "code",
      "source": [
        "rand_1 = tf.random.Generator.from_seed(20)\n",
        "tensor_1 = rand_1.normal(shape=(3, 2))\n",
        "\n",
        "rand_2 = tf.random.Generator.from_seed(20)\n",
        "tensor_2 = rand_2.normal(shape=(3, 2))\n",
        "\n",
        "tensor_1, tensor_2, tensor_1 == tensor_2"
      ],
      "metadata": {
        "colab": {
          "base_uri": "https://localhost:8080/"
        },
        "id": "po5f3HVxCxNb",
        "outputId": "ac9392c3-5370-4095-a142-d48c16c48606"
      },
      "execution_count": 41,
      "outputs": [
        {
          "output_type": "execute_result",
          "data": {
            "text/plain": [
              "(<tf.Tensor: shape=(3, 2), dtype=float32, numpy=\n",
              " array([[ 0.88051325, -1.6833194 ],\n",
              "        [ 0.86754173, -0.19625713],\n",
              "        [-1.322665  , -0.02279496]], dtype=float32)>,\n",
              " <tf.Tensor: shape=(3, 2), dtype=float32, numpy=\n",
              " array([[ 0.88051325, -1.6833194 ],\n",
              "        [ 0.86754173, -0.19625713],\n",
              "        [-1.322665  , -0.02279496]], dtype=float32)>,\n",
              " <tf.Tensor: shape=(3, 2), dtype=bool, numpy=\n",
              " array([[ True,  True],\n",
              "        [ True,  True],\n",
              "        [ True,  True]])>)"
            ]
          },
          "metadata": {},
          "execution_count": 41
        }
      ]
    },
    {
      "cell_type": "code",
      "source": [
        "rand_3 = tf.random.Generator.from_seed(20)\n",
        "tensor_3 = rand_3.normal(shape=(3,3))\n",
        "tensor_4 = tf.random.shuffle(tensor_3, seed=19)\n",
        "tensor_3, tensor_4"
      ],
      "metadata": {
        "colab": {
          "base_uri": "https://localhost:8080/"
        },
        "id": "s4knF1lmDM2C",
        "outputId": "48d385ca-3408-458f-91a8-86ec772e9d60"
      },
      "execution_count": 42,
      "outputs": [
        {
          "output_type": "execute_result",
          "data": {
            "text/plain": [
              "(<tf.Tensor: shape=(3, 3), dtype=float32, numpy=\n",
              " array([[ 0.88051325, -1.6833194 ,  0.86754173],\n",
              "        [-0.19625713, -1.322665  , -0.02279496],\n",
              "        [-0.1383193 ,  0.44207528, -0.7531523 ]], dtype=float32)>,\n",
              " <tf.Tensor: shape=(3, 3), dtype=float32, numpy=\n",
              " array([[-0.19625713, -1.322665  , -0.02279496],\n",
              "        [-0.1383193 ,  0.44207528, -0.7531523 ],\n",
              "        [ 0.88051325, -1.6833194 ,  0.86754173]], dtype=float32)>)"
            ]
          },
          "metadata": {},
          "execution_count": 42
        }
      ]
    },
    {
      "cell_type": "code",
      "source": [
        "ones = tf.ones([3, 3])\n",
        "zeros = tf.zeros([2, 3, 4, 5])\n",
        "ones, zeros"
      ],
      "metadata": {
        "colab": {
          "base_uri": "https://localhost:8080/"
        },
        "id": "OnJxZ3lgEIHI",
        "outputId": "85b7839e-a0a0-449c-e617-05de8473ca8f"
      },
      "execution_count": 43,
      "outputs": [
        {
          "output_type": "execute_result",
          "data": {
            "text/plain": [
              "(<tf.Tensor: shape=(3, 3), dtype=float32, numpy=\n",
              " array([[1., 1., 1.],\n",
              "        [1., 1., 1.],\n",
              "        [1., 1., 1.]], dtype=float32)>,\n",
              " <tf.Tensor: shape=(2, 3, 4, 5), dtype=float32, numpy=\n",
              " array([[[[0., 0., 0., 0., 0.],\n",
              "          [0., 0., 0., 0., 0.],\n",
              "          [0., 0., 0., 0., 0.],\n",
              "          [0., 0., 0., 0., 0.]],\n",
              " \n",
              "         [[0., 0., 0., 0., 0.],\n",
              "          [0., 0., 0., 0., 0.],\n",
              "          [0., 0., 0., 0., 0.],\n",
              "          [0., 0., 0., 0., 0.]],\n",
              " \n",
              "         [[0., 0., 0., 0., 0.],\n",
              "          [0., 0., 0., 0., 0.],\n",
              "          [0., 0., 0., 0., 0.],\n",
              "          [0., 0., 0., 0., 0.]]],\n",
              " \n",
              " \n",
              "        [[[0., 0., 0., 0., 0.],\n",
              "          [0., 0., 0., 0., 0.],\n",
              "          [0., 0., 0., 0., 0.],\n",
              "          [0., 0., 0., 0., 0.]],\n",
              " \n",
              "         [[0., 0., 0., 0., 0.],\n",
              "          [0., 0., 0., 0., 0.],\n",
              "          [0., 0., 0., 0., 0.],\n",
              "          [0., 0., 0., 0., 0.]],\n",
              " \n",
              "         [[0., 0., 0., 0., 0.],\n",
              "          [0., 0., 0., 0., 0.],\n",
              "          [0., 0., 0., 0., 0.],\n",
              "          [0., 0., 0., 0., 0.]]]], dtype=float32)>)"
            ]
          },
          "metadata": {},
          "execution_count": 43
        }
      ]
    },
    {
      "cell_type": "code",
      "source": [
        "zeros.shape, zeros.ndim, tf.size(zeros)"
      ],
      "metadata": {
        "colab": {
          "base_uri": "https://localhost:8080/"
        },
        "id": "5t40QykDES-l",
        "outputId": "8c2bb30e-1457-46a4-a8fe-54244d17488d"
      },
      "execution_count": 44,
      "outputs": [
        {
          "output_type": "execute_result",
          "data": {
            "text/plain": [
              "(TensorShape([2, 3, 4, 5]), 4, <tf.Tensor: shape=(), dtype=int32, numpy=120>)"
            ]
          },
          "metadata": {},
          "execution_count": 44
        }
      ]
    },
    {
      "cell_type": "code",
      "source": [
        "zeros[:2, :2 :, :2]"
      ],
      "metadata": {
        "colab": {
          "base_uri": "https://localhost:8080/"
        },
        "id": "nA5mO3mwH4t6",
        "outputId": "2bdadaa9-7a0f-48ae-b5a5-9233dba9dd6f"
      },
      "execution_count": 45,
      "outputs": [
        {
          "output_type": "execute_result",
          "data": {
            "text/plain": [
              "<tf.Tensor: shape=(2, 2, 2, 5), dtype=float32, numpy=\n",
              "array([[[[0., 0., 0., 0., 0.],\n",
              "         [0., 0., 0., 0., 0.]],\n",
              "\n",
              "        [[0., 0., 0., 0., 0.],\n",
              "         [0., 0., 0., 0., 0.]]],\n",
              "\n",
              "\n",
              "       [[[0., 0., 0., 0., 0.],\n",
              "         [0., 0., 0., 0., 0.]],\n",
              "\n",
              "        [[0., 0., 0., 0., 0.],\n",
              "         [0., 0., 0., 0., 0.]]]], dtype=float32)>"
            ]
          },
          "metadata": {},
          "execution_count": 45
        }
      ]
    },
    {
      "cell_type": "code",
      "source": [
        "ones_1 = ones[..., tf.newaxis]\n",
        "ones_2 = tf.expand_dims(ones, axis=-1)\n",
        "ones_1 == ones_2"
      ],
      "metadata": {
        "colab": {
          "base_uri": "https://localhost:8080/"
        },
        "id": "RC-ar20zH8_P",
        "outputId": "c09b616c-edd3-4eba-c931-9b20009f3067"
      },
      "execution_count": 46,
      "outputs": [
        {
          "output_type": "execute_result",
          "data": {
            "text/plain": [
              "<tf.Tensor: shape=(3, 3, 1), dtype=bool, numpy=\n",
              "array([[[ True],\n",
              "        [ True],\n",
              "        [ True]],\n",
              "\n",
              "       [[ True],\n",
              "        [ True],\n",
              "        [ True]],\n",
              "\n",
              "       [[ True],\n",
              "        [ True],\n",
              "        [ True]]])>"
            ]
          },
          "metadata": {},
          "execution_count": 46
        }
      ]
    },
    {
      "cell_type": "code",
      "source": [
        "ones_3 = tf.multiply(ones, 20)\n",
        "ones_4 = ones * 20\n",
        "ones_3, ones_4, ones_3 == ones_4"
      ],
      "metadata": {
        "colab": {
          "base_uri": "https://localhost:8080/"
        },
        "id": "FftX-O_pIi-z",
        "outputId": "2afa6092-d0fb-4174-d9db-551d5e4f60d9"
      },
      "execution_count": 47,
      "outputs": [
        {
          "output_type": "execute_result",
          "data": {
            "text/plain": [
              "(<tf.Tensor: shape=(3, 3), dtype=float32, numpy=\n",
              " array([[20., 20., 20.],\n",
              "        [20., 20., 20.],\n",
              "        [20., 20., 20.]], dtype=float32)>,\n",
              " <tf.Tensor: shape=(3, 3), dtype=float32, numpy=\n",
              " array([[20., 20., 20.],\n",
              "        [20., 20., 20.],\n",
              "        [20., 20., 20.]], dtype=float32)>,\n",
              " <tf.Tensor: shape=(3, 3), dtype=bool, numpy=\n",
              " array([[ True,  True,  True],\n",
              "        [ True,  True,  True],\n",
              "        [ True,  True,  True]])>)"
            ]
          },
          "metadata": {},
          "execution_count": 47
        }
      ]
    },
    {
      "cell_type": "code",
      "source": [
        "tf.matmul(ones_3, ones_4), ones_3 @ ones_4, tf.matmul(ones_3, ones_4) == ones_3 @ ones_4"
      ],
      "metadata": {
        "colab": {
          "base_uri": "https://localhost:8080/"
        },
        "id": "_Zl_JMHpIvh-",
        "outputId": "04527456-728c-4b49-8937-dd3ee90cf77d"
      },
      "execution_count": 48,
      "outputs": [
        {
          "output_type": "execute_result",
          "data": {
            "text/plain": [
              "(<tf.Tensor: shape=(3, 3), dtype=float32, numpy=\n",
              " array([[1200., 1200., 1200.],\n",
              "        [1200., 1200., 1200.],\n",
              "        [1200., 1200., 1200.]], dtype=float32)>,\n",
              " <tf.Tensor: shape=(3, 3), dtype=float32, numpy=\n",
              " array([[1200., 1200., 1200.],\n",
              "        [1200., 1200., 1200.],\n",
              "        [1200., 1200., 1200.]], dtype=float32)>,\n",
              " <tf.Tensor: shape=(3, 3), dtype=bool, numpy=\n",
              " array([[ True,  True,  True],\n",
              "        [ True,  True,  True],\n",
              "        [ True,  True,  True]])>)"
            ]
          },
          "metadata": {},
          "execution_count": 48
        }
      ]
    },
    {
      "cell_type": "code",
      "source": [
        "tensor_2.numpy()"
      ],
      "metadata": {
        "colab": {
          "base_uri": "https://localhost:8080/"
        },
        "id": "Z11xTGY1J3vF",
        "outputId": "31b7b86f-0680-416e-9a54-920a4ab2434a"
      },
      "execution_count": 49,
      "outputs": [
        {
          "output_type": "execute_result",
          "data": {
            "text/plain": [
              "array([[ 0.88051325, -1.6833194 ],\n",
              "       [ 0.86754173, -0.19625713],\n",
              "       [-1.322665  , -0.02279496]], dtype=float32)"
            ]
          },
          "metadata": {},
          "execution_count": 49
        }
      ]
    },
    {
      "cell_type": "code",
      "source": [
        "tf.reshape(tensor_2, [1,6]).numpy()"
      ],
      "metadata": {
        "colab": {
          "base_uri": "https://localhost:8080/"
        },
        "id": "7mt9-Si_KSH_",
        "outputId": "184df5b1-4947-422c-c451-d37dc956f50a"
      },
      "execution_count": 50,
      "outputs": [
        {
          "output_type": "execute_result",
          "data": {
            "text/plain": [
              "array([[ 0.88051325, -1.6833194 ,  0.86754173, -0.19625713, -1.322665  ,\n",
              "        -0.02279496]], dtype=float32)"
            ]
          },
          "metadata": {},
          "execution_count": 50
        }
      ]
    },
    {
      "cell_type": "code",
      "source": [
        "tf.transpose(tensor_2).numpy()"
      ],
      "metadata": {
        "colab": {
          "base_uri": "https://localhost:8080/"
        },
        "id": "mcLheI4gKS85",
        "outputId": "ef2c559f-806e-447e-feaf-7bfa48c059ab"
      },
      "execution_count": 51,
      "outputs": [
        {
          "output_type": "execute_result",
          "data": {
            "text/plain": [
              "array([[ 0.88051325,  0.86754173, -1.322665  ],\n",
              "       [-1.6833194 , -0.19625713, -0.02279496]], dtype=float32)"
            ]
          },
          "metadata": {},
          "execution_count": 51
        }
      ]
    },
    {
      "cell_type": "code",
      "source": [
        "A = tf.constant([1.3, 2.4])\n",
        "B = tf.constant([1, -3])\n",
        "A, B"
      ],
      "metadata": {
        "colab": {
          "base_uri": "https://localhost:8080/"
        },
        "id": "NoM5LchyKjfU",
        "outputId": "a4187847-e785-4f5f-bba1-417039ed7184"
      },
      "execution_count": 52,
      "outputs": [
        {
          "output_type": "execute_result",
          "data": {
            "text/plain": [
              "(<tf.Tensor: shape=(2,), dtype=float32, numpy=array([1.3, 2.4], dtype=float32)>,\n",
              " <tf.Tensor: shape=(2,), dtype=int32, numpy=array([ 1, -3], dtype=int32)>)"
            ]
          },
          "metadata": {},
          "execution_count": 52
        }
      ]
    },
    {
      "cell_type": "code",
      "source": [
        "C = tf.cast(B, tf.float16)\n",
        "C"
      ],
      "metadata": {
        "colab": {
          "base_uri": "https://localhost:8080/"
        },
        "id": "bKN1sJ30KsUX",
        "outputId": "56baaaf9-a596-425f-90cf-ae4e78412e92"
      },
      "execution_count": 53,
      "outputs": [
        {
          "output_type": "execute_result",
          "data": {
            "text/plain": [
              "<tf.Tensor: shape=(2,), dtype=float16, numpy=array([ 1., -3.], dtype=float16)>"
            ]
          },
          "metadata": {},
          "execution_count": 53
        }
      ]
    },
    {
      "cell_type": "code",
      "source": [
        "D = tf.abs(C)\n",
        "D"
      ],
      "metadata": {
        "colab": {
          "base_uri": "https://localhost:8080/"
        },
        "id": "rdsQxr8kK3Tu",
        "outputId": "9ef9e325-b01a-4734-aeae-81f0c7521d44"
      },
      "execution_count": 54,
      "outputs": [
        {
          "output_type": "execute_result",
          "data": {
            "text/plain": [
              "<tf.Tensor: shape=(2,), dtype=float16, numpy=array([1., 3.], dtype=float16)>"
            ]
          },
          "metadata": {},
          "execution_count": 54
        }
      ]
    },
    {
      "cell_type": "code",
      "source": [
        "import numpy as np\n",
        "E = tf.constant(np.random.randint(low=0, high=100, size=50))\n",
        "E"
      ],
      "metadata": {
        "colab": {
          "base_uri": "https://localhost:8080/"
        },
        "id": "ti0qkJvyLPAN",
        "outputId": "2a447669-b187-4922-c729-67c8b3f00cea"
      },
      "execution_count": 55,
      "outputs": [
        {
          "output_type": "execute_result",
          "data": {
            "text/plain": [
              "<tf.Tensor: shape=(50,), dtype=int64, numpy=\n",
              "array([32, 29, 48, 93, 60,  4, 61, 42, 34,  1, 61, 76, 56, 27, 95, 80, 65,\n",
              "       91, 77, 25, 74, 90, 80, 89, 70, 43, 28,  5, 54, 17, 41, 96, 10, 27,\n",
              "       52, 95, 90, 85, 22, 85, 61, 10, 44, 61, 99, 58,  8, 60, 34, 36])>"
            ]
          },
          "metadata": {},
          "execution_count": 55
        }
      ]
    },
    {
      "cell_type": "code",
      "source": [
        "tf.reduce_min(E)"
      ],
      "metadata": {
        "colab": {
          "base_uri": "https://localhost:8080/"
        },
        "id": "Z2DTfYC7LYB_",
        "outputId": "9dffd277-81da-4380-d201-f3107a474cb6"
      },
      "execution_count": 56,
      "outputs": [
        {
          "output_type": "execute_result",
          "data": {
            "text/plain": [
              "<tf.Tensor: shape=(), dtype=int64, numpy=1>"
            ]
          },
          "metadata": {},
          "execution_count": 56
        }
      ]
    },
    {
      "cell_type": "code",
      "source": [
        "tf.reduce_max(E)"
      ],
      "metadata": {
        "colab": {
          "base_uri": "https://localhost:8080/"
        },
        "id": "K0hFs_snLfdP",
        "outputId": "e6fd312b-440d-4817-f6fe-fa86d33ef127"
      },
      "execution_count": 57,
      "outputs": [
        {
          "output_type": "execute_result",
          "data": {
            "text/plain": [
              "<tf.Tensor: shape=(), dtype=int64, numpy=99>"
            ]
          },
          "metadata": {},
          "execution_count": 57
        }
      ]
    },
    {
      "cell_type": "code",
      "source": [
        "tf.reduce_mean(E)"
      ],
      "metadata": {
        "colab": {
          "base_uri": "https://localhost:8080/"
        },
        "id": "Ry47r_VGLgkH",
        "outputId": "c0456506-e157-49ca-8b4d-70eec3e203a2"
      },
      "execution_count": 58,
      "outputs": [
        {
          "output_type": "execute_result",
          "data": {
            "text/plain": [
              "<tf.Tensor: shape=(), dtype=int64, numpy=53>"
            ]
          },
          "metadata": {},
          "execution_count": 58
        }
      ]
    },
    {
      "cell_type": "code",
      "source": [
        "tf.reduce_sum(E)"
      ],
      "metadata": {
        "colab": {
          "base_uri": "https://localhost:8080/"
        },
        "id": "_6oJK5IpLh-u",
        "outputId": "6d18066f-1a9b-40af-8c21-505bb6c2c148"
      },
      "execution_count": 59,
      "outputs": [
        {
          "output_type": "execute_result",
          "data": {
            "text/plain": [
              "<tf.Tensor: shape=(), dtype=int64, numpy=2681>"
            ]
          },
          "metadata": {},
          "execution_count": 59
        }
      ]
    },
    {
      "cell_type": "code",
      "source": [
        "max_idx = tf.argmax(E)\n",
        "max_idx, E[max_idx]"
      ],
      "metadata": {
        "colab": {
          "base_uri": "https://localhost:8080/"
        },
        "id": "aQjU63nLLnrB",
        "outputId": "7ebda802-c6bb-4964-e343-7d42ba6386d4"
      },
      "execution_count": 60,
      "outputs": [
        {
          "output_type": "execute_result",
          "data": {
            "text/plain": [
              "(<tf.Tensor: shape=(), dtype=int64, numpy=44>,\n",
              " <tf.Tensor: shape=(), dtype=int64, numpy=99>)"
            ]
          },
          "metadata": {},
          "execution_count": 60
        }
      ]
    },
    {
      "cell_type": "code",
      "source": [
        "min_idx = tf.argmin(E)\n",
        "min_idx, E[min_idx]"
      ],
      "metadata": {
        "colab": {
          "base_uri": "https://localhost:8080/"
        },
        "id": "Z8xVM_lWLyYy",
        "outputId": "85e60b37-4063-4cf7-b4fd-62af7f38e99a"
      },
      "execution_count": 61,
      "outputs": [
        {
          "output_type": "execute_result",
          "data": {
            "text/plain": [
              "(<tf.Tensor: shape=(), dtype=int64, numpy=9>,\n",
              " <tf.Tensor: shape=(), dtype=int64, numpy=1>)"
            ]
          },
          "metadata": {},
          "execution_count": 61
        }
      ]
    },
    {
      "cell_type": "code",
      "source": [
        "some_list = [0, 1, 2, 3]\n",
        "tf.one_hot(some_list, depth=4)"
      ],
      "metadata": {
        "colab": {
          "base_uri": "https://localhost:8080/"
        },
        "id": "A3CMVh75L3UJ",
        "outputId": "05d457e6-a287-4afc-c800-41a04d6035a1"
      },
      "execution_count": 62,
      "outputs": [
        {
          "output_type": "execute_result",
          "data": {
            "text/plain": [
              "<tf.Tensor: shape=(4, 4), dtype=float32, numpy=\n",
              "array([[1., 0., 0., 0.],\n",
              "       [0., 1., 0., 0.],\n",
              "       [0., 0., 1., 0.],\n",
              "       [0., 0., 0., 1.]], dtype=float32)>"
            ]
          },
          "metadata": {},
          "execution_count": 62
        }
      ]
    },
    {
      "cell_type": "code",
      "source": [
        "tf.one_hot(some_list, depth=4, on_value=\"A\", off_value=\"B\")"
      ],
      "metadata": {
        "colab": {
          "base_uri": "https://localhost:8080/"
        },
        "id": "LDs_Y05uMBVy",
        "outputId": "fc7aa897-0ff1-4c51-f236-32830d6b4c86"
      },
      "execution_count": 63,
      "outputs": [
        {
          "output_type": "execute_result",
          "data": {
            "text/plain": [
              "<tf.Tensor: shape=(4, 4), dtype=string, numpy=\n",
              "array([[b'A', b'B', b'B', b'B'],\n",
              "       [b'B', b'A', b'B', b'B'],\n",
              "       [b'B', b'B', b'A', b'B'],\n",
              "       [b'B', b'B', b'B', b'A']], dtype=object)>"
            ]
          },
          "metadata": {},
          "execution_count": 63
        }
      ]
    },
    {
      "cell_type": "code",
      "source": [
        "print(tf.config.list_physical_devices('GPU'))"
      ],
      "metadata": {
        "colab": {
          "base_uri": "https://localhost:8080/"
        },
        "id": "qfb1hfiCN5sa",
        "outputId": "5c18a508-61ad-4ed6-82a0-c41640eb1d4c"
      },
      "execution_count": 64,
      "outputs": [
        {
          "output_type": "stream",
          "name": "stdout",
          "text": [
            "[PhysicalDevice(name='/physical_device:GPU:0', device_type='GPU')]\n"
          ]
        }
      ]
    },
    {
      "cell_type": "code",
      "source": [
        "!nvidia-smi"
      ],
      "metadata": {
        "id": "9IF-LmBnOLQt",
        "outputId": "bbc6166b-11a7-4a95-a591-f718ec99097e",
        "colab": {
          "base_uri": "https://localhost:8080/"
        }
      },
      "execution_count": 65,
      "outputs": [
        {
          "output_type": "stream",
          "name": "stdout",
          "text": [
            "Sun May 22 11:03:34 2022       \n",
            "+-----------------------------------------------------------------------------+\n",
            "| NVIDIA-SMI 460.32.03    Driver Version: 460.32.03    CUDA Version: 11.2     |\n",
            "|-------------------------------+----------------------+----------------------+\n",
            "| GPU  Name        Persistence-M| Bus-Id        Disp.A | Volatile Uncorr. ECC |\n",
            "| Fan  Temp  Perf  Pwr:Usage/Cap|         Memory-Usage | GPU-Util  Compute M. |\n",
            "|                               |                      |               MIG M. |\n",
            "|===============================+======================+======================|\n",
            "|   0  Tesla T4            Off  | 00000000:00:04.0 Off |                    0 |\n",
            "| N/A   62C    P0    27W /  70W |    432MiB / 15109MiB |      0%      Default |\n",
            "|                               |                      |                  N/A |\n",
            "+-------------------------------+----------------------+----------------------+\n",
            "                                                                               \n",
            "+-----------------------------------------------------------------------------+\n",
            "| Processes:                                                                  |\n",
            "|  GPU   GI   CI        PID   Type   Process name                  GPU Memory |\n",
            "|        ID   ID                                                   Usage      |\n",
            "|=============================================================================|\n",
            "+-----------------------------------------------------------------------------+\n"
          ]
        }
      ]
    },
    {
      "cell_type": "markdown",
      "source": [
        "Exercise"
      ],
      "metadata": {
        "id": "Ek_yGn1RbQrJ"
      }
    },
    {
      "cell_type": "code",
      "source": [
        "scalar = tf.constant(3)\n",
        "vector = tf.constant([4, 5])\n",
        "matrix = tf.constant([[6, 7], [8, 9]])\n",
        "tensor = tf.constant([\n",
        "    [[1,2,3],[4,5,6]],\n",
        "    [[7,8,9],[10,11,12]]\n",
        "])"
      ],
      "metadata": {
        "id": "a6CTYo2MbSqz"
      },
      "execution_count": 66,
      "outputs": []
    },
    {
      "cell_type": "code",
      "source": [
        "scalar.shape, scalar.ndim, tf.size(scalar)"
      ],
      "metadata": {
        "colab": {
          "base_uri": "https://localhost:8080/"
        },
        "id": "yF1A3xT3bwHy",
        "outputId": "80f7499a-c9fb-4d66-8457-1367bcaf85cb"
      },
      "execution_count": 67,
      "outputs": [
        {
          "output_type": "execute_result",
          "data": {
            "text/plain": [
              "(TensorShape([]), 0, <tf.Tensor: shape=(), dtype=int32, numpy=1>)"
            ]
          },
          "metadata": {},
          "execution_count": 67
        }
      ]
    },
    {
      "cell_type": "code",
      "source": [
        "vector.shape, vector.ndim, tf.size(vector)"
      ],
      "metadata": {
        "colab": {
          "base_uri": "https://localhost:8080/"
        },
        "id": "8PUcNru3b07Q",
        "outputId": "b3d42581-daa4-4bec-bc58-1d49a61bbf4c"
      },
      "execution_count": 68,
      "outputs": [
        {
          "output_type": "execute_result",
          "data": {
            "text/plain": [
              "(TensorShape([2]), 1, <tf.Tensor: shape=(), dtype=int32, numpy=2>)"
            ]
          },
          "metadata": {},
          "execution_count": 68
        }
      ]
    },
    {
      "cell_type": "code",
      "source": [
        "matrix.shape, matrix.ndim, tf.size(matrix)"
      ],
      "metadata": {
        "colab": {
          "base_uri": "https://localhost:8080/"
        },
        "id": "BDylTB0Cb2TG",
        "outputId": "98070732-ce93-4e63-d4d1-b5571e50d16e"
      },
      "execution_count": 69,
      "outputs": [
        {
          "output_type": "execute_result",
          "data": {
            "text/plain": [
              "(TensorShape([2, 2]), 2, <tf.Tensor: shape=(), dtype=int32, numpy=4>)"
            ]
          },
          "metadata": {},
          "execution_count": 69
        }
      ]
    },
    {
      "cell_type": "code",
      "source": [
        "tensor.shape, tensor.ndim, tf.size(tensor)"
      ],
      "metadata": {
        "colab": {
          "base_uri": "https://localhost:8080/"
        },
        "id": "fZElXcGmb41E",
        "outputId": "0829aa18-719f-4c7e-a9d0-7e89a121f539"
      },
      "execution_count": 70,
      "outputs": [
        {
          "output_type": "execute_result",
          "data": {
            "text/plain": [
              "(TensorShape([2, 2, 3]), 3, <tf.Tensor: shape=(), dtype=int32, numpy=12>)"
            ]
          },
          "metadata": {},
          "execution_count": 70
        }
      ]
    },
    {
      "cell_type": "code",
      "source": [
        "rand_tensor_1 = tf.random.uniform([5, 300], 0, 1)\n",
        "rand_tensor_2 = tf.random.uniform([5, 300], 0, 1)\n",
        "rand_tensor_1, rand_tensor_2"
      ],
      "metadata": {
        "colab": {
          "base_uri": "https://localhost:8080/"
        },
        "id": "WDSEI4vGb8Kw",
        "outputId": "5c0c9b67-6f21-4ba6-f6a0-88bc76b4329c"
      },
      "execution_count": 74,
      "outputs": [
        {
          "output_type": "execute_result",
          "data": {
            "text/plain": [
              "(<tf.Tensor: shape=(5, 300), dtype=float32, numpy=\n",
              " array([[0.47462285, 0.36573255, 0.5642507 , ..., 0.61977243, 0.3335327 ,\n",
              "         0.77530766],\n",
              "        [0.49852574, 0.09348822, 0.49192357, ..., 0.958521  , 0.7543241 ,\n",
              "         0.14554691],\n",
              "        [0.37736607, 0.46199822, 0.47617435, ..., 0.01512754, 0.45751417,\n",
              "         0.5183686 ],\n",
              "        [0.13938308, 0.11055255, 0.37860966, ..., 0.75129306, 0.7767854 ,\n",
              "         0.6139027 ],\n",
              "        [0.57955587, 0.01206934, 0.28267395, ..., 0.1884836 , 0.8297206 ,\n",
              "         0.03034651]], dtype=float32)>,\n",
              " <tf.Tensor: shape=(5, 300), dtype=float32, numpy=\n",
              " array([[0.37317038, 0.85074294, 0.78078854, ..., 0.11412287, 0.14165771,\n",
              "         0.5546483 ],\n",
              "        [0.45275354, 0.37588334, 0.9966302 , ..., 0.55906546, 0.17245543,\n",
              "         0.5007535 ],\n",
              "        [0.3683983 , 0.92091477, 0.5029546 , ..., 0.91071486, 0.65447605,\n",
              "         0.20366037],\n",
              "        [0.8976356 , 0.5563369 , 0.3893677 , ..., 0.2176677 , 0.14356375,\n",
              "         0.75923467],\n",
              "        [0.5235237 , 0.90792   , 0.35865402, ..., 0.07015991, 0.9644284 ,\n",
              "         0.52559257]], dtype=float32)>)"
            ]
          },
          "metadata": {},
          "execution_count": 74
        }
      ]
    },
    {
      "cell_type": "code",
      "source": [
        "matmul = tf.matmul(rand_tensor_1, tf.transpose(rand_tensor_2))\n",
        "matmul"
      ],
      "metadata": {
        "colab": {
          "base_uri": "https://localhost:8080/"
        },
        "id": "1JGPuXEica2r",
        "outputId": "b034aa9a-68f8-493d-9355-33dfb457f60c"
      },
      "execution_count": 76,
      "outputs": [
        {
          "output_type": "execute_result",
          "data": {
            "text/plain": [
              "<tf.Tensor: shape=(5, 5), dtype=float32, numpy=\n",
              "array([[75.34582 , 69.332565, 70.67053 , 69.3596  , 67.758194],\n",
              "       [81.48873 , 76.32912 , 75.23307 , 73.000305, 74.910835],\n",
              "       [73.68324 , 71.22043 , 72.00112 , 69.25948 , 69.82572 ],\n",
              "       [79.14156 , 71.20945 , 77.09881 , 75.13087 , 73.521576],\n",
              "       [75.71764 , 69.20613 , 72.97666 , 70.478   , 69.17216 ]],\n",
              "      dtype=float32)>"
            ]
          },
          "metadata": {},
          "execution_count": 76
        }
      ]
    },
    {
      "cell_type": "code",
      "source": [
        "tensordot = tf.tensordot(rand_tensor_1, tf.transpose(rand_tensor_2), 1)\n",
        "tensordot"
      ],
      "metadata": {
        "colab": {
          "base_uri": "https://localhost:8080/"
        },
        "id": "nDqyRnlQcsIa",
        "outputId": "a7086579-0faf-46d7-d2bc-f9a200f11920"
      },
      "execution_count": 80,
      "outputs": [
        {
          "output_type": "execute_result",
          "data": {
            "text/plain": [
              "<tf.Tensor: shape=(5, 5), dtype=float32, numpy=\n",
              "array([[75.34582 , 69.332565, 70.67053 , 69.3596  , 67.758194],\n",
              "       [81.48873 , 76.32912 , 75.23307 , 73.000305, 74.910835],\n",
              "       [73.68324 , 71.22043 , 72.00112 , 69.25948 , 69.82572 ],\n",
              "       [79.14156 , 71.20945 , 77.09881 , 75.13087 , 73.521576],\n",
              "       [75.71764 , 69.20613 , 72.97666 , 70.478   , 69.17216 ]],\n",
              "      dtype=float32)>"
            ]
          },
          "metadata": {},
          "execution_count": 80
        }
      ]
    },
    {
      "cell_type": "code",
      "source": [
        "tensordot == matmul"
      ],
      "metadata": {
        "colab": {
          "base_uri": "https://localhost:8080/"
        },
        "id": "gSCbVDi1c0yt",
        "outputId": "64f1bed7-4a80-452e-b9f8-e80ea11aef1e"
      },
      "execution_count": 81,
      "outputs": [
        {
          "output_type": "execute_result",
          "data": {
            "text/plain": [
              "<tf.Tensor: shape=(5, 5), dtype=bool, numpy=\n",
              "array([[ True,  True,  True,  True,  True],\n",
              "       [ True,  True,  True,  True,  True],\n",
              "       [ True,  True,  True,  True,  True],\n",
              "       [ True,  True,  True,  True,  True],\n",
              "       [ True,  True,  True,  True,  True]])>"
            ]
          },
          "metadata": {},
          "execution_count": 81
        }
      ]
    },
    {
      "cell_type": "code",
      "source": [
        "tensor_minmax = tf.random.uniform([224, 224, 3], 0, 1)\n",
        "tensor_minmax"
      ],
      "metadata": {
        "colab": {
          "base_uri": "https://localhost:8080/"
        },
        "id": "jYNppsiAdPY5",
        "outputId": "0dc3304b-9fc5-4a39-8db6-8d9e6227fce2"
      },
      "execution_count": 84,
      "outputs": [
        {
          "output_type": "execute_result",
          "data": {
            "text/plain": [
              "<tf.Tensor: shape=(224, 224, 3), dtype=float32, numpy=\n",
              "array([[[0.54107845, 0.14055383, 0.72050786],\n",
              "        [0.12890339, 0.81770194, 0.06995344],\n",
              "        [0.425411  , 0.4978032 , 0.7769779 ],\n",
              "        ...,\n",
              "        [0.6145501 , 0.25194395, 0.98248756],\n",
              "        [0.55646133, 0.3664018 , 0.7445215 ],\n",
              "        [0.6781268 , 0.09148419, 0.33408105]],\n",
              "\n",
              "       [[0.3389088 , 0.23109436, 0.6442139 ],\n",
              "        [0.12672365, 0.07442689, 0.03182197],\n",
              "        [0.068892  , 0.96129346, 0.51912296],\n",
              "        ...,\n",
              "        [0.14066231, 0.35682416, 0.2085923 ],\n",
              "        [0.69592977, 0.8131771 , 0.00588477],\n",
              "        [0.70184815, 0.64016294, 0.0747571 ]],\n",
              "\n",
              "       [[0.27589476, 0.23826325, 0.19162822],\n",
              "        [0.14873385, 0.21481895, 0.4211197 ],\n",
              "        [0.6412494 , 0.13262641, 0.51079094],\n",
              "        ...,\n",
              "        [0.82844925, 0.5149312 , 0.04949689],\n",
              "        [0.5368755 , 0.697265  , 0.19235706],\n",
              "        [0.9229592 , 0.73914945, 0.17850482]],\n",
              "\n",
              "       ...,\n",
              "\n",
              "       [[0.03120029, 0.72602725, 0.92950666],\n",
              "        [0.33790505, 0.8366394 , 0.43847215],\n",
              "        [0.6485505 , 0.2200383 , 0.42725384],\n",
              "        ...,\n",
              "        [0.8826854 , 0.72716415, 0.58730745],\n",
              "        [0.20731378, 0.9168776 , 0.05646527],\n",
              "        [0.4071517 , 0.95039594, 0.84482884]],\n",
              "\n",
              "       [[0.19706094, 0.37046456, 0.6863334 ],\n",
              "        [0.04000294, 0.10056329, 0.2494334 ],\n",
              "        [0.20629239, 0.5523509 , 0.8679403 ],\n",
              "        ...,\n",
              "        [0.32984018, 0.90605867, 0.5830796 ],\n",
              "        [0.82721937, 0.19194686, 0.9649075 ],\n",
              "        [0.6143894 , 0.72553456, 0.91567194]],\n",
              "\n",
              "       [[0.9164444 , 0.6347867 , 0.10149479],\n",
              "        [0.15046382, 0.14962888, 0.06370854],\n",
              "        [0.08457911, 0.7039963 , 0.16907132],\n",
              "        ...,\n",
              "        [0.4101379 , 0.7809285 , 0.9561529 ],\n",
              "        [0.40182257, 0.48273873, 0.10020018],\n",
              "        [0.51222265, 0.5508375 , 0.4840908 ]]], dtype=float32)>"
            ]
          },
          "metadata": {},
          "execution_count": 84
        }
      ]
    },
    {
      "cell_type": "code",
      "source": [
        "tf.reduce_min(tensor_minmax), tf.reduce_max(tensor_minmax)"
      ],
      "metadata": {
        "colab": {
          "base_uri": "https://localhost:8080/"
        },
        "id": "Ypj26aipdZ_X",
        "outputId": "08274b17-113f-4c1e-d05b-e75a8fba6957"
      },
      "execution_count": 87,
      "outputs": [
        {
          "output_type": "execute_result",
          "data": {
            "text/plain": [
              "(<tf.Tensor: shape=(), dtype=float32, numpy=4.887581e-06>,\n",
              " <tf.Tensor: shape=(), dtype=float32, numpy=0.99999654>)"
            ]
          },
          "metadata": {},
          "execution_count": 87
        }
      ]
    },
    {
      "cell_type": "code",
      "source": [
        "tensor_squeeze = tf.random.uniform([1, 224, 224, 3], 0, 1)\n",
        "tensor_squeeze.shape"
      ],
      "metadata": {
        "colab": {
          "base_uri": "https://localhost:8080/"
        },
        "id": "oeHxMREGdrsq",
        "outputId": "43befe22-b6fa-4148-df0e-e5092effef80"
      },
      "execution_count": 90,
      "outputs": [
        {
          "output_type": "execute_result",
          "data": {
            "text/plain": [
              "TensorShape([1, 224, 224, 3])"
            ]
          },
          "metadata": {},
          "execution_count": 90
        }
      ]
    },
    {
      "cell_type": "code",
      "source": [
        "tf.squeeze(tensor_squeeze).shape"
      ],
      "metadata": {
        "colab": {
          "base_uri": "https://localhost:8080/"
        },
        "id": "5b0Xi5P1dxzA",
        "outputId": "fdbc4e8f-0a6d-4a6d-cdb0-829a01e292ef"
      },
      "execution_count": 91,
      "outputs": [
        {
          "output_type": "execute_result",
          "data": {
            "text/plain": [
              "TensorShape([224, 224, 3])"
            ]
          },
          "metadata": {},
          "execution_count": 91
        }
      ]
    },
    {
      "cell_type": "code",
      "source": [
        "flat_list = tf.constant([1,2,3,4,5,6,7,8,9,10])\n",
        "tf.argmax(flat_list)"
      ],
      "metadata": {
        "colab": {
          "base_uri": "https://localhost:8080/"
        },
        "id": "Q9dDZQBDd6-9",
        "outputId": "3dcd505f-eb4a-4e35-b7c0-ceeafcc07e09"
      },
      "execution_count": 94,
      "outputs": [
        {
          "output_type": "execute_result",
          "data": {
            "text/plain": [
              "<tf.Tensor: shape=(), dtype=int64, numpy=9>"
            ]
          },
          "metadata": {},
          "execution_count": 94
        }
      ]
    },
    {
      "cell_type": "code",
      "source": [
        "tf.one_hot(flat_list, depth=len(flat_list))"
      ],
      "metadata": {
        "colab": {
          "base_uri": "https://localhost:8080/"
        },
        "id": "NBcfyRXeeCME",
        "outputId": "0d091bf2-e868-46ac-fd45-bf435578ed04"
      },
      "execution_count": 95,
      "outputs": [
        {
          "output_type": "execute_result",
          "data": {
            "text/plain": [
              "<tf.Tensor: shape=(10, 10), dtype=float32, numpy=\n",
              "array([[0., 1., 0., 0., 0., 0., 0., 0., 0., 0.],\n",
              "       [0., 0., 1., 0., 0., 0., 0., 0., 0., 0.],\n",
              "       [0., 0., 0., 1., 0., 0., 0., 0., 0., 0.],\n",
              "       [0., 0., 0., 0., 1., 0., 0., 0., 0., 0.],\n",
              "       [0., 0., 0., 0., 0., 1., 0., 0., 0., 0.],\n",
              "       [0., 0., 0., 0., 0., 0., 1., 0., 0., 0.],\n",
              "       [0., 0., 0., 0., 0., 0., 0., 1., 0., 0.],\n",
              "       [0., 0., 0., 0., 0., 0., 0., 0., 1., 0.],\n",
              "       [0., 0., 0., 0., 0., 0., 0., 0., 0., 1.],\n",
              "       [0., 0., 0., 0., 0., 0., 0., 0., 0., 0.]], dtype=float32)>"
            ]
          },
          "metadata": {},
          "execution_count": 95
        }
      ]
    }
  ]
}