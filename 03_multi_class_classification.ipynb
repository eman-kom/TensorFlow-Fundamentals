{
  "nbformat": 4,
  "nbformat_minor": 0,
  "metadata": {
    "colab": {
      "name": "03_multi-class_classification.ipynb",
      "provenance": [],
      "authorship_tag": "ABX9TyMzNhKRWvzKwRv6rgEqrkks",
      "include_colab_link": true
    },
    "kernelspec": {
      "name": "python3",
      "display_name": "Python 3"
    },
    "language_info": {
      "name": "python"
    },
    "accelerator": "GPU"
  },
  "cells": [
    {
      "cell_type": "markdown",
      "metadata": {
        "id": "view-in-github",
        "colab_type": "text"
      },
      "source": [
        "<a href=\"https://colab.research.google.com/github/eman-kom/tensorflow-fundamentals/blob/main/03_multi_class_classification.ipynb\" target=\"_parent\"><img src=\"https://colab.research.google.com/assets/colab-badge.svg\" alt=\"Open In Colab\"/></a>"
      ]
    },
    {
      "cell_type": "code",
      "execution_count": null,
      "metadata": {
        "colab": {
          "base_uri": "https://localhost:8080/"
        },
        "id": "hml6JuD4E9gc",
        "outputId": "2fd1b9ad-2e4e-4042-dadd-ec0546780312"
      },
      "outputs": [
        {
          "output_type": "stream",
          "name": "stdout",
          "text": [
            "--2022-05-29 05:59:34--  https://storage.googleapis.com/ztm_tf_course/food_vision/10_food_classes_all_data.zip\n",
            "Resolving storage.googleapis.com (storage.googleapis.com)... 172.217.15.112, 172.217.164.144, 172.253.62.128, ...\n",
            "Connecting to storage.googleapis.com (storage.googleapis.com)|172.217.15.112|:443... connected.\n",
            "HTTP request sent, awaiting response... 200 OK\n",
            "Length: 519183241 (495M) [application/zip]\n",
            "Saving to: ‘10_food_classes_all_data.zip.2’\n",
            "\n",
            "10_food_classes_all 100%[===================>] 495.13M   197MB/s    in 2.5s    \n",
            "\n",
            "2022-05-29 05:59:37 (197 MB/s) - ‘10_food_classes_all_data.zip.2’ saved [519183241/519183241]\n",
            "\n"
          ]
        }
      ],
      "source": [
        "import zipfile\n",
        "\n",
        "!wget https://storage.googleapis.com/ztm_tf_course/food_vision/10_food_classes_all_data.zip\n",
        "\n",
        "zip_ref = zipfile.ZipFile(\"10_food_classes_all_data.zip\")\n",
        "zip_ref.extractall()\n",
        "zip_ref.close()"
      ]
    },
    {
      "cell_type": "code",
      "source": [
        "import os\n",
        "\n",
        "for dirpath, dirnames, filenames in os.walk(\"10_food_classes_all_data\"):\n",
        "  print(f\"There are {len(dirnames)} directories and {len(filenames)} images in '{dirpath}'.\")"
      ],
      "metadata": {
        "colab": {
          "base_uri": "https://localhost:8080/"
        },
        "id": "oWLXLx4gFuWd",
        "outputId": "ffdd8234-53cc-4779-b44d-4e9e0b23d89e"
      },
      "execution_count": null,
      "outputs": [
        {
          "output_type": "stream",
          "name": "stdout",
          "text": [
            "There are 2 directories and 0 images in '10_food_classes_all_data'.\n",
            "There are 10 directories and 0 images in '10_food_classes_all_data/test'.\n",
            "There are 0 directories and 250 images in '10_food_classes_all_data/test/fried_rice'.\n",
            "There are 0 directories and 250 images in '10_food_classes_all_data/test/chicken_wings'.\n",
            "There are 0 directories and 250 images in '10_food_classes_all_data/test/pizza'.\n",
            "There are 0 directories and 250 images in '10_food_classes_all_data/test/chicken_curry'.\n",
            "There are 0 directories and 250 images in '10_food_classes_all_data/test/hamburger'.\n",
            "There are 0 directories and 250 images in '10_food_classes_all_data/test/grilled_salmon'.\n",
            "There are 0 directories and 250 images in '10_food_classes_all_data/test/ice_cream'.\n",
            "There are 0 directories and 250 images in '10_food_classes_all_data/test/ramen'.\n",
            "There are 0 directories and 250 images in '10_food_classes_all_data/test/sushi'.\n",
            "There are 0 directories and 250 images in '10_food_classes_all_data/test/steak'.\n",
            "There are 10 directories and 0 images in '10_food_classes_all_data/train'.\n",
            "There are 0 directories and 750 images in '10_food_classes_all_data/train/fried_rice'.\n",
            "There are 0 directories and 750 images in '10_food_classes_all_data/train/chicken_wings'.\n",
            "There are 0 directories and 750 images in '10_food_classes_all_data/train/pizza'.\n",
            "There are 0 directories and 750 images in '10_food_classes_all_data/train/chicken_curry'.\n",
            "There are 0 directories and 750 images in '10_food_classes_all_data/train/hamburger'.\n",
            "There are 0 directories and 750 images in '10_food_classes_all_data/train/grilled_salmon'.\n",
            "There are 0 directories and 750 images in '10_food_classes_all_data/train/ice_cream'.\n",
            "There are 0 directories and 750 images in '10_food_classes_all_data/train/ramen'.\n",
            "There are 0 directories and 750 images in '10_food_classes_all_data/train/sushi'.\n",
            "There are 0 directories and 750 images in '10_food_classes_all_data/train/steak'.\n"
          ]
        }
      ]
    },
    {
      "cell_type": "code",
      "source": [
        "train_dir = \"10_food_classes_all_data/train/\"\n",
        "test_dir = \"10_food_classes_all_data/test/\""
      ],
      "metadata": {
        "id": "9aFx3SonGNh0"
      },
      "execution_count": null,
      "outputs": []
    },
    {
      "cell_type": "code",
      "source": [
        "from tensorflow.keras.preprocessing.image import ImageDataGenerator\n",
        "\n",
        "train_datagen = ImageDataGenerator(\n",
        "    rescale=1/255.\n",
        ")\n",
        "\n",
        "test_datagen = ImageDataGenerator(\n",
        "    rescale=1/255.\n",
        ")\n",
        "\n",
        "train_data = train_datagen.flow_from_directory(\n",
        "    train_dir,\n",
        "    target_size=(224, 224),\n",
        "    batch_size=32,\n",
        "    class_mode=\"categorical\"\n",
        ")\n",
        "\n",
        "test_data = test_datagen.flow_from_directory(\n",
        "    test_dir,\n",
        "    target_size=(224, 224),\n",
        "    batch_size=32,\n",
        "    class_mode=\"categorical\"\n",
        ")"
      ],
      "metadata": {
        "colab": {
          "base_uri": "https://localhost:8080/"
        },
        "id": "sJT--FxWGUrh",
        "outputId": "de91caee-ee74-4f00-dc3b-9e0994ab47a3"
      },
      "execution_count": null,
      "outputs": [
        {
          "output_type": "stream",
          "name": "stdout",
          "text": [
            "Found 7500 images belonging to 10 classes.\n",
            "Found 2500 images belonging to 10 classes.\n"
          ]
        }
      ]
    },
    {
      "cell_type": "code",
      "source": [
        "import tensorflow as tf\n",
        "from tensorflow.keras.models import Sequential\n",
        "from tensorflow.keras.layers import Dense, Conv2D, MaxPool2D, Flatten, Activation\n",
        "from tensorflow.keras.optimizers import Adam\n",
        "\n",
        "model_1 = Sequential([\n",
        "    Conv2D(10, 3, input_shape=(224, 224, 3), activation=\"relu\"),\n",
        "    Conv2D(10, 3, activation=\"relu\"),\n",
        "    MaxPool2D(),\n",
        "    Conv2D(10, 3, activation=\"relu\"),\n",
        "    Conv2D(10, 3, activation=\"relu\"),\n",
        "    MaxPool2D(),\n",
        "    Flatten(),\n",
        "    Dense(10, activation=\"softmax\")\n",
        "])\n",
        "\n",
        "model_1.compile(\n",
        "    loss=\"categorical_crossentropy\",\n",
        "    optimizer=Adam(),\n",
        "    metrics=[\"accuracy\"]\n",
        ")"
      ],
      "metadata": {
        "id": "bT84HB5HPwjx"
      },
      "execution_count": null,
      "outputs": []
    },
    {
      "cell_type": "code",
      "source": [
        "history_1 = model_1.fit(\n",
        "    train_data, \n",
        "    epochs=5, \n",
        "    steps_per_epoch=len(train_data),\n",
        "    validation_data=test_data,\n",
        "    validation_steps=len(test_data)\n",
        ")"
      ],
      "metadata": {
        "colab": {
          "base_uri": "https://localhost:8080/"
        },
        "id": "Wy_DfjarRZhC",
        "outputId": "380a919b-ca4b-41f8-f83b-952d6daec146"
      },
      "execution_count": null,
      "outputs": [
        {
          "output_type": "stream",
          "name": "stdout",
          "text": [
            "Epoch 1/5\n",
            "235/235 [==============================] - 49s 208ms/step - loss: 2.1524 - accuracy: 0.2012 - val_loss: 1.9832 - val_accuracy: 0.2900\n",
            "Epoch 2/5\n",
            "235/235 [==============================] - 49s 208ms/step - loss: 1.8572 - accuracy: 0.3528 - val_loss: 1.8617 - val_accuracy: 0.3492\n",
            "Epoch 3/5\n",
            "235/235 [==============================] - 48s 203ms/step - loss: 1.5770 - accuracy: 0.4709 - val_loss: 1.8573 - val_accuracy: 0.3644\n",
            "Epoch 4/5\n",
            "235/235 [==============================] - 47s 199ms/step - loss: 1.0781 - accuracy: 0.6397 - val_loss: 2.2422 - val_accuracy: 0.3156\n",
            "Epoch 5/5\n",
            "235/235 [==============================] - 45s 193ms/step - loss: 0.4751 - accuracy: 0.8515 - val_loss: 3.0276 - val_accuracy: 0.3032\n"
          ]
        }
      ]
    },
    {
      "cell_type": "code",
      "source": [
        "model_1.evaluate(test_data)"
      ],
      "metadata": {
        "colab": {
          "base_uri": "https://localhost:8080/"
        },
        "id": "IPLPAAzrSQuY",
        "outputId": "37465d65-0bc2-4983-820d-ec90d39d5f5e"
      },
      "execution_count": null,
      "outputs": [
        {
          "output_type": "stream",
          "name": "stdout",
          "text": [
            "79/79 [==============================] - 11s 136ms/step - loss: 3.0276 - accuracy: 0.3032\n"
          ]
        },
        {
          "output_type": "execute_result",
          "data": {
            "text/plain": [
              "[3.027578353881836, 0.30320000648498535]"
            ]
          },
          "metadata": {},
          "execution_count": 33
        }
      ]
    },
    {
      "cell_type": "code",
      "source": [
        "import pandas as pd\n",
        "pd.DataFrame(history_1.history).plot()"
      ],
      "metadata": {
        "colab": {
          "base_uri": "https://localhost:8080/",
          "height": 282
        },
        "id": "sZ90f3ieR7hJ",
        "outputId": "aba10feb-851b-452a-db79-c268f43ee80e"
      },
      "execution_count": null,
      "outputs": [
        {
          "output_type": "execute_result",
          "data": {
            "text/plain": [
              "<matplotlib.axes._subplots.AxesSubplot at 0x7f5f8e0b4fd0>"
            ]
          },
          "metadata": {},
          "execution_count": 34
        },
        {
          "output_type": "display_data",
          "data": {
            "text/plain": [
              "<Figure size 432x288 with 1 Axes>"
            ],
            "image/png": "[encoded data removed]"
          },
          "metadata": {
            "needs_background": "light"
          }
        }
      ]
    },
    {
      "cell_type": "code",
      "source": [
        "model_2 = Sequential([\n",
        "    Conv2D(10, 3, input_shape=(224, 224, 3), activation=\"relu\"),\n",
        "    MaxPool2D(),\n",
        "    Conv2D(10, 3, activation=\"relu\"),\n",
        "    MaxPool2D(),\n",
        "    Flatten(),\n",
        "    Dense(10, activation=\"softmax\")\n",
        "])\n",
        "\n",
        "model_2.compile(\n",
        "    loss=\"categorical_crossentropy\",\n",
        "    optimizer=Adam(),\n",
        "    metrics=[\"accuracy\"]\n",
        ")\n",
        "\n",
        "model_2.summary()"
      ],
      "metadata": {
        "colab": {
          "base_uri": "https://localhost:8080/"
        },
        "id": "oVyGvGPSS4do",
        "outputId": "a0c2be44-ce07-4ce9-9612-039a9a3b3066"
      },
      "execution_count": null,
      "outputs": [
        {
          "output_type": "stream",
          "name": "stdout",
          "text": [
            "Model: \"sequential_6\"\n",
            "_________________________________________________________________\n",
            " Layer (type)                Output Shape              Param #   \n",
            "=================================================================\n",
            " conv2d_16 (Conv2D)          (None, 222, 222, 10)      280       \n",
            "                                                                 \n",
            " max_pooling2d_12 (MaxPoolin  (None, 111, 111, 10)     0         \n",
            " g2D)                                                            \n",
            "                                                                 \n",
            " conv2d_17 (Conv2D)          (None, 109, 109, 10)      910       \n",
            "                                                                 \n",
            " max_pooling2d_13 (MaxPoolin  (None, 54, 54, 10)       0         \n",
            " g2D)                                                            \n",
            "                                                                 \n",
            " flatten_6 (Flatten)         (None, 29160)             0         \n",
            "                                                                 \n",
            " dense_6 (Dense)             (None, 10)                291610    \n",
            "                                                                 \n",
            "=================================================================\n",
            "Total params: 292,800\n",
            "Trainable params: 292,800\n",
            "Non-trainable params: 0\n",
            "_________________________________________________________________\n"
          ]
        }
      ]
    },
    {
      "cell_type": "code",
      "source": [
        "history_2 = model_2.fit(\n",
        "    train_data,\n",
        "    epochs=5,\n",
        "    steps_per_epoch=len(train_data),\n",
        "    validation_data=test_data,\n",
        "    validation_steps=len(test_data)\n",
        ")"
      ],
      "metadata": {
        "colab": {
          "base_uri": "https://localhost:8080/"
        },
        "id": "cTnrG7OMT3pI",
        "outputId": "6b77ee1e-49a2-40dd-93cf-9636beca930c"
      },
      "execution_count": null,
      "outputs": [
        {
          "output_type": "stream",
          "name": "stdout",
          "text": [
            "Epoch 1/5\n",
            "235/235 [==============================] - 44s 185ms/step - loss: 2.0775 - accuracy: 0.2599 - val_loss: 1.9233 - val_accuracy: 0.3008\n",
            "Epoch 2/5\n",
            "235/235 [==============================] - 43s 181ms/step - loss: 1.7762 - accuracy: 0.3903 - val_loss: 1.9008 - val_accuracy: 0.3280\n",
            "Epoch 3/5\n",
            "235/235 [==============================] - 43s 183ms/step - loss: 1.4713 - accuracy: 0.5175 - val_loss: 1.9089 - val_accuracy: 0.3324\n",
            "Epoch 4/5\n",
            "235/235 [==============================] - 43s 181ms/step - loss: 1.0574 - accuracy: 0.6683 - val_loss: 2.0381 - val_accuracy: 0.3428\n",
            "Epoch 5/5\n",
            "235/235 [==============================] - 43s 182ms/step - loss: 0.6555 - accuracy: 0.8127 - val_loss: 2.3862 - val_accuracy: 0.3168\n"
          ]
        }
      ]
    },
    {
      "cell_type": "code",
      "source": [
        "model_2.evaluate(test_data)"
      ],
      "metadata": {
        "colab": {
          "base_uri": "https://localhost:8080/"
        },
        "id": "INOBcs_cUHjX",
        "outputId": "83266ed0-73e6-4c8a-d2cd-923c970ddb5a"
      },
      "execution_count": null,
      "outputs": [
        {
          "output_type": "stream",
          "name": "stdout",
          "text": [
            "79/79 [==============================] - 11s 133ms/step - loss: 2.3862 - accuracy: 0.3168\n"
          ]
        },
        {
          "output_type": "execute_result",
          "data": {
            "text/plain": [
              "[2.386230230331421, 0.31679999828338623]"
            ]
          },
          "metadata": {},
          "execution_count": 37
        }
      ]
    },
    {
      "cell_type": "code",
      "source": [
        "pd.DataFrame(history_2.history).plot()"
      ],
      "metadata": {
        "colab": {
          "base_uri": "https://localhost:8080/",
          "height": 282
        },
        "id": "bb8WqIiLUK0-",
        "outputId": "e994fa3f-e903-42ed-f160-9df2f574cf99"
      },
      "execution_count": null,
      "outputs": [
        {
          "output_type": "execute_result",
          "data": {
            "text/plain": [
              "<matplotlib.axes._subplots.AxesSubplot at 0x7f5f8de34f50>"
            ]
          },
          "metadata": {},
          "execution_count": 38
        },
        {
          "output_type": "display_data",
          "data": {
            "text/plain": [
              "<Figure size 432x288 with 1 Axes>"
            ],
            "image/png": "[encoded data removed]"
          },
          "metadata": {
            "needs_background": "light"
          }
        }
      ]
    },
    {
      "cell_type": "code",
      "source": [
        "train_datagen_augmented = ImageDataGenerator(\n",
        "    rescale=1/255.,\n",
        "    rotation_range=0.2,\n",
        "    width_shift_range=0.2,\n",
        "    height_shift_range=0.2,\n",
        "    zoom_range=0.2,\n",
        "    horizontal_flip=True\n",
        ")\n",
        "\n",
        "train_data_augmented = train_datagen_augmented.flow_from_directory(\n",
        "    train_dir,\n",
        "    batch_size=32,\n",
        "    target_size=(224, 224),\n",
        "    class_mode=\"categorical\"\n",
        ")"
      ],
      "metadata": {
        "colab": {
          "base_uri": "https://localhost:8080/"
        },
        "id": "8P368bKoUieZ",
        "outputId": "51ea9950-e902-4ed8-b620-97ae5f1e91c5"
      },
      "execution_count": null,
      "outputs": [
        {
          "output_type": "stream",
          "name": "stdout",
          "text": [
            "Found 7500 images belonging to 10 classes.\n"
          ]
        }
      ]
    },
    {
      "cell_type": "code",
      "source": [
        "model_3 = tf.keras.models.clone_model(model_1)\n",
        "model_3.compile(loss=\"categorical_crossentropy\", optimizer=Adam(), metrics=[\"accuracy\"])"
      ],
      "metadata": {
        "id": "zxKeCe2LZODY"
      },
      "execution_count": null,
      "outputs": []
    },
    {
      "cell_type": "code",
      "source": [
        "history_3 = model_3.fit(\n",
        "    train_data_augmented,\n",
        "    epochs=5,\n",
        "    steps_per_epoch=len(train_data_augmented),\n",
        "    validation_data=test_data,\n",
        "    validation_steps=len(test_data)\n",
        ")"
      ],
      "metadata": {
        "colab": {
          "base_uri": "https://localhost:8080/"
        },
        "id": "IkueiVjuZwMH",
        "outputId": "934f3dab-6c94-4446-8b0d-839f4f134c2b"
      },
      "execution_count": null,
      "outputs": [
        {
          "output_type": "stream",
          "name": "stdout",
          "text": [
            "Epoch 1/5\n",
            "235/235 [==============================] - 111s 471ms/step - loss: 2.1956 - accuracy: 0.1843 - val_loss: 2.0352 - val_accuracy: 0.2732\n",
            "Epoch 2/5\n",
            "235/235 [==============================] - 110s 469ms/step - loss: 2.0964 - accuracy: 0.2512 - val_loss: 1.9809 - val_accuracy: 0.2844\n",
            "Epoch 3/5\n",
            "235/235 [==============================] - 111s 470ms/step - loss: 2.0420 - accuracy: 0.2776 - val_loss: 1.9388 - val_accuracy: 0.3252\n",
            "Epoch 4/5\n",
            "235/235 [==============================] - 110s 469ms/step - loss: 2.0065 - accuracy: 0.2967 - val_loss: 1.8364 - val_accuracy: 0.3640\n",
            "Epoch 5/5\n",
            "235/235 [==============================] - 111s 471ms/step - loss: 1.9781 - accuracy: 0.3072 - val_loss: 1.8481 - val_accuracy: 0.3616\n"
          ]
        }
      ]
    },
    {
      "cell_type": "code",
      "source": [
        "model_3.evaluate(test_data)"
      ],
      "metadata": {
        "colab": {
          "base_uri": "https://localhost:8080/"
        },
        "id": "uA1esn5qaFTT",
        "outputId": "69f57ba4-fed6-4fd6-f831-fa21efd799dc"
      },
      "execution_count": null,
      "outputs": [
        {
          "output_type": "stream",
          "name": "stdout",
          "text": [
            "79/79 [==============================] - 11s 134ms/step - loss: 1.8481 - accuracy: 0.3616\n"
          ]
        },
        {
          "output_type": "execute_result",
          "data": {
            "text/plain": [
              "[1.848050594329834, 0.36160001158714294]"
            ]
          },
          "metadata": {},
          "execution_count": 47
        }
      ]
    },
    {
      "cell_type": "code",
      "source": [
        "pd.DataFrame(history_3.history).plot()"
      ],
      "metadata": {
        "colab": {
          "base_uri": "https://localhost:8080/",
          "height": 282
        },
        "id": "-H6Q0UHQaJqg",
        "outputId": "da27b5d3-5cbd-4ae3-d7c1-75a30bae0f01"
      },
      "execution_count": null,
      "outputs": [
        {
          "output_type": "execute_result",
          "data": {
            "text/plain": [
              "<matplotlib.axes._subplots.AxesSubplot at 0x7f5ef65021d0>"
            ]
          },
          "metadata": {},
          "execution_count": 48
        },
        {
          "output_type": "display_data",
          "data": {
            "text/plain": [
              "<Figure size 432x288 with 1 Axes>"
            ],
            "image/png": "[encoded data removed]"
          },
          "metadata": {
            "needs_background": "light"
          }
        }
      ]
    },
    {
      "cell_type": "code",
      "source": [
        "!wget https://raw.githubusercontent.com/mrdbourke/tensorflow-deep-learning/main/images/03-sushi.jpeg\n",
        "!wget https://raw.githubusercontent.com/mrdbourke/tensorflow-deep-learning/main/images/03-hamburger.jpeg\n",
        "!wget https://raw.githubusercontent.com/mrdbourke/tensorflow-deep-learning/main/images/03-steak.jpeg\n",
        "!wget https://github.com/mrdbourke/tensorflow-deep-learning/blob/main/images/03-pizza-dad.jpeg"
      ],
      "metadata": {
        "colab": {
          "base_uri": "https://localhost:8080/"
        },
        "id": "AYKjv2RWuDKE",
        "outputId": "08beea66-26fb-4539-9b75-e58416fa1eb8"
      },
      "execution_count": null,
      "outputs": [
        {
          "output_type": "stream",
          "name": "stdout",
          "text": [
            "--2022-05-29 07:30:59--  https://raw.githubusercontent.com/mrdbourke/tensorflow-deep-learning/main/images/03-sushi.jpeg\n",
            "Resolving raw.githubusercontent.com (raw.githubusercontent.com)... 185.199.109.133, 185.199.108.133, 185.199.110.133, ...\n",
            "Connecting to raw.githubusercontent.com (raw.githubusercontent.com)|185.199.109.133|:443... connected.\n",
            "HTTP request sent, awaiting response... 200 OK\n",
            "Length: 1725178 (1.6M) [image/jpeg]\n",
            "Saving to: ‘03-sushi.jpeg’\n",
            "\n",
            "\r03-sushi.jpeg         0%[                    ]       0  --.-KB/s               \r03-sushi.jpeg       100%[===================>]   1.64M  --.-KB/s    in 0.009s  \n",
            "\n",
            "2022-05-29 07:30:59 (192 MB/s) - ‘03-sushi.jpeg’ saved [1725178/1725178]\n",
            "\n",
            "--2022-05-29 07:30:59--  https://raw.githubusercontent.com/mrdbourke/tensorflow-deep-learning/main/images/03-hamburger.jpeg\n",
            "Resolving raw.githubusercontent.com (raw.githubusercontent.com)... 185.199.109.133, 185.199.111.133, 185.199.108.133, ...\n",
            "Connecting to raw.githubusercontent.com (raw.githubusercontent.com)|185.199.109.133|:443... connected.\n",
            "HTTP request sent, awaiting response... 200 OK\n",
            "Length: 3564285 (3.4M) [image/jpeg]\n",
            "Saving to: ‘03-hamburger.jpeg’\n",
            "\n",
            "03-hamburger.jpeg   100%[===================>]   3.40M  --.-KB/s    in 0.01s   \n",
            "\n",
            "2022-05-29 07:31:00 (248 MB/s) - ‘03-hamburger.jpeg’ saved [3564285/3564285]\n",
            "\n",
            "--2022-05-29 07:31:00--  https://raw.githubusercontent.com/mrdbourke/tensorflow-deep-learning/main/images/03-steak.jpeg\n",
            "Resolving raw.githubusercontent.com (raw.githubusercontent.com)... 185.199.108.133, 185.199.109.133, 185.199.110.133, ...\n",
            "Connecting to raw.githubusercontent.com (raw.githubusercontent.com)|185.199.108.133|:443... connected.\n",
            "HTTP request sent, awaiting response... 200 OK\n",
            "Length: 1978213 (1.9M) [image/jpeg]\n",
            "Saving to: ‘03-steak.jpeg’\n",
            "\n",
            "03-steak.jpeg       100%[===================>]   1.89M  --.-KB/s    in 0.008s  \n",
            "\n",
            "2022-05-29 07:31:00 (234 MB/s) - ‘03-steak.jpeg’ saved [1978213/1978213]\n",
            "\n",
            "--2022-05-29 07:31:00--  https://github.com/mrdbourke/tensorflow-deep-learning/blob/main/images/03-pizza-dad.jpeg\n",
            "Resolving github.com (github.com)... 140.82.112.3\n",
            "Connecting to github.com (github.com)|140.82.112.3|:443... connected.\n",
            "HTTP request sent, awaiting response... 200 OK\n",
            "Length: unspecified [text/html]\n",
            "Saving to: ‘03-pizza-dad.jpeg’\n",
            "\n",
            "03-pizza-dad.jpeg       [ <=>                ] 127.65K  --.-KB/s    in 0.008s  \n",
            "\n",
            "2022-05-29 07:31:00 (15.3 MB/s) - ‘03-pizza-dad.jpeg’ saved [130713]\n",
            "\n"
          ]
        }
      ]
    },
    {
      "cell_type": "code",
      "source": [
        "model_3.save(\"badly_trained_model\")"
      ],
      "metadata": {
        "colab": {
          "base_uri": "https://localhost:8080/"
        },
        "id": "14-Bf_6cubuB",
        "outputId": "d74b1355-2b8d-4750-b420-bf4862e0d154"
      },
      "execution_count": null,
      "outputs": [
        {
          "output_type": "stream",
          "name": "stdout",
          "text": [
            "INFO:tensorflow:Assets written to: badly_trained_model/assets\n"
          ]
        }
      ]
    },
    {
      "cell_type": "code",
      "source": [
        "tf.keras.models.load_model(\"badly_trained_model\").evaluate(test_data)"
      ],
      "metadata": {
        "colab": {
          "base_uri": "https://localhost:8080/"
        },
        "id": "ZHH-zfkLvg9I",
        "outputId": "331f50aa-b884-4adc-cc57-eaaf80e82f87"
      },
      "execution_count": null,
      "outputs": [
        {
          "output_type": "stream",
          "name": "stdout",
          "text": [
            "79/79 [==============================] - 11s 134ms/step - loss: 1.8481 - accuracy: 0.3616\n"
          ]
        },
        {
          "output_type": "execute_result",
          "data": {
            "text/plain": [
              "[1.848050594329834, 0.36160001158714294]"
            ]
          },
          "metadata": {},
          "execution_count": 51
        }
      ]
    }
  ]
}