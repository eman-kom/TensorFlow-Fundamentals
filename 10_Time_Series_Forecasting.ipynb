{
  "nbformat": 4,
  "nbformat_minor": 0,
  "metadata": {
    "colab": {
      "name": "10_Time_Series_Forecasting.ipynb",
      "provenance": [],
      "authorship_tag": "ABX9TyPuWnlFkuGAoGe9g3y4pX0s",
      "include_colab_link": true
    },
    "kernelspec": {
      "name": "python3",
      "display_name": "Python 3"
    },
    "language_info": {
      "name": "python"
    },
    "accelerator": "GPU",
    "gpuClass": "standard"
  },
  "cells": [
    {
      "cell_type": "markdown",
      "metadata": {
        "id": "view-in-github",
        "colab_type": "text"
      },
      "source": [
        "<a href=\"https://colab.research.google.com/github/eman-kom/tensorflow-fundamentals/blob/main/10_Time_Series_Forecasting.ipynb\" target=\"_parent\"><img src=\"https://colab.research.google.com/assets/colab-badge.svg\" alt=\"Open In Colab\"/></a>"
      ]
    },
    {
      "cell_type": "markdown",
      "source": [
        "# Get data"
      ],
      "metadata": {
        "id": "S0dUCKTJxrCE"
      }
    },
    {
      "cell_type": "code",
      "source": [
        "!wget https://raw.githubusercontent.com/mrdbourke/tensorflow-deep-learning/main/extras/BTC_USD_2013-10-01_2021-05-18-CoinDesk.csv"
      ],
      "metadata": {
        "colab": {
          "base_uri": "https://localhost:8080/"
        },
        "id": "4P5NLge6xxqH",
        "outputId": "981f420a-9cb3-4adb-d34c-a470816de71b"
      },
      "execution_count": 1,
      "outputs": [
        {
          "output_type": "stream",
          "name": "stdout",
          "text": [
            "--2022-08-13 11:35:53--  https://raw.githubusercontent.com/mrdbourke/tensorflow-deep-learning/main/extras/BTC_USD_2013-10-01_2021-05-18-CoinDesk.csv\n",
            "Resolving raw.githubusercontent.com (raw.githubusercontent.com)... 185.199.108.133, 185.199.109.133, 185.199.110.133, ...\n",
            "Connecting to raw.githubusercontent.com (raw.githubusercontent.com)|185.199.108.133|:443... connected.\n",
            "HTTP request sent, awaiting response... 200 OK\n",
            "Length: 178509 (174K) [text/plain]\n",
            "Saving to: ‘BTC_USD_2013-10-01_2021-05-18-CoinDesk.csv’\n",
            "\n",
            "\r          BTC_USD_2   0%[                    ]       0  --.-KB/s               \rBTC_USD_2013-10-01_ 100%[===================>] 174.33K  --.-KB/s    in 0.003s  \n",
            "\n",
            "2022-08-13 11:35:53 (66.5 MB/s) - ‘BTC_USD_2013-10-01_2021-05-18-CoinDesk.csv’ saved [178509/178509]\n",
            "\n"
          ]
        }
      ]
    },
    {
      "cell_type": "markdown",
      "source": [
        "## Import with Pandas"
      ],
      "metadata": {
        "id": "7JRhFVvAyGE9"
      }
    },
    {
      "cell_type": "code",
      "source": [
        " import pandas as pd\n",
        "\n",
        " df = pd.read_csv(\n",
        "    \"/content/BTC_USD_2013-10-01_2021-05-18-CoinDesk.csv\",\n",
        "    parse_dates=[\"Date\"],\n",
        "    index_col=[\"Date\"]\n",
        "    )\n",
        " \n",
        " df.head()"
      ],
      "metadata": {
        "colab": {
          "base_uri": "https://localhost:8080/",
          "height": 237
        },
        "id": "sBhisp7ox7qQ",
        "outputId": "7cea6daf-124e-4ddc-9cce-a97a3e69d132"
      },
      "execution_count": 2,
      "outputs": [
        {
          "output_type": "execute_result",
          "data": {
            "text/plain": [
              "           Currency  Closing Price (USD)  24h Open (USD)  24h High (USD)  \\\n",
              "Date                                                                       \n",
              "2013-10-01      BTC            123.65499       124.30466       124.75166   \n",
              "2013-10-02      BTC            125.45500       123.65499       125.75850   \n",
              "2013-10-03      BTC            108.58483       125.45500       125.66566   \n",
              "2013-10-04      BTC            118.67466       108.58483       118.67500   \n",
              "2013-10-05      BTC            121.33866       118.67466       121.93633   \n",
              "\n",
              "            24h Low (USD)  \n",
              "Date                       \n",
              "2013-10-01      122.56349  \n",
              "2013-10-02      123.63383  \n",
              "2013-10-03       83.32833  \n",
              "2013-10-04      107.05816  \n",
              "2013-10-05      118.00566  "
            ],
            "text/html": [
              "\n",
              "  <div id=\"df-a277695b-3bbc-4b5b-9a30-29d1363f0bca\">\n",
              "    <div class=\"colab-df-container\">\n",
              "      <div>\n",
              "<style scoped>\n",
              "    .dataframe tbody tr th:only-of-type {\n",
              "        vertical-align: middle;\n",
              "    }\n",
              "\n",
              "    .dataframe tbody tr th {\n",
              "        vertical-align: top;\n",
              "    }\n",
              "\n",
              "    .dataframe thead th {\n",
              "        text-align: right;\n",
              "    }\n",
              "</style>\n",
              "<table border=\"1\" class=\"dataframe\">\n",
              "  <thead>\n",
              "    <tr style=\"text-align: right;\">\n",
              "      <th></th>\n",
              "      <th>Currency</th>\n",
              "      <th>Closing Price (USD)</th>\n",
              "      <th>24h Open (USD)</th>\n",
              "      <th>24h High (USD)</th>\n",
              "      <th>24h Low (USD)</th>\n",
              "    </tr>\n",
              "    <tr>\n",
              "      <th>Date</th>\n",
              "      <th></th>\n",
              "      <th></th>\n",
              "      <th></th>\n",
              "      <th></th>\n",
              "      <th></th>\n",
              "    </tr>\n",
              "  </thead>\n",
              "  <tbody>\n",
              "    <tr>\n",
              "      <th>2013-10-01</th>\n",
              "      <td>BTC</td>\n",
              "      <td>123.65499</td>\n",
              "      <td>124.30466</td>\n",
              "      <td>124.75166</td>\n",
              "      <td>122.56349</td>\n",
              "    </tr>\n",
              "    <tr>\n",
              "      <th>2013-10-02</th>\n",
              "      <td>BTC</td>\n",
              "      <td>125.45500</td>\n",
              "      <td>123.65499</td>\n",
              "      <td>125.75850</td>\n",
              "      <td>123.63383</td>\n",
              "    </tr>\n",
              "    <tr>\n",
              "      <th>2013-10-03</th>\n",
              "      <td>BTC</td>\n",
              "      <td>108.58483</td>\n",
              "      <td>125.45500</td>\n",
              "      <td>125.66566</td>\n",
              "      <td>83.32833</td>\n",
              "    </tr>\n",
              "    <tr>\n",
              "      <th>2013-10-04</th>\n",
              "      <td>BTC</td>\n",
              "      <td>118.67466</td>\n",
              "      <td>108.58483</td>\n",
              "      <td>118.67500</td>\n",
              "      <td>107.05816</td>\n",
              "    </tr>\n",
              "    <tr>\n",
              "      <th>2013-10-05</th>\n",
              "      <td>BTC</td>\n",
              "      <td>121.33866</td>\n",
              "      <td>118.67466</td>\n",
              "      <td>121.93633</td>\n",
              "      <td>118.00566</td>\n",
              "    </tr>\n",
              "  </tbody>\n",
              "</table>\n",
              "</div>\n",
              "      <button class=\"colab-df-convert\" onclick=\"convertToInteractive('df-a277695b-3bbc-4b5b-9a30-29d1363f0bca')\"\n",
              "              title=\"Convert this dataframe to an interactive table.\"\n",
              "              style=\"display:none;\">\n",
              "        \n",
              "  <svg xmlns=\"http://www.w3.org/2000/svg\" height=\"24px\"viewBox=\"0 0 24 24\"\n",
              "       width=\"24px\">\n",
              "    <path d=\"M0 0h24v24H0V0z\" fill=\"none\"/>\n",
              "    <path d=\"M18.56 5.44l.94 2.06.94-2.06 2.06-.94-2.06-.94-.94-2.06-.94 2.06-2.06.94zm-11 1L8.5 8.5l.94-2.06 2.06-.94-2.06-.94L8.5 2.5l-.94 2.06-2.06.94zm10 10l.94 2.06.94-2.06 2.06-.94-2.06-.94-.94-2.06-.94 2.06-2.06.94z\"/><path d=\"M17.41 7.96l-1.37-1.37c-.4-.4-.92-.59-1.43-.59-.52 0-1.04.2-1.43.59L10.3 9.45l-7.72 7.72c-.78.78-.78 2.05 0 2.83L4 21.41c.39.39.9.59 1.41.59.51 0 1.02-.2 1.41-.59l7.78-7.78 2.81-2.81c.8-.78.8-2.07 0-2.86zM5.41 20L4 18.59l7.72-7.72 1.47 1.35L5.41 20z\"/>\n",
              "  </svg>\n",
              "      </button>\n",
              "      \n",
              "  <style>\n",
              "    .colab-df-container {\n",
              "      display:flex;\n",
              "      flex-wrap:wrap;\n",
              "      gap: 12px;\n",
              "    }\n",
              "\n",
              "    .colab-df-convert {\n",
              "      background-color: #E8F0FE;\n",
              "      border: none;\n",
              "      border-radius: 50%;\n",
              "      cursor: pointer;\n",
              "      display: none;\n",
              "      fill: #1967D2;\n",
              "      height: 32px;\n",
              "      padding: 0 0 0 0;\n",
              "      width: 32px;\n",
              "    }\n",
              "\n",
              "    .colab-df-convert:hover {\n",
              "      background-color: #E2EBFA;\n",
              "      box-shadow: 0px 1px 2px rgba(60, 64, 67, 0.3), 0px 1px 3px 1px rgba(60, 64, 67, 0.15);\n",
              "      fill: #174EA6;\n",
              "    }\n",
              "\n",
              "    [theme=dark] .colab-df-convert {\n",
              "      background-color: #3B4455;\n",
              "      fill: #D2E3FC;\n",
              "    }\n",
              "\n",
              "    [theme=dark] .colab-df-convert:hover {\n",
              "      background-color: #434B5C;\n",
              "      box-shadow: 0px 1px 3px 1px rgba(0, 0, 0, 0.15);\n",
              "      filter: drop-shadow(0px 1px 2px rgba(0, 0, 0, 0.3));\n",
              "      fill: #FFFFFF;\n",
              "    }\n",
              "  </style>\n",
              "\n",
              "      <script>\n",
              "        const buttonEl =\n",
              "          document.querySelector('#df-a277695b-3bbc-4b5b-9a30-29d1363f0bca button.colab-df-convert');\n",
              "        buttonEl.style.display =\n",
              "          google.colab.kernel.accessAllowed ? 'block' : 'none';\n",
              "\n",
              "        async function convertToInteractive(key) {\n",
              "          const element = document.querySelector('#df-a277695b-3bbc-4b5b-9a30-29d1363f0bca');\n",
              "          const dataTable =\n",
              "            await google.colab.kernel.invokeFunction('convertToInteractive',\n",
              "                                                     [key], {});\n",
              "          if (!dataTable) return;\n",
              "\n",
              "          const docLinkHtml = 'Like what you see? Visit the ' +\n",
              "            '<a target=\"_blank\" href=https://colab.research.google.com/notebooks/data_table.ipynb>data table notebook</a>'\n",
              "            + ' to learn more about interactive tables.';\n",
              "          element.innerHTML = '';\n",
              "          dataTable['output_type'] = 'display_data';\n",
              "          await google.colab.output.renderOutput(dataTable, element);\n",
              "          const docLink = document.createElement('div');\n",
              "          docLink.innerHTML = docLinkHtml;\n",
              "          element.appendChild(docLink);\n",
              "        }\n",
              "      </script>\n",
              "    </div>\n",
              "  </div>\n",
              "  "
            ]
          },
          "metadata": {},
          "execution_count": 2
        }
      ]
    },
    {
      "cell_type": "code",
      "source": [
        "df.info()"
      ],
      "metadata": {
        "colab": {
          "base_uri": "https://localhost:8080/"
        },
        "id": "LvA7sjrSzg0L",
        "outputId": "d1415b0c-85e4-4710-fc86-7e13069f84d3"
      },
      "execution_count": 3,
      "outputs": [
        {
          "output_type": "stream",
          "name": "stdout",
          "text": [
            "<class 'pandas.core.frame.DataFrame'>\n",
            "DatetimeIndex: 2787 entries, 2013-10-01 to 2021-05-18\n",
            "Data columns (total 5 columns):\n",
            " #   Column               Non-Null Count  Dtype  \n",
            "---  ------               --------------  -----  \n",
            " 0   Currency             2787 non-null   object \n",
            " 1   Closing Price (USD)  2787 non-null   float64\n",
            " 2   24h Open (USD)       2787 non-null   float64\n",
            " 3   24h High (USD)       2787 non-null   float64\n",
            " 4   24h Low (USD)        2787 non-null   float64\n",
            "dtypes: float64(4), object(1)\n",
            "memory usage: 130.6+ KB\n"
          ]
        }
      ]
    },
    {
      "cell_type": "code",
      "source": [
        "len(df)"
      ],
      "metadata": {
        "colab": {
          "base_uri": "https://localhost:8080/"
        },
        "id": "UWbE_S5mzquc",
        "outputId": "ca73afd4-e425-4e86-e323-dc11b6df4e07"
      },
      "execution_count": 4,
      "outputs": [
        {
          "output_type": "execute_result",
          "data": {
            "text/plain": [
              "2787"
            ]
          },
          "metadata": {},
          "execution_count": 4
        }
      ]
    },
    {
      "cell_type": "code",
      "source": [
        "bitcoin_prices = pd.DataFrame(df[\"Closing Price (USD)\"]).rename(columns={\"Closing Price (USD)\": \"Price\"})\n",
        "bitcoin_prices.head()"
      ],
      "metadata": {
        "colab": {
          "base_uri": "https://localhost:8080/",
          "height": 237
        },
        "id": "YKNPlNflzwl8",
        "outputId": "e6749db1-04da-4660-c22c-a4d803eb4c01"
      },
      "execution_count": 5,
      "outputs": [
        {
          "output_type": "execute_result",
          "data": {
            "text/plain": [
              "                Price\n",
              "Date                 \n",
              "2013-10-01  123.65499\n",
              "2013-10-02  125.45500\n",
              "2013-10-03  108.58483\n",
              "2013-10-04  118.67466\n",
              "2013-10-05  121.33866"
            ],
            "text/html": [
              "\n",
              "  <div id=\"df-6052ee2b-8fc4-42ce-9d01-95f044a8f6b5\">\n",
              "    <div class=\"colab-df-container\">\n",
              "      <div>\n",
              "<style scoped>\n",
              "    .dataframe tbody tr th:only-of-type {\n",
              "        vertical-align: middle;\n",
              "    }\n",
              "\n",
              "    .dataframe tbody tr th {\n",
              "        vertical-align: top;\n",
              "    }\n",
              "\n",
              "    .dataframe thead th {\n",
              "        text-align: right;\n",
              "    }\n",
              "</style>\n",
              "<table border=\"1\" class=\"dataframe\">\n",
              "  <thead>\n",
              "    <tr style=\"text-align: right;\">\n",
              "      <th></th>\n",
              "      <th>Price</th>\n",
              "    </tr>\n",
              "    <tr>\n",
              "      <th>Date</th>\n",
              "      <th></th>\n",
              "    </tr>\n",
              "  </thead>\n",
              "  <tbody>\n",
              "    <tr>\n",
              "      <th>2013-10-01</th>\n",
              "      <td>123.65499</td>\n",
              "    </tr>\n",
              "    <tr>\n",
              "      <th>2013-10-02</th>\n",
              "      <td>125.45500</td>\n",
              "    </tr>\n",
              "    <tr>\n",
              "      <th>2013-10-03</th>\n",
              "      <td>108.58483</td>\n",
              "    </tr>\n",
              "    <tr>\n",
              "      <th>2013-10-04</th>\n",
              "      <td>118.67466</td>\n",
              "    </tr>\n",
              "    <tr>\n",
              "      <th>2013-10-05</th>\n",
              "      <td>121.33866</td>\n",
              "    </tr>\n",
              "  </tbody>\n",
              "</table>\n",
              "</div>\n",
              "      <button class=\"colab-df-convert\" onclick=\"convertToInteractive('df-6052ee2b-8fc4-42ce-9d01-95f044a8f6b5')\"\n",
              "              title=\"Convert this dataframe to an interactive table.\"\n",
              "              style=\"display:none;\">\n",
              "        \n",
              "  <svg xmlns=\"http://www.w3.org/2000/svg\" height=\"24px\"viewBox=\"0 0 24 24\"\n",
              "       width=\"24px\">\n",
              "    <path d=\"M0 0h24v24H0V0z\" fill=\"none\"/>\n",
              "    <path d=\"M18.56 5.44l.94 2.06.94-2.06 2.06-.94-2.06-.94-.94-2.06-.94 2.06-2.06.94zm-11 1L8.5 8.5l.94-2.06 2.06-.94-2.06-.94L8.5 2.5l-.94 2.06-2.06.94zm10 10l.94 2.06.94-2.06 2.06-.94-2.06-.94-.94-2.06-.94 2.06-2.06.94z\"/><path d=\"M17.41 7.96l-1.37-1.37c-.4-.4-.92-.59-1.43-.59-.52 0-1.04.2-1.43.59L10.3 9.45l-7.72 7.72c-.78.78-.78 2.05 0 2.83L4 21.41c.39.39.9.59 1.41.59.51 0 1.02-.2 1.41-.59l7.78-7.78 2.81-2.81c.8-.78.8-2.07 0-2.86zM5.41 20L4 18.59l7.72-7.72 1.47 1.35L5.41 20z\"/>\n",
              "  </svg>\n",
              "      </button>\n",
              "      \n",
              "  <style>\n",
              "    .colab-df-container {\n",
              "      display:flex;\n",
              "      flex-wrap:wrap;\n",
              "      gap: 12px;\n",
              "    }\n",
              "\n",
              "    .colab-df-convert {\n",
              "      background-color: #E8F0FE;\n",
              "      border: none;\n",
              "      border-radius: 50%;\n",
              "      cursor: pointer;\n",
              "      display: none;\n",
              "      fill: #1967D2;\n",
              "      height: 32px;\n",
              "      padding: 0 0 0 0;\n",
              "      width: 32px;\n",
              "    }\n",
              "\n",
              "    .colab-df-convert:hover {\n",
              "      background-color: #E2EBFA;\n",
              "      box-shadow: 0px 1px 2px rgba(60, 64, 67, 0.3), 0px 1px 3px 1px rgba(60, 64, 67, 0.15);\n",
              "      fill: #174EA6;\n",
              "    }\n",
              "\n",
              "    [theme=dark] .colab-df-convert {\n",
              "      background-color: #3B4455;\n",
              "      fill: #D2E3FC;\n",
              "    }\n",
              "\n",
              "    [theme=dark] .colab-df-convert:hover {\n",
              "      background-color: #434B5C;\n",
              "      box-shadow: 0px 1px 3px 1px rgba(0, 0, 0, 0.15);\n",
              "      filter: drop-shadow(0px 1px 2px rgba(0, 0, 0, 0.3));\n",
              "      fill: #FFFFFF;\n",
              "    }\n",
              "  </style>\n",
              "\n",
              "      <script>\n",
              "        const buttonEl =\n",
              "          document.querySelector('#df-6052ee2b-8fc4-42ce-9d01-95f044a8f6b5 button.colab-df-convert');\n",
              "        buttonEl.style.display =\n",
              "          google.colab.kernel.accessAllowed ? 'block' : 'none';\n",
              "\n",
              "        async function convertToInteractive(key) {\n",
              "          const element = document.querySelector('#df-6052ee2b-8fc4-42ce-9d01-95f044a8f6b5');\n",
              "          const dataTable =\n",
              "            await google.colab.kernel.invokeFunction('convertToInteractive',\n",
              "                                                     [key], {});\n",
              "          if (!dataTable) return;\n",
              "\n",
              "          const docLinkHtml = 'Like what you see? Visit the ' +\n",
              "            '<a target=\"_blank\" href=https://colab.research.google.com/notebooks/data_table.ipynb>data table notebook</a>'\n",
              "            + ' to learn more about interactive tables.';\n",
              "          element.innerHTML = '';\n",
              "          dataTable['output_type'] = 'display_data';\n",
              "          await google.colab.output.renderOutput(dataTable, element);\n",
              "          const docLink = document.createElement('div');\n",
              "          docLink.innerHTML = docLinkHtml;\n",
              "          element.appendChild(docLink);\n",
              "        }\n",
              "      </script>\n",
              "    </div>\n",
              "  </div>\n",
              "  "
            ]
          },
          "metadata": {},
          "execution_count": 5
        }
      ]
    },
    {
      "cell_type": "code",
      "source": [
        "import matplotlib.pyplot as plt\n",
        "\n",
        "bitcoin_prices.plot(figsize=(10, 7))\n",
        "plt.ylabel(\"BTC Price\")\n",
        "plt.title(\"Price of Bitcoin from 1 Oct 2013 to to 18 May 2021\", fontsize=16)\n",
        "plt.legend(fontsize=14)"
      ],
      "metadata": {
        "colab": {
          "base_uri": "https://localhost:8080/",
          "height": 477
        },
        "id": "eUNSYx6s3F1_",
        "outputId": "c8b27d7a-798c-49d7-fe8d-732f6e3d639b"
      },
      "execution_count": 6,
      "outputs": [
        {
          "output_type": "execute_result",
          "data": {
            "text/plain": [
              "<matplotlib.legend.Legend at 0x7f9715928890>"
            ]
          },
          "metadata": {},
          "execution_count": 6
        },
        {
          "output_type": "display_data",
          "data": {
            "text/plain": [
              "<Figure size 720x504 with 1 Axes>"
            ],
            "image/png": "[encoded data removed]"
          },
          "metadata": {
            "needs_background": "light"
          }
        }
      ]
    },
    {
      "cell_type": "markdown",
      "source": [
        "## Import with Python CSV Module"
      ],
      "metadata": {
        "id": "YEw-YXId3mZ8"
      }
    },
    {
      "cell_type": "code",
      "source": [
        "import csv\n",
        "from datetime import datetime\n",
        "\n",
        "timesteps = []\n",
        "btc_price = []\n",
        "\n",
        "with open(\"/content/BTC_USD_2013-10-01_2021-05-18-CoinDesk.csv\", \"r\") as f:\n",
        "  csv_reader = csv.reader(f, delimiter=\",\")\n",
        "  next(csv_reader)\n",
        "\n",
        "  for line in csv_reader:\n",
        "    timesteps.append(datetime.strptime(line[1], \"%Y-%m-%d\"))\n",
        "    btc_price.append(float(line[2]))\n",
        "\n",
        "timesteps[:10], btc_price[:10]"
      ],
      "metadata": {
        "colab": {
          "base_uri": "https://localhost:8080/"
        },
        "id": "8yJALK1s3qn2",
        "outputId": "9d0849f8-4426-430f-c0cb-51b8de82b696"
      },
      "execution_count": 7,
      "outputs": [
        {
          "output_type": "execute_result",
          "data": {
            "text/plain": [
              "([datetime.datetime(2013, 10, 1, 0, 0),\n",
              "  datetime.datetime(2013, 10, 2, 0, 0),\n",
              "  datetime.datetime(2013, 10, 3, 0, 0),\n",
              "  datetime.datetime(2013, 10, 4, 0, 0),\n",
              "  datetime.datetime(2013, 10, 5, 0, 0),\n",
              "  datetime.datetime(2013, 10, 6, 0, 0),\n",
              "  datetime.datetime(2013, 10, 7, 0, 0),\n",
              "  datetime.datetime(2013, 10, 8, 0, 0),\n",
              "  datetime.datetime(2013, 10, 9, 0, 0),\n",
              "  datetime.datetime(2013, 10, 10, 0, 0)],\n",
              " [123.65499,\n",
              "  125.455,\n",
              "  108.58483,\n",
              "  118.67466,\n",
              "  121.33866,\n",
              "  120.65533,\n",
              "  121.795,\n",
              "  123.033,\n",
              "  124.049,\n",
              "  125.96116])"
            ]
          },
          "metadata": {},
          "execution_count": 7
        }
      ]
    },
    {
      "cell_type": "code",
      "source": [
        "import matplotlib.pyplot as plt\n",
        "\n",
        "plt.figure(figsize=(10, 7))\n",
        "plt.plot(timesteps, btc_price)\n",
        "plt.ylabel(\"BTC Price\")\n",
        "plt.title(\"Price of Bitcoin from 1 Oct 2013 to to 18 May 2021\", fontsize=16)\n",
        "plt.legend(fontsize=14)"
      ],
      "metadata": {
        "colab": {
          "base_uri": "https://localhost:8080/",
          "height": 481
        },
        "id": "csfGK1m84ufd",
        "outputId": "895308cf-4600-4b2e-e5dc-a6835b27c114"
      },
      "execution_count": 8,
      "outputs": [
        {
          "output_type": "stream",
          "name": "stderr",
          "text": [
            "WARNING:matplotlib.legend:No handles with labels found to put in legend.\n"
          ]
        },
        {
          "output_type": "execute_result",
          "data": {
            "text/plain": [
              "<matplotlib.legend.Legend at 0x7f970bd1d310>"
            ]
          },
          "metadata": {},
          "execution_count": 8
        },
        {
          "output_type": "display_data",
          "data": {
            "text/plain": [
              "<Figure size 720x504 with 1 Axes>"
            ],
            "image/png": "[encoded data removed]"
          },
          "metadata": {
            "needs_background": "light"
          }
        }
      ]
    },
    {
      "cell_type": "markdown",
      "source": [
        "## Split the data into train and test"
      ],
      "metadata": {
        "id": "WvRQDwlx5QlJ"
      }
    },
    {
      "cell_type": "code",
      "source": [
        "timesteps = bitcoin_prices.index.to_numpy()\n",
        "prices = bitcoin_prices[\"Price\"].to_numpy()\n",
        "\n",
        "split_size = int(0.8 * len(btc_price))\n",
        "\n",
        "X_train, y_train = timesteps[:split_size], btc_price[:split_size]\n",
        "X_test, y_test = timesteps[split_size:], btc_price[split_size:]\n",
        "\n",
        "len(X_train), len(y_train), len(X_test), len(y_test)"
      ],
      "metadata": {
        "colab": {
          "base_uri": "https://localhost:8080/"
        },
        "id": "GXXpLprW5UCw",
        "outputId": "7b03f3cd-d51c-4ec5-d756-4d714ac523fa"
      },
      "execution_count": 9,
      "outputs": [
        {
          "output_type": "execute_result",
          "data": {
            "text/plain": [
              "(2229, 2229, 558, 558)"
            ]
          },
          "metadata": {},
          "execution_count": 9
        }
      ]
    },
    {
      "cell_type": "code",
      "source": [
        "import matplotlib.pyplot as plt\n",
        "\n",
        "def plot_time_series(timesteps, values, format=\"o\", start=0, end=None, label=None):\n",
        "  plt.plot(timesteps[start:end], values[start:end], format, label=label)\n",
        "  plt.xlabel(\"Time\")\n",
        "  plt.ylabel(\"BTC Price\")\n",
        "\n",
        "  if label:\n",
        "    plt.legend(fontsize=14)\n",
        "\n",
        "  plt.grid(True)"
      ],
      "metadata": {
        "id": "5x95IFjOBke5"
      },
      "execution_count": 10,
      "outputs": []
    },
    {
      "cell_type": "code",
      "source": [
        "plt.figure(figsize=(10, 7))\n",
        "plot_time_series(X_train, y_train, label=\"train data\")\n",
        "plot_time_series(X_test, y_test, label=\"test data\")"
      ],
      "metadata": {
        "colab": {
          "base_uri": "https://localhost:8080/",
          "height": 442
        },
        "id": "yxfWeDn09_LY",
        "outputId": "4a9f0f16-a99b-471c-d3fc-7ce70d0ea7bf"
      },
      "execution_count": 11,
      "outputs": [
        {
          "output_type": "display_data",
          "data": {
            "text/plain": [
              "<Figure size 720x504 with 1 Axes>"
            ],
            "image/png": "[encoded data removed]"
          },
          "metadata": {
            "needs_background": "light"
          }
        }
      ]
    },
    {
      "cell_type": "markdown",
      "source": [
        "# Model 0: Baseline Naive Model\n",
        "\n",
        "Using the data in the previous timestep as the prediction\n",
        "\n",
        "-> shift the data by 1 timestep"
      ],
      "metadata": {
        "id": "DASEqBp7dSnI"
      }
    },
    {
      "cell_type": "code",
      "source": [
        "naive_forecast = y_test[:-1]"
      ],
      "metadata": {
        "id": "CEt4yCSNdZww"
      },
      "execution_count": 12,
      "outputs": []
    },
    {
      "cell_type": "code",
      "source": [
        "plt.figure(figsize=(10, 7))\n",
        "plot_time_series(X_train, y_train, label=\"Train data\")\n",
        "plot_time_series(X_test, y_test, label=\"Test data\")\n",
        "plot_time_series(X_test[1:], naive_forecast, format=\"-\", label=\"Test data\")"
      ],
      "metadata": {
        "colab": {
          "base_uri": "https://localhost:8080/",
          "height": 442
        },
        "id": "ZwmV-A6IeIxl",
        "outputId": "d373ad90-52f7-493d-f59d-212d423560cc"
      },
      "execution_count": 13,
      "outputs": [
        {
          "output_type": "display_data",
          "data": {
            "text/plain": [
              "<Figure size 720x504 with 1 Axes>"
            ],
            "image/png": "[encoded data removed]"
          },
          "metadata": {
            "needs_background": "light"
          }
        }
      ]
    },
    {
      "cell_type": "code",
      "source": [
        "import tensorflow as tf\n",
        "import numpy as np\n",
        "\n",
        "def mean_absolute_scaled_error(y_true, y_pred):\n",
        "  mae = tf.reduce_mean(tf.abs(y_true - y_pred))\n",
        "  mae_naive_no_season = tf.reduce_mean(tf.abs(y_true[1:] - y_true[:-1]))\n",
        "\n",
        "  return mae / mae_naive_no_season"
      ],
      "metadata": {
        "id": "Wwq6iodJglUp"
      },
      "execution_count": 14,
      "outputs": []
    },
    {
      "cell_type": "code",
      "source": [
        "mean_absolute_scaled_error(np.array(y_test[1:]), np.array(naive_forecast)).numpy()"
      ],
      "metadata": {
        "colab": {
          "base_uri": "https://localhost:8080/"
        },
        "id": "ca9K9nmHhUdG",
        "outputId": "71850533-0508-440f-bd17-fdee9bc5e95a"
      },
      "execution_count": 15,
      "outputs": [
        {
          "output_type": "execute_result",
          "data": {
            "text/plain": [
              "0.9995699939182624"
            ]
          },
          "metadata": {},
          "execution_count": 15
        }
      ]
    },
    {
      "cell_type": "code",
      "source": [
        "def evaluate_preds(y_true, y_pred):\n",
        "    y_true = tf.cast(y_true, dtype=tf.float32)\n",
        "    y_pred = tf.cast(y_pred, dtype=tf.float32)\n",
        "\n",
        "    mae = tf.keras.metrics.mean_absolute_error(y_true, y_pred)\n",
        "    mse = tf.keras.metrics.mean_squared_error(y_true, y_pred)\n",
        "    rmse = tf.sqrt(mse)\n",
        "    mape = tf.keras.metrics.mean_absolute_percentage_error(y_true, y_pred)\n",
        "    mase = mean_absolute_scaled_error(y_true, y_pred)\n",
        "\n",
        "    if mae.ndim > 0:\n",
        "      mae = tf.reduce_mean(mae)\n",
        "      mse = tf.reduce_mean(mse)\n",
        "      rmse = tf.reduce_mean(rmse)\n",
        "      mape = tf.reduce_mean(mape)\n",
        "      mase = tf.reduce_mean(mase)\n",
        "\n",
        "    return {\n",
        "        \"mae\": mae.numpy(),\n",
        "        \"mse\": mse.numpy(),\n",
        "        \"rmse\": rmse.numpy(),\n",
        "        \"mape\": mape.numpy(),\n",
        "        \"mase\": mase.numpy()\n",
        "    }"
      ],
      "metadata": {
        "id": "3JVdF7tBibgB"
      },
      "execution_count": 16,
      "outputs": []
    },
    {
      "cell_type": "code",
      "source": [
        "naive_results = evaluate_preds(y_test[1:], naive_forecast)\n",
        "naive_results"
      ],
      "metadata": {
        "colab": {
          "base_uri": "https://localhost:8080/"
        },
        "id": "-ffYpF7fkfiQ",
        "outputId": "2c95c98c-fa4b-4cb8-9554-f77c4c66e239"
      },
      "execution_count": 17,
      "outputs": [
        {
          "output_type": "execute_result",
          "data": {
            "text/plain": [
              "{'mae': 567.9802,\n",
              " 'mape': 2.516525,\n",
              " 'mase': 0.99957,\n",
              " 'mse': 1147547.0,\n",
              " 'rmse': 1071.2362}"
            ]
          },
          "metadata": {},
          "execution_count": 17
        }
      ]
    },
    {
      "cell_type": "markdown",
      "source": [
        "# Format data part 2: Windowing & splitting"
      ],
      "metadata": {
        "id": "Me5v7Rw3eVol"
      }
    },
    {
      "cell_type": "code",
      "source": [
        "HORIZON = 1\n",
        "WINDOW_SIZE = 7"
      ],
      "metadata": {
        "id": "UKE0_9FTebFF"
      },
      "execution_count": 18,
      "outputs": []
    },
    {
      "cell_type": "code",
      "source": [
        "# create windows the fast way with numpy indexing\n",
        "def make_windows(x, window_size=WINDOW_SIZE, horizon=HORIZON):\n",
        "\n",
        "  # step 1: create a window of specific window size\n",
        "  window_step = np.expand_dims(np.arange(window_size+horizon), axis=0)\n",
        "\n",
        "  # step 2: create 2d array of multiple window steps (minus 1 for 0 indexing)\n",
        "  window_indexes = window_step + np.expand_dims(np.arange(len(x)-(window_size+horizon-1)), axis=0).T\n",
        "  # print(f\"Window Indexes:\\n{window_indexes}\")\n",
        "\n",
        "  # step 3: index on target array with 2d array of multiple window steps\n",
        "  windowed_array = x[window_indexes]\n",
        "  # print(windowed_array)\n",
        "\n",
        "  # step 4: get the labelled windows\n",
        "  windows, labels = windowed_array[:, :-horizon], windowed_array[:, -horizon:]\n",
        "\n",
        "  return windows, labels\n",
        "\n",
        "make_windows(prices, WINDOW_SIZE, HORIZON)"
      ],
      "metadata": {
        "colab": {
          "base_uri": "https://localhost:8080/"
        },
        "id": "VelFm8QdiY01",
        "outputId": "803100ea-6b7c-42de-9c86-7c961365c590"
      },
      "execution_count": 19,
      "outputs": [
        {
          "output_type": "execute_result",
          "data": {
            "text/plain": [
              "(array([[  123.65499   ,   125.455     ,   108.58483   , ...,\n",
              "           121.33866   ,   120.65533   ,   121.795     ],\n",
              "        [  125.455     ,   108.58483   ,   118.67466   , ...,\n",
              "           120.65533   ,   121.795     ,   123.033     ],\n",
              "        [  108.58483   ,   118.67466   ,   121.33866   , ...,\n",
              "           121.795     ,   123.033     ,   124.049     ],\n",
              "        ...,\n",
              "        [58788.20967893, 58102.19142623, 55715.54665129, ...,\n",
              "         52147.82118698, 49764.1320816 , 50032.69313676],\n",
              "        [58102.19142623, 55715.54665129, 56573.5554719 , ...,\n",
              "         49764.1320816 , 50032.69313676, 47885.62525472],\n",
              "        [55715.54665129, 56573.5554719 , 52147.82118698, ...,\n",
              "         50032.69313676, 47885.62525472, 45604.61575361]]),\n",
              " array([[  123.033     ],\n",
              "        [  124.049     ],\n",
              "        [  125.96116   ],\n",
              "        ...,\n",
              "        [47885.62525472],\n",
              "        [45604.61575361],\n",
              "        [43144.47129086]]))"
            ]
          },
          "metadata": {},
          "execution_count": 19
        }
      ]
    },
    {
      "cell_type": "code",
      "source": [
        "def make_train_test_splits(windows, labels, test_split=0.2):\n",
        "  split_size = int(len(windows) * (1-test_split))\n",
        "  train_windows = windows[:split_size]\n",
        "  train_labels = labels[:split_size]\n",
        "  test_windows = windows[split_size:]\n",
        "  test_labels = labels[split_size:]\n",
        "\n",
        "  return train_windows, test_windows, train_labels, test_labels"
      ],
      "metadata": {
        "id": "fja6vPt8nZhM"
      },
      "execution_count": 20,
      "outputs": []
    },
    {
      "cell_type": "code",
      "source": [
        "windows, labels = make_windows(prices, WINDOW_SIZE, HORIZON)\n",
        "train_windows, test_windows, train_labels, test_labels = make_train_test_splits(windows, labels)\n",
        "len(train_windows), len(test_windows), len(train_labels), len(test_labels)"
      ],
      "metadata": {
        "colab": {
          "base_uri": "https://localhost:8080/"
        },
        "id": "iMYYM_i1oJPO",
        "outputId": "817348ad-9f24-4728-ee02-82ac4c51247a"
      },
      "execution_count": 21,
      "outputs": [
        {
          "output_type": "execute_result",
          "data": {
            "text/plain": [
              "(2224, 556, 2224, 556)"
            ]
          },
          "metadata": {},
          "execution_count": 21
        }
      ]
    },
    {
      "cell_type": "markdown",
      "source": [
        "# Create modelling checkpoint"
      ],
      "metadata": {
        "id": "j_0jMHsConk7"
      }
    },
    {
      "cell_type": "code",
      "source": [
        "import os\n",
        "\n",
        "def create_model_checkpoint(model_name, save_path=\"model_experiments\"):\n",
        "  return tf.keras.callbacks.ModelCheckpoint(\n",
        "      filepath=os.path.join(save_path, model_name),\n",
        "      verbose=0,\n",
        "      save_best_only=True\n",
        "  )"
      ],
      "metadata": {
        "id": "UxhK-Czwo8BX"
      },
      "execution_count": 22,
      "outputs": []
    },
    {
      "cell_type": "markdown",
      "source": [
        "# Model 1: Dense Model (windows = 7, horizon = 1)"
      ],
      "metadata": {
        "id": "YBXzj1i-Yfzg"
      }
    },
    {
      "cell_type": "code",
      "source": [
        "from tensorflow import keras\n",
        "from tensorflow.keras import layers\n",
        "\n",
        "inputs = keras.Input(shape=(7, ))\n",
        "layer_1 = layers.Dense(128, activation=\"relu\")(inputs)\n",
        "outputs = layers.Dense(1, activation=\"linear\")(layer_1)\n",
        "\n",
        "model_1 = keras.Model(inputs, outputs, name=\"model_1_dense\")\n",
        "\n",
        "model_1.compile(\n",
        "    loss=\"mae\",\n",
        "    optimizer=tf.keras.optimizers.Adam()\n",
        ")\n",
        "\n",
        "model_1.fit(\n",
        "    train_windows,\n",
        "    train_labels,\n",
        "    epochs=100,\n",
        "    validation_data=(test_windows, test_labels),\n",
        "    batch_size=128,\n",
        "    verbose=1,\n",
        "    callbacks=[create_model_checkpoint(model_1.name)]\n",
        ")"
      ],
      "metadata": {
        "colab": {
          "base_uri": "https://localhost:8080/"
        },
        "id": "NuUCvdcfYjl5",
        "outputId": "a7606265-7a37-46ad-f8c6-1b67686adfd8"
      },
      "execution_count": 23,
      "outputs": [
        {
          "output_type": "stream",
          "name": "stdout",
          "text": [
            "Epoch 1/100\n",
            "18/18 [==============================] - 6s 97ms/step - loss: 1917.3939 - val_loss: 1175.6957\n",
            "Epoch 2/100\n",
            "18/18 [==============================] - 0s 6ms/step - loss: 405.0549 - val_loss: 2110.2324\n",
            "Epoch 3/100\n",
            "18/18 [==============================] - 1s 43ms/step - loss: 251.9070 - val_loss: 1098.3184\n",
            "Epoch 4/100\n",
            "18/18 [==============================] - 0s 8ms/step - loss: 189.6497 - val_loss: 1116.3881\n",
            "Epoch 5/100\n",
            "18/18 [==============================] - 1s 40ms/step - loss: 183.9187 - val_loss: 1027.7024\n",
            "Epoch 6/100\n",
            "18/18 [==============================] - 1s 47ms/step - loss: 179.2523 - val_loss: 999.4579\n",
            "Epoch 7/100\n",
            "18/18 [==============================] - 0s 12ms/step - loss: 173.4776 - val_loss: 1017.9344\n",
            "Epoch 8/100\n",
            "18/18 [==============================] - 1s 57ms/step - loss: 171.3737 - val_loss: 971.7604\n",
            "Epoch 9/100\n",
            "18/18 [==============================] - 1s 51ms/step - loss: 172.4159 - val_loss: 924.5751\n",
            "Epoch 10/100\n",
            "18/18 [==============================] - 0s 6ms/step - loss: 162.6122 - val_loss: 1054.0577\n",
            "Epoch 11/100\n",
            "18/18 [==============================] - 1s 43ms/step - loss: 162.4549 - val_loss: 914.3895\n",
            "Epoch 12/100\n",
            "18/18 [==============================] - 1s 41ms/step - loss: 160.3090 - val_loss: 851.8093\n",
            "Epoch 13/100\n",
            "18/18 [==============================] - 0s 10ms/step - loss: 149.7461 - val_loss: 863.3086\n",
            "Epoch 14/100\n",
            "18/18 [==============================] - 1s 57ms/step - loss: 146.4284 - val_loss: 814.6921\n",
            "Epoch 15/100\n",
            "18/18 [==============================] - 1s 53ms/step - loss: 150.8090 - val_loss: 798.3984\n",
            "Epoch 16/100\n",
            "18/18 [==============================] - 1s 58ms/step - loss: 141.0400 - val_loss: 784.3229\n",
            "Epoch 17/100\n",
            "18/18 [==============================] - 0s 6ms/step - loss: 141.6000 - val_loss: 785.0858\n",
            "Epoch 18/100\n",
            "18/18 [==============================] - 1s 50ms/step - loss: 136.7920 - val_loss: 746.9394\n",
            "Epoch 19/100\n",
            "18/18 [==============================] - 1s 42ms/step - loss: 135.3295 - val_loss: 729.5422\n",
            "Epoch 20/100\n",
            "18/18 [==============================] - 0s 6ms/step - loss: 144.8513 - val_loss: 798.0409\n",
            "Epoch 21/100\n",
            "18/18 [==============================] - 0s 6ms/step - loss: 137.2072 - val_loss: 760.0649\n",
            "Epoch 22/100\n",
            "18/18 [==============================] - 0s 24ms/step - loss: 130.8443 - val_loss: 697.8817\n",
            "Epoch 23/100\n",
            "18/18 [==============================] - 0s 23ms/step - loss: 125.3565 - val_loss: 690.1591\n",
            "Epoch 24/100\n",
            "18/18 [==============================] - 1s 33ms/step - loss: 125.9699 - val_loss: 688.0422\n",
            "Epoch 25/100\n",
            "18/18 [==============================] - 0s 22ms/step - loss: 125.0625 - val_loss: 671.9311\n",
            "Epoch 26/100\n",
            "18/18 [==============================] - 0s 4ms/step - loss: 126.1614 - val_loss: 694.1204\n",
            "Epoch 27/100\n",
            "18/18 [==============================] - 0s 23ms/step - loss: 122.6083 - val_loss: 661.4035\n",
            "Epoch 28/100\n",
            "18/18 [==============================] - 0s 4ms/step - loss: 123.6500 - val_loss: 674.7871\n",
            "Epoch 29/100\n",
            "18/18 [==============================] - 0s 23ms/step - loss: 122.7612 - val_loss: 649.8123\n",
            "Epoch 30/100\n",
            "18/18 [==============================] - 0s 4ms/step - loss: 118.9726 - val_loss: 664.9426\n",
            "Epoch 31/100\n",
            "18/18 [==============================] - 0s 23ms/step - loss: 119.5485 - val_loss: 636.1712\n",
            "Epoch 32/100\n",
            "18/18 [==============================] - 0s 4ms/step - loss: 121.6881 - val_loss: 637.2416\n",
            "Epoch 33/100\n",
            "18/18 [==============================] - 0s 24ms/step - loss: 117.2966 - val_loss: 630.3645\n",
            "Epoch 34/100\n",
            "18/18 [==============================] - 0s 24ms/step - loss: 117.5733 - val_loss: 628.1303\n",
            "Epoch 35/100\n",
            "18/18 [==============================] - 0s 23ms/step - loss: 115.0847 - val_loss: 625.2964\n",
            "Epoch 36/100\n",
            "18/18 [==============================] - 0s 3ms/step - loss: 117.2609 - val_loss: 634.8808\n",
            "Epoch 37/100\n",
            "18/18 [==============================] - 0s 3ms/step - loss: 123.0353 - val_loss: 691.6515\n",
            "Epoch 38/100\n",
            "18/18 [==============================] - 0s 4ms/step - loss: 118.8024 - val_loss: 629.3221\n",
            "Epoch 39/100\n",
            "18/18 [==============================] - 0s 4ms/step - loss: 115.7906 - val_loss: 739.5859\n",
            "Epoch 40/100\n",
            "18/18 [==============================] - 0s 3ms/step - loss: 119.6360 - val_loss: 627.1698\n",
            "Epoch 41/100\n",
            "18/18 [==============================] - 0s 4ms/step - loss: 122.2521 - val_loss: 658.5403\n",
            "Epoch 42/100\n",
            "18/18 [==============================] - 0s 23ms/step - loss: 116.7018 - val_loss: 611.4062\n",
            "Epoch 43/100\n",
            "18/18 [==============================] - 0s 23ms/step - loss: 113.6859 - val_loss: 606.8572\n",
            "Epoch 44/100\n",
            "18/18 [==============================] - 0s 4ms/step - loss: 114.4938 - val_loss: 632.4562\n",
            "Epoch 45/100\n",
            "18/18 [==============================] - 0s 3ms/step - loss: 123.6402 - val_loss: 656.1867\n",
            "Epoch 46/100\n",
            "18/18 [==============================] - 0s 24ms/step - loss: 113.5536 - val_loss: 604.4601\n",
            "Epoch 47/100\n",
            "18/18 [==============================] - 0s 4ms/step - loss: 112.5887 - val_loss: 613.2582\n",
            "Epoch 48/100\n",
            "18/18 [==============================] - 0s 4ms/step - loss: 111.8556 - val_loss: 621.3751\n",
            "Epoch 49/100\n",
            "18/18 [==============================] - 0s 23ms/step - loss: 111.8109 - val_loss: 595.8130\n",
            "Epoch 50/100\n",
            "18/18 [==============================] - 0s 23ms/step - loss: 110.3748 - val_loss: 595.3712\n",
            "Epoch 51/100\n",
            "18/18 [==============================] - 0s 4ms/step - loss: 112.0586 - val_loss: 598.9037\n",
            "Epoch 52/100\n",
            "18/18 [==============================] - 0s 4ms/step - loss: 112.8983 - val_loss: 633.8593\n",
            "Epoch 53/100\n",
            "18/18 [==============================] - 0s 22ms/step - loss: 121.1200 - val_loss: 589.5951\n",
            "Epoch 54/100\n",
            "18/18 [==============================] - 0s 23ms/step - loss: 109.5788 - val_loss: 589.3130\n",
            "Epoch 55/100\n",
            "18/18 [==============================] - 0s 4ms/step - loss: 111.9255 - val_loss: 621.5955\n",
            "Epoch 56/100\n",
            "18/18 [==============================] - 0s 4ms/step - loss: 112.3130 - val_loss: 675.1954\n",
            "Epoch 57/100\n",
            "18/18 [==============================] - 0s 3ms/step - loss: 118.3570 - val_loss: 634.8018\n",
            "Epoch 58/100\n",
            "18/18 [==============================] - 0s 23ms/step - loss: 116.3477 - val_loss: 586.9491\n",
            "Epoch 59/100\n",
            "18/18 [==============================] - 0s 3ms/step - loss: 109.4802 - val_loss: 606.8430\n",
            "Epoch 60/100\n",
            "18/18 [==============================] - 1s 33ms/step - loss: 110.0172 - val_loss: 586.4504\n",
            "Epoch 61/100\n",
            "18/18 [==============================] - 0s 4ms/step - loss: 113.7576 - val_loss: 669.6815\n",
            "Epoch 62/100\n",
            "18/18 [==============================] - 0s 3ms/step - loss: 112.1212 - val_loss: 604.8954\n",
            "Epoch 63/100\n",
            "18/18 [==============================] - 0s 4ms/step - loss: 114.5430 - val_loss: 590.1299\n",
            "Epoch 64/100\n",
            "18/18 [==============================] - 0s 4ms/step - loss: 110.6783 - val_loss: 703.9698\n",
            "Epoch 65/100\n",
            "18/18 [==============================] - 0s 4ms/step - loss: 114.3916 - val_loss: 605.8952\n",
            "Epoch 66/100\n",
            "18/18 [==============================] - 0s 4ms/step - loss: 108.8121 - val_loss: 620.0870\n",
            "Epoch 67/100\n",
            "18/18 [==============================] - 0s 3ms/step - loss: 111.0494 - val_loss: 741.3161\n",
            "Epoch 68/100\n",
            "18/18 [==============================] - 0s 22ms/step - loss: 117.1166 - val_loss: 579.0120\n",
            "Epoch 69/100\n",
            "18/18 [==============================] - 0s 3ms/step - loss: 109.7567 - val_loss: 586.0320\n",
            "Epoch 70/100\n",
            "18/18 [==============================] - 0s 3ms/step - loss: 107.6088 - val_loss: 581.4021\n",
            "Epoch 71/100\n",
            "18/18 [==============================] - 0s 4ms/step - loss: 108.9263 - val_loss: 582.8049\n",
            "Epoch 72/100\n",
            "18/18 [==============================] - 0s 3ms/step - loss: 110.0565 - val_loss: 679.5499\n",
            "Epoch 73/100\n",
            "18/18 [==============================] - 0s 3ms/step - loss: 118.2428 - val_loss: 656.3504\n",
            "Epoch 74/100\n",
            "18/18 [==============================] - 0s 23ms/step - loss: 111.9959 - val_loss: 576.7863\n",
            "Epoch 75/100\n",
            "18/18 [==============================] - 0s 4ms/step - loss: 109.8244 - val_loss: 577.6174\n",
            "Epoch 76/100\n",
            "18/18 [==============================] - 0s 3ms/step - loss: 107.6782 - val_loss: 588.8957\n",
            "Epoch 77/100\n",
            "18/18 [==============================] - 0s 4ms/step - loss: 109.3690 - val_loss: 613.5626\n",
            "Epoch 78/100\n",
            "18/18 [==============================] - 0s 4ms/step - loss: 109.3876 - val_loss: 616.2575\n",
            "Epoch 79/100\n",
            "18/18 [==============================] - 0s 3ms/step - loss: 111.5344 - val_loss: 661.4201\n",
            "Epoch 80/100\n",
            "18/18 [==============================] - 0s 24ms/step - loss: 113.2542 - val_loss: 574.5673\n",
            "Epoch 81/100\n",
            "18/18 [==============================] - 0s 3ms/step - loss: 108.6764 - val_loss: 623.3240\n",
            "Epoch 82/100\n",
            "18/18 [==============================] - 0s 4ms/step - loss: 111.1845 - val_loss: 736.0735\n",
            "Epoch 83/100\n",
            "18/18 [==============================] - 0s 3ms/step - loss: 113.0968 - val_loss: 619.1814\n",
            "Epoch 84/100\n",
            "18/18 [==============================] - 0s 4ms/step - loss: 109.8950 - val_loss: 610.2759\n",
            "Epoch 85/100\n",
            "18/18 [==============================] - 0s 4ms/step - loss: 108.5312 - val_loss: 578.8275\n",
            "Epoch 86/100\n",
            "18/18 [==============================] - 0s 5ms/step - loss: 110.9092 - val_loss: 602.9382\n",
            "Epoch 87/100\n",
            "18/18 [==============================] - 0s 4ms/step - loss: 115.4545 - val_loss: 648.4530\n",
            "Epoch 88/100\n",
            "18/18 [==============================] - 0s 4ms/step - loss: 108.3821 - val_loss: 578.2571\n",
            "Epoch 89/100\n",
            "18/18 [==============================] - 0s 24ms/step - loss: 109.6923 - val_loss: 573.0529\n",
            "Epoch 90/100\n",
            "18/18 [==============================] - 0s 3ms/step - loss: 108.8420 - val_loss: 581.6859\n",
            "Epoch 91/100\n",
            "18/18 [==============================] - 0s 4ms/step - loss: 107.8952 - val_loss: 587.5851\n",
            "Epoch 92/100\n",
            "18/18 [==============================] - 0s 3ms/step - loss: 107.4264 - val_loss: 573.4031\n",
            "Epoch 93/100\n",
            "18/18 [==============================] - 0s 4ms/step - loss: 107.2810 - val_loss: 582.3110\n",
            "Epoch 94/100\n",
            "18/18 [==============================] - 0s 3ms/step - loss: 106.7285 - val_loss: 577.0999\n",
            "Epoch 95/100\n",
            "18/18 [==============================] - 0s 3ms/step - loss: 110.3261 - val_loss: 716.3674\n",
            "Epoch 96/100\n",
            "18/18 [==============================] - 0s 25ms/step - loss: 112.3491 - val_loss: 572.3475\n",
            "Epoch 97/100\n",
            "18/18 [==============================] - 0s 4ms/step - loss: 110.8119 - val_loss: 637.9509\n",
            "Epoch 98/100\n",
            "18/18 [==============================] - 0s 23ms/step - loss: 110.4295 - val_loss: 569.8445\n",
            "Epoch 99/100\n",
            "18/18 [==============================] - 0s 3ms/step - loss: 106.8424 - val_loss: 574.9417\n",
            "Epoch 100/100\n",
            "18/18 [==============================] - 0s 22ms/step - loss: 106.9370 - val_loss: 569.2651\n"
          ]
        },
        {
          "output_type": "execute_result",
          "data": {
            "text/plain": [
              "<keras.callbacks.History at 0x7f969048a6d0>"
            ]
          },
          "metadata": {},
          "execution_count": 23
        }
      ]
    },
    {
      "cell_type": "code",
      "source": [
        "model_1.evaluate(test_windows, test_labels)"
      ],
      "metadata": {
        "colab": {
          "base_uri": "https://localhost:8080/"
        },
        "id": "kyBs47a3ZzED",
        "outputId": "d5589b71-877d-4893-a2dd-2cbc292a3d86"
      },
      "execution_count": 24,
      "outputs": [
        {
          "output_type": "stream",
          "name": "stdout",
          "text": [
            "18/18 [==============================] - 0s 2ms/step - loss: 569.2651\n"
          ]
        },
        {
          "output_type": "execute_result",
          "data": {
            "text/plain": [
              "569.26513671875"
            ]
          },
          "metadata": {},
          "execution_count": 24
        }
      ]
    },
    {
      "cell_type": "code",
      "source": [
        "model_1_preds = tf.squeeze(model_1.predict(test_windows))"
      ],
      "metadata": {
        "id": "bsTCJG1ib_xr"
      },
      "execution_count": 25,
      "outputs": []
    },
    {
      "cell_type": "code",
      "source": [
        "model_1_results = evaluate_preds(\n",
        "    y_true=tf.squeeze(test_labels),\n",
        "    y_pred=model_1_preds\n",
        ")\n",
        "\n",
        "model_1_results"
      ],
      "metadata": {
        "colab": {
          "base_uri": "https://localhost:8080/"
        },
        "id": "ZCa0-AG4aBh3",
        "outputId": "9cc21e47-f4ec-499a-9ac4-523e940b5e39"
      },
      "execution_count": 26,
      "outputs": [
        {
          "output_type": "execute_result",
          "data": {
            "text/plain": [
              "{'mae': 569.26514,\n",
              " 'mape': 2.5702116,\n",
              " 'mase': 1.0000411,\n",
              " 'mse': 1177874.2,\n",
              " 'rmse': 1085.2992}"
            ]
          },
          "metadata": {},
          "execution_count": 26
        }
      ]
    },
    {
      "cell_type": "code",
      "source": [
        "offset = 400\n",
        "plt.figure(figsize=(10, 7))\n",
        "\n",
        "plot_time_series(\n",
        "    X_test[-len(test_windows):],\n",
        "    values=test_labels[:, 0],\n",
        "    start=offset,\n",
        "    label=\"Test Data\"\n",
        ")\n",
        "\n",
        "plot_time_series(\n",
        "    X_test[-len(test_windows):],\n",
        "    values=tf.expand_dims(model_1_preds, axis=1)[:, 0],\n",
        "    start=offset,\n",
        "    format=\"-\",\n",
        "    label=\"Model Preds\"\n",
        ")"
      ],
      "metadata": {
        "colab": {
          "base_uri": "https://localhost:8080/",
          "height": 442
        },
        "id": "lR77os_ocTjw",
        "outputId": "8d07088e-6cc5-4ae8-8068-5f76592a2388"
      },
      "execution_count": 27,
      "outputs": [
        {
          "output_type": "display_data",
          "data": {
            "text/plain": [
              "<Figure size 720x504 with 1 Axes>"
            ],
            "image/png": "[encoded data removed]"
          },
          "metadata": {
            "needs_background": "light"
          }
        }
      ]
    },
    {
      "cell_type": "markdown",
      "source": [
        "# Model 2: Dense Model (windows = 30, horizon = 1)"
      ],
      "metadata": {
        "id": "C75cWeHVdzKv"
      }
    },
    {
      "cell_type": "code",
      "source": [
        "HORIZON = 1\n",
        "WINDOW_SIZE = 30\n",
        "\n",
        "windows, labels = make_windows(prices, WINDOW_SIZE, HORIZON)\n",
        "train_windows, test_windows, train_labels, test_labels = make_train_test_splits(windows, labels)\n",
        "len(train_windows), len(test_windows), len(train_labels), len(test_labels)"
      ],
      "metadata": {
        "colab": {
          "base_uri": "https://localhost:8080/"
        },
        "id": "KISY1bJreA0G",
        "outputId": "28a3d94c-222b-41c3-b407-b9e66032794f"
      },
      "execution_count": 28,
      "outputs": [
        {
          "output_type": "execute_result",
          "data": {
            "text/plain": [
              "(2205, 552, 2205, 552)"
            ]
          },
          "metadata": {},
          "execution_count": 28
        }
      ]
    },
    {
      "cell_type": "code",
      "source": [
        "inputs = keras.Input(shape=(WINDOW_SIZE, ))\n",
        "x = layers.Dense(128, activation=\"relu\")(inputs)\n",
        "outputs = layers.Dense(HORIZON, activation=\"linear\")(x)\n",
        "\n",
        "model_2 = keras.Model(inputs, outputs, name=\"model_2_dense\")\n",
        "\n",
        "model_2.compile(\n",
        "    loss=\"mae\",\n",
        "    optimizer=tf.keras.optimizers.Adam()\n",
        ")\n",
        "\n",
        "model_2.fit(\n",
        "    train_windows,\n",
        "    train_labels,\n",
        "    validation_data=(test_windows, test_labels),\n",
        "    epochs=100,\n",
        "    batch_size=128,\n",
        "    verbose=0,\n",
        "    callbacks=[create_model_checkpoint(model_2.name)]\n",
        ")"
      ],
      "metadata": {
        "colab": {
          "base_uri": "https://localhost:8080/"
        },
        "id": "EVIPdx8weXfU",
        "outputId": "d38c2003-e9f6-4584-f1fd-3de76daa3ecf"
      },
      "execution_count": 29,
      "outputs": [
        {
          "output_type": "execute_result",
          "data": {
            "text/plain": [
              "<keras.callbacks.History at 0x7f96901aa7d0>"
            ]
          },
          "metadata": {},
          "execution_count": 29
        }
      ]
    },
    {
      "cell_type": "code",
      "source": [
        "model_2.evaluate(test_windows, test_labels)"
      ],
      "metadata": {
        "colab": {
          "base_uri": "https://localhost:8080/"
        },
        "id": "HqAfeaPVfCO9",
        "outputId": "28bfa22c-c699-43ab-fdc7-e21a09a107b7"
      },
      "execution_count": 30,
      "outputs": [
        {
          "output_type": "stream",
          "name": "stdout",
          "text": [
            "18/18 [==============================] - 0s 2ms/step - loss: 1031.1960\n"
          ]
        },
        {
          "output_type": "execute_result",
          "data": {
            "text/plain": [
              "1031.196044921875"
            ]
          },
          "metadata": {},
          "execution_count": 30
        }
      ]
    },
    {
      "cell_type": "code",
      "source": [
        "model_2 = tf.keras.models.load_model(\"model_experiments/model_2_dense\")\n",
        "model_2.evaluate(test_windows, test_labels)"
      ],
      "metadata": {
        "colab": {
          "base_uri": "https://localhost:8080/"
        },
        "id": "zULgXLbPfE_R",
        "outputId": "144e8942-978d-474e-ea40-1a1e84dbf4ef"
      },
      "execution_count": 31,
      "outputs": [
        {
          "output_type": "stream",
          "name": "stdout",
          "text": [
            "18/18 [==============================] - 0s 2ms/step - loss: 605.7040\n"
          ]
        },
        {
          "output_type": "execute_result",
          "data": {
            "text/plain": [
              "605.7039794921875"
            ]
          },
          "metadata": {},
          "execution_count": 31
        }
      ]
    },
    {
      "cell_type": "code",
      "source": [
        "model_2_preds = tf.squeeze(model_2.predict(test_windows))\n",
        "model_2_results = evaluate_preds(\n",
        "    tf.squeeze(test_labels),\n",
        "    model_2_preds\n",
        ")\n",
        "\n",
        "model_2_results"
      ],
      "metadata": {
        "colab": {
          "base_uri": "https://localhost:8080/"
        },
        "id": "G_IJb0ydggpa",
        "outputId": "8bd53365-f255-4fbe-a66d-2d9868927aaa"
      },
      "execution_count": 32,
      "outputs": [
        {
          "output_type": "execute_result",
          "data": {
            "text/plain": [
              "{'mae': 605.7039,\n",
              " 'mape': 2.7885854,\n",
              " 'mase': 1.0587764,\n",
              " 'mse': 1241676.6,\n",
              " 'rmse': 1114.3054}"
            ]
          },
          "metadata": {},
          "execution_count": 32
        }
      ]
    },
    {
      "cell_type": "code",
      "source": [
        "offset = 300\n",
        "plt.figure(figsize=(10, 7))\n",
        "\n",
        "plot_time_series(\n",
        "    X_test[-len(test_windows):],\n",
        "    values=test_labels[:, 0],\n",
        "    start=offset,\n",
        "    label=\"Test Data\"\n",
        ")\n",
        "\n",
        "plot_time_series(\n",
        "    X_test[-len(test_windows):],\n",
        "    values=tf.expand_dims(model_2_preds, axis=1)[:, 0],\n",
        "    start=offset,\n",
        "    format=\"-\",\n",
        "    label=\"Model Preds\"\n",
        ")"
      ],
      "metadata": {
        "colab": {
          "base_uri": "https://localhost:8080/",
          "height": 442
        },
        "id": "9pU9ruDahGY7",
        "outputId": "11bc400e-b05a-4460-8c21-38eb235a5414"
      },
      "execution_count": 33,
      "outputs": [
        {
          "output_type": "display_data",
          "data": {
            "text/plain": [
              "<Figure size 720x504 with 1 Axes>"
            ],
            "image/png": "[encoded data removed]"
          },
          "metadata": {
            "needs_background": "light"
          }
        }
      ]
    },
    {
      "cell_type": "markdown",
      "source": [
        "# Model 3: Dense (window = 30, horizon = 7)"
      ],
      "metadata": {
        "id": "27aJnyZhjBmW"
      }
    },
    {
      "cell_type": "code",
      "source": [
        "HORIZON = 7\n",
        "WINDOW_SIZE = 30"
      ],
      "metadata": {
        "id": "WZDM484ZjGiR"
      },
      "execution_count": 34,
      "outputs": []
    },
    {
      "cell_type": "code",
      "source": [
        "windows, labels = make_windows(prices, WINDOW_SIZE, HORIZON)\n",
        "train_windows, test_windows, train_labels, test_labels = make_train_test_splits(windows, labels)\n",
        "len(train_windows), len(test_windows), len(train_labels), len(test_labels)"
      ],
      "metadata": {
        "colab": {
          "base_uri": "https://localhost:8080/"
        },
        "id": "MvKDLC6CjLWO",
        "outputId": "f9494df2-9321-4609-f51d-56db48508956"
      },
      "execution_count": 35,
      "outputs": [
        {
          "output_type": "execute_result",
          "data": {
            "text/plain": [
              "(2200, 551, 2200, 551)"
            ]
          },
          "metadata": {},
          "execution_count": 35
        }
      ]
    },
    {
      "cell_type": "code",
      "source": [
        "inputs = layers.Input(shape=(WINDOW_SIZE, ))\n",
        "layer_1 = layers.Dense(128, activation=\"relu\")(inputs)\n",
        "outputs = layers.Dense(HORIZON)(layer_1)\n",
        "\n",
        "model_3 = tf.keras.Model(inputs, outputs, name=\"model_3_dense\")\n",
        "\n",
        "model_3.compile(\n",
        "    loss=\"mae\",\n",
        "    optimizer=tf.keras.optimizers.Adam()\n",
        ")\n",
        "\n",
        "model_3.fit(\n",
        "    train_windows,\n",
        "    train_labels,\n",
        "    epochs=100,\n",
        "    validation_data=(test_windows, test_labels),\n",
        "    verbose=0,\n",
        "    batch_size=128,\n",
        "    callbacks=[create_model_checkpoint(model_3.name)]\n",
        ")"
      ],
      "metadata": {
        "colab": {
          "base_uri": "https://localhost:8080/"
        },
        "id": "QF3yLLUdjTzA",
        "outputId": "51054373-906d-406e-90b2-4ee657aaee69"
      },
      "execution_count": 36,
      "outputs": [
        {
          "output_type": "execute_result",
          "data": {
            "text/plain": [
              "<keras.callbacks.History at 0x7f96900954d0>"
            ]
          },
          "metadata": {},
          "execution_count": 36
        }
      ]
    },
    {
      "cell_type": "code",
      "source": [
        "model_3.evaluate(test_windows, test_labels)"
      ],
      "metadata": {
        "colab": {
          "base_uri": "https://localhost:8080/"
        },
        "id": "9LGTSCfIkjnm",
        "outputId": "ba36078a-8684-4e55-e3c1-029efd51a3e9"
      },
      "execution_count": 37,
      "outputs": [
        {
          "output_type": "stream",
          "name": "stdout",
          "text": [
            "18/18 [==============================] - 0s 2ms/step - loss: 1263.3250\n"
          ]
        },
        {
          "output_type": "execute_result",
          "data": {
            "text/plain": [
              "1263.324951171875"
            ]
          },
          "metadata": {},
          "execution_count": 37
        }
      ]
    },
    {
      "cell_type": "code",
      "source": [
        "model_3 = tf.keras.models.load_model(\"model_experiments/model_3_dense\")\n",
        "model_3.evaluate(test_windows, test_labels)"
      ],
      "metadata": {
        "colab": {
          "base_uri": "https://localhost:8080/"
        },
        "id": "KDy76FPTkrz6",
        "outputId": "11e2bf62-caf9-400a-e61b-999bf6bd6e20"
      },
      "execution_count": 38,
      "outputs": [
        {
          "output_type": "stream",
          "name": "stdout",
          "text": [
            "18/18 [==============================] - 0s 2ms/step - loss: 1234.5212\n"
          ]
        },
        {
          "output_type": "execute_result",
          "data": {
            "text/plain": [
              "1234.521240234375"
            ]
          },
          "metadata": {},
          "execution_count": 38
        }
      ]
    },
    {
      "cell_type": "code",
      "source": [
        "model_3_preds = tf.squeeze(model_3.predict(test_windows))\n",
        "\n",
        "model_3_results = evaluate_preds(\n",
        "    tf.squeeze(test_labels),\n",
        "    model_3_preds\n",
        ")\n",
        "\n",
        "model_3_results"
      ],
      "metadata": {
        "colab": {
          "base_uri": "https://localhost:8080/"
        },
        "id": "KR2wBr8vkx2Z",
        "outputId": "35dd741e-86ba-4eb9-f6fc-08a773686baf"
      },
      "execution_count": 39,
      "outputs": [
        {
          "output_type": "execute_result",
          "data": {
            "text/plain": [
              "{'mae': 1234.5211,\n",
              " 'mape': 5.5633516,\n",
              " 'mase': 2.1967614,\n",
              " 'mse': 5281136.5,\n",
              " 'rmse': 1423.7833}"
            ]
          },
          "metadata": {},
          "execution_count": 39
        }
      ]
    },
    {
      "cell_type": "code",
      "source": [
        "offset = 300\n",
        "plt.figure(figsize=(10, 7))\n",
        "\n",
        "plot_time_series(\n",
        "    X_test[-len(test_windows):],\n",
        "    values=test_labels[:, 0],\n",
        "    start=offset,\n",
        "    label=\"Test Data\"\n",
        ")\n",
        "\n",
        "plot_time_series(\n",
        "    X_test[-len(test_windows):],\n",
        "    values=tf.expand_dims(tf.reduce_mean(model_3_preds, axis=1), axis=1)[:, 0],\n",
        "    start=offset,\n",
        "    format=\"-\",\n",
        "    label=\"Model Preds\"\n",
        ")"
      ],
      "metadata": {
        "colab": {
          "base_uri": "https://localhost:8080/",
          "height": 442
        },
        "id": "DmSikPIpnF1n",
        "outputId": "0aa39718-6952-40ad-d4d6-c81b192a3f56"
      },
      "execution_count": 40,
      "outputs": [
        {
          "output_type": "display_data",
          "data": {
            "text/plain": [
              "<Figure size 720x504 with 1 Axes>"
            ],
            "image/png": "[encoded data removed]"
          },
          "metadata": {
            "needs_background": "light"
          }
        }
      ]
    },
    {
      "cell_type": "markdown",
      "source": [
        "# Comparing the first 4 models"
      ],
      "metadata": {
        "id": "cy6yRewHoTNs"
      }
    },
    {
      "cell_type": "code",
      "source": [
        "pd.DataFrame({\n",
        "    \"naive\": naive_results[\"mae\"],\n",
        "    \"horizon_1_window_7\": model_1_results[\"mae\"],\n",
        "    \"horizon_1_window_30\": model_2_results[\"mae\"],\n",
        "    \"horizon_7_window_30\": model_3_results[\"mae\"],\n",
        "}, index=[\"mae\"]).plot(figsize=(10, 7), kind=\"bar\")"
      ],
      "metadata": {
        "colab": {
          "base_uri": "https://localhost:8080/",
          "height": 457
        },
        "id": "W0qHD4SUoU_V",
        "outputId": "5abffbcd-c178-4d06-f17c-ff8a66ff56f5"
      },
      "execution_count": 41,
      "outputs": [
        {
          "output_type": "execute_result",
          "data": {
            "text/plain": [
              "<matplotlib.axes._subplots.AxesSubplot at 0x7f960a57a650>"
            ]
          },
          "metadata": {},
          "execution_count": 41
        },
        {
          "output_type": "display_data",
          "data": {
            "text/plain": [
              "<Figure size 720x504 with 1 Axes>"
            ],
            "image/png": "[encoded data removed]"
          },
          "metadata": {
            "needs_background": "light"
          }
        }
      ]
    },
    {
      "cell_type": "markdown",
      "source": [
        "# Model 4: Conv1D"
      ],
      "metadata": {
        "id": "oDe5FPDf4gJ1"
      }
    },
    {
      "cell_type": "code",
      "source": [
        "HORIZON = 1\n",
        "WINDOW_SIZE = 7"
      ],
      "metadata": {
        "id": "1_5CsjSg4hYB"
      },
      "execution_count": 42,
      "outputs": []
    },
    {
      "cell_type": "code",
      "source": [
        "windows, labels = make_windows(prices, WINDOW_SIZE, HORIZON)\n",
        "train_windows, test_windows, train_labels, test_labels = make_train_test_splits(windows, labels)\n",
        "len(train_windows), len(test_windows), len(train_labels), len(test_labels)"
      ],
      "metadata": {
        "colab": {
          "base_uri": "https://localhost:8080/"
        },
        "id": "fb41V1RS4llg",
        "outputId": "a645590f-5c2b-49a0-ffd0-e19a1ed3c12a"
      },
      "execution_count": 43,
      "outputs": [
        {
          "output_type": "execute_result",
          "data": {
            "text/plain": [
              "(2224, 556, 2224, 556)"
            ]
          },
          "metadata": {},
          "execution_count": 43
        }
      ]
    },
    {
      "cell_type": "code",
      "source": [
        "inputs = layers.Input(shape=(WINDOW_SIZE, ))\n",
        "expanded_dim_layer = layers.Lambda(lambda x: tf.expand_dims(x, axis=1))(inputs)\n",
        "layer_1 = layers.Conv1D(filters=128, kernel_size=5, strides=1, padding=\"causal\", activation=\"relu\")(expanded_dim_layer)\n",
        "outputs = layers.Dense(HORIZON)(layer_1)\n",
        "\n",
        "model_4 = tf.keras.Model(inputs, outputs, name=\"model_4_conv1D\")\n",
        "\n",
        "model_4.compile(\n",
        "    loss=\"mae\",\n",
        "    optimizer=tf.keras.optimizers.Adam()\n",
        ")\n",
        "\n",
        "model_4.fit(\n",
        "    train_windows,\n",
        "    train_labels,\n",
        "    epochs=100,\n",
        "    verbose=0,\n",
        "    validation_data=(test_windows, test_labels),\n",
        "    batch_size=128,\n",
        "    callbacks=[create_model_checkpoint(model_4.name)]\n",
        ")"
      ],
      "metadata": {
        "colab": {
          "base_uri": "https://localhost:8080/"
        },
        "id": "2Ko01FNa4z46",
        "outputId": "9ac952e3-c5b8-4151-b9d9-06be7d47b891"
      },
      "execution_count": 44,
      "outputs": [
        {
          "output_type": "execute_result",
          "data": {
            "text/plain": [
              "<keras.callbacks.History at 0x7f960b02bb10>"
            ]
          },
          "metadata": {},
          "execution_count": 44
        }
      ]
    },
    {
      "cell_type": "code",
      "source": [
        "model_4.summary()"
      ],
      "metadata": {
        "colab": {
          "base_uri": "https://localhost:8080/"
        },
        "id": "4Qv3FsIA7tvm",
        "outputId": "e84f94b5-fd87-4d94-f7ea-63e549367151"
      },
      "execution_count": 45,
      "outputs": [
        {
          "output_type": "stream",
          "name": "stdout",
          "text": [
            "Model: \"model_4_conv1D\"\n",
            "_________________________________________________________________\n",
            " Layer (type)                Output Shape              Param #   \n",
            "=================================================================\n",
            " input_4 (InputLayer)        [(None, 7)]               0         \n",
            "                                                                 \n",
            " lambda (Lambda)             (None, 1, 7)              0         \n",
            "                                                                 \n",
            " conv1d (Conv1D)             (None, 1, 128)            4608      \n",
            "                                                                 \n",
            " dense_6 (Dense)             (None, 1, 1)              129       \n",
            "                                                                 \n",
            "=================================================================\n",
            "Total params: 4,737\n",
            "Trainable params: 4,737\n",
            "Non-trainable params: 0\n",
            "_________________________________________________________________\n"
          ]
        }
      ]
    },
    {
      "cell_type": "code",
      "source": [
        "model_4.evaluate(test_windows, test_labels)"
      ],
      "metadata": {
        "colab": {
          "base_uri": "https://localhost:8080/"
        },
        "id": "rLm4dKjT7pJT",
        "outputId": "cf0f4dd1-bb9f-4949-f2df-673f0d3ed73a"
      },
      "execution_count": 46,
      "outputs": [
        {
          "output_type": "stream",
          "name": "stdout",
          "text": [
            "18/18 [==============================] - 0s 3ms/step - loss: 654.5541\n"
          ]
        },
        {
          "output_type": "execute_result",
          "data": {
            "text/plain": [
              "654.5540771484375"
            ]
          },
          "metadata": {},
          "execution_count": 46
        }
      ]
    },
    {
      "cell_type": "code",
      "source": [
        "model_4 = tf.keras.models.load_model(\"/content/model_experiments/model_4_conv1D\")\n",
        "model_4.evaluate(test_windows, test_labels)"
      ],
      "metadata": {
        "colab": {
          "base_uri": "https://localhost:8080/"
        },
        "id": "GzhIOyEE8M-H",
        "outputId": "1cd9e48e-3883-4e19-eee4-2f3034ed9918"
      },
      "execution_count": 47,
      "outputs": [
        {
          "output_type": "stream",
          "name": "stdout",
          "text": [
            "18/18 [==============================] - 0s 2ms/step - loss: 565.1154\n"
          ]
        },
        {
          "output_type": "execute_result",
          "data": {
            "text/plain": [
              "565.1154174804688"
            ]
          },
          "metadata": {},
          "execution_count": 47
        }
      ]
    },
    {
      "cell_type": "code",
      "source": [
        "model_4_preds = tf.squeeze(model_4.predict(test_windows))\n",
        "\n",
        "model_4_results = evaluate_preds(\n",
        "    tf.squeeze(test_labels),\n",
        "    model_4_preds\n",
        ")\n",
        "\n",
        "model_4_results"
      ],
      "metadata": {
        "colab": {
          "base_uri": "https://localhost:8080/"
        },
        "id": "LQgBY8yK8PhQ",
        "outputId": "a96b1b9d-fa12-44cd-a462-bead14c4efd0"
      },
      "execution_count": 48,
      "outputs": [
        {
          "output_type": "execute_result",
          "data": {
            "text/plain": [
              "{'mae': 565.1154,\n",
              " 'mape': 2.5239146,\n",
              " 'mase': 0.99275124,\n",
              " 'mse': 1156398.5,\n",
              " 'rmse': 1075.3597}"
            ]
          },
          "metadata": {},
          "execution_count": 48
        }
      ]
    },
    {
      "cell_type": "markdown",
      "source": [
        "# Model 5: LSTM"
      ],
      "metadata": {
        "id": "_OAqZjC-8bqq"
      }
    },
    {
      "cell_type": "code",
      "source": [
        "HORIZON = 1\n",
        "WINDOW_SIZE = 7"
      ],
      "metadata": {
        "id": "0MQduJ6B8ehF"
      },
      "execution_count": 49,
      "outputs": []
    },
    {
      "cell_type": "code",
      "source": [
        "windows, labels = make_windows(prices, WINDOW_SIZE, HORIZON)\n",
        "train_windows, test_windows, train_labels, test_labels = make_train_test_splits(windows, labels)\n",
        "len(train_windows), len(test_windows), len(train_labels), len(test_labels)"
      ],
      "metadata": {
        "colab": {
          "base_uri": "https://localhost:8080/"
        },
        "id": "XISY3ym48j4D",
        "outputId": "4daff080-8a6f-441d-a437-f955e75d75a0"
      },
      "execution_count": 50,
      "outputs": [
        {
          "output_type": "execute_result",
          "data": {
            "text/plain": [
              "(2224, 556, 2224, 556)"
            ]
          },
          "metadata": {},
          "execution_count": 50
        }
      ]
    },
    {
      "cell_type": "code",
      "source": [
        "inputs = layers.Input(shape=(WINDOW_SIZE, ))\n",
        "expanded_dims_layer = layers.Lambda(lambda x: tf.expand_dims(x, axis=1))(inputs)\n",
        "layer_1 = layers.LSTM(128, return_sequences=True, activation=\"relu\")(expanded_dims_layer)\n",
        "layer_2 = layers.LSTM(128, activation=\"relu\")(layer_1)\n",
        "outputs = layers.Dense(HORIZON)(layer_2)\n",
        "\n",
        "model_5 = tf.keras.Model(inputs, outputs, name=\"model_5_LSTM\")\n",
        "\n",
        "model_5.compile(\n",
        "    loss=\"mae\",\n",
        "    optimizer=tf.keras.optimizers.Adam()\n",
        ")\n",
        "\n",
        "model_5.fit(\n",
        "    train_windows,\n",
        "    train_labels,\n",
        "    epochs=100,\n",
        "    verbose=1,\n",
        "    batch_size=128,\n",
        "    validation_data=(test_windows, test_labels),\n",
        "    callbacks=[create_model_checkpoint(model_5.name)]\n",
        ")"
      ],
      "metadata": {
        "colab": {
          "base_uri": "https://localhost:8080/"
        },
        "id": "0eejPkZ88mW9",
        "outputId": "198e758c-3fab-4576-b493-ca653238cc18"
      },
      "execution_count": 51,
      "outputs": [
        {
          "output_type": "stream",
          "name": "stderr",
          "text": [
            "WARNING:tensorflow:Layer lstm will not use cuDNN kernels since it doesn't meet the criteria. It will use a generic GPU kernel as fallback when running on GPU.\n",
            "WARNING:tensorflow:Layer lstm_1 will not use cuDNN kernels since it doesn't meet the criteria. It will use a generic GPU kernel as fallback when running on GPU.\n"
          ]
        },
        {
          "output_type": "stream",
          "name": "stdout",
          "text": [
            "Epoch 1/100\n",
            "18/18 [==============================] - ETA: 0s - loss: 2835.0583"
          ]
        },
        {
          "output_type": "stream",
          "name": "stderr",
          "text": [
            "WARNING:absl:<keras.layers.recurrent.LSTMCell object at 0x7f9622168ed0> has the same name 'LSTMCell' as a built-in Keras object. Consider renaming <class 'keras.layers.recurrent.LSTMCell'> to avoid naming conflicts when loading with `tf.keras.models.load_model`. If renaming is not possible, pass the object in the `custom_objects` parameter of the load function.\n",
            "WARNING:absl:<keras.layers.recurrent.LSTMCell object at 0x7f969017fd50> has the same name 'LSTMCell' as a built-in Keras object. Consider renaming <class 'keras.layers.recurrent.LSTMCell'> to avoid naming conflicts when loading with `tf.keras.models.load_model`. If renaming is not possible, pass the object in the `custom_objects` parameter of the load function.\n"
          ]
        },
        {
          "output_type": "stream",
          "name": "stdout",
          "text": [
            "\b\b\b\b\b\b\b\b\b\b\b\b\b\b\b\b\b\b\b\b\b\b\b\b\b\b\b\b\b\b\b\b\b\b\b\b\b\b\b\b\b\b\b\b\b\b\b\b\b\b\b\b\b\b\b\b\b\b\b\b\b\b\b\b\b\b\r18/18 [==============================] - 5s 183ms/step - loss: 2835.0583 - val_loss: 15135.6279\n",
            "Epoch 2/100\n",
            "15/18 [========================>.....] - ETA: 0s - loss: 1685.7723"
          ]
        },
        {
          "output_type": "stream",
          "name": "stderr",
          "text": [
            "WARNING:absl:<keras.layers.recurrent.LSTMCell object at 0x7f9622168ed0> has the same name 'LSTMCell' as a built-in Keras object. Consider renaming <class 'keras.layers.recurrent.LSTMCell'> to avoid naming conflicts when loading with `tf.keras.models.load_model`. If renaming is not possible, pass the object in the `custom_objects` parameter of the load function.\n",
            "WARNING:absl:<keras.layers.recurrent.LSTMCell object at 0x7f969017fd50> has the same name 'LSTMCell' as a built-in Keras object. Consider renaming <class 'keras.layers.recurrent.LSTMCell'> to avoid naming conflicts when loading with `tf.keras.models.load_model`. If renaming is not possible, pass the object in the `custom_objects` parameter of the load function.\n"
          ]
        },
        {
          "output_type": "stream",
          "name": "stdout",
          "text": [
            "\b\b\b\b\b\b\b\b\b\b\b\b\b\b\b\b\b\b\b\b\b\b\b\b\b\b\b\b\b\b\b\b\b\b\b\b\b\b\b\b\b\b\b\b\b\b\b\b\b\b\b\b\b\b\b\b\b\b\b\b\b\b\b\b\b\b\r18/18 [==============================] - 3s 175ms/step - loss: 1508.3470 - val_loss: 1116.3674\n",
            "Epoch 3/100\n",
            "18/18 [==============================] - 0s 9ms/step - loss: 281.9819 - val_loss: 1321.3792\n",
            "Epoch 4/100\n",
            "16/18 [=========================>....] - ETA: 0s - loss: 184.0050"
          ]
        },
        {
          "output_type": "stream",
          "name": "stderr",
          "text": [
            "WARNING:absl:<keras.layers.recurrent.LSTMCell object at 0x7f9622168ed0> has the same name 'LSTMCell' as a built-in Keras object. Consider renaming <class 'keras.layers.recurrent.LSTMCell'> to avoid naming conflicts when loading with `tf.keras.models.load_model`. If renaming is not possible, pass the object in the `custom_objects` parameter of the load function.\n",
            "WARNING:absl:<keras.layers.recurrent.LSTMCell object at 0x7f969017fd50> has the same name 'LSTMCell' as a built-in Keras object. Consider renaming <class 'keras.layers.recurrent.LSTMCell'> to avoid naming conflicts when loading with `tf.keras.models.load_model`. If renaming is not possible, pass the object in the `custom_objects` parameter of the load function.\n"
          ]
        },
        {
          "output_type": "stream",
          "name": "stdout",
          "text": [
            "\b\b\b\b\b\b\b\b\b\b\b\b\b\b\b\b\b\b\b\b\b\b\b\b\b\b\b\b\b\b\b\b\b\b\b\b\b\b\b\b\b\b\b\b\b\b\b\b\b\b\b\b\b\b\b\b\b\b\b\b\b\b\b\b\b\r18/18 [==============================] - 3s 158ms/step - loss: 183.5306 - val_loss: 999.5968\n",
            "Epoch 5/100\n",
            "18/18 [==============================] - 0s 10ms/step - loss: 178.1418 - val_loss: 1017.1152\n",
            "Epoch 6/100\n",
            "18/18 [==============================] - 0s 10ms/step - loss: 187.4535 - val_loss: 1104.4016\n",
            "Epoch 7/100\n",
            "15/18 [========================>.....] - ETA: 0s - loss: 185.3651"
          ]
        },
        {
          "output_type": "stream",
          "name": "stderr",
          "text": [
            "WARNING:absl:<keras.layers.recurrent.LSTMCell object at 0x7f9622168ed0> has the same name 'LSTMCell' as a built-in Keras object. Consider renaming <class 'keras.layers.recurrent.LSTMCell'> to avoid naming conflicts when loading with `tf.keras.models.load_model`. If renaming is not possible, pass the object in the `custom_objects` parameter of the load function.\n",
            "WARNING:absl:<keras.layers.recurrent.LSTMCell object at 0x7f969017fd50> has the same name 'LSTMCell' as a built-in Keras object. Consider renaming <class 'keras.layers.recurrent.LSTMCell'> to avoid naming conflicts when loading with `tf.keras.models.load_model`. If renaming is not possible, pass the object in the `custom_objects` parameter of the load function.\n"
          ]
        },
        {
          "output_type": "stream",
          "name": "stdout",
          "text": [
            "\b\b\b\b\b\b\b\b\b\b\b\b\b\b\b\b\b\b\b\b\b\b\b\b\b\b\b\b\b\b\b\b\b\b\b\b\b\b\b\b\b\b\b\b\b\b\b\b\b\b\b\b\b\b\b\b\b\b\b\b\b\b\b\b\b\r18/18 [==============================] - 3s 179ms/step - loss: 181.8651 - val_loss: 964.3789\n",
            "Epoch 8/100\n",
            "18/18 [==============================] - 0s 9ms/step - loss: 170.8879 - val_loss: 1035.9788\n",
            "Epoch 9/100\n",
            "18/18 [==============================] - 0s 10ms/step - loss: 182.3655 - val_loss: 1050.2788\n",
            "Epoch 10/100\n",
            "18/18 [==============================] - 0s 9ms/step - loss: 181.2744 - val_loss: 1143.0897\n",
            "Epoch 11/100\n",
            "18/18 [==============================] - 0s 10ms/step - loss: 181.5619 - val_loss: 1051.5452\n",
            "Epoch 12/100\n",
            "18/18 [==============================] - 0s 9ms/step - loss: 185.7704 - val_loss: 1023.7208\n",
            "Epoch 13/100\n",
            "18/18 [==============================] - 0s 9ms/step - loss: 183.1104 - val_loss: 1018.6379\n",
            "Epoch 14/100\n",
            "18/18 [==============================] - 0s 10ms/step - loss: 181.8281 - val_loss: 1021.9081\n",
            "Epoch 15/100\n",
            "18/18 [==============================] - 0s 10ms/step - loss: 177.5361 - val_loss: 991.4682\n",
            "Epoch 16/100\n",
            "18/18 [==============================] - 0s 10ms/step - loss: 173.9812 - val_loss: 1010.3412\n",
            "Epoch 17/100\n",
            "12/18 [===================>..........] - ETA: 0s - loss: 165.6259"
          ]
        },
        {
          "output_type": "stream",
          "name": "stderr",
          "text": [
            "WARNING:absl:<keras.layers.recurrent.LSTMCell object at 0x7f9622168ed0> has the same name 'LSTMCell' as a built-in Keras object. Consider renaming <class 'keras.layers.recurrent.LSTMCell'> to avoid naming conflicts when loading with `tf.keras.models.load_model`. If renaming is not possible, pass the object in the `custom_objects` parameter of the load function.\n",
            "WARNING:absl:<keras.layers.recurrent.LSTMCell object at 0x7f969017fd50> has the same name 'LSTMCell' as a built-in Keras object. Consider renaming <class 'keras.layers.recurrent.LSTMCell'> to avoid naming conflicts when loading with `tf.keras.models.load_model`. If renaming is not possible, pass the object in the `custom_objects` parameter of the load function.\n"
          ]
        },
        {
          "output_type": "stream",
          "name": "stdout",
          "text": [
            "\b\b\b\b\b\b\b\b\b\b\b\b\b\b\b\b\b\b\b\b\b\b\b\b\b\b\b\b\b\b\b\b\b\b\b\b\b\b\b\b\b\b\b\b\b\b\b\b\b\b\b\b\b\b\b\b\b\b\b\b\b\b\b\b\b\r18/18 [==============================] - 3s 161ms/step - loss: 171.0388 - val_loss: 954.5854\n",
            "Epoch 18/100\n",
            "18/18 [==============================] - 0s 10ms/step - loss: 176.1258 - val_loss: 962.0923\n",
            "Epoch 19/100\n",
            "15/18 [========================>.....] - ETA: 0s - loss: 169.7713"
          ]
        },
        {
          "output_type": "stream",
          "name": "stderr",
          "text": [
            "WARNING:absl:<keras.layers.recurrent.LSTMCell object at 0x7f9622168ed0> has the same name 'LSTMCell' as a built-in Keras object. Consider renaming <class 'keras.layers.recurrent.LSTMCell'> to avoid naming conflicts when loading with `tf.keras.models.load_model`. If renaming is not possible, pass the object in the `custom_objects` parameter of the load function.\n",
            "WARNING:absl:<keras.layers.recurrent.LSTMCell object at 0x7f969017fd50> has the same name 'LSTMCell' as a built-in Keras object. Consider renaming <class 'keras.layers.recurrent.LSTMCell'> to avoid naming conflicts when loading with `tf.keras.models.load_model`. If renaming is not possible, pass the object in the `custom_objects` parameter of the load function.\n"
          ]
        },
        {
          "output_type": "stream",
          "name": "stdout",
          "text": [
            "\b\b\b\b\b\b\b\b\b\b\b\b\b\b\b\b\b\b\b\b\b\b\b\b\b\b\b\b\b\b\b\b\b\b\b\b\b\b\b\b\b\b\b\b\b\b\b\b\b\b\b\b\b\b\b\b\b\b\b\b\b\b\b\b\b\r18/18 [==============================] - 3s 181ms/step - loss: 169.6759 - val_loss: 913.7692\n",
            "Epoch 20/100\n",
            "13/18 [====================>.........] - ETA: 0s - loss: 165.8034"
          ]
        },
        {
          "output_type": "stream",
          "name": "stderr",
          "text": [
            "WARNING:absl:<keras.layers.recurrent.LSTMCell object at 0x7f9622168ed0> has the same name 'LSTMCell' as a built-in Keras object. Consider renaming <class 'keras.layers.recurrent.LSTMCell'> to avoid naming conflicts when loading with `tf.keras.models.load_model`. If renaming is not possible, pass the object in the `custom_objects` parameter of the load function.\n",
            "WARNING:absl:<keras.layers.recurrent.LSTMCell object at 0x7f969017fd50> has the same name 'LSTMCell' as a built-in Keras object. Consider renaming <class 'keras.layers.recurrent.LSTMCell'> to avoid naming conflicts when loading with `tf.keras.models.load_model`. If renaming is not possible, pass the object in the `custom_objects` parameter of the load function.\n"
          ]
        },
        {
          "output_type": "stream",
          "name": "stdout",
          "text": [
            "\b\b\b\b\b\b\b\b\b\b\b\b\b\b\b\b\b\b\b\b\b\b\b\b\b\b\b\b\b\b\b\b\b\b\b\b\b\b\b\b\b\b\b\b\b\b\b\b\b\b\b\b\b\b\b\b\b\b\b\b\b\b\b\b\b\r18/18 [==============================] - 3s 165ms/step - loss: 164.6990 - val_loss: 890.2461\n",
            "Epoch 21/100\n",
            "18/18 [==============================] - 0s 9ms/step - loss: 161.1668 - val_loss: 896.6080\n",
            "Epoch 22/100\n",
            "18/18 [==============================] - 0s 9ms/step - loss: 155.7475 - val_loss: 952.2165\n",
            "Epoch 23/100\n",
            "14/18 [======================>.......] - ETA: 0s - loss: 152.9929"
          ]
        },
        {
          "output_type": "stream",
          "name": "stderr",
          "text": [
            "WARNING:absl:<keras.layers.recurrent.LSTMCell object at 0x7f9622168ed0> has the same name 'LSTMCell' as a built-in Keras object. Consider renaming <class 'keras.layers.recurrent.LSTMCell'> to avoid naming conflicts when loading with `tf.keras.models.load_model`. If renaming is not possible, pass the object in the `custom_objects` parameter of the load function.\n",
            "WARNING:absl:<keras.layers.recurrent.LSTMCell object at 0x7f969017fd50> has the same name 'LSTMCell' as a built-in Keras object. Consider renaming <class 'keras.layers.recurrent.LSTMCell'> to avoid naming conflicts when loading with `tf.keras.models.load_model`. If renaming is not possible, pass the object in the `custom_objects` parameter of the load function.\n"
          ]
        },
        {
          "output_type": "stream",
          "name": "stdout",
          "text": [
            "\b\b\b\b\b\b\b\b\b\b\b\b\b\b\b\b\b\b\b\b\b\b\b\b\b\b\b\b\b\b\b\b\b\b\b\b\b\b\b\b\b\b\b\b\b\b\b\b\b\b\b\b\b\b\b\b\b\b\b\b\b\b\b\b\b\r18/18 [==============================] - 3s 191ms/step - loss: 152.7337 - val_loss: 825.3110\n",
            "Epoch 24/100\n",
            "15/18 [========================>.....] - ETA: 0s - loss: 151.2636"
          ]
        },
        {
          "output_type": "stream",
          "name": "stderr",
          "text": [
            "WARNING:absl:<keras.layers.recurrent.LSTMCell object at 0x7f9622168ed0> has the same name 'LSTMCell' as a built-in Keras object. Consider renaming <class 'keras.layers.recurrent.LSTMCell'> to avoid naming conflicts when loading with `tf.keras.models.load_model`. If renaming is not possible, pass the object in the `custom_objects` parameter of the load function.\n",
            "WARNING:absl:<keras.layers.recurrent.LSTMCell object at 0x7f969017fd50> has the same name 'LSTMCell' as a built-in Keras object. Consider renaming <class 'keras.layers.recurrent.LSTMCell'> to avoid naming conflicts when loading with `tf.keras.models.load_model`. If renaming is not possible, pass the object in the `custom_objects` parameter of the load function.\n"
          ]
        },
        {
          "output_type": "stream",
          "name": "stdout",
          "text": [
            "\b\b\b\b\b\b\b\b\b\b\b\b\b\b\b\b\b\b\b\b\b\b\b\b\b\b\b\b\b\b\b\b\b\b\b\b\b\b\b\b\b\b\b\b\b\b\b\b\b\b\b\b\b\b\b\b\b\b\b\b\b\b\b\b\b\r18/18 [==============================] - 3s 161ms/step - loss: 149.3824 - val_loss: 805.5895\n",
            "Epoch 25/100\n",
            "15/18 [========================>.....] - ETA: 0s - loss: 152.9859"
          ]
        },
        {
          "output_type": "stream",
          "name": "stderr",
          "text": [
            "WARNING:absl:<keras.layers.recurrent.LSTMCell object at 0x7f9622168ed0> has the same name 'LSTMCell' as a built-in Keras object. Consider renaming <class 'keras.layers.recurrent.LSTMCell'> to avoid naming conflicts when loading with `tf.keras.models.load_model`. If renaming is not possible, pass the object in the `custom_objects` parameter of the load function.\n",
            "WARNING:absl:<keras.layers.recurrent.LSTMCell object at 0x7f969017fd50> has the same name 'LSTMCell' as a built-in Keras object. Consider renaming <class 'keras.layers.recurrent.LSTMCell'> to avoid naming conflicts when loading with `tf.keras.models.load_model`. If renaming is not possible, pass the object in the `custom_objects` parameter of the load function.\n"
          ]
        },
        {
          "output_type": "stream",
          "name": "stdout",
          "text": [
            "\b\b\b\b\b\b\b\b\b\b\b\b\b\b\b\b\b\b\b\b\b\b\b\b\b\b\b\b\b\b\b\b\b\b\b\b\b\b\b\b\b\b\b\b\b\b\b\b\b\b\b\b\b\b\b\b\b\b\b\b\b\b\b\b\b\r18/18 [==============================] - 4s 215ms/step - loss: 150.5954 - val_loss: 802.1728\n",
            "Epoch 26/100\n",
            "13/18 [====================>.........] - ETA: 0s - loss: 137.8431"
          ]
        },
        {
          "output_type": "stream",
          "name": "stderr",
          "text": [
            "WARNING:absl:<keras.layers.recurrent.LSTMCell object at 0x7f9622168ed0> has the same name 'LSTMCell' as a built-in Keras object. Consider renaming <class 'keras.layers.recurrent.LSTMCell'> to avoid naming conflicts when loading with `tf.keras.models.load_model`. If renaming is not possible, pass the object in the `custom_objects` parameter of the load function.\n",
            "WARNING:absl:<keras.layers.recurrent.LSTMCell object at 0x7f969017fd50> has the same name 'LSTMCell' as a built-in Keras object. Consider renaming <class 'keras.layers.recurrent.LSTMCell'> to avoid naming conflicts when loading with `tf.keras.models.load_model`. If renaming is not possible, pass the object in the `custom_objects` parameter of the load function.\n"
          ]
        },
        {
          "output_type": "stream",
          "name": "stdout",
          "text": [
            "\b\b\b\b\b\b\b\b\b\b\b\b\b\b\b\b\b\b\b\b\b\b\b\b\b\b\b\b\b\b\b\b\b\b\b\b\b\b\b\b\b\b\b\b\b\b\b\b\b\b\b\b\b\b\b\b\b\b\b\b\b\b\b\b\b\r18/18 [==============================] - 3s 165ms/step - loss: 141.6262 - val_loss: 770.3356\n",
            "Epoch 27/100\n",
            "18/18 [==============================] - 0s 10ms/step - loss: 142.0781 - val_loss: 785.4523\n",
            "Epoch 28/100\n",
            "15/18 [========================>.....] - ETA: 0s - loss: 153.8827"
          ]
        },
        {
          "output_type": "stream",
          "name": "stderr",
          "text": [
            "WARNING:absl:<keras.layers.recurrent.LSTMCell object at 0x7f9622168ed0> has the same name 'LSTMCell' as a built-in Keras object. Consider renaming <class 'keras.layers.recurrent.LSTMCell'> to avoid naming conflicts when loading with `tf.keras.models.load_model`. If renaming is not possible, pass the object in the `custom_objects` parameter of the load function.\n",
            "WARNING:absl:<keras.layers.recurrent.LSTMCell object at 0x7f969017fd50> has the same name 'LSTMCell' as a built-in Keras object. Consider renaming <class 'keras.layers.recurrent.LSTMCell'> to avoid naming conflicts when loading with `tf.keras.models.load_model`. If renaming is not possible, pass the object in the `custom_objects` parameter of the load function.\n"
          ]
        },
        {
          "output_type": "stream",
          "name": "stdout",
          "text": [
            "\b\b\b\b\b\b\b\b\b\b\b\b\b\b\b\b\b\b\b\b\b\b\b\b\b\b\b\b\b\b\b\b\b\b\b\b\b\b\b\b\b\b\b\b\b\b\b\b\b\b\b\b\b\b\b\b\b\b\b\b\b\b\b\b\b\r18/18 [==============================] - 3s 183ms/step - loss: 152.0238 - val_loss: 749.0220\n",
            "Epoch 29/100\n",
            "15/18 [========================>.....] - ETA: 0s - loss: 139.4607"
          ]
        },
        {
          "output_type": "stream",
          "name": "stderr",
          "text": [
            "WARNING:absl:<keras.layers.recurrent.LSTMCell object at 0x7f9622168ed0> has the same name 'LSTMCell' as a built-in Keras object. Consider renaming <class 'keras.layers.recurrent.LSTMCell'> to avoid naming conflicts when loading with `tf.keras.models.load_model`. If renaming is not possible, pass the object in the `custom_objects` parameter of the load function.\n",
            "WARNING:absl:<keras.layers.recurrent.LSTMCell object at 0x7f969017fd50> has the same name 'LSTMCell' as a built-in Keras object. Consider renaming <class 'keras.layers.recurrent.LSTMCell'> to avoid naming conflicts when loading with `tf.keras.models.load_model`. If renaming is not possible, pass the object in the `custom_objects` parameter of the load function.\n"
          ]
        },
        {
          "output_type": "stream",
          "name": "stdout",
          "text": [
            "\b\b\b\b\b\b\b\b\b\b\b\b\b\b\b\b\b\b\b\b\b\b\b\b\b\b\b\b\b\b\b\b\b\b\b\b\b\b\b\b\b\b\b\b\b\b\b\b\b\b\b\b\b\b\b\b\b\b\b\b\b\b\b\b\b\r18/18 [==============================] - 3s 162ms/step - loss: 139.3445 - val_loss: 734.0231\n",
            "Epoch 30/100\n",
            "15/18 [========================>.....] - ETA: 0s - loss: 131.4448"
          ]
        },
        {
          "output_type": "stream",
          "name": "stderr",
          "text": [
            "WARNING:absl:<keras.layers.recurrent.LSTMCell object at 0x7f9622168ed0> has the same name 'LSTMCell' as a built-in Keras object. Consider renaming <class 'keras.layers.recurrent.LSTMCell'> to avoid naming conflicts when loading with `tf.keras.models.load_model`. If renaming is not possible, pass the object in the `custom_objects` parameter of the load function.\n",
            "WARNING:absl:<keras.layers.recurrent.LSTMCell object at 0x7f969017fd50> has the same name 'LSTMCell' as a built-in Keras object. Consider renaming <class 'keras.layers.recurrent.LSTMCell'> to avoid naming conflicts when loading with `tf.keras.models.load_model`. If renaming is not possible, pass the object in the `custom_objects` parameter of the load function.\n"
          ]
        },
        {
          "output_type": "stream",
          "name": "stdout",
          "text": [
            "\b\b\b\b\b\b\b\b\b\b\b\b\b\b\b\b\b\b\b\b\b\b\b\b\b\b\b\b\b\b\b\b\b\b\b\b\b\b\b\b\b\b\b\b\b\b\b\b\b\b\b\b\b\b\b\b\b\b\b\b\b\b\b\b\b\r18/18 [==============================] - 3s 183ms/step - loss: 131.9276 - val_loss: 719.2014\n",
            "Epoch 31/100\n",
            "18/18 [==============================] - 0s 10ms/step - loss: 129.4118 - val_loss: 725.0233\n",
            "Epoch 32/100\n",
            "15/18 [========================>.....] - ETA: 0s - loss: 130.4928"
          ]
        },
        {
          "output_type": "stream",
          "name": "stderr",
          "text": [
            "WARNING:absl:<keras.layers.recurrent.LSTMCell object at 0x7f9622168ed0> has the same name 'LSTMCell' as a built-in Keras object. Consider renaming <class 'keras.layers.recurrent.LSTMCell'> to avoid naming conflicts when loading with `tf.keras.models.load_model`. If renaming is not possible, pass the object in the `custom_objects` parameter of the load function.\n",
            "WARNING:absl:<keras.layers.recurrent.LSTMCell object at 0x7f969017fd50> has the same name 'LSTMCell' as a built-in Keras object. Consider renaming <class 'keras.layers.recurrent.LSTMCell'> to avoid naming conflicts when loading with `tf.keras.models.load_model`. If renaming is not possible, pass the object in the `custom_objects` parameter of the load function.\n"
          ]
        },
        {
          "output_type": "stream",
          "name": "stdout",
          "text": [
            "\b\b\b\b\b\b\b\b\b\b\b\b\b\b\b\b\b\b\b\b\b\b\b\b\b\b\b\b\b\b\b\b\b\b\b\b\b\b\b\b\b\b\b\b\b\b\b\b\b\b\b\b\b\b\b\b\b\b\b\b\b\b\b\b\b\r18/18 [==============================] - 3s 164ms/step - loss: 130.1669 - val_loss: 704.6939\n",
            "Epoch 33/100\n",
            "18/18 [==============================] - 0s 10ms/step - loss: 136.5435 - val_loss: 875.5280\n",
            "Epoch 34/100\n",
            "15/18 [========================>.....] - ETA: 0s - loss: 130.4498"
          ]
        },
        {
          "output_type": "stream",
          "name": "stderr",
          "text": [
            "WARNING:absl:<keras.layers.recurrent.LSTMCell object at 0x7f9622168ed0> has the same name 'LSTMCell' as a built-in Keras object. Consider renaming <class 'keras.layers.recurrent.LSTMCell'> to avoid naming conflicts when loading with `tf.keras.models.load_model`. If renaming is not possible, pass the object in the `custom_objects` parameter of the load function.\n",
            "WARNING:absl:<keras.layers.recurrent.LSTMCell object at 0x7f969017fd50> has the same name 'LSTMCell' as a built-in Keras object. Consider renaming <class 'keras.layers.recurrent.LSTMCell'> to avoid naming conflicts when loading with `tf.keras.models.load_model`. If renaming is not possible, pass the object in the `custom_objects` parameter of the load function.\n"
          ]
        },
        {
          "output_type": "stream",
          "name": "stdout",
          "text": [
            "\b\b\b\b\b\b\b\b\b\b\b\b\b\b\b\b\b\b\b\b\b\b\b\b\b\b\b\b\b\b\b\b\b\b\b\b\b\b\b\b\b\b\b\b\b\b\b\b\b\b\b\b\b\b\b\b\b\b\b\b\b\b\b\b\b\r18/18 [==============================] - 3s 183ms/step - loss: 130.2927 - val_loss: 695.0261\n",
            "Epoch 35/100\n",
            "18/18 [==============================] - 0s 9ms/step - loss: 128.0374 - val_loss: 761.1411\n",
            "Epoch 36/100\n",
            "18/18 [==============================] - 0s 9ms/step - loss: 135.3583 - val_loss: 744.6118\n",
            "Epoch 37/100\n",
            "12/18 [===================>..........] - ETA: 0s - loss: 132.5027"
          ]
        },
        {
          "output_type": "stream",
          "name": "stderr",
          "text": [
            "WARNING:absl:<keras.layers.recurrent.LSTMCell object at 0x7f9622168ed0> has the same name 'LSTMCell' as a built-in Keras object. Consider renaming <class 'keras.layers.recurrent.LSTMCell'> to avoid naming conflicts when loading with `tf.keras.models.load_model`. If renaming is not possible, pass the object in the `custom_objects` parameter of the load function.\n",
            "WARNING:absl:<keras.layers.recurrent.LSTMCell object at 0x7f969017fd50> has the same name 'LSTMCell' as a built-in Keras object. Consider renaming <class 'keras.layers.recurrent.LSTMCell'> to avoid naming conflicts when loading with `tf.keras.models.load_model`. If renaming is not possible, pass the object in the `custom_objects` parameter of the load function.\n"
          ]
        },
        {
          "output_type": "stream",
          "name": "stdout",
          "text": [
            "\b\b\b\b\b\b\b\b\b\b\b\b\b\b\b\b\b\b\b\b\b\b\b\b\b\b\b\b\b\b\b\b\b\b\b\b\b\b\b\b\b\b\b\b\b\b\b\b\b\b\b\b\b\b\b\b\b\b\b\b\b\b\b\b\b\r18/18 [==============================] - 3s 162ms/step - loss: 128.0140 - val_loss: 664.7735\n",
            "Epoch 38/100\n",
            "15/18 [========================>.....] - ETA: 0s - loss: 120.4780"
          ]
        },
        {
          "output_type": "stream",
          "name": "stderr",
          "text": [
            "WARNING:absl:<keras.layers.recurrent.LSTMCell object at 0x7f9622168ed0> has the same name 'LSTMCell' as a built-in Keras object. Consider renaming <class 'keras.layers.recurrent.LSTMCell'> to avoid naming conflicts when loading with `tf.keras.models.load_model`. If renaming is not possible, pass the object in the `custom_objects` parameter of the load function.\n",
            "WARNING:absl:<keras.layers.recurrent.LSTMCell object at 0x7f969017fd50> has the same name 'LSTMCell' as a built-in Keras object. Consider renaming <class 'keras.layers.recurrent.LSTMCell'> to avoid naming conflicts when loading with `tf.keras.models.load_model`. If renaming is not possible, pass the object in the `custom_objects` parameter of the load function.\n"
          ]
        },
        {
          "output_type": "stream",
          "name": "stdout",
          "text": [
            "\b\b\b\b\b\b\b\b\b\b\b\b\b\b\b\b\b\b\b\b\b\b\b\b\b\b\b\b\b\b\b\b\b\b\b\b\b\b\b\b\b\b\b\b\b\b\b\b\b\b\b\b\b\b\b\b\b\b\b\b\b\b\b\b\b\r18/18 [==============================] - 3s 181ms/step - loss: 121.3200 - val_loss: 656.0449\n",
            "Epoch 39/100\n",
            "18/18 [==============================] - 0s 9ms/step - loss: 123.5569 - val_loss: 713.8704\n",
            "Epoch 40/100\n",
            "18/18 [==============================] - 0s 9ms/step - loss: 126.6805 - val_loss: 668.2296\n",
            "Epoch 41/100\n",
            "18/18 [==============================] - 0s 10ms/step - loss: 122.0442 - val_loss: 705.4567\n",
            "Epoch 42/100\n",
            "14/18 [======================>.......] - ETA: 0s - loss: 120.6413"
          ]
        },
        {
          "output_type": "stream",
          "name": "stderr",
          "text": [
            "WARNING:absl:<keras.layers.recurrent.LSTMCell object at 0x7f9622168ed0> has the same name 'LSTMCell' as a built-in Keras object. Consider renaming <class 'keras.layers.recurrent.LSTMCell'> to avoid naming conflicts when loading with `tf.keras.models.load_model`. If renaming is not possible, pass the object in the `custom_objects` parameter of the load function.\n",
            "WARNING:absl:<keras.layers.recurrent.LSTMCell object at 0x7f969017fd50> has the same name 'LSTMCell' as a built-in Keras object. Consider renaming <class 'keras.layers.recurrent.LSTMCell'> to avoid naming conflicts when loading with `tf.keras.models.load_model`. If renaming is not possible, pass the object in the `custom_objects` parameter of the load function.\n"
          ]
        },
        {
          "output_type": "stream",
          "name": "stdout",
          "text": [
            "\b\b\b\b\b\b\b\b\b\b\b\b\b\b\b\b\b\b\b\b\b\b\b\b\b\b\b\b\b\b\b\b\b\b\b\b\b\b\b\b\b\b\b\b\b\b\b\b\b\b\b\b\b\b\b\b\b\b\b\b\b\b\b\b\b\r18/18 [==============================] - 3s 163ms/step - loss: 122.0729 - val_loss: 651.8632\n",
            "Epoch 43/100\n",
            "18/18 [==============================] - 0s 10ms/step - loss: 119.5198 - val_loss: 683.7370\n",
            "Epoch 44/100\n",
            "14/18 [======================>.......] - ETA: 0s - loss: 130.0547"
          ]
        },
        {
          "output_type": "stream",
          "name": "stderr",
          "text": [
            "WARNING:absl:<keras.layers.recurrent.LSTMCell object at 0x7f9622168ed0> has the same name 'LSTMCell' as a built-in Keras object. Consider renaming <class 'keras.layers.recurrent.LSTMCell'> to avoid naming conflicts when loading with `tf.keras.models.load_model`. If renaming is not possible, pass the object in the `custom_objects` parameter of the load function.\n",
            "WARNING:absl:<keras.layers.recurrent.LSTMCell object at 0x7f969017fd50> has the same name 'LSTMCell' as a built-in Keras object. Consider renaming <class 'keras.layers.recurrent.LSTMCell'> to avoid naming conflicts when loading with `tf.keras.models.load_model`. If renaming is not possible, pass the object in the `custom_objects` parameter of the load function.\n"
          ]
        },
        {
          "output_type": "stream",
          "name": "stdout",
          "text": [
            "\b\b\b\b\b\b\b\b\b\b\b\b\b\b\b\b\b\b\b\b\b\b\b\b\b\b\b\b\b\b\b\b\b\b\b\b\b\b\b\b\b\b\b\b\b\b\b\b\b\b\b\b\b\b\b\b\b\b\b\b\b\b\b\b\b\r18/18 [==============================] - 3s 182ms/step - loss: 125.6495 - val_loss: 643.3057\n",
            "Epoch 45/100\n",
            "18/18 [==============================] - 0s 10ms/step - loss: 122.5404 - val_loss: 643.7916\n",
            "Epoch 46/100\n",
            "18/18 [==============================] - 0s 9ms/step - loss: 119.7447 - val_loss: 646.7115\n",
            "Epoch 47/100\n",
            "15/18 [========================>.....] - ETA: 0s - loss: 117.6447"
          ]
        },
        {
          "output_type": "stream",
          "name": "stderr",
          "text": [
            "WARNING:absl:<keras.layers.recurrent.LSTMCell object at 0x7f9622168ed0> has the same name 'LSTMCell' as a built-in Keras object. Consider renaming <class 'keras.layers.recurrent.LSTMCell'> to avoid naming conflicts when loading with `tf.keras.models.load_model`. If renaming is not possible, pass the object in the `custom_objects` parameter of the load function.\n",
            "WARNING:absl:<keras.layers.recurrent.LSTMCell object at 0x7f969017fd50> has the same name 'LSTMCell' as a built-in Keras object. Consider renaming <class 'keras.layers.recurrent.LSTMCell'> to avoid naming conflicts when loading with `tf.keras.models.load_model`. If renaming is not possible, pass the object in the `custom_objects` parameter of the load function.\n"
          ]
        },
        {
          "output_type": "stream",
          "name": "stdout",
          "text": [
            "\b\b\b\b\b\b\b\b\b\b\b\b\b\b\b\b\b\b\b\b\b\b\b\b\b\b\b\b\b\b\b\b\b\b\b\b\b\b\b\b\b\b\b\b\b\b\b\b\b\b\b\b\b\b\b\b\b\b\b\b\b\b\b\b\b\r18/18 [==============================] - 3s 163ms/step - loss: 119.6355 - val_loss: 640.9951\n",
            "Epoch 48/100\n",
            "18/18 [==============================] - 0s 10ms/step - loss: 120.5045 - val_loss: 673.1855\n",
            "Epoch 49/100\n",
            "18/18 [==============================] - 0s 10ms/step - loss: 123.8102 - val_loss: 668.9657\n",
            "Epoch 50/100\n",
            "15/18 [========================>.....] - ETA: 0s - loss: 120.4656"
          ]
        },
        {
          "output_type": "stream",
          "name": "stderr",
          "text": [
            "WARNING:absl:<keras.layers.recurrent.LSTMCell object at 0x7f9622168ed0> has the same name 'LSTMCell' as a built-in Keras object. Consider renaming <class 'keras.layers.recurrent.LSTMCell'> to avoid naming conflicts when loading with `tf.keras.models.load_model`. If renaming is not possible, pass the object in the `custom_objects` parameter of the load function.\n",
            "WARNING:absl:<keras.layers.recurrent.LSTMCell object at 0x7f969017fd50> has the same name 'LSTMCell' as a built-in Keras object. Consider renaming <class 'keras.layers.recurrent.LSTMCell'> to avoid naming conflicts when loading with `tf.keras.models.load_model`. If renaming is not possible, pass the object in the `custom_objects` parameter of the load function.\n"
          ]
        },
        {
          "output_type": "stream",
          "name": "stdout",
          "text": [
            "\b\b\b\b\b\b\b\b\b\b\b\b\b\b\b\b\b\b\b\b\b\b\b\b\b\b\b\b\b\b\b\b\b\b\b\b\b\b\b\b\b\b\b\b\b\b\b\b\b\b\b\b\b\b\b\b\b\b\b\b\b\b\b\b\b\r18/18 [==============================] - 4s 244ms/step - loss: 118.1027 - val_loss: 627.8533\n",
            "Epoch 51/100\n",
            "18/18 [==============================] - 0s 9ms/step - loss: 117.0606 - val_loss: 674.8830\n",
            "Epoch 52/100\n",
            "14/18 [======================>.......] - ETA: 0s - loss: 114.1821"
          ]
        },
        {
          "output_type": "stream",
          "name": "stderr",
          "text": [
            "WARNING:absl:<keras.layers.recurrent.LSTMCell object at 0x7f9622168ed0> has the same name 'LSTMCell' as a built-in Keras object. Consider renaming <class 'keras.layers.recurrent.LSTMCell'> to avoid naming conflicts when loading with `tf.keras.models.load_model`. If renaming is not possible, pass the object in the `custom_objects` parameter of the load function.\n",
            "WARNING:absl:<keras.layers.recurrent.LSTMCell object at 0x7f969017fd50> has the same name 'LSTMCell' as a built-in Keras object. Consider renaming <class 'keras.layers.recurrent.LSTMCell'> to avoid naming conflicts when loading with `tf.keras.models.load_model`. If renaming is not possible, pass the object in the `custom_objects` parameter of the load function.\n"
          ]
        },
        {
          "output_type": "stream",
          "name": "stdout",
          "text": [
            "\b\b\b\b\b\b\b\b\b\b\b\b\b\b\b\b\b\b\b\b\b\b\b\b\b\b\b\b\b\b\b\b\b\b\b\b\b\b\b\b\b\b\b\b\b\b\b\b\b\b\b\b\b\b\b\b\b\b\b\b\b\b\b\b\b\r18/18 [==============================] - 3s 163ms/step - loss: 116.4961 - val_loss: 623.6195\n",
            "Epoch 53/100\n",
            "18/18 [==============================] - 0s 10ms/step - loss: 123.4514 - val_loss: 698.1932\n",
            "Epoch 54/100\n",
            "14/18 [======================>.......] - ETA: 0s - loss: 116.6405"
          ]
        },
        {
          "output_type": "stream",
          "name": "stderr",
          "text": [
            "WARNING:absl:<keras.layers.recurrent.LSTMCell object at 0x7f9622168ed0> has the same name 'LSTMCell' as a built-in Keras object. Consider renaming <class 'keras.layers.recurrent.LSTMCell'> to avoid naming conflicts when loading with `tf.keras.models.load_model`. If renaming is not possible, pass the object in the `custom_objects` parameter of the load function.\n",
            "WARNING:absl:<keras.layers.recurrent.LSTMCell object at 0x7f969017fd50> has the same name 'LSTMCell' as a built-in Keras object. Consider renaming <class 'keras.layers.recurrent.LSTMCell'> to avoid naming conflicts when loading with `tf.keras.models.load_model`. If renaming is not possible, pass the object in the `custom_objects` parameter of the load function.\n"
          ]
        },
        {
          "output_type": "stream",
          "name": "stdout",
          "text": [
            "\b\b\b\b\b\b\b\b\b\b\b\b\b\b\b\b\b\b\b\b\b\b\b\b\b\b\b\b\b\b\b\b\b\b\b\b\b\b\b\b\b\b\b\b\b\b\b\b\b\b\b\b\b\b\b\b\b\b\b\b\b\b\b\b\b\r18/18 [==============================] - 3s 182ms/step - loss: 116.1769 - val_loss: 622.3278\n",
            "Epoch 55/100\n",
            "18/18 [==============================] - 0s 9ms/step - loss: 114.6307 - val_loss: 633.8741\n",
            "Epoch 56/100\n",
            "18/18 [==============================] - 0s 10ms/step - loss: 116.8095 - val_loss: 653.2859\n",
            "Epoch 57/100\n",
            "18/18 [==============================] - 0s 10ms/step - loss: 117.9597 - val_loss: 629.3963\n",
            "Epoch 58/100\n",
            "18/18 [==============================] - 0s 10ms/step - loss: 116.5917 - val_loss: 643.7540\n",
            "Epoch 59/100\n",
            "18/18 [==============================] - 0s 11ms/step - loss: 114.6288 - val_loss: 628.3549\n",
            "Epoch 60/100\n",
            "18/18 [==============================] - 0s 9ms/step - loss: 116.6253 - val_loss: 637.2620\n",
            "Epoch 61/100\n",
            "18/18 [==============================] - 0s 10ms/step - loss: 113.1136 - val_loss: 623.3672\n",
            "Epoch 62/100\n",
            "14/18 [======================>.......] - ETA: 0s - loss: 116.7695"
          ]
        },
        {
          "output_type": "stream",
          "name": "stderr",
          "text": [
            "WARNING:absl:<keras.layers.recurrent.LSTMCell object at 0x7f9622168ed0> has the same name 'LSTMCell' as a built-in Keras object. Consider renaming <class 'keras.layers.recurrent.LSTMCell'> to avoid naming conflicts when loading with `tf.keras.models.load_model`. If renaming is not possible, pass the object in the `custom_objects` parameter of the load function.\n",
            "WARNING:absl:<keras.layers.recurrent.LSTMCell object at 0x7f969017fd50> has the same name 'LSTMCell' as a built-in Keras object. Consider renaming <class 'keras.layers.recurrent.LSTMCell'> to avoid naming conflicts when loading with `tf.keras.models.load_model`. If renaming is not possible, pass the object in the `custom_objects` parameter of the load function.\n"
          ]
        },
        {
          "output_type": "stream",
          "name": "stdout",
          "text": [
            "\b\b\b\b\b\b\b\b\b\b\b\b\b\b\b\b\b\b\b\b\b\b\b\b\b\b\b\b\b\b\b\b\b\b\b\b\b\b\b\b\b\b\b\b\b\b\b\b\b\b\b\b\b\b\b\b\b\b\b\b\b\b\b\b\b\r18/18 [==============================] - 3s 165ms/step - loss: 114.5757 - val_loss: 615.3277\n",
            "Epoch 63/100\n",
            "18/18 [==============================] - 0s 9ms/step - loss: 114.6384 - val_loss: 618.6620\n",
            "Epoch 64/100\n",
            "14/18 [======================>.......] - ETA: 0s - loss: 112.8398"
          ]
        },
        {
          "output_type": "stream",
          "name": "stderr",
          "text": [
            "WARNING:absl:<keras.layers.recurrent.LSTMCell object at 0x7f9622168ed0> has the same name 'LSTMCell' as a built-in Keras object. Consider renaming <class 'keras.layers.recurrent.LSTMCell'> to avoid naming conflicts when loading with `tf.keras.models.load_model`. If renaming is not possible, pass the object in the `custom_objects` parameter of the load function.\n",
            "WARNING:absl:<keras.layers.recurrent.LSTMCell object at 0x7f969017fd50> has the same name 'LSTMCell' as a built-in Keras object. Consider renaming <class 'keras.layers.recurrent.LSTMCell'> to avoid naming conflicts when loading with `tf.keras.models.load_model`. If renaming is not possible, pass the object in the `custom_objects` parameter of the load function.\n"
          ]
        },
        {
          "output_type": "stream",
          "name": "stdout",
          "text": [
            "\b\b\b\b\b\b\b\b\b\b\b\b\b\b\b\b\b\b\b\b\b\b\b\b\b\b\b\b\b\b\b\b\b\b\b\b\b\b\b\b\b\b\b\b\b\b\b\b\b\b\b\b\b\b\b\b\b\b\b\b\b\b\b\b\b\r18/18 [==============================] - 3s 165ms/step - loss: 113.1574 - val_loss: 607.0154\n",
            "Epoch 65/100\n",
            "18/18 [==============================] - 0s 10ms/step - loss: 112.0642 - val_loss: 729.9648\n",
            "Epoch 66/100\n",
            "18/18 [==============================] - 0s 10ms/step - loss: 119.6245 - val_loss: 691.6133\n",
            "Epoch 67/100\n",
            "15/18 [========================>.....] - ETA: 0s - loss: 119.4282"
          ]
        },
        {
          "output_type": "stream",
          "name": "stderr",
          "text": [
            "WARNING:absl:<keras.layers.recurrent.LSTMCell object at 0x7f9622168ed0> has the same name 'LSTMCell' as a built-in Keras object. Consider renaming <class 'keras.layers.recurrent.LSTMCell'> to avoid naming conflicts when loading with `tf.keras.models.load_model`. If renaming is not possible, pass the object in the `custom_objects` parameter of the load function.\n",
            "WARNING:absl:<keras.layers.recurrent.LSTMCell object at 0x7f969017fd50> has the same name 'LSTMCell' as a built-in Keras object. Consider renaming <class 'keras.layers.recurrent.LSTMCell'> to avoid naming conflicts when loading with `tf.keras.models.load_model`. If renaming is not possible, pass the object in the `custom_objects` parameter of the load function.\n"
          ]
        },
        {
          "output_type": "stream",
          "name": "stdout",
          "text": [
            "\b\b\b\b\b\b\b\b\b\b\b\b\b\b\b\b\b\b\b\b\b\b\b\b\b\b\b\b\b\b\b\b\b\b\b\b\b\b\b\b\b\b\b\b\b\b\b\b\b\b\b\b\b\b\b\b\b\b\b\b\b\b\b\b\b\r18/18 [==============================] - 3s 186ms/step - loss: 119.9071 - val_loss: 604.2133\n",
            "Epoch 68/100\n",
            "18/18 [==============================] - 0s 10ms/step - loss: 112.9986 - val_loss: 613.0877\n",
            "Epoch 69/100\n",
            "18/18 [==============================] - 0s 9ms/step - loss: 112.2479 - val_loss: 623.4889\n",
            "Epoch 70/100\n",
            "18/18 [==============================] - 0s 9ms/step - loss: 112.9443 - val_loss: 628.4484\n",
            "Epoch 71/100\n",
            "18/18 [==============================] - 0s 10ms/step - loss: 111.1151 - val_loss: 613.8953\n",
            "Epoch 72/100\n",
            "18/18 [==============================] - 0s 10ms/step - loss: 111.7479 - val_loss: 688.9578\n",
            "Epoch 73/100\n",
            "18/18 [==============================] - 0s 9ms/step - loss: 113.7454 - val_loss: 615.4250\n",
            "Epoch 74/100\n",
            "15/18 [========================>.....] - ETA: 0s - loss: 111.8237"
          ]
        },
        {
          "output_type": "stream",
          "name": "stderr",
          "text": [
            "WARNING:absl:<keras.layers.recurrent.LSTMCell object at 0x7f9622168ed0> has the same name 'LSTMCell' as a built-in Keras object. Consider renaming <class 'keras.layers.recurrent.LSTMCell'> to avoid naming conflicts when loading with `tf.keras.models.load_model`. If renaming is not possible, pass the object in the `custom_objects` parameter of the load function.\n",
            "WARNING:absl:<keras.layers.recurrent.LSTMCell object at 0x7f969017fd50> has the same name 'LSTMCell' as a built-in Keras object. Consider renaming <class 'keras.layers.recurrent.LSTMCell'> to avoid naming conflicts when loading with `tf.keras.models.load_model`. If renaming is not possible, pass the object in the `custom_objects` parameter of the load function.\n"
          ]
        },
        {
          "output_type": "stream",
          "name": "stdout",
          "text": [
            "\b\b\b\b\b\b\b\b\b\b\b\b\b\b\b\b\b\b\b\b\b\b\b\b\b\b\b\b\b\b\b\b\b\b\b\b\b\b\b\b\b\b\b\b\b\b\b\b\b\b\b\b\b\b\b\b\b\b\b\b\b\b\b\b\b\r18/18 [==============================] - 3s 162ms/step - loss: 114.0737 - val_loss: 597.9750\n",
            "Epoch 75/100\n",
            "15/18 [========================>.....] - ETA: 0s - loss: 111.2448"
          ]
        },
        {
          "output_type": "stream",
          "name": "stderr",
          "text": [
            "WARNING:absl:<keras.layers.recurrent.LSTMCell object at 0x7f9622168ed0> has the same name 'LSTMCell' as a built-in Keras object. Consider renaming <class 'keras.layers.recurrent.LSTMCell'> to avoid naming conflicts when loading with `tf.keras.models.load_model`. If renaming is not possible, pass the object in the `custom_objects` parameter of the load function.\n",
            "WARNING:absl:<keras.layers.recurrent.LSTMCell object at 0x7f969017fd50> has the same name 'LSTMCell' as a built-in Keras object. Consider renaming <class 'keras.layers.recurrent.LSTMCell'> to avoid naming conflicts when loading with `tf.keras.models.load_model`. If renaming is not possible, pass the object in the `custom_objects` parameter of the load function.\n"
          ]
        },
        {
          "output_type": "stream",
          "name": "stdout",
          "text": [
            "\b\b\b\b\b\b\b\b\b\b\b\b\b\b\b\b\b\b\b\b\b\b\b\b\b\b\b\b\b\b\b\b\b\b\b\b\b\b\b\b\b\b\b\b\b\b\b\b\b\b\b\b\b\b\b\b\b\b\b\b\b\b\b\b\b\r18/18 [==============================] - 3s 184ms/step - loss: 112.3824 - val_loss: 597.3547\n",
            "Epoch 76/100\n",
            "18/18 [==============================] - 0s 10ms/step - loss: 110.8863 - val_loss: 607.8293\n",
            "Epoch 77/100\n",
            "15/18 [========================>.....] - ETA: 0s - loss: 115.2083"
          ]
        },
        {
          "output_type": "stream",
          "name": "stderr",
          "text": [
            "WARNING:absl:<keras.layers.recurrent.LSTMCell object at 0x7f9622168ed0> has the same name 'LSTMCell' as a built-in Keras object. Consider renaming <class 'keras.layers.recurrent.LSTMCell'> to avoid naming conflicts when loading with `tf.keras.models.load_model`. If renaming is not possible, pass the object in the `custom_objects` parameter of the load function.\n",
            "WARNING:absl:<keras.layers.recurrent.LSTMCell object at 0x7f969017fd50> has the same name 'LSTMCell' as a built-in Keras object. Consider renaming <class 'keras.layers.recurrent.LSTMCell'> to avoid naming conflicts when loading with `tf.keras.models.load_model`. If renaming is not possible, pass the object in the `custom_objects` parameter of the load function.\n"
          ]
        },
        {
          "output_type": "stream",
          "name": "stdout",
          "text": [
            "\b\b\b\b\b\b\b\b\b\b\b\b\b\b\b\b\b\b\b\b\b\b\b\b\b\b\b\b\b\b\b\b\b\b\b\b\b\b\b\b\b\b\b\b\b\b\b\b\b\b\b\b\b\b\b\b\b\b\b\b\b\b\b\b\b\r18/18 [==============================] - 3s 162ms/step - loss: 112.0727 - val_loss: 595.0363\n",
            "Epoch 78/100\n",
            "13/18 [====================>.........] - ETA: 0s - loss: 113.6952"
          ]
        },
        {
          "output_type": "stream",
          "name": "stderr",
          "text": [
            "WARNING:absl:<keras.layers.recurrent.LSTMCell object at 0x7f9622168ed0> has the same name 'LSTMCell' as a built-in Keras object. Consider renaming <class 'keras.layers.recurrent.LSTMCell'> to avoid naming conflicts when loading with `tf.keras.models.load_model`. If renaming is not possible, pass the object in the `custom_objects` parameter of the load function.\n",
            "WARNING:absl:<keras.layers.recurrent.LSTMCell object at 0x7f969017fd50> has the same name 'LSTMCell' as a built-in Keras object. Consider renaming <class 'keras.layers.recurrent.LSTMCell'> to avoid naming conflicts when loading with `tf.keras.models.load_model`. If renaming is not possible, pass the object in the `custom_objects` parameter of the load function.\n"
          ]
        },
        {
          "output_type": "stream",
          "name": "stdout",
          "text": [
            "\b\b\b\b\b\b\b\b\b\b\b\b\b\b\b\b\b\b\b\b\b\b\b\b\b\b\b\b\b\b\b\b\b\b\b\b\b\b\b\b\b\b\b\b\b\b\b\b\b\b\b\b\b\b\b\b\b\b\b\b\b\b\b\b\b\r18/18 [==============================] - 3s 181ms/step - loss: 112.5515 - val_loss: 591.4658\n",
            "Epoch 79/100\n",
            "18/18 [==============================] - 0s 9ms/step - loss: 109.9527 - val_loss: 602.4720\n",
            "Epoch 80/100\n",
            "18/18 [==============================] - 0s 10ms/step - loss: 110.9635 - val_loss: 625.2993\n",
            "Epoch 81/100\n",
            "18/18 [==============================] - 0s 9ms/step - loss: 112.7267 - val_loss: 702.6656\n",
            "Epoch 82/100\n",
            "18/18 [==============================] - 0s 9ms/step - loss: 126.6040 - val_loss: 725.5335\n",
            "Epoch 83/100\n",
            "18/18 [==============================] - 0s 10ms/step - loss: 122.1339 - val_loss: 602.1848\n",
            "Epoch 84/100\n",
            "18/18 [==============================] - 0s 10ms/step - loss: 119.6735 - val_loss: 595.8854\n",
            "Epoch 85/100\n",
            "18/18 [==============================] - 0s 9ms/step - loss: 113.1481 - val_loss: 630.1080\n",
            "Epoch 86/100\n",
            "18/18 [==============================] - 0s 9ms/step - loss: 113.2471 - val_loss: 606.7273\n",
            "Epoch 87/100\n",
            "14/18 [======================>.......] - ETA: 0s - loss: 102.6960"
          ]
        },
        {
          "output_type": "stream",
          "name": "stderr",
          "text": [
            "WARNING:absl:<keras.layers.recurrent.LSTMCell object at 0x7f9622168ed0> has the same name 'LSTMCell' as a built-in Keras object. Consider renaming <class 'keras.layers.recurrent.LSTMCell'> to avoid naming conflicts when loading with `tf.keras.models.load_model`. If renaming is not possible, pass the object in the `custom_objects` parameter of the load function.\n",
            "WARNING:absl:<keras.layers.recurrent.LSTMCell object at 0x7f969017fd50> has the same name 'LSTMCell' as a built-in Keras object. Consider renaming <class 'keras.layers.recurrent.LSTMCell'> to avoid naming conflicts when loading with `tf.keras.models.load_model`. If renaming is not possible, pass the object in the `custom_objects` parameter of the load function.\n"
          ]
        },
        {
          "output_type": "stream",
          "name": "stdout",
          "text": [
            "\b\b\b\b\b\b\b\b\b\b\b\b\b\b\b\b\b\b\b\b\b\b\b\b\b\b\b\b\b\b\b\b\b\b\b\b\b\b\b\b\b\b\b\b\b\b\b\b\b\b\b\b\b\b\b\b\b\b\b\b\b\b\b\b\b\r18/18 [==============================] - 3s 161ms/step - loss: 109.3554 - val_loss: 588.4008\n",
            "Epoch 88/100\n",
            "15/18 [========================>.....] - ETA: 0s - loss: 112.5787"
          ]
        },
        {
          "output_type": "stream",
          "name": "stderr",
          "text": [
            "WARNING:absl:<keras.layers.recurrent.LSTMCell object at 0x7f9622168ed0> has the same name 'LSTMCell' as a built-in Keras object. Consider renaming <class 'keras.layers.recurrent.LSTMCell'> to avoid naming conflicts when loading with `tf.keras.models.load_model`. If renaming is not possible, pass the object in the `custom_objects` parameter of the load function.\n",
            "WARNING:absl:<keras.layers.recurrent.LSTMCell object at 0x7f969017fd50> has the same name 'LSTMCell' as a built-in Keras object. Consider renaming <class 'keras.layers.recurrent.LSTMCell'> to avoid naming conflicts when loading with `tf.keras.models.load_model`. If renaming is not possible, pass the object in the `custom_objects` parameter of the load function.\n"
          ]
        },
        {
          "output_type": "stream",
          "name": "stdout",
          "text": [
            "\b\b\b\b\b\b\b\b\b\b\b\b\b\b\b\b\b\b\b\b\b\b\b\b\b\b\b\b\b\b\b\b\b\b\b\b\b\b\b\b\b\b\b\b\b\b\b\b\b\b\b\b\b\b\b\b\b\b\b\b\b\b\b\b\b\r18/18 [==============================] - 3s 183ms/step - loss: 109.5895 - val_loss: 587.8959\n",
            "Epoch 89/100\n",
            "13/18 [====================>.........] - ETA: 0s - loss: 115.0052"
          ]
        },
        {
          "output_type": "stream",
          "name": "stderr",
          "text": [
            "WARNING:absl:<keras.layers.recurrent.LSTMCell object at 0x7f9622168ed0> has the same name 'LSTMCell' as a built-in Keras object. Consider renaming <class 'keras.layers.recurrent.LSTMCell'> to avoid naming conflicts when loading with `tf.keras.models.load_model`. If renaming is not possible, pass the object in the `custom_objects` parameter of the load function.\n",
            "WARNING:absl:<keras.layers.recurrent.LSTMCell object at 0x7f969017fd50> has the same name 'LSTMCell' as a built-in Keras object. Consider renaming <class 'keras.layers.recurrent.LSTMCell'> to avoid naming conflicts when loading with `tf.keras.models.load_model`. If renaming is not possible, pass the object in the `custom_objects` parameter of the load function.\n"
          ]
        },
        {
          "output_type": "stream",
          "name": "stdout",
          "text": [
            "\b\b\b\b\b\b\b\b\b\b\b\b\b\b\b\b\b\b\b\b\b\b\b\b\b\b\b\b\b\b\b\b\b\b\b\b\b\b\b\b\b\b\b\b\b\b\b\b\b\b\b\b\b\b\b\b\b\b\b\b\b\b\b\b\b\r18/18 [==============================] - 3s 163ms/step - loss: 110.3431 - val_loss: 585.4905\n",
            "Epoch 90/100\n",
            "14/18 [======================>.......] - ETA: 0s - loss: 111.4700"
          ]
        },
        {
          "output_type": "stream",
          "name": "stderr",
          "text": [
            "WARNING:absl:<keras.layers.recurrent.LSTMCell object at 0x7f9622168ed0> has the same name 'LSTMCell' as a built-in Keras object. Consider renaming <class 'keras.layers.recurrent.LSTMCell'> to avoid naming conflicts when loading with `tf.keras.models.load_model`. If renaming is not possible, pass the object in the `custom_objects` parameter of the load function.\n",
            "WARNING:absl:<keras.layers.recurrent.LSTMCell object at 0x7f969017fd50> has the same name 'LSTMCell' as a built-in Keras object. Consider renaming <class 'keras.layers.recurrent.LSTMCell'> to avoid naming conflicts when loading with `tf.keras.models.load_model`. If renaming is not possible, pass the object in the `custom_objects` parameter of the load function.\n"
          ]
        },
        {
          "output_type": "stream",
          "name": "stdout",
          "text": [
            "\b\b\b\b\b\b\b\b\b\b\b\b\b\b\b\b\b\b\b\b\b\b\b\b\b\b\b\b\b\b\b\b\b\b\b\b\b\b\b\b\b\b\b\b\b\b\b\b\b\b\b\b\b\b\b\b\b\b\b\b\b\b\b\b\b\r18/18 [==============================] - 3s 183ms/step - loss: 111.8889 - val_loss: 585.1025\n",
            "Epoch 91/100\n",
            "15/18 [========================>.....] - ETA: 0s - loss: 111.0798"
          ]
        },
        {
          "output_type": "stream",
          "name": "stderr",
          "text": [
            "WARNING:absl:<keras.layers.recurrent.LSTMCell object at 0x7f9622168ed0> has the same name 'LSTMCell' as a built-in Keras object. Consider renaming <class 'keras.layers.recurrent.LSTMCell'> to avoid naming conflicts when loading with `tf.keras.models.load_model`. If renaming is not possible, pass the object in the `custom_objects` parameter of the load function.\n",
            "WARNING:absl:<keras.layers.recurrent.LSTMCell object at 0x7f969017fd50> has the same name 'LSTMCell' as a built-in Keras object. Consider renaming <class 'keras.layers.recurrent.LSTMCell'> to avoid naming conflicts when loading with `tf.keras.models.load_model`. If renaming is not possible, pass the object in the `custom_objects` parameter of the load function.\n"
          ]
        },
        {
          "output_type": "stream",
          "name": "stdout",
          "text": [
            "\b\b\b\b\b\b\b\b\b\b\b\b\b\b\b\b\b\b\b\b\b\b\b\b\b\b\b\b\b\b\b\b\b\b\b\b\b\b\b\b\b\b\b\b\b\b\b\b\b\b\b\b\b\b\b\b\b\b\b\b\b\b\b\b\b\r18/18 [==============================] - 3s 162ms/step - loss: 110.0807 - val_loss: 583.9009\n",
            "Epoch 92/100\n",
            "18/18 [==============================] - 0s 10ms/step - loss: 111.0623 - val_loss: 615.3658\n",
            "Epoch 93/100\n",
            "18/18 [==============================] - 0s 10ms/step - loss: 111.7589 - val_loss: 623.5480\n",
            "Epoch 94/100\n",
            "18/18 [==============================] - 0s 10ms/step - loss: 112.9805 - val_loss: 640.4047\n",
            "Epoch 95/100\n",
            "18/18 [==============================] - 0s 11ms/step - loss: 120.4041 - val_loss: 651.3787\n",
            "Epoch 96/100\n",
            "18/18 [==============================] - 0s 9ms/step - loss: 121.5724 - val_loss: 688.7108\n",
            "Epoch 97/100\n",
            "18/18 [==============================] - 0s 11ms/step - loss: 114.8130 - val_loss: 614.6755\n",
            "Epoch 98/100\n",
            "14/18 [======================>.......] - ETA: 0s - loss: 109.6585"
          ]
        },
        {
          "output_type": "stream",
          "name": "stderr",
          "text": [
            "WARNING:absl:<keras.layers.recurrent.LSTMCell object at 0x7f9622168ed0> has the same name 'LSTMCell' as a built-in Keras object. Consider renaming <class 'keras.layers.recurrent.LSTMCell'> to avoid naming conflicts when loading with `tf.keras.models.load_model`. If renaming is not possible, pass the object in the `custom_objects` parameter of the load function.\n",
            "WARNING:absl:<keras.layers.recurrent.LSTMCell object at 0x7f969017fd50> has the same name 'LSTMCell' as a built-in Keras object. Consider renaming <class 'keras.layers.recurrent.LSTMCell'> to avoid naming conflicts when loading with `tf.keras.models.load_model`. If renaming is not possible, pass the object in the `custom_objects` parameter of the load function.\n"
          ]
        },
        {
          "output_type": "stream",
          "name": "stdout",
          "text": [
            "\b\b\b\b\b\b\b\b\b\b\b\b\b\b\b\b\b\b\b\b\b\b\b\b\b\b\b\b\b\b\b\b\b\b\b\b\b\b\b\b\b\b\b\b\b\b\b\b\b\b\b\b\b\b\b\b\b\b\b\b\b\b\b\b\b\r18/18 [==============================] - 3s 188ms/step - loss: 109.7726 - val_loss: 581.9363\n",
            "Epoch 99/100\n",
            "18/18 [==============================] - 0s 10ms/step - loss: 114.0046 - val_loss: 609.6040\n",
            "Epoch 100/100\n",
            "18/18 [==============================] - 0s 10ms/step - loss: 113.1686 - val_loss: 587.9632\n"
          ]
        },
        {
          "output_type": "execute_result",
          "data": {
            "text/plain": [
              "<keras.callbacks.History at 0x7f960b02e210>"
            ]
          },
          "metadata": {},
          "execution_count": 51
        }
      ]
    },
    {
      "cell_type": "code",
      "source": [
        "model_5 = tf.keras.models.load_model(\"/content/model_experiments/model_5_LSTM\")\n",
        "model_5.evaluate(test_windows, test_labels)"
      ],
      "metadata": {
        "colab": {
          "base_uri": "https://localhost:8080/"
        },
        "id": "T3m0nMWs-TfT",
        "outputId": "1a56e528-a6d5-490f-a3b4-850ec1f2273c"
      },
      "execution_count": 52,
      "outputs": [
        {
          "output_type": "stream",
          "name": "stderr",
          "text": [
            "WARNING:tensorflow:Layer lstm will not use cuDNN kernels since it doesn't meet the criteria. It will use a generic GPU kernel as fallback when running on GPU.\n",
            "WARNING:tensorflow:Layer lstm_1 will not use cuDNN kernels since it doesn't meet the criteria. It will use a generic GPU kernel as fallback when running on GPU.\n"
          ]
        },
        {
          "output_type": "stream",
          "name": "stdout",
          "text": [
            "18/18 [==============================] - 0s 4ms/step - loss: 581.9362\n"
          ]
        },
        {
          "output_type": "execute_result",
          "data": {
            "text/plain": [
              "581.9361572265625"
            ]
          },
          "metadata": {},
          "execution_count": 52
        }
      ]
    },
    {
      "cell_type": "code",
      "source": [
        "model_5_preds = tf.squeeze(model_5.predict(test_windows))\n",
        "\n",
        "model_5_results = evaluate_preds(\n",
        "    tf.squeeze(test_labels),\n",
        "    model_5_preds\n",
        ")\n",
        "\n",
        "model_5_results"
      ],
      "metadata": {
        "colab": {
          "base_uri": "https://localhost:8080/"
        },
        "id": "wA8MolBN-hkm",
        "outputId": "8a6630c9-cc8b-44c2-d60c-7bacada13ffa"
      },
      "execution_count": 53,
      "outputs": [
        {
          "output_type": "execute_result",
          "data": {
            "text/plain": [
              "{'mae': 581.9363,\n",
              " 'mape': 2.6034844,\n",
              " 'mase': 1.0223008,\n",
              " 'mse': 1208274.9,\n",
              " 'rmse': 1099.2156}"
            ]
          },
          "metadata": {},
          "execution_count": 53
        }
      ]
    }
  ]
}