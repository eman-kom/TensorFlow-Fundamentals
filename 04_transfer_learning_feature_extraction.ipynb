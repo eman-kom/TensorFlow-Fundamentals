{
  "nbformat": 4,
  "nbformat_minor": 0,
  "metadata": {
    "colab": {
      "name": "04_transfer_learning_feature_extraction.ipynb",
      "provenance": [],
      "authorship_tag": "ABX9TyOjRzUotcRw/nU+LNk39Nph",
      "include_colab_link": true
    },
    "kernelspec": {
      "name": "python3",
      "display_name": "Python 3"
    },
    "language_info": {
      "name": "python"
    },
    "accelerator": "GPU"
  },
  "cells": [
    {
      "cell_type": "markdown",
      "metadata": {
        "id": "view-in-github",
        "colab_type": "text"
      },
      "source": [
        "<a href=\"https://colab.research.google.com/github/eman-kom/tensorflow-fundamentals/blob/main/04_transfer_learning_feature_extraction.ipynb\" target=\"_parent\"><img src=\"https://colab.research.google.com/assets/colab-badge.svg\" alt=\"Open In Colab\"/></a>"
      ]
    },
    {
      "cell_type": "code",
      "execution_count": null,
      "metadata": {
        "colab": {
          "base_uri": "https://localhost:8080/"
        },
        "id": "-t-VUxDuOfdA",
        "outputId": "2433b860-3f76-4c0d-912d-af172c7d0303"
      },
      "outputs": [
        {
          "output_type": "stream",
          "name": "stdout",
          "text": [
            "Sat Jun  4 06:31:27 2022       \n",
            "+-----------------------------------------------------------------------------+\n",
            "| NVIDIA-SMI 460.32.03    Driver Version: 460.32.03    CUDA Version: 11.2     |\n",
            "|-------------------------------+----------------------+----------------------+\n",
            "| GPU  Name        Persistence-M| Bus-Id        Disp.A | Volatile Uncorr. ECC |\n",
            "| Fan  Temp  Perf  Pwr:Usage/Cap|         Memory-Usage | GPU-Util  Compute M. |\n",
            "|                               |                      |               MIG M. |\n",
            "|===============================+======================+======================|\n",
            "|   0  Tesla T4            Off  | 00000000:00:04.0 Off |                    0 |\n",
            "| N/A   37C    P8     9W /  70W |      0MiB / 15109MiB |      0%      Default |\n",
            "|                               |                      |                  N/A |\n",
            "+-------------------------------+----------------------+----------------------+\n",
            "                                                                               \n",
            "+-----------------------------------------------------------------------------+\n",
            "| Processes:                                                                  |\n",
            "|  GPU   GI   CI        PID   Type   Process name                  GPU Memory |\n",
            "|        ID   ID                                                   Usage      |\n",
            "|=============================================================================|\n",
            "|  No running processes found                                                 |\n",
            "+-----------------------------------------------------------------------------+\n"
          ]
        }
      ],
      "source": [
        "!nvidia-smi"
      ]
    },
    {
      "cell_type": "code",
      "source": [
        "import zipfile\n",
        "!wget https://storage.googleapis.com/ztm_tf_course/food_vision/10_food_classes_10_percent.zip\n",
        "zip_ref = zipfile.ZipFile(\"10_food_classes_10_percent.zip\")\n",
        "zip_ref.extractall()\n",
        "zip_ref.close()"
      ],
      "metadata": {
        "colab": {
          "base_uri": "https://localhost:8080/"
        },
        "id": "x36Bc-D7Ph9Z",
        "outputId": "c186687c-4f44-4058-f39d-5edfacb5ad2f"
      },
      "execution_count": null,
      "outputs": [
        {
          "output_type": "stream",
          "name": "stdout",
          "text": [
            "--2022-06-04 06:31:28--  https://storage.googleapis.com/ztm_tf_course/food_vision/10_food_classes_10_percent.zip\n",
            "Resolving storage.googleapis.com (storage.googleapis.com)... 74.125.69.128, 173.194.194.128, 173.194.196.128, ...\n",
            "Connecting to storage.googleapis.com (storage.googleapis.com)|74.125.69.128|:443... connected.\n",
            "HTTP request sent, awaiting response... 200 OK\n",
            "Length: 168546183 (161M) [application/zip]\n",
            "Saving to: ‘10_food_classes_10_percent.zip.2’\n",
            "\n",
            "10_food_classes_10_ 100%[===================>] 160.74M   265MB/s    in 0.6s    \n",
            "\n",
            "2022-06-04 06:31:29 (265 MB/s) - ‘10_food_classes_10_percent.zip.2’ saved [168546183/168546183]\n",
            "\n"
          ]
        }
      ]
    },
    {
      "cell_type": "code",
      "source": [
        "import os\n",
        "\n",
        "for dirpath, dirnames, filenames in os.walk(\"10_food_classes_10_percent\"):\n",
        "  print(len(dirnames), \"directories\\t\", len(filenames), \"images\\t\", dirpath)"
      ],
      "metadata": {
        "colab": {
          "base_uri": "https://localhost:8080/"
        },
        "id": "ExxNyaleP4zg",
        "outputId": "2e3252e3-4209-4c51-b077-eda9d7d23b45"
      },
      "execution_count": null,
      "outputs": [
        {
          "output_type": "stream",
          "name": "stdout",
          "text": [
            "2 directories\t 0 images\t 10_food_classes_10_percent\n",
            "10 directories\t 0 images\t 10_food_classes_10_percent/train\n",
            "0 directories\t 75 images\t 10_food_classes_10_percent/train/chicken_curry\n",
            "0 directories\t 75 images\t 10_food_classes_10_percent/train/steak\n",
            "0 directories\t 75 images\t 10_food_classes_10_percent/train/sushi\n",
            "0 directories\t 75 images\t 10_food_classes_10_percent/train/fried_rice\n",
            "0 directories\t 75 images\t 10_food_classes_10_percent/train/ice_cream\n",
            "0 directories\t 75 images\t 10_food_classes_10_percent/train/hamburger\n",
            "0 directories\t 75 images\t 10_food_classes_10_percent/train/chicken_wings\n",
            "0 directories\t 75 images\t 10_food_classes_10_percent/train/ramen\n",
            "0 directories\t 75 images\t 10_food_classes_10_percent/train/pizza\n",
            "0 directories\t 75 images\t 10_food_classes_10_percent/train/grilled_salmon\n",
            "10 directories\t 0 images\t 10_food_classes_10_percent/test\n",
            "0 directories\t 250 images\t 10_food_classes_10_percent/test/chicken_curry\n",
            "0 directories\t 250 images\t 10_food_classes_10_percent/test/steak\n",
            "0 directories\t 250 images\t 10_food_classes_10_percent/test/sushi\n",
            "0 directories\t 250 images\t 10_food_classes_10_percent/test/fried_rice\n",
            "0 directories\t 250 images\t 10_food_classes_10_percent/test/ice_cream\n",
            "0 directories\t 250 images\t 10_food_classes_10_percent/test/hamburger\n",
            "0 directories\t 250 images\t 10_food_classes_10_percent/test/chicken_wings\n",
            "0 directories\t 250 images\t 10_food_classes_10_percent/test/ramen\n",
            "0 directories\t 250 images\t 10_food_classes_10_percent/test/pizza\n",
            "0 directories\t 250 images\t 10_food_classes_10_percent/test/grilled_salmon\n"
          ]
        }
      ]
    },
    {
      "cell_type": "code",
      "source": [
        "from tensorflow.keras.preprocessing.image import ImageDataGenerator\n",
        "\n",
        "IMAGE_SHAPE = (224, 224)\n",
        "BATCH_SIZE = 32\n",
        "\n",
        "train_dir = \"10_food_classes_10_percent/train/\"\n",
        "test_dir = \"10_food_classes_10_percent/test/\"\n",
        "\n",
        "train_datagen = ImageDataGenerator(rescale=1/255.)\n",
        "test_datagen = ImageDataGenerator(rescale=1/255.)\n",
        "\n",
        "train_data_10_percent = train_datagen.flow_from_directory(\n",
        "    train_dir,\n",
        "    target_size=IMAGE_SHAPE,\n",
        "    batch_size=BATCH_SIZE,\n",
        "    class_mode=\"categorical\"\n",
        ")\n",
        "\n",
        "test_data_10_percent = test_datagen.flow_from_directory(\n",
        "    test_dir,\n",
        "    target_size=IMAGE_SHAPE,\n",
        "    batch_size=BATCH_SIZE,\n",
        "    class_mode=\"categorical\"\n",
        ")"
      ],
      "metadata": {
        "colab": {
          "base_uri": "https://localhost:8080/"
        },
        "id": "c3-MaTn6QR2g",
        "outputId": "0ff27c1c-51d8-42ef-ee79-bcc8eea75f05"
      },
      "execution_count": null,
      "outputs": [
        {
          "output_type": "stream",
          "name": "stdout",
          "text": [
            "Found 750 images belonging to 10 classes.\n",
            "Found 2500 images belonging to 10 classes.\n"
          ]
        }
      ]
    },
    {
      "cell_type": "code",
      "source": [
        "import datetime\n",
        "\n",
        "def create_tensorboard_callback(dir_name, experiment_name):\n",
        "  log_dir = dir_name + '/' + experiment_name + '/' + datetime.datetime.now().strftime('%Y%m%d-%H%M%S')\n",
        "  tensorboard_callback = tf.keras.callbacks.TensorBoard(log_dir)\n",
        "  return tensorboard_callback"
      ],
      "metadata": {
        "id": "CUkiFfeARNBX"
      },
      "execution_count": null,
      "outputs": []
    },
    {
      "cell_type": "code",
      "source": [
        "res_net = \"https://tfhub.dev/google/imagenet/resnet_v2_50/feature_vector/4\"\n",
        "efficient_net = \"https://tfhub.dev/tensorflow/efficientnet/b0/feature-vector/1\""
      ],
      "metadata": {
        "id": "YhZAi8sFY0_8"
      },
      "execution_count": null,
      "outputs": []
    },
    {
      "cell_type": "code",
      "source": [
        "import tensorflow as tf\n",
        "import tensorflow_hub as hub\n",
        "from tensorflow.keras import layers"
      ],
      "metadata": {
        "id": "HDoeFPUFZNBN"
      },
      "execution_count": null,
      "outputs": []
    },
    {
      "cell_type": "code",
      "source": [
        "def create_model(model_url, num_classes=10):\n",
        "  feature_extractor_layer = hub.KerasLayer(\n",
        "      model_url, \n",
        "      trainable=False,\n",
        "      name=\"feature_extraction_layer\",\n",
        "      input_shape=IMAGE_SHAPE+(3,)\n",
        "      )\n",
        "  \n",
        "  model = tf.keras.Sequential([\n",
        "    feature_extractor_layer,\n",
        "    layers.Dense(num_classes, activation=\"softmax\", name=\"output_layer\")\n",
        "  ])\n",
        "\n",
        "  return model"
      ],
      "metadata": {
        "id": "xZSZuxnuZWOq"
      },
      "execution_count": null,
      "outputs": []
    },
    {
      "cell_type": "code",
      "source": [
        "resnet_model = create_model(res_net)"
      ],
      "metadata": {
        "id": "e2wSqmVlaSA9"
      },
      "execution_count": null,
      "outputs": []
    },
    {
      "cell_type": "code",
      "source": [
        "resnet_model.compile(\n",
        "    loss=\"categorical_crossentropy\",\n",
        "    optimizer=tf.keras.optimizers.Adam(),\n",
        "    metrics=[\"accuracy\"]\n",
        ")"
      ],
      "metadata": {
        "id": "zRoxgpuGbV8x"
      },
      "execution_count": null,
      "outputs": []
    },
    {
      "cell_type": "code",
      "source": [
        "history_1 = resnet_model.fit(\n",
        "    train_data_10_percent, \n",
        "    epochs=5,\n",
        "    steps_per_epoch=len(train_data_10_percent),\n",
        "    validation_data=test_data_10_percent,\n",
        "    validation_steps=len(test_data_10_percent),\n",
        "    callbacks=[create_tensorboard_callback(\"tensorflow_hub\", \"resnet50v2\")]\n",
        "    )"
      ],
      "metadata": {
        "colab": {
          "base_uri": "https://localhost:8080/"
        },
        "id": "OwhCpuzLbfZO",
        "outputId": "21f6cf50-7cbf-46cf-e0ed-4312ca439b11"
      },
      "execution_count": null,
      "outputs": [
        {
          "output_type": "stream",
          "name": "stdout",
          "text": [
            "Epoch 1/5\n",
            "24/24 [==============================] - 26s 1s/step - loss: 0.3385 - accuracy: 0.9347 - val_loss: 0.6464 - val_accuracy: 0.7880\n",
            "Epoch 2/5\n",
            "24/24 [==============================] - 24s 1s/step - loss: 0.2822 - accuracy: 0.9507 - val_loss: 0.6469 - val_accuracy: 0.7884\n",
            "Epoch 3/5\n",
            "24/24 [==============================] - 16s 678ms/step - loss: 0.2375 - accuracy: 0.9587 - val_loss: 0.6399 - val_accuracy: 0.7916\n",
            "Epoch 4/5\n",
            "24/24 [==============================] - 16s 670ms/step - loss: 0.2030 - accuracy: 0.9733 - val_loss: 0.6247 - val_accuracy: 0.7904\n",
            "Epoch 5/5\n",
            "24/24 [==============================] - 25s 1s/step - loss: 0.1774 - accuracy: 0.9813 - val_loss: 0.6288 - val_accuracy: 0.7912\n"
          ]
        }
      ]
    },
    {
      "cell_type": "code",
      "source": [
        "import pandas as pd\n",
        "pd.DataFrame(history_1.history).plot()"
      ],
      "metadata": {
        "colab": {
          "base_uri": "https://localhost:8080/",
          "height": 282
        },
        "id": "Zf01iCtYiE4_",
        "outputId": "d3a62290-f588-4849-d834-9da065299354"
      },
      "execution_count": null,
      "outputs": [
        {
          "output_type": "execute_result",
          "data": {
            "text/plain": [
              "<matplotlib.axes._subplots.AxesSubplot at 0x7fce94300890>"
            ]
          },
          "metadata": {},
          "execution_count": 32
        },
        {
          "output_type": "display_data",
          "data": {
            "text/plain": [
              "<Figure size 432x288 with 1 Axes>"
            ],
            "image/png": "[encoded data removed]"
          },
          "metadata": {
            "needs_background": "light"
          }
        }
      ]
    },
    {
      "cell_type": "code",
      "source": [
        "efficientnet_model = create_model(efficient_net)\n",
        "\n",
        "efficientnet_model.compile(\n",
        "    loss=\"categorical_crossentropy\",\n",
        "    optimizer=tf.keras.optimizers.Adam(),\n",
        "    metrics=[\"accuracy\"]\n",
        ")\n",
        "\n",
        "history_2 = efficientnet_model.fit(\n",
        "    train_data_10_percent, \n",
        "    epochs=5,\n",
        "    steps_per_epoch=len(train_data_10_percent),\n",
        "    validation_data=test_data_10_percent,\n",
        "    validation_steps=len(test_data_10_percent),\n",
        "    callbacks=[create_tensorboard_callback(\"tensorflow_hub\", \"efficientnet\")]\n",
        "    )"
      ],
      "metadata": {
        "colab": {
          "base_uri": "https://localhost:8080/"
        },
        "id": "5UI3ASWdiv3W",
        "outputId": "0c3df7aa-fd2b-4f82-b67e-5988ea2cd2f5"
      },
      "execution_count": null,
      "outputs": [
        {
          "output_type": "stream",
          "name": "stdout",
          "text": [
            "Epoch 1/5\n",
            "24/24 [==============================] - 26s 744ms/step - loss: 1.7996 - accuracy: 0.4613 - val_loss: 1.2751 - val_accuracy: 0.7224\n",
            "Epoch 2/5\n",
            "24/24 [==============================] - 15s 648ms/step - loss: 1.0271 - accuracy: 0.7853 - val_loss: 0.8601 - val_accuracy: 0.8100\n",
            "Epoch 3/5\n",
            "24/24 [==============================] - 15s 644ms/step - loss: 0.7380 - accuracy: 0.8347 - val_loss: 0.6930 - val_accuracy: 0.8372\n",
            "Epoch 4/5\n",
            "24/24 [==============================] - 15s 646ms/step - loss: 0.5925 - accuracy: 0.8653 - val_loss: 0.6093 - val_accuracy: 0.8476\n",
            "Epoch 5/5\n",
            "24/24 [==============================] - 15s 648ms/step - loss: 0.5000 - accuracy: 0.8893 - val_loss: 0.5595 - val_accuracy: 0.8536\n"
          ]
        }
      ]
    },
    {
      "cell_type": "code",
      "source": [
        "pd.DataFrame(history_2.history).plot()"
      ],
      "metadata": {
        "colab": {
          "base_uri": "https://localhost:8080/",
          "height": 282
        },
        "id": "BU19Z_BskjAg",
        "outputId": "2f3c2f5f-c116-4e88-ae1f-5b4a73f2ecce"
      },
      "execution_count": null,
      "outputs": [
        {
          "output_type": "execute_result",
          "data": {
            "text/plain": [
              "<matplotlib.axes._subplots.AxesSubplot at 0x7fcc179715d0>"
            ]
          },
          "metadata": {},
          "execution_count": 39
        },
        {
          "output_type": "display_data",
          "data": {
            "text/plain": [
              "<Figure size 432x288 with 1 Axes>"
            ],
            "image/png": "[encoded data removed]"
          },
          "metadata": {
            "needs_background": "light"
          }
        }
      ]
    }
  ]
}