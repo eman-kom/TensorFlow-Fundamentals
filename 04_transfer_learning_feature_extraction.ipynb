{
  "nbformat": 4,
  "nbformat_minor": 0,
  "metadata": {
    "colab": {
      "name": "04_transfer_learning_feature_extraction.ipynb",
      "provenance": [],
      "authorship_tag": "ABX9TyNv6mbKa2zrIRKEJkgYFoJ7",
      "include_colab_link": true
    },
    "kernelspec": {
      "name": "python3",
      "display_name": "Python 3"
    },
    "language_info": {
      "name": "python"
    },
    "accelerator": "GPU"
  },
  "cells": [
    {
      "cell_type": "markdown",
      "metadata": {
        "id": "view-in-github",
        "colab_type": "text"
      },
      "source": [
        "<a href=\"https://colab.research.google.com/github/eman-kom/tensorflow-fundamentals/blob/main/04_transfer_learning_feature_extraction.ipynb\" target=\"_parent\"><img src=\"https://colab.research.google.com/assets/colab-badge.svg\" alt=\"Open In Colab\"/></a>"
      ]
    },
    {
      "cell_type": "code",
      "execution_count": 1,
      "metadata": {
        "colab": {
          "base_uri": "https://localhost:8080/"
        },
        "id": "-t-VUxDuOfdA",
        "outputId": "d2086b7c-bc54-4f69-f9ad-e814988e2f11"
      },
      "outputs": [
        {
          "output_type": "stream",
          "name": "stdout",
          "text": [
            "Sat Jun  4 15:34:22 2022       \n",
            "+-----------------------------------------------------------------------------+\n",
            "| NVIDIA-SMI 460.32.03    Driver Version: 460.32.03    CUDA Version: 11.2     |\n",
            "|-------------------------------+----------------------+----------------------+\n",
            "| GPU  Name        Persistence-M| Bus-Id        Disp.A | Volatile Uncorr. ECC |\n",
            "| Fan  Temp  Perf  Pwr:Usage/Cap|         Memory-Usage | GPU-Util  Compute M. |\n",
            "|                               |                      |               MIG M. |\n",
            "|===============================+======================+======================|\n",
            "|   0  Tesla T4            Off  | 00000000:00:04.0 Off |                    0 |\n",
            "| N/A   44C    P8     9W /  70W |      0MiB / 15109MiB |      0%      Default |\n",
            "|                               |                      |                  N/A |\n",
            "+-------------------------------+----------------------+----------------------+\n",
            "                                                                               \n",
            "+-----------------------------------------------------------------------------+\n",
            "| Processes:                                                                  |\n",
            "|  GPU   GI   CI        PID   Type   Process name                  GPU Memory |\n",
            "|        ID   ID                                                   Usage      |\n",
            "|=============================================================================|\n",
            "|  No running processes found                                                 |\n",
            "+-----------------------------------------------------------------------------+\n"
          ]
        }
      ],
      "source": [
        "!nvidia-smi"
      ]
    },
    {
      "cell_type": "code",
      "source": [
        "import zipfile\n",
        "!wget https://storage.googleapis.com/ztm_tf_course/food_vision/10_food_classes_10_percent.zip\n",
        "zip_ref = zipfile.ZipFile(\"10_food_classes_10_percent.zip\")\n",
        "zip_ref.extractall()\n",
        "zip_ref.close()"
      ],
      "metadata": {
        "colab": {
          "base_uri": "https://localhost:8080/"
        },
        "id": "x36Bc-D7Ph9Z",
        "outputId": "78c344f0-7225-4941-ca1d-5e4478886ded"
      },
      "execution_count": 2,
      "outputs": [
        {
          "output_type": "stream",
          "name": "stdout",
          "text": [
            "--2022-06-04 15:34:22--  https://storage.googleapis.com/ztm_tf_course/food_vision/10_food_classes_10_percent.zip\n",
            "Resolving storage.googleapis.com (storage.googleapis.com)... 64.233.191.128, 173.194.74.128, 173.194.192.128, ...\n",
            "Connecting to storage.googleapis.com (storage.googleapis.com)|64.233.191.128|:443... connected.\n",
            "HTTP request sent, awaiting response... 200 OK\n",
            "Length: 168546183 (161M) [application/zip]\n",
            "Saving to: ‘10_food_classes_10_percent.zip’\n",
            "\n",
            "10_food_classes_10_ 100%[===================>] 160.74M   129MB/s    in 1.2s    \n",
            "\n",
            "2022-06-04 15:34:23 (129 MB/s) - ‘10_food_classes_10_percent.zip’ saved [168546183/168546183]\n",
            "\n"
          ]
        }
      ]
    },
    {
      "cell_type": "code",
      "source": [
        "import os\n",
        "\n",
        "for dirpath, dirnames, filenames in os.walk(\"10_food_classes_10_percent\"):\n",
        "  print(len(dirnames), \"directories\\t\", len(filenames), \"images\\t\", dirpath)"
      ],
      "metadata": {
        "colab": {
          "base_uri": "https://localhost:8080/"
        },
        "id": "ExxNyaleP4zg",
        "outputId": "1a33f0bc-fefe-4909-ae12-e25b154e9796"
      },
      "execution_count": 3,
      "outputs": [
        {
          "output_type": "stream",
          "name": "stdout",
          "text": [
            "2 directories\t 0 images\t 10_food_classes_10_percent\n",
            "10 directories\t 0 images\t 10_food_classes_10_percent/train\n",
            "0 directories\t 75 images\t 10_food_classes_10_percent/train/chicken_curry\n",
            "0 directories\t 75 images\t 10_food_classes_10_percent/train/steak\n",
            "0 directories\t 75 images\t 10_food_classes_10_percent/train/sushi\n",
            "0 directories\t 75 images\t 10_food_classes_10_percent/train/fried_rice\n",
            "0 directories\t 75 images\t 10_food_classes_10_percent/train/ice_cream\n",
            "0 directories\t 75 images\t 10_food_classes_10_percent/train/hamburger\n",
            "0 directories\t 75 images\t 10_food_classes_10_percent/train/chicken_wings\n",
            "0 directories\t 75 images\t 10_food_classes_10_percent/train/ramen\n",
            "0 directories\t 75 images\t 10_food_classes_10_percent/train/pizza\n",
            "0 directories\t 75 images\t 10_food_classes_10_percent/train/grilled_salmon\n",
            "10 directories\t 0 images\t 10_food_classes_10_percent/test\n",
            "0 directories\t 250 images\t 10_food_classes_10_percent/test/chicken_curry\n",
            "0 directories\t 250 images\t 10_food_classes_10_percent/test/steak\n",
            "0 directories\t 250 images\t 10_food_classes_10_percent/test/sushi\n",
            "0 directories\t 250 images\t 10_food_classes_10_percent/test/fried_rice\n",
            "0 directories\t 250 images\t 10_food_classes_10_percent/test/ice_cream\n",
            "0 directories\t 250 images\t 10_food_classes_10_percent/test/hamburger\n",
            "0 directories\t 250 images\t 10_food_classes_10_percent/test/chicken_wings\n",
            "0 directories\t 250 images\t 10_food_classes_10_percent/test/ramen\n",
            "0 directories\t 250 images\t 10_food_classes_10_percent/test/pizza\n",
            "0 directories\t 250 images\t 10_food_classes_10_percent/test/grilled_salmon\n"
          ]
        }
      ]
    },
    {
      "cell_type": "code",
      "source": [
        "from tensorflow.keras.preprocessing.image import ImageDataGenerator\n",
        "\n",
        "IMAGE_SHAPE = (224, 224)\n",
        "BATCH_SIZE = 32\n",
        "\n",
        "train_dir = \"10_food_classes_10_percent/train/\"\n",
        "test_dir = \"10_food_classes_10_percent/test/\"\n",
        "\n",
        "train_datagen = ImageDataGenerator(rescale=1/255.)\n",
        "test_datagen = ImageDataGenerator(rescale=1/255.)\n",
        "\n",
        "train_data_10_percent = train_datagen.flow_from_directory(\n",
        "    train_dir,\n",
        "    target_size=IMAGE_SHAPE,\n",
        "    batch_size=BATCH_SIZE,\n",
        "    class_mode=\"categorical\"\n",
        ")\n",
        "\n",
        "test_data_10_percent = test_datagen.flow_from_directory(\n",
        "    test_dir,\n",
        "    target_size=IMAGE_SHAPE,\n",
        "    batch_size=BATCH_SIZE,\n",
        "    class_mode=\"categorical\"\n",
        ")"
      ],
      "metadata": {
        "colab": {
          "base_uri": "https://localhost:8080/"
        },
        "id": "c3-MaTn6QR2g",
        "outputId": "f6eda785-b73d-41ce-d4a7-705188a98d53"
      },
      "execution_count": 4,
      "outputs": [
        {
          "output_type": "stream",
          "name": "stdout",
          "text": [
            "Found 750 images belonging to 10 classes.\n",
            "Found 2500 images belonging to 10 classes.\n"
          ]
        }
      ]
    },
    {
      "cell_type": "code",
      "source": [
        "import datetime\n",
        "\n",
        "def create_tensorboard_callback(dir_name, experiment_name):\n",
        "  log_dir = dir_name + '/' + experiment_name + '/' + datetime.datetime.now().strftime('%Y%m%d-%H%M%S')\n",
        "  tensorboard_callback = tf.keras.callbacks.TensorBoard(log_dir)\n",
        "  return tensorboard_callback"
      ],
      "metadata": {
        "id": "CUkiFfeARNBX"
      },
      "execution_count": 5,
      "outputs": []
    },
    {
      "cell_type": "code",
      "source": [
        "res_net = \"https://tfhub.dev/google/imagenet/resnet_v2_50/feature_vector/4\"\n",
        "efficient_net = \"https://tfhub.dev/tensorflow/efficientnet/b0/feature-vector/1\""
      ],
      "metadata": {
        "id": "YhZAi8sFY0_8"
      },
      "execution_count": 6,
      "outputs": []
    },
    {
      "cell_type": "code",
      "source": [
        "import tensorflow as tf\n",
        "import tensorflow_hub as hub\n",
        "from tensorflow.keras import layers"
      ],
      "metadata": {
        "id": "HDoeFPUFZNBN"
      },
      "execution_count": 7,
      "outputs": []
    },
    {
      "cell_type": "code",
      "source": [
        "def create_model(model_url, num_classes=10):\n",
        "  feature_extractor_layer = hub.KerasLayer(\n",
        "      model_url, \n",
        "      trainable=False,\n",
        "      name=\"feature_extraction_layer\",\n",
        "      input_shape=IMAGE_SHAPE+(3,)\n",
        "      )\n",
        "  \n",
        "  model = tf.keras.Sequential([\n",
        "    feature_extractor_layer,\n",
        "    layers.Dense(num_classes, activation=\"softmax\", name=\"output_layer\")\n",
        "  ])\n",
        "\n",
        "  return model"
      ],
      "metadata": {
        "id": "xZSZuxnuZWOq"
      },
      "execution_count": 8,
      "outputs": []
    },
    {
      "cell_type": "code",
      "source": [
        "resnet_model = create_model(res_net)"
      ],
      "metadata": {
        "id": "e2wSqmVlaSA9"
      },
      "execution_count": 9,
      "outputs": []
    },
    {
      "cell_type": "code",
      "source": [
        "resnet_model.compile(\n",
        "    loss=\"categorical_crossentropy\",\n",
        "    optimizer=tf.keras.optimizers.Adam(),\n",
        "    metrics=[\"accuracy\"]\n",
        ")"
      ],
      "metadata": {
        "id": "zRoxgpuGbV8x"
      },
      "execution_count": 10,
      "outputs": []
    },
    {
      "cell_type": "code",
      "source": [
        "history_1 = resnet_model.fit(\n",
        "    train_data_10_percent, \n",
        "    epochs=5,\n",
        "    steps_per_epoch=len(train_data_10_percent),\n",
        "    validation_data=test_data_10_percent,\n",
        "    validation_steps=len(test_data_10_percent),\n",
        "    callbacks=[create_tensorboard_callback(\"tensorflow_hub\", \"resnet50v2\")]\n",
        "    )"
      ],
      "metadata": {
        "colab": {
          "base_uri": "https://localhost:8080/"
        },
        "id": "OwhCpuzLbfZO",
        "outputId": "f21dde4c-f2f7-4052-f77e-67da196fcd5e"
      },
      "execution_count": 11,
      "outputs": [
        {
          "output_type": "stream",
          "name": "stdout",
          "text": [
            "Epoch 1/5\n",
            "24/24 [==============================] - 32s 755ms/step - loss: 1.9265 - accuracy: 0.3667 - val_loss: 1.2015 - val_accuracy: 0.6300\n",
            "Epoch 2/5\n",
            "24/24 [==============================] - 17s 715ms/step - loss: 0.9225 - accuracy: 0.7267 - val_loss: 0.8251 - val_accuracy: 0.7448\n",
            "Epoch 3/5\n",
            "24/24 [==============================] - 19s 800ms/step - loss: 0.6200 - accuracy: 0.8200 - val_loss: 0.7597 - val_accuracy: 0.7508\n",
            "Epoch 4/5\n",
            "24/24 [==============================] - 25s 1s/step - loss: 0.4831 - accuracy: 0.8733 - val_loss: 0.6967 - val_accuracy: 0.7768\n",
            "Epoch 5/5\n",
            "24/24 [==============================] - 17s 721ms/step - loss: 0.3859 - accuracy: 0.9213 - val_loss: 0.6809 - val_accuracy: 0.7840\n"
          ]
        }
      ]
    },
    {
      "cell_type": "code",
      "source": [
        "import pandas as pd\n",
        "pd.DataFrame(history_1.history).plot()"
      ],
      "metadata": {
        "colab": {
          "base_uri": "https://localhost:8080/",
          "height": 286
        },
        "id": "Zf01iCtYiE4_",
        "outputId": "f21391ef-881d-498e-b7d4-c4e98cf25d49"
      },
      "execution_count": 12,
      "outputs": [
        {
          "output_type": "execute_result",
          "data": {
            "text/plain": [
              "<matplotlib.axes._subplots.AxesSubplot at 0x7f3ca4bb1790>"
            ]
          },
          "metadata": {},
          "execution_count": 12
        },
        {
          "output_type": "display_data",
          "data": {
            "text/plain": [
              "<Figure size 432x288 with 1 Axes>"
            ],
            "image/png": "[encoded data removed]"
          },
          "metadata": {
            "needs_background": "light"
          }
        }
      ]
    },
    {
      "cell_type": "code",
      "source": [
        "efficientnet_model = create_model(efficient_net)\n",
        "\n",
        "efficientnet_model.compile(\n",
        "    loss=\"categorical_crossentropy\",\n",
        "    optimizer=tf.keras.optimizers.Adam(),\n",
        "    metrics=[\"accuracy\"]\n",
        ")\n",
        "\n",
        "history_2 = efficientnet_model.fit(\n",
        "    train_data_10_percent, \n",
        "    epochs=5,\n",
        "    steps_per_epoch=len(train_data_10_percent),\n",
        "    validation_data=test_data_10_percent,\n",
        "    validation_steps=len(test_data_10_percent),\n",
        "    callbacks=[create_tensorboard_callback(\"tensorflow_hub\", \"efficientnet\")]\n",
        "    )"
      ],
      "metadata": {
        "colab": {
          "base_uri": "https://localhost:8080/"
        },
        "id": "5UI3ASWdiv3W",
        "outputId": "60dd1365-6c73-4d08-d2d7-7d3e0be9f247"
      },
      "execution_count": 13,
      "outputs": [
        {
          "output_type": "stream",
          "name": "stdout",
          "text": [
            "Epoch 1/5\n",
            "24/24 [==============================] - 26s 723ms/step - loss: 1.9189 - accuracy: 0.4000 - val_loss: 1.3531 - val_accuracy: 0.7012\n",
            "Epoch 2/5\n",
            "24/24 [==============================] - 15s 657ms/step - loss: 1.1069 - accuracy: 0.7467 - val_loss: 0.8949 - val_accuracy: 0.8120\n",
            "Epoch 3/5\n",
            "24/24 [==============================] - 15s 655ms/step - loss: 0.7830 - accuracy: 0.8200 - val_loss: 0.7167 - val_accuracy: 0.8372\n",
            "Epoch 4/5\n",
            "24/24 [==============================] - 15s 662ms/step - loss: 0.6243 - accuracy: 0.8560 - val_loss: 0.6204 - val_accuracy: 0.8552\n",
            "Epoch 5/5\n",
            "24/24 [==============================] - 16s 675ms/step - loss: 0.5266 - accuracy: 0.8840 - val_loss: 0.5626 - val_accuracy: 0.8620\n"
          ]
        }
      ]
    },
    {
      "cell_type": "code",
      "source": [
        "pd.DataFrame(history_2.history).plot()"
      ],
      "metadata": {
        "colab": {
          "base_uri": "https://localhost:8080/",
          "height": 282
        },
        "id": "BU19Z_BskjAg",
        "outputId": "4e928def-de49-40f8-8a22-1b0b6e0166a9"
      },
      "execution_count": 14,
      "outputs": [
        {
          "output_type": "execute_result",
          "data": {
            "text/plain": [
              "<matplotlib.axes._subplots.AxesSubplot at 0x7f3a17808690>"
            ]
          },
          "metadata": {},
          "execution_count": 14
        },
        {
          "output_type": "display_data",
          "data": {
            "text/plain": [
              "<Figure size 432x288 with 1 Axes>"
            ],
            "image/png": "[encoded data removed]"
          },
          "metadata": {
            "needs_background": "light"
          }
        }
      ]
    },
    {
      "cell_type": "code",
      "source": [
        "!tensorboard dev upload --logdir ./tensor_hub/ \\\n",
        "--name \"EfficientNetB0 vs ResNest50v2\" \\\n",
        "--description \"comparison between models\" \\\n",
        "--one_shot"
      ],
      "metadata": {
        "colab": {
          "base_uri": "https://localhost:8080/"
        },
        "id": "BT3ksErYWmNt",
        "outputId": "8b7495a2-ecb1-4e50-ea34-dcf4441afa3c"
      },
      "execution_count": null,
      "outputs": [
        {
          "output_type": "stream",
          "name": "stdout",
          "text": [
            "\n",
            "***** TensorBoard Uploader *****\n",
            "\n",
            "This will upload your TensorBoard logs to https://tensorboard.dev/ from\n",
            "the following directory:\n",
            "\n",
            "./tensor_hub/\n",
            "\n",
            "This TensorBoard will be visible to everyone. Do not upload sensitive\n",
            "data.\n",
            "\n",
            "Your use of this service is subject to Google's Terms of Service\n",
            "<https://policies.google.com/terms> and Privacy Policy\n",
            "<https://policies.google.com/privacy>, and TensorBoard.dev's Terms of Service\n",
            "<https://tensorboard.dev/policy/terms/>.\n",
            "\n",
            "This notice will not be shown again while you are logged into the uploader.\n",
            "To log out, run `tensorboard dev auth revoke`.\n",
            "\n",
            "Continue? (yes/NO) "
          ]
        }
      ]
    }
  ]
}